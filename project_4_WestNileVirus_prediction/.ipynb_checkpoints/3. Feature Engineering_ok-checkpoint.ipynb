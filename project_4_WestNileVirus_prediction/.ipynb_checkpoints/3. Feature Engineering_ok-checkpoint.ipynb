{
 "cells": [
  {
   "cell_type": "markdown",
   "id": "1bdc354b-1c88-4194-bcd8-eff61bc7931e",
   "metadata": {
    "cell_id": "00000-6984d6d4-91a0-44b2-b048-48ab8a8cd84b",
    "deepnote_cell_type": "markdown",
    "tags": []
   },
   "source": [
    "# Project 4: West Nile Virus Prediction"
   ]
  },
  {
   "cell_type": "markdown",
   "id": "cd677788-f78c-4e6c-ae2d-e7d2bb065b0b",
   "metadata": {},
   "source": [
    "Notebook 3 of 4"
   ]
  },
  {
   "cell_type": "markdown",
   "id": "7057fd9d-4bc3-405b-afdf-386a548281a5",
   "metadata": {
    "cell_id": "00000-d90f31cb-5d39-4236-8284-83c69c13f352",
    "deepnote_cell_type": "markdown",
    "output_cleared": false,
    "tags": []
   },
   "source": [
    "# Feature Engineering"
   ]
  },
  {
   "cell_type": "code",
   "execution_count": 1,
   "id": "3defc520-1d14-4ebd-8839-8b459b508541",
   "metadata": {
    "cell_id": "00000-309173dd-5d4e-4343-8435-f85d344d44d9",
    "deepnote_cell_type": "code",
    "execution_millis": 599,
    "execution_start": 1607930998882,
    "output_cleared": false,
    "source_hash": "6d4aaf83",
    "tags": []
   },
   "outputs": [],
   "source": [
    "# Import libraries\n",
    "import pandas as pd\n",
    "import numpy as np\n",
    "import matplotlib.pyplot as plt\n",
    "import seaborn as sns\n",
    "import math\n",
    "import datetime\n",
    "\n",
    "from sklearn.preprocessing import PolynomialFeatures\n",
    "from sklearn.preprocessing import StandardScaler\n",
    "pd.set_option('display.max_rows', None)\n",
    "pd.set_option('display.max_columns', None)"
   ]
  },
  {
   "cell_type": "code",
   "execution_count": 2,
   "id": "1b0908c4-2b08-4fd5-9b85-1ea61a3c200c",
   "metadata": {
    "cell_id": "00002-50af7143-6a81-4308-b649-61433bdac4f7",
    "deepnote_cell_type": "code"
   },
   "outputs": [],
   "source": [
    "# Import datasets\n",
    "train = pd.read_csv('./datasets/cleaned_train.csv')\n",
    "test = pd.read_csv('./datasets/cleaned_test.csv')\n",
    "spray = pd.read_csv('./datasets/cleaned_spray.csv')\n",
    "weather = pd.read_csv('./datasets/cleaned_weather.csv')"
   ]
  },
  {
   "cell_type": "markdown",
   "id": "1e4f1656-30dd-4124-81e1-feb45c86bd11",
   "metadata": {
    "cell_id": "00003-ee0f1f07-d61d-4a67-a559-c0ea1fe5e486",
    "deepnote_cell_type": "markdown"
   },
   "source": [
    "We've observed that our features generally have a pretty low correlation to `WnvPresent`, the strongest feature is `NumMosquitos` with a correlation of 0.2. [CDC](https://www.cdc.gov/westnile/resourcepages/mosqSurvSoft.html#:~:text=The%20simplest%20estimate%2C%20the%20minimum,goals%20of%20the%20surveillance%20program) defined the simplest and traditional estimate <b>Minimum Infection Rate (MIR)</b> which assumed that a positive pool contains only one infected mosquito (an assumption that may be invalid):\n",
    "\n",
    "$$ \\text{MIR} = 1000 * {\\text{number of positive pools} \\over \\text{total number of mosquitos in pools tested}} $$\n",
    "\n",
    "CDC has developed easy-to-use programs for calculating virus infection rate (IR) estimates from mosquito pool data using methods that do not require the assumption used in the MIR calculation.\n",
    "\n",
    "$$ \\text{IR} = {\\text{number of infected mosquitos} \\over 1000} $$\n",
    "\n",
    "CDC encourages to incorporate virus infection rate (IR) into their mosquito-based evaluation of local virus activity patterns. At the county level or below, weekly tracking of mosquito IR can provide important predictive indicators of transmission activity levels associated with elevated human risk.\n",
    "\n",
    "Unfortunately, our test data doesn't have the information we need to make this a usable feature. We discussed estimating the number of mosquitos based on total rows in the test set, but we ultimately decided that this was a slightly [<i>'hackish'</i> solution](https://www.kaggle.com/c/predict-west-nile-virus/discussion/14790). We'll drop NumMosquitos moving forward."
   ]
  },
  {
   "cell_type": "code",
   "execution_count": 3,
   "id": "cf9accf8-a331-488d-b283-605b6b815bb7",
   "metadata": {
    "cell_id": "00004-43c6c842-bff4-4ed5-a36f-876b721c6806",
    "deepnote_cell_type": "code"
   },
   "outputs": [],
   "source": [
    "# Dropping NumMosquitos as it isn't present within test data\n",
    "train = train.drop(columns='NumMosquitos')"
   ]
  },
  {
   "cell_type": "markdown",
   "id": "065f80fe-fdf9-4dbd-91d6-19ed71d20df3",
   "metadata": {
    "cell_id": "00005-df400112-3f43-4a2f-b7c2-805541e86c7e",
    "deepnote_cell_type": "markdown"
   },
   "source": [
    "Our remaining features can be categorised as a mixture of \n",
    "1. time, \n",
    "2. weather (e.g. Temperature, Precipitation), \n",
    "3. location variables. \n",
    "\n",
    "Each of these variables has a low correlation of absolute 0.1 or less to our target. While we certainly could just go ahead with these features and jump straight into predictive modelling, a much better approach in the form of feature engineering is available. Without engineering, our models consistenly scored an AUC-ROC of approximately 0.5.\n",
    "\n",
    "In this section, we'll look to <b>decompose and split our features</b>, as well as carry out <b>data enrichment</b> in the form of historical temperature records from the [National Weather Service](weather.gov). We'll also carry out a bit of polynomial feature engineering, to try and create features with a higher correlation to our target. "
   ]
  },
  {
   "cell_type": "markdown",
   "id": "5ae77478-afdc-44c4-987b-9ac4ded85fd0",
   "metadata": {
    "cell_id": "00006-d04f7610-4de5-4e17-9cf9-01d4662d9b89",
    "deepnote_cell_type": "markdown"
   },
   "source": [
    "### Preparation for Engineering"
   ]
  },
  {
   "cell_type": "code",
   "execution_count": 4,
   "id": "8e28933e-f32a-4acf-a85e-0d6f2866e694",
   "metadata": {
    "cell_id": "00007-e7954263-c99a-4fb8-bf7b-854fd91d6432",
    "deepnote_cell_type": "code"
   },
   "outputs": [],
   "source": [
    "# Convert to datetime object\n",
    "weather['Date'] = pd.to_datetime(weather['Date'])\n",
    "train['Date'] = pd.to_datetime(train['Date'])"
   ]
  },
  {
   "cell_type": "code",
   "execution_count": 5,
   "id": "16db3060-a675-4975-b04f-0e289a218af3",
   "metadata": {
    "cell_id": "00008-f9200b0f-7ed8-407b-afba-ba50f34dd013",
    "deepnote_cell_type": "code"
   },
   "outputs": [],
   "source": [
    "# This gives me a more precise means of accessing certain weeks in a specific year\n",
    "def year_week(row):\n",
    "    week = row['Week']\n",
    "    year = row['Year']\n",
    "    row['YearWeek'] = f'{year}{week}'\n",
    "    row['YearWeek'] = int(row['YearWeek'])\n",
    "    return row"
   ]
  },
  {
   "cell_type": "code",
   "execution_count": 6,
   "id": "c3a280fc-c325-4c12-9d99-cf5fdcb6acba",
   "metadata": {
    "cell_id": "00009-a3101429-70da-4237-a27a-750c9c171351",
    "deepnote_cell_type": "code"
   },
   "outputs": [],
   "source": [
    "train = train.apply(year_week, axis=1)\n",
    "weather = weather.apply(year_week, axis=1)"
   ]
  },
  {
   "cell_type": "code",
   "execution_count": 7,
   "id": "fd0a704b-a378-4dd4-9790-4a85c0e207a1",
   "metadata": {},
   "outputs": [
    {
     "data": {
      "text/html": [
       "<div>\n",
       "<style scoped>\n",
       "    .dataframe tbody tr th:only-of-type {\n",
       "        vertical-align: middle;\n",
       "    }\n",
       "\n",
       "    .dataframe tbody tr th {\n",
       "        vertical-align: top;\n",
       "    }\n",
       "\n",
       "    .dataframe thead th {\n",
       "        text-align: right;\n",
       "    }\n",
       "</style>\n",
       "<table border=\"1\" class=\"dataframe\">\n",
       "  <thead>\n",
       "    <tr style=\"text-align: right;\">\n",
       "      <th></th>\n",
       "      <th>Date</th>\n",
       "      <th>Address</th>\n",
       "      <th>Species</th>\n",
       "      <th>Block</th>\n",
       "      <th>Street</th>\n",
       "      <th>Trap</th>\n",
       "      <th>AddressNumberAndStreet</th>\n",
       "      <th>Latitude</th>\n",
       "      <th>Longitude</th>\n",
       "      <th>AddressAccuracy</th>\n",
       "      <th>Year</th>\n",
       "      <th>Month</th>\n",
       "      <th>Week</th>\n",
       "      <th>DayOfWeek</th>\n",
       "      <th>WnvPresent</th>\n",
       "      <th>LatLong</th>\n",
       "      <th>Coordinate</th>\n",
       "      <th>Nearest_station</th>\n",
       "      <th>YearWeek</th>\n",
       "    </tr>\n",
       "  </thead>\n",
       "  <tbody>\n",
       "    <tr>\n",
       "      <th>0</th>\n",
       "      <td>2007-05-29</td>\n",
       "      <td>1100 Roosevelt Road, Chicago, IL 60608, USA</td>\n",
       "      <td>CULEX PIPIENS/RESTUANS</td>\n",
       "      <td>11</td>\n",
       "      <td>W ROOSEVELT</td>\n",
       "      <td>T048</td>\n",
       "      <td>1100  W ROOSEVELT, Chicago, IL</td>\n",
       "      <td>41.867108</td>\n",
       "      <td>-87.654224</td>\n",
       "      <td>8</td>\n",
       "      <td>2007</td>\n",
       "      <td>5</td>\n",
       "      <td>22</td>\n",
       "      <td>1</td>\n",
       "      <td>0</td>\n",
       "      <td>(41.867108, -87.654224)</td>\n",
       "      <td>POINT (41.867108 -87.654224)</td>\n",
       "      <td>2</td>\n",
       "      <td>200722</td>\n",
       "    </tr>\n",
       "    <tr>\n",
       "      <th>1</th>\n",
       "      <td>2007-05-29</td>\n",
       "      <td>1100 Roosevelt Road, Chicago, IL 60608, USA</td>\n",
       "      <td>CULEX RESTUANS</td>\n",
       "      <td>11</td>\n",
       "      <td>W ROOSEVELT</td>\n",
       "      <td>T048</td>\n",
       "      <td>1100  W ROOSEVELT, Chicago, IL</td>\n",
       "      <td>41.867108</td>\n",
       "      <td>-87.654224</td>\n",
       "      <td>8</td>\n",
       "      <td>2007</td>\n",
       "      <td>5</td>\n",
       "      <td>22</td>\n",
       "      <td>1</td>\n",
       "      <td>0</td>\n",
       "      <td>(41.867108, -87.654224)</td>\n",
       "      <td>POINT (41.867108 -87.654224)</td>\n",
       "      <td>2</td>\n",
       "      <td>200722</td>\n",
       "    </tr>\n",
       "    <tr>\n",
       "      <th>2</th>\n",
       "      <td>2007-05-29</td>\n",
       "      <td>1100 South Peoria Street, Chicago, IL 60608, USA</td>\n",
       "      <td>CULEX RESTUANS</td>\n",
       "      <td>11</td>\n",
       "      <td>S PEORIA ST</td>\n",
       "      <td>T091</td>\n",
       "      <td>1100  S PEORIA ST, Chicago, IL</td>\n",
       "      <td>41.862292</td>\n",
       "      <td>-87.648860</td>\n",
       "      <td>8</td>\n",
       "      <td>2007</td>\n",
       "      <td>5</td>\n",
       "      <td>22</td>\n",
       "      <td>1</td>\n",
       "      <td>0</td>\n",
       "      <td>(41.862292, -87.64886)</td>\n",
       "      <td>POINT (41.862292 -87.64886)</td>\n",
       "      <td>2</td>\n",
       "      <td>200722</td>\n",
       "    </tr>\n",
       "  </tbody>\n",
       "</table>\n",
       "</div>"
      ],
      "text/plain": [
       "        Date                                           Address  \\\n",
       "0 2007-05-29       1100 Roosevelt Road, Chicago, IL 60608, USA   \n",
       "1 2007-05-29       1100 Roosevelt Road, Chicago, IL 60608, USA   \n",
       "2 2007-05-29  1100 South Peoria Street, Chicago, IL 60608, USA   \n",
       "\n",
       "                  Species  Block        Street  Trap  \\\n",
       "0  CULEX PIPIENS/RESTUANS     11   W ROOSEVELT  T048   \n",
       "1          CULEX RESTUANS     11   W ROOSEVELT  T048   \n",
       "2          CULEX RESTUANS     11   S PEORIA ST  T091   \n",
       "\n",
       "           AddressNumberAndStreet   Latitude  Longitude  AddressAccuracy  \\\n",
       "0  1100  W ROOSEVELT, Chicago, IL  41.867108 -87.654224                8   \n",
       "1  1100  W ROOSEVELT, Chicago, IL  41.867108 -87.654224                8   \n",
       "2  1100  S PEORIA ST, Chicago, IL  41.862292 -87.648860                8   \n",
       "\n",
       "   Year  Month  Week  DayOfWeek  WnvPresent                  LatLong  \\\n",
       "0  2007      5    22          1           0  (41.867108, -87.654224)   \n",
       "1  2007      5    22          1           0  (41.867108, -87.654224)   \n",
       "2  2007      5    22          1           0   (41.862292, -87.64886)   \n",
       "\n",
       "                     Coordinate  Nearest_station  YearWeek  \n",
       "0  POINT (41.867108 -87.654224)                2    200722  \n",
       "1  POINT (41.867108 -87.654224)                2    200722  \n",
       "2   POINT (41.862292 -87.64886)                2    200722  "
      ]
     },
     "execution_count": 7,
     "metadata": {},
     "output_type": "execute_result"
    }
   ],
   "source": [
    "train.head(3)"
   ]
  },
  {
   "cell_type": "markdown",
   "id": "f18bff56-3455-48aa-a48b-7ebfee192d9e",
   "metadata": {},
   "source": [
    "## From the [*(article)*](https://www.ncbi.nlm.nih.gov/pmc/articles/PMC4342965/), it discussed the main impacts of climatic variables on the epidemiology of WNV:\n",
    "1. Temperature\n",
    "1. Relative Humidity\n",
    "1. Precipitation\n",
    "1. Wind"
   ]
  },
  {
   "cell_type": "markdown",
   "id": "5b5cc12a-9ffb-4edb-a974-1c81f57fa5fa",
   "metadata": {
    "cell_id": "00023-9c7388e2-e196-4fea-ab95-8a82d502d2cf",
    "deepnote_cell_type": "markdown",
    "output_cleared": false,
    "tags": []
   },
   "source": [
    "## Feature 1: Weekly Average Temperature"
   ]
  },
  {
   "cell_type": "markdown",
   "id": "69f36b58-597a-4fbc-8f44-f03299008d61",
   "metadata": {
    "cell_id": "00029-7de266f5-5ebe-4b35-96bc-508361db5611",
    "deepnote_cell_type": "markdown"
   },
   "source": [
    "Temperature has been [acknowledged](https://www.ncbi.nlm.nih.gov/pmc/articles/PMC4342965/) to be the most prominent feature associated with outbreaks of the West Nile Virus. Among other things, high temperature has been show to positively correlate with viral replication rates, seasonal phenology of mosquito host populations, growth rates of vector populations, viral transmission efficiency to birds and geographical variations in human case incidence.\n",
    "\n",
    "Rather than looking at daily temperature, we'll also look at average temperatures by week."
   ]
  },
  {
   "cell_type": "code",
   "execution_count": 8,
   "id": "61646bb2-0c2a-400c-810a-c8aab5f838c7",
   "metadata": {
    "cell_id": "00019-1570e376-bb85-4eeb-9225-d0257a014405",
    "deepnote_cell_type": "code",
    "execution_millis": 5,
    "execution_start": 1607931002287,
    "output_cleared": false,
    "source_hash": "768eb7fb",
    "tags": []
   },
   "outputs": [],
   "source": [
    "# Setting up grouped df for calculation of cumulative weekly precipitation\n",
    "group_df = weather.groupby('YearWeek').sum()"
   ]
  },
  {
   "cell_type": "code",
   "execution_count": 9,
   "id": "3e9cc714-c99f-4500-82aa-5eefedbd39a5",
   "metadata": {
    "cell_id": "00023-ba2605ce-d26b-4dc4-8ea6-9cfa2d0b72e0",
    "deepnote_cell_type": "code",
    "execution_millis": 2,
    "execution_start": 1607931003897,
    "output_cleared": false,
    "source_hash": "b4fc29af",
    "tags": []
   },
   "outputs": [],
   "source": [
    "def WeekAvgTemp(row):\n",
    "    # Retrieve current week\n",
    "    YearWeek = row['YearWeek']\n",
    "    \n",
    "    # Retrieving sum of average temperature for current week\n",
    "    temp_sum = group_df.loc[YearWeek]['Tavg']\n",
    "    \n",
    "    # Getting number of days recorded by weather station for current week\n",
    "    n_days = weather[weather['YearWeek'] == YearWeek].shape[0]\n",
    "    \n",
    "    # Calculate Week Average Temperature\n",
    "    row['WeekAvgTemp'] = temp_sum / n_days\n",
    "    \n",
    "    return row"
   ]
  },
  {
   "cell_type": "code",
   "execution_count": 10,
   "id": "edc94db1-fd74-4d3e-a88b-6cc1f9bf914a",
   "metadata": {
    "cell_id": "00024-715ef32d-8db2-4cbc-82fc-acfaa33a875c",
    "deepnote_cell_type": "code",
    "execution_millis": 2413,
    "execution_start": 1607931003904,
    "output_cleared": false,
    "source_hash": "977e0494",
    "tags": []
   },
   "outputs": [],
   "source": [
    "weather = weather.apply(WeekAvgTemp, axis=1)"
   ]
  },
  {
   "cell_type": "markdown",
   "id": "dd9eb26b-5dd1-4251-8bd0-faa07e3b0145",
   "metadata": {
    "cell_id": "00032-31037503-badc-487b-85a7-7c9e9159bcda",
    "deepnote_cell_type": "markdown",
    "output_cleared": false,
    "tags": []
   },
   "source": [
    "## Feature 1.1: Winter Temperature"
   ]
  },
  {
   "cell_type": "markdown",
   "id": "c87f2f43-4e13-458c-a36b-197ca14ef729",
   "metadata": {
    "cell_id": "00033-3c1e5391-ffdb-4d05-ad29-80fc5dc24398",
    "deepnote_cell_type": "markdown"
   },
   "source": [
    "Winter temperatures aren't a very intuitive variable when it comes to predicting the West Nile Virus. However, it turns out that the WNV can <b>[overwinter](https://ugaurbanag.com/811-2/)</b>. What this means, is that there are specific species of mosquito such as the Culex species that can overwinter -- this takes place in the adult stage by fertilized, non-blood-fed females. The Culex pipiens in particular goes into physiological diapauses (akin to hibernation) during the winter months, and while it may be active when temperatures get above 50°, it will not take a blood meal.\n",
    "\n",
    "The virus does not replicate within the mosquito at lower temperatures, <b>but is available to begin replication when temperatures increase</b>. This corresponds with the beginning of the nesting period of birds and the presence of young birds. Circulation of virus in the bird populations lead to the amplication of the virus and growth of vector mosquito populations.\n",
    "\n",
    "The National Weather Service carries [historical records of January temperatures](https://www.weather.gov/lot/January_Temperature_Rankings_Chicago) -- I created a dataset based on this and carried out some minimal cleaning to create a proxy feature measuring winter temperatures."
   ]
  },
  {
   "cell_type": "code",
   "execution_count": 11,
   "id": "f34da323-790c-4c33-bcfd-fd333e1f6172",
   "metadata": {
    "cell_id": "00033-793a382a-0d8f-4835-9b13-67dbfe96217b",
    "deepnote_cell_type": "code",
    "execution_millis": 17,
    "execution_start": 1607931006320,
    "output_cleared": false,
    "scrolled": true,
    "source_hash": "f36f76d5",
    "tags": []
   },
   "outputs": [
    {
     "data": {
      "text/html": [
       "<div>\n",
       "<style scoped>\n",
       "    .dataframe tbody tr th:only-of-type {\n",
       "        vertical-align: middle;\n",
       "    }\n",
       "\n",
       "    .dataframe tbody tr th {\n",
       "        vertical-align: top;\n",
       "    }\n",
       "\n",
       "    .dataframe thead th {\n",
       "        text-align: right;\n",
       "    }\n",
       "</style>\n",
       "<table border=\"1\" class=\"dataframe\">\n",
       "  <thead>\n",
       "    <tr style=\"text-align: right;\">\n",
       "      <th></th>\n",
       "      <th>Year</th>\n",
       "      <th>AvgTemp</th>\n",
       "      <th>JanDepart</th>\n",
       "    </tr>\n",
       "  </thead>\n",
       "  <tbody>\n",
       "    <tr>\n",
       "      <th>0</th>\n",
       "      <td>2006</td>\n",
       "      <td>35.8</td>\n",
       "      <td>12.0</td>\n",
       "    </tr>\n",
       "    <tr>\n",
       "      <th>1</th>\n",
       "      <td>2007</td>\n",
       "      <td>27.9</td>\n",
       "      <td>4.1</td>\n",
       "    </tr>\n",
       "    <tr>\n",
       "      <th>2</th>\n",
       "      <td>2008</td>\n",
       "      <td>23.5</td>\n",
       "      <td>-0.3</td>\n",
       "    </tr>\n",
       "    <tr>\n",
       "      <th>3</th>\n",
       "      <td>2009</td>\n",
       "      <td>15.9</td>\n",
       "      <td>-7.9</td>\n",
       "    </tr>\n",
       "    <tr>\n",
       "      <th>4</th>\n",
       "      <td>2010</td>\n",
       "      <td>22.0</td>\n",
       "      <td>-1.8</td>\n",
       "    </tr>\n",
       "  </tbody>\n",
       "</table>\n",
       "</div>"
      ],
      "text/plain": [
       "   Year  AvgTemp  JanDepart\n",
       "0  2006     35.8       12.0\n",
       "1  2007     27.9        4.1\n",
       "2  2008     23.5       -0.3\n",
       "3  2009     15.9       -7.9\n",
       "4  2010     22.0       -1.8"
      ]
     },
     "execution_count": 11,
     "metadata": {},
     "output_type": "execute_result"
    }
   ],
   "source": [
    "# This dataset gives us the average Janurary temperature of each year -- we're using this as a proxy for Winter temperatures.\n",
    "# We can also see how far each temperature differs from the 30 year normal (23.8 degrees F)\n",
    "winter_df = pd.read_csv('./datasets/jan_winter.csv')\n",
    "winter_df.head()"
   ]
  },
  {
   "cell_type": "code",
   "execution_count": 12,
   "id": "48f678ac-f66d-4d65-9374-ed8a2c5c56de",
   "metadata": {
    "cell_id": "00034-bf41f628-56e7-440e-8227-eb2435bb1dda",
    "deepnote_cell_type": "code",
    "execution_millis": 1,
    "execution_start": 1607931006342,
    "output_cleared": false,
    "source_hash": "5f118003",
    "tags": []
   },
   "outputs": [],
   "source": [
    "def winter_temp(row):\n",
    "    year = row['Year']\n",
    "    #row['WinterTemp'] = winter_df[winter_df['Year'] == year]['AvgTemp'].values[0]\n",
    "    row['WinterDepart'] = winter_df[winter_df['Year'] == year]['JanDepart'].values[0]\n",
    "    return row"
   ]
  },
  {
   "cell_type": "code",
   "execution_count": 13,
   "id": "013bdf78-d99f-41b2-992e-416ee0448c34",
   "metadata": {
    "cell_id": "00035-2afb0a61-f0b1-463e-a8a4-373861f38b5c",
    "deepnote_cell_type": "code",
    "execution_millis": 3637,
    "execution_start": 1607931006344,
    "output_cleared": false,
    "source_hash": "d9a351c0",
    "tags": []
   },
   "outputs": [],
   "source": [
    "weather = weather.apply(winter_temp, axis=1)"
   ]
  },
  {
   "cell_type": "code",
   "execution_count": 14,
   "id": "ee5c6818-d5e8-4a63-819b-1ecba2fc5a63",
   "metadata": {},
   "outputs": [
    {
     "data": {
      "text/html": [
       "<div>\n",
       "<style scoped>\n",
       "    .dataframe tbody tr th:only-of-type {\n",
       "        vertical-align: middle;\n",
       "    }\n",
       "\n",
       "    .dataframe tbody tr th {\n",
       "        vertical-align: top;\n",
       "    }\n",
       "\n",
       "    .dataframe thead th {\n",
       "        text-align: right;\n",
       "    }\n",
       "</style>\n",
       "<table border=\"1\" class=\"dataframe\">\n",
       "  <thead>\n",
       "    <tr style=\"text-align: right;\">\n",
       "      <th></th>\n",
       "      <th>Date</th>\n",
       "      <th>AvgSpeed</th>\n",
       "      <th>Cool</th>\n",
       "      <th>Depart</th>\n",
       "      <th>DewPoint</th>\n",
       "      <th>Heat</th>\n",
       "      <th>PrecipTotal</th>\n",
       "      <th>ResultDir</th>\n",
       "      <th>ResultSpeed</th>\n",
       "      <th>SeaLevel</th>\n",
       "      <th>StnPressure</th>\n",
       "      <th>Sunrise</th>\n",
       "      <th>Sunset</th>\n",
       "      <th>Tavg</th>\n",
       "      <th>Tmax</th>\n",
       "      <th>Tmin</th>\n",
       "      <th>WetBulb</th>\n",
       "      <th>lowvis</th>\n",
       "      <th>n_codesum</th>\n",
       "      <th>rain</th>\n",
       "      <th>Year</th>\n",
       "      <th>Month</th>\n",
       "      <th>Week</th>\n",
       "      <th>DayOfWeek</th>\n",
       "      <th>YearWeek</th>\n",
       "      <th>WeekAvgTemp</th>\n",
       "      <th>WinterDepart</th>\n",
       "    </tr>\n",
       "  </thead>\n",
       "  <tbody>\n",
       "    <tr>\n",
       "      <th>0</th>\n",
       "      <td>2007-05-01</td>\n",
       "      <td>9.40</td>\n",
       "      <td>2.5</td>\n",
       "      <td>14.5</td>\n",
       "      <td>51.0</td>\n",
       "      <td>0.0</td>\n",
       "      <td>0.0</td>\n",
       "      <td>26.0</td>\n",
       "      <td>2.20</td>\n",
       "      <td>29.820</td>\n",
       "      <td>29.140</td>\n",
       "      <td>448.0</td>\n",
       "      <td>1849.0</td>\n",
       "      <td>67.5</td>\n",
       "      <td>83.5</td>\n",
       "      <td>51.0</td>\n",
       "      <td>56.5</td>\n",
       "      <td>0.0</td>\n",
       "      <td>0.0</td>\n",
       "      <td>0.0</td>\n",
       "      <td>2007</td>\n",
       "      <td>5</td>\n",
       "      <td>18</td>\n",
       "      <td>1</td>\n",
       "      <td>200718</td>\n",
       "      <td>59.416667</td>\n",
       "      <td>4.1</td>\n",
       "    </tr>\n",
       "    <tr>\n",
       "      <th>1</th>\n",
       "      <td>2007-05-02</td>\n",
       "      <td>13.40</td>\n",
       "      <td>0.0</td>\n",
       "      <td>-2.5</td>\n",
       "      <td>42.0</td>\n",
       "      <td>13.5</td>\n",
       "      <td>0.0</td>\n",
       "      <td>3.0</td>\n",
       "      <td>13.15</td>\n",
       "      <td>30.085</td>\n",
       "      <td>29.410</td>\n",
       "      <td>447.0</td>\n",
       "      <td>1850.0</td>\n",
       "      <td>51.5</td>\n",
       "      <td>59.5</td>\n",
       "      <td>42.5</td>\n",
       "      <td>47.0</td>\n",
       "      <td>1.0</td>\n",
       "      <td>1.5</td>\n",
       "      <td>0.0</td>\n",
       "      <td>2007</td>\n",
       "      <td>5</td>\n",
       "      <td>18</td>\n",
       "      <td>2</td>\n",
       "      <td>200718</td>\n",
       "      <td>59.416667</td>\n",
       "      <td>4.1</td>\n",
       "    </tr>\n",
       "    <tr>\n",
       "      <th>2</th>\n",
       "      <td>2007-05-03</td>\n",
       "      <td>12.55</td>\n",
       "      <td>0.0</td>\n",
       "      <td>3.0</td>\n",
       "      <td>40.0</td>\n",
       "      <td>8.0</td>\n",
       "      <td>0.0</td>\n",
       "      <td>6.5</td>\n",
       "      <td>12.30</td>\n",
       "      <td>30.120</td>\n",
       "      <td>29.425</td>\n",
       "      <td>446.0</td>\n",
       "      <td>1851.0</td>\n",
       "      <td>57.0</td>\n",
       "      <td>66.5</td>\n",
       "      <td>47.0</td>\n",
       "      <td>49.0</td>\n",
       "      <td>0.5</td>\n",
       "      <td>0.5</td>\n",
       "      <td>0.0</td>\n",
       "      <td>2007</td>\n",
       "      <td>5</td>\n",
       "      <td>18</td>\n",
       "      <td>3</td>\n",
       "      <td>200718</td>\n",
       "      <td>59.416667</td>\n",
       "      <td>4.1</td>\n",
       "    </tr>\n",
       "  </tbody>\n",
       "</table>\n",
       "</div>"
      ],
      "text/plain": [
       "        Date  AvgSpeed  Cool  Depart  DewPoint  Heat  PrecipTotal  ResultDir  \\\n",
       "0 2007-05-01      9.40   2.5    14.5      51.0   0.0          0.0       26.0   \n",
       "1 2007-05-02     13.40   0.0    -2.5      42.0  13.5          0.0        3.0   \n",
       "2 2007-05-03     12.55   0.0     3.0      40.0   8.0          0.0        6.5   \n",
       "\n",
       "   ResultSpeed  SeaLevel  StnPressure  Sunrise  Sunset  Tavg  Tmax  Tmin  \\\n",
       "0         2.20    29.820       29.140    448.0  1849.0  67.5  83.5  51.0   \n",
       "1        13.15    30.085       29.410    447.0  1850.0  51.5  59.5  42.5   \n",
       "2        12.30    30.120       29.425    446.0  1851.0  57.0  66.5  47.0   \n",
       "\n",
       "   WetBulb  lowvis  n_codesum  rain  Year  Month  Week  DayOfWeek  YearWeek  \\\n",
       "0     56.5     0.0        0.0   0.0  2007      5    18          1    200718   \n",
       "1     47.0     1.0        1.5   0.0  2007      5    18          2    200718   \n",
       "2     49.0     0.5        0.5   0.0  2007      5    18          3    200718   \n",
       "\n",
       "   WeekAvgTemp  WinterDepart  \n",
       "0    59.416667           4.1  \n",
       "1    59.416667           4.1  \n",
       "2    59.416667           4.1  "
      ]
     },
     "execution_count": 14,
     "metadata": {},
     "output_type": "execute_result"
    }
   ],
   "source": [
    "weather.head(3)"
   ]
  },
  {
   "cell_type": "markdown",
   "id": "9e7bf7ee-13d6-4f74-b6af-dd8692aafe5d",
   "metadata": {
    "cell_id": "00037-46dd4767-aea0-4376-86ec-3bb12e61d708",
    "deepnote_cell_type": "markdown"
   },
   "source": [
    "## Feature 1.2: Summer Temperature"
   ]
  },
  {
   "cell_type": "markdown",
   "id": "3d6e0a5d-c1d9-460e-a5ba-bbc360f77e9d",
   "metadata": {
    "cell_id": "00038-e81c6aec-7d90-4b2a-92f7-0991b507d698",
    "deepnote_cell_type": "markdown"
   },
   "source": [
    "While the link between summer temperature and WNV isn't as clear, we thought it might be worth investigating into whether warmer summers (or in this case - warm Julys) affect the spread of the WNV. The virus is said to spreads most efficiently in the United States at temperatures [between 75.2 and 77 degrees Fahrenheit](https://www.medicinenet.com/script/main/art.asp?articlekey=247250#:~:text=The%20mosquito%2Dborne%20virus%20spreads,15%20in%20the%20journal%20eLife.).\n",
    "\n",
    "This data also comes from the [National Weather Service](https://www.weather.gov/lot/July_Temperature_Rankings_Chicago)."
   ]
  },
  {
   "cell_type": "code",
   "execution_count": 15,
   "id": "93f3edf5-085f-41f9-8c24-c27962aecac0",
   "metadata": {
    "cell_id": "00039-d7cc84ca-5a43-43ff-8df2-2c14f0c6eca1",
    "deepnote_cell_type": "code"
   },
   "outputs": [
    {
     "data": {
      "text/html": [
       "<div>\n",
       "<style scoped>\n",
       "    .dataframe tbody tr th:only-of-type {\n",
       "        vertical-align: middle;\n",
       "    }\n",
       "\n",
       "    .dataframe tbody tr th {\n",
       "        vertical-align: top;\n",
       "    }\n",
       "\n",
       "    .dataframe thead th {\n",
       "        text-align: right;\n",
       "    }\n",
       "</style>\n",
       "<table border=\"1\" class=\"dataframe\">\n",
       "  <thead>\n",
       "    <tr style=\"text-align: right;\">\n",
       "      <th></th>\n",
       "      <th>Year</th>\n",
       "      <th>AvgTemp</th>\n",
       "      <th>JulDepart</th>\n",
       "    </tr>\n",
       "  </thead>\n",
       "  <tbody>\n",
       "    <tr>\n",
       "      <th>0</th>\n",
       "      <td>2006</td>\n",
       "      <td>76.5</td>\n",
       "      <td>2.5</td>\n",
       "    </tr>\n",
       "    <tr>\n",
       "      <th>1</th>\n",
       "      <td>2007</td>\n",
       "      <td>73.7</td>\n",
       "      <td>-0.3</td>\n",
       "    </tr>\n",
       "    <tr>\n",
       "      <th>2</th>\n",
       "      <td>2008</td>\n",
       "      <td>74.0</td>\n",
       "      <td>0.0</td>\n",
       "    </tr>\n",
       "    <tr>\n",
       "      <th>3</th>\n",
       "      <td>2009</td>\n",
       "      <td>69.4</td>\n",
       "      <td>-4.6</td>\n",
       "    </tr>\n",
       "    <tr>\n",
       "      <th>4</th>\n",
       "      <td>2010</td>\n",
       "      <td>77.7</td>\n",
       "      <td>3.7</td>\n",
       "    </tr>\n",
       "  </tbody>\n",
       "</table>\n",
       "</div>"
      ],
      "text/plain": [
       "   Year  AvgTemp  JulDepart\n",
       "0  2006     76.5        2.5\n",
       "1  2007     73.7       -0.3\n",
       "2  2008     74.0        0.0\n",
       "3  2009     69.4       -4.6\n",
       "4  2010     77.7        3.7"
      ]
     },
     "execution_count": 15,
     "metadata": {},
     "output_type": "execute_result"
    }
   ],
   "source": [
    "# This dataset gives us the average July temperature of each year -- we're using this as a proxy for Summer temperatures.\n",
    "# We can also see how far each temperature differs from the 30 year normal (74.0 degrees F)\n",
    "summer_df = pd.read_csv('./datasets/jul_summer.csv')\n",
    "summer_df.head()"
   ]
  },
  {
   "cell_type": "code",
   "execution_count": 16,
   "id": "d991d2ce-bcd1-4c92-a69e-c1202162501f",
   "metadata": {
    "cell_id": "00040-022f53d3-0ba9-4f4f-8413-2a884751a738",
    "deepnote_cell_type": "code"
   },
   "outputs": [],
   "source": [
    "def summer_temp(row):\n",
    "    year = row['Year']\n",
    "    #row['SummerTemp'] = summer_df[summer_df['Year'] == year]['AvgTemp'].values[0]\n",
    "    row['SummerDepart'] = summer_df[summer_df['Year'] == year]['JulDepart'].values[0]\n",
    "    return row"
   ]
  },
  {
   "cell_type": "code",
   "execution_count": 17,
   "id": "1fe8c7c8-4348-47ec-858f-fd66c7fdef9a",
   "metadata": {
    "cell_id": "00041-901e5f54-98b1-47b9-a706-a4d647f49530",
    "deepnote_cell_type": "code"
   },
   "outputs": [
    {
     "data": {
      "text/html": [
       "<div>\n",
       "<style scoped>\n",
       "    .dataframe tbody tr th:only-of-type {\n",
       "        vertical-align: middle;\n",
       "    }\n",
       "\n",
       "    .dataframe tbody tr th {\n",
       "        vertical-align: top;\n",
       "    }\n",
       "\n",
       "    .dataframe thead th {\n",
       "        text-align: right;\n",
       "    }\n",
       "</style>\n",
       "<table border=\"1\" class=\"dataframe\">\n",
       "  <thead>\n",
       "    <tr style=\"text-align: right;\">\n",
       "      <th></th>\n",
       "      <th>Date</th>\n",
       "      <th>AvgSpeed</th>\n",
       "      <th>Cool</th>\n",
       "      <th>Depart</th>\n",
       "      <th>DewPoint</th>\n",
       "      <th>Heat</th>\n",
       "      <th>PrecipTotal</th>\n",
       "      <th>ResultDir</th>\n",
       "      <th>ResultSpeed</th>\n",
       "      <th>SeaLevel</th>\n",
       "      <th>StnPressure</th>\n",
       "      <th>Sunrise</th>\n",
       "      <th>Sunset</th>\n",
       "      <th>Tavg</th>\n",
       "      <th>Tmax</th>\n",
       "      <th>Tmin</th>\n",
       "      <th>WetBulb</th>\n",
       "      <th>lowvis</th>\n",
       "      <th>n_codesum</th>\n",
       "      <th>rain</th>\n",
       "      <th>Year</th>\n",
       "      <th>Month</th>\n",
       "      <th>Week</th>\n",
       "      <th>DayOfWeek</th>\n",
       "      <th>YearWeek</th>\n",
       "      <th>WeekAvgTemp</th>\n",
       "      <th>WinterDepart</th>\n",
       "      <th>SummerDepart</th>\n",
       "    </tr>\n",
       "  </thead>\n",
       "  <tbody>\n",
       "    <tr>\n",
       "      <th>0</th>\n",
       "      <td>2007-05-01</td>\n",
       "      <td>9.40</td>\n",
       "      <td>2.5</td>\n",
       "      <td>14.5</td>\n",
       "      <td>51.0</td>\n",
       "      <td>0.0</td>\n",
       "      <td>0.0</td>\n",
       "      <td>26.0</td>\n",
       "      <td>2.20</td>\n",
       "      <td>29.820</td>\n",
       "      <td>29.140</td>\n",
       "      <td>448.0</td>\n",
       "      <td>1849.0</td>\n",
       "      <td>67.5</td>\n",
       "      <td>83.5</td>\n",
       "      <td>51.0</td>\n",
       "      <td>56.5</td>\n",
       "      <td>0.0</td>\n",
       "      <td>0.0</td>\n",
       "      <td>0.0</td>\n",
       "      <td>2007</td>\n",
       "      <td>5</td>\n",
       "      <td>18</td>\n",
       "      <td>1</td>\n",
       "      <td>200718</td>\n",
       "      <td>59.416667</td>\n",
       "      <td>4.1</td>\n",
       "      <td>-0.3</td>\n",
       "    </tr>\n",
       "    <tr>\n",
       "      <th>1</th>\n",
       "      <td>2007-05-02</td>\n",
       "      <td>13.40</td>\n",
       "      <td>0.0</td>\n",
       "      <td>-2.5</td>\n",
       "      <td>42.0</td>\n",
       "      <td>13.5</td>\n",
       "      <td>0.0</td>\n",
       "      <td>3.0</td>\n",
       "      <td>13.15</td>\n",
       "      <td>30.085</td>\n",
       "      <td>29.410</td>\n",
       "      <td>447.0</td>\n",
       "      <td>1850.0</td>\n",
       "      <td>51.5</td>\n",
       "      <td>59.5</td>\n",
       "      <td>42.5</td>\n",
       "      <td>47.0</td>\n",
       "      <td>1.0</td>\n",
       "      <td>1.5</td>\n",
       "      <td>0.0</td>\n",
       "      <td>2007</td>\n",
       "      <td>5</td>\n",
       "      <td>18</td>\n",
       "      <td>2</td>\n",
       "      <td>200718</td>\n",
       "      <td>59.416667</td>\n",
       "      <td>4.1</td>\n",
       "      <td>-0.3</td>\n",
       "    </tr>\n",
       "    <tr>\n",
       "      <th>2</th>\n",
       "      <td>2007-05-03</td>\n",
       "      <td>12.55</td>\n",
       "      <td>0.0</td>\n",
       "      <td>3.0</td>\n",
       "      <td>40.0</td>\n",
       "      <td>8.0</td>\n",
       "      <td>0.0</td>\n",
       "      <td>6.5</td>\n",
       "      <td>12.30</td>\n",
       "      <td>30.120</td>\n",
       "      <td>29.425</td>\n",
       "      <td>446.0</td>\n",
       "      <td>1851.0</td>\n",
       "      <td>57.0</td>\n",
       "      <td>66.5</td>\n",
       "      <td>47.0</td>\n",
       "      <td>49.0</td>\n",
       "      <td>0.5</td>\n",
       "      <td>0.5</td>\n",
       "      <td>0.0</td>\n",
       "      <td>2007</td>\n",
       "      <td>5</td>\n",
       "      <td>18</td>\n",
       "      <td>3</td>\n",
       "      <td>200718</td>\n",
       "      <td>59.416667</td>\n",
       "      <td>4.1</td>\n",
       "      <td>-0.3</td>\n",
       "    </tr>\n",
       "  </tbody>\n",
       "</table>\n",
       "</div>"
      ],
      "text/plain": [
       "        Date  AvgSpeed  Cool  Depart  DewPoint  Heat  PrecipTotal  ResultDir  \\\n",
       "0 2007-05-01      9.40   2.5    14.5      51.0   0.0          0.0       26.0   \n",
       "1 2007-05-02     13.40   0.0    -2.5      42.0  13.5          0.0        3.0   \n",
       "2 2007-05-03     12.55   0.0     3.0      40.0   8.0          0.0        6.5   \n",
       "\n",
       "   ResultSpeed  SeaLevel  StnPressure  Sunrise  Sunset  Tavg  Tmax  Tmin  \\\n",
       "0         2.20    29.820       29.140    448.0  1849.0  67.5  83.5  51.0   \n",
       "1        13.15    30.085       29.410    447.0  1850.0  51.5  59.5  42.5   \n",
       "2        12.30    30.120       29.425    446.0  1851.0  57.0  66.5  47.0   \n",
       "\n",
       "   WetBulb  lowvis  n_codesum  rain  Year  Month  Week  DayOfWeek  YearWeek  \\\n",
       "0     56.5     0.0        0.0   0.0  2007      5    18          1    200718   \n",
       "1     47.0     1.0        1.5   0.0  2007      5    18          2    200718   \n",
       "2     49.0     0.5        0.5   0.0  2007      5    18          3    200718   \n",
       "\n",
       "   WeekAvgTemp  WinterDepart  SummerDepart  \n",
       "0    59.416667           4.1          -0.3  \n",
       "1    59.416667           4.1          -0.3  \n",
       "2    59.416667           4.1          -0.3  "
      ]
     },
     "execution_count": 17,
     "metadata": {},
     "output_type": "execute_result"
    }
   ],
   "source": [
    "weather = weather.apply(summer_temp, axis=1)\n",
    "weather.head(3)"
   ]
  },
  {
   "cell_type": "markdown",
   "id": "4583a07d-3178-4b58-b78a-2c7b376c5cd6",
   "metadata": {
    "cell_id": "00005-c0dd75f2-427d-4fdd-8ba3-d1ec2e21faa5",
    "deepnote_cell_type": "markdown",
    "output_cleared": false,
    "tags": []
   },
   "source": [
    "## Feature 2: Relative Humidity"
   ]
  },
  {
   "cell_type": "markdown",
   "id": "6e38799d-d6f5-4dfe-a074-0cb921cc3d1d",
   "metadata": {
    "cell_id": "00011-0d6d10dd-2bfa-4cde-b586-8110151785cb",
    "deepnote_cell_type": "markdown"
   },
   "source": [
    "High humidity is thought to be a strong factor in the spread of the West Nile Virus -- it's been [reported](https://www.mdpi.com/1660-4601/17/4/1403/pdf#:~:text=caspius.,%25%20%5B19%2C23%5D.) that <b>high humidity increases egg production, larval indices, mosquito activity and influences their activities</b>. Other studies have shown that a suitable range of humidity stimulating mosquito flight activity is between 44% and 69%, with 65% as a focal percentage. \n",
    "\n",
    "The climate of Chicago is classified as hot-summer humid continental (Köppen climate classification: Dfa), which means that humidity is worth looking into. To calculate relative humidity, we'll first look to convert some of our temperature readings into degrees celcius."
   ]
  },
  {
   "cell_type": "markdown",
   "id": "f2290061-2e3d-43c4-a28a-231f5ad6a085",
   "metadata": {
    "cell_id": "00005-c0dd75f2-427d-4fdd-8ba3-d1ec2e21faa5",
    "deepnote_cell_type": "markdown",
    "output_cleared": false,
    "tags": []
   },
   "source": [
    "### Calculate Celcius"
   ]
  },
  {
   "cell_type": "code",
   "execution_count": 18,
   "id": "efb6ea87-1625-44bd-9a73-388017e5ccc2",
   "metadata": {
    "cell_id": "00006-f431d14a-d8f4-4173-89f0-57351f0502b5",
    "deepnote_cell_type": "code",
    "execution_millis": 1,
    "execution_start": 1607930999696,
    "output_cleared": false,
    "source_hash": "1370b410",
    "tags": []
   },
   "outputs": [],
   "source": [
    "# To calculate Relative Humidity, we need to change our features from Fahrenheit to Celcius\n",
    "def celsius(x):\n",
    "    c = ((x - 32) * 5.0)/9.0\n",
    "    return float(c)"
   ]
  },
  {
   "cell_type": "code",
   "execution_count": 19,
   "id": "8c171a76-54a3-4c11-b86c-1231024ecb53",
   "metadata": {
    "cell_id": "00007-578de473-f68f-4759-83b2-0bde305bda15",
    "deepnote_cell_type": "code",
    "execution_millis": 5,
    "execution_start": 1607930999704,
    "output_cleared": false,
    "source_hash": "a9032f4d",
    "tags": []
   },
   "outputs": [],
   "source": [
    "weather['TavgC'] = weather['Tavg'].apply(celsius)\n",
    "weather['TminC'] = weather['Tmin'].apply(celsius)\n",
    "weather['TmaxC'] = weather['Tmax'].apply(celsius)\n",
    "weather['DewPointC'] = weather['DewPoint'].apply(celsius)"
   ]
  },
  {
   "cell_type": "code",
   "execution_count": 20,
   "id": "cdb7f249-7e1e-41c8-aeb5-1b7134b8c10f",
   "metadata": {
    "cell_id": "00002-a019178c-f1d4-4151-a88c-213ac675c5dc",
    "deepnote_cell_type": "code",
    "execution_millis": 0,
    "execution_start": 1607930999717,
    "output_cleared": false,
    "source_hash": "aea0748b",
    "tags": []
   },
   "outputs": [],
   "source": [
    "def r_humid(row):\n",
    "    row['r_humid'] = round(100*(math.exp((17.625*row['DewPointC'])/(243.04+row['DewPointC'])) \\\n",
    "                          / math.exp((17.625*row['TavgC'])/(243.04+row['TavgC']))))\n",
    "    return row"
   ]
  },
  {
   "cell_type": "markdown",
   "id": "6e48d866-73a9-4163-8029-832f5b5d801a",
   "metadata": {
    "cell_id": "00005-4a2043c5-be6f-4684-bc1f-aa687b1fe3e8",
    "deepnote_cell_type": "markdown",
    "output_cleared": false,
    "tags": []
   },
   "source": [
    "Formula for [Relative Humidity](https://bmcnoldy.rsmas.miami.edu/Humidity.html):\n",
    "\n",
    "$$ \\large RH = 100 {exp({aT_{d} \\over {b + T_{d}}}) \\over exp({aT \\over b + T})}$$\n",
    "\n",
    "where: <br>\n",
    "$ \\small a = \\text{17.625} $ <br>\n",
    "$ \\small b = 243.04 $ <br>\n",
    "$ \\small T = \\text{Average Temperature (Celsius)} $ <br>\n",
    "$ \\small T_{d} = \\text{Dewpoint Temperature (Celsius)} $ <br>\n",
    "$ \\small RH = \\text{Relative Humidity} $ (%)<br>"
   ]
  },
  {
   "cell_type": "code",
   "execution_count": 21,
   "id": "bb97dfe7-9546-4667-accc-4b7996b582c3",
   "metadata": {
    "cell_id": "00007-57469685-8ffa-4d32-8f28-1d01c6a68562",
    "deepnote_cell_type": "code",
    "execution_millis": 1254,
    "execution_start": 1607930999719,
    "output_cleared": false,
    "source_hash": "d8e64660",
    "tags": []
   },
   "outputs": [],
   "source": [
    "weather = weather.apply(r_humid, axis=1)"
   ]
  },
  {
   "cell_type": "code",
   "execution_count": 22,
   "id": "3c5b3adc-5cf2-42cc-aa6f-380331e24a5a",
   "metadata": {
    "cell_id": "00011-3f200452-9453-4849-9768-d74618ecf0cd",
    "deepnote_cell_type": "code",
    "execution_millis": 0,
    "execution_start": 1607931000977,
    "output_cleared": false,
    "source_hash": "c181b14f",
    "tags": []
   },
   "outputs": [],
   "source": [
    "# Dropping as Celcius features are no longer needed\n",
    "weather = weather.drop(columns=['TavgC', 'TminC', 'TmaxC', 'DewPointC'])"
   ]
  },
  {
   "cell_type": "code",
   "execution_count": 23,
   "id": "156cfc2e-17a7-4dc5-bcfc-aaf40fd2c78f",
   "metadata": {
    "cell_id": "00007-a39c6e6b-7ce0-463b-b1b0-ed0b5867c8f5",
    "deepnote_cell_type": "code",
    "execution_millis": 66,
    "execution_start": 1607931000980,
    "output_cleared": false,
    "source_hash": "b710a052",
    "tags": []
   },
   "outputs": [
    {
     "data": {
      "text/html": [
       "<div>\n",
       "<style scoped>\n",
       "    .dataframe tbody tr th:only-of-type {\n",
       "        vertical-align: middle;\n",
       "    }\n",
       "\n",
       "    .dataframe tbody tr th {\n",
       "        vertical-align: top;\n",
       "    }\n",
       "\n",
       "    .dataframe thead th {\n",
       "        text-align: right;\n",
       "    }\n",
       "</style>\n",
       "<table border=\"1\" class=\"dataframe\">\n",
       "  <thead>\n",
       "    <tr style=\"text-align: right;\">\n",
       "      <th></th>\n",
       "      <th>Date</th>\n",
       "      <th>AvgSpeed</th>\n",
       "      <th>Cool</th>\n",
       "      <th>Depart</th>\n",
       "      <th>DewPoint</th>\n",
       "      <th>Heat</th>\n",
       "      <th>PrecipTotal</th>\n",
       "      <th>ResultDir</th>\n",
       "      <th>ResultSpeed</th>\n",
       "      <th>SeaLevel</th>\n",
       "      <th>StnPressure</th>\n",
       "      <th>Sunrise</th>\n",
       "      <th>Sunset</th>\n",
       "      <th>Tavg</th>\n",
       "      <th>Tmax</th>\n",
       "      <th>Tmin</th>\n",
       "      <th>WetBulb</th>\n",
       "      <th>lowvis</th>\n",
       "      <th>n_codesum</th>\n",
       "      <th>rain</th>\n",
       "      <th>Year</th>\n",
       "      <th>Month</th>\n",
       "      <th>Week</th>\n",
       "      <th>DayOfWeek</th>\n",
       "      <th>YearWeek</th>\n",
       "      <th>WeekAvgTemp</th>\n",
       "      <th>WinterDepart</th>\n",
       "      <th>SummerDepart</th>\n",
       "      <th>r_humid</th>\n",
       "    </tr>\n",
       "  </thead>\n",
       "  <tbody>\n",
       "    <tr>\n",
       "      <th>1287</th>\n",
       "      <td>2013-10-31</td>\n",
       "      <td>11.45</td>\n",
       "      <td>0.0</td>\n",
       "      <td>9.5</td>\n",
       "      <td>56.0</td>\n",
       "      <td>9.5</td>\n",
       "      <td>1.535</td>\n",
       "      <td>23.5</td>\n",
       "      <td>9.45</td>\n",
       "      <td>29.460</td>\n",
       "      <td>28.730</td>\n",
       "      <td>623.0</td>\n",
       "      <td>1647.0</td>\n",
       "      <td>55.5</td>\n",
       "      <td>64.5</td>\n",
       "      <td>46.5</td>\n",
       "      <td>57.0</td>\n",
       "      <td>1.0</td>\n",
       "      <td>2.0</td>\n",
       "      <td>1.0</td>\n",
       "      <td>2013</td>\n",
       "      <td>10</td>\n",
       "      <td>44</td>\n",
       "      <td>3</td>\n",
       "      <td>201344</td>\n",
       "      <td>51.125000</td>\n",
       "      <td>2.8</td>\n",
       "      <td>-0.8</td>\n",
       "      <td>102</td>\n",
       "    </tr>\n",
       "    <tr>\n",
       "      <th>1454</th>\n",
       "      <td>2014-10-14</td>\n",
       "      <td>9.40</td>\n",
       "      <td>0.0</td>\n",
       "      <td>7.0</td>\n",
       "      <td>58.0</td>\n",
       "      <td>5.0</td>\n",
       "      <td>0.915</td>\n",
       "      <td>11.0</td>\n",
       "      <td>2.65</td>\n",
       "      <td>29.545</td>\n",
       "      <td>28.860</td>\n",
       "      <td>603.0</td>\n",
       "      <td>1712.0</td>\n",
       "      <td>60.0</td>\n",
       "      <td>66.0</td>\n",
       "      <td>53.0</td>\n",
       "      <td>59.0</td>\n",
       "      <td>1.0</td>\n",
       "      <td>3.0</td>\n",
       "      <td>1.0</td>\n",
       "      <td>2014</td>\n",
       "      <td>10</td>\n",
       "      <td>42</td>\n",
       "      <td>1</td>\n",
       "      <td>201442</td>\n",
       "      <td>54.000000</td>\n",
       "      <td>-8.1</td>\n",
       "      <td>-3.6</td>\n",
       "      <td>93</td>\n",
       "    </tr>\n",
       "    <tr>\n",
       "      <th>319</th>\n",
       "      <td>2008-09-13</td>\n",
       "      <td>9.40</td>\n",
       "      <td>7.5</td>\n",
       "      <td>7.5</td>\n",
       "      <td>70.0</td>\n",
       "      <td>0.0</td>\n",
       "      <td>4.855</td>\n",
       "      <td>21.5</td>\n",
       "      <td>6.80</td>\n",
       "      <td>29.705</td>\n",
       "      <td>29.005</td>\n",
       "      <td>529.0</td>\n",
       "      <td>1807.0</td>\n",
       "      <td>72.5</td>\n",
       "      <td>76.0</td>\n",
       "      <td>68.5</td>\n",
       "      <td>71.0</td>\n",
       "      <td>1.0</td>\n",
       "      <td>2.0</td>\n",
       "      <td>1.0</td>\n",
       "      <td>2008</td>\n",
       "      <td>9</td>\n",
       "      <td>37</td>\n",
       "      <td>5</td>\n",
       "      <td>200837</td>\n",
       "      <td>65.214286</td>\n",
       "      <td>-0.3</td>\n",
       "      <td>0.0</td>\n",
       "      <td>92</td>\n",
       "    </tr>\n",
       "    <tr>\n",
       "      <th>1286</th>\n",
       "      <td>2013-10-30</td>\n",
       "      <td>6.85</td>\n",
       "      <td>0.0</td>\n",
       "      <td>8.5</td>\n",
       "      <td>52.0</td>\n",
       "      <td>10.5</td>\n",
       "      <td>0.855</td>\n",
       "      <td>14.5</td>\n",
       "      <td>5.95</td>\n",
       "      <td>30.005</td>\n",
       "      <td>29.255</td>\n",
       "      <td>622.0</td>\n",
       "      <td>1649.0</td>\n",
       "      <td>54.5</td>\n",
       "      <td>63.5</td>\n",
       "      <td>45.0</td>\n",
       "      <td>53.0</td>\n",
       "      <td>1.0</td>\n",
       "      <td>3.0</td>\n",
       "      <td>1.0</td>\n",
       "      <td>2013</td>\n",
       "      <td>10</td>\n",
       "      <td>44</td>\n",
       "      <td>2</td>\n",
       "      <td>201344</td>\n",
       "      <td>51.125000</td>\n",
       "      <td>2.8</td>\n",
       "      <td>-0.8</td>\n",
       "      <td>91</td>\n",
       "    </tr>\n",
       "    <tr>\n",
       "      <th>763</th>\n",
       "      <td>2011-05-28</td>\n",
       "      <td>6.25</td>\n",
       "      <td>0.0</td>\n",
       "      <td>-5.5</td>\n",
       "      <td>55.0</td>\n",
       "      <td>7.5</td>\n",
       "      <td>0.175</td>\n",
       "      <td>18.0</td>\n",
       "      <td>5.20</td>\n",
       "      <td>29.830</td>\n",
       "      <td>29.130</td>\n",
       "      <td>421.0</td>\n",
       "      <td>1916.0</td>\n",
       "      <td>57.5</td>\n",
       "      <td>63.0</td>\n",
       "      <td>51.5</td>\n",
       "      <td>56.0</td>\n",
       "      <td>1.0</td>\n",
       "      <td>3.0</td>\n",
       "      <td>1.0</td>\n",
       "      <td>2011</td>\n",
       "      <td>5</td>\n",
       "      <td>21</td>\n",
       "      <td>5</td>\n",
       "      <td>201121</td>\n",
       "      <td>57.928571</td>\n",
       "      <td>-3.2</td>\n",
       "      <td>5.0</td>\n",
       "      <td>91</td>\n",
       "    </tr>\n",
       "  </tbody>\n",
       "</table>\n",
       "</div>"
      ],
      "text/plain": [
       "           Date  AvgSpeed  Cool  Depart  DewPoint  Heat  PrecipTotal  \\\n",
       "1287 2013-10-31     11.45   0.0     9.5      56.0   9.5        1.535   \n",
       "1454 2014-10-14      9.40   0.0     7.0      58.0   5.0        0.915   \n",
       "319  2008-09-13      9.40   7.5     7.5      70.0   0.0        4.855   \n",
       "1286 2013-10-30      6.85   0.0     8.5      52.0  10.5        0.855   \n",
       "763  2011-05-28      6.25   0.0    -5.5      55.0   7.5        0.175   \n",
       "\n",
       "      ResultDir  ResultSpeed  SeaLevel  StnPressure  Sunrise  Sunset  Tavg  \\\n",
       "1287       23.5         9.45    29.460       28.730    623.0  1647.0  55.5   \n",
       "1454       11.0         2.65    29.545       28.860    603.0  1712.0  60.0   \n",
       "319        21.5         6.80    29.705       29.005    529.0  1807.0  72.5   \n",
       "1286       14.5         5.95    30.005       29.255    622.0  1649.0  54.5   \n",
       "763        18.0         5.20    29.830       29.130    421.0  1916.0  57.5   \n",
       "\n",
       "      Tmax  Tmin  WetBulb  lowvis  n_codesum  rain  Year  Month  Week  \\\n",
       "1287  64.5  46.5     57.0     1.0        2.0   1.0  2013     10    44   \n",
       "1454  66.0  53.0     59.0     1.0        3.0   1.0  2014     10    42   \n",
       "319   76.0  68.5     71.0     1.0        2.0   1.0  2008      9    37   \n",
       "1286  63.5  45.0     53.0     1.0        3.0   1.0  2013     10    44   \n",
       "763   63.0  51.5     56.0     1.0        3.0   1.0  2011      5    21   \n",
       "\n",
       "      DayOfWeek  YearWeek  WeekAvgTemp  WinterDepart  SummerDepart  r_humid  \n",
       "1287          3    201344    51.125000           2.8          -0.8      102  \n",
       "1454          1    201442    54.000000          -8.1          -3.6       93  \n",
       "319           5    200837    65.214286          -0.3           0.0       92  \n",
       "1286          2    201344    51.125000           2.8          -0.8       91  \n",
       "763           5    201121    57.928571          -3.2           5.0       91  "
      ]
     },
     "execution_count": 23,
     "metadata": {},
     "output_type": "execute_result"
    }
   ],
   "source": [
    "weather.sort_values(by='r_humid', ascending=False).head()"
   ]
  },
  {
   "cell_type": "code",
   "execution_count": 24,
   "id": "7e778d86-a604-48d1-9a3c-5e1319823a94",
   "metadata": {
    "cell_id": "00020-ff7c73f6-acfd-4262-bb74-5ce30e85666a",
    "deepnote_cell_type": "code"
   },
   "outputs": [
    {
     "name": "stdout",
     "output_type": "stream",
     "text": [
      "62.21 %\n"
     ]
    }
   ],
   "source": [
    "# The average humidity in Chicago could be a factor in the spread of the West Nile Virus\n",
    "print(f'{round(weather[\"r_humid\"].mean(),2)} %')"
   ]
  },
  {
   "cell_type": "markdown",
   "id": "f5eb65d6-a2eb-4bf3-9a81-8e84a51a55b4",
   "metadata": {
    "cell_id": "00012-dd9d9d40-599a-4788-9ce5-a4ace48c378c",
    "deepnote_cell_type": "markdown",
    "output_cleared": false,
    "tags": []
   },
   "source": [
    "*Note:* Relative humidity can exist beyond 100% due to [supersaturation](https://www.chicagotribune.com/news/ct-xpm-2011-07-20-ct-wea-0720-asktom-20110720-story.html#:~:text=Surprisingly%2C%20yes%2C%20the%20condition%20is,is%20needed%20to%20cause%20saturation.). Water vapor begins to condense onto impurities (such as dust or salt particles) in the air as the RH approaches 100 percent, and a cloud or fog forms."
   ]
  },
  {
   "cell_type": "markdown",
   "id": "672a31ee-9751-4b20-8827-75961084a964",
   "metadata": {
    "cell_id": "00014-3a0c9409-4c8e-4edf-ac31-75292d116e62",
    "deepnote_cell_type": "markdown",
    "output_cleared": false,
    "tags": []
   },
   "source": [
    "## Feature 3: Weekly Average Precipitation"
   ]
  },
  {
   "cell_type": "markdown",
   "id": "d7382102-880d-4541-89a0-0a5719e0d391",
   "metadata": {
    "cell_id": "00023-c34b5b2b-6544-4dc1-bff4-95cdbafece9e",
    "deepnote_cell_type": "markdown"
   },
   "source": [
    "It's often thought that above-average precipitation leads to a higher abundance of mosquitoes and increases the potential for disease outbreaks like the West Nile Virus. This positive association has been confirmed by several [studies](https://www.ncbi.nlm.nih.gov/pmc/articles/PMC4342965/#RSTB20130561C42), but precipitation can be slightly more complex as a feature, as heavy rainfall could dilute the nutrients for larvae, thus decreasing development rate. It might also lead to a negative association by [flushing ditches and drainage channels used by Culex larvae](https://www.ncbi.nlm.nih.gov/pmc/articles/PMC4342965/#RSTB20130561C56).\n",
    "\n",
    "Regardless, precipitation is still worth looking into. Instead of looking at daily precipitation amounts which likely don't affect the presence of WNV on that particular day, we can take cumulative weekly precipiation into account, and create a feature measuring weeks with heavy rain."
   ]
  },
  {
   "cell_type": "code",
   "execution_count": 25,
   "id": "f95e3e87-43d4-4686-bded-dd43ec79561c",
   "metadata": {
    "cell_id": "00019-0643e4ec-e4fd-4865-b860-d0ea860c2ed7",
    "deepnote_cell_type": "code",
    "execution_millis": 2,
    "execution_start": 1607931002296,
    "output_cleared": false,
    "source_hash": "85193ced",
    "tags": []
   },
   "outputs": [],
   "source": [
    "def WeekPrecipTotal(row):\n",
    "    row['WeekPrecipTotal'] = group_df.loc[row['YearWeek']]['PrecipTotal']\n",
    "    return row"
   ]
  },
  {
   "cell_type": "code",
   "execution_count": 26,
   "id": "a2c22e92-a045-4113-b849-c993b5a0eda4",
   "metadata": {
    "cell_id": "00020-cc5caf7a-0e10-43c4-9e1e-3c67c9d0d503",
    "deepnote_cell_type": "code",
    "execution_millis": 1533,
    "execution_start": 1607931002360,
    "output_cleared": false,
    "source_hash": "bb215f01",
    "tags": []
   },
   "outputs": [
    {
     "data": {
      "text/html": [
       "<div>\n",
       "<style scoped>\n",
       "    .dataframe tbody tr th:only-of-type {\n",
       "        vertical-align: middle;\n",
       "    }\n",
       "\n",
       "    .dataframe tbody tr th {\n",
       "        vertical-align: top;\n",
       "    }\n",
       "\n",
       "    .dataframe thead th {\n",
       "        text-align: right;\n",
       "    }\n",
       "</style>\n",
       "<table border=\"1\" class=\"dataframe\">\n",
       "  <thead>\n",
       "    <tr style=\"text-align: right;\">\n",
       "      <th></th>\n",
       "      <th>Date</th>\n",
       "      <th>AvgSpeed</th>\n",
       "      <th>Cool</th>\n",
       "      <th>Depart</th>\n",
       "      <th>DewPoint</th>\n",
       "      <th>Heat</th>\n",
       "      <th>PrecipTotal</th>\n",
       "      <th>ResultDir</th>\n",
       "      <th>ResultSpeed</th>\n",
       "      <th>SeaLevel</th>\n",
       "      <th>StnPressure</th>\n",
       "      <th>Sunrise</th>\n",
       "      <th>Sunset</th>\n",
       "      <th>Tavg</th>\n",
       "      <th>Tmax</th>\n",
       "      <th>Tmin</th>\n",
       "      <th>WetBulb</th>\n",
       "      <th>lowvis</th>\n",
       "      <th>n_codesum</th>\n",
       "      <th>rain</th>\n",
       "      <th>Year</th>\n",
       "      <th>Month</th>\n",
       "      <th>Week</th>\n",
       "      <th>DayOfWeek</th>\n",
       "      <th>YearWeek</th>\n",
       "      <th>WeekAvgTemp</th>\n",
       "      <th>WinterDepart</th>\n",
       "      <th>SummerDepart</th>\n",
       "      <th>r_humid</th>\n",
       "      <th>WeekPrecipTotal</th>\n",
       "    </tr>\n",
       "  </thead>\n",
       "  <tbody>\n",
       "    <tr>\n",
       "      <th>0</th>\n",
       "      <td>2007-05-01</td>\n",
       "      <td>9.40</td>\n",
       "      <td>2.5</td>\n",
       "      <td>14.5</td>\n",
       "      <td>51.0</td>\n",
       "      <td>0.0</td>\n",
       "      <td>0.0</td>\n",
       "      <td>26.0</td>\n",
       "      <td>2.20</td>\n",
       "      <td>29.820</td>\n",
       "      <td>29.140</td>\n",
       "      <td>448.0</td>\n",
       "      <td>1849.0</td>\n",
       "      <td>67.5</td>\n",
       "      <td>83.5</td>\n",
       "      <td>51.0</td>\n",
       "      <td>56.5</td>\n",
       "      <td>0.0</td>\n",
       "      <td>0.0</td>\n",
       "      <td>0.0</td>\n",
       "      <td>2007</td>\n",
       "      <td>5</td>\n",
       "      <td>18</td>\n",
       "      <td>1</td>\n",
       "      <td>200718</td>\n",
       "      <td>59.416667</td>\n",
       "      <td>4.1</td>\n",
       "      <td>-0.3</td>\n",
       "      <td>55</td>\n",
       "      <td>0.015</td>\n",
       "    </tr>\n",
       "    <tr>\n",
       "      <th>1</th>\n",
       "      <td>2007-05-02</td>\n",
       "      <td>13.40</td>\n",
       "      <td>0.0</td>\n",
       "      <td>-2.5</td>\n",
       "      <td>42.0</td>\n",
       "      <td>13.5</td>\n",
       "      <td>0.0</td>\n",
       "      <td>3.0</td>\n",
       "      <td>13.15</td>\n",
       "      <td>30.085</td>\n",
       "      <td>29.410</td>\n",
       "      <td>447.0</td>\n",
       "      <td>1850.0</td>\n",
       "      <td>51.5</td>\n",
       "      <td>59.5</td>\n",
       "      <td>42.5</td>\n",
       "      <td>47.0</td>\n",
       "      <td>1.0</td>\n",
       "      <td>1.5</td>\n",
       "      <td>0.0</td>\n",
       "      <td>2007</td>\n",
       "      <td>5</td>\n",
       "      <td>18</td>\n",
       "      <td>2</td>\n",
       "      <td>200718</td>\n",
       "      <td>59.416667</td>\n",
       "      <td>4.1</td>\n",
       "      <td>-0.3</td>\n",
       "      <td>70</td>\n",
       "      <td>0.015</td>\n",
       "    </tr>\n",
       "    <tr>\n",
       "      <th>2</th>\n",
       "      <td>2007-05-03</td>\n",
       "      <td>12.55</td>\n",
       "      <td>0.0</td>\n",
       "      <td>3.0</td>\n",
       "      <td>40.0</td>\n",
       "      <td>8.0</td>\n",
       "      <td>0.0</td>\n",
       "      <td>6.5</td>\n",
       "      <td>12.30</td>\n",
       "      <td>30.120</td>\n",
       "      <td>29.425</td>\n",
       "      <td>446.0</td>\n",
       "      <td>1851.0</td>\n",
       "      <td>57.0</td>\n",
       "      <td>66.5</td>\n",
       "      <td>47.0</td>\n",
       "      <td>49.0</td>\n",
       "      <td>0.5</td>\n",
       "      <td>0.5</td>\n",
       "      <td>0.0</td>\n",
       "      <td>2007</td>\n",
       "      <td>5</td>\n",
       "      <td>18</td>\n",
       "      <td>3</td>\n",
       "      <td>200718</td>\n",
       "      <td>59.416667</td>\n",
       "      <td>4.1</td>\n",
       "      <td>-0.3</td>\n",
       "      <td>53</td>\n",
       "      <td>0.015</td>\n",
       "    </tr>\n",
       "  </tbody>\n",
       "</table>\n",
       "</div>"
      ],
      "text/plain": [
       "        Date  AvgSpeed  Cool  Depart  DewPoint  Heat  PrecipTotal  ResultDir  \\\n",
       "0 2007-05-01      9.40   2.5    14.5      51.0   0.0          0.0       26.0   \n",
       "1 2007-05-02     13.40   0.0    -2.5      42.0  13.5          0.0        3.0   \n",
       "2 2007-05-03     12.55   0.0     3.0      40.0   8.0          0.0        6.5   \n",
       "\n",
       "   ResultSpeed  SeaLevel  StnPressure  Sunrise  Sunset  Tavg  Tmax  Tmin  \\\n",
       "0         2.20    29.820       29.140    448.0  1849.0  67.5  83.5  51.0   \n",
       "1        13.15    30.085       29.410    447.0  1850.0  51.5  59.5  42.5   \n",
       "2        12.30    30.120       29.425    446.0  1851.0  57.0  66.5  47.0   \n",
       "\n",
       "   WetBulb  lowvis  n_codesum  rain  Year  Month  Week  DayOfWeek  YearWeek  \\\n",
       "0     56.5     0.0        0.0   0.0  2007      5    18          1    200718   \n",
       "1     47.0     1.0        1.5   0.0  2007      5    18          2    200718   \n",
       "2     49.0     0.5        0.5   0.0  2007      5    18          3    200718   \n",
       "\n",
       "   WeekAvgTemp  WinterDepart  SummerDepart  r_humid  WeekPrecipTotal  \n",
       "0    59.416667           4.1          -0.3       55            0.015  \n",
       "1    59.416667           4.1          -0.3       70            0.015  \n",
       "2    59.416667           4.1          -0.3       53            0.015  "
      ]
     },
     "execution_count": 26,
     "metadata": {},
     "output_type": "execute_result"
    }
   ],
   "source": [
    "weather = weather.apply(WeekPrecipTotal, axis=1)\n",
    "weather.head(3)"
   ]
  },
  {
   "cell_type": "markdown",
   "id": "bdc4b2aa-f5b2-42c2-b127-b4ea54336084",
   "metadata": {
    "cell_id": "00036-b3b8e781-a975-470f-8ab3-1bb33c89659f",
    "deepnote_cell_type": "markdown",
    "output_cleared": false,
    "tags": []
   },
   "source": [
    "## Time-lagged Features"
   ]
  },
  {
   "cell_type": "markdown",
   "id": "771014db-220a-4065-8bdf-8f9b03c1ae81",
   "metadata": {
    "cell_id": "00043-21b905ce-aff2-4165-8c80-a696c8501f61",
    "deepnote_cell_type": "markdown"
   },
   "source": [
    "Some [studies](https://pubmed.ncbi.nlm.nih.gov/30145430/) have argued that increased precipitation and temperatures might have a <n>lagged direct effect</n> on the incidence of WNV infection. Given that the incubation period for most Culex mosquitos is approximately [7-10 days](https://www.cdc.gov/mosquitoes/about/life-cycles/culex.html#:~:text=Life%20stages%20of%20Culex%20pipiens,develop%20into%20an%20adult%20mosquito) or [8-10 days (Source: CDC, 2021)](https://www.cdc.gov/dengue/resources/factsheets/mosquitolifecyclefinal.pdf), the temperature, humidity and precipitation of previous weeks could play into higher mosquito growth in following weeks. According to the CDC, eggs are ready to hatch from a few days to several months after being laid. \n",
    "\n",
    "Thus, we'll create some time-lagged variables going back to a month before the current date."
   ]
  },
  {
   "cell_type": "markdown",
   "id": "ad2bee56-6df2-465d-ad12-524b4b83990d",
   "metadata": {
    "cell_id": "00037-2a6bdad1-4f04-46c8-a4d7-b18088433c06",
    "deepnote_cell_type": "markdown",
    "output_cleared": false,
    "tags": []
   },
   "source": [
    "### Average Temperature (1 week - 4 weeks before)"
   ]
  },
  {
   "cell_type": "code",
   "execution_count": 27,
   "id": "daf34a3e-f3f9-43b9-90c5-98d122af58ca",
   "metadata": {
    "cell_id": "00038-ea023a68-395c-4b3d-8250-58738036e9f7",
    "deepnote_cell_type": "code",
    "execution_millis": 2,
    "execution_start": 1607931018859,
    "output_cleared": false,
    "source_hash": "561fcc41",
    "tags": []
   },
   "outputs": [],
   "source": [
    "def create_templag(row):   \n",
    "    # Getting average temperature one week before\n",
    "    YearWeek = row['YearWeek']\n",
    "    \n",
    "    # Calculating average temperature for up to four weeks before\n",
    "    for i in range(4):\n",
    "        try:\n",
    "            row[f'templag{i+1}'] = weather[weather['YearWeek'] == (YearWeek - (i+1))]['WeekAvgTemp'].unique()[0]\n",
    "            \n",
    "        # For the first 4 weeks of the year where no previous data exists, create rough estimate of temperatures\n",
    "        except IndexError:\n",
    "            row[f'templag{i+1}'] = row['WeekAvgTemp'] - i\n",
    "    return row"
   ]
  },
  {
   "cell_type": "code",
   "execution_count": 28,
   "id": "b438296f-f3e4-47da-9fb8-48ea78e2ac3d",
   "metadata": {
    "cell_id": "00040-77dc8c88-62cc-479f-a0d3-577a60acfe6c",
    "deepnote_cell_type": "code",
    "execution_millis": 7761,
    "execution_start": 1607931018865,
    "output_cleared": false,
    "source_hash": "ca30ce8f",
    "tags": []
   },
   "outputs": [],
   "source": [
    "weather = weather.apply(create_templag, axis=1)"
   ]
  },
  {
   "cell_type": "markdown",
   "id": "c41f464d-6816-493c-ab25-284464580384",
   "metadata": {
    "cell_id": "00045-c0d98675-cf56-4a8a-80f8-858a18658da4",
    "deepnote_cell_type": "markdown",
    "output_cleared": false,
    "tags": []
   },
   "source": [
    "### Cumulative Weekly Precipitation (1 week - 4 weeks before)"
   ]
  },
  {
   "cell_type": "code",
   "execution_count": 29,
   "id": "54e6c7c7-ab24-495e-8385-11d3043087ea",
   "metadata": {
    "cell_id": "00046-e8f33c84-e745-4efb-81c6-218c6ff23e67",
    "deepnote_cell_type": "code",
    "execution_millis": 0,
    "execution_start": 1607931026673,
    "output_cleared": false,
    "source_hash": "c9c8b213",
    "tags": []
   },
   "outputs": [],
   "source": [
    "def create_rainlag(row):\n",
    "    # Getting average temperature one week before\n",
    "    YearWeek = row['YearWeek']\n",
    "    \n",
    "    # Calculating average temperature for up to four weeks before\n",
    "    for i in range(4):\n",
    "        try:\n",
    "            row[f'rainlag{i+1}'] = weather[weather['YearWeek'] == (YearWeek - (i+1))]['WeekPrecipTotal'].unique()[0]\n",
    "            \n",
    "        # Use average of column if no data available\n",
    "        except IndexError:\n",
    "            row[f'rainlag{i+1}'] = weather['WeekPrecipTotal'].mean()\n",
    "    return row"
   ]
  },
  {
   "cell_type": "code",
   "execution_count": 30,
   "id": "92f45616-0820-4bfe-b053-b756fc8a193f",
   "metadata": {
    "cell_id": "00047-be60d8e6-eb59-42fe-8e64-4726259b0c2a",
    "deepnote_cell_type": "code",
    "execution_millis": 7920,
    "execution_start": 1607931026674,
    "output_cleared": false,
    "source_hash": "62da2f5",
    "tags": []
   },
   "outputs": [],
   "source": [
    "weather = weather.apply(create_rainlag, axis=1)"
   ]
  },
  {
   "cell_type": "markdown",
   "id": "bd978c6c-70d9-473d-a717-3c1aeeb84e84",
   "metadata": {
    "cell_id": "00036-fb234b61-f2e4-4fa1-ae30-a58ff4c73a2a",
    "deepnote_cell_type": "markdown",
    "output_cleared": false,
    "tags": []
   },
   "source": [
    "### Relative Humidity (1 week - 4 weeks before)"
   ]
  },
  {
   "cell_type": "code",
   "execution_count": 31,
   "id": "92313c23-450d-45ab-b028-26ac293b982a",
   "metadata": {
    "cell_id": "00038-2d718082-7463-4aa4-ac1c-0024bff2f83b",
    "deepnote_cell_type": "code",
    "execution_millis": 0,
    "execution_start": 1607997378657,
    "output_cleared": false,
    "source_hash": "3db177d7",
    "tags": []
   },
   "outputs": [],
   "source": [
    "def create_humidlag(row):\n",
    "    # Getting average temperature one week before\n",
    "    YearWeek = row['YearWeek']\n",
    "    \n",
    "    # Calculating average temperature for up to four weeks before\n",
    "    for i in range(4):\n",
    "        try:\n",
    "            row[f'humidlag{i+1}'] = weather[weather['YearWeek'] == (YearWeek - (i+1))]['r_humid'].unique()[0]\n",
    "            \n",
    "        # Use average of column if no data available\n",
    "        except IndexError:\n",
    "            row[f'humidlag{i+1}'] = weather['r_humid'].mean()\n",
    "    return row"
   ]
  },
  {
   "cell_type": "code",
   "execution_count": 32,
   "id": "e5769d5c-d60d-4f54-9b01-f59a8183de3f",
   "metadata": {
    "cell_id": "00038-a68849cd-7dde-4d65-ae0b-fc9c2bbeb24a",
    "deepnote_cell_type": "code",
    "execution_millis": 7755,
    "execution_start": 1607931034602,
    "output_cleared": false,
    "source_hash": "4cc891d5",
    "tags": []
   },
   "outputs": [],
   "source": [
    "weather = weather.apply(create_humidlag, axis=1)"
   ]
  },
  {
   "cell_type": "code",
   "execution_count": 33,
   "id": "0f1a939f-4189-42a0-857f-52050ca86caf",
   "metadata": {
    "cell_id": "00040-9dae80a8-a442-42e7-889e-8a977cf20d1a",
    "deepnote_cell_type": "code",
    "execution_millis": 21,
    "execution_start": 1607931205286,
    "output_cleared": false,
    "source_hash": "f6fa1d25",
    "tags": []
   },
   "outputs": [
    {
     "data": {
      "text/html": [
       "<div>\n",
       "<style scoped>\n",
       "    .dataframe tbody tr th:only-of-type {\n",
       "        vertical-align: middle;\n",
       "    }\n",
       "\n",
       "    .dataframe tbody tr th {\n",
       "        vertical-align: top;\n",
       "    }\n",
       "\n",
       "    .dataframe thead th {\n",
       "        text-align: right;\n",
       "    }\n",
       "</style>\n",
       "<table border=\"1\" class=\"dataframe\">\n",
       "  <thead>\n",
       "    <tr style=\"text-align: right;\">\n",
       "      <th></th>\n",
       "      <th>WeekAvgTemp</th>\n",
       "      <th>templag1</th>\n",
       "      <th>templag2</th>\n",
       "      <th>templag3</th>\n",
       "      <th>templag4</th>\n",
       "    </tr>\n",
       "    <tr>\n",
       "      <th>YearWeek</th>\n",
       "      <th></th>\n",
       "      <th></th>\n",
       "      <th></th>\n",
       "      <th></th>\n",
       "      <th></th>\n",
       "    </tr>\n",
       "  </thead>\n",
       "  <tbody>\n",
       "    <tr>\n",
       "      <th>201440</th>\n",
       "      <td>57.142857</td>\n",
       "      <td>65.285714</td>\n",
       "      <td>62.142857</td>\n",
       "      <td>60.071429</td>\n",
       "      <td>74.428571</td>\n",
       "    </tr>\n",
       "    <tr>\n",
       "      <th>201441</th>\n",
       "      <td>53.714286</td>\n",
       "      <td>57.142857</td>\n",
       "      <td>65.285714</td>\n",
       "      <td>62.142857</td>\n",
       "      <td>60.071429</td>\n",
       "    </tr>\n",
       "    <tr>\n",
       "      <th>201442</th>\n",
       "      <td>54.000000</td>\n",
       "      <td>53.714286</td>\n",
       "      <td>57.142857</td>\n",
       "      <td>65.285714</td>\n",
       "      <td>62.142857</td>\n",
       "    </tr>\n",
       "    <tr>\n",
       "      <th>201443</th>\n",
       "      <td>54.642857</td>\n",
       "      <td>54.000000</td>\n",
       "      <td>53.714286</td>\n",
       "      <td>57.142857</td>\n",
       "      <td>65.285714</td>\n",
       "    </tr>\n",
       "    <tr>\n",
       "      <th>201444</th>\n",
       "      <td>50.200000</td>\n",
       "      <td>54.642857</td>\n",
       "      <td>54.000000</td>\n",
       "      <td>53.714286</td>\n",
       "      <td>57.142857</td>\n",
       "    </tr>\n",
       "  </tbody>\n",
       "</table>\n",
       "</div>"
      ],
      "text/plain": [
       "          WeekAvgTemp   templag1   templag2   templag3   templag4\n",
       "YearWeek                                                         \n",
       "201440      57.142857  65.285714  62.142857  60.071429  74.428571\n",
       "201441      53.714286  57.142857  65.285714  62.142857  60.071429\n",
       "201442      54.000000  53.714286  57.142857  65.285714  62.142857\n",
       "201443      54.642857  54.000000  53.714286  57.142857  65.285714\n",
       "201444      50.200000  54.642857  54.000000  53.714286  57.142857"
      ]
     },
     "execution_count": 33,
     "metadata": {},
     "output_type": "execute_result"
    }
   ],
   "source": [
    "# Checking that temperature lagged variables are correct\n",
    "weather.groupby(by='YearWeek').mean()[['WeekAvgTemp', 'templag1', 'templag2', 'templag3', 'templag4']].tail(5)"
   ]
  },
  {
   "cell_type": "markdown",
   "id": "c62ce60f-6b22-4eab-b22d-1272fc9457a5",
   "metadata": {
    "cell_id": "00036-fb234b61-f2e4-4fa1-ae30-a58ff4c73a2a",
    "deepnote_cell_type": "markdown",
    "output_cleared": false,
    "tags": []
   },
   "source": [
    "### Wind related\n",
    "lag this by days (1,3,7,14)"
   ]
  },
  {
   "cell_type": "code",
   "execution_count": 34,
   "id": "0f82861c-8282-421b-88d8-3d37820bc890",
   "metadata": {},
   "outputs": [
    {
     "data": {
      "text/plain": [
       "Index(['Date', 'AvgSpeed', 'Cool', 'Depart', 'DewPoint', 'Heat', 'PrecipTotal',\n",
       "       'ResultDir', 'ResultSpeed', 'SeaLevel', 'StnPressure', 'Sunrise',\n",
       "       'Sunset', 'Tavg', 'Tmax', 'Tmin', 'WetBulb', 'lowvis', 'n_codesum',\n",
       "       'rain', 'Year', 'Month', 'Week', 'DayOfWeek', 'YearWeek', 'WeekAvgTemp',\n",
       "       'WinterDepart', 'SummerDepart', 'r_humid', 'WeekPrecipTotal',\n",
       "       'templag1', 'templag2', 'templag3', 'templag4', 'rainlag1', 'rainlag2',\n",
       "       'rainlag3', 'rainlag4', 'humidlag1', 'humidlag2', 'humidlag3',\n",
       "       'humidlag4'],\n",
       "      dtype='object')"
      ]
     },
     "execution_count": 34,
     "metadata": {},
     "output_type": "execute_result"
    }
   ],
   "source": [
    "weather.columns"
   ]
  },
  {
   "cell_type": "code",
   "execution_count": 33,
   "id": "84b3f0c5-20c8-4871-a3d9-5aeefb25faa3",
   "metadata": {},
   "outputs": [
    {
     "ename": "KeyError",
     "evalue": "'Station'",
     "output_type": "error",
     "traceback": [
      "\u001b[1;31m---------------------------------------------------------------------------\u001b[0m",
      "\u001b[1;31mKeyError\u001b[0m                                  Traceback (most recent call last)",
      "\u001b[1;32m~\\anaconda3\\lib\\site-packages\\pandas\\core\\indexes\\base.py\u001b[0m in \u001b[0;36mget_loc\u001b[1;34m(self, key, method, tolerance)\u001b[0m\n\u001b[0;32m   3628\u001b[0m             \u001b[1;32mtry\u001b[0m\u001b[1;33m:\u001b[0m\u001b[1;33m\u001b[0m\u001b[1;33m\u001b[0m\u001b[0m\n\u001b[1;32m-> 3629\u001b[1;33m                 \u001b[1;32mreturn\u001b[0m \u001b[0mself\u001b[0m\u001b[1;33m.\u001b[0m\u001b[0m_engine\u001b[0m\u001b[1;33m.\u001b[0m\u001b[0mget_loc\u001b[0m\u001b[1;33m(\u001b[0m\u001b[0mcasted_key\u001b[0m\u001b[1;33m)\u001b[0m\u001b[1;33m\u001b[0m\u001b[1;33m\u001b[0m\u001b[0m\n\u001b[0m\u001b[0;32m   3630\u001b[0m             \u001b[1;32mexcept\u001b[0m \u001b[0mKeyError\u001b[0m \u001b[1;32mas\u001b[0m \u001b[0merr\u001b[0m\u001b[1;33m:\u001b[0m\u001b[1;33m\u001b[0m\u001b[1;33m\u001b[0m\u001b[0m\n",
      "\u001b[1;32m~\\anaconda3\\lib\\site-packages\\pandas\\_libs\\index.pyx\u001b[0m in \u001b[0;36mpandas._libs.index.IndexEngine.get_loc\u001b[1;34m()\u001b[0m\n",
      "\u001b[1;32m~\\anaconda3\\lib\\site-packages\\pandas\\_libs\\index.pyx\u001b[0m in \u001b[0;36mpandas._libs.index.IndexEngine.get_loc\u001b[1;34m()\u001b[0m\n",
      "\u001b[1;32mpandas\\_libs\\hashtable_class_helper.pxi\u001b[0m in \u001b[0;36mpandas._libs.hashtable.PyObjectHashTable.get_item\u001b[1;34m()\u001b[0m\n",
      "\u001b[1;32mpandas\\_libs\\hashtable_class_helper.pxi\u001b[0m in \u001b[0;36mpandas._libs.hashtable.PyObjectHashTable.get_item\u001b[1;34m()\u001b[0m\n",
      "\u001b[1;31mKeyError\u001b[0m: 'Station'",
      "\nThe above exception was the direct cause of the following exception:\n",
      "\u001b[1;31mKeyError\u001b[0m                                  Traceback (most recent call last)",
      "\u001b[1;32m~\\AppData\\Local\\Temp\\ipykernel_18152\\3718544810.py\u001b[0m in \u001b[0;36m<cell line: 2>\u001b[1;34m()\u001b[0m\n\u001b[0;32m      1\u001b[0m \u001b[1;31m# split the weather features by stations\u001b[0m\u001b[1;33m\u001b[0m\u001b[1;33m\u001b[0m\u001b[0m\n\u001b[1;32m----> 2\u001b[1;33m \u001b[0mweather_df_group1\u001b[0m \u001b[1;33m=\u001b[0m \u001b[0mweather\u001b[0m\u001b[1;33m.\u001b[0m\u001b[0mloc\u001b[0m\u001b[1;33m[\u001b[0m\u001b[0mweather\u001b[0m\u001b[1;33m[\u001b[0m\u001b[1;34m'Station'\u001b[0m\u001b[1;33m]\u001b[0m\u001b[1;33m==\u001b[0m\u001b[1;36m1\u001b[0m\u001b[1;33m]\u001b[0m\u001b[1;33m\u001b[0m\u001b[1;33m\u001b[0m\u001b[0m\n\u001b[0m\u001b[0;32m      3\u001b[0m \u001b[0mweather_df_group2\u001b[0m \u001b[1;33m=\u001b[0m \u001b[0mweather\u001b[0m\u001b[1;33m.\u001b[0m\u001b[0mloc\u001b[0m\u001b[1;33m[\u001b[0m\u001b[0mweather\u001b[0m\u001b[1;33m[\u001b[0m\u001b[1;34m'Station'\u001b[0m\u001b[1;33m]\u001b[0m\u001b[1;33m==\u001b[0m\u001b[1;36m2\u001b[0m\u001b[1;33m]\u001b[0m\u001b[1;33m\u001b[0m\u001b[1;33m\u001b[0m\u001b[0m\n",
      "\u001b[1;32m~\\anaconda3\\lib\\site-packages\\pandas\\core\\frame.py\u001b[0m in \u001b[0;36m__getitem__\u001b[1;34m(self, key)\u001b[0m\n\u001b[0;32m   3503\u001b[0m             \u001b[1;32mif\u001b[0m \u001b[0mself\u001b[0m\u001b[1;33m.\u001b[0m\u001b[0mcolumns\u001b[0m\u001b[1;33m.\u001b[0m\u001b[0mnlevels\u001b[0m \u001b[1;33m>\u001b[0m \u001b[1;36m1\u001b[0m\u001b[1;33m:\u001b[0m\u001b[1;33m\u001b[0m\u001b[1;33m\u001b[0m\u001b[0m\n\u001b[0;32m   3504\u001b[0m                 \u001b[1;32mreturn\u001b[0m \u001b[0mself\u001b[0m\u001b[1;33m.\u001b[0m\u001b[0m_getitem_multilevel\u001b[0m\u001b[1;33m(\u001b[0m\u001b[0mkey\u001b[0m\u001b[1;33m)\u001b[0m\u001b[1;33m\u001b[0m\u001b[1;33m\u001b[0m\u001b[0m\n\u001b[1;32m-> 3505\u001b[1;33m             \u001b[0mindexer\u001b[0m \u001b[1;33m=\u001b[0m \u001b[0mself\u001b[0m\u001b[1;33m.\u001b[0m\u001b[0mcolumns\u001b[0m\u001b[1;33m.\u001b[0m\u001b[0mget_loc\u001b[0m\u001b[1;33m(\u001b[0m\u001b[0mkey\u001b[0m\u001b[1;33m)\u001b[0m\u001b[1;33m\u001b[0m\u001b[1;33m\u001b[0m\u001b[0m\n\u001b[0m\u001b[0;32m   3506\u001b[0m             \u001b[1;32mif\u001b[0m \u001b[0mis_integer\u001b[0m\u001b[1;33m(\u001b[0m\u001b[0mindexer\u001b[0m\u001b[1;33m)\u001b[0m\u001b[1;33m:\u001b[0m\u001b[1;33m\u001b[0m\u001b[1;33m\u001b[0m\u001b[0m\n\u001b[0;32m   3507\u001b[0m                 \u001b[0mindexer\u001b[0m \u001b[1;33m=\u001b[0m \u001b[1;33m[\u001b[0m\u001b[0mindexer\u001b[0m\u001b[1;33m]\u001b[0m\u001b[1;33m\u001b[0m\u001b[1;33m\u001b[0m\u001b[0m\n",
      "\u001b[1;32m~\\anaconda3\\lib\\site-packages\\pandas\\core\\indexes\\base.py\u001b[0m in \u001b[0;36mget_loc\u001b[1;34m(self, key, method, tolerance)\u001b[0m\n\u001b[0;32m   3629\u001b[0m                 \u001b[1;32mreturn\u001b[0m \u001b[0mself\u001b[0m\u001b[1;33m.\u001b[0m\u001b[0m_engine\u001b[0m\u001b[1;33m.\u001b[0m\u001b[0mget_loc\u001b[0m\u001b[1;33m(\u001b[0m\u001b[0mcasted_key\u001b[0m\u001b[1;33m)\u001b[0m\u001b[1;33m\u001b[0m\u001b[1;33m\u001b[0m\u001b[0m\n\u001b[0;32m   3630\u001b[0m             \u001b[1;32mexcept\u001b[0m \u001b[0mKeyError\u001b[0m \u001b[1;32mas\u001b[0m \u001b[0merr\u001b[0m\u001b[1;33m:\u001b[0m\u001b[1;33m\u001b[0m\u001b[1;33m\u001b[0m\u001b[0m\n\u001b[1;32m-> 3631\u001b[1;33m                 \u001b[1;32mraise\u001b[0m \u001b[0mKeyError\u001b[0m\u001b[1;33m(\u001b[0m\u001b[0mkey\u001b[0m\u001b[1;33m)\u001b[0m \u001b[1;32mfrom\u001b[0m \u001b[0merr\u001b[0m\u001b[1;33m\u001b[0m\u001b[1;33m\u001b[0m\u001b[0m\n\u001b[0m\u001b[0;32m   3632\u001b[0m             \u001b[1;32mexcept\u001b[0m \u001b[0mTypeError\u001b[0m\u001b[1;33m:\u001b[0m\u001b[1;33m\u001b[0m\u001b[1;33m\u001b[0m\u001b[0m\n\u001b[0;32m   3633\u001b[0m                 \u001b[1;31m# If we have a listlike key, _check_indexing_error will raise\u001b[0m\u001b[1;33m\u001b[0m\u001b[1;33m\u001b[0m\u001b[0m\n",
      "\u001b[1;31mKeyError\u001b[0m: 'Station'"
     ]
    }
   ],
   "source": [
    "# create a variable to store the wind features to do a time lag on\n",
    "wind_features = ['AvgSpeed', 'ResultDir', 'ResultSpeed', 'SeaLevel', 'StnPressure']\n",
    "\n",
    "lag_df = weather[wind_features]\n",
    "\n",
    "# set the number of lags in days\n",
    "lags = (1, 3, 7, 14)\n",
    "\n",
    "# assign new columns to the respective dataframes\n",
    "wind_lag_df = weather.assign(**{f'{col}_lag_{n}': group1_lag_features[col].shift(n) for n in lags for col in wind_features})\n"
   ]
  },
  {
   "cell_type": "code",
   "execution_count": null,
   "id": "bc147bc2-5ca6-4023-9847-35a31f90ed37",
   "metadata": {},
   "outputs": [],
   "source": []
  }
 ],
 "metadata": {
  "kernelspec": {
   "display_name": "Python 3 (ipykernel)",
   "language": "python",
   "name": "python3"
  },
  "language_info": {
   "codemirror_mode": {
    "name": "ipython",
    "version": 3
   },
   "file_extension": ".py",
   "mimetype": "text/x-python",
   "name": "python",
   "nbconvert_exporter": "python",
   "pygments_lexer": "ipython3",
   "version": "3.9.12"
  }
 },
 "nbformat": 4,
 "nbformat_minor": 5
}
