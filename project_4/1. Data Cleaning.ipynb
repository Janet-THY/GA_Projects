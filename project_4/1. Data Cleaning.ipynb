{
 "cells": [
  {
   "cell_type": "markdown",
   "metadata": {
    "cell_id": "00000-6984d6d4-91a0-44b2-b048-48ab8a8cd84b",
    "deepnote_cell_type": "markdown",
    "tags": []
   },
   "source": [
    "# Project 4: West Nile Virus Prediction"
   ]
  },
  {
   "cell_type": "markdown",
   "metadata": {},
   "source": [
    "Notebook 1 of 5"
   ]
  },
  {
   "cell_type": "markdown",
   "metadata": {},
   "source": [
    "**Contents:**\n",
    "\n",
    "- [Introduction/ Background](##Introduction/Background)\n",
    "- [Problem Statement](##Problem_Statement)\n",
    "- [Objective](##Objective)\n",
    "- [Datasets/ Data Dictionary](##Datasets)\n",
    "- [Data Cleaning](##Data_Cleaning)"
   ]
  },
  {
   "cell_type": "markdown",
   "metadata": {
    "cell_id": "00000-6984d6d4-91a0-44b2-b048-48ab8a8cd84b",
    "deepnote_cell_type": "markdown",
    "tags": []
   },
   "source": [
    "## Introduction/ Background"
   ]
  },
  {
   "cell_type": "markdown",
   "metadata": {
    "cell_id": "00000-f92f699c-ee90-4c35-9c15-e2e583d61eee",
    "deepnote_cell_type": "markdown",
    "tags": []
   },
   "source": [
    "The West Nile Virus (WNV) has been a worrying disease for the United States since 1999. The [CDC](https://www.cdc.gov/westnile/index.html) has acknowledged it as the leading cause of mosquito-borne disease feeding on infected birds [(*source*)](https://parasitesandvectors.biomedcentral.com/articles/10.1186/1756-3305-3-19#citeas) in the continental United States. Now, there are still no vaccines to prevent or medications to cure WNV patients -- statistics data from the CDC, West Nile fever (WNF) is a potentially serious illness for humans and approximately 1 in 150 infected people develop a serious illness with symptoms that might last for several weeks. Up to 1/5 of patients have milder symptoms and approximately 4/5 show no symptoms at all [(*source*)](http://www.cdc.gov/westnile/faq/genQuestions.html).\n",
    "\n",
    "In Illinois, [West Nile virus was first identified in September 2001](https://www.dph.illinois.gov/topics-services/diseases-and-conditions/west-nile-virus) when laboratory tests confirmed its presence in two dead crows found in the Chicago area. The following year, the state's first human case and death from West Nile disease were recorded and all but two of the state's 102 counties eventually reported a positive human, bird, mosquito or horse. By the end of 2002, Illinois had counted more human cases (884) and deaths (64) than any other state in the United States.\n",
    "\n",
    "Since then, Illinois and more specifically Chicago, has continued to suffer from multiple outbreaks of the WNV. From 2005 to 2016, a total of 1,371 human WNV cases were [reported](https://journals.plos.org/plosone/article?id=10.1371/journal.pone.0227160) within Illinois. Out of these total reported cases, 906 cases (66%) were from the Chicago region (Cook and DuPage Counties). "
   ]
  },
  {
   "cell_type": "markdown",
   "metadata": {},
   "source": [
    "## Problem Statement\n",
    "Being hired by the division of Societal Cures In Epidemiology and New Creative Engineering (DATA-SCIENCE), with the above in mind, <b>our project aims at predicting outbreaks of the WNV</b>. This helps the City of Chicago and the Chicago Department of Public Health (CDPH) to allocate resources more efficiently and effectively toward preventing the transmission of this potentially deadly virus. Specifically, our model will use a combination of weather, time, and location feature to predict the presence of WNV within mosquito traps set up throughout Chicago. \n",
    "\n",
    "<b> Our project also aims to determine the best strategy for controlling the spread of the WNV</b>, as well as <b>discussing and justifying the various trade-offs that need to be made in implementing our model</b>.\n",
    "\n",
    "*Key Questions*:\n",
    "1. Which species of mosquito is(are) the key carrier of WNV?  \n",
    "1. What are the keys factors from weather that lead to high positive WNV cases? Temperature? Season? Condition? Precipitation Total? \n",
    "1. How has higher temperature affected the mosquito infection rate then human cases of WNV? \n",
    "1. What is the prediction of WNV outbreaks/ presence based on the parameters given?\n",
    "1. Which area in Chicago has the most positive WNV?\n",
    "1. Where shall the spraying effort focus on? or reinforce?\n",
    "1. At what point, the cost and benefit of the spraying program will break even?\n"
   ]
  },
  {
   "cell_type": "markdown",
   "metadata": {},
   "source": [
    "## Objective\n",
    "This is a supervised learning task, since the labels are provided (the expected output, i.e., binary representation of whether WNV was present within mosquito traps). \n",
    "\n",
    "We will be predicting two discrete class labels. More specifically, this is a binary classification problem with the ultimate goal -- to build a classifier to distinguish between just two classes, whether WNV was present in these mosquitos. 1 means WNV is present, and 0 means not present.\n",
    "\n",
    "We will evaluate the performance of our model using AUC (Area Under Curve) score as the North Star metric. AUC score can be obtained by measuring the area under the receiver operating characteristic(ROC) curve. The ROC curve plots the true positive rate (TPR) against the false positive rate (FPR).  Our motivation is to increase the correct prediction (TP, TN) out of all the prediction, to detect correctly. The closer the AUC score to 1, the better the model is performing. "
   ]
  },
  {
   "cell_type": "markdown",
   "metadata": {},
   "source": [
    "## Datasets\n",
    "\n",
    "- `train.csv` : the training set consists of data from 2007, 2009, 2011, and 2013.\n",
    "- `test.csv`  : the test set is used to predict the test results for 2008, 2010, 2012, and 2014.\n",
    "- `weather.csv`: weather data from 2007 to 2014.\n",
    "- `spray.csv` : GIS data of spraying efforts in 2011 and 2013\n",
    "\n",
    "Every year from late-May to early-October, public health workers in Chicago setup mosquito traps scattered across the city. Every week from Monday through Wednesday, these traps collect mosquitos, and the mosquitos are tested for the presence of West Nile virus before the end of the week. The test results include the number of mosquitos, the mosquitos species, and whether or not West Nile virus is present in the cohort.\n",
    "\n",
    "<u>`train` & `test` dataset </u>\n",
    "\n",
    "These test results are organized in such a way that when the number of mosquitos exceed 50, they are split into another record (another row in the dataset), such that the number of mosquitos are capped at 50. The location of the traps are described by the block number and street name. These attributes have been mapped into Longitude and Latitude in the dataset and are derived locations. For example, Block=79, and Street= \"W FOSTER AVE\" gives us an approximate address of \"7900 W FOSTER AVE, Chicago, IL\", which translates to (41.974089,-87.824812) on the map.\n",
    "\n",
    "Some traps are \"satellite traps\". These are traps that are set up near (usually within 6 blocks) an established trap to enhance surveillance efforts. Satellite traps are postfixed with letters. For example, T220A is a satellite trap to T220. Not all the locations are tested at all times. Also, records exist only when a particular species of mosquitos is found at a certain trap at a certain time.\n",
    "\n",
    "<u>`spray` dataset</u>\n",
    "\n",
    "The City of Chicago also does spraying to kill mosquitos. Spraying can reduce the number of mosquitos in the area, and therefore might eliminate the appearance of West Nile virus.\n",
    "\n",
    "<u>`weather` dataset</u>\n",
    "\n",
    "It is believed that hot and dry conditions after wetter condition are more favorable for West Nile virus than cold and wet. The dataset is from National Oceanic and Atmospheric Administration (NOAA) of the weather conditions of 2007 to 2014, during the months of the tests.\n",
    "\n",
    "Station 1: CHICAGO O'HARE INTERNATIONAL AIRPORT Lat: 41.995 Lon: -87.933 Elev: 662 ft. above sea level\n",
    "\n",
    "Station 2: CHICAGO MIDWAY INTL ARPT Lat: 41.786 Lon: -87.752 Elev: 612 ft. above sea level"
   ]
  },
  {
   "cell_type": "markdown",
   "metadata": {},
   "source": [
    "## Data Dictionary\n",
    "\n",
    "| **Columns** | **Type** | **Dataset** | **Description** |\n",
    "|---|---|---|---|\n",
    "| **Id** | *integer* | test | The id of the record |\n",
    "| **Date** | *datetime* | train/ test | Date that the WNV test is performed (YYYY-MM-DD) |\n",
    "| **Address** | *object* | train/ test | Approximate address of the location of trap. This is used to send to the GeoCoder. | \n",
    "| **Species** | *object* | train/ test | The species of mosquitos |\n",
    "| **Block** | *integer* | train/ test | Block number of address | \n",
    "| **Street** | *object* | train/ test | Street name |\n",
    "| **Trap** | *object* | train/ test | Id of the trap |\n",
    "| **AddressNumberAndStreet** | *object* | train/ test | Approximate address returned from GeoCoder |\n",
    "| **Latitude, Longitude** | *float* | train/ test | Latitude and Longitude returned from GeoCoder |\n",
    "| **AddressAccuracy** | *integer* | train/ test | Accuracy returned from GeoCoder |\n",
    "| **NumMosquitos** | *integer* | train/ test | Number of mosquitoes caught in this trap |\n",
    "| **WnvPresent** | *integer* | train/ test | Whether West Nile Virus was present in these mosquitos. (1 means WNV is present, while 0 means WNV is absent.) \n",
    "| **Date** | *datetime* | spray | The date of the spray (YYYY-MM-DD) |\n",
    "| **Time** | *object* | spray | The time of the spray |\n",
    "| **Latitude, Longitude** | *float* | spray | The Latitude and Longitude of the spray |\n",
    "| **Station** | *integer* | weather | Weather station (1 or 2) |\n",
    "| **Date** | *datetime* | weather | Date of measurement (YYYY-MM-DD)|\n",
    "| **Tmax** | *integer* | weather | Maximum daily temperature (in Degrees Fahrenheit, F) |\n",
    "| **Tmin** | *integer* | weather | Minimum daily temperature (in Degrees Fahrenheit, F) |\n",
    "| **Tavg** | *object* | weather | Average daily temperature (in Degrees Fahrenheit, F) |\n",
    "| **Depart** | *object* | weather | Departure from normal temperature (in Degrees Fahrenheit, F) |\n",
    "| **DewPoint** | *integer* | weather | Average Dew Point temperature (in Degrees Fahrenheit, F) |\n",
    "| **WetBulb** | *object* | weather | Average Wet Bulb temperature (in Degrees Fahrenheit, F) |\n",
    "| **Heat** | *object* | weather | Heating Degree Days (season begins with July) |\n",
    "| **Cool** | *object* | weather | Cooling Degree Days (season begins with January) |\n",
    "| **Sunrise** | *object* | weather | Time of sunrise (calculated) |\n",
    "| **Sunset** | *object* | weather | Time of sunset (calculated) |\n",
    "| **CodeSum** | *object* | weather | Code of significant weather phenomena |\n",
    "| **Depth** | *object* | weather | Snow/ice depth on the ground in inches, measured at 1200 UTC |\n",
    "| **Water1** | *object* | weather | Water equivalent in inches, measured at 1800 UTC |\n",
    "| **SnowFall** | *object* | weather | Total snowfall precipitation for the day (in inches and tenths) |\n",
    "| **PrecipTotal** | *object* | weather | Total water equivalent precipitation for the day (in inches and tenths).  |\n",
    "| **StnPressure** | *object* | weather | Average station pressure (in inches of hg) |\n",
    "| **SeaLevel** | *object* | weather | Average sea level pressure (in inches of hg) |\n",
    "| **ResultSpeed** | *float* | weather | Resultant wind speed (mph) |\n",
    "| **ResultDir** | *integer* | weather | Resultant wind direction (degrees) |\n",
    "| **AvgSpeed** | *object* | weather | Average wind speed (mph) |\n",
    "\n",
    "More detailed descriptions for weather data can be found in [noaa_weather_qclcd_documentation]('./assets/noaa_weather_qclcd_documentation.pdf')."
   ]
  },
  {
   "cell_type": "markdown",
   "metadata": {
    "cell_id": "00000-40a67925-5dba-4fd7-979d-84b7b5d3ca47",
    "deepnote_cell_type": "markdown",
    "output_cleared": false,
    "tags": []
   },
   "source": [
    "## Data Cleaning"
   ]
  },
  {
   "cell_type": "code",
   "execution_count": 1,
   "metadata": {},
   "outputs": [],
   "source": [
    "# !pip install shapely"
   ]
  },
  {
   "cell_type": "code",
   "execution_count": 2,
   "metadata": {
    "cell_id": "00001-bfb22d91-71d5-46b4-9740-b6d82db9df5c",
    "deepnote_cell_type": "code",
    "execution_millis": 798,
    "execution_start": 1608122506098,
    "output_cleared": false,
    "source_hash": "e867b84b",
    "tags": []
   },
   "outputs": [],
   "source": [
    "# Import libraries\n",
    "import pandas as pd\n",
    "import numpy as np\n",
    "import matplotlib.pyplot as plt\n",
    "import seaborn as sns\n",
    "\n",
    "import shapely\n",
    "from shapely import geometry\n",
    "from shapely import ops\n",
    "from shapely.geometry import Point, LineString, Polygon, MultiPoint\n",
    "from shapely.ops import nearest_points\n",
    "\n",
    "pd.set_option('display.max_columns', None)\n",
    "pd.set_option('display.max_colwidth', None)"
   ]
  },
  {
   "cell_type": "code",
   "execution_count": 3,
   "metadata": {
    "cell_id": "00002-f9889fe0-7bcd-45bb-b2bc-affe73eadc2b",
    "deepnote_cell_type": "code",
    "execution_millis": 240,
    "execution_start": 1608122506898,
    "output_cleared": false,
    "source_hash": "5fb61107",
    "tags": []
   },
   "outputs": [],
   "source": [
    "# Load datasets\n",
    "train = pd.read_csv('./datasets/train.csv')\n",
    "test = pd.read_csv('./datasets/test.csv')\n",
    "weather = pd.read_csv('./datasets/weather.csv')\n",
    "spray = pd.read_csv('./datasets/spray.csv')"
   ]
  },
  {
   "cell_type": "code",
   "execution_count": 4,
   "metadata": {},
   "outputs": [],
   "source": [
    "datasets = [(train, 'train'),\n",
    "            (spray, 'spray'),\n",
    "            (weather, 'weather')]"
   ]
  },
  {
   "cell_type": "markdown",
   "metadata": {
    "cell_id": "00001-0f965e86-174a-48ec-9538-61c016321e7e",
    "deepnote_cell_type": "markdown",
    "output_cleared": false,
    "tags": []
   },
   "source": [
    "## Weather\n",
    "According to the documentation provided for the weather dataset, if a value is missing or unavailable, it is replaced with either of these terms:\n",
    "*['M', '-']*\n",
    "\n",
    "We'll create a function that helps us to view summaries of our datasets."
   ]
  },
  {
   "cell_type": "code",
   "execution_count": 5,
   "metadata": {},
   "outputs": [],
   "source": [
    "def df_summary(df, df_name):\n",
    "    \"\"\"\n",
    "    Summaries for all the variables in the dataset\n",
    "    \"\"\"\n",
    "    print(df_name, 'dataset')\n",
    "    print()\n",
    "    \n",
    "    # print shape \n",
    "    print(df.shape)\n",
    "    print()\n",
    "    \n",
    "    # check for non-null and dtype information\n",
    "    print(\"Non-null and Data Types\")\n",
    "    df.info()\n",
    "    print()\n",
    "    \n",
    "    # check for duplicated rows\n",
    "    print(f'Number of duplicated rows: {df[df.duplicated(keep=False)].shape[0]}')\n",
    "    # check for any missing values, null or 'M' or '-'\n",
    "    print(f\"Number of missing values: {df.isin([np.nan, 'M', '-']).sum().sum()}\")\n",
    "    # check for any zero values\n",
    "    print(f\"Number of zero values: {df.isin(['0.0','0']).sum().sum()}\")\n",
    "    print()    \n",
    "    \n",
    "    # print columns with missing values, nan/ 'M'/ '-'\n",
    "    print(\"Columns with missing values:\")\n",
    "    print(df.isin([np.nan,'M','-']).sum()[df.isin([np.nan,'M','-']).sum() > 0].sort_values(ascending=False))\n",
    "    print()\n",
    "    \n",
    "    # print coumns with zero values\n",
    "    print(\"Columns with zero values:\")\n",
    "    print(df.isin(['0.0', '0']).sum()[df.isin(['0.0', '0']).sum() > 0])\n",
    "    print()\n",
    "    \n",
    "    print(\"______________________________________________________\\n\")"
   ]
  },
  {
   "cell_type": "markdown",
   "metadata": {
    "cell_id": "00008-d479cb7f-db7a-4ba8-92fb-b4d3b60d4df9",
    "deepnote_cell_type": "markdown",
    "tags": []
   },
   "source": [
    "### Initial Analysis"
   ]
  },
  {
   "cell_type": "code",
   "execution_count": 6,
   "metadata": {},
   "outputs": [
    {
     "name": "stdout",
     "output_type": "stream",
     "text": [
      "weather dataset\n",
      "\n",
      "(2944, 22)\n",
      "\n",
      "Non-null and Data Types\n",
      "<class 'pandas.core.frame.DataFrame'>\n",
      "RangeIndex: 2944 entries, 0 to 2943\n",
      "Data columns (total 22 columns):\n",
      " #   Column       Non-Null Count  Dtype  \n",
      "---  ------       --------------  -----  \n",
      " 0   Station      2944 non-null   int64  \n",
      " 1   Date         2944 non-null   object \n",
      " 2   Tmax         2944 non-null   int64  \n",
      " 3   Tmin         2944 non-null   int64  \n",
      " 4   Tavg         2944 non-null   object \n",
      " 5   Depart       2944 non-null   object \n",
      " 6   DewPoint     2944 non-null   int64  \n",
      " 7   WetBulb      2944 non-null   object \n",
      " 8   Heat         2944 non-null   object \n",
      " 9   Cool         2944 non-null   object \n",
      " 10  Sunrise      2944 non-null   object \n",
      " 11  Sunset       2944 non-null   object \n",
      " 12  CodeSum      2944 non-null   object \n",
      " 13  Depth        2944 non-null   object \n",
      " 14  Water1       2944 non-null   object \n",
      " 15  SnowFall     2944 non-null   object \n",
      " 16  PrecipTotal  2944 non-null   object \n",
      " 17  StnPressure  2944 non-null   object \n",
      " 18  SeaLevel     2944 non-null   object \n",
      " 19  ResultSpeed  2944 non-null   float64\n",
      " 20  ResultDir    2944 non-null   int64  \n",
      " 21  AvgSpeed     2944 non-null   object \n",
      "dtypes: float64(1), int64(5), object(16)\n",
      "memory usage: 506.1+ KB\n",
      "\n",
      "Number of duplicated rows: 0\n",
      "Number of missing values: 10359\n",
      "Number of zero values: 4801\n",
      "\n",
      "Columns with missing values:\n",
      "Water1         2944\n",
      "Depart         1472\n",
      "Sunrise        1472\n",
      "Sunset         1472\n",
      "Depth          1472\n",
      "SnowFall       1472\n",
      "Tavg             11\n",
      "Heat             11\n",
      "Cool             11\n",
      "SeaLevel          9\n",
      "WetBulb           4\n",
      "StnPressure       4\n",
      "AvgSpeed          3\n",
      "PrecipTotal       2\n",
      "dtype: int64\n",
      "\n",
      "Columns with zero values:\n",
      "Heat        1870\n",
      "Depth       1472\n",
      "SnowFall    1459\n",
      "dtype: int64\n",
      "\n",
      "______________________________________________________\n",
      "\n"
     ]
    }
   ],
   "source": [
    "df_summary(weather, 'weather')"
   ]
  },
  {
   "cell_type": "code",
   "execution_count": 7,
   "metadata": {
    "cell_id": "00004-0b2cfcc5-3a24-42cd-9ef4-b16190a2a026",
    "deepnote_cell_type": "code",
    "execution_millis": 71,
    "execution_start": 1608122507168,
    "output_cleared": false,
    "source_hash": "97ab6578",
    "tags": []
   },
   "outputs": [
    {
     "data": {
      "text/html": [
       "<div>\n",
       "<style scoped>\n",
       "    .dataframe tbody tr th:only-of-type {\n",
       "        vertical-align: middle;\n",
       "    }\n",
       "\n",
       "    .dataframe tbody tr th {\n",
       "        vertical-align: top;\n",
       "    }\n",
       "\n",
       "    .dataframe thead th {\n",
       "        text-align: right;\n",
       "    }\n",
       "</style>\n",
       "<table border=\"1\" class=\"dataframe\">\n",
       "  <thead>\n",
       "    <tr style=\"text-align: right;\">\n",
       "      <th></th>\n",
       "      <th>Station</th>\n",
       "      <th>Date</th>\n",
       "      <th>Tmax</th>\n",
       "      <th>Tmin</th>\n",
       "      <th>Tavg</th>\n",
       "      <th>Depart</th>\n",
       "      <th>DewPoint</th>\n",
       "      <th>WetBulb</th>\n",
       "      <th>Heat</th>\n",
       "      <th>Cool</th>\n",
       "      <th>Sunrise</th>\n",
       "      <th>Sunset</th>\n",
       "      <th>CodeSum</th>\n",
       "      <th>Depth</th>\n",
       "      <th>Water1</th>\n",
       "      <th>SnowFall</th>\n",
       "      <th>PrecipTotal</th>\n",
       "      <th>StnPressure</th>\n",
       "      <th>SeaLevel</th>\n",
       "      <th>ResultSpeed</th>\n",
       "      <th>ResultDir</th>\n",
       "      <th>AvgSpeed</th>\n",
       "    </tr>\n",
       "  </thead>\n",
       "  <tbody>\n",
       "    <tr>\n",
       "      <th>0</th>\n",
       "      <td>1</td>\n",
       "      <td>2007-05-01</td>\n",
       "      <td>83</td>\n",
       "      <td>50</td>\n",
       "      <td>67</td>\n",
       "      <td>14</td>\n",
       "      <td>51</td>\n",
       "      <td>56</td>\n",
       "      <td>0</td>\n",
       "      <td>2</td>\n",
       "      <td>0448</td>\n",
       "      <td>1849</td>\n",
       "      <td></td>\n",
       "      <td>0</td>\n",
       "      <td>M</td>\n",
       "      <td>0.0</td>\n",
       "      <td>0.00</td>\n",
       "      <td>29.10</td>\n",
       "      <td>29.82</td>\n",
       "      <td>1.7</td>\n",
       "      <td>27</td>\n",
       "      <td>9.2</td>\n",
       "    </tr>\n",
       "    <tr>\n",
       "      <th>1</th>\n",
       "      <td>2</td>\n",
       "      <td>2007-05-01</td>\n",
       "      <td>84</td>\n",
       "      <td>52</td>\n",
       "      <td>68</td>\n",
       "      <td>M</td>\n",
       "      <td>51</td>\n",
       "      <td>57</td>\n",
       "      <td>0</td>\n",
       "      <td>3</td>\n",
       "      <td>-</td>\n",
       "      <td>-</td>\n",
       "      <td></td>\n",
       "      <td>M</td>\n",
       "      <td>M</td>\n",
       "      <td>M</td>\n",
       "      <td>0.00</td>\n",
       "      <td>29.18</td>\n",
       "      <td>29.82</td>\n",
       "      <td>2.7</td>\n",
       "      <td>25</td>\n",
       "      <td>9.6</td>\n",
       "    </tr>\n",
       "    <tr>\n",
       "      <th>2</th>\n",
       "      <td>1</td>\n",
       "      <td>2007-05-02</td>\n",
       "      <td>59</td>\n",
       "      <td>42</td>\n",
       "      <td>51</td>\n",
       "      <td>-3</td>\n",
       "      <td>42</td>\n",
       "      <td>47</td>\n",
       "      <td>14</td>\n",
       "      <td>0</td>\n",
       "      <td>0447</td>\n",
       "      <td>1850</td>\n",
       "      <td>BR</td>\n",
       "      <td>0</td>\n",
       "      <td>M</td>\n",
       "      <td>0.0</td>\n",
       "      <td>0.00</td>\n",
       "      <td>29.38</td>\n",
       "      <td>30.09</td>\n",
       "      <td>13.0</td>\n",
       "      <td>4</td>\n",
       "      <td>13.4</td>\n",
       "    </tr>\n",
       "    <tr>\n",
       "      <th>3</th>\n",
       "      <td>2</td>\n",
       "      <td>2007-05-02</td>\n",
       "      <td>60</td>\n",
       "      <td>43</td>\n",
       "      <td>52</td>\n",
       "      <td>M</td>\n",
       "      <td>42</td>\n",
       "      <td>47</td>\n",
       "      <td>13</td>\n",
       "      <td>0</td>\n",
       "      <td>-</td>\n",
       "      <td>-</td>\n",
       "      <td>BR HZ</td>\n",
       "      <td>M</td>\n",
       "      <td>M</td>\n",
       "      <td>M</td>\n",
       "      <td>0.00</td>\n",
       "      <td>29.44</td>\n",
       "      <td>30.08</td>\n",
       "      <td>13.3</td>\n",
       "      <td>2</td>\n",
       "      <td>13.4</td>\n",
       "    </tr>\n",
       "    <tr>\n",
       "      <th>4</th>\n",
       "      <td>1</td>\n",
       "      <td>2007-05-03</td>\n",
       "      <td>66</td>\n",
       "      <td>46</td>\n",
       "      <td>56</td>\n",
       "      <td>2</td>\n",
       "      <td>40</td>\n",
       "      <td>48</td>\n",
       "      <td>9</td>\n",
       "      <td>0</td>\n",
       "      <td>0446</td>\n",
       "      <td>1851</td>\n",
       "      <td></td>\n",
       "      <td>0</td>\n",
       "      <td>M</td>\n",
       "      <td>0.0</td>\n",
       "      <td>0.00</td>\n",
       "      <td>29.39</td>\n",
       "      <td>30.12</td>\n",
       "      <td>11.7</td>\n",
       "      <td>7</td>\n",
       "      <td>11.9</td>\n",
       "    </tr>\n",
       "  </tbody>\n",
       "</table>\n",
       "</div>"
      ],
      "text/plain": [
       "   Station        Date  Tmax  Tmin Tavg Depart  DewPoint WetBulb Heat Cool  \\\n",
       "0        1  2007-05-01    83    50   67     14        51      56    0    2   \n",
       "1        2  2007-05-01    84    52   68      M        51      57    0    3   \n",
       "2        1  2007-05-02    59    42   51     -3        42      47   14    0   \n",
       "3        2  2007-05-02    60    43   52      M        42      47   13    0   \n",
       "4        1  2007-05-03    66    46   56      2        40      48    9    0   \n",
       "\n",
       "  Sunrise Sunset CodeSum Depth Water1 SnowFall PrecipTotal StnPressure  \\\n",
       "0    0448   1849             0      M      0.0        0.00       29.10   \n",
       "1       -      -             M      M        M        0.00       29.18   \n",
       "2    0447   1850      BR     0      M      0.0        0.00       29.38   \n",
       "3       -      -   BR HZ     M      M        M        0.00       29.44   \n",
       "4    0446   1851             0      M      0.0        0.00       29.39   \n",
       "\n",
       "  SeaLevel  ResultSpeed  ResultDir AvgSpeed  \n",
       "0    29.82          1.7         27      9.2  \n",
       "1    29.82          2.7         25      9.6  \n",
       "2    30.09         13.0          4     13.4  \n",
       "3    30.08         13.3          2     13.4  \n",
       "4    30.12         11.7          7     11.9  "
      ]
     },
     "execution_count": 7,
     "metadata": {},
     "output_type": "execute_result"
    }
   ],
   "source": [
    "weather.head()"
   ]
  },
  {
   "cell_type": "code",
   "execution_count": 8,
   "metadata": {
    "cell_id": "00007-bcb4734a-e887-4c4b-8bd3-b687dd149570",
    "deepnote_cell_type": "code",
    "execution_millis": 4,
    "execution_start": 1608122510193,
    "output_cleared": false,
    "source_hash": "3d18bd6d",
    "tags": []
   },
   "outputs": [
    {
     "data": {
      "text/plain": [
       "SnowFall        12\n",
       "PrecipTotal    318\n",
       "dtype: int64"
      ]
     },
     "execution_count": 8,
     "metadata": {},
     "output_type": "execute_result"
    }
   ],
   "source": [
    "# Some 'T' or trace values\n",
    "weather.isin(['  T']).sum()[weather.isin(['  T']).sum() > 0]"
   ]
  },
  {
   "cell_type": "markdown",
   "metadata": {
    "cell_id": "00003-b49213d7-ae1d-4514-a386-8da1f77f911e",
    "deepnote_cell_type": "markdown",
    "output_cleared": false,
    "tags": []
   },
   "source": [
    "### Summary and Cleaning to be done "
   ]
  },
  {
   "cell_type": "markdown",
   "metadata": {
    "cell_id": "00004-7428a496-bb38-4e88-9932-89ca1913e0d5",
    "deepnote_cell_type": "markdown",
    "output_cleared": false,
    "tags": []
   },
   "source": [
    "<u>**Summary:**\n",
    "    \n",
    "**Weather:**\n",
    "- There are missing values in the following attributes: Tavg , Depart, WetBulb, Heat, Cool, Sunrise, Sunset, Depth, Water1, SnowFall, PrecipTotal, StnPressure, SeaLevel, and AvgSpeed.\n",
    "- Tavg attribute has 11 missing values.\n",
    "- Depart attribute has 1,472 missing values.\n",
    "- WetBulb attribute has 4 missing values.\n",
    "- Heat attribute has 11 missing values.\n",
    "- Cool attribute has 11 missing values.\n",
    "- Sunrise attribute has 1,472 missing values.\n",
    "- Sunset attribute has 1,472 missing values.\n",
    "- Depth attribute has 1,472 missing values.\n",
    "- Water1 attribute has 2,944 missing values.\n",
    "- SnowFall attribute has 1,472 missing values.\n",
    "- PrecipTotal attribute has 2 missing values.\n",
    "- StnPressure attribute has 4 missing values.\n",
    "- SeaLevel attribute has 9 missing values.\n",
    "- AvgSpeed attribute has 3 missing values.\n",
    "- There are zero values in the following attributes: Heat, Depth, and Snowfall.\n",
    "- Heat attribute has 1,870 zero values.\n",
    "- Depth attribute has 1,472 zero values.\n",
    "- Snowfall attribute has 1,459 zero values.\n",
    "\n",
    "<u>**Cleaning to be done:**\n",
    "\n",
    "**Weather:**\n",
    "\n",
    "- Impute missing values for daily average temperature `Tavg` with average of `Tmax` and `Tmin`\n",
    "- Calculate missing values for `Cool` and `Heat` with `Tavg`\n",
    "- Calculate missing `Depart` from Station 2 with 30 year normal temperature based on Station 1 readings and Station 2 `Tavg`.\n",
    "- Impute missing values for `WetBulb`, `PrecipTotal`, `StnPressure`, `SeaLevel`, `AvgSpeed` using readings of Station with non-missing value.\n",
    "- Impute 'T' or trace values as 0.01.\n",
    "- Impute `Sunrise` and `Sunset` for Station 2 with Station 1 values\n",
    "- Split and recombine `CodeSum` to create proper spacing between different codes\n",
    "- Create new feature counting number of exceptional weather phenomena based on `CodeSum`\n",
    "- Create more interpretable features like `rain` and `lowvis` based on `CodeSum`\n",
    "- Change `Date` from string object to `datetime64`\n",
    "- Drop `Water1`, `Depth`, `SnowFall` due to high missing values (>99.5% 'M' or 0)\n",
    "- Transform all features into float values\n",
    "- Merge Station 1 and Station 2 by averaging values of each station\n",
    "- Add Year, Month, Week and Day of Week features\n"
   ]
  },
  {
   "cell_type": "markdown",
   "metadata": {
    "cell_id": "00016-fe1d62e1-f1ba-451b-ba1e-939497dc2b35",
    "deepnote_cell_type": "markdown",
    "tags": []
   },
   "source": [
    "### Imputing / Dropping Features"
   ]
  },
  {
   "cell_type": "code",
   "execution_count": 9,
   "metadata": {
    "cell_id": "00009-caab5ecb-b27d-464f-89d3-269944e05a3c",
    "deepnote_cell_type": "code",
    "execution_millis": 2,
    "execution_start": 1608122510834,
    "output_cleared": false,
    "source_hash": "6b12b340",
    "tags": []
   },
   "outputs": [],
   "source": [
    "# Drop columns due to high missing values (>99.5% 'M' or 0)\n",
    "weather = weather.drop(columns=['Water1', 'Depth', 'SnowFall'])"
   ]
  },
  {
   "cell_type": "code",
   "execution_count": 10,
   "metadata": {
    "cell_id": "00010-522eec31-801d-467a-8068-b5760225f3dc",
    "deepnote_cell_type": "code",
    "execution_millis": 3,
    "execution_start": 1608122511100,
    "output_cleared": false,
    "source_hash": "a9543299",
    "tags": []
   },
   "outputs": [],
   "source": [
    "# Function to impute Average Temperature, Cooling and Heating Degrees\n",
    "def impute_tavg_heat_cool(row):\n",
    "    # Impute missing values for Tavg\n",
    "    if row['Tavg'] == 'M':\n",
    "    # averaging Tmax and Tmin, then round up to the nearest whole number\n",
    "        row['Tavg'] = round((row['Tmax'] + row['Tmin']) / 2) \n",
    "        \n",
    "    # Impute missing values for Cool and Heat by the difference of 65 F\n",
    "    # if Tavg is above 65°F, we subtract 65 from the mean and the result is Cooling Degree Days\n",
    "    # if Tavg is below 65°F, we subtract the mean from 65 and the result is Heating Degree Days\n",
    "    if row['Cool'] == 'M' or row['Heat'] == 'M':\n",
    "        if row['Tavg'] > 65: \n",
    "            row['Cool'] = row['Tavg'] - 65\n",
    "            row['Heat'] = 0\n",
    "        elif row['Tavg'] < 65:\n",
    "            row['Cool'] = 0\n",
    "            row['Heat'] = 65 - row['Tavg'] \n",
    "        else:\n",
    "            row['Cool'] = row['Heat'] = 0\n",
    "    return row"
   ]
  },
  {
   "cell_type": "code",
   "execution_count": 11,
   "metadata": {
    "cell_id": "00011-b11dbf07-4b66-4d28-b577-0481fb009f65",
    "deepnote_cell_type": "code",
    "execution_millis": 362,
    "execution_start": 1608122511104,
    "output_cleared": false,
    "source_hash": "1ccce437",
    "tags": []
   },
   "outputs": [],
   "source": [
    "# Impute the valeus for Tavg, Cool, Heat \n",
    "weather = weather.apply(impute_tavg_heat_cool, axis=1)"
   ]
  },
  {
   "cell_type": "markdown",
   "metadata": {},
   "source": [
    "Based on the initial analysis done so far, we're suspecting that Station 2 does not have any information in `Depart`, `Sunrise`, and `Sunset` attributes.\n",
    "\n",
    "Let's verify this:"
   ]
  },
  {
   "cell_type": "code",
   "execution_count": 12,
   "metadata": {},
   "outputs": [
    {
     "name": "stdout",
     "output_type": "stream",
     "text": [
      "Non-zero Percentage (%) of missing values in Station 1:\n",
      "\n",
      "WetBulb        0.20\n",
      "StnPressure    0.14\n",
      "SeaLevel       0.34\n",
      "dtype: float64\n"
     ]
    }
   ],
   "source": [
    "station1 = weather[weather['Station'] == 1]\n",
    "\n",
    "print(\"Non-zero Percentage (%) of missing values in Station 1:\\n\")\n",
    "print(round(station1.isin([np.nan, 'M', '-']).sum()[station1.isin([np.nan, 'M', '-']).sum() > 0]/ len(station1) * 100, 2))"
   ]
  },
  {
   "cell_type": "code",
   "execution_count": 13,
   "metadata": {},
   "outputs": [
    {
     "name": "stdout",
     "output_type": "stream",
     "text": [
      "Non-zero Percentage (%) of missing values in Station 2:\n",
      "\n",
      "Depart         100.00\n",
      "WetBulb          0.07\n",
      "Sunrise        100.00\n",
      "Sunset         100.00\n",
      "PrecipTotal      0.14\n",
      "StnPressure      0.14\n",
      "SeaLevel         0.27\n",
      "AvgSpeed         0.20\n",
      "dtype: float64\n"
     ]
    }
   ],
   "source": [
    "station2 = weather[weather['Station'] == 2]\n",
    "\n",
    "print(\"Non-zero Percentage (%) of missing values in Station 2:\\n\")\n",
    "print(round(station2.isin([np.nan, 'M', '-']).sum()[station2.isin([np.nan, 'M', '-']).sum() > 0]/ len(station2) * 100, 2))"
   ]
  },
  {
   "cell_type": "markdown",
   "metadata": {},
   "source": [
    "It seems that `Depart`, `Sunrise`, and `Sunset` values are not normally reported or available for Station 2.\n",
    "\n",
    "We'll create a function to impute `Depart` values from Station 1's readings to Station 2's readings.\n",
    "\n",
    "For temperature and precipitation, the 30-year normal weather values are an accepted standard, but we also wanted to consider the specific differences and possible warmer trends of the more recent years in question. [*(source)*](https://www.ncbi.nlm.nih.gov/pmc/articles/PMC2856545/)"
   ]
  },
  {
   "cell_type": "code",
   "execution_count": 14,
   "metadata": {
    "cell_id": "00012-5727e921-397c-4e56-9406-bf2545135868",
    "deepnote_cell_type": "code",
    "execution_millis": 0,
    "execution_start": 1608122511470,
    "output_cleared": false,
    "source_hash": "a7896785",
    "tags": []
   },
   "outputs": [],
   "source": [
    "# Function to extract 30-year normal temperature from station 1's readings \n",
    "def create_normal(df):\n",
    "    if df['Station'] == 1:\n",
    "        df['Normal'] = int(df['Tavg']) - int(df['Depart'])\n",
    "    return df\n",
    "\n",
    "# Apply 30 year temperature to station 2's readings \n",
    "def apply_normal(df):\n",
    "    if df['Station'] == 2:\n",
    "        df['Normal'] = weather[(weather['Date'] == df['Date']) & (weather['Station'] == 1)]['Normal'].values[0]\n",
    "    return df"
   ]
  },
  {
   "cell_type": "code",
   "execution_count": 15,
   "metadata": {
    "cell_id": "00013-bd345943-1c7f-49b4-a4ec-c1e5fc4c37a6",
    "deepnote_cell_type": "code",
    "execution_millis": 3460,
    "execution_start": 1608122511523,
    "output_cleared": false,
    "source_hash": "7079f6d6",
    "tags": []
   },
   "outputs": [],
   "source": [
    "weather = weather.apply(create_normal, axis=1)\n",
    "weather = weather.apply(apply_normal, axis=1)"
   ]
  },
  {
   "cell_type": "code",
   "execution_count": 16,
   "metadata": {},
   "outputs": [
    {
     "data": {
      "text/html": [
       "<div>\n",
       "<style scoped>\n",
       "    .dataframe tbody tr th:only-of-type {\n",
       "        vertical-align: middle;\n",
       "    }\n",
       "\n",
       "    .dataframe tbody tr th {\n",
       "        vertical-align: top;\n",
       "    }\n",
       "\n",
       "    .dataframe thead th {\n",
       "        text-align: right;\n",
       "    }\n",
       "</style>\n",
       "<table border=\"1\" class=\"dataframe\">\n",
       "  <thead>\n",
       "    <tr style=\"text-align: right;\">\n",
       "      <th></th>\n",
       "      <th>AvgSpeed</th>\n",
       "      <th>CodeSum</th>\n",
       "      <th>Cool</th>\n",
       "      <th>Date</th>\n",
       "      <th>Depart</th>\n",
       "      <th>DewPoint</th>\n",
       "      <th>Heat</th>\n",
       "      <th>Normal</th>\n",
       "      <th>PrecipTotal</th>\n",
       "      <th>ResultDir</th>\n",
       "      <th>ResultSpeed</th>\n",
       "      <th>SeaLevel</th>\n",
       "      <th>Station</th>\n",
       "      <th>StnPressure</th>\n",
       "      <th>Sunrise</th>\n",
       "      <th>Sunset</th>\n",
       "      <th>Tavg</th>\n",
       "      <th>Tmax</th>\n",
       "      <th>Tmin</th>\n",
       "      <th>WetBulb</th>\n",
       "    </tr>\n",
       "  </thead>\n",
       "  <tbody>\n",
       "    <tr>\n",
       "      <th>0</th>\n",
       "      <td>9.2</td>\n",
       "      <td></td>\n",
       "      <td>2</td>\n",
       "      <td>2007-05-01</td>\n",
       "      <td>14</td>\n",
       "      <td>51</td>\n",
       "      <td>0</td>\n",
       "      <td>53.0</td>\n",
       "      <td>0.00</td>\n",
       "      <td>27</td>\n",
       "      <td>1.7</td>\n",
       "      <td>29.82</td>\n",
       "      <td>1</td>\n",
       "      <td>29.10</td>\n",
       "      <td>0448</td>\n",
       "      <td>1849</td>\n",
       "      <td>67</td>\n",
       "      <td>83</td>\n",
       "      <td>50</td>\n",
       "      <td>56</td>\n",
       "    </tr>\n",
       "    <tr>\n",
       "      <th>1</th>\n",
       "      <td>9.6</td>\n",
       "      <td></td>\n",
       "      <td>3</td>\n",
       "      <td>2007-05-01</td>\n",
       "      <td>M</td>\n",
       "      <td>51</td>\n",
       "      <td>0</td>\n",
       "      <td>53.0</td>\n",
       "      <td>0.00</td>\n",
       "      <td>25</td>\n",
       "      <td>2.7</td>\n",
       "      <td>29.82</td>\n",
       "      <td>2</td>\n",
       "      <td>29.18</td>\n",
       "      <td>-</td>\n",
       "      <td>-</td>\n",
       "      <td>68</td>\n",
       "      <td>84</td>\n",
       "      <td>52</td>\n",
       "      <td>57</td>\n",
       "    </tr>\n",
       "    <tr>\n",
       "      <th>2</th>\n",
       "      <td>13.4</td>\n",
       "      <td>BR</td>\n",
       "      <td>0</td>\n",
       "      <td>2007-05-02</td>\n",
       "      <td>-3</td>\n",
       "      <td>42</td>\n",
       "      <td>14</td>\n",
       "      <td>54.0</td>\n",
       "      <td>0.00</td>\n",
       "      <td>4</td>\n",
       "      <td>13.0</td>\n",
       "      <td>30.09</td>\n",
       "      <td>1</td>\n",
       "      <td>29.38</td>\n",
       "      <td>0447</td>\n",
       "      <td>1850</td>\n",
       "      <td>51</td>\n",
       "      <td>59</td>\n",
       "      <td>42</td>\n",
       "      <td>47</td>\n",
       "    </tr>\n",
       "    <tr>\n",
       "      <th>3</th>\n",
       "      <td>13.4</td>\n",
       "      <td>BR HZ</td>\n",
       "      <td>0</td>\n",
       "      <td>2007-05-02</td>\n",
       "      <td>M</td>\n",
       "      <td>42</td>\n",
       "      <td>13</td>\n",
       "      <td>54.0</td>\n",
       "      <td>0.00</td>\n",
       "      <td>2</td>\n",
       "      <td>13.3</td>\n",
       "      <td>30.08</td>\n",
       "      <td>2</td>\n",
       "      <td>29.44</td>\n",
       "      <td>-</td>\n",
       "      <td>-</td>\n",
       "      <td>52</td>\n",
       "      <td>60</td>\n",
       "      <td>43</td>\n",
       "      <td>47</td>\n",
       "    </tr>\n",
       "    <tr>\n",
       "      <th>4</th>\n",
       "      <td>11.9</td>\n",
       "      <td></td>\n",
       "      <td>0</td>\n",
       "      <td>2007-05-03</td>\n",
       "      <td>2</td>\n",
       "      <td>40</td>\n",
       "      <td>9</td>\n",
       "      <td>54.0</td>\n",
       "      <td>0.00</td>\n",
       "      <td>7</td>\n",
       "      <td>11.7</td>\n",
       "      <td>30.12</td>\n",
       "      <td>1</td>\n",
       "      <td>29.39</td>\n",
       "      <td>0446</td>\n",
       "      <td>1851</td>\n",
       "      <td>56</td>\n",
       "      <td>66</td>\n",
       "      <td>46</td>\n",
       "      <td>48</td>\n",
       "    </tr>\n",
       "  </tbody>\n",
       "</table>\n",
       "</div>"
      ],
      "text/plain": [
       "  AvgSpeed CodeSum Cool        Date Depart  DewPoint Heat  Normal PrecipTotal  \\\n",
       "0      9.2            2  2007-05-01     14        51    0    53.0        0.00   \n",
       "1      9.6            3  2007-05-01      M        51    0    53.0        0.00   \n",
       "2     13.4      BR    0  2007-05-02     -3        42   14    54.0        0.00   \n",
       "3     13.4   BR HZ    0  2007-05-02      M        42   13    54.0        0.00   \n",
       "4     11.9            0  2007-05-03      2        40    9    54.0        0.00   \n",
       "\n",
       "   ResultDir  ResultSpeed SeaLevel  Station StnPressure Sunrise Sunset Tavg  \\\n",
       "0         27          1.7    29.82        1       29.10    0448   1849   67   \n",
       "1         25          2.7    29.82        2       29.18       -      -   68   \n",
       "2          4         13.0    30.09        1       29.38    0447   1850   51   \n",
       "3          2         13.3    30.08        2       29.44       -      -   52   \n",
       "4          7         11.7    30.12        1       29.39    0446   1851   56   \n",
       "\n",
       "   Tmax  Tmin WetBulb  \n",
       "0    83    50      56  \n",
       "1    84    52      57  \n",
       "2    59    42      47  \n",
       "3    60    43      47  \n",
       "4    66    46      48  "
      ]
     },
     "execution_count": 16,
     "metadata": {},
     "output_type": "execute_result"
    }
   ],
   "source": [
    "weather.head()"
   ]
  },
  {
   "cell_type": "code",
   "execution_count": 17,
   "metadata": {
    "cell_id": "00014-60c19028-94ea-4c08-9962-13a787256352",
    "deepnote_cell_type": "code",
    "execution_millis": 2,
    "execution_start": 1608122514990,
    "output_cleared": false,
    "source_hash": "9cb8c7b9",
    "tags": []
   },
   "outputs": [],
   "source": [
    "# Rearrange columns\n",
    "weather = weather[['Station', 'Date', 'Tmax', 'Tmin', 'Tavg', 'Normal', 'Depart', 'DewPoint',\n",
    "       'WetBulb', 'Heat', 'Cool', 'Sunrise', 'Sunset', 'CodeSum',\n",
    "       'PrecipTotal', 'StnPressure', 'SeaLevel', 'ResultSpeed', 'ResultDir',\n",
    "       'AvgSpeed']]"
   ]
  },
  {
   "cell_type": "code",
   "execution_count": 18,
   "metadata": {
    "cell_id": "00015-c9d8f5d5-f341-43aa-9c3c-172a809d0290",
    "deepnote_cell_type": "code",
    "execution_millis": 9,
    "execution_start": 1608122514994,
    "output_cleared": false,
    "source_hash": "b68de9ba",
    "tags": []
   },
   "outputs": [
    {
     "data": {
      "text/plain": [
       "Depart         1472\n",
       "WetBulb           4\n",
       "PrecipTotal       2\n",
       "StnPressure       4\n",
       "SeaLevel          9\n",
       "AvgSpeed          3\n",
       "dtype: int64"
      ]
     },
     "execution_count": 18,
     "metadata": {},
     "output_type": "execute_result"
    }
   ],
   "source": [
    "# Remaining 'M' values\n",
    "weather.isin(['M']).sum()[weather.isin(['M']).sum() > 0]"
   ]
  },
  {
   "cell_type": "markdown",
   "metadata": {},
   "source": [
    "### Impute the 'M' missing values in remaining Depart, WetBulb, PrecipTotal, StnPressure, SeaLevel, AvgSpeed"
   ]
  },
  {
   "cell_type": "code",
   "execution_count": 19,
   "metadata": {
    "cell_id": "00016-25862fef-c048-45b3-b025-3095c88bfcf8",
    "deepnote_cell_type": "code",
    "execution_millis": 1,
    "execution_start": 1608122515050,
    "output_cleared": false,
    "source_hash": "84fd79da",
    "tags": []
   },
   "outputs": [],
   "source": [
    "# Impute the 'M' missing values in remaining Depart, WetBulb, PrecipTotal, StnPressure, SeaLevel, AvgSpeed\n",
    "def impute_remaining(df):\n",
    "    replace_dict = {}\n",
    "    for index in df.index:\n",
    "        if df[index] == 'M':\n",
    "            replace_dict[index] = 'M'\n",
    "    if replace_dict:\n",
    "        #  recall the formula to calculate depart by subtracting normal from avearge temperature\n",
    "        if 'Depart' in replace_dict:\n",
    "            df['Depart'] = int(df['Tavg']) - int(df['Normal'])\n",
    "            del replace_dict['Depart']\n",
    "            \n",
    "        for key, value in replace_dict.items():\n",
    "            # Retrieve from Station 1 if Station 2 is 'M' and vice versa\n",
    "            if df['Station'] == 2:\n",
    "                df[key] = weather[(weather['Date'] == df['Date']) & (weather['Station'] == 1)][key].values[0]\n",
    "            else:\n",
    "                df[key] = weather[(weather['Date'] == df['Date']) & (weather['Station'] == 2)][key].values[0]\n",
    "                \n",
    "    return df"
   ]
  },
  {
   "cell_type": "code",
   "execution_count": 20,
   "metadata": {
    "cell_id": "00017-40f87189-22ba-4a7e-b3eb-0b7f5aa4cc6e",
    "deepnote_cell_type": "code",
    "execution_millis": 928,
    "execution_start": 1608122515051,
    "output_cleared": false,
    "source_hash": "fbb2ba1c",
    "tags": []
   },
   "outputs": [],
   "source": [
    "weather = weather.apply(impute_remaining, axis=1)"
   ]
  },
  {
   "cell_type": "code",
   "execution_count": 21,
   "metadata": {
    "cell_id": "00015-c9d8f5d5-f341-43aa-9c3c-172a809d0290",
    "deepnote_cell_type": "code",
    "execution_millis": 9,
    "execution_start": 1608122514994,
    "output_cleared": false,
    "source_hash": "b68de9ba",
    "tags": []
   },
   "outputs": [
    {
     "data": {
      "text/plain": [
       "StnPressure    2\n",
       "dtype: int64"
      ]
     },
     "execution_count": 21,
     "metadata": {},
     "output_type": "execute_result"
    }
   ],
   "source": [
    "# Check remaining 'M' values\n",
    "weather.isin(['M']).sum()[weather.isin(['M']).sum() > 0]"
   ]
  },
  {
   "cell_type": "code",
   "execution_count": 22,
   "metadata": {
    "cell_id": "00018-863e5518-275a-4e8b-b482-2ec5cced6e67",
    "deepnote_cell_type": "code",
    "execution_millis": 46,
    "execution_start": 1608122515983,
    "output_cleared": false,
    "source_hash": "a2f67e08",
    "tags": []
   },
   "outputs": [
    {
     "data": {
      "text/html": [
       "<div>\n",
       "<style scoped>\n",
       "    .dataframe tbody tr th:only-of-type {\n",
       "        vertical-align: middle;\n",
       "    }\n",
       "\n",
       "    .dataframe tbody tr th {\n",
       "        vertical-align: top;\n",
       "    }\n",
       "\n",
       "    .dataframe thead th {\n",
       "        text-align: right;\n",
       "    }\n",
       "</style>\n",
       "<table border=\"1\" class=\"dataframe\">\n",
       "  <thead>\n",
       "    <tr style=\"text-align: right;\">\n",
       "      <th></th>\n",
       "      <th>Station</th>\n",
       "      <th>Date</th>\n",
       "      <th>Tmax</th>\n",
       "      <th>Tmin</th>\n",
       "      <th>Tavg</th>\n",
       "      <th>Normal</th>\n",
       "      <th>Depart</th>\n",
       "      <th>DewPoint</th>\n",
       "      <th>WetBulb</th>\n",
       "      <th>Heat</th>\n",
       "      <th>Cool</th>\n",
       "      <th>Sunrise</th>\n",
       "      <th>Sunset</th>\n",
       "      <th>CodeSum</th>\n",
       "      <th>PrecipTotal</th>\n",
       "      <th>StnPressure</th>\n",
       "      <th>SeaLevel</th>\n",
       "      <th>ResultSpeed</th>\n",
       "      <th>ResultDir</th>\n",
       "      <th>AvgSpeed</th>\n",
       "    </tr>\n",
       "  </thead>\n",
       "  <tbody>\n",
       "    <tr>\n",
       "      <th>2410</th>\n",
       "      <td>1</td>\n",
       "      <td>2013-08-10</td>\n",
       "      <td>81</td>\n",
       "      <td>64</td>\n",
       "      <td>73</td>\n",
       "      <td>73.0</td>\n",
       "      <td>0</td>\n",
       "      <td>57</td>\n",
       "      <td>63</td>\n",
       "      <td>0</td>\n",
       "      <td>8</td>\n",
       "      <td>0454</td>\n",
       "      <td>1900</td>\n",
       "      <td></td>\n",
       "      <td>0.00</td>\n",
       "      <td>M</td>\n",
       "      <td>30.08</td>\n",
       "      <td>5.3</td>\n",
       "      <td>5</td>\n",
       "      <td>6.5</td>\n",
       "    </tr>\n",
       "    <tr>\n",
       "      <th>2411</th>\n",
       "      <td>2</td>\n",
       "      <td>2013-08-10</td>\n",
       "      <td>81</td>\n",
       "      <td>68</td>\n",
       "      <td>75</td>\n",
       "      <td>73.0</td>\n",
       "      <td>2</td>\n",
       "      <td>55</td>\n",
       "      <td>63</td>\n",
       "      <td>0</td>\n",
       "      <td>10</td>\n",
       "      <td>-</td>\n",
       "      <td>-</td>\n",
       "      <td></td>\n",
       "      <td>0.00</td>\n",
       "      <td>M</td>\n",
       "      <td>30.07</td>\n",
       "      <td>6.0</td>\n",
       "      <td>6</td>\n",
       "      <td>7.4</td>\n",
       "    </tr>\n",
       "  </tbody>\n",
       "</table>\n",
       "</div>"
      ],
      "text/plain": [
       "      Station        Date  Tmax  Tmin Tavg  Normal Depart  DewPoint WetBulb  \\\n",
       "2410        1  2013-08-10    81    64   73    73.0      0        57      63   \n",
       "2411        2  2013-08-10    81    68   75    73.0      2        55      63   \n",
       "\n",
       "     Heat Cool Sunrise Sunset CodeSum PrecipTotal StnPressure SeaLevel  \\\n",
       "2410    0    8    0454   1900                0.00           M    30.08   \n",
       "2411    0   10       -      -                0.00           M    30.07   \n",
       "\n",
       "      ResultSpeed  ResultDir AvgSpeed  \n",
       "2410          5.3          5      6.5  \n",
       "2411          6.0          6      7.4  "
      ]
     },
     "execution_count": 22,
     "metadata": {},
     "output_type": "execute_result"
    }
   ],
   "source": [
    "# Function above didn't work as both station 1 and 2 have a missing value for StnPressure\n",
    "weather[weather['StnPressure'] == 'M']"
   ]
  },
  {
   "cell_type": "code",
   "execution_count": 23,
   "metadata": {
    "cell_id": "00019-9832185a-bdde-4754-822f-13626a650f2c",
    "deepnote_cell_type": "code",
    "execution_millis": 3,
    "execution_start": 1608122516036,
    "output_cleared": false,
    "source_hash": "dcce71fc",
    "tags": []
   },
   "outputs": [],
   "source": [
    "# Impute according to the StnPressure of the day after\n",
    "weather.at[2410, 'StnPressure'] = weather[weather['Date'] == '2013-08-11']['StnPressure'].values[0]\n",
    "weather.at[2411, 'StnPressure'] = weather[weather['Date'] == '2013-08-11']['StnPressure'].values[1]"
   ]
  },
  {
   "cell_type": "code",
   "execution_count": 24,
   "metadata": {},
   "outputs": [
    {
     "name": "stdout",
     "output_type": "stream",
     "text": [
      "Row 2410 and 2411\n"
     ]
    },
    {
     "data": {
      "text/html": [
       "<div>\n",
       "<style scoped>\n",
       "    .dataframe tbody tr th:only-of-type {\n",
       "        vertical-align: middle;\n",
       "    }\n",
       "\n",
       "    .dataframe tbody tr th {\n",
       "        vertical-align: top;\n",
       "    }\n",
       "\n",
       "    .dataframe thead th {\n",
       "        text-align: right;\n",
       "    }\n",
       "</style>\n",
       "<table border=\"1\" class=\"dataframe\">\n",
       "  <thead>\n",
       "    <tr style=\"text-align: right;\">\n",
       "      <th></th>\n",
       "      <th>Station</th>\n",
       "      <th>Date</th>\n",
       "      <th>Tmax</th>\n",
       "      <th>Tmin</th>\n",
       "      <th>Tavg</th>\n",
       "      <th>Normal</th>\n",
       "      <th>Depart</th>\n",
       "      <th>DewPoint</th>\n",
       "      <th>WetBulb</th>\n",
       "      <th>Heat</th>\n",
       "      <th>Cool</th>\n",
       "      <th>Sunrise</th>\n",
       "      <th>Sunset</th>\n",
       "      <th>CodeSum</th>\n",
       "      <th>PrecipTotal</th>\n",
       "      <th>StnPressure</th>\n",
       "      <th>SeaLevel</th>\n",
       "      <th>ResultSpeed</th>\n",
       "      <th>ResultDir</th>\n",
       "      <th>AvgSpeed</th>\n",
       "    </tr>\n",
       "  </thead>\n",
       "  <tbody>\n",
       "    <tr>\n",
       "      <th>2410</th>\n",
       "      <td>1</td>\n",
       "      <td>2013-08-10</td>\n",
       "      <td>81</td>\n",
       "      <td>64</td>\n",
       "      <td>73</td>\n",
       "      <td>73.0</td>\n",
       "      <td>0</td>\n",
       "      <td>57</td>\n",
       "      <td>63</td>\n",
       "      <td>0</td>\n",
       "      <td>8</td>\n",
       "      <td>0454</td>\n",
       "      <td>1900</td>\n",
       "      <td></td>\n",
       "      <td>0.00</td>\n",
       "      <td>29.35</td>\n",
       "      <td>30.08</td>\n",
       "      <td>5.3</td>\n",
       "      <td>5</td>\n",
       "      <td>6.5</td>\n",
       "    </tr>\n",
       "    <tr>\n",
       "      <th>2411</th>\n",
       "      <td>2</td>\n",
       "      <td>2013-08-10</td>\n",
       "      <td>81</td>\n",
       "      <td>68</td>\n",
       "      <td>75</td>\n",
       "      <td>73.0</td>\n",
       "      <td>2</td>\n",
       "      <td>55</td>\n",
       "      <td>63</td>\n",
       "      <td>0</td>\n",
       "      <td>10</td>\n",
       "      <td>-</td>\n",
       "      <td>-</td>\n",
       "      <td></td>\n",
       "      <td>0.00</td>\n",
       "      <td>29.42</td>\n",
       "      <td>30.07</td>\n",
       "      <td>6.0</td>\n",
       "      <td>6</td>\n",
       "      <td>7.4</td>\n",
       "    </tr>\n",
       "  </tbody>\n",
       "</table>\n",
       "</div>"
      ],
      "text/plain": [
       "      Station        Date  Tmax  Tmin Tavg  Normal Depart  DewPoint WetBulb  \\\n",
       "2410        1  2013-08-10    81    64   73    73.0      0        57      63   \n",
       "2411        2  2013-08-10    81    68   75    73.0      2        55      63   \n",
       "\n",
       "     Heat Cool Sunrise Sunset CodeSum PrecipTotal StnPressure SeaLevel  \\\n",
       "2410    0    8    0454   1900                0.00       29.35    30.08   \n",
       "2411    0   10       -      -                0.00       29.42    30.07   \n",
       "\n",
       "      ResultSpeed  ResultDir AvgSpeed  \n",
       "2410          5.3          5      6.5  \n",
       "2411          6.0          6      7.4  "
      ]
     },
     "metadata": {},
     "output_type": "display_data"
    }
   ],
   "source": [
    "# check the result\n",
    "print(\"Row 2410 and 2411\")\n",
    "display(weather.iloc[2410:2412])"
   ]
  },
  {
   "cell_type": "markdown",
   "metadata": {},
   "source": [
    "For the above five columns with missing values (except 'Depart'), we could also impute the missing values using multiple imputation method. Scikit-Learn provides a handy class to take care of missing values: IterativeImputer().\n",
    "\n",
    "The IterativeImputer performs multiple regressions on random samples of the data and aggregates for imputing the missing values."
   ]
  },
  {
   "cell_type": "code",
   "execution_count": 25,
   "metadata": {},
   "outputs": [],
   "source": [
    "# # create a function to impute the remaining columns with missing values\n",
    "# def impute_missing_values(df, missing_cols):\n",
    "    \n",
    "#     ## Applying multiple imputation for missing numerical values\n",
    "#     # Initialize IterativeImputer\n",
    "#     imp = IterativeImputer(random_state=123)\n",
    "\n",
    "#     # Copy df to imp_df_numeric_missing\n",
    "#     imp_df_numeric_missing = df.copy(deep=True)\n",
    "\n",
    "#     # Impute using fit_tranform on the missing_cols of the dataframe\n",
    "#     imp_df_numeric_missing[missing_cols] = np.round(imp.fit_transform(df[missing_cols]),2)\n",
    "    \n",
    "#     return imp_df_numeric_missing\n",
    "\n",
    "# # get the missing columns' name\n",
    "# missing_cols = list(weather_df.isnull().sum()[weather_df.isnull().sum() > 0].index)\n",
    "\n",
    "# # impute the missing values\n",
    "# weather_df = impute_missing_values(weather_df, missing_cols)\n"
   ]
  },
  {
   "cell_type": "markdown",
   "metadata": {},
   "source": [
    "### Impute the 'T' trace values in PrecipTotal"
   ]
  },
  {
   "cell_type": "code",
   "execution_count": 26,
   "metadata": {
    "cell_id": "00020-d4469d56-f10b-41d1-80f4-71e83ec9598d",
    "deepnote_cell_type": "code",
    "execution_millis": 2,
    "execution_start": 1608122516043,
    "output_cleared": false,
    "source_hash": "3646290c",
    "tags": []
   },
   "outputs": [],
   "source": [
    "# Changing trace ('T' or '  T') to 0.01\n",
    "# When it comes to liquid precipitation (rainfall), meteorologists don't measure anything under 0.01 inch (one hundredth of an inch)\n",
    "weather['PrecipTotal'] = weather['PrecipTotal'].apply(lambda x: 0.01 if 'T' in x else x)"
   ]
  },
  {
   "cell_type": "markdown",
   "metadata": {},
   "source": [
    "### Impute missing values in Sunset & Sunrise"
   ]
  },
  {
   "cell_type": "code",
   "execution_count": 27,
   "metadata": {
    "cell_id": "00022-e79f37b3-0cf5-48a4-a2fd-da4d25b2e9d1",
    "deepnote_cell_type": "code",
    "execution_millis": 1,
    "execution_start": 1608122516087,
    "output_cleared": false,
    "source_hash": "fef9d18d",
    "tags": []
   },
   "outputs": [],
   "source": [
    "# Impute sunrise/sunset\n",
    "def impute_sun(df):\n",
    "    if df['Station'] == 2:\n",
    "        df['Sunrise'] = weather[(weather['Date'] == df['Date']) & (weather['Station'] == 1)]['Sunrise'].values[0]\n",
    "        df['Sunset'] = weather[(weather['Date'] == df['Date']) & (weather['Station'] == 1)]['Sunset'].values[0]\n",
    "    return df"
   ]
  },
  {
   "cell_type": "code",
   "execution_count": 28,
   "metadata": {
    "cell_id": "00023-7b109e66-b0a6-4710-90d7-c9c784e2195f",
    "deepnote_cell_type": "code",
    "execution_millis": 2839,
    "execution_start": 1608122516546,
    "output_cleared": false,
    "source_hash": "2d97dcc5",
    "tags": []
   },
   "outputs": [],
   "source": [
    "weather = weather.apply(impute_sun, axis=1)"
   ]
  },
  {
   "cell_type": "code",
   "execution_count": 29,
   "metadata": {},
   "outputs": [
    {
     "data": {
      "text/html": [
       "<div>\n",
       "<style scoped>\n",
       "    .dataframe tbody tr th:only-of-type {\n",
       "        vertical-align: middle;\n",
       "    }\n",
       "\n",
       "    .dataframe tbody tr th {\n",
       "        vertical-align: top;\n",
       "    }\n",
       "\n",
       "    .dataframe thead th {\n",
       "        text-align: right;\n",
       "    }\n",
       "</style>\n",
       "<table border=\"1\" class=\"dataframe\">\n",
       "  <thead>\n",
       "    <tr style=\"text-align: right;\">\n",
       "      <th></th>\n",
       "      <th>Station</th>\n",
       "      <th>Date</th>\n",
       "      <th>Tmax</th>\n",
       "      <th>Tmin</th>\n",
       "      <th>Tavg</th>\n",
       "      <th>Normal</th>\n",
       "      <th>Depart</th>\n",
       "      <th>DewPoint</th>\n",
       "      <th>WetBulb</th>\n",
       "      <th>Heat</th>\n",
       "      <th>Cool</th>\n",
       "      <th>Sunrise</th>\n",
       "      <th>Sunset</th>\n",
       "      <th>CodeSum</th>\n",
       "      <th>PrecipTotal</th>\n",
       "      <th>StnPressure</th>\n",
       "      <th>SeaLevel</th>\n",
       "      <th>ResultSpeed</th>\n",
       "      <th>ResultDir</th>\n",
       "      <th>AvgSpeed</th>\n",
       "    </tr>\n",
       "  </thead>\n",
       "  <tbody>\n",
       "  </tbody>\n",
       "</table>\n",
       "</div>"
      ],
      "text/plain": [
       "Empty DataFrame\n",
       "Columns: [Station, Date, Tmax, Tmin, Tavg, Normal, Depart, DewPoint, WetBulb, Heat, Cool, Sunrise, Sunset, CodeSum, PrecipTotal, StnPressure, SeaLevel, ResultSpeed, ResultDir, AvgSpeed]\n",
       "Index: []"
      ]
     },
     "metadata": {},
     "output_type": "display_data"
    }
   ],
   "source": [
    "# get sample rows with missing values\n",
    "sample_incomplete_rows = weather[weather.isin(['M', np.nan]).any(axis=1)].head()\n",
    "display(sample_incomplete_rows)"
   ]
  },
  {
   "cell_type": "markdown",
   "metadata": {},
   "source": [
    "There is no incomplete rows in dataset."
   ]
  },
  {
   "cell_type": "markdown",
   "metadata": {},
   "source": [
    "### Features Correction"
   ]
  },
  {
   "cell_type": "markdown",
   "metadata": {
    "cell_id": "00032-53d07be2-e6e8-40fc-8f7a-7b94abfde5a5",
    "deepnote_cell_type": "markdown",
    "tags": []
   },
   "source": [
    "It seems that multiple weather types can be observed in a day. We can see that some of the `Codes` are combined together. \n",
    "The `CodeSum` feature is slightly tricky to deal with -- there's a variety of ways we could take this forward, including one-hot encoding of each weather code. However, a number of codes are extremely rare or don't exist within our data. We're dealing with this by combining weather codes into several features that include snow, rain, windy or low visibility (fog/mist) conditions. "
   ]
  },
  {
   "cell_type": "code",
   "execution_count": 30,
   "metadata": {
    "cell_id": "00024-0aad1c40-93ae-41a2-ba72-b3b36a30f3cd",
    "deepnote_cell_type": "code",
    "execution_millis": 3,
    "execution_start": 1608122519393,
    "output_cleared": false,
    "source_hash": "7f295c70",
    "tags": []
   },
   "outputs": [],
   "source": [
    "# Ensuring that each code has proper spacing\n",
    "codes = ['+FC','FC', 'TS', 'GR', 'RA', 'DZ', 'SN', 'SG', 'GS', 'PL',\n",
    "         'IC', 'FG+', 'FG', 'BR', 'UP', 'HZ', 'FU', 'VA', 'DU', 'DS',\n",
    "         'PO', 'SA', 'SS', 'PY', 'SQ', 'DR', 'SH', 'FZ', 'MI', 'PR',\n",
    "         'BC', 'BL', 'VC']\n",
    "weather['CodeSum'] = weather['CodeSum'].apply(lambda x: ' '.join([t for t in x.split(' ') if t in codes]))"
   ]
  },
  {
   "cell_type": "code",
   "execution_count": 31,
   "metadata": {},
   "outputs": [
    {
     "data": {
      "text/plain": [
       "array(['', 'BR', 'BR HZ', 'HZ', 'RA', 'RA BR', 'RA HZ', 'RA BR HZ',\n",
       "       'BR HZ FU', 'RA HZ FU', 'TS RA BR HZ', 'DZ BR', 'TS BR HZ',\n",
       "       'RA DZ BR HZ', 'TS RA BR', 'TS RA', 'TS BR', 'RA DZ FG+ BR',\n",
       "       'RA FG+ BR', 'RA DZ', 'RA DZ BR', 'TS RA HZ', 'RA FG+ FG BR',\n",
       "       'DZ FG+ FG BR HZ', 'RA BR SQ', 'TS', 'FG+ BR HZ', 'RA SN',\n",
       "       'DZ BR HZ', 'RA BR FU', 'DZ', 'FG+ BR', 'FG+ FG BR', 'RA FG BR',\n",
       "       'RA DZ SN', 'FG+ FG BR HZ', 'TS RA FG BR', 'TS RA FG+ FG BR',\n",
       "       'RA DZ FG+ FG BR', 'FU', 'TS HZ', 'TS GR RA BR', 'HZ FU',\n",
       "       'RA BR HZ FU', 'RA FG+ FG BR HZ', 'FG+', 'BR SQ', 'FG BR HZ',\n",
       "       'TS RA FG BR HZ', 'RA DZ FG+ BR HZ', 'RA SN BR'], dtype=object)"
      ]
     },
     "execution_count": 31,
     "metadata": {},
     "output_type": "execute_result"
    }
   ],
   "source": [
    "weather['CodeSum'].unique()"
   ]
  },
  {
   "cell_type": "markdown",
   "metadata": {
    "cell_id": "00034-fb2c1a6a-92c3-4c88-895e-2476f82a5702",
    "deepnote_cell_type": "markdown",
    "tags": []
   },
   "source": [
    "We'll also look to create a feature measuring the number of significant weather phenomena within a single day. There's a chance that these weather events could have some kind of association with our target variable."
   ]
  },
  {
   "cell_type": "code",
   "execution_count": 32,
   "metadata": {
    "cell_id": "00029-486ed596-1760-45e6-8d80-a58af314ef5e",
    "deepnote_cell_type": "code",
    "execution_millis": 2,
    "execution_start": 1608122519399,
    "output_cleared": false,
    "source_hash": "1c245106",
    "tags": []
   },
   "outputs": [],
   "source": [
    "weather['n_codesum'] = weather['CodeSum'].apply(lambda x: len(x.split()))"
   ]
  },
  {
   "cell_type": "code",
   "execution_count": 33,
   "metadata": {
    "cell_id": "00025-a8cbee03-4dc6-4ff7-a224-7e310647fb85",
    "deepnote_cell_type": "code",
    "execution_millis": 3,
    "execution_start": 1608122525350,
    "output_cleared": false,
    "source_hash": "738c6d32",
    "tags": []
   },
   "outputs": [],
   "source": [
    "snow = ['SN', 'SG', 'GS', 'PL', 'IC', 'DR', 'BC']\n",
    "windy = ['SQ', 'DS', 'SS', 'PO', 'BL']\n",
    "rain = ['TS', 'GR', 'RA', 'DZ', 'SH']\n",
    "lowvis = ['FG+', 'FG', 'BR', 'HZ']\n",
    "codesum_others = ['UP', 'VA', 'DU', 'SA', 'FZ']"
   ]
  },
  {
   "cell_type": "code",
   "execution_count": 34,
   "metadata": {
    "cell_id": "00026-b64f4d0c-6012-4a2b-9dc2-c30421b52700",
    "deepnote_cell_type": "code",
    "execution_millis": 2,
    "execution_start": 1608122525685,
    "output_cleared": false,
    "source_hash": "e7402d26",
    "tags": []
   },
   "outputs": [],
   "source": [
    "def codesum_split(row):\n",
    "    codes = row['CodeSum'].split()\n",
    "    \n",
    "    # Check for weather conditions\n",
    "    if any(code in codes for code in snow):\n",
    "        row['snow'] = 1\n",
    "    if any(code in codes for code in windy):\n",
    "        row['windy'] = 1 \n",
    "    if any(code in codes for code in rain):\n",
    "        row['rain'] = 1 \n",
    "    if any(code in codes for code in lowvis):\n",
    "        row['lowvis'] = 1\n",
    "    if any(code in codes for code in codesum_others):\n",
    "        row['codesum_others'] = 1\n",
    "        \n",
    "    return row"
   ]
  },
  {
   "cell_type": "code",
   "execution_count": 35,
   "metadata": {
    "cell_id": "00027-a0dc3f61-7b33-4198-a39d-b1d5379e7242",
    "deepnote_cell_type": "code",
    "execution_millis": 1930,
    "execution_start": 1608122527018,
    "output_cleared": false,
    "source_hash": "8da0383f",
    "tags": []
   },
   "outputs": [],
   "source": [
    "weather = weather.apply(codesum_split, axis=1)"
   ]
  },
  {
   "cell_type": "code",
   "execution_count": 36,
   "metadata": {
    "cell_id": "00028-2d0fb6b9-cdd8-414e-948a-cef2d38c1498",
    "deepnote_cell_type": "code",
    "execution_millis": 0,
    "execution_start": 1608122530986,
    "output_cleared": false,
    "source_hash": "47c6118a",
    "tags": []
   },
   "outputs": [],
   "source": [
    "weather = weather.fillna(0)"
   ]
  },
  {
   "cell_type": "code",
   "execution_count": 37,
   "metadata": {
    "cell_id": "00040-a2a80906-79e4-4401-be66-8c48e85d1597",
    "deepnote_cell_type": "code",
    "execution_millis": 4,
    "execution_start": 1608122627388,
    "output_cleared": false,
    "source_hash": "c1c7d395",
    "tags": []
   },
   "outputs": [
    {
     "data": {
      "text/plain": [
       "snow         6.0\n",
       "windy        3.0\n",
       "rain      1007.0\n",
       "lowvis     882.0\n",
       "dtype: float64"
      ]
     },
     "execution_count": 37,
     "metadata": {},
     "output_type": "execute_result"
    }
   ],
   "source": [
    "weather[['snow', 'windy', 'rain', 'lowvis']].sum()"
   ]
  },
  {
   "cell_type": "code",
   "execution_count": 38,
   "metadata": {
    "cell_id": "00030-86e9cb54-a08e-47b7-b4e7-bdfcba09bea4",
    "deepnote_cell_type": "code",
    "execution_millis": 2,
    "execution_start": 1608026921080,
    "output_cleared": false,
    "source_hash": "b99df442",
    "tags": []
   },
   "outputs": [],
   "source": [
    "# Dropping snow & windy due to extremely low variance\n",
    "weather = weather.drop(columns=['snow', 'windy'])"
   ]
  },
  {
   "cell_type": "code",
   "execution_count": 39,
   "metadata": {
    "cell_id": "00031-27217260-3f8a-43f8-8cde-96c9cb1fc2b1",
    "deepnote_cell_type": "code",
    "execution_millis": 43,
    "execution_start": 1608026921087,
    "output_cleared": false,
    "source_hash": "513c9ab2",
    "tags": []
   },
   "outputs": [
    {
     "name": "stdout",
     "output_type": "stream",
     "text": [
      "CodeSum cannot be transformed into float\n",
      "Date cannot be transformed into float\n"
     ]
    }
   ],
   "source": [
    "# Convert remaining columns\n",
    "for col in weather.columns:\n",
    "    try:\n",
    "        weather[col] = weather[col].astype(float)\n",
    "    except:\n",
    "        print(col, 'cannot be transformed into float')\n",
    "        pass"
   ]
  },
  {
   "cell_type": "code",
   "execution_count": 40,
   "metadata": {
    "cell_id": "00021-cf8e0d0f-fb59-4ee3-bda1-d5ff0e476b3b",
    "deepnote_cell_type": "code",
    "execution_millis": 0,
    "execution_start": 1608122516087,
    "output_cleared": false,
    "source_hash": "3e0895b7",
    "tags": []
   },
   "outputs": [],
   "source": [
    "# Change Date column from string to datetime\n",
    "weather['Date'] = pd.to_datetime(weather['Date'])"
   ]
  },
  {
   "cell_type": "markdown",
   "metadata": {
    "cell_id": "00033-8df28ae5-6c8e-479e-a49e-d3588b02f85f",
    "deepnote_cell_type": "markdown",
    "output_cleared": false,
    "tags": []
   },
   "source": [
    "### Merging Station 1 and Station 2 "
   ]
  },
  {
   "cell_type": "code",
   "execution_count": 41,
   "metadata": {
    "cell_id": "00033-2473d7ee-12d5-4be2-8758-4f1446767d32",
    "deepnote_cell_type": "code",
    "execution_millis": 0,
    "execution_start": 1608026921130,
    "output_cleared": false,
    "source_hash": "9a8223e4",
    "tags": []
   },
   "outputs": [],
   "source": [
    "weather = weather.groupby(['Date']).sum() / 2\n",
    "weather = weather.drop(columns=['Station']).reset_index()"
   ]
  },
  {
   "cell_type": "code",
   "execution_count": 42,
   "metadata": {
    "cell_id": "00035-d3a78c15-652c-4085-bf38-e828aad65b16",
    "deepnote_cell_type": "code",
    "execution_millis": 1,
    "execution_start": 1608026921130,
    "output_cleared": false,
    "source_hash": "b6749b55",
    "tags": []
   },
   "outputs": [],
   "source": [
    "weather = weather.drop(columns='Normal')"
   ]
  },
  {
   "cell_type": "code",
   "execution_count": 43,
   "metadata": {
    "cell_id": "00036-e00d2f10-c9c7-4b23-a002-69a99b1af6b8",
    "deepnote_cell_type": "code",
    "execution_millis": 77,
    "execution_start": 1608026921131,
    "output_cleared": false,
    "source_hash": "8b7e38d9",
    "tags": []
   },
   "outputs": [
    {
     "data": {
      "text/html": [
       "<div>\n",
       "<style scoped>\n",
       "    .dataframe tbody tr th:only-of-type {\n",
       "        vertical-align: middle;\n",
       "    }\n",
       "\n",
       "    .dataframe tbody tr th {\n",
       "        vertical-align: top;\n",
       "    }\n",
       "\n",
       "    .dataframe thead th {\n",
       "        text-align: right;\n",
       "    }\n",
       "</style>\n",
       "<table border=\"1\" class=\"dataframe\">\n",
       "  <thead>\n",
       "    <tr style=\"text-align: right;\">\n",
       "      <th></th>\n",
       "      <th>Date</th>\n",
       "      <th>AvgSpeed</th>\n",
       "      <th>Cool</th>\n",
       "      <th>Depart</th>\n",
       "      <th>DewPoint</th>\n",
       "      <th>Heat</th>\n",
       "      <th>PrecipTotal</th>\n",
       "      <th>ResultDir</th>\n",
       "      <th>ResultSpeed</th>\n",
       "      <th>SeaLevel</th>\n",
       "      <th>StnPressure</th>\n",
       "      <th>Sunrise</th>\n",
       "      <th>Sunset</th>\n",
       "      <th>Tavg</th>\n",
       "      <th>Tmax</th>\n",
       "      <th>Tmin</th>\n",
       "      <th>WetBulb</th>\n",
       "      <th>lowvis</th>\n",
       "      <th>n_codesum</th>\n",
       "      <th>rain</th>\n",
       "    </tr>\n",
       "  </thead>\n",
       "  <tbody>\n",
       "    <tr>\n",
       "      <th>0</th>\n",
       "      <td>2007-05-01</td>\n",
       "      <td>9.40</td>\n",
       "      <td>2.5</td>\n",
       "      <td>14.5</td>\n",
       "      <td>51.0</td>\n",
       "      <td>0.0</td>\n",
       "      <td>0.000</td>\n",
       "      <td>26.0</td>\n",
       "      <td>2.20</td>\n",
       "      <td>29.820</td>\n",
       "      <td>29.140</td>\n",
       "      <td>448.0</td>\n",
       "      <td>1849.0</td>\n",
       "      <td>67.5</td>\n",
       "      <td>83.5</td>\n",
       "      <td>51.0</td>\n",
       "      <td>56.5</td>\n",
       "      <td>0.0</td>\n",
       "      <td>0.0</td>\n",
       "      <td>0.0</td>\n",
       "    </tr>\n",
       "    <tr>\n",
       "      <th>1</th>\n",
       "      <td>2007-05-02</td>\n",
       "      <td>13.40</td>\n",
       "      <td>0.0</td>\n",
       "      <td>-2.5</td>\n",
       "      <td>42.0</td>\n",
       "      <td>13.5</td>\n",
       "      <td>0.000</td>\n",
       "      <td>3.0</td>\n",
       "      <td>13.15</td>\n",
       "      <td>30.085</td>\n",
       "      <td>29.410</td>\n",
       "      <td>447.0</td>\n",
       "      <td>1850.0</td>\n",
       "      <td>51.5</td>\n",
       "      <td>59.5</td>\n",
       "      <td>42.5</td>\n",
       "      <td>47.0</td>\n",
       "      <td>1.0</td>\n",
       "      <td>1.5</td>\n",
       "      <td>0.0</td>\n",
       "    </tr>\n",
       "    <tr>\n",
       "      <th>2</th>\n",
       "      <td>2007-05-03</td>\n",
       "      <td>12.55</td>\n",
       "      <td>0.0</td>\n",
       "      <td>3.0</td>\n",
       "      <td>40.0</td>\n",
       "      <td>8.0</td>\n",
       "      <td>0.000</td>\n",
       "      <td>6.5</td>\n",
       "      <td>12.30</td>\n",
       "      <td>30.120</td>\n",
       "      <td>29.425</td>\n",
       "      <td>446.0</td>\n",
       "      <td>1851.0</td>\n",
       "      <td>57.0</td>\n",
       "      <td>66.5</td>\n",
       "      <td>47.0</td>\n",
       "      <td>49.0</td>\n",
       "      <td>0.5</td>\n",
       "      <td>0.5</td>\n",
       "      <td>0.0</td>\n",
       "    </tr>\n",
       "    <tr>\n",
       "      <th>3</th>\n",
       "      <td>2007-05-04</td>\n",
       "      <td>10.60</td>\n",
       "      <td>0.0</td>\n",
       "      <td>7.0</td>\n",
       "      <td>41.5</td>\n",
       "      <td>4.0</td>\n",
       "      <td>0.005</td>\n",
       "      <td>7.5</td>\n",
       "      <td>10.25</td>\n",
       "      <td>30.045</td>\n",
       "      <td>29.335</td>\n",
       "      <td>444.0</td>\n",
       "      <td>1852.0</td>\n",
       "      <td>61.0</td>\n",
       "      <td>72.0</td>\n",
       "      <td>50.0</td>\n",
       "      <td>50.0</td>\n",
       "      <td>0.0</td>\n",
       "      <td>0.5</td>\n",
       "      <td>0.5</td>\n",
       "    </tr>\n",
       "    <tr>\n",
       "      <th>4</th>\n",
       "      <td>2007-05-05</td>\n",
       "      <td>11.75</td>\n",
       "      <td>0.0</td>\n",
       "      <td>5.0</td>\n",
       "      <td>38.5</td>\n",
       "      <td>5.0</td>\n",
       "      <td>0.010</td>\n",
       "      <td>7.0</td>\n",
       "      <td>11.45</td>\n",
       "      <td>30.095</td>\n",
       "      <td>29.430</td>\n",
       "      <td>443.0</td>\n",
       "      <td>1853.0</td>\n",
       "      <td>60.0</td>\n",
       "      <td>66.0</td>\n",
       "      <td>53.5</td>\n",
       "      <td>49.5</td>\n",
       "      <td>0.0</td>\n",
       "      <td>0.0</td>\n",
       "      <td>0.0</td>\n",
       "    </tr>\n",
       "    <tr>\n",
       "      <th>...</th>\n",
       "      <td>...</td>\n",
       "      <td>...</td>\n",
       "      <td>...</td>\n",
       "      <td>...</td>\n",
       "      <td>...</td>\n",
       "      <td>...</td>\n",
       "      <td>...</td>\n",
       "      <td>...</td>\n",
       "      <td>...</td>\n",
       "      <td>...</td>\n",
       "      <td>...</td>\n",
       "      <td>...</td>\n",
       "      <td>...</td>\n",
       "      <td>...</td>\n",
       "      <td>...</td>\n",
       "      <td>...</td>\n",
       "      <td>...</td>\n",
       "      <td>...</td>\n",
       "      <td>...</td>\n",
       "      <td>...</td>\n",
       "    </tr>\n",
       "    <tr>\n",
       "      <th>1467</th>\n",
       "      <td>2014-10-27</td>\n",
       "      <td>13.25</td>\n",
       "      <td>1.0</td>\n",
       "      <td>17.5</td>\n",
       "      <td>51.5</td>\n",
       "      <td>0.5</td>\n",
       "      <td>0.010</td>\n",
       "      <td>19.0</td>\n",
       "      <td>12.35</td>\n",
       "      <td>29.665</td>\n",
       "      <td>28.960</td>\n",
       "      <td>618.0</td>\n",
       "      <td>1653.0</td>\n",
       "      <td>65.5</td>\n",
       "      <td>78.0</td>\n",
       "      <td>52.5</td>\n",
       "      <td>58.5</td>\n",
       "      <td>0.0</td>\n",
       "      <td>0.5</td>\n",
       "      <td>0.5</td>\n",
       "    </tr>\n",
       "    <tr>\n",
       "      <th>1468</th>\n",
       "      <td>2014-10-28</td>\n",
       "      <td>15.10</td>\n",
       "      <td>0.0</td>\n",
       "      <td>10.0</td>\n",
       "      <td>39.0</td>\n",
       "      <td>8.0</td>\n",
       "      <td>0.020</td>\n",
       "      <td>26.0</td>\n",
       "      <td>14.40</td>\n",
       "      <td>29.850</td>\n",
       "      <td>29.190</td>\n",
       "      <td>619.0</td>\n",
       "      <td>1651.0</td>\n",
       "      <td>57.0</td>\n",
       "      <td>67.0</td>\n",
       "      <td>46.5</td>\n",
       "      <td>47.5</td>\n",
       "      <td>0.0</td>\n",
       "      <td>0.5</td>\n",
       "      <td>0.5</td>\n",
       "    </tr>\n",
       "    <tr>\n",
       "      <th>1469</th>\n",
       "      <td>2014-10-29</td>\n",
       "      <td>9.45</td>\n",
       "      <td>0.0</td>\n",
       "      <td>-3.0</td>\n",
       "      <td>33.0</td>\n",
       "      <td>21.0</td>\n",
       "      <td>0.000</td>\n",
       "      <td>29.0</td>\n",
       "      <td>9.00</td>\n",
       "      <td>30.065</td>\n",
       "      <td>29.390</td>\n",
       "      <td>620.0</td>\n",
       "      <td>1650.0</td>\n",
       "      <td>44.0</td>\n",
       "      <td>49.0</td>\n",
       "      <td>38.0</td>\n",
       "      <td>41.0</td>\n",
       "      <td>0.0</td>\n",
       "      <td>0.0</td>\n",
       "      <td>0.0</td>\n",
       "    </tr>\n",
       "    <tr>\n",
       "      <th>1470</th>\n",
       "      <td>2014-10-30</td>\n",
       "      <td>6.00</td>\n",
       "      <td>0.0</td>\n",
       "      <td>-2.5</td>\n",
       "      <td>34.5</td>\n",
       "      <td>21.5</td>\n",
       "      <td>0.005</td>\n",
       "      <td>23.5</td>\n",
       "      <td>5.50</td>\n",
       "      <td>30.095</td>\n",
       "      <td>29.375</td>\n",
       "      <td>622.0</td>\n",
       "      <td>1649.0</td>\n",
       "      <td>43.5</td>\n",
       "      <td>52.0</td>\n",
       "      <td>34.5</td>\n",
       "      <td>41.0</td>\n",
       "      <td>0.0</td>\n",
       "      <td>0.5</td>\n",
       "      <td>0.5</td>\n",
       "    </tr>\n",
       "    <tr>\n",
       "      <th>1471</th>\n",
       "      <td>2014-10-31</td>\n",
       "      <td>22.75</td>\n",
       "      <td>0.0</td>\n",
       "      <td>-5.0</td>\n",
       "      <td>27.0</td>\n",
       "      <td>24.0</td>\n",
       "      <td>0.035</td>\n",
       "      <td>34.0</td>\n",
       "      <td>22.15</td>\n",
       "      <td>30.200</td>\n",
       "      <td>29.515</td>\n",
       "      <td>623.0</td>\n",
       "      <td>1647.0</td>\n",
       "      <td>41.0</td>\n",
       "      <td>48.0</td>\n",
       "      <td>33.5</td>\n",
       "      <td>34.5</td>\n",
       "      <td>0.5</td>\n",
       "      <td>2.5</td>\n",
       "      <td>1.0</td>\n",
       "    </tr>\n",
       "  </tbody>\n",
       "</table>\n",
       "<p>1472 rows × 20 columns</p>\n",
       "</div>"
      ],
      "text/plain": [
       "           Date  AvgSpeed  Cool  Depart  DewPoint  Heat  PrecipTotal  \\\n",
       "0    2007-05-01      9.40   2.5    14.5      51.0   0.0        0.000   \n",
       "1    2007-05-02     13.40   0.0    -2.5      42.0  13.5        0.000   \n",
       "2    2007-05-03     12.55   0.0     3.0      40.0   8.0        0.000   \n",
       "3    2007-05-04     10.60   0.0     7.0      41.5   4.0        0.005   \n",
       "4    2007-05-05     11.75   0.0     5.0      38.5   5.0        0.010   \n",
       "...         ...       ...   ...     ...       ...   ...          ...   \n",
       "1467 2014-10-27     13.25   1.0    17.5      51.5   0.5        0.010   \n",
       "1468 2014-10-28     15.10   0.0    10.0      39.0   8.0        0.020   \n",
       "1469 2014-10-29      9.45   0.0    -3.0      33.0  21.0        0.000   \n",
       "1470 2014-10-30      6.00   0.0    -2.5      34.5  21.5        0.005   \n",
       "1471 2014-10-31     22.75   0.0    -5.0      27.0  24.0        0.035   \n",
       "\n",
       "      ResultDir  ResultSpeed  SeaLevel  StnPressure  Sunrise  Sunset  Tavg  \\\n",
       "0          26.0         2.20    29.820       29.140    448.0  1849.0  67.5   \n",
       "1           3.0        13.15    30.085       29.410    447.0  1850.0  51.5   \n",
       "2           6.5        12.30    30.120       29.425    446.0  1851.0  57.0   \n",
       "3           7.5        10.25    30.045       29.335    444.0  1852.0  61.0   \n",
       "4           7.0        11.45    30.095       29.430    443.0  1853.0  60.0   \n",
       "...         ...          ...       ...          ...      ...     ...   ...   \n",
       "1467       19.0        12.35    29.665       28.960    618.0  1653.0  65.5   \n",
       "1468       26.0        14.40    29.850       29.190    619.0  1651.0  57.0   \n",
       "1469       29.0         9.00    30.065       29.390    620.0  1650.0  44.0   \n",
       "1470       23.5         5.50    30.095       29.375    622.0  1649.0  43.5   \n",
       "1471       34.0        22.15    30.200       29.515    623.0  1647.0  41.0   \n",
       "\n",
       "      Tmax  Tmin  WetBulb  lowvis  n_codesum  rain  \n",
       "0     83.5  51.0     56.5     0.0        0.0   0.0  \n",
       "1     59.5  42.5     47.0     1.0        1.5   0.0  \n",
       "2     66.5  47.0     49.0     0.5        0.5   0.0  \n",
       "3     72.0  50.0     50.0     0.0        0.5   0.5  \n",
       "4     66.0  53.5     49.5     0.0        0.0   0.0  \n",
       "...    ...   ...      ...     ...        ...   ...  \n",
       "1467  78.0  52.5     58.5     0.0        0.5   0.5  \n",
       "1468  67.0  46.5     47.5     0.0        0.5   0.5  \n",
       "1469  49.0  38.0     41.0     0.0        0.0   0.0  \n",
       "1470  52.0  34.5     41.0     0.0        0.5   0.5  \n",
       "1471  48.0  33.5     34.5     0.5        2.5   1.0  \n",
       "\n",
       "[1472 rows x 20 columns]"
      ]
     },
     "execution_count": 43,
     "metadata": {},
     "output_type": "execute_result"
    }
   ],
   "source": [
    "weather"
   ]
  },
  {
   "cell_type": "markdown",
   "metadata": {
    "cell_id": "00033-8df28ae5-6c8e-479e-a49e-d3588b02f85f",
    "deepnote_cell_type": "markdown",
    "output_cleared": false,
    "tags": []
   },
   "source": [
    "### Creating more features "
   ]
  },
  {
   "cell_type": "code",
   "execution_count": 44,
   "metadata": {
    "cell_id": "00036-47c49664-6b90-45b2-a762-f25c9f934c6a",
    "deepnote_cell_type": "code",
    "execution_millis": 136,
    "execution_start": 1608026921322,
    "output_cleared": false,
    "source_hash": "2ac94348",
    "tags": []
   },
   "outputs": [],
   "source": [
    "# Create a reproducible function to add Year, Month, Week and Day of Week features\n",
    "def create_date_features(dataset):\n",
    "    dataset['Date'] = pd.to_datetime(dataset['Date'])\n",
    "    dataset['Year'] = dataset['Date'].apply(lambda x: x.year)\n",
    "    dataset['Month'] = dataset['Date'].apply(lambda x: x.month)\n",
    "    dataset['Week'] = dataset['Date'].apply(lambda x: x.week)\n",
    "    dataset['DayOfWeek'] = dataset['Date'].apply(lambda x: x.dayofweek)\n",
    "    return dataset"
   ]
  },
  {
   "cell_type": "code",
   "execution_count": 45,
   "metadata": {
    "cell_id": "00038-53eb6d9c-a119-43e3-b34e-af30bf309739",
    "deepnote_cell_type": "code",
    "execution_millis": 1,
    "execution_start": 1608026921277,
    "output_cleared": false,
    "source_hash": "3dd41664",
    "tags": []
   },
   "outputs": [],
   "source": [
    "# apply create_date_features\n",
    "weather = create_date_features(weather)"
   ]
  },
  {
   "cell_type": "code",
   "execution_count": 46,
   "metadata": {
    "cell_id": "00034-27bcfe0b-b128-49ad-81e0-6f32fd4c20aa",
    "deepnote_cell_type": "code",
    "execution_millis": 0,
    "execution_start": 1608026921278,
    "output_cleared": false,
    "source_hash": "d31f1e7e",
    "tags": []
   },
   "outputs": [],
   "source": [
    "weather.to_csv('./datasets/cleaned_weather.csv', index=False)"
   ]
  },
  {
   "cell_type": "code",
   "execution_count": 47,
   "metadata": {},
   "outputs": [
    {
     "name": "stdout",
     "output_type": "stream",
     "text": [
      "<class 'pandas.core.frame.DataFrame'>\n",
      "RangeIndex: 1472 entries, 0 to 1471\n",
      "Data columns (total 24 columns):\n",
      " #   Column       Non-Null Count  Dtype  \n",
      "---  ------       --------------  -----  \n",
      " 0   Date         1472 non-null   object \n",
      " 1   AvgSpeed     1472 non-null   float64\n",
      " 2   Cool         1472 non-null   float64\n",
      " 3   Depart       1472 non-null   float64\n",
      " 4   DewPoint     1472 non-null   float64\n",
      " 5   Heat         1472 non-null   float64\n",
      " 6   PrecipTotal  1472 non-null   float64\n",
      " 7   ResultDir    1472 non-null   float64\n",
      " 8   ResultSpeed  1472 non-null   float64\n",
      " 9   SeaLevel     1472 non-null   float64\n",
      " 10  StnPressure  1472 non-null   float64\n",
      " 11  Sunrise      1472 non-null   float64\n",
      " 12  Sunset       1472 non-null   float64\n",
      " 13  Tavg         1472 non-null   float64\n",
      " 14  Tmax         1472 non-null   float64\n",
      " 15  Tmin         1472 non-null   float64\n",
      " 16  WetBulb      1472 non-null   float64\n",
      " 17  lowvis       1472 non-null   float64\n",
      " 18  n_codesum    1472 non-null   float64\n",
      " 19  rain         1472 non-null   float64\n",
      " 20  Year         1472 non-null   int64  \n",
      " 21  Month        1472 non-null   int64  \n",
      " 22  Week         1472 non-null   int64  \n",
      " 23  DayOfWeek    1472 non-null   int64  \n",
      "dtypes: float64(19), int64(4), object(1)\n",
      "memory usage: 276.1+ KB\n"
     ]
    }
   ],
   "source": [
    "cleaned_weather = pd.read_csv('./datasets/cleaned_weather.csv')\n",
    "cleaned_weather.info()"
   ]
  },
  {
   "cell_type": "markdown",
   "metadata": {
    "cell_id": "00034-6c13fe45-69fe-405c-9129-cf7bd9e6daf3",
    "deepnote_cell_type": "markdown",
    "output_cleared": false,
    "tags": []
   },
   "source": [
    "## Train"
   ]
  },
  {
   "cell_type": "markdown",
   "metadata": {
    "cell_id": "00008-d479cb7f-db7a-4ba8-92fb-b4d3b60d4df9",
    "deepnote_cell_type": "markdown",
    "tags": []
   },
   "source": [
    "### Initial Analysis"
   ]
  },
  {
   "cell_type": "code",
   "execution_count": 48,
   "metadata": {},
   "outputs": [
    {
     "name": "stdout",
     "output_type": "stream",
     "text": [
      "train dataset\n",
      "\n",
      "(10506, 12)\n",
      "\n",
      "Non-null and Data Types\n",
      "<class 'pandas.core.frame.DataFrame'>\n",
      "RangeIndex: 10506 entries, 0 to 10505\n",
      "Data columns (total 12 columns):\n",
      " #   Column                  Non-Null Count  Dtype  \n",
      "---  ------                  --------------  -----  \n",
      " 0   Date                    10506 non-null  object \n",
      " 1   Address                 10506 non-null  object \n",
      " 2   Species                 10506 non-null  object \n",
      " 3   Block                   10506 non-null  int64  \n",
      " 4   Street                  10506 non-null  object \n",
      " 5   Trap                    10506 non-null  object \n",
      " 6   AddressNumberAndStreet  10506 non-null  object \n",
      " 7   Latitude                10506 non-null  float64\n",
      " 8   Longitude               10506 non-null  float64\n",
      " 9   AddressAccuracy         10506 non-null  int64  \n",
      " 10  NumMosquitos            10506 non-null  int64  \n",
      " 11  WnvPresent              10506 non-null  int64  \n",
      "dtypes: float64(2), int64(4), object(6)\n",
      "memory usage: 985.1+ KB\n",
      "\n",
      "Number of duplicated rows: 1062\n",
      "Number of missing values: 0\n",
      "Number of zero values: 0\n",
      "\n",
      "Columns with missing values:\n",
      "Series([], dtype: int64)\n",
      "\n",
      "Columns with zero values:\n",
      "Series([], dtype: int64)\n",
      "\n",
      "______________________________________________________\n",
      "\n"
     ]
    }
   ],
   "source": [
    "df_summary(train, 'train')"
   ]
  },
  {
   "cell_type": "markdown",
   "metadata": {
    "cell_id": "00003-b49213d7-ae1d-4514-a386-8da1f77f911e",
    "deepnote_cell_type": "markdown",
    "output_cleared": false,
    "tags": []
   },
   "source": [
    "### Summary and Cleaning to be done "
   ]
  },
  {
   "cell_type": "markdown",
   "metadata": {
    "cell_id": "00004-7428a496-bb38-4e88-9932-89ca1913e0d5",
    "deepnote_cell_type": "markdown",
    "output_cleared": false,
    "tags": []
   },
   "source": [
    "<u>**Summary:** \n",
    "\n",
    "**Train:**\n",
    "- There are 1062 duplicated rows.\n",
    "    \n",
    "<u>**Cleaning to be done:**\n",
    "    \n",
    "**Train:**\n",
    "- Add Year, Month, Week and Day of Week features\n",
    "- Sum NumMosquitos\n",
    "- Create nearest station to the traps"
   ]
  },
  {
   "cell_type": "code",
   "execution_count": 49,
   "metadata": {
    "cell_id": "00036-47c49664-6b90-45b2-a762-f25c9f934c6a",
    "deepnote_cell_type": "code",
    "execution_millis": 136,
    "execution_start": 1608026921322,
    "output_cleared": false,
    "source_hash": "2ac94348",
    "tags": []
   },
   "outputs": [],
   "source": [
    "# invoke create_date_features\n",
    "train = create_date_features(train)"
   ]
  },
  {
   "cell_type": "code",
   "execution_count": 50,
   "metadata": {},
   "outputs": [],
   "source": [
    "# Sum NumMosquitos. Whenever Wnv is detected within the same trap/cohort in the same day, the mosquitos captured are considered to have Wnv\n",
    "train = train.groupby(by=[col for col in train.columns if col not in ['NumMosquitos', 'WnvPresent']]).sum().reset_index()"
   ]
  },
  {
   "cell_type": "code",
   "execution_count": 51,
   "metadata": {
    "cell_id": "00046-5b604c81-78c4-4d04-a5ab-c225c7e45cef",
    "deepnote_cell_type": "code",
    "execution_millis": 2,
    "execution_start": 1608026921503,
    "output_cleared": false,
    "source_hash": "a0b788f2",
    "tags": []
   },
   "outputs": [
    {
     "data": {
      "text/html": [
       "<div>\n",
       "<style scoped>\n",
       "    .dataframe tbody tr th:only-of-type {\n",
       "        vertical-align: middle;\n",
       "    }\n",
       "\n",
       "    .dataframe tbody tr th {\n",
       "        vertical-align: top;\n",
       "    }\n",
       "\n",
       "    .dataframe thead th {\n",
       "        text-align: right;\n",
       "    }\n",
       "</style>\n",
       "<table border=\"1\" class=\"dataframe\">\n",
       "  <thead>\n",
       "    <tr style=\"text-align: right;\">\n",
       "      <th></th>\n",
       "      <th>Date</th>\n",
       "      <th>Address</th>\n",
       "      <th>Species</th>\n",
       "      <th>Block</th>\n",
       "      <th>Street</th>\n",
       "      <th>Trap</th>\n",
       "      <th>AddressNumberAndStreet</th>\n",
       "      <th>Latitude</th>\n",
       "      <th>Longitude</th>\n",
       "      <th>AddressAccuracy</th>\n",
       "      <th>Year</th>\n",
       "      <th>Month</th>\n",
       "      <th>Week</th>\n",
       "      <th>DayOfWeek</th>\n",
       "      <th>NumMosquitos</th>\n",
       "      <th>WnvPresent</th>\n",
       "    </tr>\n",
       "  </thead>\n",
       "  <tbody>\n",
       "    <tr>\n",
       "      <th>0</th>\n",
       "      <td>2007-05-29</td>\n",
       "      <td>1100 Roosevelt Road, Chicago, IL 60608, USA</td>\n",
       "      <td>CULEX PIPIENS/RESTUANS</td>\n",
       "      <td>11</td>\n",
       "      <td>W ROOSEVELT</td>\n",
       "      <td>T048</td>\n",
       "      <td>1100  W ROOSEVELT, Chicago, IL</td>\n",
       "      <td>41.867108</td>\n",
       "      <td>-87.654224</td>\n",
       "      <td>8</td>\n",
       "      <td>2007</td>\n",
       "      <td>5</td>\n",
       "      <td>22</td>\n",
       "      <td>1</td>\n",
       "      <td>1</td>\n",
       "      <td>0</td>\n",
       "    </tr>\n",
       "    <tr>\n",
       "      <th>1</th>\n",
       "      <td>2007-05-29</td>\n",
       "      <td>1100 Roosevelt Road, Chicago, IL 60608, USA</td>\n",
       "      <td>CULEX RESTUANS</td>\n",
       "      <td>11</td>\n",
       "      <td>W ROOSEVELT</td>\n",
       "      <td>T048</td>\n",
       "      <td>1100  W ROOSEVELT, Chicago, IL</td>\n",
       "      <td>41.867108</td>\n",
       "      <td>-87.654224</td>\n",
       "      <td>8</td>\n",
       "      <td>2007</td>\n",
       "      <td>5</td>\n",
       "      <td>22</td>\n",
       "      <td>1</td>\n",
       "      <td>2</td>\n",
       "      <td>0</td>\n",
       "    </tr>\n",
       "    <tr>\n",
       "      <th>2</th>\n",
       "      <td>2007-05-29</td>\n",
       "      <td>1100 South Peoria Street, Chicago, IL 60608, USA</td>\n",
       "      <td>CULEX RESTUANS</td>\n",
       "      <td>11</td>\n",
       "      <td>S PEORIA ST</td>\n",
       "      <td>T091</td>\n",
       "      <td>1100  S PEORIA ST, Chicago, IL</td>\n",
       "      <td>41.862292</td>\n",
       "      <td>-87.648860</td>\n",
       "      <td>8</td>\n",
       "      <td>2007</td>\n",
       "      <td>5</td>\n",
       "      <td>22</td>\n",
       "      <td>1</td>\n",
       "      <td>1</td>\n",
       "      <td>0</td>\n",
       "    </tr>\n",
       "    <tr>\n",
       "      <th>3</th>\n",
       "      <td>2007-05-29</td>\n",
       "      <td>1100 West Chicago Avenue, Chicago, IL 60642, USA</td>\n",
       "      <td>CULEX RESTUANS</td>\n",
       "      <td>11</td>\n",
       "      <td>W CHICAGO</td>\n",
       "      <td>T049</td>\n",
       "      <td>1100  W CHICAGO, Chicago, IL</td>\n",
       "      <td>41.896282</td>\n",
       "      <td>-87.655232</td>\n",
       "      <td>8</td>\n",
       "      <td>2007</td>\n",
       "      <td>5</td>\n",
       "      <td>22</td>\n",
       "      <td>1</td>\n",
       "      <td>1</td>\n",
       "      <td>0</td>\n",
       "    </tr>\n",
       "    <tr>\n",
       "      <th>4</th>\n",
       "      <td>2007-05-29</td>\n",
       "      <td>1500 North Long Avenue, Chicago, IL 60651, USA</td>\n",
       "      <td>CULEX RESTUANS</td>\n",
       "      <td>15</td>\n",
       "      <td>N LONG AVE</td>\n",
       "      <td>T153</td>\n",
       "      <td>1500  N LONG AVE, Chicago, IL</td>\n",
       "      <td>41.907645</td>\n",
       "      <td>-87.760886</td>\n",
       "      <td>8</td>\n",
       "      <td>2007</td>\n",
       "      <td>5</td>\n",
       "      <td>22</td>\n",
       "      <td>1</td>\n",
       "      <td>1</td>\n",
       "      <td>0</td>\n",
       "    </tr>\n",
       "  </tbody>\n",
       "</table>\n",
       "</div>"
      ],
      "text/plain": [
       "        Date                                           Address  \\\n",
       "0 2007-05-29       1100 Roosevelt Road, Chicago, IL 60608, USA   \n",
       "1 2007-05-29       1100 Roosevelt Road, Chicago, IL 60608, USA   \n",
       "2 2007-05-29  1100 South Peoria Street, Chicago, IL 60608, USA   \n",
       "3 2007-05-29  1100 West Chicago Avenue, Chicago, IL 60642, USA   \n",
       "4 2007-05-29    1500 North Long Avenue, Chicago, IL 60651, USA   \n",
       "\n",
       "                  Species  Block        Street  Trap  \\\n",
       "0  CULEX PIPIENS/RESTUANS     11   W ROOSEVELT  T048   \n",
       "1          CULEX RESTUANS     11   W ROOSEVELT  T048   \n",
       "2          CULEX RESTUANS     11   S PEORIA ST  T091   \n",
       "3          CULEX RESTUANS     11     W CHICAGO  T049   \n",
       "4          CULEX RESTUANS     15    N LONG AVE  T153   \n",
       "\n",
       "           AddressNumberAndStreet   Latitude  Longitude  AddressAccuracy  \\\n",
       "0  1100  W ROOSEVELT, Chicago, IL  41.867108 -87.654224                8   \n",
       "1  1100  W ROOSEVELT, Chicago, IL  41.867108 -87.654224                8   \n",
       "2  1100  S PEORIA ST, Chicago, IL  41.862292 -87.648860                8   \n",
       "3    1100  W CHICAGO, Chicago, IL  41.896282 -87.655232                8   \n",
       "4   1500  N LONG AVE, Chicago, IL  41.907645 -87.760886                8   \n",
       "\n",
       "   Year  Month  Week  DayOfWeek  NumMosquitos  WnvPresent  \n",
       "0  2007      5    22          1             1           0  \n",
       "1  2007      5    22          1             2           0  \n",
       "2  2007      5    22          1             1           0  \n",
       "3  2007      5    22          1             1           0  \n",
       "4  2007      5    22          1             1           0  "
      ]
     },
     "execution_count": 51,
     "metadata": {},
     "output_type": "execute_result"
    }
   ],
   "source": [
    "train['WnvPresent'] = train['WnvPresent'].map(lambda x : 1 if x > 0 else x)\n",
    "\n",
    "train.head()"
   ]
  },
  {
   "cell_type": "code",
   "execution_count": 52,
   "metadata": {
    "cell_id": "00036-47c49664-6b90-45b2-a762-f25c9f934c6a",
    "deepnote_cell_type": "code",
    "execution_millis": 136,
    "execution_start": 1608026921322,
    "output_cleared": false,
    "source_hash": "2ac94348",
    "tags": []
   },
   "outputs": [],
   "source": [
    "# Create a reproducible function to calculate nearest station to the traps\n",
    "def nearest_station(dataset):\n",
    "    # column 'latlong'\n",
    "    dataset['LatLong'] = [(x,y) for x,y in zip(dataset['Latitude'], dataset['Longitude'])]\n",
    "    # column coordinate\n",
    "    dataset['Coordinate'] = [Point(x,y) for x,y in zip(dataset['Latitude'], dataset['Longitude'])]\n",
    "    \n",
    "    # impute the points for station 1 and 2\n",
    "    station_points = MultiPoint([Point(41.995,-87.933), Point(41.786,-87.752)])\n",
    "    # calculate the station nearest to the traps\n",
    "    dataset['Nearest_station'] = dataset['Coordinate'].map(lambda x:1 if nearest_points(station_points, x)[0] == station_points[0] else 2)\n",
    "    return dataset"
   ]
  },
  {
   "cell_type": "code",
   "execution_count": 53,
   "metadata": {},
   "outputs": [
    {
     "name": "stderr",
     "output_type": "stream",
     "text": [
      "C:\\Users\\yuner\\anaconda3\\lib\\site-packages\\pandas\\core\\dtypes\\cast.py:122: ShapelyDeprecationWarning: The array interface is deprecated and will no longer work in Shapely 2.0. Convert the '.coords' to a numpy array instead.\n",
      "  arr = construct_1d_object_array_from_listlike(values)\n",
      "C:\\Users\\yuner\\AppData\\Local\\Temp\\ipykernel_5704\\2884405775.py:11: ShapelyDeprecationWarning: __getitem__ for multi-part geometries is deprecated and will be removed in Shapely 2.0. Use the `geoms` property to access the constituent parts of a multi-part geometry.\n",
      "  dataset['Nearest_station'] = dataset['Coordinate'].map(lambda x:1 if nearest_points(station_points, x)[0] == station_points[0] else 2)\n"
     ]
    }
   ],
   "source": [
    "# invoke nearest_station function\n",
    "train = nearest_station(train)"
   ]
  },
  {
   "cell_type": "code",
   "execution_count": 54,
   "metadata": {
    "cell_id": "00035-34291095-22d8-4ad1-9996-e008f6542967",
    "deepnote_cell_type": "code",
    "execution_millis": 65,
    "execution_start": 1608026921558,
    "output_cleared": false,
    "source_hash": "76f77274",
    "tags": []
   },
   "outputs": [],
   "source": [
    "train.to_csv('./datasets/cleaned_train.csv', index=False)"
   ]
  },
  {
   "cell_type": "markdown",
   "metadata": {
    "cell_id": "00036-7ac115fc-8130-4f3d-8632-f2252f02b771",
    "deepnote_cell_type": "markdown",
    "output_cleared": false,
    "tags": []
   },
   "source": [
    "## Test"
   ]
  },
  {
   "cell_type": "markdown",
   "metadata": {
    "cell_id": "00008-d479cb7f-db7a-4ba8-92fb-b4d3b60d4df9",
    "deepnote_cell_type": "markdown",
    "tags": []
   },
   "source": [
    "### Initial Analysis"
   ]
  },
  {
   "cell_type": "code",
   "execution_count": 55,
   "metadata": {},
   "outputs": [
    {
     "name": "stdout",
     "output_type": "stream",
     "text": [
      "test dataset\n",
      "\n",
      "(116293, 15)\n",
      "\n",
      "Non-null and Data Types\n",
      "<class 'pandas.core.frame.DataFrame'>\n",
      "RangeIndex: 116293 entries, 0 to 116292\n",
      "Data columns (total 15 columns):\n",
      " #   Column                  Non-Null Count   Dtype  \n",
      "---  ------                  --------------   -----  \n",
      " 0   Id                      116293 non-null  int64  \n",
      " 1   Date                    116293 non-null  object \n",
      " 2   Address                 116293 non-null  object \n",
      " 3   Species                 116293 non-null  object \n",
      " 4   Block                   116293 non-null  int64  \n",
      " 5   Street                  116293 non-null  object \n",
      " 6   Trap                    116293 non-null  object \n",
      " 7   AddressNumberAndStreet  116293 non-null  object \n",
      " 8   Latitude                116293 non-null  float64\n",
      " 9   Longitude               116293 non-null  float64\n",
      " 10  AddressAccuracy         116293 non-null  int64  \n",
      " 11  Year                    116293 non-null  int64  \n",
      " 12  Month                   116293 non-null  int64  \n",
      " 13  Week                    116293 non-null  int64  \n",
      " 14  DayOfWeek               116293 non-null  int64  \n",
      "dtypes: float64(2), int64(7), object(6)\n",
      "memory usage: 13.3+ MB\n",
      "\n",
      "Number of duplicated rows: 0\n",
      "Number of missing values: 0\n",
      "Number of zero values: 0\n",
      "\n",
      "Columns with missing values:\n",
      "Series([], dtype: int64)\n",
      "\n",
      "Columns with zero values:\n",
      "Series([], dtype: int64)\n",
      "\n",
      "______________________________________________________\n",
      "\n"
     ]
    }
   ],
   "source": [
    "df_summary(test, 'test')"
   ]
  },
  {
   "cell_type": "markdown",
   "metadata": {
    "cell_id": "00003-b49213d7-ae1d-4514-a386-8da1f77f911e",
    "deepnote_cell_type": "markdown",
    "output_cleared": false,
    "tags": []
   },
   "source": [
    "### Summary and Cleaning to be done "
   ]
  },
  {
   "cell_type": "markdown",
   "metadata": {
    "cell_id": "00004-7428a496-bb38-4e88-9932-89ca1913e0d5",
    "deepnote_cell_type": "markdown",
    "output_cleared": false,
    "tags": []
   },
   "source": [
    "<u>**Summary:** \n",
    "\n",
    "**Test:**\n",
    "- No duplicated rows, missing values nor zero values.\n",
    "\n",
    "<u>**Cleaning to be done:**\n",
    "    \n",
    "**Test:**\n",
    "- Add Year, Month, Week and Day of Week features\n",
    "- Create nearest station to the traps"
   ]
  },
  {
   "cell_type": "code",
   "execution_count": 56,
   "metadata": {
    "cell_id": "00036-47c49664-6b90-45b2-a762-f25c9f934c6a",
    "deepnote_cell_type": "code",
    "execution_millis": 136,
    "execution_start": 1608026921322,
    "output_cleared": false,
    "source_hash": "2ac94348",
    "tags": []
   },
   "outputs": [],
   "source": [
    "# invoke create_date_features\n",
    "test = create_date_features(test)"
   ]
  },
  {
   "cell_type": "code",
   "execution_count": 57,
   "metadata": {},
   "outputs": [
    {
     "name": "stderr",
     "output_type": "stream",
     "text": [
      "C:\\Users\\yuner\\anaconda3\\lib\\site-packages\\pandas\\core\\dtypes\\cast.py:122: ShapelyDeprecationWarning: The array interface is deprecated and will no longer work in Shapely 2.0. Convert the '.coords' to a numpy array instead.\n",
      "  arr = construct_1d_object_array_from_listlike(values)\n",
      "C:\\Users\\yuner\\AppData\\Local\\Temp\\ipykernel_5704\\2884405775.py:11: ShapelyDeprecationWarning: __getitem__ for multi-part geometries is deprecated and will be removed in Shapely 2.0. Use the `geoms` property to access the constituent parts of a multi-part geometry.\n",
      "  dataset['Nearest_station'] = dataset['Coordinate'].map(lambda x:1 if nearest_points(station_points, x)[0] == station_points[0] else 2)\n"
     ]
    }
   ],
   "source": [
    "# invoke nearest_station function\n",
    "test = nearest_station(test)"
   ]
  },
  {
   "cell_type": "code",
   "execution_count": 58,
   "metadata": {
    "cell_id": "00049-53d522ab-570d-4f40-9b9f-9877d1097e93",
    "deepnote_cell_type": "code",
    "tags": []
   },
   "outputs": [],
   "source": [
    "test.to_csv('./datasets/cleaned_test.csv', index=False)"
   ]
  },
  {
   "cell_type": "markdown",
   "metadata": {
    "cell_id": "00042-a8143962-f204-4c49-8dd7-554cff753b1a",
    "deepnote_cell_type": "markdown",
    "output_cleared": false,
    "tags": []
   },
   "source": [
    "## Spray"
   ]
  },
  {
   "cell_type": "markdown",
   "metadata": {
    "cell_id": "00008-d479cb7f-db7a-4ba8-92fb-b4d3b60d4df9",
    "deepnote_cell_type": "markdown",
    "tags": []
   },
   "source": [
    "### Initial Analysis"
   ]
  },
  {
   "cell_type": "code",
   "execution_count": 59,
   "metadata": {},
   "outputs": [
    {
     "name": "stdout",
     "output_type": "stream",
     "text": [
      "spray dataset\n",
      "\n",
      "(14835, 4)\n",
      "\n",
      "Non-null and Data Types\n",
      "<class 'pandas.core.frame.DataFrame'>\n",
      "RangeIndex: 14835 entries, 0 to 14834\n",
      "Data columns (total 4 columns):\n",
      " #   Column     Non-Null Count  Dtype  \n",
      "---  ------     --------------  -----  \n",
      " 0   Date       14835 non-null  object \n",
      " 1   Time       14251 non-null  object \n",
      " 2   Latitude   14835 non-null  float64\n",
      " 3   Longitude  14835 non-null  float64\n",
      "dtypes: float64(2), object(2)\n",
      "memory usage: 463.7+ KB\n",
      "\n",
      "Number of duplicated rows: 543\n",
      "Number of missing values: 584\n",
      "Number of zero values: 0\n",
      "\n",
      "Columns with missing values:\n",
      "Time    584\n",
      "dtype: int64\n",
      "\n",
      "Columns with zero values:\n",
      "Series([], dtype: int64)\n",
      "\n",
      "______________________________________________________\n",
      "\n"
     ]
    }
   ],
   "source": [
    "df_summary(spray, 'spray')"
   ]
  },
  {
   "cell_type": "markdown",
   "metadata": {
    "cell_id": "00003-b49213d7-ae1d-4514-a386-8da1f77f911e",
    "deepnote_cell_type": "markdown",
    "output_cleared": false,
    "tags": []
   },
   "source": [
    "### Summary and Cleaning to be done "
   ]
  },
  {
   "cell_type": "markdown",
   "metadata": {
    "cell_id": "00004-7428a496-bb38-4e88-9932-89ca1913e0d5",
    "deepnote_cell_type": "markdown",
    "output_cleared": false,
    "tags": []
   },
   "source": [
    "<u>**Summary:** \n",
    "\n",
    "**Spray:**\n",
    "- There are 543 duplicated rows.\n",
    "- The `Time` attribute has 584 missing values.\n",
    "\n",
    "<u>**Cleaning to be done:** \n",
    "\n",
    "**Spray:**\n",
    "- Dropped duplicates\n",
    "- Dropped missing `Time` values\n",
    "- Add Year, Month, Week and Day of Week features"
   ]
  },
  {
   "cell_type": "code",
   "execution_count": 60,
   "metadata": {
    "cell_id": "00036-47c49664-6b90-45b2-a762-f25c9f934c6a",
    "deepnote_cell_type": "code",
    "execution_millis": 136,
    "execution_start": 1608026921322,
    "output_cleared": false,
    "source_hash": "2ac94348",
    "tags": []
   },
   "outputs": [],
   "source": [
    "# invoke create_date_features\n",
    "spray = create_date_features(spray)"
   ]
  },
  {
   "cell_type": "code",
   "execution_count": 61,
   "metadata": {
    "cell_id": "00044-237a3c07-d0f4-4689-a645-a151c94a25b3",
    "deepnote_cell_type": "code",
    "execution_millis": 19,
    "execution_start": 1608026923370,
    "output_cleared": false,
    "source_hash": "2d5c09c9",
    "tags": []
   },
   "outputs": [
    {
     "data": {
      "text/html": [
       "<div>\n",
       "<style scoped>\n",
       "    .dataframe tbody tr th:only-of-type {\n",
       "        vertical-align: middle;\n",
       "    }\n",
       "\n",
       "    .dataframe tbody tr th {\n",
       "        vertical-align: top;\n",
       "    }\n",
       "\n",
       "    .dataframe thead th {\n",
       "        text-align: right;\n",
       "    }\n",
       "</style>\n",
       "<table border=\"1\" class=\"dataframe\">\n",
       "  <thead>\n",
       "    <tr style=\"text-align: right;\">\n",
       "      <th></th>\n",
       "      <th>Latitude</th>\n",
       "      <th>Longitude</th>\n",
       "      <th>Year</th>\n",
       "      <th>Month</th>\n",
       "      <th>Week</th>\n",
       "      <th>DayOfWeek</th>\n",
       "    </tr>\n",
       "  </thead>\n",
       "  <tbody>\n",
       "    <tr>\n",
       "      <th>count</th>\n",
       "      <td>14835.000000</td>\n",
       "      <td>14835.000000</td>\n",
       "      <td>14835.000000</td>\n",
       "      <td>14835.000000</td>\n",
       "      <td>14835.000000</td>\n",
       "      <td>14835.000000</td>\n",
       "    </tr>\n",
       "    <tr>\n",
       "      <th>mean</th>\n",
       "      <td>41.904828</td>\n",
       "      <td>-87.736690</td>\n",
       "      <td>2012.702191</td>\n",
       "      <td>7.948028</td>\n",
       "      <td>33.045231</td>\n",
       "      <td>2.699360</td>\n",
       "    </tr>\n",
       "    <tr>\n",
       "      <th>std</th>\n",
       "      <td>0.104381</td>\n",
       "      <td>0.067292</td>\n",
       "      <td>0.712013</td>\n",
       "      <td>0.677402</td>\n",
       "      <td>2.454612</td>\n",
       "      <td>0.517403</td>\n",
       "    </tr>\n",
       "    <tr>\n",
       "      <th>min</th>\n",
       "      <td>41.713925</td>\n",
       "      <td>-88.096468</td>\n",
       "      <td>2011.000000</td>\n",
       "      <td>7.000000</td>\n",
       "      <td>29.000000</td>\n",
       "      <td>0.000000</td>\n",
       "    </tr>\n",
       "    <tr>\n",
       "      <th>25%</th>\n",
       "      <td>41.785001</td>\n",
       "      <td>-87.794225</td>\n",
       "      <td>2013.000000</td>\n",
       "      <td>7.000000</td>\n",
       "      <td>30.000000</td>\n",
       "      <td>2.000000</td>\n",
       "    </tr>\n",
       "    <tr>\n",
       "      <th>50%</th>\n",
       "      <td>41.940075</td>\n",
       "      <td>-87.727853</td>\n",
       "      <td>2013.000000</td>\n",
       "      <td>8.000000</td>\n",
       "      <td>33.000000</td>\n",
       "      <td>3.000000</td>\n",
       "    </tr>\n",
       "    <tr>\n",
       "      <th>75%</th>\n",
       "      <td>41.980978</td>\n",
       "      <td>-87.694108</td>\n",
       "      <td>2013.000000</td>\n",
       "      <td>8.000000</td>\n",
       "      <td>35.000000</td>\n",
       "      <td>3.000000</td>\n",
       "    </tr>\n",
       "    <tr>\n",
       "      <th>max</th>\n",
       "      <td>42.395983</td>\n",
       "      <td>-87.586727</td>\n",
       "      <td>2013.000000</td>\n",
       "      <td>9.000000</td>\n",
       "      <td>36.000000</td>\n",
       "      <td>4.000000</td>\n",
       "    </tr>\n",
       "  </tbody>\n",
       "</table>\n",
       "</div>"
      ],
      "text/plain": [
       "           Latitude     Longitude          Year         Month          Week  \\\n",
       "count  14835.000000  14835.000000  14835.000000  14835.000000  14835.000000   \n",
       "mean      41.904828    -87.736690   2012.702191      7.948028     33.045231   \n",
       "std        0.104381      0.067292      0.712013      0.677402      2.454612   \n",
       "min       41.713925    -88.096468   2011.000000      7.000000     29.000000   \n",
       "25%       41.785001    -87.794225   2013.000000      7.000000     30.000000   \n",
       "50%       41.940075    -87.727853   2013.000000      8.000000     33.000000   \n",
       "75%       41.980978    -87.694108   2013.000000      8.000000     35.000000   \n",
       "max       42.395983    -87.586727   2013.000000      9.000000     36.000000   \n",
       "\n",
       "          DayOfWeek  \n",
       "count  14835.000000  \n",
       "mean       2.699360  \n",
       "std        0.517403  \n",
       "min        0.000000  \n",
       "25%        2.000000  \n",
       "50%        3.000000  \n",
       "75%        3.000000  \n",
       "max        4.000000  "
      ]
     },
     "execution_count": 61,
     "metadata": {},
     "output_type": "execute_result"
    }
   ],
   "source": [
    "spray.describe()"
   ]
  },
  {
   "cell_type": "markdown",
   "metadata": {},
   "source": [
    "### Remove duplicates "
   ]
  },
  {
   "cell_type": "code",
   "execution_count": 62,
   "metadata": {},
   "outputs": [
    {
     "name": "stdout",
     "output_type": "stream",
     "text": [
      "Percentage of duplicated rows in spray dataset: 3.66 %\n"
     ]
    }
   ],
   "source": [
    "print(f'Percentage of duplicated rows in spray dataset: {round((spray[spray.duplicated(keep=False)].shape[0])/len(spray) * 100, 2)} %')"
   ]
  },
  {
   "cell_type": "code",
   "execution_count": 63,
   "metadata": {
    "cell_id": "00047-18c23be1-a572-4c28-a8e6-df2d39e357ee",
    "deepnote_cell_type": "code",
    "execution_millis": 4,
    "execution_start": 1608026923447,
    "output_cleared": false,
    "source_hash": "14c7a917",
    "tags": []
   },
   "outputs": [
    {
     "data": {
      "text/plain": [
       "7:44:32 PM    541\n",
       "8:57:46 PM      5\n",
       "9:31:27 PM      5\n",
       "9:35:47 PM      5\n",
       "9:37:27 PM      5\n",
       "Name: Time, dtype: int64"
      ]
     },
     "execution_count": 63,
     "metadata": {},
     "output_type": "execute_result"
    }
   ],
   "source": [
    "spray.Time.value_counts().head()"
   ]
  },
  {
   "cell_type": "code",
   "execution_count": 64,
   "metadata": {
    "cell_id": "00048-007dc0f9-8308-4657-b161-23b293836f30",
    "deepnote_cell_type": "code",
    "execution_millis": 39,
    "execution_start": 1608026923455,
    "output_cleared": false,
    "source_hash": "5d61e825",
    "tags": []
   },
   "outputs": [
    {
     "data": {
      "text/html": [
       "<div>\n",
       "<style scoped>\n",
       "    .dataframe tbody tr th:only-of-type {\n",
       "        vertical-align: middle;\n",
       "    }\n",
       "\n",
       "    .dataframe tbody tr th {\n",
       "        vertical-align: top;\n",
       "    }\n",
       "\n",
       "    .dataframe thead th {\n",
       "        text-align: right;\n",
       "    }\n",
       "</style>\n",
       "<table border=\"1\" class=\"dataframe\">\n",
       "  <thead>\n",
       "    <tr style=\"text-align: right;\">\n",
       "      <th></th>\n",
       "      <th>Date</th>\n",
       "      <th>Time</th>\n",
       "      <th>Latitude</th>\n",
       "      <th>Longitude</th>\n",
       "      <th>Year</th>\n",
       "      <th>Month</th>\n",
       "      <th>Week</th>\n",
       "      <th>DayOfWeek</th>\n",
       "    </tr>\n",
       "  </thead>\n",
       "  <tbody>\n",
       "    <tr>\n",
       "      <th>489</th>\n",
       "      <td>2011-09-07</td>\n",
       "      <td>7:44:32 PM</td>\n",
       "      <td>41.98646</td>\n",
       "      <td>-87.794225</td>\n",
       "      <td>2011</td>\n",
       "      <td>9</td>\n",
       "      <td>36</td>\n",
       "      <td>2</td>\n",
       "    </tr>\n",
       "    <tr>\n",
       "      <th>490</th>\n",
       "      <td>2011-09-07</td>\n",
       "      <td>7:44:32 PM</td>\n",
       "      <td>41.98646</td>\n",
       "      <td>-87.794225</td>\n",
       "      <td>2011</td>\n",
       "      <td>9</td>\n",
       "      <td>36</td>\n",
       "      <td>2</td>\n",
       "    </tr>\n",
       "    <tr>\n",
       "      <th>491</th>\n",
       "      <td>2011-09-07</td>\n",
       "      <td>7:44:32 PM</td>\n",
       "      <td>41.98646</td>\n",
       "      <td>-87.794225</td>\n",
       "      <td>2011</td>\n",
       "      <td>9</td>\n",
       "      <td>36</td>\n",
       "      <td>2</td>\n",
       "    </tr>\n",
       "    <tr>\n",
       "      <th>492</th>\n",
       "      <td>2011-09-07</td>\n",
       "      <td>7:44:32 PM</td>\n",
       "      <td>41.98646</td>\n",
       "      <td>-87.794225</td>\n",
       "      <td>2011</td>\n",
       "      <td>9</td>\n",
       "      <td>36</td>\n",
       "      <td>2</td>\n",
       "    </tr>\n",
       "    <tr>\n",
       "      <th>493</th>\n",
       "      <td>2011-09-07</td>\n",
       "      <td>7:44:32 PM</td>\n",
       "      <td>41.98646</td>\n",
       "      <td>-87.794225</td>\n",
       "      <td>2011</td>\n",
       "      <td>9</td>\n",
       "      <td>36</td>\n",
       "      <td>2</td>\n",
       "    </tr>\n",
       "    <tr>\n",
       "      <th>...</th>\n",
       "      <td>...</td>\n",
       "      <td>...</td>\n",
       "      <td>...</td>\n",
       "      <td>...</td>\n",
       "      <td>...</td>\n",
       "      <td>...</td>\n",
       "      <td>...</td>\n",
       "      <td>...</td>\n",
       "    </tr>\n",
       "    <tr>\n",
       "      <th>1025</th>\n",
       "      <td>2011-09-07</td>\n",
       "      <td>7:44:32 PM</td>\n",
       "      <td>41.98646</td>\n",
       "      <td>-87.794225</td>\n",
       "      <td>2011</td>\n",
       "      <td>9</td>\n",
       "      <td>36</td>\n",
       "      <td>2</td>\n",
       "    </tr>\n",
       "    <tr>\n",
       "      <th>1026</th>\n",
       "      <td>2011-09-07</td>\n",
       "      <td>7:44:32 PM</td>\n",
       "      <td>41.98646</td>\n",
       "      <td>-87.794225</td>\n",
       "      <td>2011</td>\n",
       "      <td>9</td>\n",
       "      <td>36</td>\n",
       "      <td>2</td>\n",
       "    </tr>\n",
       "    <tr>\n",
       "      <th>1027</th>\n",
       "      <td>2011-09-07</td>\n",
       "      <td>7:44:32 PM</td>\n",
       "      <td>41.98646</td>\n",
       "      <td>-87.794225</td>\n",
       "      <td>2011</td>\n",
       "      <td>9</td>\n",
       "      <td>36</td>\n",
       "      <td>2</td>\n",
       "    </tr>\n",
       "    <tr>\n",
       "      <th>1028</th>\n",
       "      <td>2011-09-07</td>\n",
       "      <td>7:44:32 PM</td>\n",
       "      <td>41.98646</td>\n",
       "      <td>-87.794225</td>\n",
       "      <td>2011</td>\n",
       "      <td>9</td>\n",
       "      <td>36</td>\n",
       "      <td>2</td>\n",
       "    </tr>\n",
       "    <tr>\n",
       "      <th>1029</th>\n",
       "      <td>2011-09-07</td>\n",
       "      <td>7:44:32 PM</td>\n",
       "      <td>41.98646</td>\n",
       "      <td>-87.794225</td>\n",
       "      <td>2011</td>\n",
       "      <td>9</td>\n",
       "      <td>36</td>\n",
       "      <td>2</td>\n",
       "    </tr>\n",
       "  </tbody>\n",
       "</table>\n",
       "<p>541 rows × 8 columns</p>\n",
       "</div>"
      ],
      "text/plain": [
       "           Date        Time  Latitude  Longitude  Year  Month  Week  DayOfWeek\n",
       "489  2011-09-07  7:44:32 PM  41.98646 -87.794225  2011      9    36          2\n",
       "490  2011-09-07  7:44:32 PM  41.98646 -87.794225  2011      9    36          2\n",
       "491  2011-09-07  7:44:32 PM  41.98646 -87.794225  2011      9    36          2\n",
       "492  2011-09-07  7:44:32 PM  41.98646 -87.794225  2011      9    36          2\n",
       "493  2011-09-07  7:44:32 PM  41.98646 -87.794225  2011      9    36          2\n",
       "...         ...         ...       ...        ...   ...    ...   ...        ...\n",
       "1025 2011-09-07  7:44:32 PM  41.98646 -87.794225  2011      9    36          2\n",
       "1026 2011-09-07  7:44:32 PM  41.98646 -87.794225  2011      9    36          2\n",
       "1027 2011-09-07  7:44:32 PM  41.98646 -87.794225  2011      9    36          2\n",
       "1028 2011-09-07  7:44:32 PM  41.98646 -87.794225  2011      9    36          2\n",
       "1029 2011-09-07  7:44:32 PM  41.98646 -87.794225  2011      9    36          2\n",
       "\n",
       "[541 rows x 8 columns]"
      ]
     },
     "execution_count": 64,
     "metadata": {},
     "output_type": "execute_result"
    }
   ],
   "source": [
    "spray.loc[spray.Time == \"7:44:32 PM\"]"
   ]
  },
  {
   "cell_type": "code",
   "execution_count": 65,
   "metadata": {
    "cell_id": "00049-95da021b-fc3c-4444-9f77-f71319e17537",
    "deepnote_cell_type": "code",
    "execution_millis": 3,
    "execution_start": 1608026923511,
    "output_cleared": false,
    "source_hash": "4252f7c6",
    "tags": []
   },
   "outputs": [
    {
     "data": {
      "text/html": [
       "<div>\n",
       "<style scoped>\n",
       "    .dataframe tbody tr th:only-of-type {\n",
       "        vertical-align: middle;\n",
       "    }\n",
       "\n",
       "    .dataframe tbody tr th {\n",
       "        vertical-align: top;\n",
       "    }\n",
       "\n",
       "    .dataframe thead th {\n",
       "        text-align: right;\n",
       "    }\n",
       "</style>\n",
       "<table border=\"1\" class=\"dataframe\">\n",
       "  <thead>\n",
       "    <tr style=\"text-align: right;\">\n",
       "      <th></th>\n",
       "      <th>Date</th>\n",
       "      <th>Time</th>\n",
       "      <th>Latitude</th>\n",
       "      <th>Longitude</th>\n",
       "      <th>Year</th>\n",
       "      <th>Month</th>\n",
       "      <th>Week</th>\n",
       "      <th>DayOfWeek</th>\n",
       "    </tr>\n",
       "  </thead>\n",
       "  <tbody>\n",
       "    <tr>\n",
       "      <th>1977</th>\n",
       "      <td>2011-09-07</td>\n",
       "      <td>8:55:46 PM</td>\n",
       "      <td>41.976100</td>\n",
       "      <td>-87.816673</td>\n",
       "      <td>2011</td>\n",
       "      <td>9</td>\n",
       "      <td>36</td>\n",
       "      <td>2</td>\n",
       "    </tr>\n",
       "    <tr>\n",
       "      <th>4430</th>\n",
       "      <td>2013-07-25</td>\n",
       "      <td>8:55:46 PM</td>\n",
       "      <td>41.951602</td>\n",
       "      <td>-87.737952</td>\n",
       "      <td>2013</td>\n",
       "      <td>7</td>\n",
       "      <td>30</td>\n",
       "      <td>3</td>\n",
       "    </tr>\n",
       "    <tr>\n",
       "      <th>5671</th>\n",
       "      <td>2013-07-25</td>\n",
       "      <td>8:55:46 PM</td>\n",
       "      <td>41.963285</td>\n",
       "      <td>-87.731448</td>\n",
       "      <td>2013</td>\n",
       "      <td>7</td>\n",
       "      <td>30</td>\n",
       "      <td>3</td>\n",
       "    </tr>\n",
       "    <tr>\n",
       "      <th>8339</th>\n",
       "      <td>2013-08-15</td>\n",
       "      <td>8:55:46 PM</td>\n",
       "      <td>41.900962</td>\n",
       "      <td>-87.766902</td>\n",
       "      <td>2013</td>\n",
       "      <td>8</td>\n",
       "      <td>33</td>\n",
       "      <td>3</td>\n",
       "    </tr>\n",
       "    <tr>\n",
       "      <th>13746</th>\n",
       "      <td>2013-08-29</td>\n",
       "      <td>8:55:46 PM</td>\n",
       "      <td>41.984972</td>\n",
       "      <td>-87.682210</td>\n",
       "      <td>2013</td>\n",
       "      <td>8</td>\n",
       "      <td>35</td>\n",
       "      <td>3</td>\n",
       "    </tr>\n",
       "  </tbody>\n",
       "</table>\n",
       "</div>"
      ],
      "text/plain": [
       "            Date        Time   Latitude  Longitude  Year  Month  Week  \\\n",
       "1977  2011-09-07  8:55:46 PM  41.976100 -87.816673  2011      9    36   \n",
       "4430  2013-07-25  8:55:46 PM  41.951602 -87.737952  2013      7    30   \n",
       "5671  2013-07-25  8:55:46 PM  41.963285 -87.731448  2013      7    30   \n",
       "8339  2013-08-15  8:55:46 PM  41.900962 -87.766902  2013      8    33   \n",
       "13746 2013-08-29  8:55:46 PM  41.984972 -87.682210  2013      8    35   \n",
       "\n",
       "       DayOfWeek  \n",
       "1977           2  \n",
       "4430           3  \n",
       "5671           3  \n",
       "8339           3  \n",
       "13746          3  "
      ]
     },
     "execution_count": 65,
     "metadata": {},
     "output_type": "execute_result"
    }
   ],
   "source": [
    "spray.loc[spray.Time == \"8:55:46 PM\"]"
   ]
  },
  {
   "cell_type": "code",
   "execution_count": 66,
   "metadata": {
    "cell_id": "00050-bbda3714-06b7-41f7-aca1-9bba281bf62c",
    "deepnote_cell_type": "code",
    "execution_millis": 0,
    "execution_start": 1608026923553,
    "output_cleared": false,
    "source_hash": "cb762c2f",
    "tags": []
   },
   "outputs": [
    {
     "data": {
      "text/html": [
       "<div>\n",
       "<style scoped>\n",
       "    .dataframe tbody tr th:only-of-type {\n",
       "        vertical-align: middle;\n",
       "    }\n",
       "\n",
       "    .dataframe tbody tr th {\n",
       "        vertical-align: top;\n",
       "    }\n",
       "\n",
       "    .dataframe thead th {\n",
       "        text-align: right;\n",
       "    }\n",
       "</style>\n",
       "<table border=\"1\" class=\"dataframe\">\n",
       "  <thead>\n",
       "    <tr style=\"text-align: right;\">\n",
       "      <th></th>\n",
       "      <th>Date</th>\n",
       "      <th>Time</th>\n",
       "      <th>Latitude</th>\n",
       "      <th>Longitude</th>\n",
       "      <th>Year</th>\n",
       "      <th>Month</th>\n",
       "      <th>Week</th>\n",
       "      <th>DayOfWeek</th>\n",
       "    </tr>\n",
       "  </thead>\n",
       "  <tbody>\n",
       "    <tr>\n",
       "      <th>1989</th>\n",
       "      <td>2011-09-07</td>\n",
       "      <td>8:59:06 PM</td>\n",
       "      <td>41.975935</td>\n",
       "      <td>-87.814502</td>\n",
       "      <td>2011</td>\n",
       "      <td>9</td>\n",
       "      <td>36</td>\n",
       "      <td>2</td>\n",
       "    </tr>\n",
       "    <tr>\n",
       "      <th>4446</th>\n",
       "      <td>2013-07-25</td>\n",
       "      <td>8:59:06 PM</td>\n",
       "      <td>41.952915</td>\n",
       "      <td>-87.736862</td>\n",
       "      <td>2013</td>\n",
       "      <td>7</td>\n",
       "      <td>30</td>\n",
       "      <td>3</td>\n",
       "    </tr>\n",
       "    <tr>\n",
       "      <th>5685</th>\n",
       "      <td>2013-07-25</td>\n",
       "      <td>8:59:06 PM</td>\n",
       "      <td>41.965852</td>\n",
       "      <td>-87.729210</td>\n",
       "      <td>2013</td>\n",
       "      <td>7</td>\n",
       "      <td>30</td>\n",
       "      <td>3</td>\n",
       "    </tr>\n",
       "    <tr>\n",
       "      <th>8356</th>\n",
       "      <td>2013-08-15</td>\n",
       "      <td>8:59:06 PM</td>\n",
       "      <td>41.907507</td>\n",
       "      <td>-87.767123</td>\n",
       "      <td>2013</td>\n",
       "      <td>8</td>\n",
       "      <td>33</td>\n",
       "      <td>3</td>\n",
       "    </tr>\n",
       "    <tr>\n",
       "      <th>13765</th>\n",
       "      <td>2013-08-29</td>\n",
       "      <td>8:59:06 PM</td>\n",
       "      <td>41.984953</td>\n",
       "      <td>-87.681537</td>\n",
       "      <td>2013</td>\n",
       "      <td>8</td>\n",
       "      <td>35</td>\n",
       "      <td>3</td>\n",
       "    </tr>\n",
       "  </tbody>\n",
       "</table>\n",
       "</div>"
      ],
      "text/plain": [
       "            Date        Time   Latitude  Longitude  Year  Month  Week  \\\n",
       "1989  2011-09-07  8:59:06 PM  41.975935 -87.814502  2011      9    36   \n",
       "4446  2013-07-25  8:59:06 PM  41.952915 -87.736862  2013      7    30   \n",
       "5685  2013-07-25  8:59:06 PM  41.965852 -87.729210  2013      7    30   \n",
       "8356  2013-08-15  8:59:06 PM  41.907507 -87.767123  2013      8    33   \n",
       "13765 2013-08-29  8:59:06 PM  41.984953 -87.681537  2013      8    35   \n",
       "\n",
       "       DayOfWeek  \n",
       "1989           2  \n",
       "4446           3  \n",
       "5685           3  \n",
       "8356           3  \n",
       "13765          3  "
      ]
     },
     "execution_count": 66,
     "metadata": {},
     "output_type": "execute_result"
    }
   ],
   "source": [
    "spray.loc[spray.Time == \"8:59:06 PM\"]"
   ]
  },
  {
   "cell_type": "code",
   "execution_count": 67,
   "metadata": {
    "cell_id": "00051-bdbbb20e-bed1-4bea-aedb-736874596f6f",
    "deepnote_cell_type": "code",
    "execution_millis": 1,
    "execution_start": 1608026923554,
    "output_cleared": false,
    "source_hash": "c822fb0e",
    "tags": []
   },
   "outputs": [
    {
     "data": {
      "text/html": [
       "<div>\n",
       "<style scoped>\n",
       "    .dataframe tbody tr th:only-of-type {\n",
       "        vertical-align: middle;\n",
       "    }\n",
       "\n",
       "    .dataframe tbody tr th {\n",
       "        vertical-align: top;\n",
       "    }\n",
       "\n",
       "    .dataframe thead th {\n",
       "        text-align: right;\n",
       "    }\n",
       "</style>\n",
       "<table border=\"1\" class=\"dataframe\">\n",
       "  <thead>\n",
       "    <tr style=\"text-align: right;\">\n",
       "      <th></th>\n",
       "      <th>Date</th>\n",
       "      <th>Time</th>\n",
       "      <th>Latitude</th>\n",
       "      <th>Longitude</th>\n",
       "      <th>Year</th>\n",
       "      <th>Month</th>\n",
       "      <th>Week</th>\n",
       "      <th>DayOfWeek</th>\n",
       "    </tr>\n",
       "  </thead>\n",
       "  <tbody>\n",
       "    <tr>\n",
       "      <th>3012</th>\n",
       "      <td>2013-07-17</td>\n",
       "      <td>9:37:27 PM</td>\n",
       "      <td>41.721428</td>\n",
       "      <td>-87.646542</td>\n",
       "      <td>2013</td>\n",
       "      <td>7</td>\n",
       "      <td>29</td>\n",
       "      <td>2</td>\n",
       "    </tr>\n",
       "    <tr>\n",
       "      <th>3562</th>\n",
       "      <td>2013-07-17</td>\n",
       "      <td>9:37:27 PM</td>\n",
       "      <td>41.732493</td>\n",
       "      <td>-87.638753</td>\n",
       "      <td>2013</td>\n",
       "      <td>7</td>\n",
       "      <td>29</td>\n",
       "      <td>2</td>\n",
       "    </tr>\n",
       "    <tr>\n",
       "      <th>5844</th>\n",
       "      <td>2013-07-25</td>\n",
       "      <td>9:37:27 PM</td>\n",
       "      <td>41.959863</td>\n",
       "      <td>-87.726518</td>\n",
       "      <td>2013</td>\n",
       "      <td>7</td>\n",
       "      <td>30</td>\n",
       "      <td>3</td>\n",
       "    </tr>\n",
       "    <tr>\n",
       "      <th>6266</th>\n",
       "      <td>2013-08-08</td>\n",
       "      <td>9:37:27 PM</td>\n",
       "      <td>41.922618</td>\n",
       "      <td>-87.685417</td>\n",
       "      <td>2013</td>\n",
       "      <td>8</td>\n",
       "      <td>32</td>\n",
       "      <td>3</td>\n",
       "    </tr>\n",
       "    <tr>\n",
       "      <th>11787</th>\n",
       "      <td>2013-08-29</td>\n",
       "      <td>9:37:27 PM</td>\n",
       "      <td>41.785288</td>\n",
       "      <td>-87.700895</td>\n",
       "      <td>2013</td>\n",
       "      <td>8</td>\n",
       "      <td>35</td>\n",
       "      <td>3</td>\n",
       "    </tr>\n",
       "  </tbody>\n",
       "</table>\n",
       "</div>"
      ],
      "text/plain": [
       "            Date        Time   Latitude  Longitude  Year  Month  Week  \\\n",
       "3012  2013-07-17  9:37:27 PM  41.721428 -87.646542  2013      7    29   \n",
       "3562  2013-07-17  9:37:27 PM  41.732493 -87.638753  2013      7    29   \n",
       "5844  2013-07-25  9:37:27 PM  41.959863 -87.726518  2013      7    30   \n",
       "6266  2013-08-08  9:37:27 PM  41.922618 -87.685417  2013      8    32   \n",
       "11787 2013-08-29  9:37:27 PM  41.785288 -87.700895  2013      8    35   \n",
       "\n",
       "       DayOfWeek  \n",
       "3012           2  \n",
       "3562           2  \n",
       "5844           3  \n",
       "6266           3  \n",
       "11787          3  "
      ]
     },
     "execution_count": 67,
     "metadata": {},
     "output_type": "execute_result"
    }
   ],
   "source": [
    "spray.loc[spray.Time == \"9:37:27 PM\"]"
   ]
  },
  {
   "cell_type": "code",
   "execution_count": 68,
   "metadata": {
    "cell_id": "00052-ada351f7-7168-4f0e-9e5f-5f44695281a7",
    "deepnote_cell_type": "code",
    "execution_millis": 0,
    "execution_start": 1608026923586,
    "output_cleared": false,
    "source_hash": "6aff72fa",
    "tags": []
   },
   "outputs": [
    {
     "data": {
      "text/html": [
       "<div>\n",
       "<style scoped>\n",
       "    .dataframe tbody tr th:only-of-type {\n",
       "        vertical-align: middle;\n",
       "    }\n",
       "\n",
       "    .dataframe tbody tr th {\n",
       "        vertical-align: top;\n",
       "    }\n",
       "\n",
       "    .dataframe thead th {\n",
       "        text-align: right;\n",
       "    }\n",
       "</style>\n",
       "<table border=\"1\" class=\"dataframe\">\n",
       "  <thead>\n",
       "    <tr style=\"text-align: right;\">\n",
       "      <th></th>\n",
       "      <th>Date</th>\n",
       "      <th>Time</th>\n",
       "      <th>Latitude</th>\n",
       "      <th>Longitude</th>\n",
       "      <th>Year</th>\n",
       "      <th>Month</th>\n",
       "      <th>Week</th>\n",
       "      <th>DayOfWeek</th>\n",
       "    </tr>\n",
       "  </thead>\n",
       "  <tbody>\n",
       "    <tr>\n",
       "      <th>2993</th>\n",
       "      <td>2013-07-17</td>\n",
       "      <td>9:31:27 PM</td>\n",
       "      <td>41.729072</td>\n",
       "      <td>-87.650778</td>\n",
       "      <td>2013</td>\n",
       "      <td>7</td>\n",
       "      <td>29</td>\n",
       "      <td>2</td>\n",
       "    </tr>\n",
       "    <tr>\n",
       "      <th>3533</th>\n",
       "      <td>2013-07-17</td>\n",
       "      <td>9:31:27 PM</td>\n",
       "      <td>41.731983</td>\n",
       "      <td>-87.651698</td>\n",
       "      <td>2013</td>\n",
       "      <td>7</td>\n",
       "      <td>29</td>\n",
       "      <td>2</td>\n",
       "    </tr>\n",
       "    <tr>\n",
       "      <th>5818</th>\n",
       "      <td>2013-07-25</td>\n",
       "      <td>9:31:27 PM</td>\n",
       "      <td>41.957613</td>\n",
       "      <td>-87.724063</td>\n",
       "      <td>2013</td>\n",
       "      <td>7</td>\n",
       "      <td>30</td>\n",
       "      <td>3</td>\n",
       "    </tr>\n",
       "    <tr>\n",
       "      <th>6244</th>\n",
       "      <td>2013-08-08</td>\n",
       "      <td>9:31:27 PM</td>\n",
       "      <td>41.922953</td>\n",
       "      <td>-87.680385</td>\n",
       "      <td>2013</td>\n",
       "      <td>8</td>\n",
       "      <td>32</td>\n",
       "      <td>3</td>\n",
       "    </tr>\n",
       "    <tr>\n",
       "      <th>11756</th>\n",
       "      <td>2013-08-29</td>\n",
       "      <td>9:31:27 PM</td>\n",
       "      <td>41.783147</td>\n",
       "      <td>-87.698363</td>\n",
       "      <td>2013</td>\n",
       "      <td>8</td>\n",
       "      <td>35</td>\n",
       "      <td>3</td>\n",
       "    </tr>\n",
       "  </tbody>\n",
       "</table>\n",
       "</div>"
      ],
      "text/plain": [
       "            Date        Time   Latitude  Longitude  Year  Month  Week  \\\n",
       "2993  2013-07-17  9:31:27 PM  41.729072 -87.650778  2013      7    29   \n",
       "3533  2013-07-17  9:31:27 PM  41.731983 -87.651698  2013      7    29   \n",
       "5818  2013-07-25  9:31:27 PM  41.957613 -87.724063  2013      7    30   \n",
       "6244  2013-08-08  9:31:27 PM  41.922953 -87.680385  2013      8    32   \n",
       "11756 2013-08-29  9:31:27 PM  41.783147 -87.698363  2013      8    35   \n",
       "\n",
       "       DayOfWeek  \n",
       "2993           2  \n",
       "3533           2  \n",
       "5818           3  \n",
       "6244           3  \n",
       "11756          3  "
      ]
     },
     "execution_count": 68,
     "metadata": {},
     "output_type": "execute_result"
    }
   ],
   "source": [
    "spray.loc[spray.Time == \"9:31:27 PM\"]"
   ]
  },
  {
   "cell_type": "markdown",
   "metadata": {
    "cell_id": "00054-0fe63122-a254-4ae3-8ab1-afe4fd56b0f2",
    "deepnote_cell_type": "markdown",
    "output_cleared": false,
    "tags": []
   },
   "source": [
    "From the above, we notice that there are some duplicates within the datasets. It is unlikely that each row registers as the number of time a location was sprayed at any one time. This could be a result of data collection error. Thus, let's remove them."
   ]
  },
  {
   "cell_type": "code",
   "execution_count": 69,
   "metadata": {
    "cell_id": "00054-75dd7761-8698-408b-b27a-c6df56164432",
    "deepnote_cell_type": "code",
    "execution_millis": 0,
    "execution_start": 1608026923587,
    "output_cleared": false,
    "source_hash": "fcf45153",
    "tags": []
   },
   "outputs": [],
   "source": [
    "#dropping the duplicates\n",
    "spray.drop_duplicates(inplace=True)"
   ]
  },
  {
   "cell_type": "markdown",
   "metadata": {},
   "source": [
    "### Missing `Time` attribute"
   ]
  },
  {
   "cell_type": "code",
   "execution_count": 70,
   "metadata": {},
   "outputs": [
    {
     "name": "stdout",
     "output_type": "stream",
     "text": [
      "Percentage of missing time values in spray dataset: 4.09 %\n"
     ]
    }
   ],
   "source": [
    "print(f'Percentage of missing time values in spray dataset: {round(spray.Time.isna().sum()/len(spray) * 100, 2)} %')"
   ]
  },
  {
   "cell_type": "code",
   "execution_count": 71,
   "metadata": {
    "cell_id": "00046-302036e7-78df-4947-a339-ea9d1e1fab7a",
    "deepnote_cell_type": "code",
    "execution_millis": 2,
    "execution_start": 1608026923440,
    "output_cleared": false,
    "source_hash": "4862de50",
    "tags": []
   },
   "outputs": [
    {
     "data": {
      "text/html": [
       "<div>\n",
       "<style scoped>\n",
       "    .dataframe tbody tr th:only-of-type {\n",
       "        vertical-align: middle;\n",
       "    }\n",
       "\n",
       "    .dataframe tbody tr th {\n",
       "        vertical-align: top;\n",
       "    }\n",
       "\n",
       "    .dataframe thead th {\n",
       "        text-align: right;\n",
       "    }\n",
       "</style>\n",
       "<table border=\"1\" class=\"dataframe\">\n",
       "  <thead>\n",
       "    <tr style=\"text-align: right;\">\n",
       "      <th></th>\n",
       "      <th>Date</th>\n",
       "      <th>Time</th>\n",
       "      <th>Latitude</th>\n",
       "      <th>Longitude</th>\n",
       "      <th>Year</th>\n",
       "      <th>Month</th>\n",
       "      <th>Week</th>\n",
       "      <th>DayOfWeek</th>\n",
       "    </tr>\n",
       "  </thead>\n",
       "  <tbody>\n",
       "    <tr>\n",
       "      <th>1030</th>\n",
       "      <td>2011-09-07</td>\n",
       "      <td>NaN</td>\n",
       "      <td>41.987092</td>\n",
       "      <td>-87.794286</td>\n",
       "      <td>2011</td>\n",
       "      <td>9</td>\n",
       "      <td>36</td>\n",
       "      <td>2</td>\n",
       "    </tr>\n",
       "    <tr>\n",
       "      <th>1031</th>\n",
       "      <td>2011-09-07</td>\n",
       "      <td>NaN</td>\n",
       "      <td>41.987620</td>\n",
       "      <td>-87.794382</td>\n",
       "      <td>2011</td>\n",
       "      <td>9</td>\n",
       "      <td>36</td>\n",
       "      <td>2</td>\n",
       "    </tr>\n",
       "    <tr>\n",
       "      <th>1032</th>\n",
       "      <td>2011-09-07</td>\n",
       "      <td>NaN</td>\n",
       "      <td>41.988004</td>\n",
       "      <td>-87.794574</td>\n",
       "      <td>2011</td>\n",
       "      <td>9</td>\n",
       "      <td>36</td>\n",
       "      <td>2</td>\n",
       "    </tr>\n",
       "    <tr>\n",
       "      <th>1033</th>\n",
       "      <td>2011-09-07</td>\n",
       "      <td>NaN</td>\n",
       "      <td>41.988292</td>\n",
       "      <td>-87.795486</td>\n",
       "      <td>2011</td>\n",
       "      <td>9</td>\n",
       "      <td>36</td>\n",
       "      <td>2</td>\n",
       "    </tr>\n",
       "    <tr>\n",
       "      <th>1034</th>\n",
       "      <td>2011-09-07</td>\n",
       "      <td>NaN</td>\n",
       "      <td>41.988100</td>\n",
       "      <td>-87.796014</td>\n",
       "      <td>2011</td>\n",
       "      <td>9</td>\n",
       "      <td>36</td>\n",
       "      <td>2</td>\n",
       "    </tr>\n",
       "    <tr>\n",
       "      <th>...</th>\n",
       "      <td>...</td>\n",
       "      <td>...</td>\n",
       "      <td>...</td>\n",
       "      <td>...</td>\n",
       "      <td>...</td>\n",
       "      <td>...</td>\n",
       "      <td>...</td>\n",
       "      <td>...</td>\n",
       "    </tr>\n",
       "    <tr>\n",
       "      <th>1609</th>\n",
       "      <td>2011-09-07</td>\n",
       "      <td>NaN</td>\n",
       "      <td>41.995876</td>\n",
       "      <td>-87.811615</td>\n",
       "      <td>2011</td>\n",
       "      <td>9</td>\n",
       "      <td>36</td>\n",
       "      <td>2</td>\n",
       "    </tr>\n",
       "    <tr>\n",
       "      <th>1610</th>\n",
       "      <td>2011-09-07</td>\n",
       "      <td>NaN</td>\n",
       "      <td>41.995972</td>\n",
       "      <td>-87.810271</td>\n",
       "      <td>2011</td>\n",
       "      <td>9</td>\n",
       "      <td>36</td>\n",
       "      <td>2</td>\n",
       "    </tr>\n",
       "    <tr>\n",
       "      <th>1611</th>\n",
       "      <td>2011-09-07</td>\n",
       "      <td>NaN</td>\n",
       "      <td>41.995684</td>\n",
       "      <td>-87.810319</td>\n",
       "      <td>2011</td>\n",
       "      <td>9</td>\n",
       "      <td>36</td>\n",
       "      <td>2</td>\n",
       "    </tr>\n",
       "    <tr>\n",
       "      <th>1612</th>\n",
       "      <td>2011-09-07</td>\n",
       "      <td>NaN</td>\n",
       "      <td>41.994724</td>\n",
       "      <td>-87.810415</td>\n",
       "      <td>2011</td>\n",
       "      <td>9</td>\n",
       "      <td>36</td>\n",
       "      <td>2</td>\n",
       "    </tr>\n",
       "    <tr>\n",
       "      <th>1613</th>\n",
       "      <td>2011-09-07</td>\n",
       "      <td>NaN</td>\n",
       "      <td>41.993092</td>\n",
       "      <td>-87.810415</td>\n",
       "      <td>2011</td>\n",
       "      <td>9</td>\n",
       "      <td>36</td>\n",
       "      <td>2</td>\n",
       "    </tr>\n",
       "  </tbody>\n",
       "</table>\n",
       "<p>584 rows × 8 columns</p>\n",
       "</div>"
      ],
      "text/plain": [
       "           Date Time   Latitude  Longitude  Year  Month  Week  DayOfWeek\n",
       "1030 2011-09-07  NaN  41.987092 -87.794286  2011      9    36          2\n",
       "1031 2011-09-07  NaN  41.987620 -87.794382  2011      9    36          2\n",
       "1032 2011-09-07  NaN  41.988004 -87.794574  2011      9    36          2\n",
       "1033 2011-09-07  NaN  41.988292 -87.795486  2011      9    36          2\n",
       "1034 2011-09-07  NaN  41.988100 -87.796014  2011      9    36          2\n",
       "...         ...  ...        ...        ...   ...    ...   ...        ...\n",
       "1609 2011-09-07  NaN  41.995876 -87.811615  2011      9    36          2\n",
       "1610 2011-09-07  NaN  41.995972 -87.810271  2011      9    36          2\n",
       "1611 2011-09-07  NaN  41.995684 -87.810319  2011      9    36          2\n",
       "1612 2011-09-07  NaN  41.994724 -87.810415  2011      9    36          2\n",
       "1613 2011-09-07  NaN  41.993092 -87.810415  2011      9    36          2\n",
       "\n",
       "[584 rows x 8 columns]"
      ]
     },
     "execution_count": 71,
     "metadata": {},
     "output_type": "execute_result"
    }
   ],
   "source": [
    "spray.loc[spray.Time.isnull()]"
   ]
  },
  {
   "cell_type": "markdown",
   "metadata": {
    "cell_id": "00055-a2d05a33-29f3-4877-b297-a43442f9f598",
    "deepnote_cell_type": "markdown",
    "output_cleared": false,
    "tags": []
   },
   "source": [
    "Spraying time data is probably overly fine-tuned for our needs, we could not find a pattern to impute the null values, so we decided to drop the feature."
   ]
  },
  {
   "cell_type": "code",
   "execution_count": 72,
   "metadata": {
    "cell_id": "00056-a2e4c172-fe2b-423d-b134-42d9f3aa688c",
    "deepnote_cell_type": "code",
    "execution_millis": 1,
    "execution_start": 1608026923633,
    "output_cleared": false,
    "source_hash": "fdbdaf80",
    "tags": []
   },
   "outputs": [],
   "source": [
    "spray.drop(columns='Time',inplace=True)"
   ]
  },
  {
   "cell_type": "code",
   "execution_count": 73,
   "metadata": {},
   "outputs": [],
   "source": [
    "spray.to_csv('./datasets/cleaned_spray.csv', index=False)"
   ]
  },
  {
   "cell_type": "code",
   "execution_count": 74,
   "metadata": {
    "cell_id": "00057-f7a3c730-9158-403a-8234-2f7918e35c5a",
    "deepnote_cell_type": "code",
    "execution_millis": 132,
    "execution_start": 1608026923634,
    "output_cleared": false,
    "source_hash": "f92ceb",
    "tags": []
   },
   "outputs": [
    {
     "data": {
      "text/plain": [
       "<Figure size 1000x1000 with 0 Axes>"
      ]
     },
     "metadata": {},
     "output_type": "display_data"
    },
    {
     "data": {
      "image/png": "[encoded data removed]",
      "text/plain": [
       "<Figure size 500x500 with 1 Axes>"
      ]
     },
     "metadata": {},
     "output_type": "display_data"
    }
   ],
   "source": [
    "plt.figure(figsize=(10,10))\n",
    "sns.displot(spray.Date.value_counts(), bins=10)\n",
    "plt.xlabel('Date')\n",
    "plt.ylabel('Frequency')\n",
    "plt.xticks(rotation=90)\n",
    "plt.show();"
   ]
  },
  {
   "cell_type": "markdown",
   "metadata": {},
   "source": [
    "## Summary & Next Step: \n",
    "Getting sufficient information into the data is important to understand and approach this tack.\n",
    "\n",
    "With the given 4 datasets, we have carried out initial analysis on each of them and produced the summary and list of cleaning works to be done.\n",
    "These include \n",
    "- dropping duplicate rows, \n",
    "- imputing missing and zero values, \n",
    "- splitting strings and replace with correct format, \n",
    "- change to right data types,\n",
    "- dropping columns with high missing values\n",
    "- create more interpretable features\n"
   ]
  }
 ],
 "metadata": {
  "deepnote_execution_queue": [],
  "deepnote_notebook_id": "1fcdb154-17df-4939-afc1-dc4b0cf5aa95",
  "kernelspec": {
   "display_name": "Python 3 (ipykernel)",
   "language": "python",
   "name": "python3"
  },
  "language_info": {
   "codemirror_mode": {
    "name": "ipython",
    "version": 3
   },
   "file_extension": ".py",
   "mimetype": "text/x-python",
   "name": "python",
   "nbconvert_exporter": "python",
   "pygments_lexer": "ipython3",
   "version": "3.9.12"
  }
 },
 "nbformat": 4,
 "nbformat_minor": 4
}
