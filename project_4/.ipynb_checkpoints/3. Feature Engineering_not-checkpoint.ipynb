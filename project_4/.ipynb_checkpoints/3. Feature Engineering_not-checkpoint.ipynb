{
 "cells": [
  {
   "cell_type": "markdown",
   "metadata": {
    "cell_id": "00000-6984d6d4-91a0-44b2-b048-48ab8a8cd84b",
    "deepnote_cell_type": "markdown",
    "tags": []
   },
   "source": [
    "# Project 4: West Nile Virus Prediction"
   ]
  },
  {
   "cell_type": "markdown",
   "metadata": {},
   "source": [
    "Notebook 3 of 4"
   ]
  },
  {
   "cell_type": "markdown",
   "metadata": {
    "cell_id": "00000-d90f31cb-5d39-4236-8284-83c69c13f352",
    "deepnote_cell_type": "markdown",
    "output_cleared": false,
    "tags": []
   },
   "source": [
    "# Feature Engineering"
   ]
  },
  {
   "cell_type": "code",
   "execution_count": 1,
   "metadata": {
    "cell_id": "00000-309173dd-5d4e-4343-8435-f85d344d44d9",
    "deepnote_cell_type": "code",
    "execution_millis": 599,
    "execution_start": 1607930998882,
    "output_cleared": false,
    "source_hash": "6d4aaf83",
    "tags": []
   },
   "outputs": [],
   "source": [
    "# Import libraries\n",
    "import pandas as pd\n",
    "import numpy as np\n",
    "import matplotlib.pyplot as plt\n",
    "import seaborn as sns\n",
    "import math\n",
    "\n",
    "from sklearn.preprocessing import PolynomialFeatures\n",
    "from sklearn.preprocessing import StandardScaler\n",
    "pd.set_option('display.max_rows', 200)"
   ]
  },
  {
   "cell_type": "code",
   "execution_count": 2,
   "metadata": {
    "cell_id": "00002-50af7143-6a81-4308-b649-61433bdac4f7",
    "deepnote_cell_type": "code"
   },
   "outputs": [],
   "source": [
    "# Import datasets\n",
    "train = pd.read_csv('./datasets/cleaned_train.csv')\n",
    "test = pd.read_csv('./datasets/cleaned_test.csv')\n",
    "spray = pd.read_csv('./datasets/cleaned_spray.csv')\n",
    "weather = pd.read_csv('./datasets/cleaned_weather.csv')"
   ]
  },
  {
   "cell_type": "markdown",
   "metadata": {
    "cell_id": "00003-ee0f1f07-d61d-4a67-a559-c0ea1fe5e486",
    "deepnote_cell_type": "markdown"
   },
   "source": [
    "We've observed that our features generally have a pretty low correlation to `WnvPresent`, the strongest feature is `NumMosquitos` with a correlation of 0.2. [CDC](https://www.cdc.gov/westnile/resourcepages/mosqSurvSoft.html#:~:text=The%20simplest%20estimate%2C%20the%20minimum,goals%20of%20the%20surveillance%20program) defined the simplest and traditional estimate <b>Minimum Infection Rate (MIR)</b> which assumed that a positive pool contains only one infected mosquito (an assumption that may be invalid):\n",
    "\n",
    "$$ \\text{MIR} = 1000 * {\\text{number of positive pools} \\over \\text{total number of mosquitos in pools tested}} $$\n",
    "\n",
    "CDC has developed easy-to-use programs for calculating virus infection rate (IR) estimates from mosquito pool data using methods that do not require the assumption used in the MIR calculation.\n",
    "\n",
    "$$ \\text{IR} = {\\text{number of infected mosquitos} \\over 1000} $$\n",
    "\n",
    "CDC encourages to incorporate virus infection rate (IR) into their mosquito-based evaluation of local virus activity patterns. At the county level or below, weekly tracking of mosquito IR can provide important predictive indicators of transmission activity levels associated with elevated human risk.\n",
    "\n",
    "Unfortunately, our test data doesn't have the information we need to make this a usable feature. We discussed estimating the number of mosquitos based on total rows in the test set, but we ultimately decided that this was a slightly [<i>'hackish'</i> solution](https://www.kaggle.com/c/predict-west-nile-virus/discussion/14790). We'll drop NumMosquitos moving forward."
   ]
  },
  {
   "cell_type": "code",
   "execution_count": 3,
   "metadata": {
    "cell_id": "00004-43c6c842-bff4-4ed5-a36f-876b721c6806",
    "deepnote_cell_type": "code"
   },
   "outputs": [],
   "source": [
    "# Dropping NumMosquitos as it isn't present within test data\n",
    "train = train.drop(columns='NumMosquitos')"
   ]
  },
  {
   "cell_type": "markdown",
   "metadata": {
    "cell_id": "00005-df400112-3f43-4a2f-b7c2-805541e86c7e",
    "deepnote_cell_type": "markdown"
   },
   "source": [
    "Our remaining features can be categorised as a mixture of \n",
    "1. time, \n",
    "2. weather (e.g. Temperature, Precipitation), \n",
    "3. location variables. \n",
    "\n",
    "Each of these variables has a low correlation of absolute 0.1 or less to our target. While we certainly could just go ahead with these features and jump straight into predictive modelling, a much better approach in the form of feature engineering is available. Without engineering, our models consistenly scored an AUC-ROC of approximately 0.5.\n",
    "\n",
    "In this section, we'll look to <b>decompose and split our features</b>, as well as carry out <b>data enrichment</b> in the form of historical temperature records from the [National Weather Service](weather.gov). We'll also carry out a bit of polynomial feature engineering, to try and create features with a higher correlation to our target. "
   ]
  },
  {
   "cell_type": "markdown",
   "metadata": {
    "cell_id": "00006-d04f7610-4de5-4e17-9cf9-01d4662d9b89",
    "deepnote_cell_type": "markdown"
   },
   "source": [
    "### Preparation for Engineering"
   ]
  },
  {
   "cell_type": "code",
   "execution_count": 4,
   "metadata": {
    "cell_id": "00007-e7954263-c99a-4fb8-bf7b-854fd91d6432",
    "deepnote_cell_type": "code"
   },
   "outputs": [],
   "source": [
    "# Convert to datetime object\n",
    "weather['Date'] = pd.to_datetime(weather['Date'])\n",
    "train['Date'] = pd.to_datetime(train['Date'])"
   ]
  },
  {
   "cell_type": "code",
   "execution_count": 5,
   "metadata": {
    "cell_id": "00008-f9200b0f-7ed8-407b-afba-ba50f34dd013",
    "deepnote_cell_type": "code"
   },
   "outputs": [],
   "source": [
    "# This gives me a more precise means of accessing certain weeks in a specific year\n",
    "def year_week(row):\n",
    "    week = row['Week']\n",
    "    year = row['Year']\n",
    "    row['YearWeek'] = f'{year}{week}'\n",
    "    row['YearWeek'] = int(row['YearWeek'])\n",
    "    return row"
   ]
  },
  {
   "cell_type": "code",
   "execution_count": 6,
   "metadata": {
    "cell_id": "00009-a3101429-70da-4237-a27a-750c9c171351",
    "deepnote_cell_type": "code"
   },
   "outputs": [],
   "source": [
    "train = train.apply(year_week, axis=1)\n",
    "weather = weather.apply(year_week, axis=1)"
   ]
  },
  {
   "cell_type": "code",
   "execution_count": 7,
   "metadata": {},
   "outputs": [
    {
     "data": {
      "text/html": [
       "<div>\n",
       "<style scoped>\n",
       "    .dataframe tbody tr th:only-of-type {\n",
       "        vertical-align: middle;\n",
       "    }\n",
       "\n",
       "    .dataframe tbody tr th {\n",
       "        vertical-align: top;\n",
       "    }\n",
       "\n",
       "    .dataframe thead th {\n",
       "        text-align: right;\n",
       "    }\n",
       "</style>\n",
       "<table border=\"1\" class=\"dataframe\">\n",
       "  <thead>\n",
       "    <tr style=\"text-align: right;\">\n",
       "      <th></th>\n",
       "      <th>Date</th>\n",
       "      <th>Address</th>\n",
       "      <th>Species</th>\n",
       "      <th>Block</th>\n",
       "      <th>Street</th>\n",
       "      <th>Trap</th>\n",
       "      <th>AddressNumberAndStreet</th>\n",
       "      <th>Latitude</th>\n",
       "      <th>Longitude</th>\n",
       "      <th>AddressAccuracy</th>\n",
       "      <th>WnvPresent</th>\n",
       "      <th>Year</th>\n",
       "      <th>Month</th>\n",
       "      <th>Week</th>\n",
       "      <th>DayOfWeek</th>\n",
       "      <th>LatLong</th>\n",
       "      <th>Coordinate</th>\n",
       "      <th>Nearest_station</th>\n",
       "      <th>YearWeek</th>\n",
       "    </tr>\n",
       "  </thead>\n",
       "  <tbody>\n",
       "    <tr>\n",
       "      <th>0</th>\n",
       "      <td>2007-05-29</td>\n",
       "      <td>4100 North Oak Park Avenue, Chicago, IL 60634,...</td>\n",
       "      <td>CULEX PIPIENS/RESTUANS</td>\n",
       "      <td>41</td>\n",
       "      <td>N OAK PARK AVE</td>\n",
       "      <td>T002</td>\n",
       "      <td>4100  N OAK PARK AVE, Chicago, IL</td>\n",
       "      <td>41.954690</td>\n",
       "      <td>-87.800991</td>\n",
       "      <td>9</td>\n",
       "      <td>0</td>\n",
       "      <td>2007</td>\n",
       "      <td>5</td>\n",
       "      <td>22</td>\n",
       "      <td>1</td>\n",
       "      <td>(41.95469, -87.800991)</td>\n",
       "      <td>POINT (41.95469 -87.800991)</td>\n",
       "      <td>1</td>\n",
       "      <td>200722</td>\n",
       "    </tr>\n",
       "    <tr>\n",
       "      <th>1</th>\n",
       "      <td>2007-05-29</td>\n",
       "      <td>4100 North Oak Park Avenue, Chicago, IL 60634,...</td>\n",
       "      <td>CULEX RESTUANS</td>\n",
       "      <td>41</td>\n",
       "      <td>N OAK PARK AVE</td>\n",
       "      <td>T002</td>\n",
       "      <td>4100  N OAK PARK AVE, Chicago, IL</td>\n",
       "      <td>41.954690</td>\n",
       "      <td>-87.800991</td>\n",
       "      <td>9</td>\n",
       "      <td>0</td>\n",
       "      <td>2007</td>\n",
       "      <td>5</td>\n",
       "      <td>22</td>\n",
       "      <td>1</td>\n",
       "      <td>(41.95469, -87.800991)</td>\n",
       "      <td>POINT (41.95469 -87.800991)</td>\n",
       "      <td>1</td>\n",
       "      <td>200722</td>\n",
       "    </tr>\n",
       "    <tr>\n",
       "      <th>2</th>\n",
       "      <td>2007-05-29</td>\n",
       "      <td>6200 North Mandell Avenue, Chicago, IL 60646, USA</td>\n",
       "      <td>CULEX RESTUANS</td>\n",
       "      <td>62</td>\n",
       "      <td>N MANDELL AVE</td>\n",
       "      <td>T007</td>\n",
       "      <td>6200  N MANDELL AVE, Chicago, IL</td>\n",
       "      <td>41.994991</td>\n",
       "      <td>-87.769279</td>\n",
       "      <td>9</td>\n",
       "      <td>0</td>\n",
       "      <td>2007</td>\n",
       "      <td>5</td>\n",
       "      <td>22</td>\n",
       "      <td>1</td>\n",
       "      <td>(41.994991, -87.769279)</td>\n",
       "      <td>POINT (41.994991 -87.769279)</td>\n",
       "      <td>1</td>\n",
       "      <td>200722</td>\n",
       "    </tr>\n",
       "    <tr>\n",
       "      <th>3</th>\n",
       "      <td>2007-05-29</td>\n",
       "      <td>7900 West Foster Avenue, Chicago, IL 60656, USA</td>\n",
       "      <td>CULEX PIPIENS/RESTUANS</td>\n",
       "      <td>79</td>\n",
       "      <td>W FOSTER AVE</td>\n",
       "      <td>T015</td>\n",
       "      <td>7900  W FOSTER AVE, Chicago, IL</td>\n",
       "      <td>41.974089</td>\n",
       "      <td>-87.824812</td>\n",
       "      <td>8</td>\n",
       "      <td>0</td>\n",
       "      <td>2007</td>\n",
       "      <td>5</td>\n",
       "      <td>22</td>\n",
       "      <td>1</td>\n",
       "      <td>(41.974089, -87.824812)</td>\n",
       "      <td>POINT (41.974089 -87.824812)</td>\n",
       "      <td>1</td>\n",
       "      <td>200722</td>\n",
       "    </tr>\n",
       "    <tr>\n",
       "      <th>4</th>\n",
       "      <td>2007-05-29</td>\n",
       "      <td>7900 West Foster Avenue, Chicago, IL 60656, USA</td>\n",
       "      <td>CULEX RESTUANS</td>\n",
       "      <td>79</td>\n",
       "      <td>W FOSTER AVE</td>\n",
       "      <td>T015</td>\n",
       "      <td>7900  W FOSTER AVE, Chicago, IL</td>\n",
       "      <td>41.974089</td>\n",
       "      <td>-87.824812</td>\n",
       "      <td>8</td>\n",
       "      <td>0</td>\n",
       "      <td>2007</td>\n",
       "      <td>5</td>\n",
       "      <td>22</td>\n",
       "      <td>1</td>\n",
       "      <td>(41.974089, -87.824812)</td>\n",
       "      <td>POINT (41.974089 -87.824812)</td>\n",
       "      <td>1</td>\n",
       "      <td>200722</td>\n",
       "    </tr>\n",
       "  </tbody>\n",
       "</table>\n",
       "</div>"
      ],
      "text/plain": [
       "        Date                                            Address  \\\n",
       "0 2007-05-29  4100 North Oak Park Avenue, Chicago, IL 60634,...   \n",
       "1 2007-05-29  4100 North Oak Park Avenue, Chicago, IL 60634,...   \n",
       "2 2007-05-29  6200 North Mandell Avenue, Chicago, IL 60646, USA   \n",
       "3 2007-05-29    7900 West Foster Avenue, Chicago, IL 60656, USA   \n",
       "4 2007-05-29    7900 West Foster Avenue, Chicago, IL 60656, USA   \n",
       "\n",
       "                  Species  Block           Street  Trap  \\\n",
       "0  CULEX PIPIENS/RESTUANS     41   N OAK PARK AVE  T002   \n",
       "1          CULEX RESTUANS     41   N OAK PARK AVE  T002   \n",
       "2          CULEX RESTUANS     62    N MANDELL AVE  T007   \n",
       "3  CULEX PIPIENS/RESTUANS     79     W FOSTER AVE  T015   \n",
       "4          CULEX RESTUANS     79     W FOSTER AVE  T015   \n",
       "\n",
       "              AddressNumberAndStreet   Latitude  Longitude  AddressAccuracy  \\\n",
       "0  4100  N OAK PARK AVE, Chicago, IL  41.954690 -87.800991                9   \n",
       "1  4100  N OAK PARK AVE, Chicago, IL  41.954690 -87.800991                9   \n",
       "2   6200  N MANDELL AVE, Chicago, IL  41.994991 -87.769279                9   \n",
       "3    7900  W FOSTER AVE, Chicago, IL  41.974089 -87.824812                8   \n",
       "4    7900  W FOSTER AVE, Chicago, IL  41.974089 -87.824812                8   \n",
       "\n",
       "   WnvPresent  Year  Month  Week  DayOfWeek                  LatLong  \\\n",
       "0           0  2007      5    22          1   (41.95469, -87.800991)   \n",
       "1           0  2007      5    22          1   (41.95469, -87.800991)   \n",
       "2           0  2007      5    22          1  (41.994991, -87.769279)   \n",
       "3           0  2007      5    22          1  (41.974089, -87.824812)   \n",
       "4           0  2007      5    22          1  (41.974089, -87.824812)   \n",
       "\n",
       "                     Coordinate  Nearest_station  YearWeek  \n",
       "0   POINT (41.95469 -87.800991)                1    200722  \n",
       "1   POINT (41.95469 -87.800991)                1    200722  \n",
       "2  POINT (41.994991 -87.769279)                1    200722  \n",
       "3  POINT (41.974089 -87.824812)                1    200722  \n",
       "4  POINT (41.974089 -87.824812)                1    200722  "
      ]
     },
     "execution_count": 7,
     "metadata": {},
     "output_type": "execute_result"
    }
   ],
   "source": [
    "train.head(3)"
   ]
  },
  {
   "cell_type": "markdown",
   "metadata": {
    "cell_id": "00004-02fc1a88-6e24-4770-bc39-d90e22579cf2",
    "deepnote_cell_type": "markdown",
    "deletable": false,
    "editable": false,
    "output_cleared": false,
    "run_control": {
     "frozen": true
    },
    "tags": []
   },
   "source": [
    "## Relative Humidity"
   ]
  },
  {
   "cell_type": "markdown",
   "metadata": {
    "cell_id": "00005-c0dd75f2-427d-4fdd-8ba3-d1ec2e21faa5",
    "deepnote_cell_type": "markdown",
    "output_cleared": false,
    "tags": []
   },
   "source": [
    "## Feature 1: Relative Humidity"
   ]
  },
  {
   "cell_type": "markdown",
   "metadata": {
    "cell_id": "00011-0d6d10dd-2bfa-4cde-b586-8110151785cb",
    "deepnote_cell_type": "markdown"
   },
   "source": [
    "High humidity is thought to be a strong factor in the spread of the West Nile Virus -- it's been [reported](https://www.mdpi.com/1660-4601/17/4/1403/pdf#:~:text=caspius.,%25%20%5B19%2C23%5D.) that <b>high humidity increases egg production, larval indices, mosquito activity and influences their activities</b>. Other studies have shown that a suitable range of humidity stimulating mosquito flight activity is between 44% and 69%, with 65% as a focal percentage. \n",
    "\n",
    "The climate of Chicago is classified as hot-summer humid continental (Köppen climate classification: Dfa), which means that humidity is worth looking into. To calculate relative humidity, we'll first look to convert some of our temperature readings into degrees celcius."
   ]
  },
  {
   "cell_type": "markdown",
   "metadata": {
    "cell_id": "00005-c0dd75f2-427d-4fdd-8ba3-d1ec2e21faa5",
    "deepnote_cell_type": "markdown",
    "output_cleared": false,
    "tags": []
   },
   "source": [
    "### Calculate Celcius"
   ]
  },
  {
   "cell_type": "code",
   "execution_count": 8,
   "metadata": {
    "cell_id": "00006-f431d14a-d8f4-4173-89f0-57351f0502b5",
    "deepnote_cell_type": "code",
    "execution_millis": 1,
    "execution_start": 1607930999696,
    "output_cleared": false,
    "source_hash": "1370b410",
    "tags": []
   },
   "outputs": [],
   "source": [
    "# To calculate Relative Humidity, we need to change our features from Fahrenheit to Celcius\n",
    "def celsius(x):\n",
    "    c = ((x - 32) * 5.0)/9.0\n",
    "    return float(c)"
   ]
  },
  {
   "cell_type": "code",
   "execution_count": 9,
   "metadata": {
    "cell_id": "00007-578de473-f68f-4759-83b2-0bde305bda15",
    "deepnote_cell_type": "code",
    "execution_millis": 5,
    "execution_start": 1607930999704,
    "output_cleared": false,
    "source_hash": "a9032f4d",
    "tags": []
   },
   "outputs": [],
   "source": [
    "weather['TavgC'] = weather['Tavg'].apply(celsius)\n",
    "weather['TminC'] = weather['Tmin'].apply(celsius)\n",
    "weather['TmaxC'] = weather['Tmax'].apply(celsius)\n",
    "weather['DewPointC'] = weather['DewPoint'].apply(celsius)"
   ]
  },
  {
   "cell_type": "code",
   "execution_count": 10,
   "metadata": {
    "cell_id": "00002-a019178c-f1d4-4151-a88c-213ac675c5dc",
    "deepnote_cell_type": "code",
    "execution_millis": 0,
    "execution_start": 1607930999717,
    "output_cleared": false,
    "source_hash": "aea0748b",
    "tags": []
   },
   "outputs": [],
   "source": [
    "def r_humid(row):\n",
    "    row['r_humid'] = round(100*(math.exp((17.625*row['DewPointC'])/(243.04+row['DewPointC'])) \\\n",
    "                          / math.exp((17.625*row['TavgC'])/(243.04+row['TavgC']))))\n",
    "    return row"
   ]
  },
  {
   "cell_type": "markdown",
   "metadata": {
    "cell_id": "00005-4a2043c5-be6f-4684-bc1f-aa687b1fe3e8",
    "deepnote_cell_type": "markdown",
    "output_cleared": false,
    "tags": []
   },
   "source": [
    "Formula for [Relative Humidity](https://bmcnoldy.rsmas.miami.edu/Humidity.html):\n",
    "\n",
    "$$ \\large RH = 100 {exp({aT_{d} \\over {b + T_{d}}}) \\over exp({aT \\over b + T})}$$\n",
    "\n",
    "where: <br>\n",
    "$ \\small a = \\text{17.625} $ <br>\n",
    "$ \\small b = 243.04 $ <br>\n",
    "$ \\small T = \\text{Average Temperature (Celsius)} $ <br>\n",
    "$ \\small T_{d} = \\text{Dewpoint Temperature (Celsius)} $ <br>\n",
    "$ \\small RH = \\text{Relative Humidity} $ (%)<br>"
   ]
  },
  {
   "cell_type": "code",
   "execution_count": 11,
   "metadata": {
    "cell_id": "00007-57469685-8ffa-4d32-8f28-1d01c6a68562",
    "deepnote_cell_type": "code",
    "execution_millis": 1254,
    "execution_start": 1607930999719,
    "output_cleared": false,
    "source_hash": "d8e64660",
    "tags": []
   },
   "outputs": [],
   "source": [
    "weather = weather.apply(r_humid, axis=1)"
   ]
  },
  {
   "cell_type": "code",
   "execution_count": 12,
   "metadata": {
    "cell_id": "00011-3f200452-9453-4849-9768-d74618ecf0cd",
    "deepnote_cell_type": "code",
    "execution_millis": 0,
    "execution_start": 1607931000977,
    "output_cleared": false,
    "source_hash": "c181b14f",
    "tags": []
   },
   "outputs": [],
   "source": [
    "# Dropping as Celcius features are no longer needed\n",
    "weather = weather.drop(columns=['TavgC', 'TminC', 'TmaxC', 'DewPointC'])"
   ]
  },
  {
   "cell_type": "code",
   "execution_count": 13,
   "metadata": {
    "cell_id": "00007-a39c6e6b-7ce0-463b-b1b0-ed0b5867c8f5",
    "deepnote_cell_type": "code",
    "execution_millis": 66,
    "execution_start": 1607931000980,
    "output_cleared": false,
    "source_hash": "b710a052",
    "tags": []
   },
   "outputs": [
    {
     "data": {
      "text/html": [
       "<div>\n",
       "<style scoped>\n",
       "    .dataframe tbody tr th:only-of-type {\n",
       "        vertical-align: middle;\n",
       "    }\n",
       "\n",
       "    .dataframe tbody tr th {\n",
       "        vertical-align: top;\n",
       "    }\n",
       "\n",
       "    .dataframe thead th {\n",
       "        text-align: right;\n",
       "    }\n",
       "</style>\n",
       "<table border=\"1\" class=\"dataframe\">\n",
       "  <thead>\n",
       "    <tr style=\"text-align: right;\">\n",
       "      <th></th>\n",
       "      <th>Date</th>\n",
       "      <th>AvgSpeed</th>\n",
       "      <th>Cool</th>\n",
       "      <th>Depart</th>\n",
       "      <th>DewPoint</th>\n",
       "      <th>Heat</th>\n",
       "      <th>PrecipTotal</th>\n",
       "      <th>ResultDir</th>\n",
       "      <th>ResultSpeed</th>\n",
       "      <th>SeaLevel</th>\n",
       "      <th>...</th>\n",
       "      <th>WetBulb</th>\n",
       "      <th>lowvis</th>\n",
       "      <th>n_codesum</th>\n",
       "      <th>rain</th>\n",
       "      <th>Year</th>\n",
       "      <th>Month</th>\n",
       "      <th>Week</th>\n",
       "      <th>DayOfWeek</th>\n",
       "      <th>YearWeek</th>\n",
       "      <th>r_humid</th>\n",
       "    </tr>\n",
       "  </thead>\n",
       "  <tbody>\n",
       "    <tr>\n",
       "      <th>1287</th>\n",
       "      <td>2013-10-31</td>\n",
       "      <td>11.45</td>\n",
       "      <td>0.0</td>\n",
       "      <td>9.5</td>\n",
       "      <td>56.0</td>\n",
       "      <td>9.5</td>\n",
       "      <td>1.535</td>\n",
       "      <td>23.5</td>\n",
       "      <td>9.45</td>\n",
       "      <td>29.460</td>\n",
       "      <td>...</td>\n",
       "      <td>57.0</td>\n",
       "      <td>1.0</td>\n",
       "      <td>2.0</td>\n",
       "      <td>1.0</td>\n",
       "      <td>2013</td>\n",
       "      <td>10</td>\n",
       "      <td>44</td>\n",
       "      <td>3</td>\n",
       "      <td>201344</td>\n",
       "      <td>102</td>\n",
       "    </tr>\n",
       "    <tr>\n",
       "      <th>1454</th>\n",
       "      <td>2014-10-14</td>\n",
       "      <td>9.40</td>\n",
       "      <td>0.0</td>\n",
       "      <td>7.0</td>\n",
       "      <td>58.0</td>\n",
       "      <td>5.0</td>\n",
       "      <td>0.915</td>\n",
       "      <td>11.0</td>\n",
       "      <td>2.65</td>\n",
       "      <td>29.545</td>\n",
       "      <td>...</td>\n",
       "      <td>59.0</td>\n",
       "      <td>1.0</td>\n",
       "      <td>3.0</td>\n",
       "      <td>1.0</td>\n",
       "      <td>2014</td>\n",
       "      <td>10</td>\n",
       "      <td>42</td>\n",
       "      <td>1</td>\n",
       "      <td>201442</td>\n",
       "      <td>93</td>\n",
       "    </tr>\n",
       "    <tr>\n",
       "      <th>319</th>\n",
       "      <td>2008-09-13</td>\n",
       "      <td>9.40</td>\n",
       "      <td>7.5</td>\n",
       "      <td>7.5</td>\n",
       "      <td>70.0</td>\n",
       "      <td>0.0</td>\n",
       "      <td>4.855</td>\n",
       "      <td>21.5</td>\n",
       "      <td>6.80</td>\n",
       "      <td>29.705</td>\n",
       "      <td>...</td>\n",
       "      <td>71.0</td>\n",
       "      <td>1.0</td>\n",
       "      <td>2.0</td>\n",
       "      <td>1.0</td>\n",
       "      <td>2008</td>\n",
       "      <td>9</td>\n",
       "      <td>37</td>\n",
       "      <td>5</td>\n",
       "      <td>200837</td>\n",
       "      <td>92</td>\n",
       "    </tr>\n",
       "    <tr>\n",
       "      <th>1286</th>\n",
       "      <td>2013-10-30</td>\n",
       "      <td>6.85</td>\n",
       "      <td>0.0</td>\n",
       "      <td>8.5</td>\n",
       "      <td>52.0</td>\n",
       "      <td>10.5</td>\n",
       "      <td>0.855</td>\n",
       "      <td>14.5</td>\n",
       "      <td>5.95</td>\n",
       "      <td>30.005</td>\n",
       "      <td>...</td>\n",
       "      <td>53.0</td>\n",
       "      <td>1.0</td>\n",
       "      <td>3.0</td>\n",
       "      <td>1.0</td>\n",
       "      <td>2013</td>\n",
       "      <td>10</td>\n",
       "      <td>44</td>\n",
       "      <td>2</td>\n",
       "      <td>201344</td>\n",
       "      <td>91</td>\n",
       "    </tr>\n",
       "    <tr>\n",
       "      <th>763</th>\n",
       "      <td>2011-05-28</td>\n",
       "      <td>6.25</td>\n",
       "      <td>0.0</td>\n",
       "      <td>-5.5</td>\n",
       "      <td>55.0</td>\n",
       "      <td>7.5</td>\n",
       "      <td>0.175</td>\n",
       "      <td>18.0</td>\n",
       "      <td>5.20</td>\n",
       "      <td>29.830</td>\n",
       "      <td>...</td>\n",
       "      <td>56.0</td>\n",
       "      <td>1.0</td>\n",
       "      <td>3.0</td>\n",
       "      <td>1.0</td>\n",
       "      <td>2011</td>\n",
       "      <td>5</td>\n",
       "      <td>21</td>\n",
       "      <td>5</td>\n",
       "      <td>201121</td>\n",
       "      <td>91</td>\n",
       "    </tr>\n",
       "  </tbody>\n",
       "</table>\n",
       "<p>5 rows × 26 columns</p>\n",
       "</div>"
      ],
      "text/plain": [
       "           Date  AvgSpeed  Cool  Depart  DewPoint  Heat  PrecipTotal  \\\n",
       "1287 2013-10-31     11.45   0.0     9.5      56.0   9.5        1.535   \n",
       "1454 2014-10-14      9.40   0.0     7.0      58.0   5.0        0.915   \n",
       "319  2008-09-13      9.40   7.5     7.5      70.0   0.0        4.855   \n",
       "1286 2013-10-30      6.85   0.0     8.5      52.0  10.5        0.855   \n",
       "763  2011-05-28      6.25   0.0    -5.5      55.0   7.5        0.175   \n",
       "\n",
       "      ResultDir  ResultSpeed  SeaLevel  ...  WetBulb  lowvis  n_codesum  rain  \\\n",
       "1287       23.5         9.45    29.460  ...     57.0     1.0        2.0   1.0   \n",
       "1454       11.0         2.65    29.545  ...     59.0     1.0        3.0   1.0   \n",
       "319        21.5         6.80    29.705  ...     71.0     1.0        2.0   1.0   \n",
       "1286       14.5         5.95    30.005  ...     53.0     1.0        3.0   1.0   \n",
       "763        18.0         5.20    29.830  ...     56.0     1.0        3.0   1.0   \n",
       "\n",
       "      Year  Month  Week  DayOfWeek  YearWeek  r_humid  \n",
       "1287  2013     10    44          3    201344      102  \n",
       "1454  2014     10    42          1    201442       93  \n",
       "319   2008      9    37          5    200837       92  \n",
       "1286  2013     10    44          2    201344       91  \n",
       "763   2011      5    21          5    201121       91  \n",
       "\n",
       "[5 rows x 26 columns]"
      ]
     },
     "execution_count": 13,
     "metadata": {},
     "output_type": "execute_result"
    }
   ],
   "source": [
    "weather.sort_values(by='r_humid', ascending=False).head()"
   ]
  },
  {
   "cell_type": "code",
   "execution_count": 14,
   "metadata": {
    "cell_id": "00020-ff7c73f6-acfd-4262-bb74-5ce30e85666a",
    "deepnote_cell_type": "code"
   },
   "outputs": [
    {
     "name": "stdout",
     "output_type": "stream",
     "text": [
      "62.21 %\n"
     ]
    }
   ],
   "source": [
    "# The average humidity in Chicago could be a factor in the spread of the West Nile Virus\n",
    "print(f'{round(weather[\"r_humid\"].mean(),2)} %')"
   ]
  },
  {
   "cell_type": "markdown",
   "metadata": {
    "cell_id": "00012-dd9d9d40-599a-4788-9ce5-a4ace48c378c",
    "deepnote_cell_type": "markdown",
    "output_cleared": false,
    "tags": []
   },
   "source": [
    "*Note:* Relative humidity can exist beyond 100% due to [supersaturation](https://www.chicagotribune.com/news/ct-xpm-2011-07-20-ct-wea-0720-asktom-20110720-story.html#:~:text=Surprisingly%2C%20yes%2C%20the%20condition%20is,is%20needed%20to%20cause%20saturation.). Water vapor begins to condense onto impurities (such as dust or salt particles) in the air as the RH approaches 100 percent, and a cloud or fog forms."
   ]
  },
  {
   "cell_type": "markdown",
   "metadata": {
    "cell_id": "00014-3a0c9409-4c8e-4edf-ac31-75292d116e62",
    "deepnote_cell_type": "markdown",
    "output_cleared": false,
    "tags": []
   },
   "source": [
    "## Weekly Average Precipitation"
   ]
  },
  {
   "cell_type": "markdown",
   "metadata": {
    "cell_id": "00023-c34b5b2b-6544-4dc1-bff4-95cdbafece9e",
    "deepnote_cell_type": "markdown"
   },
   "source": [
    "It's often thought that above-average precipitation leads to a higher abundance of mosquitoes and increases the potential for disease outbreaks like the West Nile Virus. This positive association has been confirmed by several [studies](https://www.ncbi.nlm.nih.gov/pmc/articles/PMC4342965/#RSTB20130561C42), but precipitation can be slightly more complex as a feature, as heavy rainfall could dilute the nutrients for larvae, thus decreasing development rate. It might also lead to a negative association by [flushing ditches and drainage channels used by Culex larvae](https://www.ncbi.nlm.nih.gov/pmc/articles/PMC4342965/#RSTB20130561C56).\n",
    "\n",
    "Regardless, precipitation is still worth looking into. Instead of looking at daily precipitation amounts which likely don't affect the presence of WNV on that particular day, we can take cumulative weekly precipiation into account, and create a feature measuring weeks with heavy rain."
   ]
  },
  {
   "cell_type": "code",
   "execution_count": 15,
   "metadata": {
    "cell_id": "00017-250dd9e2-ae8d-4352-a049-20f462a8cb54",
    "deepnote_cell_type": "code",
    "execution_millis": 1215,
    "execution_start": 1607931001068,
    "output_cleared": false,
    "source_hash": "2716cba8",
    "tags": []
   },
   "outputs": [],
   "source": [
    "weather = weather.apply(year_week, axis=1)"
   ]
  },
  {
   "cell_type": "code",
   "execution_count": 16,
   "metadata": {
    "cell_id": "00019-1570e376-bb85-4eeb-9225-d0257a014405",
    "deepnote_cell_type": "code",
    "execution_millis": 5,
    "execution_start": 1607931002287,
    "output_cleared": false,
    "source_hash": "768eb7fb",
    "tags": []
   },
   "outputs": [],
   "source": [
    "# Setting up grouped df for calculation of cumulative weekly precipitation\n",
    "group_df = weather.groupby('YearWeek').sum()"
   ]
  },
  {
   "cell_type": "code",
   "execution_count": 17,
   "metadata": {
    "cell_id": "00019-0643e4ec-e4fd-4865-b860-d0ea860c2ed7",
    "deepnote_cell_type": "code",
    "execution_millis": 2,
    "execution_start": 1607931002296,
    "output_cleared": false,
    "source_hash": "85193ced",
    "tags": []
   },
   "outputs": [],
   "source": [
    "def WeekPrecipTotal(row):\n",
    "    YearWeek = row['YearWeek']\n",
    "    row['WeekPrecipTotal'] = group_df.loc[YearWeek]['PrecipTotal']\n",
    "    return row"
   ]
  },
  {
   "cell_type": "code",
   "execution_count": 18,
   "metadata": {
    "cell_id": "00020-cc5caf7a-0e10-43c4-9e1e-3c67c9d0d503",
    "deepnote_cell_type": "code",
    "execution_millis": 1533,
    "execution_start": 1607931002360,
    "output_cleared": false,
    "source_hash": "bb215f01",
    "tags": []
   },
   "outputs": [],
   "source": [
    "weather = weather.apply(WeekPrecipTotal, axis=1)"
   ]
  },
  {
   "cell_type": "markdown",
   "metadata": {
    "cell_id": "00023-9c7388e2-e196-4fea-ab95-8a82d502d2cf",
    "deepnote_cell_type": "markdown",
    "output_cleared": false,
    "tags": []
   },
   "source": [
    "## Weekly Average Temperature"
   ]
  },
  {
   "cell_type": "markdown",
   "metadata": {
    "cell_id": "00029-7de266f5-5ebe-4b35-96bc-508361db5611",
    "deepnote_cell_type": "markdown"
   },
   "source": [
    "Temperature has been [acknowledged](https://www.ncbi.nlm.nih.gov/pmc/articles/PMC4342965/) to be the most prominent feature associated with outbreaks of the West Nile Virus. Among other things, high temperature has been show to positively correlate with viral replication rates, seasonal phenology of mosquito host populations, growth rates of vector populations, viral transmission efficiency to birds and geographical variations in human case incidence.\n",
    "\n",
    "Rather than looking at daily temperature, we'll also look at average temperatures by week."
   ]
  },
  {
   "cell_type": "code",
   "execution_count": 19,
   "metadata": {
    "cell_id": "00023-ba2605ce-d26b-4dc4-8ea6-9cfa2d0b72e0",
    "deepnote_cell_type": "code",
    "execution_millis": 2,
    "execution_start": 1607931003897,
    "output_cleared": false,
    "source_hash": "b4fc29af",
    "tags": []
   },
   "outputs": [],
   "source": [
    "def WeekAvgTemp(row):\n",
    "    # Retrieve current week\n",
    "    YearWeek = row['YearWeek']\n",
    "    \n",
    "    # Retrieving sum of average temperature for current week\n",
    "    temp_sum = group_df.loc[YearWeek]['Tavg']\n",
    "    \n",
    "    # Getting number of days recorded by weather station for current week\n",
    "    n_days = weather[weather['YearWeek'] == YearWeek].shape[0]\n",
    "    \n",
    "    # Calculate Week Average Temperature\n",
    "    row['WeekAvgTemp'] = temp_sum / n_days\n",
    "    \n",
    "    return row"
   ]
  },
  {
   "cell_type": "code",
   "execution_count": 20,
   "metadata": {
    "cell_id": "00024-715ef32d-8db2-4cbc-82fc-acfaa33a875c",
    "deepnote_cell_type": "code",
    "execution_millis": 2413,
    "execution_start": 1607931003904,
    "output_cleared": false,
    "source_hash": "977e0494",
    "tags": []
   },
   "outputs": [],
   "source": [
    "weather = weather.apply(WeekAvgTemp, axis=1)"
   ]
  },
  {
   "cell_type": "markdown",
   "metadata": {
    "cell_id": "00032-31037503-badc-487b-85a7-7c9e9159bcda",
    "deepnote_cell_type": "markdown",
    "output_cleared": false,
    "tags": []
   },
   "source": [
    "## Winter Temperature"
   ]
  },
  {
   "cell_type": "markdown",
   "metadata": {
    "cell_id": "00033-3c1e5391-ffdb-4d05-ad29-80fc5dc24398",
    "deepnote_cell_type": "markdown"
   },
   "source": [
    "Winter temperatures aren't a very intuitive variable when it comes to predicting the West Nile Virus. However, it turns out that the WNV can <b>[overwinter](https://ugaurbanag.com/811-2/)</b>. What this means, is that there are specific species of mosquito such as the Culex species that can overwinter -- this takes place in the adult stage by fertilized, non-blood-fed females. The Culex pipiens in particular goes into physiological diapauses (akin to hibernation) during the winter months.\n",
    "\n",
    "The virus does not replicate within the mosquito at lower temperatures, <b>but is available to begin replication when temperatures increase</b>. This corresponds with the beginning of the nesting period of birds and the presence of young birds. Circulation of virus in the bird populations lead to the amplication of the virus and growth of vector mosquito populations.\n",
    "\n",
    "The National Weather Service carries [historical records of January temperatures](https://www.weather.gov/lot/January_Temperature_Rankings_Chicago) -- I created a dataset based on this and carried out some minimal cleaning to create a proxy feature measuring winter temperatures."
   ]
  },
  {
   "cell_type": "code",
   "execution_count": 22,
   "metadata": {
    "cell_id": "00033-793a382a-0d8f-4835-9b13-67dbfe96217b",
    "deepnote_cell_type": "code",
    "execution_millis": 17,
    "execution_start": 1607931006320,
    "output_cleared": false,
    "scrolled": true,
    "source_hash": "f36f76d5",
    "tags": []
   },
   "outputs": [
    {
     "data": {
      "text/html": [
       "<div>\n",
       "<style scoped>\n",
       "    .dataframe tbody tr th:only-of-type {\n",
       "        vertical-align: middle;\n",
       "    }\n",
       "\n",
       "    .dataframe tbody tr th {\n",
       "        vertical-align: top;\n",
       "    }\n",
       "\n",
       "    .dataframe thead th {\n",
       "        text-align: right;\n",
       "    }\n",
       "</style>\n",
       "<table border=\"1\" class=\"dataframe\">\n",
       "  <thead>\n",
       "    <tr style=\"text-align: right;\">\n",
       "      <th></th>\n",
       "      <th>Year</th>\n",
       "      <th>AvgTemp</th>\n",
       "      <th>JanDepart</th>\n",
       "    </tr>\n",
       "  </thead>\n",
       "  <tbody>\n",
       "    <tr>\n",
       "      <th>0</th>\n",
       "      <td>2006</td>\n",
       "      <td>35.8</td>\n",
       "      <td>12.0</td>\n",
       "    </tr>\n",
       "    <tr>\n",
       "      <th>1</th>\n",
       "      <td>2007</td>\n",
       "      <td>27.9</td>\n",
       "      <td>4.1</td>\n",
       "    </tr>\n",
       "    <tr>\n",
       "      <th>2</th>\n",
       "      <td>2008</td>\n",
       "      <td>23.5</td>\n",
       "      <td>-0.3</td>\n",
       "    </tr>\n",
       "    <tr>\n",
       "      <th>3</th>\n",
       "      <td>2009</td>\n",
       "      <td>15.9</td>\n",
       "      <td>-7.9</td>\n",
       "    </tr>\n",
       "    <tr>\n",
       "      <th>4</th>\n",
       "      <td>2010</td>\n",
       "      <td>22.0</td>\n",
       "      <td>-1.8</td>\n",
       "    </tr>\n",
       "  </tbody>\n",
       "</table>\n",
       "</div>"
      ],
      "text/plain": [
       "   Year  AvgTemp  JanDepart\n",
       "0  2006     35.8       12.0\n",
       "1  2007     27.9        4.1\n",
       "2  2008     23.5       -0.3\n",
       "3  2009     15.9       -7.9\n",
       "4  2010     22.0       -1.8"
      ]
     },
     "execution_count": 22,
     "metadata": {},
     "output_type": "execute_result"
    }
   ],
   "source": [
    "# This dataset gives us the average Janurary temperature of each year -- we're using this as a proxy for Winter temperatures.\n",
    "# We can also see how far each temperature differs from the 30 year normal (23.8 degrees F)\n",
    "winter_df = pd.read_csv('./datasets/jan_winter.csv')\n",
    "winter_df.head()"
   ]
  },
  {
   "cell_type": "code",
   "execution_count": 23,
   "metadata": {
    "cell_id": "00034-bf41f628-56e7-440e-8227-eb2435bb1dda",
    "deepnote_cell_type": "code",
    "execution_millis": 1,
    "execution_start": 1607931006342,
    "output_cleared": false,
    "source_hash": "5f118003",
    "tags": []
   },
   "outputs": [],
   "source": [
    "def winter_temp(row):\n",
    "    year = row['Year']\n",
    "    #row['WinterTemp'] = winter_df[winter_df['Year'] == year]['AvgTemp'].values[0]\n",
    "    row['WinterDepart'] = winter_df[winter_df['Year'] == year]['JanDepart'].values[0]\n",
    "    return row"
   ]
  },
  {
   "cell_type": "code",
   "execution_count": 24,
   "metadata": {
    "cell_id": "00035-2afb0a61-f0b1-463e-a8a4-373861f38b5c",
    "deepnote_cell_type": "code",
    "execution_millis": 3637,
    "execution_start": 1607931006344,
    "output_cleared": false,
    "source_hash": "d9a351c0",
    "tags": []
   },
   "outputs": [],
   "source": [
    "weather = weather.apply(winter_temp, axis=1)"
   ]
  },
  {
   "cell_type": "markdown",
   "metadata": {
    "cell_id": "00037-46dd4767-aea0-4376-86ec-3bb12e61d708",
    "deepnote_cell_type": "markdown"
   },
   "source": [
    "## Summer Temperature"
   ]
  },
  {
   "cell_type": "markdown",
   "metadata": {
    "cell_id": "00038-e81c6aec-7d90-4b2a-92f7-0991b507d698",
    "deepnote_cell_type": "markdown"
   },
   "source": [
    "While the link between summer temperature and WNV isn't as clear, we thought it might be worth bearing investigation into whether warmer summers (or in this case - warm Julys) affect the spread of the WNV. The virus is said to spreads most efficiently in the United States at temperatures [between 75.2 and 77 degrees Fahrenheit](https://www.medicinenet.com/script/main/art.asp?articlekey=247250#:~:text=The%20mosquito%2Dborne%20virus%20spreads,15%20in%20the%20journal%20eLife.).\n",
    "\n",
    "This data also comes from the [National Weather Service](https://www.weather.gov/lot/July_Temperature_Rankings_Chicago)."
   ]
  },
  {
   "cell_type": "code",
   "execution_count": 25,
   "metadata": {
    "cell_id": "00039-d7cc84ca-5a43-43ff-8df2-2c14f0c6eca1",
    "deepnote_cell_type": "code"
   },
   "outputs": [
    {
     "data": {
      "text/html": [
       "<div>\n",
       "<style scoped>\n",
       "    .dataframe tbody tr th:only-of-type {\n",
       "        vertical-align: middle;\n",
       "    }\n",
       "\n",
       "    .dataframe tbody tr th {\n",
       "        vertical-align: top;\n",
       "    }\n",
       "\n",
       "    .dataframe thead th {\n",
       "        text-align: right;\n",
       "    }\n",
       "</style>\n",
       "<table border=\"1\" class=\"dataframe\">\n",
       "  <thead>\n",
       "    <tr style=\"text-align: right;\">\n",
       "      <th></th>\n",
       "      <th>Year</th>\n",
       "      <th>AvgTemp</th>\n",
       "      <th>JulDepart</th>\n",
       "    </tr>\n",
       "  </thead>\n",
       "  <tbody>\n",
       "    <tr>\n",
       "      <th>0</th>\n",
       "      <td>2006</td>\n",
       "      <td>76.5</td>\n",
       "      <td>2.5</td>\n",
       "    </tr>\n",
       "    <tr>\n",
       "      <th>1</th>\n",
       "      <td>2007</td>\n",
       "      <td>73.7</td>\n",
       "      <td>-0.3</td>\n",
       "    </tr>\n",
       "    <tr>\n",
       "      <th>2</th>\n",
       "      <td>2008</td>\n",
       "      <td>74.0</td>\n",
       "      <td>0.0</td>\n",
       "    </tr>\n",
       "    <tr>\n",
       "      <th>3</th>\n",
       "      <td>2009</td>\n",
       "      <td>69.4</td>\n",
       "      <td>-4.6</td>\n",
       "    </tr>\n",
       "    <tr>\n",
       "      <th>4</th>\n",
       "      <td>2010</td>\n",
       "      <td>77.7</td>\n",
       "      <td>3.7</td>\n",
       "    </tr>\n",
       "  </tbody>\n",
       "</table>\n",
       "</div>"
      ],
      "text/plain": [
       "   Year  AvgTemp  JulDepart\n",
       "0  2006     76.5        2.5\n",
       "1  2007     73.7       -0.3\n",
       "2  2008     74.0        0.0\n",
       "3  2009     69.4       -4.6\n",
       "4  2010     77.7        3.7"
      ]
     },
     "execution_count": 25,
     "metadata": {},
     "output_type": "execute_result"
    }
   ],
   "source": [
    "# This dataset gives us the average July temperature of each year -- we're using this as a proxy for Summer temperatures.\n",
    "# We can also see how far each temperature differs from the 30 year normal (74.0 degrees F)\n",
    "summer_df = pd.read_csv('./datasets/jul_summer.csv')\n",
    "summer_df.head()"
   ]
  },
  {
   "cell_type": "code",
   "execution_count": 26,
   "metadata": {
    "cell_id": "00040-022f53d3-0ba9-4f4f-8413-2a884751a738",
    "deepnote_cell_type": "code"
   },
   "outputs": [],
   "source": [
    "def summer_temp(row):\n",
    "    year = row['Year']\n",
    "    #row['SummerTemp'] = summer_df[summer_df['Year'] == year]['AvgTemp'].values[0]\n",
    "    row['SummerDepart'] = summer_df[summer_df['Year'] == year]['JulDepart'].values[0]\n",
    "    return row"
   ]
  },
  {
   "cell_type": "code",
   "execution_count": 27,
   "metadata": {
    "cell_id": "00041-901e5f54-98b1-47b9-a706-a4d647f49530",
    "deepnote_cell_type": "code"
   },
   "outputs": [],
   "source": [
    "weather = weather.apply(summer_temp, axis=1)"
   ]
  },
  {
   "cell_type": "markdown",
   "metadata": {
    "cell_id": "00036-b3b8e781-a975-470f-8ab3-1bb33c89659f",
    "deepnote_cell_type": "markdown",
    "output_cleared": false,
    "tags": []
   },
   "source": [
    "## Temporal Features"
   ]
  },
  {
   "cell_type": "markdown",
   "metadata": {
    "cell_id": "00043-21b905ce-aff2-4165-8c80-a696c8501f61",
    "deepnote_cell_type": "markdown"
   },
   "source": [
    "Some [studies](https://pubmed.ncbi.nlm.nih.gov/30145430/) have argued that increased precipitation and temperatures might have a <n>lagged direct effect</n> on the incidence of WNV infection. Given that the incubation period for most Culex mosquitos is approximately [7-10 days](https://www.cdc.gov/mosquitoes/about/life-cycles/culex.html#:~:text=Life%20stages%20of%20Culex%20pipiens,develop%20into%20an%20adult%20mosquito), the temperature, humidity and precipitation of previous weeks could play into higher mosquito growth in following weeks. According to the CDC, eggs are ready to hatch from a few days to several months after being laid. Accordingly, we'll create some time-lagged variables going back to a month before the current date."
   ]
  },
  {
   "cell_type": "markdown",
   "metadata": {
    "cell_id": "00037-2a6bdad1-4f04-46c8-a4d7-b18088433c06",
    "deepnote_cell_type": "markdown",
    "output_cleared": false,
    "tags": []
   },
   "source": [
    "### Average Temperature (1 week - 4 weeks before)"
   ]
  },
  {
   "cell_type": "code",
   "execution_count": 28,
   "metadata": {
    "cell_id": "00038-ea023a68-395c-4b3d-8250-58738036e9f7",
    "deepnote_cell_type": "code",
    "execution_millis": 2,
    "execution_start": 1607931018859,
    "output_cleared": false,
    "source_hash": "561fcc41",
    "tags": []
   },
   "outputs": [],
   "source": [
    "def create_templag(row):   \n",
    "    # Getting average temperature one week before\n",
    "    YearWeek = row['YearWeek']\n",
    "    \n",
    "    # Calculating average temperature for up to four weeks before\n",
    "    for i in range(4):\n",
    "        try:\n",
    "            row[f'templag{i+1}'] = weather[weather['YearWeek'] == (YearWeek - (i+1))]['WeekAvgTemp'].unique()[0]\n",
    "            \n",
    "        # For the first 4 weeks of the year where no previous data exists, create rough estimate of temperatures\n",
    "        except IndexError:\n",
    "            row[f'templag{i+1}'] = row['WeekAvgTemp'] - i\n",
    "    return row"
   ]
  },
  {
   "cell_type": "code",
   "execution_count": 29,
   "metadata": {
    "cell_id": "00040-77dc8c88-62cc-479f-a0d3-577a60acfe6c",
    "deepnote_cell_type": "code",
    "execution_millis": 7761,
    "execution_start": 1607931018865,
    "output_cleared": false,
    "source_hash": "ca30ce8f",
    "tags": []
   },
   "outputs": [],
   "source": [
    "weather = weather.apply(create_templag, axis=1)"
   ]
  },
  {
   "cell_type": "markdown",
   "metadata": {
    "cell_id": "00045-c0d98675-cf56-4a8a-80f8-858a18658da4",
    "deepnote_cell_type": "markdown",
    "output_cleared": false,
    "tags": []
   },
   "source": [
    "### Cumulative Weekly Precipitation (1 week - 4 weeks before)"
   ]
  },
  {
   "cell_type": "code",
   "execution_count": 30,
   "metadata": {
    "cell_id": "00046-e8f33c84-e745-4efb-81c6-218c6ff23e67",
    "deepnote_cell_type": "code",
    "execution_millis": 0,
    "execution_start": 1607931026673,
    "output_cleared": false,
    "source_hash": "c9c8b213",
    "tags": []
   },
   "outputs": [],
   "source": [
    "def create_rainlag(row):\n",
    "    # Getting average temperature one week before\n",
    "    YearWeek = row['YearWeek']\n",
    "    \n",
    "    # Calculating average temperature for up to four weeks before\n",
    "    for i in range(4):\n",
    "        try:\n",
    "            row[f'rainlag{i+1}'] = weather[weather['YearWeek'] == (YearWeek - (i+1))]['WeekPrecipTotal'].unique()[0]\n",
    "            \n",
    "        # Use average of column if no data available\n",
    "        except IndexError:\n",
    "            row[f'rainlag{i+1}'] = weather['WeekPrecipTotal'].mean()\n",
    "    return row"
   ]
  },
  {
   "cell_type": "code",
   "execution_count": 31,
   "metadata": {
    "cell_id": "00047-be60d8e6-eb59-42fe-8e64-4726259b0c2a",
    "deepnote_cell_type": "code",
    "execution_millis": 7920,
    "execution_start": 1607931026674,
    "output_cleared": false,
    "source_hash": "62da2f5",
    "tags": []
   },
   "outputs": [],
   "source": [
    "weather = weather.apply(create_rainlag, axis=1)"
   ]
  },
  {
   "cell_type": "markdown",
   "metadata": {
    "cell_id": "00036-fb234b61-f2e4-4fa1-ae30-a58ff4c73a2a",
    "deepnote_cell_type": "markdown",
    "output_cleared": false,
    "tags": []
   },
   "source": [
    "### Relative Humidity (1 week - 4 weeks before)"
   ]
  },
  {
   "cell_type": "code",
   "execution_count": 32,
   "metadata": {
    "cell_id": "00038-2d718082-7463-4aa4-ac1c-0024bff2f83b",
    "deepnote_cell_type": "code",
    "execution_millis": 0,
    "execution_start": 1607997378657,
    "output_cleared": false,
    "source_hash": "3db177d7",
    "tags": []
   },
   "outputs": [],
   "source": [
    "def create_humidlag(row):\n",
    "    # Getting average temperature one week before\n",
    "    YearWeek = row['YearWeek']\n",
    "    \n",
    "    # Calculating average temperature for up to four weeks before\n",
    "    for i in range(4):\n",
    "        try:\n",
    "            row[f'humidlag{i+1}'] = weather[weather['YearWeek'] == (YearWeek - (i+1))]['r_humid'].unique()[0]\n",
    "            \n",
    "        # Use average of column if no data available\n",
    "        except IndexError:\n",
    "            row[f'humidlag{i+1}'] = weather['r_humid'].mean()\n",
    "    return row"
   ]
  },
  {
   "cell_type": "code",
   "execution_count": 33,
   "metadata": {
    "cell_id": "00038-a68849cd-7dde-4d65-ae0b-fc9c2bbeb24a",
    "deepnote_cell_type": "code",
    "execution_millis": 7755,
    "execution_start": 1607931034602,
    "output_cleared": false,
    "source_hash": "4cc891d5",
    "tags": []
   },
   "outputs": [],
   "source": [
    "weather = weather.apply(create_humidlag, axis=1)"
   ]
  },
  {
   "cell_type": "code",
   "execution_count": 34,
   "metadata": {
    "cell_id": "00040-9dae80a8-a442-42e7-889e-8a977cf20d1a",
    "deepnote_cell_type": "code",
    "execution_millis": 21,
    "execution_start": 1607931205286,
    "output_cleared": false,
    "source_hash": "f6fa1d25",
    "tags": []
   },
   "outputs": [
    {
     "data": {
      "text/html": [
       "<div>\n",
       "<style scoped>\n",
       "    .dataframe tbody tr th:only-of-type {\n",
       "        vertical-align: middle;\n",
       "    }\n",
       "\n",
       "    .dataframe tbody tr th {\n",
       "        vertical-align: top;\n",
       "    }\n",
       "\n",
       "    .dataframe thead th {\n",
       "        text-align: right;\n",
       "    }\n",
       "</style>\n",
       "<table border=\"1\" class=\"dataframe\">\n",
       "  <thead>\n",
       "    <tr style=\"text-align: right;\">\n",
       "      <th></th>\n",
       "      <th>WeekAvgTemp</th>\n",
       "      <th>templag1</th>\n",
       "      <th>templag2</th>\n",
       "      <th>templag3</th>\n",
       "      <th>templag4</th>\n",
       "    </tr>\n",
       "    <tr>\n",
       "      <th>YearWeek</th>\n",
       "      <th></th>\n",
       "      <th></th>\n",
       "      <th></th>\n",
       "      <th></th>\n",
       "      <th></th>\n",
       "    </tr>\n",
       "  </thead>\n",
       "  <tbody>\n",
       "    <tr>\n",
       "      <th>201440</th>\n",
       "      <td>57.142857</td>\n",
       "      <td>65.285714</td>\n",
       "      <td>62.142857</td>\n",
       "      <td>60.071429</td>\n",
       "      <td>74.428571</td>\n",
       "    </tr>\n",
       "    <tr>\n",
       "      <th>201441</th>\n",
       "      <td>53.714286</td>\n",
       "      <td>57.142857</td>\n",
       "      <td>65.285714</td>\n",
       "      <td>62.142857</td>\n",
       "      <td>60.071429</td>\n",
       "    </tr>\n",
       "    <tr>\n",
       "      <th>201442</th>\n",
       "      <td>54.000000</td>\n",
       "      <td>53.714286</td>\n",
       "      <td>57.142857</td>\n",
       "      <td>65.285714</td>\n",
       "      <td>62.142857</td>\n",
       "    </tr>\n",
       "    <tr>\n",
       "      <th>201443</th>\n",
       "      <td>54.642857</td>\n",
       "      <td>54.000000</td>\n",
       "      <td>53.714286</td>\n",
       "      <td>57.142857</td>\n",
       "      <td>65.285714</td>\n",
       "    </tr>\n",
       "    <tr>\n",
       "      <th>201444</th>\n",
       "      <td>50.200000</td>\n",
       "      <td>54.642857</td>\n",
       "      <td>54.000000</td>\n",
       "      <td>53.714286</td>\n",
       "      <td>57.142857</td>\n",
       "    </tr>\n",
       "  </tbody>\n",
       "</table>\n",
       "</div>"
      ],
      "text/plain": [
       "          WeekAvgTemp   templag1   templag2   templag3   templag4\n",
       "YearWeek                                                         \n",
       "201440      57.142857  65.285714  62.142857  60.071429  74.428571\n",
       "201441      53.714286  57.142857  65.285714  62.142857  60.071429\n",
       "201442      54.000000  53.714286  57.142857  65.285714  62.142857\n",
       "201443      54.642857  54.000000  53.714286  57.142857  65.285714\n",
       "201444      50.200000  54.642857  54.000000  53.714286  57.142857"
      ]
     },
     "execution_count": 34,
     "metadata": {},
     "output_type": "execute_result"
    }
   ],
   "source": [
    "# Checking that temperature lagged variables are correct\n",
    "weather.groupby(by='YearWeek').mean()[['WeekAvgTemp', 'templag1', 'templag2', 'templag3', 'templag4']].tail(5)"
   ]
  },
  {
   "cell_type": "markdown",
   "metadata": {
    "cell_id": "00054-8ad74a0c-e410-4bf5-8f1f-04e7f5a70c21",
    "deepnote_cell_type": "markdown"
   },
   "source": [
    "## Traps: Dummify"
   ]
  },
  {
   "cell_type": "markdown",
   "metadata": {
    "cell_id": "00055-80faccc3-d3d9-47dd-88e4-d9dbb3b0dc7d",
    "deepnote_cell_type": "markdown"
   },
   "source": [
    "During our exploratory data analysis, we also noticed that several traps had extremely high numbers of mosquitos and accordingly, high numbers of `WnvPresent`. We decided to one-hot encode all of the mosquito traps and compare them with our target variable further on."
   ]
  },
  {
   "cell_type": "code",
   "execution_count": 35,
   "metadata": {
    "cell_id": "00056-4a6c74e5-b353-4d02-9b35-015d0220afc1",
    "deepnote_cell_type": "code"
   },
   "outputs": [],
   "source": [
    "train = pd.get_dummies(train, columns=['Trap'])"
   ]
  },
  {
   "cell_type": "markdown",
   "metadata": {
    "cell_id": "00057-ce5b8745-78c6-4e91-be43-1c822e2750b4",
    "deepnote_cell_type": "markdown"
   },
   "source": [
    "## Species"
   ]
  },
  {
   "cell_type": "markdown",
   "metadata": {
    "cell_id": "00058-3de5c75e-8952-450e-ab7c-d285bcc82717",
    "deepnote_cell_type": "markdown"
   },
   "source": [
    "We also noticed that only three species were identified as WNV carriers. These species are the `CULEX PIPIENS/RESTUANS`, `CULEX RESTUANS` and `CULEX PIPIENS`. Noticeably, the incidence of the WNV in `CULEX RESTUANS` was 0.002 (49 positive pools vs 23431 mosquitos), while the incidence of the WNV in `CULEX PIPIENS/RESTUANS` was 0.004 (262 positive pools vs 66268 mosquitos). In `CULEX PIPIENS`, the incidence of WNV was measured at 0.005 (240 positive pools vs 44671 mosquitos).\n",
    "\n",
    "Given this relationship, we placed a lighter weight on the `CULEX RESTUANS`, while assigning no weight to species that weren't identified as WNV carriers by the data."
   ]
  },
  {
   "cell_type": "code",
   "execution_count": 36,
   "metadata": {
    "cell_id": "00059-6c51ffcc-2e44-4aef-b6e1-22aa5dfc7329",
    "deepnote_cell_type": "code"
   },
   "outputs": [
    {
     "data": {
      "text/html": [
       "<div>\n",
       "<style scoped>\n",
       "    .dataframe tbody tr th:only-of-type {\n",
       "        vertical-align: middle;\n",
       "    }\n",
       "\n",
       "    .dataframe tbody tr th {\n",
       "        vertical-align: top;\n",
       "    }\n",
       "\n",
       "    .dataframe thead th {\n",
       "        text-align: right;\n",
       "    }\n",
       "</style>\n",
       "<table border=\"1\" class=\"dataframe\">\n",
       "  <thead>\n",
       "    <tr style=\"text-align: right;\">\n",
       "      <th></th>\n",
       "      <th>WnvPresent</th>\n",
       "    </tr>\n",
       "    <tr>\n",
       "      <th>Species</th>\n",
       "      <th></th>\n",
       "    </tr>\n",
       "  </thead>\n",
       "  <tbody>\n",
       "    <tr>\n",
       "      <th>CULEX ERRATICUS</th>\n",
       "      <td>0</td>\n",
       "    </tr>\n",
       "    <tr>\n",
       "      <th>CULEX PIPIENS</th>\n",
       "      <td>240</td>\n",
       "    </tr>\n",
       "    <tr>\n",
       "      <th>CULEX PIPIENS/RESTUANS</th>\n",
       "      <td>262</td>\n",
       "    </tr>\n",
       "    <tr>\n",
       "      <th>CULEX RESTUANS</th>\n",
       "      <td>49</td>\n",
       "    </tr>\n",
       "    <tr>\n",
       "      <th>CULEX SALINARIUS</th>\n",
       "      <td>0</td>\n",
       "    </tr>\n",
       "    <tr>\n",
       "      <th>CULEX TARSALIS</th>\n",
       "      <td>0</td>\n",
       "    </tr>\n",
       "    <tr>\n",
       "      <th>CULEX TERRITANS</th>\n",
       "      <td>0</td>\n",
       "    </tr>\n",
       "  </tbody>\n",
       "</table>\n",
       "</div>"
      ],
      "text/plain": [
       "                        WnvPresent\n",
       "Species                           \n",
       "CULEX ERRATICUS                  0\n",
       "CULEX PIPIENS                  240\n",
       "CULEX PIPIENS/RESTUANS         262\n",
       "CULEX RESTUANS                  49\n",
       "CULEX SALINARIUS                 0\n",
       "CULEX TARSALIS                   0\n",
       "CULEX TERRITANS                  0"
      ]
     },
     "execution_count": 36,
     "metadata": {},
     "output_type": "execute_result"
    }
   ],
   "source": [
    "# WnvPresent by species\n",
    "train[['Species', 'WnvPresent']].groupby('Species').sum()"
   ]
  },
  {
   "cell_type": "code",
   "execution_count": 37,
   "metadata": {
    "cell_id": "00060-48cae9f2-23e0-451b-bcf1-895e8899ae58",
    "deepnote_cell_type": "code"
   },
   "outputs": [],
   "source": [
    "train['Species'] = train['Species'].map({'CULEX PIPIENS/RESTUANS': 2, 'CULEX PIPIENS': 2, 'CULEX RESTUANS': 1}) \\\n",
    "                                   .fillna(0)"
   ]
  },
  {
   "cell_type": "code",
   "execution_count": 38,
   "metadata": {
    "cell_id": "00061-4b3917d1-2a8d-413e-a452-e7f5d0f6c95d",
    "deepnote_cell_type": "code"
   },
   "outputs": [
    {
     "data": {
      "text/plain": [
       "2.0    7451\n",
       "1.0    2740\n",
       "0.0     315\n",
       "Name: Species, dtype: int64"
      ]
     },
     "execution_count": 38,
     "metadata": {},
     "output_type": "execute_result"
    }
   ],
   "source": [
    "# Checking species value count\n",
    "train['Species'].value_counts()"
   ]
  },
  {
   "cell_type": "markdown",
   "metadata": {
    "cell_id": "00062-332ad36f-bf1e-45a2-b8d1-81b6b82c2ec7",
    "deepnote_cell_type": "markdown"
   },
   "source": [
    "# Feature Selection"
   ]
  },
  {
   "cell_type": "markdown",
   "metadata": {
    "cell_id": "00063-7a01b044-9e8a-4180-abc5-8b3ba3caa8dc",
    "deepnote_cell_type": "markdown"
   },
   "source": [
    "As previously mentioned, our features were generally quite low in terms of correlation to our target. Polynomial feature engineering is a great way to deal with this -- combining or transforming features can often significantly a feature's correlation to the target.\n",
    "\n",
    "We can also identify relationships of interest between our variables."
   ]
  },
  {
   "cell_type": "markdown",
   "metadata": {
    "cell_id": "00064-6db2a02f-e31d-4713-b888-728bc827a4b6",
    "deepnote_cell_type": "markdown"
   },
   "source": [
    "## Polynomial Feature Engineering"
   ]
  },
  {
   "cell_type": "code",
   "execution_count": 39,
   "metadata": {
    "cell_id": "00065-38a7b8eb-edfb-4182-a5cb-9b127ac4ad10",
    "deepnote_cell_type": "code"
   },
   "outputs": [],
   "source": [
    "merged_df = pd.merge(weather, train, on=['Date', 'Year', 'Week', 'Month', 'YearWeek', 'DayOfWeek'])"
   ]
  },
  {
   "cell_type": "code",
   "execution_count": 40,
   "metadata": {
    "cell_id": "00066-7c7b4590-8a3e-426f-a978-00d0f70f9669",
    "deepnote_cell_type": "code"
   },
   "outputs": [],
   "source": [
    "X = merged_df[[col for col in merged_df.columns if 'WnvPresent' not in col]]._get_numeric_data()\n",
    "y = train['WnvPresent']"
   ]
  },
  {
   "cell_type": "code",
   "execution_count": 41,
   "metadata": {
    "cell_id": "00067-76490bf5-c81d-414b-89d0-e84b5316b55b",
    "deepnote_cell_type": "code"
   },
   "outputs": [
    {
     "data": {
      "text/plain": [
       "(10506, 17019)"
      ]
     },
     "execution_count": 41,
     "metadata": {},
     "output_type": "execute_result"
    }
   ],
   "source": [
    "# Generates the full polynomial feature table\n",
    "poly = PolynomialFeatures(include_bias=False, degree=2)\n",
    "X_poly = poly.fit_transform(X)\n",
    "X_poly.shape"
   ]
  },
  {
   "cell_type": "code",
   "execution_count": 42,
   "metadata": {
    "cell_id": "00068-28e80632-5fcc-4664-b263-d9b20df6c241",
    "deepnote_cell_type": "code",
    "scrolled": true
   },
   "outputs": [
    {
     "name": "stderr",
     "output_type": "stream",
     "text": [
      "C:\\Users\\yuner\\anaconda3\\lib\\site-packages\\sklearn\\utils\\deprecation.py:87: FutureWarning: Function get_feature_names is deprecated; get_feature_names is deprecated in 1.0 and will be removed in 1.2. Please use get_feature_names_out instead.\n",
      "  warnings.warn(msg, category=FutureWarning)\n"
     ]
    },
    {
     "data": {
      "text/plain": [
       "Sunrise WeekAvgTemp             0.150030\n",
       "Sunrise templag2                0.147419\n",
       "Sunrise templag3                0.147091\n",
       "Sunrise templag1                0.144225\n",
       "Sunrise WetBulb                 0.143433\n",
       "DewPoint Sunrise                0.142001\n",
       "DewPoint Week                   0.141467\n",
       "Sunrise Tmin                    0.140002\n",
       "Week WeekAvgTemp                0.139110\n",
       "WeekPrecipTotal WinterDepart    0.138693\n",
       "dtype: float64"
      ]
     },
     "execution_count": 42,
     "metadata": {},
     "output_type": "execute_result"
    }
   ],
   "source": [
    "# Adds appropriate feature names to all polynomial features\n",
    "X_poly = pd.DataFrame(X_poly,columns=poly.get_feature_names_out(X.columns))\n",
    "\n",
    "# Generates list of poly feature correlations\n",
    "X_poly_corrs = X_poly.corrwith(y)\n",
    "\n",
    "# Shows features most highly correlated (positively) with target\n",
    "X_poly_corrs.sort_values(ascending=False).head(10)"
   ]
  },
  {
   "cell_type": "markdown",
   "metadata": {
    "cell_id": "00069-fd9f897d-abef-4c6e-ba8b-54f95bc5f95d",
    "deepnote_cell_type": "markdown"
   },
   "source": [
    "Unsurprisingly, all of our top features involve some type of temperature variable. To prevent adding too much multicollinearity to our model, we'll pick only three features from this list."
   ]
  },
  {
   "cell_type": "code",
   "execution_count": 43,
   "metadata": {
    "cell_id": "00070-2d6c5146-4e9a-461e-b6c7-57c01eeaaf53",
    "deepnote_cell_type": "code"
   },
   "outputs": [],
   "source": [
    "# Creating interaction features -- only 3 due to multicollinearity issues\n",
    "merged_df['Sunrise_WeekAvgTemp'] = merged_df['Sunrise'] * merged_df['WeekAvgTemp']\n",
    "merged_df['Sunrise_WetBulb'] = merged_df['Sunrise'] * merged_df['WetBulb']\n",
    "merged_df['Week_WeekAvgTemp'] = merged_df['Week'] * merged_df['WeekAvgTemp']"
   ]
  },
  {
   "cell_type": "code",
   "execution_count": 44,
   "metadata": {
    "cell_id": "00041-effcac47-2b66-429e-aa76-0c59cd6047db",
    "deepnote_cell_type": "code",
    "execution_millis": 52,
    "execution_start": 1607931303801,
    "output_cleared": false,
    "source_hash": "337b03ff",
    "tags": []
   },
   "outputs": [],
   "source": [
    "cm = abs(merged_df.corr()['WnvPresent']).sort_values(ascending=False)"
   ]
  },
  {
   "cell_type": "markdown",
   "metadata": {
    "cell_id": "00072-c0a8776d-3b53-4c4b-83b1-6f301964f3db",
    "deepnote_cell_type": "markdown"
   },
   "source": [
    "At this point, we'll look to drop some variables with extremely low correlation to our target. Most of these variables are our trap feature that we one-hot encoded."
   ]
  },
  {
   "cell_type": "code",
   "execution_count": 45,
   "metadata": {
    "cell_id": "00073-05c07861-eacd-4277-be32-c189aaa0635c",
    "deepnote_cell_type": "code"
   },
   "outputs": [
    {
     "data": {
      "text/plain": [
       "Index(['Trap_T013', 'Trap_T230', 'Trap_T014', 'Trap_T148', 'Trap_T016',\n",
       "       'Trap_T043', 'Trap_T018', 'Trap_T212', 'Trap_T145', 'Trap_T074',\n",
       "       ...\n",
       "       'Trap_T162', 'Trap_T156', 'Trap_T039', 'Trap_T142', 'PrecipTotal',\n",
       "       'Trap_T227', 'Trap_T033', 'Trap_T066', 'Trap_T226', 'ResultDir'],\n",
       "      dtype='object', length=132)"
      ]
     },
     "execution_count": 45,
     "metadata": {},
     "output_type": "execute_result"
    }
   ],
   "source": [
    "# Variables with less than 2% correlation to WnvPresent\n",
    "cols_to_drop = cm[cm < 0.02].index\n",
    "cols_to_drop"
   ]
  },
  {
   "cell_type": "code",
   "execution_count": 46,
   "metadata": {
    "cell_id": "00074-f9b8c099-9f42-4d6d-ab0d-454262b8edc5",
    "deepnote_cell_type": "code"
   },
   "outputs": [
    {
     "data": {
      "text/plain": [
       "(10506, 61)"
      ]
     },
     "execution_count": 46,
     "metadata": {},
     "output_type": "execute_result"
    }
   ],
   "source": [
    "merged_df = merged_df.drop(columns=cols_to_drop)\n",
    "merged_df.shape"
   ]
  },
  {
   "cell_type": "markdown",
   "metadata": {
    "cell_id": "00075-c97b320a-f4bb-4045-85d9-8b520ec35453",
    "deepnote_cell_type": "markdown"
   },
   "source": [
    "There's a degree of multicollinearity in our data, but this isn't something we can avoid, given that all of our top variables are too important to drop. Luckily, our interaction features seem to be somewhat distinct from other variables and each other (less than 60% correlation which should limit worsening the effects of multicollinearity)."
   ]
  },
  {
   "cell_type": "code",
   "execution_count": 47,
   "metadata": {
    "cell_id": "00042-13215f60-f03b-480a-8176-ad8b49ae1b45",
    "deepnote_cell_type": "code",
    "tags": []
   },
   "outputs": [
    {
     "data": {
      "text/plain": [
       "<AxesSubplot:>"
      ]
     },
     "execution_count": 47,
     "metadata": {},
     "output_type": "execute_result"
    },
    {
     "data": {
      "image/png": "[encoded data removed]",
      "text/plain": [
       "<Figure size 1400x1400 with 2 Axes>"
      ]
     },
     "metadata": {},
     "output_type": "display_data"
    }
   ],
   "source": [
    "plt.figure(figsize=(14, 14))\n",
    "sns.heatmap(merged_df.corr(), cmap='coolwarm', square=True)"
   ]
  },
  {
   "cell_type": "markdown",
   "metadata": {
    "cell_id": "00077-1f2c6550-e869-4212-94b3-d981f2a8062c",
    "deepnote_cell_type": "markdown"
   },
   "source": [
    "### Selecting Top Features"
   ]
  },
  {
   "cell_type": "code",
   "execution_count": 48,
   "metadata": {
    "cell_id": "00078-182600f0-3c89-429d-b777-7748a1647e16",
    "deepnote_cell_type": "code"
   },
   "outputs": [
    {
     "data": {
      "text/plain": [
       "Sunrise_WeekAvgTemp    0.150030\n",
       "Sunrise_WetBulb        0.143433\n",
       "Week_WeekAvgTemp       0.139110\n",
       "WinterDepart           0.124978\n",
       "templag3               0.120568\n",
       "templag2               0.106181\n",
       "Sunrise                0.105227\n",
       "Week                   0.104171\n",
       "Species                0.103477\n",
       "Month                  0.100143\n",
       "WeekPrecipTotal        0.098721\n",
       "templag4               0.087055\n",
       "DewPoint               0.085883\n",
       "WetBulb                0.080468\n",
       "Tmin                   0.074048\n",
       "Nearest_station        0.071084\n",
       "Sunset                 0.068451\n",
       "templag1               0.065369\n",
       "Tavg                   0.064256\n",
       "Longitude              0.060345\n",
       "Cool                   0.058101\n",
       "WeekAvgTemp            0.054949\n",
       "rainlag4               0.054830\n",
       "Heat                   0.054740\n",
       "YearWeek               0.053012\n",
       "Depart                 0.052586\n",
       "r_humid                0.052098\n",
       "n_codesum              0.051083\n",
       "Year                   0.050865\n",
       "Tmax                   0.048244\n",
       "ResultSpeed            0.046298\n",
       "Trap_T900              0.044220\n",
       "rainlag1               0.038998\n",
       "Trap_T143              0.034433\n",
       "humidlag2              0.030603\n",
       "Trap_T003              0.030296\n",
       "AvgSpeed               0.029416\n",
       "humidlag1              0.029072\n",
       "humidlag4              0.028938\n",
       "Latitude               0.028697\n",
       "Name: WnvPresent, dtype: float64"
      ]
     },
     "execution_count": 48,
     "metadata": {},
     "output_type": "execute_result"
    }
   ],
   "source": [
    "cm = abs(merged_df.corr()['WnvPresent']).sort_values(ascending=False)\n",
    "cm = cm.drop('WnvPresent')\n",
    "cols_to_keep = cm.head(40)\n",
    "cols_to_keep"
   ]
  },
  {
   "cell_type": "code",
   "execution_count": 49,
   "metadata": {
    "cell_id": "00079-4ace791b-0a25-431a-bb3e-4073388299cf",
    "deepnote_cell_type": "code"
   },
   "outputs": [],
   "source": [
    "final_train_df = merged_df[cols_to_keep.keys()]"
   ]
  },
  {
   "cell_type": "markdown",
   "metadata": {
    "cell_id": "00080-146f8a4e-360b-4792-8c99-43ff4acc8781",
    "deepnote_cell_type": "markdown"
   },
   "source": [
    "# Prepare Train & Test for Modelling"
   ]
  },
  {
   "cell_type": "code",
   "execution_count": 50,
   "metadata": {
    "cell_id": "00081-2a8e9bca-d573-434f-a1ed-dd20ecdf8768",
    "deepnote_cell_type": "code"
   },
   "outputs": [],
   "source": [
    "test = pd.get_dummies(test, columns=['Trap'])"
   ]
  },
  {
   "cell_type": "code",
   "execution_count": 51,
   "metadata": {
    "cell_id": "00082-6e53aa26-6957-4dc9-b175-3b46c13655c4",
    "deepnote_cell_type": "code"
   },
   "outputs": [],
   "source": [
    "test['Date'] = pd.to_datetime(test['Date'])"
   ]
  },
  {
   "cell_type": "code",
   "execution_count": 52,
   "metadata": {
    "cell_id": "00083-02dc0f94-0788-444f-ac99-bf652aca8f9f",
    "deepnote_cell_type": "code"
   },
   "outputs": [],
   "source": [
    "test['Species'] = test['Species'].map({'CULEX PIPIENS/RESTUANS': 2, 'CULEX PIPIENS': 2, 'CULEX RESTUANS': 1}).fillna(0)"
   ]
  },
  {
   "cell_type": "code",
   "execution_count": 53,
   "metadata": {
    "cell_id": "00084-af041a9f-fb97-42d1-9e76-42fd4bb1eb40",
    "deepnote_cell_type": "code"
   },
   "outputs": [],
   "source": [
    "merged_test_df = pd.merge(weather, test)"
   ]
  },
  {
   "cell_type": "code",
   "execution_count": 54,
   "metadata": {
    "cell_id": "00085-c7f25037-e057-4401-953f-ff3d22a745aa",
    "deepnote_cell_type": "code"
   },
   "outputs": [
    {
     "data": {
      "text/plain": [
       "Index(['Date', 'AvgSpeed', 'Cool', 'Depart', 'DewPoint', 'Heat', 'PrecipTotal',\n",
       "       'ResultDir', 'ResultSpeed', 'SeaLevel',\n",
       "       ...\n",
       "       'Trap_T231', 'Trap_T232', 'Trap_T233', 'Trap_T234', 'Trap_T235',\n",
       "       'Trap_T236', 'Trap_T237', 'Trap_T238', 'Trap_T900', 'Trap_T903'],\n",
       "      dtype='object', length=203)"
      ]
     },
     "execution_count": 54,
     "metadata": {},
     "output_type": "execute_result"
    }
   ],
   "source": [
    "merged_test_df.columns"
   ]
  },
  {
   "cell_type": "code",
   "execution_count": 55,
   "metadata": {
    "cell_id": "00086-4b6a91f9-2281-4e45-be51-0c7e8f7a81c9",
    "deepnote_cell_type": "code"
   },
   "outputs": [],
   "source": [
    "merged_test_df['Sunrise_WeekAvgTemp'] = merged_test_df['Sunrise'] * merged_test_df['WeekAvgTemp']\n",
    "merged_test_df['Sunrise_WetBulb'] = merged_test_df['Sunrise'] * merged_test_df['WetBulb']\n",
    "merged_test_df['Week_WeekAvgTemp'] = merged_test_df['Week'] * merged_test_df['WeekAvgTemp']"
   ]
  },
  {
   "cell_type": "code",
   "execution_count": 56,
   "metadata": {
    "cell_id": "00087-fbbd545e-c128-4415-9269-e92dfbe6d508",
    "deepnote_cell_type": "code"
   },
   "outputs": [],
   "source": [
    "final_test_df = merged_test_df[cols_to_keep.keys()]"
   ]
  },
  {
   "cell_type": "code",
   "execution_count": 57,
   "metadata": {
    "cell_id": "00088-d8a334bf-78fa-4e72-ae79-361a1c9ba14a",
    "deepnote_cell_type": "code"
   },
   "outputs": [
    {
     "data": {
      "text/plain": [
       "([], [])"
      ]
     },
     "execution_count": 57,
     "metadata": {},
     "output_type": "execute_result"
    }
   ],
   "source": [
    "# Checking for missing columns\n",
    "[col for col in final_test_df if col not in final_train_df], [col for col in final_train_df if col not in final_test_df]"
   ]
  },
  {
   "cell_type": "code",
   "execution_count": 58,
   "metadata": {
    "cell_id": "00089-5c8d33be-c31b-43cd-bc53-a9e439df4aac",
    "deepnote_cell_type": "code"
   },
   "outputs": [
    {
     "data": {
      "text/plain": [
       "(10506, 40)"
      ]
     },
     "execution_count": 58,
     "metadata": {},
     "output_type": "execute_result"
    }
   ],
   "source": [
    "final_train_df.shape"
   ]
  },
  {
   "cell_type": "code",
   "execution_count": 59,
   "metadata": {
    "cell_id": "00090-27ea15fa-ea59-4c51-b484-48afa3394cc7",
    "deepnote_cell_type": "code"
   },
   "outputs": [
    {
     "data": {
      "text/plain": [
       "(116293, 40)"
      ]
     },
     "execution_count": 59,
     "metadata": {},
     "output_type": "execute_result"
    }
   ],
   "source": [
    "final_test_df.shape"
   ]
  },
  {
   "cell_type": "code",
   "execution_count": 60,
   "metadata": {
    "cell_id": "00091-f0eda161-996c-4a95-9f55-7cbb45c4b205",
    "deepnote_cell_type": "code"
   },
   "outputs": [
    {
     "data": {
      "text/plain": [
       "Series([], dtype: int64)"
      ]
     },
     "execution_count": 60,
     "metadata": {},
     "output_type": "execute_result"
    }
   ],
   "source": [
    "final_train_df.isnull().sum()[final_train_df.isnull().sum() > 0]"
   ]
  },
  {
   "cell_type": "code",
   "execution_count": 61,
   "metadata": {
    "cell_id": "00092-2d435a8b-ea9c-4926-9d72-0c6533ce7d58",
    "deepnote_cell_type": "code"
   },
   "outputs": [
    {
     "data": {
      "text/plain": [
       "Series([], dtype: int64)"
      ]
     },
     "execution_count": 61,
     "metadata": {},
     "output_type": "execute_result"
    }
   ],
   "source": [
    "final_test_df.isnull().sum()[final_test_df.isnull().sum() > 0]"
   ]
  },
  {
   "cell_type": "markdown",
   "metadata": {
    "cell_id": "00093-fe4201f0-e0c1-4a92-a321-f78050673ab0",
    "deepnote_cell_type": "markdown"
   },
   "source": [
    "## Export"
   ]
  },
  {
   "cell_type": "code",
   "execution_count": 62,
   "metadata": {
    "cell_id": "00094-3c7cdec1-e755-405e-b058-3fd7153de7ed",
    "deepnote_cell_type": "code"
   },
   "outputs": [],
   "source": [
    "final_train_df.to_csv('./datasets/final_train.csv', index=False)"
   ]
  },
  {
   "cell_type": "code",
   "execution_count": 63,
   "metadata": {
    "cell_id": "00095-46b3b75c-9b58-4172-b330-7d867a356eb6",
    "deepnote_cell_type": "code"
   },
   "outputs": [],
   "source": [
    "final_test_df.to_csv('./datasets/final_test.csv', index=False)"
   ]
  }
 ],
 "metadata": {
  "deepnote_execution_queue": [],
  "deepnote_notebook_id": "8b378fa7-5ea1-45ff-8224-dcf4454c3c39",
  "kernelspec": {
   "display_name": "Python 3 (ipykernel)",
   "language": "python",
   "name": "python3"
  },
  "language_info": {
   "codemirror_mode": {
    "name": "ipython",
    "version": 3
   },
   "file_extension": ".py",
   "mimetype": "text/x-python",
   "name": "python",
   "nbconvert_exporter": "python",
   "pygments_lexer": "ipython3",
   "version": "3.9.12"
  },
  "toc": {
   "base_numbering": 1,
   "nav_menu": {},
   "number_sections": false,
   "sideBar": true,
   "skip_h1_title": false,
   "title_cell": "Table of Contents",
   "title_sidebar": "Contents",
   "toc_cell": false,
   "toc_position": {},
   "toc_section_display": true,
   "toc_window_display": true
  }
 },
 "nbformat": 4,
 "nbformat_minor": 4
}
