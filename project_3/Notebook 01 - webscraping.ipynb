{
 "cells": [
  {
   "cell_type": "markdown",
   "id": "a2ae5ced-ee41-475c-b200-37894ba95ef5",
   "metadata": {},
   "source": [
    "# Project 3 : Webscraping & NLP"
   ]
  },
  {
   "cell_type": "markdown",
   "id": "32eccff8-8eeb-4fa9-9d4c-67e4af62a68b",
   "metadata": {},
   "source": [
    "Notebook 1 of 4"
   ]
  },
  {
   "cell_type": "markdown",
   "id": "850224ba-aba7-40df-baa6-b9c94b1984f4",
   "metadata": {},
   "source": [
    "## Introduction"
   ]
  },
  {
   "cell_type": "markdown",
   "id": "d5021503-bfcf-495a-b050-5d91abf2913a",
   "metadata": {},
   "source": [
    "### Executive Summary\n",
    "Brand positioning and digital presence are two of the important success factors in brand battles nowadays. Companies are doing competitor analysis at various aspects in all manners feasible. There will be multiple subprojects running across multiple platforms from a nationwide community to complete the whole analysis. This project, as a subset of the whole project, focuses ONLY on the Reddit platform and aims to assist Dunkin' Brands Group Inc. - Dunkin' Donuts to know their company's online presence status and product reviews as compared to their largest competitor, Starbucks Corporation. \n",
    "\n",
    "The fact that a subreddit provides an unbiased platform for discussion on all things regarding a brand. Customers, Employees, Connoisseurs, and Executive Chefs are all welcome to join to celebrate, commiserate or inform. Each community supports general discussion of brands whatever their source. [source](https://www.reddit.com/r/DunkinDonuts/) \n",
    "\n",
    "In the first step of all, we utilize the latest Reddit posts from the respective brands and implement a classification model to allocate the posts to either 'Dunkin' Donuts' or 'Starbucks'. The classification model here is binary as the output variable is binary. After evaluating the various models, our top five models are $*Logistic Regression, Extra Tree Classifier, Ridge Classifier, Gradient Boost Classifier, and Random Forest*$. The $Logistic Regression Model$ was chosen as the best model as it gave the best accuracy score.\n",
    "\n",
    "The use cases of this classification model include that we can make use of unbiased posts to assess how the community perceives the Dunkin' Donuts brand as well as the competitor. Besides that, we also gain insights from the community to evaluate or retrospect our marketing strategies to determine the focus and pick up the latest trends. This subsequently helps in forecasting sales and demand, planning additional manpower during seasonal times, and even exploring more customization services.  \n",
    "\n",
    "From the research, Starbucks seems to be more popular and has a more active community than Dunkin's. For both coffee chains, some trending topics are similar. Those topics are their services and new products. After performing sentiments and emotion analysis on the Reddit posts, 'iced coffee' and 'reward' seem to gather more positive sentiments. Thus, these two could be the focus of a marketing campaign. \n",
    "\n",
    "We will be sharing potential future use cases of our work in the later part of Notebook."
   ]
  },
  {
   "cell_type": "markdown",
   "id": "14f59a0b-4862-4e1e-892b-f1d23bd478e7",
   "metadata": {},
   "source": [
    "### Introduction & Problem Statement\n",
    "Dunkin' has a digital presence across Twitter, Facebook, Instagram, and Pinterest and has launched many successful digital campaigns to attract new customers and increase sales. It has implemented a simple strategy to enhance its social media presence, namely, marketing a colorful and quirky personality online. [source](https://unmetric.com/brands/dunkin-donuts) \n",
    "\n",
    "At all times, Dunkin' is commited to leverage technology to provide consumer conveniences, such instance as the launch of integrated On-the-Go mobile ordering application with Google Assistant. [source](https://www.prnewswire.com/news-releases/dunkin-donuts-integrates-on-the-go-mobile-ordering-with-the-google-assistant-300613861.html) The popular Pumpkin Spice Signature Latte and fall range of beverages and snacks, which has released on August 17 and was just ended on September 13. [source](https://hypebae.com/2022/8/dunkin-donuts-fall-menu-pumpkin-spice-latte-coffee-cold-brew-release-info) Dunkin's group is very interested in knowing their brand online presence, their product reviews, and the effectiveness of marketing strategies as compared to their largest competitor, Starbucks. \n",
    "\n",
    "The first step would be to unveil the unbiased trending topics of these two big brands within Reddit. Subsequently, they are exploring ideas from the data across multiple platforms among the nationwide community, including product reviews, the share of voices, and mentioners. We are entrusted to develop a classification model to predict which class a post belongs to. At the same time, we can gain insights from the community to evaluate or retrospect our marketing strategies to determine the focus and to stay current with the latest trends by being consumer-centric and adapting to consumer insights. The customers get to enjoy a better and more pleasant experience with Dunkin'.\n",
    "\n",
    "From the analysis, we identified the recent topics of interest related to the business and the community’s sentiments towards them. Following that, we provided recommendations for boosting their upcoming marketing campaign. That said, this would provide them with an indicative area of focus.\n",
    "\n",
    "*To approach this problem, our goal is to:*\n",
    "- Identify the trending topics from the subreddits of Starbucks and Dunkin Donuts\n",
    "- What are the sentiments and emotions of the community in general and towards the topics/products\n",
    "- Develop a Classification Model to distinguish Starbucks and Dunkin Donuts posts"
   ]
  },
  {
   "cell_type": "markdown",
   "id": "847cc8e2-b565-433f-856b-2c5c279e22d9",
   "metadata": {},
   "source": [
    "#### Key Questions\n",
    "- Which community is more active?\n",
    "- What are the trending topics for each community?\n",
    "- What is the best model to classify posts?\n",
    "- Which products should we focus our marketing on?\n",
    "- Regarding top topics, what are the community’s sentiments and emotions towards them?"
   ]
  },
  {
   "cell_type": "markdown",
   "id": "83227a65-0870-4fa7-88fd-c1510ebaac43",
   "metadata": {},
   "source": [
    "### Data Science Process\n",
    "- Data Collection\n",
    "- Data Cleaning and Exploration\n",
    "- Pre-processing\n",
    "- Modelling\n",
    "- Model Evaluation\n",
    "- Sentiments and Emotions Analysis"
   ]
  },
  {
   "cell_type": "markdown",
   "id": "efa56868-b868-4a48-9773-c962cceb9780",
   "metadata": {},
   "source": [
    "### Data Collection"
   ]
  },
  {
   "cell_type": "markdown",
   "id": "72bbd012-5b46-4e22-82de-53529e0b751d",
   "metadata": {},
   "source": [
    "In this process, we will extract the last 2,500 posts from Dunkin Donuts and Starbucks subreddit respectively for analysis.\n",
    "- Webscrapped using Pushshift Reddit API\n",
    "- Subreddit : Dunkin Donuts and Starbucks\n",
    "- Time Frame : Thursday, September 15, 2022 1137hr GMT+08:00"
   ]
  },
  {
   "cell_type": "code",
   "execution_count": 1,
   "id": "717b7fd6-0eb9-4013-a14d-565c6c240bbb",
   "metadata": {},
   "outputs": [],
   "source": [
    "# import library\n",
    "import requests\n",
    "import json\n",
    "import pandas as pd\n",
    "import time\n",
    "import random"
   ]
  },
  {
   "cell_type": "code",
   "execution_count": 2,
   "id": "6ac0698b-5a9c-466f-b95a-38775a7ff3cd",
   "metadata": {},
   "outputs": [],
   "source": [
    "# create function to get latest utc\n",
    "def get_latest_utc (subreddit):\n",
    "    url = 'https://api.pushshift.io/reddit/search/submission'\n",
    "    params = {'subreddit' : subreddit, 'size' : 1}\n",
    "    res = requests.get(url,params)\n",
    "    print(res.status_code)\n",
    "    reddit_subs = []\n",
    "    if res.status_code != 200:\n",
    "        print(\"error\")\n",
    "    else:\n",
    "        reddit_extract = res.json()\n",
    "        reddit_subs += reddit_extract['data']\n",
    "    utc = reddit_subs[0]['created_utc']\n",
    "    return utc"
   ]
  },
  {
   "cell_type": "code",
   "execution_count": 3,
   "id": "99447315-827d-404b-a50e-b39b92d88841",
   "metadata": {},
   "outputs": [
    {
     "name": "stdout",
     "output_type": "stream",
     "text": [
      "200\n"
     ]
    },
    {
     "data": {
      "text/plain": [
       "1663213037"
      ]
     },
     "execution_count": 3,
     "metadata": {},
     "output_type": "execute_result"
    }
   ],
   "source": [
    "get_latest_utc ('DunkinDonuts')"
   ]
  },
  {
   "cell_type": "code",
   "execution_count": 4,
   "id": "6c0bc6f0-5acb-498a-a59c-a646c9689f6d",
   "metadata": {},
   "outputs": [
    {
     "name": "stdout",
     "output_type": "stream",
     "text": [
      "200\n"
     ]
    },
    {
     "data": {
      "text/plain": [
       "1663230045"
      ]
     },
     "execution_count": 4,
     "metadata": {},
     "output_type": "execute_result"
    }
   ],
   "source": [
    "get_latest_utc ('Starbucks')"
   ]
  },
  {
   "cell_type": "code",
   "execution_count": 5,
   "id": "a74bdce0-b058-4d12-bf6d-36cc95522c30",
   "metadata": {},
   "outputs": [],
   "source": [
    "# create function\n",
    "def extract_data(iteration, subreddit, utc):\n",
    "    # loop test\n",
    "    reddit_subs = []\n",
    "    url = 'https://api.pushshift.io/reddit/search/submission'\n",
    "    params = {'subreddit' : subreddit, 'size' : 250, 'before' : utc}\n",
    "\n",
    "    for i in range(0,iteration):\n",
    "        res = requests.get(url,params)\n",
    "        # print(res.status_code)\n",
    "        if res.status_code != 200:\n",
    "            print(\"error\")\n",
    "        else:\n",
    "            reddit_extract = res.json()\n",
    "            reddit_subs += reddit_extract['data']\n",
    "            params['before'] = reddit_subs[-1]['created_utc']\n",
    "            time.sleep((random.randint(10,20)))\n",
    "            print(f\"batch {i} completed\")\n",
    "                \n",
    "    return reddit_subs"
   ]
  },
  {
   "cell_type": "markdown",
   "id": "cd887857-ce62-4735-87b1-f936e6c9361e",
   "metadata": {},
   "source": [
    "## Webscraping "
   ]
  },
  {
   "cell_type": "markdown",
   "id": "90394ef6-2761-4433-af85-10dfb075b3e4",
   "metadata": {},
   "source": [
    "### Dunkin Donuts"
   ]
  },
  {
   "cell_type": "code",
   "execution_count": 6,
   "id": "5c1bfbd2-6d32-498d-b4a5-cde6d8802147",
   "metadata": {},
   "outputs": [
    {
     "name": "stdout",
     "output_type": "stream",
     "text": [
      "batch 0 completed\n",
      "batch 1 completed\n",
      "batch 2 completed\n",
      "batch 3 completed\n",
      "batch 4 completed\n",
      "batch 5 completed\n",
      "batch 6 completed\n",
      "batch 7 completed\n",
      "batch 8 completed\n",
      "batch 9 completed\n"
     ]
    }
   ],
   "source": [
    "ddonut_df = extract_data(10, 'DunkinDonuts', utc = '1663213037')"
   ]
  },
  {
   "cell_type": "code",
   "execution_count": 7,
   "id": "31f414d8-7d8c-4703-be22-11d8d30ee2b2",
   "metadata": {},
   "outputs": [
    {
     "data": {
      "text/plain": [
       "2498"
      ]
     },
     "execution_count": 7,
     "metadata": {},
     "output_type": "execute_result"
    }
   ],
   "source": [
    "len(ddonut_df)"
   ]
  },
  {
   "cell_type": "code",
   "execution_count": 8,
   "id": "a99ffb44-d732-455a-b07f-9536ee268f02",
   "metadata": {},
   "outputs": [],
   "source": [
    "ddonut_df = pd.DataFrame(ddonut_df)"
   ]
  },
  {
   "cell_type": "code",
   "execution_count": 9,
   "id": "6e70053a-3302-46c0-828c-e495275b49e5",
   "metadata": {},
   "outputs": [
    {
     "data": {
      "text/html": [
       "<div>\n",
       "<style scoped>\n",
       "    .dataframe tbody tr th:only-of-type {\n",
       "        vertical-align: middle;\n",
       "    }\n",
       "\n",
       "    .dataframe tbody tr th {\n",
       "        vertical-align: top;\n",
       "    }\n",
       "\n",
       "    .dataframe thead th {\n",
       "        text-align: right;\n",
       "    }\n",
       "</style>\n",
       "<table border=\"1\" class=\"dataframe\">\n",
       "  <thead>\n",
       "    <tr style=\"text-align: right;\">\n",
       "      <th></th>\n",
       "      <th>subreddit</th>\n",
       "      <th>selftext</th>\n",
       "      <th>title</th>\n",
       "      <th>created_utc</th>\n",
       "    </tr>\n",
       "  </thead>\n",
       "  <tbody>\n",
       "    <tr>\n",
       "      <th>0</th>\n",
       "      <td>DunkinDonuts</td>\n",
       "      <td></td>\n",
       "      <td>My coworker placing the hash browns like army ...</td>\n",
       "      <td>1663204910</td>\n",
       "    </tr>\n",
       "    <tr>\n",
       "      <th>1</th>\n",
       "      <td>DunkinDonuts</td>\n",
       "      <td></td>\n",
       "      <td>whats the deal with these?</td>\n",
       "      <td>1663196066</td>\n",
       "    </tr>\n",
       "    <tr>\n",
       "      <th>2</th>\n",
       "      <td>DunkinDonuts</td>\n",
       "      <td>I know I asked about this before but I'm just ...</td>\n",
       "      <td>Working for dunkin</td>\n",
       "      <td>1663193081</td>\n",
       "    </tr>\n",
       "    <tr>\n",
       "      <th>3</th>\n",
       "      <td>DunkinDonuts</td>\n",
       "      <td>On the door dash app whenever I order drinks s...</td>\n",
       "      <td>How to make the ice tea ordered from door dash...</td>\n",
       "      <td>1663190691</td>\n",
       "    </tr>\n",
       "    <tr>\n",
       "      <th>4</th>\n",
       "      <td>DunkinDonuts</td>\n",
       "      <td></td>\n",
       "      <td>We still got 4 more hours of shift and this is...</td>\n",
       "      <td>1663185603</td>\n",
       "    </tr>\n",
       "    <tr>\n",
       "      <th>...</th>\n",
       "      <td>...</td>\n",
       "      <td>...</td>\n",
       "      <td>...</td>\n",
       "      <td>...</td>\n",
       "    </tr>\n",
       "    <tr>\n",
       "      <th>2493</th>\n",
       "      <td>DunkinDonuts</td>\n",
       "      <td></td>\n",
       "      <td>Tell me HOW a franchise owner of a new Dunkin ...</td>\n",
       "      <td>1643834240</td>\n",
       "    </tr>\n",
       "    <tr>\n",
       "      <th>2494</th>\n",
       "      <td>DunkinDonuts</td>\n",
       "      <td></td>\n",
       "      <td>Tell me HOW an franchise owner of a Dunkin Don...</td>\n",
       "      <td>1643834106</td>\n",
       "    </tr>\n",
       "    <tr>\n",
       "      <th>2495</th>\n",
       "      <td>DunkinDonuts</td>\n",
       "      <td>I ordered a cocoa mocha iced coffee this morni...</td>\n",
       "      <td>What’s the difference between cocoa mocha and ...</td>\n",
       "      <td>1643832284</td>\n",
       "    </tr>\n",
       "    <tr>\n",
       "      <th>2496</th>\n",
       "      <td>DunkinDonuts</td>\n",
       "      <td>Today I had someone manually ring up my order ...</td>\n",
       "      <td>Customer Service Question</td>\n",
       "      <td>1643828728</td>\n",
       "    </tr>\n",
       "    <tr>\n",
       "      <th>2497</th>\n",
       "      <td>DunkinDonuts</td>\n",
       "      <td>I was told they don't offer direct deposit bec...</td>\n",
       "      <td>At an interview with dunkin</td>\n",
       "      <td>1643826859</td>\n",
       "    </tr>\n",
       "  </tbody>\n",
       "</table>\n",
       "<p>2498 rows × 4 columns</p>\n",
       "</div>"
      ],
      "text/plain": [
       "         subreddit                                           selftext  \\\n",
       "0     DunkinDonuts                                                      \n",
       "1     DunkinDonuts                                                      \n",
       "2     DunkinDonuts  I know I asked about this before but I'm just ...   \n",
       "3     DunkinDonuts  On the door dash app whenever I order drinks s...   \n",
       "4     DunkinDonuts                                                      \n",
       "...            ...                                                ...   \n",
       "2493  DunkinDonuts                                                      \n",
       "2494  DunkinDonuts                                                      \n",
       "2495  DunkinDonuts  I ordered a cocoa mocha iced coffee this morni...   \n",
       "2496  DunkinDonuts  Today I had someone manually ring up my order ...   \n",
       "2497  DunkinDonuts  I was told they don't offer direct deposit bec...   \n",
       "\n",
       "                                                  title  created_utc  \n",
       "0     My coworker placing the hash browns like army ...   1663204910  \n",
       "1                            whats the deal with these?   1663196066  \n",
       "2                                    Working for dunkin   1663193081  \n",
       "3     How to make the ice tea ordered from door dash...   1663190691  \n",
       "4     We still got 4 more hours of shift and this is...   1663185603  \n",
       "...                                                 ...          ...  \n",
       "2493  Tell me HOW a franchise owner of a new Dunkin ...   1643834240  \n",
       "2494  Tell me HOW an franchise owner of a Dunkin Don...   1643834106  \n",
       "2495  What’s the difference between cocoa mocha and ...   1643832284  \n",
       "2496                          Customer Service Question   1643828728  \n",
       "2497                        At an interview with dunkin   1643826859  \n",
       "\n",
       "[2498 rows x 4 columns]"
      ]
     },
     "execution_count": 9,
     "metadata": {},
     "output_type": "execute_result"
    }
   ],
   "source": [
    "ddonut_df[['subreddit', 'selftext', 'title', 'created_utc']]"
   ]
  },
  {
   "cell_type": "markdown",
   "id": "40fb9d38-9275-4492-96df-2c232fb3f591",
   "metadata": {},
   "source": [
    "2,498 out of 2,500 Dunkin Donuts posts were extracted. Most posts were extracted dated from 3 February 2022 to 15 September 2022. \n",
    "\n",
    "We will use this dataset for analysis."
   ]
  },
  {
   "cell_type": "markdown",
   "id": "89d6abff-3238-4b84-9084-ea373a9747ce",
   "metadata": {},
   "source": [
    "### Starbucks"
   ]
  },
  {
   "cell_type": "code",
   "execution_count": 10,
   "id": "13e304e9-e0d5-4101-8c28-218615e2837c",
   "metadata": {},
   "outputs": [
    {
     "name": "stdout",
     "output_type": "stream",
     "text": [
      "batch 0 completed\n",
      "batch 1 completed\n",
      "batch 2 completed\n",
      "batch 3 completed\n",
      "batch 4 completed\n",
      "batch 5 completed\n",
      "batch 6 completed\n",
      "batch 7 completed\n",
      "batch 8 completed\n",
      "batch 9 completed\n"
     ]
    }
   ],
   "source": [
    "sbucks_df = extract_data(10, 'Starbucks', utc = '1663213037')"
   ]
  },
  {
   "cell_type": "code",
   "execution_count": 11,
   "id": "f3398b82-a5df-412f-ad24-e3202280bfeb",
   "metadata": {},
   "outputs": [
    {
     "data": {
      "text/plain": [
       "2499"
      ]
     },
     "execution_count": 11,
     "metadata": {},
     "output_type": "execute_result"
    }
   ],
   "source": [
    "len(sbucks_df)"
   ]
  },
  {
   "cell_type": "code",
   "execution_count": 12,
   "id": "10fc6235-69c6-4006-9eaa-98f04a9d56af",
   "metadata": {},
   "outputs": [],
   "source": [
    "sbucks_df = pd.DataFrame(sbucks_df)"
   ]
  },
  {
   "cell_type": "code",
   "execution_count": 13,
   "id": "b89dd669-bc31-4942-a66f-eedadf247a23",
   "metadata": {},
   "outputs": [
    {
     "data": {
      "text/html": [
       "<div>\n",
       "<style scoped>\n",
       "    .dataframe tbody tr th:only-of-type {\n",
       "        vertical-align: middle;\n",
       "    }\n",
       "\n",
       "    .dataframe tbody tr th {\n",
       "        vertical-align: top;\n",
       "    }\n",
       "\n",
       "    .dataframe thead th {\n",
       "        text-align: right;\n",
       "    }\n",
       "</style>\n",
       "<table border=\"1\" class=\"dataframe\">\n",
       "  <thead>\n",
       "    <tr style=\"text-align: right;\">\n",
       "      <th></th>\n",
       "      <th>subreddit</th>\n",
       "      <th>selftext</th>\n",
       "      <th>title</th>\n",
       "      <th>created_utc</th>\n",
       "    </tr>\n",
       "  </thead>\n",
       "  <tbody>\n",
       "    <tr>\n",
       "      <th>0</th>\n",
       "      <td>starbucks</td>\n",
       "      <td>Hi all! Hopefully this question isn’t repetiti...</td>\n",
       "      <td>Interview tips?</td>\n",
       "      <td>1663212467</td>\n",
       "    </tr>\n",
       "    <tr>\n",
       "      <th>1</th>\n",
       "      <td>starbucks</td>\n",
       "      <td></td>\n",
       "      <td>We had horses come through the drive-thru rece...</td>\n",
       "      <td>1663212017</td>\n",
       "    </tr>\n",
       "    <tr>\n",
       "      <th>2</th>\n",
       "      <td>starbucks</td>\n",
       "      <td></td>\n",
       "      <td>Having horses in the drive-thru makes everythi...</td>\n",
       "      <td>1663211903</td>\n",
       "    </tr>\n",
       "    <tr>\n",
       "      <th>3</th>\n",
       "      <td>starbucks</td>\n",
       "      <td></td>\n",
       "      <td>The Coffee Cavaliers/Ristretto Ranchers</td>\n",
       "      <td>1663211763</td>\n",
       "    </tr>\n",
       "    <tr>\n",
       "      <th>4</th>\n",
       "      <td>starbucks</td>\n",
       "      <td>So my birthday is Wednesday and I have no idea...</td>\n",
       "      <td>Free birthday drink coming up</td>\n",
       "      <td>1663211474</td>\n",
       "    </tr>\n",
       "    <tr>\n",
       "      <th>...</th>\n",
       "      <td>...</td>\n",
       "      <td>...</td>\n",
       "      <td>...</td>\n",
       "      <td>...</td>\n",
       "    </tr>\n",
       "    <tr>\n",
       "      <th>2494</th>\n",
       "      <td>starbucks</td>\n",
       "      <td>A week later and the egg is still there and ha...</td>\n",
       "      <td>Siren Freezer Egg</td>\n",
       "      <td>1661206051</td>\n",
       "    </tr>\n",
       "    <tr>\n",
       "      <th>2495</th>\n",
       "      <td>starbucks</td>\n",
       "      <td>just transferred to a new store (it’s my 3rd o...</td>\n",
       "      <td>no one at my store uses shakers for refreshers...</td>\n",
       "      <td>1661205449</td>\n",
       "    </tr>\n",
       "    <tr>\n",
       "      <th>2496</th>\n",
       "      <td>starbucks</td>\n",
       "      <td>So I started a new job because let’s face it, ...</td>\n",
       "      <td>Looks like I may be leaving the Siren</td>\n",
       "      <td>1661205072</td>\n",
       "    </tr>\n",
       "    <tr>\n",
       "      <th>2497</th>\n",
       "      <td>starbucks</td>\n",
       "      <td></td>\n",
       "      <td>Sooo is this like, actually any good?</td>\n",
       "      <td>1661205010</td>\n",
       "    </tr>\n",
       "    <tr>\n",
       "      <th>2498</th>\n",
       "      <td>starbucks</td>\n",
       "      <td>I posted a while back about leaving my positio...</td>\n",
       "      <td>Getting Rehired?</td>\n",
       "      <td>1661204727</td>\n",
       "    </tr>\n",
       "  </tbody>\n",
       "</table>\n",
       "<p>2499 rows × 4 columns</p>\n",
       "</div>"
      ],
      "text/plain": [
       "      subreddit                                           selftext  \\\n",
       "0     starbucks  Hi all! Hopefully this question isn’t repetiti...   \n",
       "1     starbucks                                                      \n",
       "2     starbucks                                                      \n",
       "3     starbucks                                                      \n",
       "4     starbucks  So my birthday is Wednesday and I have no idea...   \n",
       "...         ...                                                ...   \n",
       "2494  starbucks  A week later and the egg is still there and ha...   \n",
       "2495  starbucks  just transferred to a new store (it’s my 3rd o...   \n",
       "2496  starbucks  So I started a new job because let’s face it, ...   \n",
       "2497  starbucks                                                      \n",
       "2498  starbucks  I posted a while back about leaving my positio...   \n",
       "\n",
       "                                                  title  created_utc  \n",
       "0                                       Interview tips?   1663212467  \n",
       "1     We had horses come through the drive-thru rece...   1663212017  \n",
       "2     Having horses in the drive-thru makes everythi...   1663211903  \n",
       "3               The Coffee Cavaliers/Ristretto Ranchers   1663211763  \n",
       "4                         Free birthday drink coming up   1663211474  \n",
       "...                                                 ...          ...  \n",
       "2494                                  Siren Freezer Egg   1661206051  \n",
       "2495  no one at my store uses shakers for refreshers...   1661205449  \n",
       "2496              Looks like I may be leaving the Siren   1661205072  \n",
       "2497              Sooo is this like, actually any good?   1661205010  \n",
       "2498                                   Getting Rehired?   1661204727  \n",
       "\n",
       "[2499 rows x 4 columns]"
      ]
     },
     "execution_count": 13,
     "metadata": {},
     "output_type": "execute_result"
    }
   ],
   "source": [
    "sbucks_df[['subreddit', 'selftext', 'title', 'created_utc']]"
   ]
  },
  {
   "cell_type": "markdown",
   "id": "888bb294-7b24-408d-ba20-d9f396c62f99",
   "metadata": {},
   "source": [
    "2,499 out of 2,500 Starbucks posts were extracted. Most posts were extracted dated from 23 August 2022 to 15 September 2022. \n",
    "\n",
    "We will use this dataset for analysis."
   ]
  },
  {
   "cell_type": "markdown",
   "id": "f51b1f81-461e-469b-a438-251fc08d2c70",
   "metadata": {},
   "source": [
    "## Export Data"
   ]
  },
  {
   "cell_type": "code",
   "execution_count": 14,
   "id": "59aa8481-6471-4a91-869f-0865f088a396",
   "metadata": {},
   "outputs": [],
   "source": [
    "ddonut_df.to_csv(\"./datasets/dunkindonuts.csv\")"
   ]
  },
  {
   "cell_type": "code",
   "execution_count": 15,
   "id": "28b00ed3-6cc8-4146-bd64-d62bb7e886f1",
   "metadata": {},
   "outputs": [],
   "source": [
    "sbucks_df.to_csv(\"./datasets/starbucks.csv\")"
   ]
  },
  {
   "cell_type": "markdown",
   "id": "7562fdb5-3b8a-4397-83ed-b7fd7100b07b",
   "metadata": {},
   "source": [
    "## Data Collection Summary\n",
    "We webscrapped data using Pushshift Reddit API. In this process, we intended to extract the last 2,500 posts from Dunkin Donuts and Starbucks subreddit respectively for analysis. The timeframe we set was before September 15, 2022 1137hr GMT+08:00.\n",
    "\n",
    "2,498 out of 2,500 Dunkin Donuts posts were extracted. Most posts were extracted dated from 3 February 2022 to 15 September 2022.\n",
    "\n",
    "2,499 out of 2,500 Starbucks posts were extracted. Most posts were extracted dated from 23 August 2022 to 15 September 2022. "
   ]
  },
  {
   "cell_type": "code",
   "execution_count": null,
   "id": "91e548d4-4ce0-4516-aad1-d98f32b75767",
   "metadata": {},
   "outputs": [],
   "source": []
  }
 ],
 "metadata": {
  "kernelspec": {
   "display_name": "Python 3 (ipykernel)",
   "language": "python",
   "name": "python3"
  },
  "language_info": {
   "codemirror_mode": {
    "name": "ipython",
    "version": 3
   },
   "file_extension": ".py",
   "mimetype": "text/x-python",
   "name": "python",
   "nbconvert_exporter": "python",
   "pygments_lexer": "ipython3",
   "version": "3.9.12"
  }
 },
 "nbformat": 4,
 "nbformat_minor": 5
}
