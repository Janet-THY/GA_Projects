{
 "cells": [
  {
   "cell_type": "code",
   "execution_count": 1,
   "id": "8951ea3d-d50a-4abc-97a9-c084f846820c",
   "metadata": {},
   "outputs": [],
   "source": [
    "import requests"
   ]
  },
  {
   "cell_type": "code",
   "execution_count": 2,
   "id": "f6ff2c12-b27b-4342-8c1d-744d630d143f",
   "metadata": {},
   "outputs": [],
   "source": [
    "url = 'https://api.pushshift.io/reddit/search/submission'"
   ]
  },
  {
   "cell_type": "code",
   "execution_count": 23,
   "id": "be2d13d0-1ff6-4d23-8d59-61d9e3e73eab",
   "metadata": {},
   "outputs": [],
   "source": [
    "params = {\n",
    "    'subreddit' : 'selfimprovement',\n",
    "    'size' : 100,\n",
    "    'before' : 1661587434\n",
    "}"
   ]
  },
  {
   "cell_type": "code",
   "execution_count": 14,
   "id": "ab8e331c-5196-413a-8469-caf035949045",
   "metadata": {},
   "outputs": [],
   "source": [
    "res = requests.get(url,params)"
   ]
  },
  {
   "cell_type": "code",
   "execution_count": 5,
   "id": "7f88f0cd-6acf-4547-a923-d3e6c870953d",
   "metadata": {},
   "outputs": [
    {
     "data": {
      "text/plain": [
       "200"
      ]
     },
     "execution_count": 5,
     "metadata": {},
     "output_type": "execute_result"
    }
   ],
   "source": [
    "res.status_code"
   ]
  },
  {
   "cell_type": "code",
   "execution_count": 15,
   "id": "90009624-7fd4-40b0-a0ab-444b6998ba8c",
   "metadata": {},
   "outputs": [],
   "source": [
    "data = res.json()"
   ]
  },
  {
   "cell_type": "code",
   "execution_count": 16,
   "id": "fb10d5c9-7796-459b-aaf3-1a33148e2aca",
   "metadata": {},
   "outputs": [],
   "source": [
    "post = data['data']"
   ]
  },
  {
   "cell_type": "code",
   "execution_count": 17,
   "id": "21a0425e-070a-4168-8430-df5a16f54ffc",
   "metadata": {},
   "outputs": [
    {
     "data": {
      "text/plain": [
       "100"
      ]
     },
     "execution_count": 17,
     "metadata": {},
     "output_type": "execute_result"
    }
   ],
   "source": [
    "len(post)"
   ]
  },
  {
   "cell_type": "code",
   "execution_count": 27,
   "id": "011877cd-afcd-4370-ae6c-bcbf3089f7ce",
   "metadata": {},
   "outputs": [
    {
     "data": {
      "text/plain": [
       "{'all_awardings': [],\n",
       " 'allow_live_comments': False,\n",
       " 'author': 'MarvelMMMST',\n",
       " 'author_flair_css_class': None,\n",
       " 'author_flair_richtext': [],\n",
       " 'author_flair_text': None,\n",
       " 'author_flair_type': 'text',\n",
       " 'author_fullname': 't2_dtb8mkm6',\n",
       " 'author_is_blocked': False,\n",
       " 'author_patreon_flair': False,\n",
       " 'author_premium': False,\n",
       " 'awarders': [],\n",
       " 'can_mod_post': False,\n",
       " 'contest_mode': False,\n",
       " 'created_utc': 1661459776,\n",
       " 'domain': 'self.selfimprovement',\n",
       " 'full_link': 'https://www.reddit.com/r/selfimprovement/comments/wxosas/i_get_motivated_and_start_to_think_positively_but/',\n",
       " 'gildings': {},\n",
       " 'id': 'wxosas',\n",
       " 'is_created_from_ads_ui': False,\n",
       " 'is_crosspostable': True,\n",
       " 'is_meta': False,\n",
       " 'is_original_content': False,\n",
       " 'is_reddit_media_domain': False,\n",
       " 'is_robot_indexable': True,\n",
       " 'is_self': True,\n",
       " 'is_video': False,\n",
       " 'link_flair_background_color': '#dadada',\n",
       " 'link_flair_richtext': [],\n",
       " 'link_flair_template_id': 'daf40582-1e96-11ed-a26c-aad6fb65f35d',\n",
       " 'link_flair_text': 'Other',\n",
       " 'link_flair_text_color': 'dark',\n",
       " 'link_flair_type': 'text',\n",
       " 'locked': False,\n",
       " 'media_only': False,\n",
       " 'no_follow': False,\n",
       " 'num_comments': 0,\n",
       " 'num_crossposts': 0,\n",
       " 'over_18': False,\n",
       " 'parent_whitelist_status': 'all_ads',\n",
       " 'permalink': '/r/selfimprovement/comments/wxosas/i_get_motivated_and_start_to_think_positively_but/',\n",
       " 'pinned': False,\n",
       " 'pwls': 6,\n",
       " 'retrieved_on': 1661459786,\n",
       " 'score': 1,\n",
       " 'selftext': \"Like what the hell man.. what's real and what's not.\\n\\nI feel like I'm consuming too many opinions from the internet about various of things and I just don't know who to believe.\\n\\nSorry for letting my mind go free, just wanted to let my thoughts out.\",\n",
       " 'send_replies': True,\n",
       " 'spoiler': False,\n",
       " 'stickied': False,\n",
       " 'subreddit': 'selfimprovement',\n",
       " 'subreddit_id': 't5_2qmbm',\n",
       " 'subreddit_subscribers': 1183307,\n",
       " 'subreddit_type': 'public',\n",
       " 'thumbnail': 'self',\n",
       " 'title': \"I get motivated and start to think positively, but then right after I remember about the real life and the real world and everything that I just thought and set my mind to just shuts down and I feel like I can't acomplish anything.. i just basically get sad.\",\n",
       " 'total_awards_received': 0,\n",
       " 'treatment_tags': [],\n",
       " 'upvote_ratio': 1.0,\n",
       " 'url': 'https://www.reddit.com/r/selfimprovement/comments/wxosas/i_get_motivated_and_start_to_think_positively_but/',\n",
       " 'whitelist_status': 'all_ads',\n",
       " 'wls': 6}"
      ]
     },
     "execution_count": 27,
     "metadata": {},
     "output_type": "execute_result"
    }
   ],
   "source": [
    "post[99]"
   ]
  },
  {
   "cell_type": "code",
   "execution_count": 19,
   "id": "d82af883-3089-422e-bdf7-e4ca0db36fd1",
   "metadata": {},
   "outputs": [],
   "source": [
    "import pandas as pd"
   ]
  },
  {
   "cell_type": "code",
   "execution_count": 20,
   "id": "b69bc077-54f3-4ce8-a420-e03dbce05d06",
   "metadata": {},
   "outputs": [],
   "source": [
    "df = pd.DataFrame(post)"
   ]
  },
  {
   "cell_type": "code",
   "execution_count": 22,
   "id": "45ef83ae-e9b4-47f9-b622-8e553c6df7d6",
   "metadata": {},
   "outputs": [
    {
     "data": {
      "text/html": [
       "<div>\n",
       "<style scoped>\n",
       "    .dataframe tbody tr th:only-of-type {\n",
       "        vertical-align: middle;\n",
       "    }\n",
       "\n",
       "    .dataframe tbody tr th {\n",
       "        vertical-align: top;\n",
       "    }\n",
       "\n",
       "    .dataframe thead th {\n",
       "        text-align: right;\n",
       "    }\n",
       "</style>\n",
       "<table border=\"1\" class=\"dataframe\">\n",
       "  <thead>\n",
       "    <tr style=\"text-align: right;\">\n",
       "      <th></th>\n",
       "      <th>subreddit</th>\n",
       "      <th>selftext</th>\n",
       "      <th>title</th>\n",
       "    </tr>\n",
       "  </thead>\n",
       "  <tbody>\n",
       "    <tr>\n",
       "      <th>0</th>\n",
       "      <td>selfimprovement</td>\n",
       "      <td>Today was brutal and my body aches in a scary ...</td>\n",
       "      <td>Kindness is hard but I won’t back down</td>\n",
       "    </tr>\n",
       "    <tr>\n",
       "      <th>1</th>\n",
       "      <td>selfimprovement</td>\n",
       "      <td>Hello everyone! Hope all of you are having a g...</td>\n",
       "      <td>How do you stop?</td>\n",
       "    </tr>\n",
       "    <tr>\n",
       "      <th>2</th>\n",
       "      <td>selfimprovement</td>\n",
       "      <td>why is it that I am always looking forward for...</td>\n",
       "      <td>looking for someone to share our goals and ach...</td>\n",
       "    </tr>\n",
       "    <tr>\n",
       "      <th>3</th>\n",
       "      <td>selfimprovement</td>\n",
       "      <td>i always told myself that I am not afraid of c...</td>\n",
       "      <td>i hate conflicts</td>\n",
       "    </tr>\n",
       "    <tr>\n",
       "      <th>4</th>\n",
       "      <td>selfimprovement</td>\n",
       "      <td>Its like i am not the one in control of what i...</td>\n",
       "      <td>Does anything exist that makes it easier to re...</td>\n",
       "    </tr>\n",
       "  </tbody>\n",
       "</table>\n",
       "</div>"
      ],
      "text/plain": [
       "         subreddit                                           selftext  \\\n",
       "0  selfimprovement  Today was brutal and my body aches in a scary ...   \n",
       "1  selfimprovement  Hello everyone! Hope all of you are having a g...   \n",
       "2  selfimprovement  why is it that I am always looking forward for...   \n",
       "3  selfimprovement  i always told myself that I am not afraid of c...   \n",
       "4  selfimprovement  Its like i am not the one in control of what i...   \n",
       "\n",
       "                                               title  \n",
       "0             Kindness is hard but I won’t back down  \n",
       "1                                   How do you stop?  \n",
       "2  looking for someone to share our goals and ach...  \n",
       "3                                   i hate conflicts  \n",
       "4  Does anything exist that makes it easier to re...  "
      ]
     },
     "execution_count": 22,
     "metadata": {},
     "output_type": "execute_result"
    }
   ],
   "source": [
    "df[['subreddit','selftext','title']].head()"
   ]
  },
  {
   "cell_type": "code",
   "execution_count": 91,
   "id": "2976ab1e-0d05-4b10-b851-45b3a58ad6be",
   "metadata": {},
   "outputs": [],
   "source": [
    "params = {\n",
    "    'subreddit' : 'selfimprovement',\n",
    "    'size' : 100,\n",
    "    'before' : 1658428514\n",
    "}"
   ]
  },
  {
   "cell_type": "code",
   "execution_count": 92,
   "id": "536bb24c-ee05-4749-977f-4fc12e797942",
   "metadata": {},
   "outputs": [],
   "source": [
    "res = requests.get(url,params)"
   ]
  },
  {
   "cell_type": "code",
   "execution_count": 93,
   "id": "a2874212-43f5-472a-8a42-5c92c3f9f7f6",
   "metadata": {},
   "outputs": [],
   "source": [
    "data = res.json()"
   ]
  },
  {
   "cell_type": "code",
   "execution_count": 94,
   "id": "69451b49-77f4-4670-81f9-c4dff90e7859",
   "metadata": {},
   "outputs": [],
   "source": [
    "post = data['data']"
   ]
  },
  {
   "cell_type": "code",
   "execution_count": 95,
   "id": "68096904-075e-437c-b298-ddec47741a6b",
   "metadata": {},
   "outputs": [
    {
     "data": {
      "text/plain": [
       "100"
      ]
     },
     "execution_count": 95,
     "metadata": {},
     "output_type": "execute_result"
    }
   ],
   "source": [
    "len(post)"
   ]
  },
  {
   "cell_type": "code",
   "execution_count": 96,
   "id": "a3e363d5-1067-4a8f-afb2-4cd0408ed20d",
   "metadata": {},
   "outputs": [
    {
     "data": {
      "text/plain": [
       "{'all_awardings': [],\n",
       " 'allow_live_comments': False,\n",
       " 'author': 'NuclearEudelxd',\n",
       " 'author_flair_css_class': None,\n",
       " 'author_flair_richtext': [],\n",
       " 'author_flair_text': None,\n",
       " 'author_flair_type': 'text',\n",
       " 'author_fullname': 't2_7cn5ao0q',\n",
       " 'author_is_blocked': False,\n",
       " 'author_patreon_flair': False,\n",
       " 'author_premium': False,\n",
       " 'awarders': [],\n",
       " 'can_mod_post': False,\n",
       " 'contest_mode': False,\n",
       " 'created_utc': 1658335204,\n",
       " 'domain': 'self.selfimprovement',\n",
       " 'full_link': 'https://www.reddit.com/r/selfimprovement/comments/w3qzhc/so_the_first_step_in_self_development_is_better/',\n",
       " 'gildings': {},\n",
       " 'id': 'w3qzhc',\n",
       " 'is_created_from_ads_ui': False,\n",
       " 'is_crosspostable': True,\n",
       " 'is_meta': False,\n",
       " 'is_original_content': False,\n",
       " 'is_reddit_media_domain': False,\n",
       " 'is_robot_indexable': True,\n",
       " 'is_self': True,\n",
       " 'is_video': False,\n",
       " 'link_flair_background_color': '',\n",
       " 'link_flair_richtext': [],\n",
       " 'link_flair_text_color': 'dark',\n",
       " 'link_flair_type': 'text',\n",
       " 'locked': False,\n",
       " 'media_only': False,\n",
       " 'no_follow': False,\n",
       " 'num_comments': 0,\n",
       " 'num_crossposts': 0,\n",
       " 'over_18': False,\n",
       " 'parent_whitelist_status': 'all_ads',\n",
       " 'permalink': '/r/selfimprovement/comments/w3qzhc/so_the_first_step_in_self_development_is_better/',\n",
       " 'pinned': False,\n",
       " 'pwls': 6,\n",
       " 'retrieved_on': 1658335214,\n",
       " 'score': 1,\n",
       " 'selftext': \"So if ypu want success in life you have to understand that the mind is just a tool for achieving your goals. But you have to maintain it sharp and clear so it won't take control over you. Some good way to make your mental health better is trough meditation. I personally recommend the medito app but there are a lot more that you can try.\\nAlso a good method to improve your mental health is trough journaling your important thoughts and your goals. (do it on paper, digitally is for pu**iesl\",\n",
       " 'send_replies': True,\n",
       " 'spoiler': False,\n",
       " 'stickied': False,\n",
       " 'subreddit': 'selfimprovement',\n",
       " 'subreddit_id': 't5_2qmbm',\n",
       " 'subreddit_subscribers': 1164620,\n",
       " 'subreddit_type': 'public',\n",
       " 'thumbnail': 'self',\n",
       " 'title': 'So the first step in self development is better mental health',\n",
       " 'total_awards_received': 0,\n",
       " 'treatment_tags': [],\n",
       " 'upvote_ratio': 1.0,\n",
       " 'url': 'https://www.reddit.com/r/selfimprovement/comments/w3qzhc/so_the_first_step_in_self_development_is_better/',\n",
       " 'whitelist_status': 'all_ads',\n",
       " 'wls': 6}"
      ]
     },
     "execution_count": 96,
     "metadata": {},
     "output_type": "execute_result"
    }
   ],
   "source": [
    "post[99]"
   ]
  },
  {
   "cell_type": "code",
   "execution_count": null,
   "id": "d1ce2869-fb74-497e-94ca-a402a58d5ea1",
   "metadata": {},
   "outputs": [],
   "source": [
    "posts = []\n",
    "for i in range (:10):\n",
    "    params = {\n",
    "    'subreddit' : 'selfimprovement',\n",
    "    'size' : 100,\n",
    "    'before' : post[99]['created_utc']\n",
    "    }\n",
    "    res = requests.get(url,params)"
   ]
  },
  {
   "cell_type": "code",
   "execution_count": null,
   "id": "36363c3a-9e41-45b5-bc15-6f463e4184a8",
   "metadata": {},
   "outputs": [],
   "source": [
    "post = data['data'][99]['created_utc']"
   ]
  },
  {
   "cell_type": "code",
   "execution_count": null,
   "id": "3302ad54-4a14-442a-9cb8-aaee82083d3b",
   "metadata": {},
   "outputs": [],
   "source": []
  },
  {
   "cell_type": "code",
   "execution_count": null,
   "id": "98d663ad-35c6-4ece-9455-c749462e4b01",
   "metadata": {},
   "outputs": [],
   "source": []
  },
  {
   "cell_type": "code",
   "execution_count": null,
   "id": "27ffff5a-2afa-46be-b3d7-babd23a3ae55",
   "metadata": {},
   "outputs": [],
   "source": []
  },
  {
   "cell_type": "code",
   "execution_count": null,
   "id": "b8a14943-ca6e-4d60-a7b4-118df7d31ba8",
   "metadata": {},
   "outputs": [],
   "source": [
    "# size is reduced to 100, do a few more times\n",
    "# dont choose too small dataset, 1000 non-null per subreddit, avoid videos/ pictures\n",
    "# choose topics now, NBA vs football(focus not on accuracy)\n",
    "# 2 subreddits dont be too much different, similar either in term of genre\n",
    "# multiple/ separate notebooks, download as csv\n",
    "# save data somewhere \n",
    "# from 2 subreddits, predict which subreddit it belongs \n",
    "# business values, whom we really serving => problem statement"
   ]
  },
  {
   "cell_type": "code",
   "execution_count": null,
   "id": "65240f99-ca46-4b78-aa43-d37456731d13",
   "metadata": {},
   "outputs": [],
   "source": [
    "# extract threads, comments"
   ]
  },
  {
   "cell_type": "code",
   "execution_count": null,
   "id": "cc47e71b-7337-46fc-855b-d1596079c27c",
   "metadata": {},
   "outputs": [],
   "source": [
    "# depression vs xxx "
   ]
  },
  {
   "cell_type": "code",
   "execution_count": null,
   "id": "585b06b4-e0ca-49fb-83ad-6b039e80d05c",
   "metadata": {},
   "outputs": [],
   "source": [
    "# jobs vs "
   ]
  },
  {
   "cell_type": "code",
   "execution_count": null,
   "id": "b3c85659-9662-4d82-b681-5cdccba654ce",
   "metadata": {},
   "outputs": [],
   "source": [
    "# self-improvemnt vs career guidance"
   ]
  },
  {
   "cell_type": "code",
   "execution_count": null,
   "id": "1dfa86d4-ca88-4571-888c-382f1acd90dc",
   "metadata": {},
   "outputs": [],
   "source": []
  }
 ],
 "metadata": {
  "kernelspec": {
   "display_name": "Python 3 (ipykernel)",
   "language": "python",
   "name": "python3"
  },
  "language_info": {
   "codemirror_mode": {
    "name": "ipython",
    "version": 3
   },
   "file_extension": ".py",
   "mimetype": "text/x-python",
   "name": "python",
   "nbconvert_exporter": "python",
   "pygments_lexer": "ipython3",
   "version": "3.9.12"
  }
 },
 "nbformat": 4,
 "nbformat_minor": 5
}
