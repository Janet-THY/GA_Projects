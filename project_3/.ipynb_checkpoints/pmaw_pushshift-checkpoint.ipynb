{
 "cells": [
  {
   "cell_type": "code",
   "execution_count": 1,
   "id": "f7dc90c1-a052-4e97-9ddc-0a82f04e26fb",
   "metadata": {},
   "outputs": [
    {
     "name": "stdout",
     "output_type": "stream",
     "text": [
      "Collecting pmaw\n",
      "  Downloading pmaw-2.1.3-py3-none-any.whl (25 kB)\n",
      "Requirement already satisfied: requests in c:\\users\\yuner\\anaconda3\\lib\\site-packages (from pmaw) (2.27.1)\n",
      "Collecting praw\n",
      "  Downloading praw-7.6.0-py3-none-any.whl (188 kB)\n",
      "     -------------------------------------- 188.2/188.2 kB 5.7 MB/s eta 0:00:00\n",
      "Requirement already satisfied: websocket-client>=0.54.0 in c:\\users\\yuner\\anaconda3\\lib\\site-packages (from praw->pmaw) (0.58.0)\n",
      "Collecting update-checker>=0.18\n",
      "  Downloading update_checker-0.18.0-py3-none-any.whl (7.0 kB)\n",
      "Collecting prawcore<3,>=2.1\n",
      "  Downloading prawcore-2.3.0-py3-none-any.whl (16 kB)\n",
      "Requirement already satisfied: urllib3<1.27,>=1.21.1 in c:\\users\\yuner\\anaconda3\\lib\\site-packages (from requests->pmaw) (1.26.9)\n",
      "Requirement already satisfied: charset-normalizer~=2.0.0 in c:\\users\\yuner\\anaconda3\\lib\\site-packages (from requests->pmaw) (2.0.4)\n",
      "Requirement already satisfied: certifi>=2017.4.17 in c:\\users\\yuner\\anaconda3\\lib\\site-packages (from requests->pmaw) (2022.6.15)\n",
      "Requirement already satisfied: idna<4,>=2.5 in c:\\users\\yuner\\anaconda3\\lib\\site-packages (from requests->pmaw) (3.3)\n",
      "Requirement already satisfied: six in c:\\users\\yuner\\anaconda3\\lib\\site-packages (from websocket-client>=0.54.0->praw->pmaw) (1.16.0)\n",
      "Installing collected packages: update-checker, prawcore, praw, pmaw\n",
      "Successfully installed pmaw-2.1.3 praw-7.6.0 prawcore-2.3.0 update-checker-0.18.0\n",
      "Note: you may need to restart the kernel to use updated packages.\n"
     ]
    }
   ],
   "source": [
    "pip install pmaw"
   ]
  },
  {
   "cell_type": "code",
   "execution_count": 4,
   "id": "40b273b2-a4f3-40a5-8bfb-4b77db5785c6",
   "metadata": {},
   "outputs": [
    {
     "name": "stderr",
     "output_type": "stream",
     "text": [
      "Not all PushShift shards are active. Query results may be incomplete.\n",
      "Not all PushShift shards are active. Query results may be incomplete.\n",
      "Not all PushShift shards are active. Query results may be incomplete.\n",
      "Not all PushShift shards are active. Query results may be incomplete.\n",
      "Not all PushShift shards are active. Query results may be incomplete.\n",
      "Not all PushShift shards are active. Query results may be incomplete.\n",
      "Not all PushShift shards are active. Query results may be incomplete.\n",
      "Not all PushShift shards are active. Query results may be incomplete.\n",
      "Not all PushShift shards are active. Query results may be incomplete.\n",
      "Not all PushShift shards are active. Query results may be incomplete.\n",
      "Not all PushShift shards are active. Query results may be incomplete.\n",
      "Not all PushShift shards are active. Query results may be incomplete.\n",
      "Not all PushShift shards are active. Query results may be incomplete.\n",
      "Not all PushShift shards are active. Query results may be incomplete.\n",
      "Not all PushShift shards are active. Query results may be incomplete.\n",
      "Not all PushShift shards are active. Query results may be incomplete.\n",
      "Not all PushShift shards are active. Query results may be incomplete.\n",
      "Not all PushShift shards are active. Query results may be incomplete.\n",
      "Not all PushShift shards are active. Query results may be incomplete.\n",
      "Not all PushShift shards are active. Query results may be incomplete.\n",
      "Not all PushShift shards are active. Query results may be incomplete.\n"
     ]
    }
   ],
   "source": [
    "from pmaw import PushshiftAPI\n",
    "\n",
    "api = PushshiftAPI()\n",
    "posts = api.search_submissions(subreddit=\"DunkinDonuts\", limit=10000)\n",
    "post_list = [post for post in posts]"
   ]
  },
  {
   "cell_type": "code",
   "execution_count": 5,
   "id": "455e0ac3-ab8f-4c85-b0b0-c18b15b9c211",
   "metadata": {},
   "outputs": [
    {
     "data": {
      "text/plain": [
       "9806"
      ]
     },
     "execution_count": 5,
     "metadata": {},
     "output_type": "execute_result"
    }
   ],
   "source": [
    "len(post_list)"
   ]
  },
  {
   "cell_type": "code",
   "execution_count": 7,
   "id": "8f3e4566-0d1d-4333-8197-28e8c31b7e69",
   "metadata": {},
   "outputs": [
    {
     "name": "stderr",
     "output_type": "stream",
     "text": [
      "Not all PushShift shards are active. Query results may be incomplete.\n"
     ]
    }
   ],
   "source": [
    "posts_s = api.search_submissions(subreddit=\"Starbucks\", limit=10000)\n",
    "post_list_s = [post for post in posts_s]"
   ]
  },
  {
   "cell_type": "code",
   "execution_count": 8,
   "id": "5e6b7bcc-79af-4f7a-b9b4-b7d7dd67e91f",
   "metadata": {},
   "outputs": [
    {
     "data": {
      "text/plain": [
       "10000"
      ]
     },
     "execution_count": 8,
     "metadata": {},
     "output_type": "execute_result"
    }
   ],
   "source": [
    "len(post_list_s)"
   ]
  },
  {
   "cell_type": "code",
   "execution_count": null,
   "id": "5da863da-2423-477f-a4f5-ec88dcb62fcc",
   "metadata": {},
   "outputs": [],
   "source": []
  }
 ],
 "metadata": {
  "kernelspec": {
   "display_name": "Python 3 (ipykernel)",
   "language": "python",
   "name": "python3"
  },
  "language_info": {
   "codemirror_mode": {
    "name": "ipython",
    "version": 3
   },
   "file_extension": ".py",
   "mimetype": "text/x-python",
   "name": "python",
   "nbconvert_exporter": "python",
   "pygments_lexer": "ipython3",
   "version": "3.9.12"
  }
 },
 "nbformat": 4,
 "nbformat_minor": 5
}
