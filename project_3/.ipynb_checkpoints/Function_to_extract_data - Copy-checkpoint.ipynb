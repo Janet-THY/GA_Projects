{
 "cells": [
  {
   "cell_type": "markdown",
   "id": "a2ae5ced-ee41-475c-b200-37894ba95ef5",
   "metadata": {},
   "source": [
    "# Project 3 : Webscraping & NLP"
   ]
  },
  {
   "cell_type": "markdown",
   "id": "32eccff8-8eeb-4fa9-9d4c-67e4af62a68b",
   "metadata": {},
   "source": [
    "Notebook 1 of x"
   ]
  },
  {
   "cell_type": "markdown",
   "id": "850224ba-aba7-40df-baa6-b9c94b1984f4",
   "metadata": {},
   "source": [
    "## Introduction"
   ]
  },
  {
   "cell_type": "code",
   "execution_count": 1,
   "id": "717b7fd6-0eb9-4013-a14d-565c6c240bbb",
   "metadata": {},
   "outputs": [],
   "source": [
    "# import library\n",
    "import requests\n",
    "import json\n",
    "import pandas as pd\n",
    "import time\n",
    "import random"
   ]
  },
  {
   "cell_type": "markdown",
   "id": "4c5bb715-6bf3-4b5a-b20a-1b3eb4dfb368",
   "metadata": {},
   "source": [
    "### Webscrapping"
   ]
  },
  {
   "cell_type": "code",
   "execution_count": null,
   "id": "58e7ddad-1a52-4e0e-9b93-998d3a3d41e0",
   "metadata": {},
   "outputs": [],
   "source": [
    "# establish link and connect to api\n",
    "# url = 'https://api.pushshift.io/reddit/search/submission'\n",
    "# params = {'subreddit' : 'DunkinDonuts', 'size' : 1}\n",
    "# res = requests.get(url,params)\n",
    "# print(res.status_code)"
   ]
  },
  {
   "cell_type": "code",
   "execution_count": null,
   "id": "cbc7b56f-f522-4856-8568-9124cf46faef",
   "metadata": {},
   "outputs": [],
   "source": [
    "# get first utc\n",
    "# reddit_subs = []\n",
    "# if res.status_code != 200:\n",
    "#     print(\"error\")\n",
    "# else:\n",
    "#     reddit_extract = res.json()\n",
    "#     reddit_subs += reddit_extract['data']\n",
    "# utc = reddit_subs[0]['created_utc']\n",
    "# utc"
   ]
  },
  {
   "cell_type": "code",
   "execution_count": null,
   "id": "6ac0698b-5a9c-466f-b95a-38775a7ff3cd",
   "metadata": {},
   "outputs": [],
   "source": [
    "# create function to get latest utc\n",
    "def get_latest_utc (subreddit):\n",
    "    url = 'https://api.pushshift.io/reddit/search/submission'\n",
    "    params = {'subreddit' : subreddit, 'size' : 1}\n",
    "    res = requests.get(url,params)\n",
    "    print(res.status_code)\n",
    "    reddit_subs = []\n",
    "    if res.status_code != 200:\n",
    "        print(\"error\")\n",
    "    else:\n",
    "        reddit_extract = res.json()\n",
    "        reddit_subs += reddit_extract['data']\n",
    "    utc = reddit_subs[0]['created_utc']\n",
    "    return utc"
   ]
  },
  {
   "cell_type": "code",
   "execution_count": null,
   "id": "99447315-827d-404b-a50e-b39b92d88841",
   "metadata": {},
   "outputs": [],
   "source": []
  },
  {
   "cell_type": "code",
   "execution_count": 8,
   "id": "a74bdce0-b058-4d12-bf6d-36cc95522c30",
   "metadata": {},
   "outputs": [],
   "source": [
    "# create function\n",
    "def extract_data(iteration, subreddit, utc):\n",
    "    # loop test\n",
    "    reddit_subs = []\n",
    "    url = 'https://api.pushshift.io/reddit/search/submission'\n",
    "    params = {'subreddit' : subreddit, 'size' : 250, 'before' : utc}\n",
    "\n",
    "    for i in range(0,iteration):\n",
    "        res = requests.get(url,params)\n",
    "        # print(res.status_code)\n",
    "        if res.status_code != 200:\n",
    "            print(\"error\")\n",
    "        else:\n",
    "            reddit_extract = res.json()\n",
    "            reddit_subs += reddit_extract['data']\n",
    "            params['before'] = reddit_subs[-1]['created_utc']\n",
    "            time.sleep((random.randint(10,20)))\n",
    "            print(f\"batch {i} completed\")\n",
    "                \n",
    "    return reddit_subs"
   ]
  },
  {
   "cell_type": "markdown",
   "id": "cd887857-ce62-4735-87b1-f936e6c9361e",
   "metadata": {},
   "source": [
    "## Data Collection"
   ]
  },
  {
   "cell_type": "markdown",
   "id": "90394ef6-2761-4433-af85-10dfb075b3e4",
   "metadata": {},
   "source": [
    "### Dunkin Donuts"
   ]
  },
  {
   "cell_type": "code",
   "execution_count": 9,
   "id": "5c1bfbd2-6d32-498d-b4a5-cde6d8802147",
   "metadata": {},
   "outputs": [
    {
     "name": "stdout",
     "output_type": "stream",
     "text": [
      "batch 0 completed\n",
      "batch 1 completed\n",
      "batch 2 completed\n",
      "batch 3 completed\n",
      "batch 4 completed\n",
      "batch 5 completed\n",
      "batch 6 completed\n",
      "batch 7 completed\n",
      "batch 8 completed\n",
      "batch 9 completed\n"
     ]
    }
   ],
   "source": [
    "ddonut_df = extract_data(10, 'DunkinDonuts', utc = '1661869542')"
   ]
  },
  {
   "cell_type": "code",
   "execution_count": 10,
   "id": "31f414d8-7d8c-4703-be22-11d8d30ee2b2",
   "metadata": {},
   "outputs": [
    {
     "data": {
      "text/plain": [
       "2498"
      ]
     },
     "execution_count": 10,
     "metadata": {},
     "output_type": "execute_result"
    }
   ],
   "source": [
    "len(ddonut_df)"
   ]
  },
  {
   "cell_type": "code",
   "execution_count": 11,
   "id": "a99ffb44-d732-455a-b07f-9536ee268f02",
   "metadata": {},
   "outputs": [],
   "source": [
    "ddonut_df = pd.DataFrame(ddonut_df)"
   ]
  },
  {
   "cell_type": "code",
   "execution_count": 12,
   "id": "6e70053a-3302-46c0-828c-e495275b49e5",
   "metadata": {},
   "outputs": [
    {
     "data": {
      "text/html": [
       "<div>\n",
       "<style scoped>\n",
       "    .dataframe tbody tr th:only-of-type {\n",
       "        vertical-align: middle;\n",
       "    }\n",
       "\n",
       "    .dataframe tbody tr th {\n",
       "        vertical-align: top;\n",
       "    }\n",
       "\n",
       "    .dataframe thead th {\n",
       "        text-align: right;\n",
       "    }\n",
       "</style>\n",
       "<table border=\"1\" class=\"dataframe\">\n",
       "  <thead>\n",
       "    <tr style=\"text-align: right;\">\n",
       "      <th></th>\n",
       "      <th>subreddit</th>\n",
       "      <th>selftext</th>\n",
       "      <th>title</th>\n",
       "      <th>created_utc</th>\n",
       "    </tr>\n",
       "  </thead>\n",
       "  <tbody>\n",
       "    <tr>\n",
       "      <th>0</th>\n",
       "      <td>DunkinDonuts</td>\n",
       "      <td>Pumpkin Small: $1.99\\n\\nOriginal Small: $2.29\\...</td>\n",
       "      <td>How come the pumpkin coffee is less expensive ...</td>\n",
       "      <td>1661865444</td>\n",
       "    </tr>\n",
       "    <tr>\n",
       "      <th>1</th>\n",
       "      <td>DunkinDonuts</td>\n",
       "      <td>A few weeks ago someone posted a comment about...</td>\n",
       "      <td>Dunkin App Zip Code Issue</td>\n",
       "      <td>1661863663</td>\n",
       "    </tr>\n",
       "    <tr>\n",
       "      <th>2</th>\n",
       "      <td>DunkinDonuts</td>\n",
       "      <td>I keep asking but none of my stores give it in...</td>\n",
       "      <td>vanilla bean flavor</td>\n",
       "      <td>1661856065</td>\n",
       "    </tr>\n",
       "    <tr>\n",
       "      <th>3</th>\n",
       "      <td>DunkinDonuts</td>\n",
       "      <td>a world of possibilities</td>\n",
       "      <td>bread cheese egg bacon sausage potato</td>\n",
       "      <td>1661829226</td>\n",
       "    </tr>\n",
       "    <tr>\n",
       "      <th>4</th>\n",
       "      <td>DunkinDonuts</td>\n",
       "      <td></td>\n",
       "      <td>Anyone know if this is legit and in all states?</td>\n",
       "      <td>1661817194</td>\n",
       "    </tr>\n",
       "    <tr>\n",
       "      <th>...</th>\n",
       "      <td>...</td>\n",
       "      <td>...</td>\n",
       "      <td>...</td>\n",
       "      <td>...</td>\n",
       "    </tr>\n",
       "    <tr>\n",
       "      <th>2493</th>\n",
       "      <td>DunkinDonuts</td>\n",
       "      <td>[removed]</td>\n",
       "      <td>DD is no longer a more affordable option for y...</td>\n",
       "      <td>1642182940</td>\n",
       "    </tr>\n",
       "    <tr>\n",
       "      <th>2494</th>\n",
       "      <td>DunkinDonuts</td>\n",
       "      <td></td>\n",
       "      <td>$6.18 for two egg and cheese wraps, miss the Go2s</td>\n",
       "      <td>1642180889</td>\n",
       "    </tr>\n",
       "    <tr>\n",
       "      <th>2495</th>\n",
       "      <td>DunkinDonuts</td>\n",
       "      <td>[removed]</td>\n",
       "      <td>Confused about the hiring process</td>\n",
       "      <td>1642180107</td>\n",
       "    </tr>\n",
       "    <tr>\n",
       "      <th>2496</th>\n",
       "      <td>DunkinDonuts</td>\n",
       "      <td></td>\n",
       "      <td>Should have checked it before I got to work…</td>\n",
       "      <td>1642171640</td>\n",
       "    </tr>\n",
       "    <tr>\n",
       "      <th>2497</th>\n",
       "      <td>DunkinDonuts</td>\n",
       "      <td></td>\n",
       "      <td>Roxxie is very unhappy with the size of the dr...</td>\n",
       "      <td>1642166039</td>\n",
       "    </tr>\n",
       "  </tbody>\n",
       "</table>\n",
       "<p>2498 rows × 4 columns</p>\n",
       "</div>"
      ],
      "text/plain": [
       "         subreddit                                           selftext  \\\n",
       "0     DunkinDonuts  Pumpkin Small: $1.99\\n\\nOriginal Small: $2.29\\...   \n",
       "1     DunkinDonuts  A few weeks ago someone posted a comment about...   \n",
       "2     DunkinDonuts  I keep asking but none of my stores give it in...   \n",
       "3     DunkinDonuts                           a world of possibilities   \n",
       "4     DunkinDonuts                                                      \n",
       "...            ...                                                ...   \n",
       "2493  DunkinDonuts                                          [removed]   \n",
       "2494  DunkinDonuts                                                      \n",
       "2495  DunkinDonuts                                          [removed]   \n",
       "2496  DunkinDonuts                                                      \n",
       "2497  DunkinDonuts                                                      \n",
       "\n",
       "                                                  title  created_utc  \n",
       "0     How come the pumpkin coffee is less expensive ...   1661865444  \n",
       "1                             Dunkin App Zip Code Issue   1661863663  \n",
       "2                                   vanilla bean flavor   1661856065  \n",
       "3                 bread cheese egg bacon sausage potato   1661829226  \n",
       "4       Anyone know if this is legit and in all states?   1661817194  \n",
       "...                                                 ...          ...  \n",
       "2493  DD is no longer a more affordable option for y...   1642182940  \n",
       "2494  $6.18 for two egg and cheese wraps, miss the Go2s   1642180889  \n",
       "2495                  Confused about the hiring process   1642180107  \n",
       "2496       Should have checked it before I got to work…   1642171640  \n",
       "2497  Roxxie is very unhappy with the size of the dr...   1642166039  \n",
       "\n",
       "[2498 rows x 4 columns]"
      ]
     },
     "execution_count": 12,
     "metadata": {},
     "output_type": "execute_result"
    }
   ],
   "source": [
    "ddonut_df[['subreddit', 'selftext', 'title', 'created_utc']]"
   ]
  },
  {
   "cell_type": "markdown",
   "id": "89d6abff-3238-4b84-9084-ea373a9747ce",
   "metadata": {},
   "source": [
    "### Starbucks"
   ]
  },
  {
   "cell_type": "code",
   "execution_count": 9,
   "id": "13e304e9-e0d5-4101-8c28-218615e2837c",
   "metadata": {},
   "outputs": [
    {
     "name": "stdout",
     "output_type": "stream",
     "text": [
      "batch 0 completed\n",
      "batch 1 completed\n",
      "batch 2 completed\n",
      "batch 3 completed\n",
      "batch 4 completed\n",
      "batch 5 completed\n",
      "batch 6 completed\n",
      "batch 7 completed\n",
      "batch 8 completed\n",
      "batch 9 completed\n"
     ]
    }
   ],
   "source": [
    "sbucks_df = extract_data(10, 'Starbucks', utc = '1661869542')"
   ]
  },
  {
   "cell_type": "code",
   "execution_count": 10,
   "id": "f3398b82-a5df-412f-ad24-e3202280bfeb",
   "metadata": {},
   "outputs": [
    {
     "data": {
      "text/plain": [
       "2498"
      ]
     },
     "execution_count": 10,
     "metadata": {},
     "output_type": "execute_result"
    }
   ],
   "source": [
    "len(ddonut_df)"
   ]
  },
  {
   "cell_type": "code",
   "execution_count": 11,
   "id": "10fc6235-69c6-4006-9eaa-98f04a9d56af",
   "metadata": {},
   "outputs": [],
   "source": [
    "ddonut_df = pd.DataFrame(ddonut_df)"
   ]
  },
  {
   "cell_type": "code",
   "execution_count": 12,
   "id": "b89dd669-bc31-4942-a66f-eedadf247a23",
   "metadata": {},
   "outputs": [
    {
     "data": {
      "text/html": [
       "<div>\n",
       "<style scoped>\n",
       "    .dataframe tbody tr th:only-of-type {\n",
       "        vertical-align: middle;\n",
       "    }\n",
       "\n",
       "    .dataframe tbody tr th {\n",
       "        vertical-align: top;\n",
       "    }\n",
       "\n",
       "    .dataframe thead th {\n",
       "        text-align: right;\n",
       "    }\n",
       "</style>\n",
       "<table border=\"1\" class=\"dataframe\">\n",
       "  <thead>\n",
       "    <tr style=\"text-align: right;\">\n",
       "      <th></th>\n",
       "      <th>subreddit</th>\n",
       "      <th>selftext</th>\n",
       "      <th>title</th>\n",
       "      <th>created_utc</th>\n",
       "    </tr>\n",
       "  </thead>\n",
       "  <tbody>\n",
       "    <tr>\n",
       "      <th>0</th>\n",
       "      <td>DunkinDonuts</td>\n",
       "      <td>Pumpkin Small: $1.99\\n\\nOriginal Small: $2.29\\...</td>\n",
       "      <td>How come the pumpkin coffee is less expensive ...</td>\n",
       "      <td>1661865444</td>\n",
       "    </tr>\n",
       "    <tr>\n",
       "      <th>1</th>\n",
       "      <td>DunkinDonuts</td>\n",
       "      <td>A few weeks ago someone posted a comment about...</td>\n",
       "      <td>Dunkin App Zip Code Issue</td>\n",
       "      <td>1661863663</td>\n",
       "    </tr>\n",
       "    <tr>\n",
       "      <th>2</th>\n",
       "      <td>DunkinDonuts</td>\n",
       "      <td>I keep asking but none of my stores give it in...</td>\n",
       "      <td>vanilla bean flavor</td>\n",
       "      <td>1661856065</td>\n",
       "    </tr>\n",
       "    <tr>\n",
       "      <th>3</th>\n",
       "      <td>DunkinDonuts</td>\n",
       "      <td>a world of possibilities</td>\n",
       "      <td>bread cheese egg bacon sausage potato</td>\n",
       "      <td>1661829226</td>\n",
       "    </tr>\n",
       "    <tr>\n",
       "      <th>4</th>\n",
       "      <td>DunkinDonuts</td>\n",
       "      <td></td>\n",
       "      <td>Anyone know if this is legit and in all states?</td>\n",
       "      <td>1661817194</td>\n",
       "    </tr>\n",
       "    <tr>\n",
       "      <th>...</th>\n",
       "      <td>...</td>\n",
       "      <td>...</td>\n",
       "      <td>...</td>\n",
       "      <td>...</td>\n",
       "    </tr>\n",
       "    <tr>\n",
       "      <th>2493</th>\n",
       "      <td>DunkinDonuts</td>\n",
       "      <td>[removed]</td>\n",
       "      <td>DD is no longer a more affordable option for y...</td>\n",
       "      <td>1642182940</td>\n",
       "    </tr>\n",
       "    <tr>\n",
       "      <th>2494</th>\n",
       "      <td>DunkinDonuts</td>\n",
       "      <td></td>\n",
       "      <td>$6.18 for two egg and cheese wraps, miss the Go2s</td>\n",
       "      <td>1642180889</td>\n",
       "    </tr>\n",
       "    <tr>\n",
       "      <th>2495</th>\n",
       "      <td>DunkinDonuts</td>\n",
       "      <td>[removed]</td>\n",
       "      <td>Confused about the hiring process</td>\n",
       "      <td>1642180107</td>\n",
       "    </tr>\n",
       "    <tr>\n",
       "      <th>2496</th>\n",
       "      <td>DunkinDonuts</td>\n",
       "      <td></td>\n",
       "      <td>Should have checked it before I got to work…</td>\n",
       "      <td>1642171640</td>\n",
       "    </tr>\n",
       "    <tr>\n",
       "      <th>2497</th>\n",
       "      <td>DunkinDonuts</td>\n",
       "      <td></td>\n",
       "      <td>Roxxie is very unhappy with the size of the dr...</td>\n",
       "      <td>1642166039</td>\n",
       "    </tr>\n",
       "  </tbody>\n",
       "</table>\n",
       "<p>2498 rows × 4 columns</p>\n",
       "</div>"
      ],
      "text/plain": [
       "         subreddit                                           selftext  \\\n",
       "0     DunkinDonuts  Pumpkin Small: $1.99\\n\\nOriginal Small: $2.29\\...   \n",
       "1     DunkinDonuts  A few weeks ago someone posted a comment about...   \n",
       "2     DunkinDonuts  I keep asking but none of my stores give it in...   \n",
       "3     DunkinDonuts                           a world of possibilities   \n",
       "4     DunkinDonuts                                                      \n",
       "...            ...                                                ...   \n",
       "2493  DunkinDonuts                                          [removed]   \n",
       "2494  DunkinDonuts                                                      \n",
       "2495  DunkinDonuts                                          [removed]   \n",
       "2496  DunkinDonuts                                                      \n",
       "2497  DunkinDonuts                                                      \n",
       "\n",
       "                                                  title  created_utc  \n",
       "0     How come the pumpkin coffee is less expensive ...   1661865444  \n",
       "1                             Dunkin App Zip Code Issue   1661863663  \n",
       "2                                   vanilla bean flavor   1661856065  \n",
       "3                 bread cheese egg bacon sausage potato   1661829226  \n",
       "4       Anyone know if this is legit and in all states?   1661817194  \n",
       "...                                                 ...          ...  \n",
       "2493  DD is no longer a more affordable option for y...   1642182940  \n",
       "2494  $6.18 for two egg and cheese wraps, miss the Go2s   1642180889  \n",
       "2495                  Confused about the hiring process   1642180107  \n",
       "2496       Should have checked it before I got to work…   1642171640  \n",
       "2497  Roxxie is very unhappy with the size of the dr...   1642166039  \n",
       "\n",
       "[2498 rows x 4 columns]"
      ]
     },
     "execution_count": 12,
     "metadata": {},
     "output_type": "execute_result"
    }
   ],
   "source": [
    "ddonut_df[['subreddit', 'selftext', 'title', 'created_utc']]"
   ]
  },
  {
   "cell_type": "markdown",
   "id": "f51b1f81-461e-469b-a438-251fc08d2c70",
   "metadata": {},
   "source": [
    "## Export Data"
   ]
  },
  {
   "cell_type": "code",
   "execution_count": null,
   "id": "59aa8481-6471-4a91-869f-0865f088a396",
   "metadata": {},
   "outputs": [],
   "source": [
    "ddonut_df.to_csv(\"datasets/dunkindonuts.csv\")"
   ]
  },
  {
   "cell_type": "code",
   "execution_count": null,
   "id": "28b00ed3-6cc8-4146-bd64-d62bb7e886f1",
   "metadata": {},
   "outputs": [],
   "source": [
    "ddonut_df.to_csv(\"datasets/dunkindonuts.csv\")"
   ]
  }
 ],
 "metadata": {
  "kernelspec": {
   "display_name": "Python 3 (ipykernel)",
   "language": "python",
   "name": "python3"
  },
  "language_info": {
   "codemirror_mode": {
    "name": "ipython",
    "version": 3
   },
   "file_extension": ".py",
   "mimetype": "text/x-python",
   "name": "python",
   "nbconvert_exporter": "python",
   "pygments_lexer": "ipython3",
   "version": "3.9.12"
  }
 },
 "nbformat": 4,
 "nbformat_minor": 5
}
