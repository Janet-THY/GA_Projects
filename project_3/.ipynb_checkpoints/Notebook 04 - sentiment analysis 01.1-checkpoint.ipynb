{
 "cells": [
  {
   "cell_type": "markdown",
   "id": "6c93fe72-d917-4076-adb9-67dc22703c57",
   "metadata": {},
   "source": [
    "# Sentiment and Emotion Analysis"
   ]
  },
  {
   "cell_type": "markdown",
   "id": "46a7eb51-769b-4076-bb69-fd48d4fe9354",
   "metadata": {},
   "source": [
    "Notebook 4 of 4"
   ]
  },
  {
   "cell_type": "markdown",
   "id": "6f1cc045-8c17-4b1d-a5c1-bfd2f87f77b1",
   "metadata": {},
   "source": [
    "We will analyse the posts from each of the subreddits as well as some of the major topics from each to get understanding on the communities sentiment and emotion. In order to do so, we will utilise the Hugging Face pre-trained models for sentiment analysis as well as emotion analysis.\n",
    " \n",
    "The topics for each subreddit we will explore are:\n",
    "- Dunkin Donuts\n",
    " 1. dunkin donuts \n",
    " 2. cold brew \n",
    " 3. butter pecan\n",
    " 4. local dunkin\n",
    " 5. reward (free drinks, free beverages, point) \n",
    " 6. service (mobile order, drive through, staff) \n",
    " 7. barista\n",
    " \n",
    "- Starbucks\n",
    " 1. dress code \n",
    " 2. pumpkin spice\n",
    " 3. cold brew\n",
    " 4. fall launch\n",
    " 5. reward (free drinks, free beverages, point) \n",
    " 6. service (mobile order, drive through, staff) \n",
    " 7. barista\n",
    " \n",
    "Dunkin Donuts and Starbucks have common beverages as well as their signature unique products. We conducted analysis on the top 3 most popular products for each subreddit based on the frequency of the words appear in the subreddit. The local and upcoming launch of product are also hot topics in both subreddits. Reward system and service are areas to check for review. Barista was amazingly being mentioned more in Starbucks tha Dunkin. \n"
   ]
  },
  {
   "cell_type": "markdown",
   "id": "e064b9ad-725e-463a-927e-718fae92f29e",
   "metadata": {},
   "source": [
    "## Import Clean Data"
   ]
  },
  {
   "cell_type": "code",
   "execution_count": 1,
   "id": "a604592e-2077-417f-8083-c3ea3e06f0ff",
   "metadata": {},
   "outputs": [],
   "source": [
    "# import libraries\n",
    "import pandas as pd\n",
    "import numpy as np\n",
    "import seaborn as sns\n",
    "import matplotlib.pyplot as plt\n",
    "from nltk.tokenize import word_tokenize, RegexpTokenizer\n",
    "from transformers import pipeline"
   ]
  },
  {
   "cell_type": "code",
   "execution_count": 2,
   "id": "2dea8d91-8dcc-410c-91f1-d33293837c24",
   "metadata": {},
   "outputs": [
    {
     "data": {
      "text/plain": [
       "(4997, 6)"
      ]
     },
     "execution_count": 2,
     "metadata": {},
     "output_type": "execute_result"
    }
   ],
   "source": [
    "combined_df = pd.read_csv('./datasets/combined_cleaned.csv')\n",
    "combined_df.shape"
   ]
  },
  {
   "cell_type": "code",
   "execution_count": 3,
   "id": "94c99b62-e1f1-47c7-9285-bdd771e27cb1",
   "metadata": {},
   "outputs": [
    {
     "name": "stdout",
     "output_type": "stream",
     "text": [
      "<class 'pandas.core.frame.DataFrame'>\n",
      "RangeIndex: 4997 entries, 0 to 4996\n",
      "Data columns (total 6 columns):\n",
      " #   Column          Non-Null Count  Dtype \n",
      "---  ------          --------------  ----- \n",
      " 0   Unnamed: 0      4997 non-null   int64 \n",
      " 1   subreddit       4997 non-null   int64 \n",
      " 2   selftext        3279 non-null   object\n",
      " 3   title           4996 non-null   object\n",
      " 4   created_utc     4997 non-null   int64 \n",
      " 5   title_selftext  4997 non-null   object\n",
      "dtypes: int64(3), object(3)\n",
      "memory usage: 234.4+ KB\n"
     ]
    }
   ],
   "source": [
    "combined_df.info()"
   ]
  },
  {
   "cell_type": "code",
   "execution_count": 4,
   "id": "d6f57d1e-093c-4014-a7d7-642dfd00c229",
   "metadata": {},
   "outputs": [
    {
     "data": {
      "text/html": [
       "<div>\n",
       "<style scoped>\n",
       "    .dataframe tbody tr th:only-of-type {\n",
       "        vertical-align: middle;\n",
       "    }\n",
       "\n",
       "    .dataframe tbody tr th {\n",
       "        vertical-align: top;\n",
       "    }\n",
       "\n",
       "    .dataframe thead th {\n",
       "        text-align: right;\n",
       "    }\n",
       "</style>\n",
       "<table border=\"1\" class=\"dataframe\">\n",
       "  <thead>\n",
       "    <tr style=\"text-align: right;\">\n",
       "      <th></th>\n",
       "      <th>Unnamed: 0</th>\n",
       "      <th>subreddit</th>\n",
       "      <th>selftext</th>\n",
       "      <th>title</th>\n",
       "      <th>created_utc</th>\n",
       "      <th>title_selftext</th>\n",
       "    </tr>\n",
       "  </thead>\n",
       "  <tbody>\n",
       "    <tr>\n",
       "      <th>0</th>\n",
       "      <td>0</td>\n",
       "      <td>1</td>\n",
       "      <td>NaN</td>\n",
       "      <td>my coworker placing the hash browns like army ...</td>\n",
       "      <td>1663204910</td>\n",
       "      <td>my coworker placing the hash browns like army ...</td>\n",
       "    </tr>\n",
       "    <tr>\n",
       "      <th>1</th>\n",
       "      <td>1</td>\n",
       "      <td>1</td>\n",
       "      <td>NaN</td>\n",
       "      <td>whats the deal with these?</td>\n",
       "      <td>1663196066</td>\n",
       "      <td>whats the deal with these? nan</td>\n",
       "    </tr>\n",
       "    <tr>\n",
       "      <th>2</th>\n",
       "      <td>2</td>\n",
       "      <td>1</td>\n",
       "      <td>I know I asked about this before but I'm just ...</td>\n",
       "      <td>working for dunkin</td>\n",
       "      <td>1663193081</td>\n",
       "      <td>working for dunkin i know i asked about this b...</td>\n",
       "    </tr>\n",
       "  </tbody>\n",
       "</table>\n",
       "</div>"
      ],
      "text/plain": [
       "   Unnamed: 0  subreddit                                           selftext  \\\n",
       "0           0          1                                                NaN   \n",
       "1           1          1                                                NaN   \n",
       "2           2          1  I know I asked about this before but I'm just ...   \n",
       "\n",
       "                                               title  created_utc  \\\n",
       "0  my coworker placing the hash browns like army ...   1663204910   \n",
       "1                         whats the deal with these?   1663196066   \n",
       "2                                 working for dunkin   1663193081   \n",
       "\n",
       "                                      title_selftext  \n",
       "0  my coworker placing the hash browns like army ...  \n",
       "1                     whats the deal with these? nan  \n",
       "2  working for dunkin i know i asked about this b...  "
      ]
     },
     "execution_count": 4,
     "metadata": {},
     "output_type": "execute_result"
    }
   ],
   "source": [
    "combined_df.head(3)"
   ]
  },
  {
   "cell_type": "code",
   "execution_count": 5,
   "id": "5155930a",
   "metadata": {},
   "outputs": [],
   "source": [
    "# drop unnecessary columns\n",
    "combined_df = combined_df.drop(columns = ['Unnamed: 0', 'selftext', 'title_selftext'], axis=1)"
   ]
  },
  {
   "cell_type": "code",
   "execution_count": 6,
   "id": "a529927a-8d1a-4c08-aa98-b8d82105559a",
   "metadata": {},
   "outputs": [
    {
     "data": {
      "text/plain": [
       "subreddit      0\n",
       "title          1\n",
       "created_utc    0\n",
       "dtype: int64"
      ]
     },
     "execution_count": 6,
     "metadata": {},
     "output_type": "execute_result"
    }
   ],
   "source": [
    "# check for null values\n",
    "combined_df.isnull().sum()"
   ]
  },
  {
   "cell_type": "code",
   "execution_count": 7,
   "id": "7610a6df",
   "metadata": {},
   "outputs": [],
   "source": [
    "# drop null\n",
    "combined_df = combined_df.dropna()"
   ]
  },
  {
   "cell_type": "code",
   "execution_count": 8,
   "id": "0c38d54f",
   "metadata": {},
   "outputs": [
    {
     "data": {
      "text/plain": [
       "subreddit      0.0\n",
       "title          0.0\n",
       "created_utc    0.0\n",
       "dtype: float64"
      ]
     },
     "execution_count": 8,
     "metadata": {},
     "output_type": "execute_result"
    }
   ],
   "source": [
    "# check for empty values\n",
    "combined_df[combined_df['title'] == ''].sum()"
   ]
  },
  {
   "cell_type": "markdown",
   "id": "7e6eb31b-316d-4c19-b4c4-2eaa51460e66",
   "metadata": {},
   "source": [
    "There is no missing values in dataset now."
   ]
  },
  {
   "cell_type": "markdown",
   "id": "7ab464b8-8805-4178-82a9-0923a25b88ba",
   "metadata": {},
   "source": [
    "### Tokenize words and join back into a sentence to remove unwanted characters"
   ]
  },
  {
   "cell_type": "code",
   "execution_count": 9,
   "id": "eb0da46b-6056-477a-9968-a1d0958581fb",
   "metadata": {},
   "outputs": [],
   "source": [
    "tokenizer = RegexpTokenizer(r'\\w+')"
   ]
  },
  {
   "cell_type": "code",
   "execution_count": 10,
   "id": "ac4b5e41-e867-4cd8-947d-a9f7a6731c80",
   "metadata": {},
   "outputs": [
    {
     "data": {
      "text/html": [
       "<div>\n",
       "<style scoped>\n",
       "    .dataframe tbody tr th:only-of-type {\n",
       "        vertical-align: middle;\n",
       "    }\n",
       "\n",
       "    .dataframe tbody tr th {\n",
       "        vertical-align: top;\n",
       "    }\n",
       "\n",
       "    .dataframe thead th {\n",
       "        text-align: right;\n",
       "    }\n",
       "</style>\n",
       "<table border=\"1\" class=\"dataframe\">\n",
       "  <thead>\n",
       "    <tr style=\"text-align: right;\">\n",
       "      <th></th>\n",
       "      <th>subreddit</th>\n",
       "      <th>title</th>\n",
       "      <th>created_utc</th>\n",
       "      <th>tokenized</th>\n",
       "    </tr>\n",
       "  </thead>\n",
       "  <tbody>\n",
       "    <tr>\n",
       "      <th>0</th>\n",
       "      <td>1</td>\n",
       "      <td>my coworker placing the hash browns like army ...</td>\n",
       "      <td>1663204910</td>\n",
       "      <td>[my, coworker, placing, the, hash, browns, lik...</td>\n",
       "    </tr>\n",
       "    <tr>\n",
       "      <th>1</th>\n",
       "      <td>1</td>\n",
       "      <td>whats the deal with these?</td>\n",
       "      <td>1663196066</td>\n",
       "      <td>[whats, the, deal, with, these]</td>\n",
       "    </tr>\n",
       "    <tr>\n",
       "      <th>2</th>\n",
       "      <td>1</td>\n",
       "      <td>working for dunkin</td>\n",
       "      <td>1663193081</td>\n",
       "      <td>[working, for, dunkin]</td>\n",
       "    </tr>\n",
       "  </tbody>\n",
       "</table>\n",
       "</div>"
      ],
      "text/plain": [
       "   subreddit                                              title  created_utc  \\\n",
       "0          1  my coworker placing the hash browns like army ...   1663204910   \n",
       "1          1                         whats the deal with these?   1663196066   \n",
       "2          1                                 working for dunkin   1663193081   \n",
       "\n",
       "                                           tokenized  \n",
       "0  [my, coworker, placing, the, hash, browns, lik...  \n",
       "1                    [whats, the, deal, with, these]  \n",
       "2                             [working, for, dunkin]  "
      ]
     },
     "execution_count": 10,
     "metadata": {},
     "output_type": "execute_result"
    }
   ],
   "source": [
    "combined_df['tokenized'] = combined_df['title'].apply(lambda x: tokenizer.tokenize(x.lower()))\n",
    "combined_df.head(3)"
   ]
  },
  {
   "cell_type": "code",
   "execution_count": 11,
   "id": "c8e3de39-b837-4611-b360-4c390745ee04",
   "metadata": {},
   "outputs": [
    {
     "data": {
      "text/html": [
       "<div>\n",
       "<style scoped>\n",
       "    .dataframe tbody tr th:only-of-type {\n",
       "        vertical-align: middle;\n",
       "    }\n",
       "\n",
       "    .dataframe tbody tr th {\n",
       "        vertical-align: top;\n",
       "    }\n",
       "\n",
       "    .dataframe thead th {\n",
       "        text-align: right;\n",
       "    }\n",
       "</style>\n",
       "<table border=\"1\" class=\"dataframe\">\n",
       "  <thead>\n",
       "    <tr style=\"text-align: right;\">\n",
       "      <th></th>\n",
       "      <th>subreddit</th>\n",
       "      <th>title</th>\n",
       "      <th>created_utc</th>\n",
       "      <th>tokenized</th>\n",
       "    </tr>\n",
       "  </thead>\n",
       "  <tbody>\n",
       "    <tr>\n",
       "      <th>0</th>\n",
       "      <td>1</td>\n",
       "      <td>my coworker placing the hash browns like army ...</td>\n",
       "      <td>1663204910</td>\n",
       "      <td>[my, coworker, placing, the, hash, browns, lik...</td>\n",
       "    </tr>\n",
       "    <tr>\n",
       "      <th>1</th>\n",
       "      <td>1</td>\n",
       "      <td>whats the deal with these</td>\n",
       "      <td>1663196066</td>\n",
       "      <td>[whats, the, deal, with, these]</td>\n",
       "    </tr>\n",
       "    <tr>\n",
       "      <th>2</th>\n",
       "      <td>1</td>\n",
       "      <td>working for dunkin</td>\n",
       "      <td>1663193081</td>\n",
       "      <td>[working, for, dunkin]</td>\n",
       "    </tr>\n",
       "  </tbody>\n",
       "</table>\n",
       "</div>"
      ],
      "text/plain": [
       "   subreddit                                              title  created_utc  \\\n",
       "0          1  my coworker placing the hash browns like army ...   1663204910   \n",
       "1          1                          whats the deal with these   1663196066   \n",
       "2          1                                 working for dunkin   1663193081   \n",
       "\n",
       "                                           tokenized  \n",
       "0  [my, coworker, placing, the, hash, browns, lik...  \n",
       "1                    [whats, the, deal, with, these]  \n",
       "2                             [working, for, dunkin]  "
      ]
     },
     "execution_count": 11,
     "metadata": {},
     "output_type": "execute_result"
    }
   ],
   "source": [
    "combined_df['title'] = combined_df['tokenized'].apply(lambda x: \" \".join(x))\n",
    "combined_df.head(3)"
   ]
  },
  {
   "cell_type": "markdown",
   "id": "f6cead8e-7279-4e78-95a7-b272a084bb6c",
   "metadata": {},
   "source": [
    "### Separate into Starbucks and Dunkin Donuts datasets for analysis"
   ]
  },
  {
   "cell_type": "code",
   "execution_count": 12,
   "id": "4bea73e9-10f4-4ba9-90df-3fc3ab7cbd05",
   "metadata": {},
   "outputs": [
    {
     "data": {
      "text/plain": [
       "(2498, 4)"
      ]
     },
     "execution_count": 12,
     "metadata": {},
     "output_type": "execute_result"
    }
   ],
   "source": [
    "ddonuts_text_df = combined_df[combined_df['subreddit'] == 1]\n",
    "ddonuts_text_df.shape"
   ]
  },
  {
   "cell_type": "code",
   "execution_count": 13,
   "id": "efa6f4ff-3479-4a63-81d3-6c5a6ee14d40",
   "metadata": {},
   "outputs": [
    {
     "data": {
      "text/html": [
       "<div>\n",
       "<style scoped>\n",
       "    .dataframe tbody tr th:only-of-type {\n",
       "        vertical-align: middle;\n",
       "    }\n",
       "\n",
       "    .dataframe tbody tr th {\n",
       "        vertical-align: top;\n",
       "    }\n",
       "\n",
       "    .dataframe thead th {\n",
       "        text-align: right;\n",
       "    }\n",
       "</style>\n",
       "<table border=\"1\" class=\"dataframe\">\n",
       "  <thead>\n",
       "    <tr style=\"text-align: right;\">\n",
       "      <th></th>\n",
       "      <th>subreddit</th>\n",
       "      <th>title</th>\n",
       "      <th>created_utc</th>\n",
       "      <th>tokenized</th>\n",
       "    </tr>\n",
       "  </thead>\n",
       "  <tbody>\n",
       "    <tr>\n",
       "      <th>0</th>\n",
       "      <td>1</td>\n",
       "      <td>my coworker placing the hash browns like army ...</td>\n",
       "      <td>1663204910</td>\n",
       "      <td>[my, coworker, placing, the, hash, browns, lik...</td>\n",
       "    </tr>\n",
       "    <tr>\n",
       "      <th>1</th>\n",
       "      <td>1</td>\n",
       "      <td>whats the deal with these</td>\n",
       "      <td>1663196066</td>\n",
       "      <td>[whats, the, deal, with, these]</td>\n",
       "    </tr>\n",
       "    <tr>\n",
       "      <th>2</th>\n",
       "      <td>1</td>\n",
       "      <td>working for dunkin</td>\n",
       "      <td>1663193081</td>\n",
       "      <td>[working, for, dunkin]</td>\n",
       "    </tr>\n",
       "  </tbody>\n",
       "</table>\n",
       "</div>"
      ],
      "text/plain": [
       "   subreddit                                              title  created_utc  \\\n",
       "0          1  my coworker placing the hash browns like army ...   1663204910   \n",
       "1          1                          whats the deal with these   1663196066   \n",
       "2          1                                 working for dunkin   1663193081   \n",
       "\n",
       "                                           tokenized  \n",
       "0  [my, coworker, placing, the, hash, browns, lik...  \n",
       "1                    [whats, the, deal, with, these]  \n",
       "2                             [working, for, dunkin]  "
      ]
     },
     "execution_count": 13,
     "metadata": {},
     "output_type": "execute_result"
    }
   ],
   "source": [
    "ddonuts_text_df.head(3)"
   ]
  },
  {
   "cell_type": "code",
   "execution_count": 14,
   "id": "cc09f3f7-96f7-4e59-b267-ed3a9724f9d3",
   "metadata": {},
   "outputs": [
    {
     "data": {
      "text/plain": [
       "(2498, 4)"
      ]
     },
     "execution_count": 14,
     "metadata": {},
     "output_type": "execute_result"
    }
   ],
   "source": [
    "sbucks_text_df = combined_df[combined_df['subreddit'] == 0]\n",
    "sbucks_text_df.shape"
   ]
  },
  {
   "cell_type": "code",
   "execution_count": 15,
   "id": "88229c88-ec64-47cd-affb-129d07895db9",
   "metadata": {},
   "outputs": [
    {
     "data": {
      "text/html": [
       "<div>\n",
       "<style scoped>\n",
       "    .dataframe tbody tr th:only-of-type {\n",
       "        vertical-align: middle;\n",
       "    }\n",
       "\n",
       "    .dataframe tbody tr th {\n",
       "        vertical-align: top;\n",
       "    }\n",
       "\n",
       "    .dataframe thead th {\n",
       "        text-align: right;\n",
       "    }\n",
       "</style>\n",
       "<table border=\"1\" class=\"dataframe\">\n",
       "  <thead>\n",
       "    <tr style=\"text-align: right;\">\n",
       "      <th></th>\n",
       "      <th>subreddit</th>\n",
       "      <th>title</th>\n",
       "      <th>created_utc</th>\n",
       "      <th>tokenized</th>\n",
       "    </tr>\n",
       "  </thead>\n",
       "  <tbody>\n",
       "    <tr>\n",
       "      <th>2498</th>\n",
       "      <td>0</td>\n",
       "      <td>interview tips</td>\n",
       "      <td>1663212467</td>\n",
       "      <td>[interview, tips]</td>\n",
       "    </tr>\n",
       "    <tr>\n",
       "      <th>2499</th>\n",
       "      <td>0</td>\n",
       "      <td>we had horses come through the drive thru rece...</td>\n",
       "      <td>1663212017</td>\n",
       "      <td>[we, had, horses, come, through, the, drive, t...</td>\n",
       "    </tr>\n",
       "    <tr>\n",
       "      <th>2500</th>\n",
       "      <td>0</td>\n",
       "      <td>having horses in the drive thru makes everythi...</td>\n",
       "      <td>1663211903</td>\n",
       "      <td>[having, horses, in, the, drive, thru, makes, ...</td>\n",
       "    </tr>\n",
       "  </tbody>\n",
       "</table>\n",
       "</div>"
      ],
      "text/plain": [
       "      subreddit                                              title  \\\n",
       "2498          0                                     interview tips   \n",
       "2499          0  we had horses come through the drive thru rece...   \n",
       "2500          0  having horses in the drive thru makes everythi...   \n",
       "\n",
       "      created_utc                                          tokenized  \n",
       "2498   1663212467                                  [interview, tips]  \n",
       "2499   1663212017  [we, had, horses, come, through, the, drive, t...  \n",
       "2500   1663211903  [having, horses, in, the, drive, thru, makes, ...  "
      ]
     },
     "execution_count": 15,
     "metadata": {},
     "output_type": "execute_result"
    }
   ],
   "source": [
    "sbucks_text_df.head(3)"
   ]
  },
  {
   "cell_type": "markdown",
   "id": "0e733be0-b04b-4b53-9884-3e3b6223e3b2",
   "metadata": {},
   "source": [
    "### Create separate dataframe for each of the subtopics for analysis"
   ]
  },
  {
   "cell_type": "code",
   "execution_count": 96,
   "id": "fa42c6f4-7e31-4ef2-adfa-070ac0524c42",
   "metadata": {},
   "outputs": [
    {
     "name": "stdout",
     "output_type": "stream",
     "text": [
      "Dataframe of dunkin_donuts has shape (60, 4)\n",
      "Dataframe of dunkin_c_brew has shape (90, 4)\n",
      "Dataframe of dunkin_i_coffee has shape (5, 4)\n",
      "Dataframe of dunkin_b_pecan has shape (36, 4)\n",
      "Dataframe of dunkin_local has shape (23, 4)\n",
      "Dataframe of dunkin_reward has shape (58, 4)\n",
      "Dataframe of dunkin_service has shape (233, 4)\n",
      "Dataframe of dunkin_barista has shape (2, 4)\n"
     ]
    }
   ],
   "source": [
    "searchfor = ['dunkin donut', 'dunkin doughnut']\n",
    "dunkin_donuts = ddonuts_text_df[ddonuts_text_df['title'].str.contains('|'.join(searchfor))]\n",
    "dunkin_donuts = dunkin_donuts.copy()\n",
    "print(f'Dataframe of dunkin_donuts has shape {dunkin_donuts.shape}')\n",
    "dunkin_c_brew = ddonuts_text_df[ddonuts_text_df['title'].str.contains('cold brew')]\n",
    "dunkin_c_brew = dunkin_c_brew.copy()\n",
    "print(f'Dataframe of dunkin_c_brew has shape {dunkin_c_brew.shape}')\n",
    "dunkin_i_coffee = ddonuts_text_df[ddonuts_text_df['title'].str.contains('ice coffee')]\n",
    "dunkin_i_coffee = dunkin_i_coffee.copy()\n",
    "print(f'Dataframe of dunkin_i_coffee has shape {dunkin_i_coffee.shape}')\n",
    "dunkin_b_pecan = ddonuts_text_df[ddonuts_text_df['title'].str.contains('butter pecan')]\n",
    "dunkin_b_pecan = dunkin_b_pecan.copy()\n",
    "print(f'Dataframe of dunkin_b_pecan has shape {dunkin_b_pecan.shape}')\n",
    "dunkin_local = ddonuts_text_df[ddonuts_text_df['title'].str.contains('local')]\n",
    "dunkin_local = dunkin_local.copy()\n",
    "print(f'Dataframe of dunkin_local has shape {dunkin_local.shape}')\n",
    "searchfor_1 = ['free drink', 'free bev', 'free beverag', 'rewards', 'reward']\n",
    "dunkin_reward = ddonuts_text_df[ddonuts_text_df['title'].str.contains('|'.join(searchfor_1))]\n",
    "dunkin_reward = dunkin_reward.copy()\n",
    "print(f'Dataframe of dunkin_reward has shape {dunkin_reward.shape}')\n",
    "searchfor_2 = ['mobile order', 'mobile orders', 'drive thru', 'drive through','app', 'workers', 'staff']\n",
    "dunkin_service = ddonuts_text_df[ddonuts_text_df['title'].str.contains('|'.join(searchfor_2))]\n",
    "dunkin_service = dunkin_service.copy()\n",
    "print(f'Dataframe of dunkin_service has shape {dunkin_service.shape}')\n",
    "searchfor_3 = ['barista', 'baristas']\n",
    "dunkin_barista = ddonuts_text_df[ddonuts_text_df['title'].str.contains('|'.join(searchfor_3))]\n",
    "dunkin_barista = dunkin_barista.copy()\n",
    "print(f'Dataframe of dunkin_barista has shape {dunkin_barista.shape}')"
   ]
  },
  {
   "cell_type": "code",
   "execution_count": 95,
   "id": "79e61c7e-ef34-4b50-bccc-129724a10f94",
   "metadata": {},
   "outputs": [
    {
     "name": "stdout",
     "output_type": "stream",
     "text": [
      "Dataframe of sbucks_dress has shape (36, 4)\n",
      "Dataframe of sbucks_p_spice has shape (43, 4)\n",
      "Dataframe of sbucks_c_brew has shape (46, 4)\n",
      "Dataframe of sbuck_i_coffee has shape (0, 4)\n",
      "Dataframe of sbucks_a_crisp has shape (15, 4)\n",
      "Dataframe of sbucks_f_launch has shape (18, 4)\n",
      "Dataframe of sbucks_reward has shape (13, 4)\n",
      "Dataframe of sbucks_service has shape (219, 4)\n",
      "Dataframe of sbucks_barista has shape (119, 4)\n"
     ]
    }
   ],
   "source": [
    "sbucks_dress = sbucks_text_df[sbucks_text_df['title'].str.contains('dress')]\n",
    "sbucks_dress = sbucks_dress.copy()\n",
    "print(f'Dataframe of sbucks_dress has shape {sbucks_dress.shape}')\n",
    "sbucks_p_spice = sbucks_text_df[sbucks_text_df['title'].str.contains('pumpkin spice')]\n",
    "sbucks_p_spice = sbucks_p_spice.copy()\n",
    "print(f'Dataframe of sbucks_p_spice has shape {sbucks_p_spice.shape}')\n",
    "sbucks_c_brew = sbucks_text_df[sbucks_text_df['title'].str.contains('cold brew')]\n",
    "sbucks_c_brew = sbucks_c_brew.copy()\n",
    "print(f'Dataframe of sbucks_c_brew has shape {sbucks_c_brew.shape}')\n",
    "sbucks_i_coffee = sbucks_text_df[sbucks_text_df['title'].str.contains('ice coffee')]\n",
    "sbucks_i_coffee = sbucks_i_coffee.copy()\n",
    "print(f'Dataframe of sbuck_i_coffee has shape {sbucks_i_coffee.shape}')\n",
    "sbucks_a_crisp = sbucks_text_df[sbucks_text_df['title'].str.contains('apple crisp')]\n",
    "sbucks_a_crisp = sbucks_a_crisp.copy() \n",
    "print(f'Dataframe of sbucks_a_crisp has shape {sbucks_a_crisp.shape}')\n",
    "searchfor_4 = ['fall launch', 'fall drink', 'fall refresher', 'fall drinks']\n",
    "sbucks_f_launch = sbucks_text_df[sbucks_text_df['title'].str.contains('|'.join(searchfor_4))]\n",
    "sbucks_f_launch = sbucks_f_launch.copy()\n",
    "print(f'Dataframe of sbucks_f_launch has shape {sbucks_f_launch.shape}')\n",
    "searchfor_5 = ['free drink', 'free bev', 'free beverag', 'rewards', 'reward']\n",
    "sbucks_reward = sbucks_text_df[sbucks_text_df['title'].str.contains('|'.join(searchfor_1))]\n",
    "sbucks_reward = sbucks_reward.copy()\n",
    "print(f'Dataframe of sbucks_reward has shape {sbucks_reward.shape}')\n",
    "searchfor_6 = ['mobile order', 'mobile orders', 'drive thru', 'drive through', 'app', 'workers', 'staff']\n",
    "sbucks_service = sbucks_text_df[sbucks_text_df['title'].str.contains('|'.join(searchfor_6))]\n",
    "sbucks_service = sbucks_service.copy()\n",
    "print(f'Dataframe of sbucks_service has shape {sbucks_service.shape}')\n",
    "searchfor_7 = ['barista', 'baristas']\n",
    "sbucks_barista = sbucks_text_df[sbucks_text_df['title'].str.contains('|'.join(searchfor_7))]\n",
    "sbucks_barista = sbucks_barista.copy()\n",
    "print(f'Dataframe of sbucks_barista has shape {sbucks_barista.shape}')"
   ]
  },
  {
   "cell_type": "markdown",
   "id": "650be658-6f85-493c-876c-65bec378990d",
   "metadata": {},
   "source": [
    "## Sentiment Analysis"
   ]
  },
  {
   "cell_type": "markdown",
   "id": "c81ab1a3-2cd0-4658-9148-7339fea7c95c",
   "metadata": {},
   "source": [
    "Model used: twitter-XLM-roBERTa-base for Sentiment Analysis. This model wastrained on about 124M tweets from Jan 2018 to Dec 2021, and finetuned for sentiment analysis with TweetEval benchmark. [source](https://huggingface.co/cardiffnlp/twitter-roberta-base-sentiment)"
   ]
  },
  {
   "cell_type": "code",
   "execution_count": 19,
   "id": "46e15d2a-83bb-418f-8eb7-2bfef5f75456",
   "metadata": {},
   "outputs": [],
   "source": [
    "from nltk.sentiment import SentimentIntensityAnalyzer\n",
    "import operator"
   ]
  },
  {
   "cell_type": "code",
   "execution_count": 20,
   "id": "d8fbb38d-37c0-4460-ad44-a2587048a6c8",
   "metadata": {},
   "outputs": [],
   "source": [
    "from transformers import AutoModelForSequenceClassification\n",
    "from transformers import TFAutoModelForSequenceClassification\n",
    "from transformers import AutoTokenizer, AutoConfig"
   ]
  },
  {
   "cell_type": "code",
   "execution_count": 21,
   "id": "b8e6188a-4426-4c7a-91ae-08de25cee411",
   "metadata": {},
   "outputs": [],
   "source": [
    "model_name = \"cardiffnlp/twitter-roberta-base-sentiment\"\n",
    "model = AutoModelForSequenceClassification.from_pretrained(model_name)\n",
    "tokenizer = AutoTokenizer.from_pretrained(model_name)"
   ]
  },
  {
   "cell_type": "code",
   "execution_count": 22,
   "id": "1ce68ed6-8b94-452a-8052-59f619434daa",
   "metadata": {},
   "outputs": [],
   "source": [
    "senti_classifier = pipeline(\"sentiment-analysis\", \n",
    "                            model=model,\n",
    "                            tokenizer = tokenizer)"
   ]
  },
  {
   "cell_type": "code",
   "execution_count": 23,
   "id": "8e1accd9-9b34-4628-9b79-a96f2e759b31",
   "metadata": {},
   "outputs": [],
   "source": [
    "# import pickle\n",
    "# import sys"
   ]
  },
  {
   "cell_type": "code",
   "execution_count": 24,
   "id": "806fff06-47ac-4de7-8144-f02a0171bf86",
   "metadata": {},
   "outputs": [
    {
     "name": "stdout",
     "output_type": "stream",
     "text": [
      "500046474\n"
     ]
    }
   ],
   "source": [
    "# p = pickle.dumps(senti_classifier)\n",
    "# print(sys.getsizeof(p))"
   ]
  },
  {
   "cell_type": "code",
   "execution_count": 23,
   "id": "45971f27",
   "metadata": {},
   "outputs": [],
   "source": [
    "# define function to extract sentiments\n",
    "def sentiments(dataset):\n",
    "    dataset['sentiment'] = dataset['title'].apply(senti_classifier)\n",
    "    dataset['sentiments'] = dataset['sentiment'].apply(lambda x: x[0]['label'])\n",
    "    dataset['sentiments'] = dataset['sentiments'].map({'LABEL_0': 'negative', 'LABEL_1': 'neutral', 'LABEL_2': 'positive'})\n",
    "    return dataset"
   ]
  },
  {
   "cell_type": "markdown",
   "id": "b5df26ad-d4f5-494d-a571-6bf7dbf9eb5f",
   "metadata": {},
   "source": [
    "## Dunkin Sentiments"
   ]
  },
  {
   "cell_type": "markdown",
   "id": "5622495c-b9f0-4e6d-b7f6-0041da10f618",
   "metadata": {
    "tags": []
   },
   "source": [
    "### Overall"
   ]
  },
  {
   "cell_type": "code",
   "execution_count": 24,
   "id": "ed735e5e",
   "metadata": {},
   "outputs": [],
   "source": [
    "dunkin_sample_senti = sentiments(ddonuts_text_df.sample(2000))"
   ]
  },
  {
   "cell_type": "code",
   "execution_count": 25,
   "id": "429c12f8",
   "metadata": {},
   "outputs": [
    {
     "data": {
      "text/html": [
       "<div>\n",
       "<style scoped>\n",
       "    .dataframe tbody tr th:only-of-type {\n",
       "        vertical-align: middle;\n",
       "    }\n",
       "\n",
       "    .dataframe tbody tr th {\n",
       "        vertical-align: top;\n",
       "    }\n",
       "\n",
       "    .dataframe thead th {\n",
       "        text-align: right;\n",
       "    }\n",
       "</style>\n",
       "<table border=\"1\" class=\"dataframe\">\n",
       "  <thead>\n",
       "    <tr style=\"text-align: right;\">\n",
       "      <th></th>\n",
       "      <th>subreddit</th>\n",
       "      <th>title</th>\n",
       "      <th>created_utc</th>\n",
       "      <th>tokenized</th>\n",
       "      <th>sentiment</th>\n",
       "      <th>sentiments</th>\n",
       "    </tr>\n",
       "  </thead>\n",
       "  <tbody>\n",
       "    <tr>\n",
       "      <th>746</th>\n",
       "      <td>1</td>\n",
       "      <td>free beverage reward on mobile monday</td>\n",
       "      <td>1658150232</td>\n",
       "      <td>[free, beverage, reward, on, mobile, monday]</td>\n",
       "      <td>[{'label': 'LABEL_2', 'score': 0.6509920954704...</td>\n",
       "      <td>positive</td>\n",
       "    </tr>\n",
       "    <tr>\n",
       "      <th>868</th>\n",
       "      <td>1</td>\n",
       "      <td>question for workers</td>\n",
       "      <td>1657243071</td>\n",
       "      <td>[question, for, workers]</td>\n",
       "      <td>[{'label': 'LABEL_1', 'score': 0.6887745857238...</td>\n",
       "      <td>neutral</td>\n",
       "    </tr>\n",
       "    <tr>\n",
       "      <th>648</th>\n",
       "      <td>1</td>\n",
       "      <td>a regular who pronounces macchiato mach iato</td>\n",
       "      <td>1658882786</td>\n",
       "      <td>[a, regular, who, pronounces, macchiato, mach,...</td>\n",
       "      <td>[{'label': 'LABEL_1', 'score': 0.8214698433876...</td>\n",
       "      <td>neutral</td>\n",
       "    </tr>\n",
       "  </tbody>\n",
       "</table>\n",
       "</div>"
      ],
      "text/plain": [
       "     subreddit                                         title  created_utc  \\\n",
       "746          1         free beverage reward on mobile monday   1658150232   \n",
       "868          1                          question for workers   1657243071   \n",
       "648          1  a regular who pronounces macchiato mach iato   1658882786   \n",
       "\n",
       "                                             tokenized  \\\n",
       "746       [free, beverage, reward, on, mobile, monday]   \n",
       "868                           [question, for, workers]   \n",
       "648  [a, regular, who, pronounces, macchiato, mach,...   \n",
       "\n",
       "                                             sentiment sentiments  \n",
       "746  [{'label': 'LABEL_2', 'score': 0.6509920954704...   positive  \n",
       "868  [{'label': 'LABEL_1', 'score': 0.6887745857238...    neutral  \n",
       "648  [{'label': 'LABEL_1', 'score': 0.8214698433876...    neutral  "
      ]
     },
     "execution_count": 25,
     "metadata": {},
     "output_type": "execute_result"
    }
   ],
   "source": [
    "dunkin_sample_senti.head(3)"
   ]
  },
  {
   "cell_type": "code",
   "execution_count": 26,
   "id": "8416ddbf-4001-430a-8874-7ad3c12fa48b",
   "metadata": {},
   "outputs": [
    {
     "data": {
      "text/plain": [
       "neutral     1376\n",
       "negative     413\n",
       "positive     211\n",
       "Name: sentiments, dtype: int64"
      ]
     },
     "execution_count": 26,
     "metadata": {},
     "output_type": "execute_result"
    }
   ],
   "source": [
    "dunkin_sample_senti['sentiments'].value_counts()"
   ]
  },
  {
   "cell_type": "code",
   "execution_count": 27,
   "id": "ba20e89d-efc2-402f-a86e-abdbc23a403d",
   "metadata": {},
   "outputs": [
    {
     "data": {
      "text/html": [
       "<div>\n",
       "<style scoped>\n",
       "    .dataframe tbody tr th:only-of-type {\n",
       "        vertical-align: middle;\n",
       "    }\n",
       "\n",
       "    .dataframe tbody tr th {\n",
       "        vertical-align: top;\n",
       "    }\n",
       "\n",
       "    .dataframe thead th {\n",
       "        text-align: right;\n",
       "    }\n",
       "</style>\n",
       "<table border=\"1\" class=\"dataframe\">\n",
       "  <thead>\n",
       "    <tr style=\"text-align: right;\">\n",
       "      <th></th>\n",
       "      <th>sentiments</th>\n",
       "    </tr>\n",
       "  </thead>\n",
       "  <tbody>\n",
       "    <tr>\n",
       "      <th>neutral</th>\n",
       "      <td>1376</td>\n",
       "    </tr>\n",
       "    <tr>\n",
       "      <th>negative</th>\n",
       "      <td>413</td>\n",
       "    </tr>\n",
       "    <tr>\n",
       "      <th>positive</th>\n",
       "      <td>211</td>\n",
       "    </tr>\n",
       "  </tbody>\n",
       "</table>\n",
       "</div>"
      ],
      "text/plain": [
       "          sentiments\n",
       "neutral         1376\n",
       "negative         413\n",
       "positive         211"
      ]
     },
     "execution_count": 27,
     "metadata": {},
     "output_type": "execute_result"
    }
   ],
   "source": [
    "dunkin_sentiments = pd.DataFrame(dunkin_sample_senti['sentiments'].value_counts())\n",
    "dunkin_sentiments"
   ]
  },
  {
   "cell_type": "markdown",
   "id": "b1029499-6d62-4c08-91da-b3c92b835c70",
   "metadata": {
    "tags": []
   },
   "source": [
    "### Dunkin Donuts"
   ]
  },
  {
   "cell_type": "code",
   "execution_count": 32,
   "id": "37da78aa-98b1-4cda-8517-dd2b70d9ea16",
   "metadata": {
    "tags": []
   },
   "outputs": [],
   "source": [
    "ddonuts_senti = sentiments(dunkin_donuts)"
   ]
  },
  {
   "cell_type": "code",
   "execution_count": 33,
   "id": "d7a4cf20-9d5d-495f-9ee0-3d40a4257e62",
   "metadata": {},
   "outputs": [
    {
     "data": {
      "text/html": [
       "<div>\n",
       "<style scoped>\n",
       "    .dataframe tbody tr th:only-of-type {\n",
       "        vertical-align: middle;\n",
       "    }\n",
       "\n",
       "    .dataframe tbody tr th {\n",
       "        vertical-align: top;\n",
       "    }\n",
       "\n",
       "    .dataframe thead th {\n",
       "        text-align: right;\n",
       "    }\n",
       "</style>\n",
       "<table border=\"1\" class=\"dataframe\">\n",
       "  <thead>\n",
       "    <tr style=\"text-align: right;\">\n",
       "      <th></th>\n",
       "      <th>subreddit</th>\n",
       "      <th>title</th>\n",
       "      <th>created_utc</th>\n",
       "      <th>tokenized</th>\n",
       "      <th>sentiment</th>\n",
       "      <th>sentiments</th>\n",
       "    </tr>\n",
       "  </thead>\n",
       "  <tbody>\n",
       "    <tr>\n",
       "      <th>18</th>\n",
       "      <td>1</td>\n",
       "      <td>2 dunkin donuts card first one to save pic and...</td>\n",
       "      <td>1663030303</td>\n",
       "      <td>[2, dunkin, donuts, card, first, one, to, save...</td>\n",
       "      <td>[{'label': 'LABEL_1', 'score': 0.7781171798706...</td>\n",
       "      <td>neutral</td>\n",
       "    </tr>\n",
       "    <tr>\n",
       "      <th>33</th>\n",
       "      <td>1</td>\n",
       "      <td>dunkin donuts interview</td>\n",
       "      <td>1662960022</td>\n",
       "      <td>[dunkin, donuts, interview]</td>\n",
       "      <td>[{'label': 'LABEL_1', 'score': 0.8438280820846...</td>\n",
       "      <td>neutral</td>\n",
       "    </tr>\n",
       "    <tr>\n",
       "      <th>35</th>\n",
       "      <td>1</td>\n",
       "      <td>dunkin donuts t mobile tuesday 2 codes</td>\n",
       "      <td>1662954206</td>\n",
       "      <td>[dunkin, donuts, t, mobile, tuesday, 2, codes]</td>\n",
       "      <td>[{'label': 'LABEL_1', 'score': 0.8879836797714...</td>\n",
       "      <td>neutral</td>\n",
       "    </tr>\n",
       "  </tbody>\n",
       "</table>\n",
       "</div>"
      ],
      "text/plain": [
       "    subreddit                                              title  created_utc  \\\n",
       "18          1  2 dunkin donuts card first one to save pic and...   1663030303   \n",
       "33          1                            dunkin donuts interview   1662960022   \n",
       "35          1             dunkin donuts t mobile tuesday 2 codes   1662954206   \n",
       "\n",
       "                                            tokenized  \\\n",
       "18  [2, dunkin, donuts, card, first, one, to, save...   \n",
       "33                        [dunkin, donuts, interview]   \n",
       "35     [dunkin, donuts, t, mobile, tuesday, 2, codes]   \n",
       "\n",
       "                                            sentiment sentiments  \n",
       "18  [{'label': 'LABEL_1', 'score': 0.7781171798706...    neutral  \n",
       "33  [{'label': 'LABEL_1', 'score': 0.8438280820846...    neutral  \n",
       "35  [{'label': 'LABEL_1', 'score': 0.8879836797714...    neutral  "
      ]
     },
     "execution_count": 33,
     "metadata": {},
     "output_type": "execute_result"
    }
   ],
   "source": [
    "ddonuts_senti.head(3)"
   ]
  },
  {
   "cell_type": "code",
   "execution_count": 34,
   "id": "86c85542-689e-48c5-b596-3529e36f968c",
   "metadata": {},
   "outputs": [
    {
     "data": {
      "text/plain": [
       "neutral     44\n",
       "negative    11\n",
       "positive     5\n",
       "Name: sentiments, dtype: int64"
      ]
     },
     "execution_count": 34,
     "metadata": {},
     "output_type": "execute_result"
    }
   ],
   "source": [
    "ddonuts_senti['sentiments'].value_counts()"
   ]
  },
  {
   "cell_type": "code",
   "execution_count": 35,
   "id": "50a65181-2fe8-4472-ade1-ddfdee2ca1a5",
   "metadata": {
    "tags": []
   },
   "outputs": [
    {
     "data": {
      "text/html": [
       "<div>\n",
       "<style scoped>\n",
       "    .dataframe tbody tr th:only-of-type {\n",
       "        vertical-align: middle;\n",
       "    }\n",
       "\n",
       "    .dataframe tbody tr th {\n",
       "        vertical-align: top;\n",
       "    }\n",
       "\n",
       "    .dataframe thead th {\n",
       "        text-align: right;\n",
       "    }\n",
       "</style>\n",
       "<table border=\"1\" class=\"dataframe\">\n",
       "  <thead>\n",
       "    <tr style=\"text-align: right;\">\n",
       "      <th></th>\n",
       "      <th>sentiments</th>\n",
       "    </tr>\n",
       "  </thead>\n",
       "  <tbody>\n",
       "    <tr>\n",
       "      <th>neutral</th>\n",
       "      <td>44</td>\n",
       "    </tr>\n",
       "    <tr>\n",
       "      <th>negative</th>\n",
       "      <td>11</td>\n",
       "    </tr>\n",
       "    <tr>\n",
       "      <th>positive</th>\n",
       "      <td>5</td>\n",
       "    </tr>\n",
       "  </tbody>\n",
       "</table>\n",
       "</div>"
      ],
      "text/plain": [
       "          sentiments\n",
       "neutral           44\n",
       "negative          11\n",
       "positive           5"
      ]
     },
     "execution_count": 35,
     "metadata": {},
     "output_type": "execute_result"
    }
   ],
   "source": [
    "ddonuts_sentiments = pd.DataFrame(ddonuts_senti['sentiments'].value_counts())\n",
    "ddonuts_sentiments"
   ]
  },
  {
   "cell_type": "markdown",
   "id": "cb0caf85-4678-459b-ac42-3b684bee60a6",
   "metadata": {
    "tags": []
   },
   "source": [
    "### Dunkin Cold Brew"
   ]
  },
  {
   "cell_type": "code",
   "execution_count": 28,
   "id": "9685f1d0-73bf-4ac0-a08f-61ffac1a10a2",
   "metadata": {
    "tags": []
   },
   "outputs": [],
   "source": [
    "dunkin_c_brew_senti = sentiments(dunkin_c_brew)"
   ]
  },
  {
   "cell_type": "code",
   "execution_count": 29,
   "id": "bf769537-974a-4618-8dfa-48963fc5816b",
   "metadata": {},
   "outputs": [
    {
     "data": {
      "text/html": [
       "<div>\n",
       "<style scoped>\n",
       "    .dataframe tbody tr th:only-of-type {\n",
       "        vertical-align: middle;\n",
       "    }\n",
       "\n",
       "    .dataframe tbody tr th {\n",
       "        vertical-align: top;\n",
       "    }\n",
       "\n",
       "    .dataframe thead th {\n",
       "        text-align: right;\n",
       "    }\n",
       "</style>\n",
       "<table border=\"1\" class=\"dataframe\">\n",
       "  <thead>\n",
       "    <tr style=\"text-align: right;\">\n",
       "      <th></th>\n",
       "      <th>subreddit</th>\n",
       "      <th>title</th>\n",
       "      <th>created_utc</th>\n",
       "      <th>tokenized</th>\n",
       "      <th>sentiment</th>\n",
       "      <th>sentiments</th>\n",
       "    </tr>\n",
       "  </thead>\n",
       "  <tbody>\n",
       "    <tr>\n",
       "      <th>41</th>\n",
       "      <td>1</td>\n",
       "      <td>this pumpkin cream cold brew is amazing weary_...</td>\n",
       "      <td>1662915853</td>\n",
       "      <td>[this, pumpkin, cream, cold, brew, is, amazing...</td>\n",
       "      <td>[{'label': 'LABEL_2', 'score': 0.9880346655845...</td>\n",
       "      <td>positive</td>\n",
       "    </tr>\n",
       "    <tr>\n",
       "      <th>52</th>\n",
       "      <td>1</td>\n",
       "      <td>anyone know what s the next coffee promo after...</td>\n",
       "      <td>1662825134</td>\n",
       "      <td>[anyone, know, what, s, the, next, coffee, pro...</td>\n",
       "      <td>[{'label': 'LABEL_1', 'score': 0.9409533739089...</td>\n",
       "      <td>neutral</td>\n",
       "    </tr>\n",
       "    <tr>\n",
       "      <th>59</th>\n",
       "      <td>1</td>\n",
       "      <td>is it weird that my small town dunkin for week...</td>\n",
       "      <td>1662739875</td>\n",
       "      <td>[is, it, weird, that, my, small, town, dunkin,...</td>\n",
       "      <td>[{'label': 'LABEL_0', 'score': 0.5979610681533...</td>\n",
       "      <td>negative</td>\n",
       "    </tr>\n",
       "  </tbody>\n",
       "</table>\n",
       "</div>"
      ],
      "text/plain": [
       "    subreddit                                              title  created_utc  \\\n",
       "41          1  this pumpkin cream cold brew is amazing weary_...   1662915853   \n",
       "52          1  anyone know what s the next coffee promo after...   1662825134   \n",
       "59          1  is it weird that my small town dunkin for week...   1662739875   \n",
       "\n",
       "                                            tokenized  \\\n",
       "41  [this, pumpkin, cream, cold, brew, is, amazing...   \n",
       "52  [anyone, know, what, s, the, next, coffee, pro...   \n",
       "59  [is, it, weird, that, my, small, town, dunkin,...   \n",
       "\n",
       "                                            sentiment sentiments  \n",
       "41  [{'label': 'LABEL_2', 'score': 0.9880346655845...   positive  \n",
       "52  [{'label': 'LABEL_1', 'score': 0.9409533739089...    neutral  \n",
       "59  [{'label': 'LABEL_0', 'score': 0.5979610681533...   negative  "
      ]
     },
     "execution_count": 29,
     "metadata": {},
     "output_type": "execute_result"
    }
   ],
   "source": [
    "dunkin_c_brew_senti.head(3)"
   ]
  },
  {
   "cell_type": "code",
   "execution_count": 30,
   "id": "40a66bf3-f705-4cca-9af6-f90c78dfeeb4",
   "metadata": {},
   "outputs": [
    {
     "data": {
      "text/plain": [
       "neutral     63\n",
       "negative    15\n",
       "positive    12\n",
       "Name: sentiments, dtype: int64"
      ]
     },
     "execution_count": 30,
     "metadata": {},
     "output_type": "execute_result"
    }
   ],
   "source": [
    "dunkin_c_brew_senti['sentiments'].value_counts()"
   ]
  },
  {
   "cell_type": "code",
   "execution_count": 31,
   "id": "d84bb1a2-732b-4cb2-b5d3-2b41f6acceed",
   "metadata": {
    "tags": []
   },
   "outputs": [
    {
     "data": {
      "text/html": [
       "<div>\n",
       "<style scoped>\n",
       "    .dataframe tbody tr th:only-of-type {\n",
       "        vertical-align: middle;\n",
       "    }\n",
       "\n",
       "    .dataframe tbody tr th {\n",
       "        vertical-align: top;\n",
       "    }\n",
       "\n",
       "    .dataframe thead th {\n",
       "        text-align: right;\n",
       "    }\n",
       "</style>\n",
       "<table border=\"1\" class=\"dataframe\">\n",
       "  <thead>\n",
       "    <tr style=\"text-align: right;\">\n",
       "      <th></th>\n",
       "      <th>sentiments</th>\n",
       "    </tr>\n",
       "  </thead>\n",
       "  <tbody>\n",
       "    <tr>\n",
       "      <th>neutral</th>\n",
       "      <td>63</td>\n",
       "    </tr>\n",
       "    <tr>\n",
       "      <th>negative</th>\n",
       "      <td>15</td>\n",
       "    </tr>\n",
       "    <tr>\n",
       "      <th>positive</th>\n",
       "      <td>12</td>\n",
       "    </tr>\n",
       "  </tbody>\n",
       "</table>\n",
       "</div>"
      ],
      "text/plain": [
       "          sentiments\n",
       "neutral           63\n",
       "negative          15\n",
       "positive          12"
      ]
     },
     "execution_count": 31,
     "metadata": {},
     "output_type": "execute_result"
    }
   ],
   "source": [
    "dunkin_c_brew_sentiments = pd.DataFrame(dunkin_c_brew_senti['sentiments'].value_counts())\n",
    "dunkin_c_brew_sentiments"
   ]
  },
  {
   "cell_type": "markdown",
   "id": "5b6355c9-cd86-443e-a630-28c7529f6b07",
   "metadata": {
    "tags": []
   },
   "source": [
    "### Dunkin Iced Coffee"
   ]
  },
  {
   "cell_type": "code",
   "execution_count": 36,
   "id": "7b4e136a-743e-492f-859f-b83251586172",
   "metadata": {
    "tags": []
   },
   "outputs": [],
   "source": [
    "dunkin_i_coffee_senti = sentiments(dunkin_i_coffee)"
   ]
  },
  {
   "cell_type": "code",
   "execution_count": 37,
   "id": "b9c2dc7e-3fda-4069-b6b7-d053268f8ff9",
   "metadata": {},
   "outputs": [
    {
     "data": {
      "text/html": [
       "<div>\n",
       "<style scoped>\n",
       "    .dataframe tbody tr th:only-of-type {\n",
       "        vertical-align: middle;\n",
       "    }\n",
       "\n",
       "    .dataframe tbody tr th {\n",
       "        vertical-align: top;\n",
       "    }\n",
       "\n",
       "    .dataframe thead th {\n",
       "        text-align: right;\n",
       "    }\n",
       "</style>\n",
       "<table border=\"1\" class=\"dataframe\">\n",
       "  <thead>\n",
       "    <tr style=\"text-align: right;\">\n",
       "      <th></th>\n",
       "      <th>subreddit</th>\n",
       "      <th>title</th>\n",
       "      <th>created_utc</th>\n",
       "      <th>tokenized</th>\n",
       "      <th>sentiment</th>\n",
       "      <th>sentiments</th>\n",
       "    </tr>\n",
       "  </thead>\n",
       "  <tbody>\n",
       "    <tr>\n",
       "      <th>361</th>\n",
       "      <td>1</td>\n",
       "      <td>did ice coffee prices increase</td>\n",
       "      <td>1660759244</td>\n",
       "      <td>[did, ice, coffee, prices, increase]</td>\n",
       "      <td>[{'label': 'LABEL_1', 'score': 0.6943466067314...</td>\n",
       "      <td>neutral</td>\n",
       "    </tr>\n",
       "    <tr>\n",
       "      <th>463</th>\n",
       "      <td>1</td>\n",
       "      <td>why is this the same price as an ice coffee i ...</td>\n",
       "      <td>1660242331</td>\n",
       "      <td>[why, is, this, the, same, price, as, an, ice,...</td>\n",
       "      <td>[{'label': 'LABEL_0', 'score': 0.4981566965579...</td>\n",
       "      <td>negative</td>\n",
       "    </tr>\n",
       "    <tr>\n",
       "      <th>677</th>\n",
       "      <td>1</td>\n",
       "      <td>psa the 48 oz bottles of unsweetened ice coffe...</td>\n",
       "      <td>1658664957</td>\n",
       "      <td>[psa, the, 48, oz, bottles, of, unsweetened, i...</td>\n",
       "      <td>[{'label': 'LABEL_1', 'score': 0.5948571562767...</td>\n",
       "      <td>neutral</td>\n",
       "    </tr>\n",
       "  </tbody>\n",
       "</table>\n",
       "</div>"
      ],
      "text/plain": [
       "     subreddit                                              title  \\\n",
       "361          1                     did ice coffee prices increase   \n",
       "463          1  why is this the same price as an ice coffee i ...   \n",
       "677          1  psa the 48 oz bottles of unsweetened ice coffe...   \n",
       "\n",
       "     created_utc                                          tokenized  \\\n",
       "361   1660759244               [did, ice, coffee, prices, increase]   \n",
       "463   1660242331  [why, is, this, the, same, price, as, an, ice,...   \n",
       "677   1658664957  [psa, the, 48, oz, bottles, of, unsweetened, i...   \n",
       "\n",
       "                                             sentiment sentiments  \n",
       "361  [{'label': 'LABEL_1', 'score': 0.6943466067314...    neutral  \n",
       "463  [{'label': 'LABEL_0', 'score': 0.4981566965579...   negative  \n",
       "677  [{'label': 'LABEL_1', 'score': 0.5948571562767...    neutral  "
      ]
     },
     "execution_count": 37,
     "metadata": {},
     "output_type": "execute_result"
    }
   ],
   "source": [
    "dunkin_i_coffee_senti.head(3)"
   ]
  },
  {
   "cell_type": "code",
   "execution_count": 38,
   "id": "503ecaad-c522-4526-9939-3cb99ad92e93",
   "metadata": {},
   "outputs": [
    {
     "data": {
      "text/plain": [
       "neutral     3\n",
       "negative    1\n",
       "positive    1\n",
       "Name: sentiments, dtype: int64"
      ]
     },
     "execution_count": 38,
     "metadata": {},
     "output_type": "execute_result"
    }
   ],
   "source": [
    "dunkin_i_coffee_senti['sentiments'].value_counts()"
   ]
  },
  {
   "cell_type": "code",
   "execution_count": 39,
   "id": "b1d169a4-49c7-4619-a273-10ef99007169",
   "metadata": {
    "tags": []
   },
   "outputs": [
    {
     "data": {
      "text/html": [
       "<div>\n",
       "<style scoped>\n",
       "    .dataframe tbody tr th:only-of-type {\n",
       "        vertical-align: middle;\n",
       "    }\n",
       "\n",
       "    .dataframe tbody tr th {\n",
       "        vertical-align: top;\n",
       "    }\n",
       "\n",
       "    .dataframe thead th {\n",
       "        text-align: right;\n",
       "    }\n",
       "</style>\n",
       "<table border=\"1\" class=\"dataframe\">\n",
       "  <thead>\n",
       "    <tr style=\"text-align: right;\">\n",
       "      <th></th>\n",
       "      <th>sentiments</th>\n",
       "    </tr>\n",
       "  </thead>\n",
       "  <tbody>\n",
       "    <tr>\n",
       "      <th>neutral</th>\n",
       "      <td>3</td>\n",
       "    </tr>\n",
       "    <tr>\n",
       "      <th>negative</th>\n",
       "      <td>1</td>\n",
       "    </tr>\n",
       "    <tr>\n",
       "      <th>positive</th>\n",
       "      <td>1</td>\n",
       "    </tr>\n",
       "  </tbody>\n",
       "</table>\n",
       "</div>"
      ],
      "text/plain": [
       "          sentiments\n",
       "neutral            3\n",
       "negative           1\n",
       "positive           1"
      ]
     },
     "execution_count": 39,
     "metadata": {},
     "output_type": "execute_result"
    }
   ],
   "source": [
    "dunkin_i_coffee_sentiments = pd.DataFrame(dunkin_i_coffee_senti['sentiments'].value_counts())\n",
    "dunkin_i_coffee_sentiments"
   ]
  },
  {
   "cell_type": "markdown",
   "id": "b70e6320-3a91-4b61-8209-b9c20455b315",
   "metadata": {
    "tags": []
   },
   "source": [
    "### Dunkin Butter Pecan"
   ]
  },
  {
   "cell_type": "code",
   "execution_count": 40,
   "id": "9eca2ebb-c076-4cf4-aa22-84015a66c7cb",
   "metadata": {
    "tags": []
   },
   "outputs": [],
   "source": [
    "dunkin_b_pecan_senti = sentiments(dunkin_b_pecan)"
   ]
  },
  {
   "cell_type": "code",
   "execution_count": 41,
   "id": "e9501555-ac5a-4f51-945f-95ff5b994ae8",
   "metadata": {},
   "outputs": [
    {
     "data": {
      "text/html": [
       "<div>\n",
       "<style scoped>\n",
       "    .dataframe tbody tr th:only-of-type {\n",
       "        vertical-align: middle;\n",
       "    }\n",
       "\n",
       "    .dataframe tbody tr th {\n",
       "        vertical-align: top;\n",
       "    }\n",
       "\n",
       "    .dataframe thead th {\n",
       "        text-align: right;\n",
       "    }\n",
       "</style>\n",
       "<table border=\"1\" class=\"dataframe\">\n",
       "  <thead>\n",
       "    <tr style=\"text-align: right;\">\n",
       "      <th></th>\n",
       "      <th>subreddit</th>\n",
       "      <th>title</th>\n",
       "      <th>created_utc</th>\n",
       "      <th>tokenized</th>\n",
       "      <th>sentiment</th>\n",
       "      <th>sentiments</th>\n",
       "    </tr>\n",
       "  </thead>\n",
       "  <tbody>\n",
       "    <tr>\n",
       "      <th>322</th>\n",
       "      <td>1</td>\n",
       "      <td>just thought i might make my last dunkin run o...</td>\n",
       "      <td>1660929445</td>\n",
       "      <td>[just, thought, i, might, make, my, last, dunk...</td>\n",
       "      <td>[{'label': 'LABEL_1', 'score': 0.5366223454475...</td>\n",
       "      <td>neutral</td>\n",
       "    </tr>\n",
       "    <tr>\n",
       "      <th>360</th>\n",
       "      <td>1</td>\n",
       "      <td>please sell me your butter pecan</td>\n",
       "      <td>1660766067</td>\n",
       "      <td>[please, sell, me, your, butter, pecan]</td>\n",
       "      <td>[{'label': 'LABEL_1', 'score': 0.7656268477439...</td>\n",
       "      <td>neutral</td>\n",
       "    </tr>\n",
       "    <tr>\n",
       "      <th>442</th>\n",
       "      <td>1</td>\n",
       "      <td>my favorite drink is med cold brew 1 butter pe...</td>\n",
       "      <td>1660384707</td>\n",
       "      <td>[my, favorite, drink, is, med, cold, brew, 1, ...</td>\n",
       "      <td>[{'label': 'LABEL_2', 'score': 0.9485169649124...</td>\n",
       "      <td>positive</td>\n",
       "    </tr>\n",
       "  </tbody>\n",
       "</table>\n",
       "</div>"
      ],
      "text/plain": [
       "     subreddit                                              title  \\\n",
       "322          1  just thought i might make my last dunkin run o...   \n",
       "360          1                   please sell me your butter pecan   \n",
       "442          1  my favorite drink is med cold brew 1 butter pe...   \n",
       "\n",
       "     created_utc                                          tokenized  \\\n",
       "322   1660929445  [just, thought, i, might, make, my, last, dunk...   \n",
       "360   1660766067            [please, sell, me, your, butter, pecan]   \n",
       "442   1660384707  [my, favorite, drink, is, med, cold, brew, 1, ...   \n",
       "\n",
       "                                             sentiment sentiments  \n",
       "322  [{'label': 'LABEL_1', 'score': 0.5366223454475...    neutral  \n",
       "360  [{'label': 'LABEL_1', 'score': 0.7656268477439...    neutral  \n",
       "442  [{'label': 'LABEL_2', 'score': 0.9485169649124...   positive  "
      ]
     },
     "execution_count": 41,
     "metadata": {},
     "output_type": "execute_result"
    }
   ],
   "source": [
    "dunkin_b_pecan_senti.head(3)"
   ]
  },
  {
   "cell_type": "code",
   "execution_count": 42,
   "id": "36c645a4-6708-4a57-bf35-6763831db0e5",
   "metadata": {},
   "outputs": [
    {
     "data": {
      "text/plain": [
       "neutral     26\n",
       "positive     7\n",
       "negative     3\n",
       "Name: sentiments, dtype: int64"
      ]
     },
     "execution_count": 42,
     "metadata": {},
     "output_type": "execute_result"
    }
   ],
   "source": [
    "dunkin_b_pecan_senti['sentiments'].value_counts()"
   ]
  },
  {
   "cell_type": "code",
   "execution_count": 43,
   "id": "86cc5bbd-08a6-422b-a3fb-501935674104",
   "metadata": {
    "tags": []
   },
   "outputs": [
    {
     "data": {
      "text/html": [
       "<div>\n",
       "<style scoped>\n",
       "    .dataframe tbody tr th:only-of-type {\n",
       "        vertical-align: middle;\n",
       "    }\n",
       "\n",
       "    .dataframe tbody tr th {\n",
       "        vertical-align: top;\n",
       "    }\n",
       "\n",
       "    .dataframe thead th {\n",
       "        text-align: right;\n",
       "    }\n",
       "</style>\n",
       "<table border=\"1\" class=\"dataframe\">\n",
       "  <thead>\n",
       "    <tr style=\"text-align: right;\">\n",
       "      <th></th>\n",
       "      <th>sentiments</th>\n",
       "    </tr>\n",
       "  </thead>\n",
       "  <tbody>\n",
       "    <tr>\n",
       "      <th>neutral</th>\n",
       "      <td>26</td>\n",
       "    </tr>\n",
       "    <tr>\n",
       "      <th>positive</th>\n",
       "      <td>7</td>\n",
       "    </tr>\n",
       "    <tr>\n",
       "      <th>negative</th>\n",
       "      <td>3</td>\n",
       "    </tr>\n",
       "  </tbody>\n",
       "</table>\n",
       "</div>"
      ],
      "text/plain": [
       "          sentiments\n",
       "neutral           26\n",
       "positive           7\n",
       "negative           3"
      ]
     },
     "execution_count": 43,
     "metadata": {},
     "output_type": "execute_result"
    }
   ],
   "source": [
    "dunkin_b_pecan_sentiments = pd.DataFrame(dunkin_b_pecan_senti['sentiments'].value_counts())\n",
    "dunkin_b_pecan_sentiments"
   ]
  },
  {
   "cell_type": "markdown",
   "id": "28edd08c-aeaf-40bd-a633-6f70407da3a5",
   "metadata": {
    "tags": []
   },
   "source": [
    "### Dunkin Local"
   ]
  },
  {
   "cell_type": "code",
   "execution_count": 48,
   "id": "552bb3b3-7bd8-4756-adfb-5773f6e0d139",
   "metadata": {
    "tags": []
   },
   "outputs": [],
   "source": [
    "dunkin_local_senti = sentiments(dunkin_local)"
   ]
  },
  {
   "cell_type": "code",
   "execution_count": 49,
   "id": "76bcd3ae-d73a-449c-a534-3b799bbed976",
   "metadata": {},
   "outputs": [
    {
     "data": {
      "text/html": [
       "<div>\n",
       "<style scoped>\n",
       "    .dataframe tbody tr th:only-of-type {\n",
       "        vertical-align: middle;\n",
       "    }\n",
       "\n",
       "    .dataframe tbody tr th {\n",
       "        vertical-align: top;\n",
       "    }\n",
       "\n",
       "    .dataframe thead th {\n",
       "        text-align: right;\n",
       "    }\n",
       "</style>\n",
       "<table border=\"1\" class=\"dataframe\">\n",
       "  <thead>\n",
       "    <tr style=\"text-align: right;\">\n",
       "      <th></th>\n",
       "      <th>subreddit</th>\n",
       "      <th>title</th>\n",
       "      <th>created_utc</th>\n",
       "      <th>tokenized</th>\n",
       "      <th>sentiment</th>\n",
       "      <th>sentiments</th>\n",
       "    </tr>\n",
       "  </thead>\n",
       "  <tbody>\n",
       "    <tr>\n",
       "      <th>34</th>\n",
       "      <td>1</td>\n",
       "      <td>can someone explain to me why my local dunkin ...</td>\n",
       "      <td>1662958423</td>\n",
       "      <td>[can, someone, explain, to, me, why, my, local...</td>\n",
       "      <td>[{'label': 'LABEL_0', 'score': 0.9047766923904...</td>\n",
       "      <td>negative</td>\n",
       "    </tr>\n",
       "    <tr>\n",
       "      <th>268</th>\n",
       "      <td>1</td>\n",
       "      <td>local dunkin scrapes metal pan on ground at dr...</td>\n",
       "      <td>1661276540</td>\n",
       "      <td>[local, dunkin, scrapes, metal, pan, on, groun...</td>\n",
       "      <td>[{'label': 'LABEL_1', 'score': 0.7235899567604...</td>\n",
       "      <td>neutral</td>\n",
       "    </tr>\n",
       "    <tr>\n",
       "      <th>278</th>\n",
       "      <td>1</td>\n",
       "      <td>i ve been going to dunk ever since the establi...</td>\n",
       "      <td>1661183920</td>\n",
       "      <td>[i, ve, been, going, to, dunk, ever, since, th...</td>\n",
       "      <td>[{'label': 'LABEL_1', 'score': 0.5064250230789...</td>\n",
       "      <td>neutral</td>\n",
       "    </tr>\n",
       "  </tbody>\n",
       "</table>\n",
       "</div>"
      ],
      "text/plain": [
       "     subreddit                                              title  \\\n",
       "34           1  can someone explain to me why my local dunkin ...   \n",
       "268          1  local dunkin scrapes metal pan on ground at dr...   \n",
       "278          1  i ve been going to dunk ever since the establi...   \n",
       "\n",
       "     created_utc                                          tokenized  \\\n",
       "34    1662958423  [can, someone, explain, to, me, why, my, local...   \n",
       "268   1661276540  [local, dunkin, scrapes, metal, pan, on, groun...   \n",
       "278   1661183920  [i, ve, been, going, to, dunk, ever, since, th...   \n",
       "\n",
       "                                             sentiment sentiments  \n",
       "34   [{'label': 'LABEL_0', 'score': 0.9047766923904...   negative  \n",
       "268  [{'label': 'LABEL_1', 'score': 0.7235899567604...    neutral  \n",
       "278  [{'label': 'LABEL_1', 'score': 0.5064250230789...    neutral  "
      ]
     },
     "execution_count": 49,
     "metadata": {},
     "output_type": "execute_result"
    }
   ],
   "source": [
    "dunkin_local_senti.head(3)"
   ]
  },
  {
   "cell_type": "code",
   "execution_count": 50,
   "id": "4372eda5-6cbd-4e17-8c99-dcb219d8d822",
   "metadata": {},
   "outputs": [
    {
     "data": {
      "text/plain": [
       "neutral     12\n",
       "negative     8\n",
       "positive     3\n",
       "Name: sentiments, dtype: int64"
      ]
     },
     "execution_count": 50,
     "metadata": {},
     "output_type": "execute_result"
    }
   ],
   "source": [
    "dunkin_local_senti['sentiments'].value_counts()"
   ]
  },
  {
   "cell_type": "code",
   "execution_count": 51,
   "id": "71b915c6-3dc6-4276-9415-004315850f6b",
   "metadata": {
    "tags": []
   },
   "outputs": [
    {
     "data": {
      "text/html": [
       "<div>\n",
       "<style scoped>\n",
       "    .dataframe tbody tr th:only-of-type {\n",
       "        vertical-align: middle;\n",
       "    }\n",
       "\n",
       "    .dataframe tbody tr th {\n",
       "        vertical-align: top;\n",
       "    }\n",
       "\n",
       "    .dataframe thead th {\n",
       "        text-align: right;\n",
       "    }\n",
       "</style>\n",
       "<table border=\"1\" class=\"dataframe\">\n",
       "  <thead>\n",
       "    <tr style=\"text-align: right;\">\n",
       "      <th></th>\n",
       "      <th>sentiments</th>\n",
       "    </tr>\n",
       "  </thead>\n",
       "  <tbody>\n",
       "    <tr>\n",
       "      <th>neutral</th>\n",
       "      <td>12</td>\n",
       "    </tr>\n",
       "    <tr>\n",
       "      <th>negative</th>\n",
       "      <td>8</td>\n",
       "    </tr>\n",
       "    <tr>\n",
       "      <th>positive</th>\n",
       "      <td>3</td>\n",
       "    </tr>\n",
       "  </tbody>\n",
       "</table>\n",
       "</div>"
      ],
      "text/plain": [
       "          sentiments\n",
       "neutral           12\n",
       "negative           8\n",
       "positive           3"
      ]
     },
     "execution_count": 51,
     "metadata": {},
     "output_type": "execute_result"
    }
   ],
   "source": [
    "dunkin_local_sentiments = pd.DataFrame(dunkin_local_senti['sentiments'].value_counts())\n",
    "dunkin_local_sentiments"
   ]
  },
  {
   "cell_type": "markdown",
   "id": "83ada69a-91bf-471a-83ea-19dd3fa20f79",
   "metadata": {
    "tags": []
   },
   "source": [
    "### Dunkin Reward"
   ]
  },
  {
   "cell_type": "code",
   "execution_count": 52,
   "id": "ea131953-926d-415b-86e3-e5c83e853f62",
   "metadata": {
    "tags": []
   },
   "outputs": [],
   "source": [
    "dunkin_reward_senti = sentiments(dunkin_reward)"
   ]
  },
  {
   "cell_type": "code",
   "execution_count": 53,
   "id": "43a627d6-e49f-4d7c-ab11-cbdf27fd6f43",
   "metadata": {},
   "outputs": [
    {
     "data": {
      "text/html": [
       "<div>\n",
       "<style scoped>\n",
       "    .dataframe tbody tr th:only-of-type {\n",
       "        vertical-align: middle;\n",
       "    }\n",
       "\n",
       "    .dataframe tbody tr th {\n",
       "        vertical-align: top;\n",
       "    }\n",
       "\n",
       "    .dataframe thead th {\n",
       "        text-align: right;\n",
       "    }\n",
       "</style>\n",
       "<table border=\"1\" class=\"dataframe\">\n",
       "  <thead>\n",
       "    <tr style=\"text-align: right;\">\n",
       "      <th></th>\n",
       "      <th>subreddit</th>\n",
       "      <th>title</th>\n",
       "      <th>created_utc</th>\n",
       "      <th>tokenized</th>\n",
       "      <th>sentiment</th>\n",
       "      <th>sentiments</th>\n",
       "    </tr>\n",
       "  </thead>\n",
       "  <tbody>\n",
       "    <tr>\n",
       "      <th>11</th>\n",
       "      <td>1</td>\n",
       "      <td>dunkin rewards update</td>\n",
       "      <td>1663153599</td>\n",
       "      <td>[dunkin, rewards, update]</td>\n",
       "      <td>[{'label': 'LABEL_1', 'score': 0.8598471879959...</td>\n",
       "      <td>neutral</td>\n",
       "    </tr>\n",
       "    <tr>\n",
       "      <th>55</th>\n",
       "      <td>1</td>\n",
       "      <td>birthday reward sucks</td>\n",
       "      <td>1662808190</td>\n",
       "      <td>[birthday, reward, sucks]</td>\n",
       "      <td>[{'label': 'LABEL_0', 'score': 0.9674400687217...</td>\n",
       "      <td>negative</td>\n",
       "    </tr>\n",
       "    <tr>\n",
       "      <th>100</th>\n",
       "      <td>1</td>\n",
       "      <td>free drink expires today 9 4</td>\n",
       "      <td>1662334297</td>\n",
       "      <td>[free, drink, expires, today, 9, 4]</td>\n",
       "      <td>[{'label': 'LABEL_1', 'score': 0.7958027720451...</td>\n",
       "      <td>neutral</td>\n",
       "    </tr>\n",
       "  </tbody>\n",
       "</table>\n",
       "</div>"
      ],
      "text/plain": [
       "     subreddit                         title  created_utc  \\\n",
       "11           1         dunkin rewards update   1663153599   \n",
       "55           1         birthday reward sucks   1662808190   \n",
       "100          1  free drink expires today 9 4   1662334297   \n",
       "\n",
       "                               tokenized  \\\n",
       "11             [dunkin, rewards, update]   \n",
       "55             [birthday, reward, sucks]   \n",
       "100  [free, drink, expires, today, 9, 4]   \n",
       "\n",
       "                                             sentiment sentiments  \n",
       "11   [{'label': 'LABEL_1', 'score': 0.8598471879959...    neutral  \n",
       "55   [{'label': 'LABEL_0', 'score': 0.9674400687217...   negative  \n",
       "100  [{'label': 'LABEL_1', 'score': 0.7958027720451...    neutral  "
      ]
     },
     "execution_count": 53,
     "metadata": {},
     "output_type": "execute_result"
    }
   ],
   "source": [
    "dunkin_reward_senti.head(3)"
   ]
  },
  {
   "cell_type": "code",
   "execution_count": 54,
   "id": "e6562b48-cdcd-4507-b2fc-36f85a1b7a8c",
   "metadata": {},
   "outputs": [
    {
     "data": {
      "text/plain": [
       "neutral     35\n",
       "positive    14\n",
       "negative     9\n",
       "Name: sentiments, dtype: int64"
      ]
     },
     "execution_count": 54,
     "metadata": {},
     "output_type": "execute_result"
    }
   ],
   "source": [
    "dunkin_reward_senti['sentiments'].value_counts()"
   ]
  },
  {
   "cell_type": "code",
   "execution_count": 55,
   "id": "403c0c8c-0035-4064-83b6-f4f7d8155e32",
   "metadata": {
    "tags": []
   },
   "outputs": [
    {
     "data": {
      "text/html": [
       "<div>\n",
       "<style scoped>\n",
       "    .dataframe tbody tr th:only-of-type {\n",
       "        vertical-align: middle;\n",
       "    }\n",
       "\n",
       "    .dataframe tbody tr th {\n",
       "        vertical-align: top;\n",
       "    }\n",
       "\n",
       "    .dataframe thead th {\n",
       "        text-align: right;\n",
       "    }\n",
       "</style>\n",
       "<table border=\"1\" class=\"dataframe\">\n",
       "  <thead>\n",
       "    <tr style=\"text-align: right;\">\n",
       "      <th></th>\n",
       "      <th>sentiments</th>\n",
       "    </tr>\n",
       "  </thead>\n",
       "  <tbody>\n",
       "    <tr>\n",
       "      <th>neutral</th>\n",
       "      <td>35</td>\n",
       "    </tr>\n",
       "    <tr>\n",
       "      <th>positive</th>\n",
       "      <td>14</td>\n",
       "    </tr>\n",
       "    <tr>\n",
       "      <th>negative</th>\n",
       "      <td>9</td>\n",
       "    </tr>\n",
       "  </tbody>\n",
       "</table>\n",
       "</div>"
      ],
      "text/plain": [
       "          sentiments\n",
       "neutral           35\n",
       "positive          14\n",
       "negative           9"
      ]
     },
     "execution_count": 55,
     "metadata": {},
     "output_type": "execute_result"
    }
   ],
   "source": [
    "dunkin_reward_sentiments = pd.DataFrame(dunkin_reward_senti['sentiments'].value_counts())\n",
    "dunkin_reward_sentiments"
   ]
  },
  {
   "cell_type": "markdown",
   "id": "1c2b58dc-ad85-4ef6-843c-3387971f4913",
   "metadata": {
    "tags": []
   },
   "source": [
    "### Dunkin Service"
   ]
  },
  {
   "cell_type": "code",
   "execution_count": 56,
   "id": "be070f72-f54d-423e-9c0f-c571d47c22af",
   "metadata": {
    "tags": []
   },
   "outputs": [],
   "source": [
    "dunkin_service_senti = sentiments(dunkin_service)"
   ]
  },
  {
   "cell_type": "code",
   "execution_count": 57,
   "id": "fb81481a-8cbb-4cc7-82cb-fd6381e0e85e",
   "metadata": {},
   "outputs": [
    {
     "data": {
      "text/html": [
       "<div>\n",
       "<style scoped>\n",
       "    .dataframe tbody tr th:only-of-type {\n",
       "        vertical-align: middle;\n",
       "    }\n",
       "\n",
       "    .dataframe tbody tr th {\n",
       "        vertical-align: top;\n",
       "    }\n",
       "\n",
       "    .dataframe thead th {\n",
       "        text-align: right;\n",
       "    }\n",
       "</style>\n",
       "<table border=\"1\" class=\"dataframe\">\n",
       "  <thead>\n",
       "    <tr style=\"text-align: right;\">\n",
       "      <th></th>\n",
       "      <th>subreddit</th>\n",
       "      <th>title</th>\n",
       "      <th>created_utc</th>\n",
       "      <th>tokenized</th>\n",
       "      <th>sentiment</th>\n",
       "      <th>sentiments</th>\n",
       "    </tr>\n",
       "  </thead>\n",
       "  <tbody>\n",
       "    <tr>\n",
       "      <th>7</th>\n",
       "      <td>1</td>\n",
       "      <td>does anyone know if the apple cider is coming ...</td>\n",
       "      <td>1663163942</td>\n",
       "      <td>[does, anyone, know, if, the, apple, cider, is...</td>\n",
       "      <td>[{'label': 'LABEL_1', 'score': 0.9185714125633...</td>\n",
       "      <td>neutral</td>\n",
       "    </tr>\n",
       "    <tr>\n",
       "      <th>39</th>\n",
       "      <td>1</td>\n",
       "      <td>ben affleck and henry cavill have signed exten...</td>\n",
       "      <td>1662929899</td>\n",
       "      <td>[ben, affleck, and, henry, cavill, have, signe...</td>\n",
       "      <td>[{'label': 'LABEL_1', 'score': 0.9103999137878...</td>\n",
       "      <td>neutral</td>\n",
       "    </tr>\n",
       "    <tr>\n",
       "      <th>40</th>\n",
       "      <td>1</td>\n",
       "      <td>does anybody know if you can add the employee ...</td>\n",
       "      <td>1662918465</td>\n",
       "      <td>[does, anybody, know, if, you, can, add, the, ...</td>\n",
       "      <td>[{'label': 'LABEL_1', 'score': 0.9097266197204...</td>\n",
       "      <td>neutral</td>\n",
       "    </tr>\n",
       "  </tbody>\n",
       "</table>\n",
       "</div>"
      ],
      "text/plain": [
       "    subreddit                                              title  created_utc  \\\n",
       "7           1  does anyone know if the apple cider is coming ...   1663163942   \n",
       "39          1  ben affleck and henry cavill have signed exten...   1662929899   \n",
       "40          1  does anybody know if you can add the employee ...   1662918465   \n",
       "\n",
       "                                            tokenized  \\\n",
       "7   [does, anyone, know, if, the, apple, cider, is...   \n",
       "39  [ben, affleck, and, henry, cavill, have, signe...   \n",
       "40  [does, anybody, know, if, you, can, add, the, ...   \n",
       "\n",
       "                                            sentiment sentiments  \n",
       "7   [{'label': 'LABEL_1', 'score': 0.9185714125633...    neutral  \n",
       "39  [{'label': 'LABEL_1', 'score': 0.9103999137878...    neutral  \n",
       "40  [{'label': 'LABEL_1', 'score': 0.9097266197204...    neutral  "
      ]
     },
     "execution_count": 57,
     "metadata": {},
     "output_type": "execute_result"
    }
   ],
   "source": [
    "dunkin_service_senti.head(3)"
   ]
  },
  {
   "cell_type": "code",
   "execution_count": 58,
   "id": "fc1d70ea-c1c1-4517-9378-98d07d455345",
   "metadata": {},
   "outputs": [
    {
     "data": {
      "text/plain": [
       "neutral     151\n",
       "negative     58\n",
       "positive     24\n",
       "Name: sentiments, dtype: int64"
      ]
     },
     "execution_count": 58,
     "metadata": {},
     "output_type": "execute_result"
    }
   ],
   "source": [
    "dunkin_service_senti['sentiments'].value_counts()"
   ]
  },
  {
   "cell_type": "code",
   "execution_count": 59,
   "id": "9ac8056d-5817-40f8-ba96-7e5acca17a65",
   "metadata": {
    "tags": []
   },
   "outputs": [
    {
     "data": {
      "text/html": [
       "<div>\n",
       "<style scoped>\n",
       "    .dataframe tbody tr th:only-of-type {\n",
       "        vertical-align: middle;\n",
       "    }\n",
       "\n",
       "    .dataframe tbody tr th {\n",
       "        vertical-align: top;\n",
       "    }\n",
       "\n",
       "    .dataframe thead th {\n",
       "        text-align: right;\n",
       "    }\n",
       "</style>\n",
       "<table border=\"1\" class=\"dataframe\">\n",
       "  <thead>\n",
       "    <tr style=\"text-align: right;\">\n",
       "      <th></th>\n",
       "      <th>sentiments</th>\n",
       "    </tr>\n",
       "  </thead>\n",
       "  <tbody>\n",
       "    <tr>\n",
       "      <th>neutral</th>\n",
       "      <td>151</td>\n",
       "    </tr>\n",
       "    <tr>\n",
       "      <th>negative</th>\n",
       "      <td>58</td>\n",
       "    </tr>\n",
       "    <tr>\n",
       "      <th>positive</th>\n",
       "      <td>24</td>\n",
       "    </tr>\n",
       "  </tbody>\n",
       "</table>\n",
       "</div>"
      ],
      "text/plain": [
       "          sentiments\n",
       "neutral          151\n",
       "negative          58\n",
       "positive          24"
      ]
     },
     "execution_count": 59,
     "metadata": {},
     "output_type": "execute_result"
    }
   ],
   "source": [
    "dunkin_service_sentiments = pd.DataFrame(dunkin_service_senti['sentiments'].value_counts())\n",
    "dunkin_service_sentiments"
   ]
  },
  {
   "cell_type": "markdown",
   "id": "81a89006-4573-4f52-bdb1-e30d8c2015c1",
   "metadata": {
    "tags": []
   },
   "source": [
    "### Dunkin Barista"
   ]
  },
  {
   "cell_type": "code",
   "execution_count": 60,
   "id": "46a1fe4e-7fb5-4a4e-bf33-2c1d8956d4a2",
   "metadata": {
    "tags": []
   },
   "outputs": [],
   "source": [
    "dunkin_barista_senti = sentiments(dunkin_barista)"
   ]
  },
  {
   "cell_type": "code",
   "execution_count": 61,
   "id": "1de4ba08-3c2b-47c7-8430-a6db42725ca9",
   "metadata": {},
   "outputs": [
    {
     "data": {
      "text/html": [
       "<div>\n",
       "<style scoped>\n",
       "    .dataframe tbody tr th:only-of-type {\n",
       "        vertical-align: middle;\n",
       "    }\n",
       "\n",
       "    .dataframe tbody tr th {\n",
       "        vertical-align: top;\n",
       "    }\n",
       "\n",
       "    .dataframe thead th {\n",
       "        text-align: right;\n",
       "    }\n",
       "</style>\n",
       "<table border=\"1\" class=\"dataframe\">\n",
       "  <thead>\n",
       "    <tr style=\"text-align: right;\">\n",
       "      <th></th>\n",
       "      <th>subreddit</th>\n",
       "      <th>title</th>\n",
       "      <th>created_utc</th>\n",
       "      <th>tokenized</th>\n",
       "      <th>sentiment</th>\n",
       "      <th>sentiments</th>\n",
       "    </tr>\n",
       "  </thead>\n",
       "  <tbody>\n",
       "    <tr>\n",
       "      <th>1056</th>\n",
       "      <td>1</td>\n",
       "      <td>question from a starbys barista</td>\n",
       "      <td>1655913312</td>\n",
       "      <td>[question, from, a, starbys, barista]</td>\n",
       "      <td>[{'label': 'LABEL_1', 'score': 0.8456373810768...</td>\n",
       "      <td>neutral</td>\n",
       "    </tr>\n",
       "    <tr>\n",
       "      <th>2158</th>\n",
       "      <td>1</td>\n",
       "      <td>would the barista making my coffee everyday li...</td>\n",
       "      <td>1646751101</td>\n",
       "      <td>[would, the, barista, making, my, coffee, ever...</td>\n",
       "      <td>[{'label': 'LABEL_1', 'score': 0.6669984459877...</td>\n",
       "      <td>neutral</td>\n",
       "    </tr>\n",
       "  </tbody>\n",
       "</table>\n",
       "</div>"
      ],
      "text/plain": [
       "      subreddit                                              title  \\\n",
       "1056          1                    question from a starbys barista   \n",
       "2158          1  would the barista making my coffee everyday li...   \n",
       "\n",
       "      created_utc                                          tokenized  \\\n",
       "1056   1655913312              [question, from, a, starbys, barista]   \n",
       "2158   1646751101  [would, the, barista, making, my, coffee, ever...   \n",
       "\n",
       "                                              sentiment sentiments  \n",
       "1056  [{'label': 'LABEL_1', 'score': 0.8456373810768...    neutral  \n",
       "2158  [{'label': 'LABEL_1', 'score': 0.6669984459877...    neutral  "
      ]
     },
     "execution_count": 61,
     "metadata": {},
     "output_type": "execute_result"
    }
   ],
   "source": [
    "dunkin_barista_senti.head()"
   ]
  },
  {
   "cell_type": "code",
   "execution_count": 62,
   "id": "ad8516e2-2c26-4d60-9237-fd0c2f4b2c64",
   "metadata": {},
   "outputs": [
    {
     "data": {
      "text/plain": [
       "neutral    2\n",
       "Name: sentiments, dtype: int64"
      ]
     },
     "execution_count": 62,
     "metadata": {},
     "output_type": "execute_result"
    }
   ],
   "source": [
    "dunkin_barista_senti['sentiments'].value_counts()"
   ]
  },
  {
   "cell_type": "code",
   "execution_count": 63,
   "id": "8dc5a6dd-ff85-47ae-b904-a0d9f86c39e6",
   "metadata": {
    "tags": []
   },
   "outputs": [
    {
     "data": {
      "text/html": [
       "<div>\n",
       "<style scoped>\n",
       "    .dataframe tbody tr th:only-of-type {\n",
       "        vertical-align: middle;\n",
       "    }\n",
       "\n",
       "    .dataframe tbody tr th {\n",
       "        vertical-align: top;\n",
       "    }\n",
       "\n",
       "    .dataframe thead th {\n",
       "        text-align: right;\n",
       "    }\n",
       "</style>\n",
       "<table border=\"1\" class=\"dataframe\">\n",
       "  <thead>\n",
       "    <tr style=\"text-align: right;\">\n",
       "      <th></th>\n",
       "      <th>sentiments</th>\n",
       "    </tr>\n",
       "  </thead>\n",
       "  <tbody>\n",
       "    <tr>\n",
       "      <th>neutral</th>\n",
       "      <td>2</td>\n",
       "    </tr>\n",
       "  </tbody>\n",
       "</table>\n",
       "</div>"
      ],
      "text/plain": [
       "         sentiments\n",
       "neutral           2"
      ]
     },
     "execution_count": 63,
     "metadata": {},
     "output_type": "execute_result"
    }
   ],
   "source": [
    "dunkin_barista_sentiments = pd.DataFrame(dunkin_barista_senti['sentiments'].value_counts())\n",
    "dunkin_barista_sentiments"
   ]
  },
  {
   "cell_type": "markdown",
   "id": "da0499da-7431-43b5-aa16-47865005c298",
   "metadata": {},
   "source": [
    "### Summary"
   ]
  },
  {
   "cell_type": "code",
   "execution_count": 64,
   "id": "cabb3d53-6819-4c73-a0c3-8222b44de8c4",
   "metadata": {},
   "outputs": [],
   "source": [
    "dunkin_cols = [\"Overall\", \"Dunkin_Donuts\", \"Cold_Brew\", \"Iced_Coffee\", \"Butter_Pecan\", \"Dunkin_Local\", \"Dunkin_Reward\", \"Dunkin_Service\", \"Dunkin_Barista\"]\n",
    "dunkin_sentiments = pd.concat([dunkin_sentiments, ddonuts_sentiments, dunkin_c_brew_sentiments, dunkin_i_coffee_sentiments, dunkin_b_pecan_sentiments, dunkin_local_sentiments, dunkin_reward_sentiments, dunkin_service_sentiments, dunkin_barista_sentiments], axis=1, ignore_index=True)\n",
    "dunkin_sentiments.columns = dunkin_cols"
   ]
  },
  {
   "cell_type": "code",
   "execution_count": 65,
   "id": "d92ae408-3ec1-4e7c-977d-79f1ccf2b742",
   "metadata": {},
   "outputs": [
    {
     "data": {
      "text/html": [
       "<div>\n",
       "<style scoped>\n",
       "    .dataframe tbody tr th:only-of-type {\n",
       "        vertical-align: middle;\n",
       "    }\n",
       "\n",
       "    .dataframe tbody tr th {\n",
       "        vertical-align: top;\n",
       "    }\n",
       "\n",
       "    .dataframe thead th {\n",
       "        text-align: right;\n",
       "    }\n",
       "</style>\n",
       "<table border=\"1\" class=\"dataframe\">\n",
       "  <thead>\n",
       "    <tr style=\"text-align: right;\">\n",
       "      <th></th>\n",
       "      <th>Overall</th>\n",
       "      <th>Dunkin_Donuts</th>\n",
       "      <th>Cold_Brew</th>\n",
       "      <th>Iced_Coffee</th>\n",
       "      <th>Butter_Pecan</th>\n",
       "      <th>Dunkin_Local</th>\n",
       "      <th>Dunkin_Reward</th>\n",
       "      <th>Dunkin_Service</th>\n",
       "      <th>Dunkin_Barista</th>\n",
       "    </tr>\n",
       "  </thead>\n",
       "  <tbody>\n",
       "    <tr>\n",
       "      <th>neutral</th>\n",
       "      <td>1376</td>\n",
       "      <td>44</td>\n",
       "      <td>63</td>\n",
       "      <td>3</td>\n",
       "      <td>26</td>\n",
       "      <td>12</td>\n",
       "      <td>35</td>\n",
       "      <td>151</td>\n",
       "      <td>2.0</td>\n",
       "    </tr>\n",
       "    <tr>\n",
       "      <th>negative</th>\n",
       "      <td>413</td>\n",
       "      <td>11</td>\n",
       "      <td>15</td>\n",
       "      <td>1</td>\n",
       "      <td>3</td>\n",
       "      <td>8</td>\n",
       "      <td>9</td>\n",
       "      <td>58</td>\n",
       "      <td>NaN</td>\n",
       "    </tr>\n",
       "    <tr>\n",
       "      <th>positive</th>\n",
       "      <td>211</td>\n",
       "      <td>5</td>\n",
       "      <td>12</td>\n",
       "      <td>1</td>\n",
       "      <td>7</td>\n",
       "      <td>3</td>\n",
       "      <td>14</td>\n",
       "      <td>24</td>\n",
       "      <td>NaN</td>\n",
       "    </tr>\n",
       "  </tbody>\n",
       "</table>\n",
       "</div>"
      ],
      "text/plain": [
       "          Overall  Dunkin_Donuts  Cold_Brew  Iced_Coffee  Butter_Pecan  \\\n",
       "neutral      1376             44         63            3            26   \n",
       "negative      413             11         15            1             3   \n",
       "positive      211              5         12            1             7   \n",
       "\n",
       "          Dunkin_Local  Dunkin_Reward  Dunkin_Service  Dunkin_Barista  \n",
       "neutral             12             35             151             2.0  \n",
       "negative             8              9              58             NaN  \n",
       "positive             3             14              24             NaN  "
      ]
     },
     "execution_count": 65,
     "metadata": {},
     "output_type": "execute_result"
    }
   ],
   "source": [
    "dunkin_sentiments"
   ]
  },
  {
   "cell_type": "code",
   "execution_count": 66,
   "id": "5ed13c73-675a-4c01-9149-d28080930693",
   "metadata": {},
   "outputs": [
    {
     "data": {
      "text/html": [
       "<div>\n",
       "<style scoped>\n",
       "    .dataframe tbody tr th:only-of-type {\n",
       "        vertical-align: middle;\n",
       "    }\n",
       "\n",
       "    .dataframe tbody tr th {\n",
       "        vertical-align: top;\n",
       "    }\n",
       "\n",
       "    .dataframe thead th {\n",
       "        text-align: right;\n",
       "    }\n",
       "</style>\n",
       "<table border=\"1\" class=\"dataframe\">\n",
       "  <thead>\n",
       "    <tr style=\"text-align: right;\">\n",
       "      <th></th>\n",
       "      <th>Overall</th>\n",
       "      <th>Dunkin_Donuts</th>\n",
       "      <th>Cold_Brew</th>\n",
       "      <th>Iced_Coffee</th>\n",
       "      <th>Butter_Pecan</th>\n",
       "      <th>Dunkin_Local</th>\n",
       "      <th>Dunkin_Reward</th>\n",
       "      <th>Dunkin_Service</th>\n",
       "      <th>Dunkin_Barista</th>\n",
       "    </tr>\n",
       "  </thead>\n",
       "  <tbody>\n",
       "    <tr>\n",
       "      <th>neutral</th>\n",
       "      <td>0.69</td>\n",
       "      <td>0.73</td>\n",
       "      <td>0.70</td>\n",
       "      <td>0.6</td>\n",
       "      <td>0.72</td>\n",
       "      <td>0.52</td>\n",
       "      <td>0.60</td>\n",
       "      <td>0.65</td>\n",
       "      <td>1.0</td>\n",
       "    </tr>\n",
       "    <tr>\n",
       "      <th>negative</th>\n",
       "      <td>0.21</td>\n",
       "      <td>0.18</td>\n",
       "      <td>0.17</td>\n",
       "      <td>0.2</td>\n",
       "      <td>0.08</td>\n",
       "      <td>0.35</td>\n",
       "      <td>0.16</td>\n",
       "      <td>0.25</td>\n",
       "      <td>NaN</td>\n",
       "    </tr>\n",
       "    <tr>\n",
       "      <th>positive</th>\n",
       "      <td>0.11</td>\n",
       "      <td>0.08</td>\n",
       "      <td>0.13</td>\n",
       "      <td>0.2</td>\n",
       "      <td>0.19</td>\n",
       "      <td>0.13</td>\n",
       "      <td>0.24</td>\n",
       "      <td>0.10</td>\n",
       "      <td>NaN</td>\n",
       "    </tr>\n",
       "  </tbody>\n",
       "</table>\n",
       "</div>"
      ],
      "text/plain": [
       "          Overall  Dunkin_Donuts  Cold_Brew  Iced_Coffee  Butter_Pecan  \\\n",
       "neutral      0.69           0.73       0.70          0.6          0.72   \n",
       "negative     0.21           0.18       0.17          0.2          0.08   \n",
       "positive     0.11           0.08       0.13          0.2          0.19   \n",
       "\n",
       "          Dunkin_Local  Dunkin_Reward  Dunkin_Service  Dunkin_Barista  \n",
       "neutral           0.52           0.60            0.65             1.0  \n",
       "negative          0.35           0.16            0.25             NaN  \n",
       "positive          0.13           0.24            0.10             NaN  "
      ]
     },
     "execution_count": 66,
     "metadata": {},
     "output_type": "execute_result"
    }
   ],
   "source": [
    "dunkin_sentiments_pct = round(dunkin_sentiments/dunkin_sentiments.sum(), 2)\n",
    "dunkin_sentiments_pct"
   ]
  },
  {
   "cell_type": "markdown",
   "id": "b713cefd-2fa5-4e2d-b4eb-62b0c88a66ba",
   "metadata": {},
   "source": [
    "Points to note:\n",
    "- Most posts are neutral, most likely are questions and discussions over the topics\n",
    "- Rewards has highest percenatge of positive posts, which including free beverages, free drinks, reward\n",
    "- \"Dunkin Donuts\" and cold brew have more negative posts than positive ones (possibly bad reviews)\n",
    "- Services from Dunkin tend to have more negative posts. which including mobile order, app, and staffs."
   ]
  },
  {
   "cell_type": "markdown",
   "id": "dcb4994b-3118-4cec-8ce6-7d7b181ed9c6",
   "metadata": {},
   "source": [
    "## Starbucks Sentiments"
   ]
  },
  {
   "cell_type": "markdown",
   "id": "0b17c070-b36c-4839-89f6-6f83bb36464e",
   "metadata": {
    "tags": []
   },
   "source": [
    "### Overall"
   ]
  },
  {
   "cell_type": "code",
   "execution_count": 67,
   "id": "d09ae6b7-480a-4846-84f1-6dee69866d57",
   "metadata": {},
   "outputs": [],
   "source": [
    "sbucks_sample_senti = sentiments(sbucks_text_df.sample(2000))"
   ]
  },
  {
   "cell_type": "code",
   "execution_count": 68,
   "id": "e61b1d2e-7a42-432a-ba14-d7005759cce0",
   "metadata": {},
   "outputs": [
    {
     "data": {
      "text/html": [
       "<div>\n",
       "<style scoped>\n",
       "    .dataframe tbody tr th:only-of-type {\n",
       "        vertical-align: middle;\n",
       "    }\n",
       "\n",
       "    .dataframe tbody tr th {\n",
       "        vertical-align: top;\n",
       "    }\n",
       "\n",
       "    .dataframe thead th {\n",
       "        text-align: right;\n",
       "    }\n",
       "</style>\n",
       "<table border=\"1\" class=\"dataframe\">\n",
       "  <thead>\n",
       "    <tr style=\"text-align: right;\">\n",
       "      <th></th>\n",
       "      <th>subreddit</th>\n",
       "      <th>title</th>\n",
       "      <th>created_utc</th>\n",
       "      <th>tokenized</th>\n",
       "      <th>sentiment</th>\n",
       "      <th>sentiments</th>\n",
       "    </tr>\n",
       "  </thead>\n",
       "  <tbody>\n",
       "    <tr>\n",
       "      <th>4440</th>\n",
       "      <td>0</td>\n",
       "      <td>just customer things</td>\n",
       "      <td>1661702150</td>\n",
       "      <td>[just, customer, things]</td>\n",
       "      <td>[{'label': 'LABEL_1', 'score': 0.6978900432586...</td>\n",
       "      <td>neutral</td>\n",
       "    </tr>\n",
       "    <tr>\n",
       "      <th>3286</th>\n",
       "      <td>0</td>\n",
       "      <td>i would like to introduce everyone to one of m...</td>\n",
       "      <td>1662517473</td>\n",
       "      <td>[i, would, like, to, introduce, everyone, to, ...</td>\n",
       "      <td>[{'label': 'LABEL_2', 'score': 0.9830620288848...</td>\n",
       "      <td>positive</td>\n",
       "    </tr>\n",
       "    <tr>\n",
       "      <th>4925</th>\n",
       "      <td>0</td>\n",
       "      <td>tip question for employees</td>\n",
       "      <td>1661265219</td>\n",
       "      <td>[tip, question, for, employees]</td>\n",
       "      <td>[{'label': 'LABEL_1', 'score': 0.8111510872840...</td>\n",
       "      <td>neutral</td>\n",
       "    </tr>\n",
       "  </tbody>\n",
       "</table>\n",
       "</div>"
      ],
      "text/plain": [
       "      subreddit                                              title  \\\n",
       "4440          0                               just customer things   \n",
       "3286          0  i would like to introduce everyone to one of m...   \n",
       "4925          0                         tip question for employees   \n",
       "\n",
       "      created_utc                                          tokenized  \\\n",
       "4440   1661702150                           [just, customer, things]   \n",
       "3286   1662517473  [i, would, like, to, introduce, everyone, to, ...   \n",
       "4925   1661265219                    [tip, question, for, employees]   \n",
       "\n",
       "                                              sentiment sentiments  \n",
       "4440  [{'label': 'LABEL_1', 'score': 0.6978900432586...    neutral  \n",
       "3286  [{'label': 'LABEL_2', 'score': 0.9830620288848...   positive  \n",
       "4925  [{'label': 'LABEL_1', 'score': 0.8111510872840...    neutral  "
      ]
     },
     "execution_count": 68,
     "metadata": {},
     "output_type": "execute_result"
    }
   ],
   "source": [
    "sbucks_sample_senti.head(3)"
   ]
  },
  {
   "cell_type": "code",
   "execution_count": 69,
   "id": "40f31364-68c9-4fdb-af20-697b193458fe",
   "metadata": {},
   "outputs": [
    {
     "data": {
      "text/plain": [
       "neutral     1415\n",
       "negative     411\n",
       "positive     174\n",
       "Name: sentiments, dtype: int64"
      ]
     },
     "execution_count": 69,
     "metadata": {},
     "output_type": "execute_result"
    }
   ],
   "source": [
    "sbucks_sample_senti['sentiments'].value_counts()"
   ]
  },
  {
   "cell_type": "code",
   "execution_count": 70,
   "id": "ad1be5a3-c88b-40bc-9cd3-81e78f9cc57c",
   "metadata": {},
   "outputs": [
    {
     "data": {
      "text/html": [
       "<div>\n",
       "<style scoped>\n",
       "    .dataframe tbody tr th:only-of-type {\n",
       "        vertical-align: middle;\n",
       "    }\n",
       "\n",
       "    .dataframe tbody tr th {\n",
       "        vertical-align: top;\n",
       "    }\n",
       "\n",
       "    .dataframe thead th {\n",
       "        text-align: right;\n",
       "    }\n",
       "</style>\n",
       "<table border=\"1\" class=\"dataframe\">\n",
       "  <thead>\n",
       "    <tr style=\"text-align: right;\">\n",
       "      <th></th>\n",
       "      <th>sentiments</th>\n",
       "    </tr>\n",
       "  </thead>\n",
       "  <tbody>\n",
       "    <tr>\n",
       "      <th>neutral</th>\n",
       "      <td>1415</td>\n",
       "    </tr>\n",
       "    <tr>\n",
       "      <th>negative</th>\n",
       "      <td>411</td>\n",
       "    </tr>\n",
       "    <tr>\n",
       "      <th>positive</th>\n",
       "      <td>174</td>\n",
       "    </tr>\n",
       "  </tbody>\n",
       "</table>\n",
       "</div>"
      ],
      "text/plain": [
       "          sentiments\n",
       "neutral         1415\n",
       "negative         411\n",
       "positive         174"
      ]
     },
     "execution_count": 70,
     "metadata": {},
     "output_type": "execute_result"
    }
   ],
   "source": [
    "sbucks_sentiments = pd.DataFrame(sbucks_sample_senti['sentiments'].value_counts())\n",
    "sbucks_sentiments"
   ]
  },
  {
   "cell_type": "markdown",
   "id": "ef347bf2-74d0-4b13-9cd2-b2ac02a0c685",
   "metadata": {},
   "source": [
    "### Dress Code"
   ]
  },
  {
   "cell_type": "code",
   "execution_count": 78,
   "id": "cb673d31-da59-4ab3-a8e5-00f1f85bd2a8",
   "metadata": {
    "tags": []
   },
   "outputs": [],
   "source": [
    "sbucks_dress_senti = sentiments(sbucks_dress)"
   ]
  },
  {
   "cell_type": "code",
   "execution_count": 79,
   "id": "7bede1d3-1a48-47fb-982d-5fe3f50a8a79",
   "metadata": {},
   "outputs": [
    {
     "data": {
      "text/html": [
       "<div>\n",
       "<style scoped>\n",
       "    .dataframe tbody tr th:only-of-type {\n",
       "        vertical-align: middle;\n",
       "    }\n",
       "\n",
       "    .dataframe tbody tr th {\n",
       "        vertical-align: top;\n",
       "    }\n",
       "\n",
       "    .dataframe thead th {\n",
       "        text-align: right;\n",
       "    }\n",
       "</style>\n",
       "<table border=\"1\" class=\"dataframe\">\n",
       "  <thead>\n",
       "    <tr style=\"text-align: right;\">\n",
       "      <th></th>\n",
       "      <th>subreddit</th>\n",
       "      <th>title</th>\n",
       "      <th>created_utc</th>\n",
       "      <th>tokenized</th>\n",
       "      <th>sentiment</th>\n",
       "      <th>sentiments</th>\n",
       "    </tr>\n",
       "  </thead>\n",
       "  <tbody>\n",
       "    <tr>\n",
       "      <th>2551</th>\n",
       "      <td>0</td>\n",
       "      <td>lax new ceo attends the one young world confer...</td>\n",
       "      <td>1663181231</td>\n",
       "      <td>[lax, new, ceo, attends, the, one, young, worl...</td>\n",
       "      <td>[{'label': 'LABEL_2', 'score': 0.9124915599822...</td>\n",
       "      <td>positive</td>\n",
       "    </tr>\n",
       "    <tr>\n",
       "      <th>2740</th>\n",
       "      <td>0</td>\n",
       "      <td>dress code question</td>\n",
       "      <td>1663017656</td>\n",
       "      <td>[dress, code, question]</td>\n",
       "      <td>[{'label': 'LABEL_1', 'score': 0.7115855813026...</td>\n",
       "      <td>neutral</td>\n",
       "    </tr>\n",
       "    <tr>\n",
       "      <th>2807</th>\n",
       "      <td>0</td>\n",
       "      <td>dresscode hats</td>\n",
       "      <td>1662946355</td>\n",
       "      <td>[dresscode, hats]</td>\n",
       "      <td>[{'label': 'LABEL_1', 'score': 0.7062446475028...</td>\n",
       "      <td>neutral</td>\n",
       "    </tr>\n",
       "  </tbody>\n",
       "</table>\n",
       "</div>"
      ],
      "text/plain": [
       "      subreddit                                              title  \\\n",
       "2551          0  lax new ceo attends the one young world confer...   \n",
       "2740          0                                dress code question   \n",
       "2807          0                                     dresscode hats   \n",
       "\n",
       "      created_utc                                          tokenized  \\\n",
       "2551   1663181231  [lax, new, ceo, attends, the, one, young, worl...   \n",
       "2740   1663017656                            [dress, code, question]   \n",
       "2807   1662946355                                  [dresscode, hats]   \n",
       "\n",
       "                                              sentiment sentiments  \n",
       "2551  [{'label': 'LABEL_2', 'score': 0.9124915599822...   positive  \n",
       "2740  [{'label': 'LABEL_1', 'score': 0.7115855813026...    neutral  \n",
       "2807  [{'label': 'LABEL_1', 'score': 0.7062446475028...    neutral  "
      ]
     },
     "execution_count": 79,
     "metadata": {},
     "output_type": "execute_result"
    }
   ],
   "source": [
    "sbucks_dress_senti.head(3)"
   ]
  },
  {
   "cell_type": "code",
   "execution_count": 80,
   "id": "54f3feeb-6c8d-40d5-954c-fd45fc1b4ca2",
   "metadata": {},
   "outputs": [
    {
     "data": {
      "text/plain": [
       "neutral     31\n",
       "negative     4\n",
       "positive     1\n",
       "Name: sentiments, dtype: int64"
      ]
     },
     "execution_count": 80,
     "metadata": {},
     "output_type": "execute_result"
    }
   ],
   "source": [
    "sbucks_dress_senti['sentiments'].value_counts()"
   ]
  },
  {
   "cell_type": "code",
   "execution_count": 81,
   "id": "ae4c7977-0042-435c-8a43-602ee2e3796f",
   "metadata": {
    "tags": []
   },
   "outputs": [
    {
     "data": {
      "text/html": [
       "<div>\n",
       "<style scoped>\n",
       "    .dataframe tbody tr th:only-of-type {\n",
       "        vertical-align: middle;\n",
       "    }\n",
       "\n",
       "    .dataframe tbody tr th {\n",
       "        vertical-align: top;\n",
       "    }\n",
       "\n",
       "    .dataframe thead th {\n",
       "        text-align: right;\n",
       "    }\n",
       "</style>\n",
       "<table border=\"1\" class=\"dataframe\">\n",
       "  <thead>\n",
       "    <tr style=\"text-align: right;\">\n",
       "      <th></th>\n",
       "      <th>sentiments</th>\n",
       "    </tr>\n",
       "  </thead>\n",
       "  <tbody>\n",
       "    <tr>\n",
       "      <th>neutral</th>\n",
       "      <td>31</td>\n",
       "    </tr>\n",
       "    <tr>\n",
       "      <th>negative</th>\n",
       "      <td>4</td>\n",
       "    </tr>\n",
       "    <tr>\n",
       "      <th>positive</th>\n",
       "      <td>1</td>\n",
       "    </tr>\n",
       "  </tbody>\n",
       "</table>\n",
       "</div>"
      ],
      "text/plain": [
       "          sentiments\n",
       "neutral           31\n",
       "negative           4\n",
       "positive           1"
      ]
     },
     "execution_count": 81,
     "metadata": {},
     "output_type": "execute_result"
    }
   ],
   "source": [
    "sbucks_dress_sentiments = pd.DataFrame(sbucks_dress_senti['sentiments'].value_counts())\n",
    "sbucks_dress_sentiments"
   ]
  },
  {
   "cell_type": "markdown",
   "id": "401314f1-b556-4899-b642-62ff2fdd7491",
   "metadata": {},
   "source": [
    "### Pumpkin Spice"
   ]
  },
  {
   "cell_type": "code",
   "execution_count": 75,
   "id": "1ca40d22-57e1-4244-a691-2646ae9f067c",
   "metadata": {
    "tags": []
   },
   "outputs": [],
   "source": [
    "sbucks_p_spice_senti = sentiments(sbucks_p_spice)"
   ]
  },
  {
   "cell_type": "code",
   "execution_count": 76,
   "id": "ec70bb70-faf1-4587-90bc-b8fa664119d4",
   "metadata": {},
   "outputs": [
    {
     "data": {
      "text/html": [
       "<div>\n",
       "<style scoped>\n",
       "    .dataframe tbody tr th:only-of-type {\n",
       "        vertical-align: middle;\n",
       "    }\n",
       "\n",
       "    .dataframe tbody tr th {\n",
       "        vertical-align: top;\n",
       "    }\n",
       "\n",
       "    .dataframe thead th {\n",
       "        text-align: right;\n",
       "    }\n",
       "</style>\n",
       "<table border=\"1\" class=\"dataframe\">\n",
       "  <thead>\n",
       "    <tr style=\"text-align: right;\">\n",
       "      <th></th>\n",
       "      <th>subreddit</th>\n",
       "      <th>title</th>\n",
       "      <th>created_utc</th>\n",
       "      <th>tokenized</th>\n",
       "      <th>sentiment</th>\n",
       "      <th>sentiments</th>\n",
       "    </tr>\n",
       "  </thead>\n",
       "  <tbody>\n",
       "    <tr>\n",
       "      <th>2636</th>\n",
       "      <td>0</td>\n",
       "      <td>happy pumpkin spice season jack o lantern</td>\n",
       "      <td>1663109346</td>\n",
       "      <td>[happy, pumpkin, spice, season, jack, o, lantern]</td>\n",
       "      <td>[{'label': 'LABEL_2', 'score': 0.9534860253334...</td>\n",
       "      <td>positive</td>\n",
       "    </tr>\n",
       "    <tr>\n",
       "      <th>2698</th>\n",
       "      <td>0</td>\n",
       "      <td>is this kj s correct i know syrups have heaps ...</td>\n",
       "      <td>1663047373</td>\n",
       "      <td>[is, this, kj, s, correct, i, know, syrups, ha...</td>\n",
       "      <td>[{'label': 'LABEL_1', 'score': 0.5993539094924...</td>\n",
       "      <td>neutral</td>\n",
       "    </tr>\n",
       "    <tr>\n",
       "      <th>2906</th>\n",
       "      <td>0</td>\n",
       "      <td>your favorite custom off menu drinks using pum...</td>\n",
       "      <td>1662852146</td>\n",
       "      <td>[your, favorite, custom, off, menu, drinks, us...</td>\n",
       "      <td>[{'label': 'LABEL_1', 'score': 0.8353580832481...</td>\n",
       "      <td>neutral</td>\n",
       "    </tr>\n",
       "  </tbody>\n",
       "</table>\n",
       "</div>"
      ],
      "text/plain": [
       "      subreddit                                              title  \\\n",
       "2636          0          happy pumpkin spice season jack o lantern   \n",
       "2698          0  is this kj s correct i know syrups have heaps ...   \n",
       "2906          0  your favorite custom off menu drinks using pum...   \n",
       "\n",
       "      created_utc                                          tokenized  \\\n",
       "2636   1663109346  [happy, pumpkin, spice, season, jack, o, lantern]   \n",
       "2698   1663047373  [is, this, kj, s, correct, i, know, syrups, ha...   \n",
       "2906   1662852146  [your, favorite, custom, off, menu, drinks, us...   \n",
       "\n",
       "                                              sentiment sentiments  \n",
       "2636  [{'label': 'LABEL_2', 'score': 0.9534860253334...   positive  \n",
       "2698  [{'label': 'LABEL_1', 'score': 0.5993539094924...    neutral  \n",
       "2906  [{'label': 'LABEL_1', 'score': 0.8353580832481...    neutral  "
      ]
     },
     "execution_count": 76,
     "metadata": {},
     "output_type": "execute_result"
    }
   ],
   "source": [
    "sbucks_p_spice_senti.head(3)"
   ]
  },
  {
   "cell_type": "code",
   "execution_count": 82,
   "id": "0d0d6d10-970b-412a-9671-62af261130f9",
   "metadata": {},
   "outputs": [
    {
     "data": {
      "text/plain": [
       "neutral     35\n",
       "positive     5\n",
       "negative     3\n",
       "Name: sentiments, dtype: int64"
      ]
     },
     "execution_count": 82,
     "metadata": {},
     "output_type": "execute_result"
    }
   ],
   "source": [
    "sbucks_p_spice_senti['sentiments'].value_counts()"
   ]
  },
  {
   "cell_type": "code",
   "execution_count": 83,
   "id": "0892cdab-71b2-4f08-97c7-89b559a4acbd",
   "metadata": {
    "tags": []
   },
   "outputs": [
    {
     "data": {
      "text/html": [
       "<div>\n",
       "<style scoped>\n",
       "    .dataframe tbody tr th:only-of-type {\n",
       "        vertical-align: middle;\n",
       "    }\n",
       "\n",
       "    .dataframe tbody tr th {\n",
       "        vertical-align: top;\n",
       "    }\n",
       "\n",
       "    .dataframe thead th {\n",
       "        text-align: right;\n",
       "    }\n",
       "</style>\n",
       "<table border=\"1\" class=\"dataframe\">\n",
       "  <thead>\n",
       "    <tr style=\"text-align: right;\">\n",
       "      <th></th>\n",
       "      <th>sentiments</th>\n",
       "    </tr>\n",
       "  </thead>\n",
       "  <tbody>\n",
       "    <tr>\n",
       "      <th>neutral</th>\n",
       "      <td>35</td>\n",
       "    </tr>\n",
       "    <tr>\n",
       "      <th>positive</th>\n",
       "      <td>5</td>\n",
       "    </tr>\n",
       "    <tr>\n",
       "      <th>negative</th>\n",
       "      <td>3</td>\n",
       "    </tr>\n",
       "  </tbody>\n",
       "</table>\n",
       "</div>"
      ],
      "text/plain": [
       "          sentiments\n",
       "neutral           35\n",
       "positive           5\n",
       "negative           3"
      ]
     },
     "execution_count": 83,
     "metadata": {},
     "output_type": "execute_result"
    }
   ],
   "source": [
    "sbucks_p_spice_sentiments = pd.DataFrame(sbucks_p_spice_senti['sentiments'].value_counts())\n",
    "sbucks_p_spice_sentiments"
   ]
  },
  {
   "cell_type": "markdown",
   "id": "ace46c04-2a38-46f3-a209-29bb1b54ada5",
   "metadata": {
    "tags": []
   },
   "source": [
    "### Cold Brew"
   ]
  },
  {
   "cell_type": "code",
   "execution_count": 84,
   "id": "61d6df0f-e4ca-4fa0-a696-b113b12a9f44",
   "metadata": {
    "tags": []
   },
   "outputs": [],
   "source": [
    "sbucks_c_brew_senti = sentiments(sbucks_c_brew)"
   ]
  },
  {
   "cell_type": "code",
   "execution_count": 85,
   "id": "fd0e8cdc-1943-42a2-9e22-6224686178c7",
   "metadata": {},
   "outputs": [
    {
     "data": {
      "text/html": [
       "<div>\n",
       "<style scoped>\n",
       "    .dataframe tbody tr th:only-of-type {\n",
       "        vertical-align: middle;\n",
       "    }\n",
       "\n",
       "    .dataframe tbody tr th {\n",
       "        vertical-align: top;\n",
       "    }\n",
       "\n",
       "    .dataframe thead th {\n",
       "        text-align: right;\n",
       "    }\n",
       "</style>\n",
       "<table border=\"1\" class=\"dataframe\">\n",
       "  <thead>\n",
       "    <tr style=\"text-align: right;\">\n",
       "      <th></th>\n",
       "      <th>subreddit</th>\n",
       "      <th>title</th>\n",
       "      <th>created_utc</th>\n",
       "      <th>tokenized</th>\n",
       "      <th>sentiment</th>\n",
       "      <th>sentiments</th>\n",
       "    </tr>\n",
       "  </thead>\n",
       "  <tbody>\n",
       "    <tr>\n",
       "      <th>2508</th>\n",
       "      <td>0</td>\n",
       "      <td>cold brew and brewed coffee pls</td>\n",
       "      <td>1663208386</td>\n",
       "      <td>[cold, brew, and, brewed, coffee, pls]</td>\n",
       "      <td>[{'label': 'LABEL_1', 'score': 0.6978935599327...</td>\n",
       "      <td>neutral</td>\n",
       "    </tr>\n",
       "    <tr>\n",
       "      <th>2652</th>\n",
       "      <td>0</td>\n",
       "      <td>what happened to starbucks cold brew</td>\n",
       "      <td>1663097976</td>\n",
       "      <td>[what, happened, to, starbucks, cold, brew]</td>\n",
       "      <td>[{'label': 'LABEL_1', 'score': 0.7445796132087...</td>\n",
       "      <td>neutral</td>\n",
       "    </tr>\n",
       "    <tr>\n",
       "      <th>2658</th>\n",
       "      <td>0</td>\n",
       "      <td>this was 9 a tall cold brew with no add ins at...</td>\n",
       "      <td>1663095561</td>\n",
       "      <td>[this, was, 9, a, tall, cold, brew, with, no, ...</td>\n",
       "      <td>[{'label': 'LABEL_2', 'score': 0.9462835788726...</td>\n",
       "      <td>positive</td>\n",
       "    </tr>\n",
       "  </tbody>\n",
       "</table>\n",
       "</div>"
      ],
      "text/plain": [
       "      subreddit                                              title  \\\n",
       "2508          0                    cold brew and brewed coffee pls   \n",
       "2652          0               what happened to starbucks cold brew   \n",
       "2658          0  this was 9 a tall cold brew with no add ins at...   \n",
       "\n",
       "      created_utc                                          tokenized  \\\n",
       "2508   1663208386             [cold, brew, and, brewed, coffee, pls]   \n",
       "2652   1663097976        [what, happened, to, starbucks, cold, brew]   \n",
       "2658   1663095561  [this, was, 9, a, tall, cold, brew, with, no, ...   \n",
       "\n",
       "                                              sentiment sentiments  \n",
       "2508  [{'label': 'LABEL_1', 'score': 0.6978935599327...    neutral  \n",
       "2652  [{'label': 'LABEL_1', 'score': 0.7445796132087...    neutral  \n",
       "2658  [{'label': 'LABEL_2', 'score': 0.9462835788726...   positive  "
      ]
     },
     "execution_count": 85,
     "metadata": {},
     "output_type": "execute_result"
    }
   ],
   "source": [
    "sbucks_c_brew_senti.head(3)"
   ]
  },
  {
   "cell_type": "code",
   "execution_count": 88,
   "id": "6b9c452f-71ce-4044-a7ca-afed76731004",
   "metadata": {},
   "outputs": [
    {
     "data": {
      "text/plain": [
       "neutral     39\n",
       "negative     4\n",
       "positive     3\n",
       "Name: sentiments, dtype: int64"
      ]
     },
     "execution_count": 88,
     "metadata": {},
     "output_type": "execute_result"
    }
   ],
   "source": [
    "sbucks_c_brew_senti['sentiments'].value_counts()"
   ]
  },
  {
   "cell_type": "code",
   "execution_count": 89,
   "id": "bf766220-ac42-4804-a7e3-93d0b2460380",
   "metadata": {
    "tags": []
   },
   "outputs": [
    {
     "data": {
      "text/html": [
       "<div>\n",
       "<style scoped>\n",
       "    .dataframe tbody tr th:only-of-type {\n",
       "        vertical-align: middle;\n",
       "    }\n",
       "\n",
       "    .dataframe tbody tr th {\n",
       "        vertical-align: top;\n",
       "    }\n",
       "\n",
       "    .dataframe thead th {\n",
       "        text-align: right;\n",
       "    }\n",
       "</style>\n",
       "<table border=\"1\" class=\"dataframe\">\n",
       "  <thead>\n",
       "    <tr style=\"text-align: right;\">\n",
       "      <th></th>\n",
       "      <th>sentiments</th>\n",
       "    </tr>\n",
       "  </thead>\n",
       "  <tbody>\n",
       "    <tr>\n",
       "      <th>neutral</th>\n",
       "      <td>39</td>\n",
       "    </tr>\n",
       "    <tr>\n",
       "      <th>negative</th>\n",
       "      <td>4</td>\n",
       "    </tr>\n",
       "    <tr>\n",
       "      <th>positive</th>\n",
       "      <td>3</td>\n",
       "    </tr>\n",
       "  </tbody>\n",
       "</table>\n",
       "</div>"
      ],
      "text/plain": [
       "          sentiments\n",
       "neutral           39\n",
       "negative           4\n",
       "positive           3"
      ]
     },
     "execution_count": 89,
     "metadata": {},
     "output_type": "execute_result"
    }
   ],
   "source": [
    "sbucks_c_brew_sentiments = pd.DataFrame(sbucks_c_brew_senti['sentiments'].value_counts())\n",
    "sbucks_c_brew_sentiments"
   ]
  },
  {
   "cell_type": "markdown",
   "id": "ea9b4716-10cd-448f-9758-f403894104e7",
   "metadata": {},
   "source": [
    "### Apple Crisp"
   ]
  },
  {
   "cell_type": "code",
   "execution_count": 97,
   "id": "3a941487-e0d5-47fd-ac32-c84fbc1b54c6",
   "metadata": {
    "tags": []
   },
   "outputs": [],
   "source": [
    "sbucks_a_crisp_senti = sentiments(sbucks_a_crisp)"
   ]
  },
  {
   "cell_type": "code",
   "execution_count": 98,
   "id": "6734b76c-49c0-44bd-91f3-a3e165f2fc4c",
   "metadata": {},
   "outputs": [
    {
     "data": {
      "text/html": [
       "<div>\n",
       "<style scoped>\n",
       "    .dataframe tbody tr th:only-of-type {\n",
       "        vertical-align: middle;\n",
       "    }\n",
       "\n",
       "    .dataframe tbody tr th {\n",
       "        vertical-align: top;\n",
       "    }\n",
       "\n",
       "    .dataframe thead th {\n",
       "        text-align: right;\n",
       "    }\n",
       "</style>\n",
       "<table border=\"1\" class=\"dataframe\">\n",
       "  <thead>\n",
       "    <tr style=\"text-align: right;\">\n",
       "      <th></th>\n",
       "      <th>subreddit</th>\n",
       "      <th>title</th>\n",
       "      <th>created_utc</th>\n",
       "      <th>tokenized</th>\n",
       "      <th>sentiment</th>\n",
       "      <th>sentiments</th>\n",
       "    </tr>\n",
       "  </thead>\n",
       "  <tbody>\n",
       "    <tr>\n",
       "      <th>2720</th>\n",
       "      <td>0</td>\n",
       "      <td>why does the apple crisp taste like straight c...</td>\n",
       "      <td>1663031317</td>\n",
       "      <td>[why, does, the, apple, crisp, taste, like, st...</td>\n",
       "      <td>[{'label': 'LABEL_0', 'score': 0.9693011045455...</td>\n",
       "      <td>negative</td>\n",
       "    </tr>\n",
       "    <tr>\n",
       "      <th>2735</th>\n",
       "      <td>0</td>\n",
       "      <td>apple crisp cold brew</td>\n",
       "      <td>1663023008</td>\n",
       "      <td>[apple, crisp, cold, brew]</td>\n",
       "      <td>[{'label': 'LABEL_1', 'score': 0.7091082930564...</td>\n",
       "      <td>neutral</td>\n",
       "    </tr>\n",
       "    <tr>\n",
       "      <th>2967</th>\n",
       "      <td>0</td>\n",
       "      <td>omg the iced apple crisp mach</td>\n",
       "      <td>1662786469</td>\n",
       "      <td>[omg, the, iced, apple, crisp, mach]</td>\n",
       "      <td>[{'label': 'LABEL_1', 'score': 0.7784996032714...</td>\n",
       "      <td>neutral</td>\n",
       "    </tr>\n",
       "  </tbody>\n",
       "</table>\n",
       "</div>"
      ],
      "text/plain": [
       "      subreddit                                              title  \\\n",
       "2720          0  why does the apple crisp taste like straight c...   \n",
       "2735          0                              apple crisp cold brew   \n",
       "2967          0                      omg the iced apple crisp mach   \n",
       "\n",
       "      created_utc                                          tokenized  \\\n",
       "2720   1663031317  [why, does, the, apple, crisp, taste, like, st...   \n",
       "2735   1663023008                         [apple, crisp, cold, brew]   \n",
       "2967   1662786469               [omg, the, iced, apple, crisp, mach]   \n",
       "\n",
       "                                              sentiment sentiments  \n",
       "2720  [{'label': 'LABEL_0', 'score': 0.9693011045455...   negative  \n",
       "2735  [{'label': 'LABEL_1', 'score': 0.7091082930564...    neutral  \n",
       "2967  [{'label': 'LABEL_1', 'score': 0.7784996032714...    neutral  "
      ]
     },
     "execution_count": 98,
     "metadata": {},
     "output_type": "execute_result"
    }
   ],
   "source": [
    "sbucks_a_crisp_senti.head(3)"
   ]
  },
  {
   "cell_type": "code",
   "execution_count": 99,
   "id": "0314f083-6d66-484e-b64e-ec1391985c43",
   "metadata": {},
   "outputs": [
    {
     "data": {
      "text/plain": [
       "neutral     12\n",
       "negative     2\n",
       "positive     1\n",
       "Name: sentiments, dtype: int64"
      ]
     },
     "execution_count": 99,
     "metadata": {},
     "output_type": "execute_result"
    }
   ],
   "source": [
    "sbucks_a_crisp_senti['sentiments'].value_counts()"
   ]
  },
  {
   "cell_type": "code",
   "execution_count": 100,
   "id": "8c276d5f-c983-4277-8934-6c06c80b3c59",
   "metadata": {
    "tags": []
   },
   "outputs": [
    {
     "data": {
      "text/html": [
       "<div>\n",
       "<style scoped>\n",
       "    .dataframe tbody tr th:only-of-type {\n",
       "        vertical-align: middle;\n",
       "    }\n",
       "\n",
       "    .dataframe tbody tr th {\n",
       "        vertical-align: top;\n",
       "    }\n",
       "\n",
       "    .dataframe thead th {\n",
       "        text-align: right;\n",
       "    }\n",
       "</style>\n",
       "<table border=\"1\" class=\"dataframe\">\n",
       "  <thead>\n",
       "    <tr style=\"text-align: right;\">\n",
       "      <th></th>\n",
       "      <th>sentiments</th>\n",
       "    </tr>\n",
       "  </thead>\n",
       "  <tbody>\n",
       "    <tr>\n",
       "      <th>neutral</th>\n",
       "      <td>12</td>\n",
       "    </tr>\n",
       "    <tr>\n",
       "      <th>negative</th>\n",
       "      <td>2</td>\n",
       "    </tr>\n",
       "    <tr>\n",
       "      <th>positive</th>\n",
       "      <td>1</td>\n",
       "    </tr>\n",
       "  </tbody>\n",
       "</table>\n",
       "</div>"
      ],
      "text/plain": [
       "          sentiments\n",
       "neutral           12\n",
       "negative           2\n",
       "positive           1"
      ]
     },
     "execution_count": 100,
     "metadata": {},
     "output_type": "execute_result"
    }
   ],
   "source": [
    "sbucks_a_crisp_sentiments = pd.DataFrame(sbucks_a_crisp_senti['sentiments'].value_counts())\n",
    "sbucks_a_crisp_sentiments"
   ]
  },
  {
   "cell_type": "markdown",
   "id": "6aaca5c5-3766-4a60-8c80-cd5f56b526fe",
   "metadata": {},
   "source": [
    "### Fall Launch"
   ]
  },
  {
   "cell_type": "code",
   "execution_count": 105,
   "id": "1cec7679-426a-4964-bc4a-643470aa55bf",
   "metadata": {
    "tags": []
   },
   "outputs": [],
   "source": [
    "sbucks_f_launch_senti = sentiments(sbucks_f_launch)"
   ]
  },
  {
   "cell_type": "code",
   "execution_count": 106,
   "id": "e7c29164-9917-4440-9a29-fe1457b3a3f4",
   "metadata": {},
   "outputs": [
    {
     "data": {
      "text/html": [
       "<div>\n",
       "<style scoped>\n",
       "    .dataframe tbody tr th:only-of-type {\n",
       "        vertical-align: middle;\n",
       "    }\n",
       "\n",
       "    .dataframe tbody tr th {\n",
       "        vertical-align: top;\n",
       "    }\n",
       "\n",
       "    .dataframe thead th {\n",
       "        text-align: right;\n",
       "    }\n",
       "</style>\n",
       "<table border=\"1\" class=\"dataframe\">\n",
       "  <thead>\n",
       "    <tr style=\"text-align: right;\">\n",
       "      <th></th>\n",
       "      <th>subreddit</th>\n",
       "      <th>title</th>\n",
       "      <th>created_utc</th>\n",
       "      <th>tokenized</th>\n",
       "      <th>sentiment</th>\n",
       "      <th>sentiments</th>\n",
       "    </tr>\n",
       "  </thead>\n",
       "  <tbody>\n",
       "    <tr>\n",
       "      <th>3113</th>\n",
       "      <td>0</td>\n",
       "      <td>fall drink that s not too sweet</td>\n",
       "      <td>1662682169</td>\n",
       "      <td>[fall, drink, that, s, not, too, sweet]</td>\n",
       "      <td>[{'label': 'LABEL_0', 'score': 0.4885034263134...</td>\n",
       "      <td>negative</td>\n",
       "    </tr>\n",
       "    <tr>\n",
       "      <th>3124</th>\n",
       "      <td>0</td>\n",
       "      <td>fall drink recs without coffee</td>\n",
       "      <td>1662676345</td>\n",
       "      <td>[fall, drink, recs, without, coffee]</td>\n",
       "      <td>[{'label': 'LABEL_1', 'score': 0.8270258307456...</td>\n",
       "      <td>neutral</td>\n",
       "    </tr>\n",
       "    <tr>\n",
       "      <th>3355</th>\n",
       "      <td>0</td>\n",
       "      <td>fall drinks central ohio</td>\n",
       "      <td>1662473112</td>\n",
       "      <td>[fall, drinks, central, ohio]</td>\n",
       "      <td>[{'label': 'LABEL_1', 'score': 0.8739259243011...</td>\n",
       "      <td>neutral</td>\n",
       "    </tr>\n",
       "  </tbody>\n",
       "</table>\n",
       "</div>"
      ],
      "text/plain": [
       "      subreddit                            title  created_utc  \\\n",
       "3113          0  fall drink that s not too sweet   1662682169   \n",
       "3124          0   fall drink recs without coffee   1662676345   \n",
       "3355          0         fall drinks central ohio   1662473112   \n",
       "\n",
       "                                    tokenized  \\\n",
       "3113  [fall, drink, that, s, not, too, sweet]   \n",
       "3124     [fall, drink, recs, without, coffee]   \n",
       "3355            [fall, drinks, central, ohio]   \n",
       "\n",
       "                                              sentiment sentiments  \n",
       "3113  [{'label': 'LABEL_0', 'score': 0.4885034263134...   negative  \n",
       "3124  [{'label': 'LABEL_1', 'score': 0.8270258307456...    neutral  \n",
       "3355  [{'label': 'LABEL_1', 'score': 0.8739259243011...    neutral  "
      ]
     },
     "execution_count": 106,
     "metadata": {},
     "output_type": "execute_result"
    }
   ],
   "source": [
    "sbucks_f_launch_senti.head(3)"
   ]
  },
  {
   "cell_type": "code",
   "execution_count": 107,
   "id": "490de3ab-5002-4d26-9307-9a583fdfe134",
   "metadata": {},
   "outputs": [
    {
     "data": {
      "text/plain": [
       "neutral     14\n",
       "positive     3\n",
       "negative     1\n",
       "Name: sentiments, dtype: int64"
      ]
     },
     "execution_count": 107,
     "metadata": {},
     "output_type": "execute_result"
    }
   ],
   "source": [
    "sbucks_f_launch_senti['sentiments'].value_counts()"
   ]
  },
  {
   "cell_type": "code",
   "execution_count": 108,
   "id": "f3fd1abb-983c-40b7-a8bc-9314ae5fa665",
   "metadata": {
    "tags": []
   },
   "outputs": [
    {
     "data": {
      "text/html": [
       "<div>\n",
       "<style scoped>\n",
       "    .dataframe tbody tr th:only-of-type {\n",
       "        vertical-align: middle;\n",
       "    }\n",
       "\n",
       "    .dataframe tbody tr th {\n",
       "        vertical-align: top;\n",
       "    }\n",
       "\n",
       "    .dataframe thead th {\n",
       "        text-align: right;\n",
       "    }\n",
       "</style>\n",
       "<table border=\"1\" class=\"dataframe\">\n",
       "  <thead>\n",
       "    <tr style=\"text-align: right;\">\n",
       "      <th></th>\n",
       "      <th>sentiments</th>\n",
       "    </tr>\n",
       "  </thead>\n",
       "  <tbody>\n",
       "    <tr>\n",
       "      <th>neutral</th>\n",
       "      <td>14</td>\n",
       "    </tr>\n",
       "    <tr>\n",
       "      <th>positive</th>\n",
       "      <td>3</td>\n",
       "    </tr>\n",
       "    <tr>\n",
       "      <th>negative</th>\n",
       "      <td>1</td>\n",
       "    </tr>\n",
       "  </tbody>\n",
       "</table>\n",
       "</div>"
      ],
      "text/plain": [
       "          sentiments\n",
       "neutral           14\n",
       "positive           3\n",
       "negative           1"
      ]
     },
     "execution_count": 108,
     "metadata": {},
     "output_type": "execute_result"
    }
   ],
   "source": [
    "sbucks_f_launch_sentiments = pd.DataFrame(sbucks_f_launch_senti['sentiments'].value_counts())\n",
    "sbucks_f_launch_sentiments"
   ]
  },
  {
   "cell_type": "markdown",
   "id": "725225d1-2580-4d48-b28b-18ad80f98f6e",
   "metadata": {
    "tags": []
   },
   "source": [
    "### Reward"
   ]
  },
  {
   "cell_type": "code",
   "execution_count": 101,
   "id": "1d1b6484-81b0-4713-a491-783a6b7ecc0a",
   "metadata": {
    "tags": []
   },
   "outputs": [],
   "source": [
    "sbucks_reward_senti = sentiments(sbucks_reward)"
   ]
  },
  {
   "cell_type": "code",
   "execution_count": 102,
   "id": "cd48d163-39ca-45b2-b0ac-c9bb06c3e14b",
   "metadata": {},
   "outputs": [
    {
     "data": {
      "text/html": [
       "<div>\n",
       "<style scoped>\n",
       "    .dataframe tbody tr th:only-of-type {\n",
       "        vertical-align: middle;\n",
       "    }\n",
       "\n",
       "    .dataframe tbody tr th {\n",
       "        vertical-align: top;\n",
       "    }\n",
       "\n",
       "    .dataframe thead th {\n",
       "        text-align: right;\n",
       "    }\n",
       "</style>\n",
       "<table border=\"1\" class=\"dataframe\">\n",
       "  <thead>\n",
       "    <tr style=\"text-align: right;\">\n",
       "      <th></th>\n",
       "      <th>subreddit</th>\n",
       "      <th>title</th>\n",
       "      <th>created_utc</th>\n",
       "      <th>tokenized</th>\n",
       "      <th>sentiment</th>\n",
       "      <th>sentiments</th>\n",
       "    </tr>\n",
       "  </thead>\n",
       "  <tbody>\n",
       "    <tr>\n",
       "      <th>2649</th>\n",
       "      <td>0</td>\n",
       "      <td>why do some starbucks stores not offer rewards...</td>\n",
       "      <td>1663099313</td>\n",
       "      <td>[why, do, some, starbucks, stores, not, offer,...</td>\n",
       "      <td>[{'label': 'LABEL_0', 'score': 0.5769333243370...</td>\n",
       "      <td>negative</td>\n",
       "    </tr>\n",
       "    <tr>\n",
       "      <th>2813</th>\n",
       "      <td>0</td>\n",
       "      <td>delicious free drink</td>\n",
       "      <td>1662939213</td>\n",
       "      <td>[delicious, free, drink]</td>\n",
       "      <td>[{'label': 'LABEL_2', 'score': 0.9467070102691...</td>\n",
       "      <td>positive</td>\n",
       "    </tr>\n",
       "    <tr>\n",
       "      <th>2870</th>\n",
       "      <td>0</td>\n",
       "      <td>free drink recommendation</td>\n",
       "      <td>1662890001</td>\n",
       "      <td>[free, drink, recommendation]</td>\n",
       "      <td>[{'label': 'LABEL_1', 'score': 0.7021298408508...</td>\n",
       "      <td>neutral</td>\n",
       "    </tr>\n",
       "  </tbody>\n",
       "</table>\n",
       "</div>"
      ],
      "text/plain": [
       "      subreddit                                              title  \\\n",
       "2649          0  why do some starbucks stores not offer rewards...   \n",
       "2813          0                               delicious free drink   \n",
       "2870          0                          free drink recommendation   \n",
       "\n",
       "      created_utc                                          tokenized  \\\n",
       "2649   1663099313  [why, do, some, starbucks, stores, not, offer,...   \n",
       "2813   1662939213                           [delicious, free, drink]   \n",
       "2870   1662890001                      [free, drink, recommendation]   \n",
       "\n",
       "                                              sentiment sentiments  \n",
       "2649  [{'label': 'LABEL_0', 'score': 0.5769333243370...   negative  \n",
       "2813  [{'label': 'LABEL_2', 'score': 0.9467070102691...   positive  \n",
       "2870  [{'label': 'LABEL_1', 'score': 0.7021298408508...    neutral  "
      ]
     },
     "execution_count": 102,
     "metadata": {},
     "output_type": "execute_result"
    }
   ],
   "source": [
    "sbucks_reward_senti.head(3)"
   ]
  },
  {
   "cell_type": "code",
   "execution_count": 103,
   "id": "aee8622f-7339-4ce4-bd96-605398ff7db0",
   "metadata": {},
   "outputs": [
    {
     "data": {
      "text/plain": [
       "neutral     8\n",
       "positive    3\n",
       "negative    2\n",
       "Name: sentiments, dtype: int64"
      ]
     },
     "execution_count": 103,
     "metadata": {},
     "output_type": "execute_result"
    }
   ],
   "source": [
    "sbucks_reward_senti['sentiments'].value_counts()"
   ]
  },
  {
   "cell_type": "code",
   "execution_count": 104,
   "id": "5da46ef8-83ea-4699-9808-51b982be453d",
   "metadata": {
    "tags": []
   },
   "outputs": [
    {
     "data": {
      "text/html": [
       "<div>\n",
       "<style scoped>\n",
       "    .dataframe tbody tr th:only-of-type {\n",
       "        vertical-align: middle;\n",
       "    }\n",
       "\n",
       "    .dataframe tbody tr th {\n",
       "        vertical-align: top;\n",
       "    }\n",
       "\n",
       "    .dataframe thead th {\n",
       "        text-align: right;\n",
       "    }\n",
       "</style>\n",
       "<table border=\"1\" class=\"dataframe\">\n",
       "  <thead>\n",
       "    <tr style=\"text-align: right;\">\n",
       "      <th></th>\n",
       "      <th>sentiments</th>\n",
       "    </tr>\n",
       "  </thead>\n",
       "  <tbody>\n",
       "    <tr>\n",
       "      <th>neutral</th>\n",
       "      <td>8</td>\n",
       "    </tr>\n",
       "    <tr>\n",
       "      <th>positive</th>\n",
       "      <td>3</td>\n",
       "    </tr>\n",
       "    <tr>\n",
       "      <th>negative</th>\n",
       "      <td>2</td>\n",
       "    </tr>\n",
       "  </tbody>\n",
       "</table>\n",
       "</div>"
      ],
      "text/plain": [
       "          sentiments\n",
       "neutral            8\n",
       "positive           3\n",
       "negative           2"
      ]
     },
     "execution_count": 104,
     "metadata": {},
     "output_type": "execute_result"
    }
   ],
   "source": [
    "sbucks_reward_sentiments = pd.DataFrame(sbucks_reward_senti['sentiments'].value_counts())\n",
    "sbucks_reward_sentiments"
   ]
  },
  {
   "cell_type": "markdown",
   "id": "7ef0073e-ae63-4a4e-a12c-1d8cbbf14c4f",
   "metadata": {},
   "source": [
    "### Service"
   ]
  },
  {
   "cell_type": "code",
   "execution_count": 109,
   "id": "d4083956-e0df-43cf-850e-23c4e531bc0c",
   "metadata": {
    "tags": []
   },
   "outputs": [],
   "source": [
    "sbucks_service_senti = sentiments(sbucks_service)"
   ]
  },
  {
   "cell_type": "code",
   "execution_count": 110,
   "id": "50c9a3ce-fd59-4263-b9f7-64422190be88",
   "metadata": {},
   "outputs": [
    {
     "data": {
      "text/html": [
       "<div>\n",
       "<style scoped>\n",
       "    .dataframe tbody tr th:only-of-type {\n",
       "        vertical-align: middle;\n",
       "    }\n",
       "\n",
       "    .dataframe tbody tr th {\n",
       "        vertical-align: top;\n",
       "    }\n",
       "\n",
       "    .dataframe thead th {\n",
       "        text-align: right;\n",
       "    }\n",
       "</style>\n",
       "<table border=\"1\" class=\"dataframe\">\n",
       "  <thead>\n",
       "    <tr style=\"text-align: right;\">\n",
       "      <th></th>\n",
       "      <th>subreddit</th>\n",
       "      <th>title</th>\n",
       "      <th>created_utc</th>\n",
       "      <th>tokenized</th>\n",
       "      <th>sentiment</th>\n",
       "      <th>sentiments</th>\n",
       "    </tr>\n",
       "  </thead>\n",
       "  <tbody>\n",
       "    <tr>\n",
       "      <th>2499</th>\n",
       "      <td>0</td>\n",
       "      <td>we had horses come through the drive thru rece...</td>\n",
       "      <td>1663212017</td>\n",
       "      <td>[we, had, horses, come, through, the, drive, t...</td>\n",
       "      <td>[{'label': 'LABEL_1', 'score': 0.8244970440864...</td>\n",
       "      <td>neutral</td>\n",
       "    </tr>\n",
       "    <tr>\n",
       "      <th>2500</th>\n",
       "      <td>0</td>\n",
       "      <td>having horses in the drive thru makes everythi...</td>\n",
       "      <td>1663211903</td>\n",
       "      <td>[having, horses, in, the, drive, thru, makes, ...</td>\n",
       "      <td>[{'label': 'LABEL_2', 'score': 0.9039303064346...</td>\n",
       "      <td>positive</td>\n",
       "    </tr>\n",
       "    <tr>\n",
       "      <th>2524</th>\n",
       "      <td>0</td>\n",
       "      <td>does the apple drizzle or brown sugar go good ...</td>\n",
       "      <td>1663198156</td>\n",
       "      <td>[does, the, apple, drizzle, or, brown, sugar, ...</td>\n",
       "      <td>[{'label': 'LABEL_2', 'score': 0.7906030416488...</td>\n",
       "      <td>positive</td>\n",
       "    </tr>\n",
       "  </tbody>\n",
       "</table>\n",
       "</div>"
      ],
      "text/plain": [
       "      subreddit                                              title  \\\n",
       "2499          0  we had horses come through the drive thru rece...   \n",
       "2500          0  having horses in the drive thru makes everythi...   \n",
       "2524          0  does the apple drizzle or brown sugar go good ...   \n",
       "\n",
       "      created_utc                                          tokenized  \\\n",
       "2499   1663212017  [we, had, horses, come, through, the, drive, t...   \n",
       "2500   1663211903  [having, horses, in, the, drive, thru, makes, ...   \n",
       "2524   1663198156  [does, the, apple, drizzle, or, brown, sugar, ...   \n",
       "\n",
       "                                              sentiment sentiments  \n",
       "2499  [{'label': 'LABEL_1', 'score': 0.8244970440864...    neutral  \n",
       "2500  [{'label': 'LABEL_2', 'score': 0.9039303064346...   positive  \n",
       "2524  [{'label': 'LABEL_2', 'score': 0.7906030416488...   positive  "
      ]
     },
     "execution_count": 110,
     "metadata": {},
     "output_type": "execute_result"
    }
   ],
   "source": [
    "sbucks_service_senti.head(3)"
   ]
  },
  {
   "cell_type": "code",
   "execution_count": 111,
   "id": "6092a3a8-14db-4162-84a6-e261aa8a1275",
   "metadata": {},
   "outputs": [
    {
     "data": {
      "text/plain": [
       "neutral     141\n",
       "negative     41\n",
       "positive     37\n",
       "Name: sentiments, dtype: int64"
      ]
     },
     "execution_count": 111,
     "metadata": {},
     "output_type": "execute_result"
    }
   ],
   "source": [
    "sbucks_service_senti['sentiments'].value_counts()"
   ]
  },
  {
   "cell_type": "code",
   "execution_count": 112,
   "id": "d58c368d-d150-475b-9194-a4b1b90c4c4c",
   "metadata": {
    "tags": []
   },
   "outputs": [
    {
     "data": {
      "text/html": [
       "<div>\n",
       "<style scoped>\n",
       "    .dataframe tbody tr th:only-of-type {\n",
       "        vertical-align: middle;\n",
       "    }\n",
       "\n",
       "    .dataframe tbody tr th {\n",
       "        vertical-align: top;\n",
       "    }\n",
       "\n",
       "    .dataframe thead th {\n",
       "        text-align: right;\n",
       "    }\n",
       "</style>\n",
       "<table border=\"1\" class=\"dataframe\">\n",
       "  <thead>\n",
       "    <tr style=\"text-align: right;\">\n",
       "      <th></th>\n",
       "      <th>sentiments</th>\n",
       "    </tr>\n",
       "  </thead>\n",
       "  <tbody>\n",
       "    <tr>\n",
       "      <th>neutral</th>\n",
       "      <td>141</td>\n",
       "    </tr>\n",
       "    <tr>\n",
       "      <th>negative</th>\n",
       "      <td>41</td>\n",
       "    </tr>\n",
       "    <tr>\n",
       "      <th>positive</th>\n",
       "      <td>37</td>\n",
       "    </tr>\n",
       "  </tbody>\n",
       "</table>\n",
       "</div>"
      ],
      "text/plain": [
       "          sentiments\n",
       "neutral          141\n",
       "negative          41\n",
       "positive          37"
      ]
     },
     "execution_count": 112,
     "metadata": {},
     "output_type": "execute_result"
    }
   ],
   "source": [
    "sbucks_service_sentiments = pd.DataFrame(sbucks_service_senti['sentiments'].value_counts())\n",
    "sbucks_service_sentiments"
   ]
  },
  {
   "cell_type": "markdown",
   "id": "bdbaa39c-4f57-4371-ad2e-de209c01a59e",
   "metadata": {},
   "source": [
    "### Barista"
   ]
  },
  {
   "cell_type": "code",
   "execution_count": 113,
   "id": "1f6c0df6-832a-4260-a73f-af0e36dd4856",
   "metadata": {
    "tags": []
   },
   "outputs": [],
   "source": [
    "sbucks_barista_senti = sentiments(sbucks_barista)"
   ]
  },
  {
   "cell_type": "code",
   "execution_count": 114,
   "id": "61638a50-1e19-4f76-854d-296aa55edad4",
   "metadata": {},
   "outputs": [
    {
     "data": {
      "text/html": [
       "<div>\n",
       "<style scoped>\n",
       "    .dataframe tbody tr th:only-of-type {\n",
       "        vertical-align: middle;\n",
       "    }\n",
       "\n",
       "    .dataframe tbody tr th {\n",
       "        vertical-align: top;\n",
       "    }\n",
       "\n",
       "    .dataframe thead th {\n",
       "        text-align: right;\n",
       "    }\n",
       "</style>\n",
       "<table border=\"1\" class=\"dataframe\">\n",
       "  <thead>\n",
       "    <tr style=\"text-align: right;\">\n",
       "      <th></th>\n",
       "      <th>subreddit</th>\n",
       "      <th>title</th>\n",
       "      <th>created_utc</th>\n",
       "      <th>tokenized</th>\n",
       "      <th>sentiment</th>\n",
       "      <th>sentiments</th>\n",
       "    </tr>\n",
       "  </thead>\n",
       "  <tbody>\n",
       "    <tr>\n",
       "      <th>2511</th>\n",
       "      <td>0</td>\n",
       "      <td>baristas what made you smile at work today</td>\n",
       "      <td>1663206743</td>\n",
       "      <td>[baristas, what, made, you, smile, at, work, t...</td>\n",
       "      <td>[{'label': 'LABEL_2', 'score': 0.8832364678382...</td>\n",
       "      <td>positive</td>\n",
       "    </tr>\n",
       "    <tr>\n",
       "      <th>2520</th>\n",
       "      <td>0</td>\n",
       "      <td>question for baristas</td>\n",
       "      <td>1663200077</td>\n",
       "      <td>[question, for, baristas]</td>\n",
       "      <td>[{'label': 'LABEL_1', 'score': 0.7694525718688...</td>\n",
       "      <td>neutral</td>\n",
       "    </tr>\n",
       "    <tr>\n",
       "      <th>2550</th>\n",
       "      <td>0</td>\n",
       "      <td>it s not the baristas fault</td>\n",
       "      <td>1663182394</td>\n",
       "      <td>[it, s, not, the, baristas, fault]</td>\n",
       "      <td>[{'label': 'LABEL_1', 'score': 0.5979842543601...</td>\n",
       "      <td>neutral</td>\n",
       "    </tr>\n",
       "  </tbody>\n",
       "</table>\n",
       "</div>"
      ],
      "text/plain": [
       "      subreddit                                       title  created_utc  \\\n",
       "2511          0  baristas what made you smile at work today   1663206743   \n",
       "2520          0                       question for baristas   1663200077   \n",
       "2550          0                 it s not the baristas fault   1663182394   \n",
       "\n",
       "                                              tokenized  \\\n",
       "2511  [baristas, what, made, you, smile, at, work, t...   \n",
       "2520                          [question, for, baristas]   \n",
       "2550                 [it, s, not, the, baristas, fault]   \n",
       "\n",
       "                                              sentiment sentiments  \n",
       "2511  [{'label': 'LABEL_2', 'score': 0.8832364678382...   positive  \n",
       "2520  [{'label': 'LABEL_1', 'score': 0.7694525718688...    neutral  \n",
       "2550  [{'label': 'LABEL_1', 'score': 0.5979842543601...    neutral  "
      ]
     },
     "execution_count": 114,
     "metadata": {},
     "output_type": "execute_result"
    }
   ],
   "source": [
    "sbucks_barista_senti.head(3)"
   ]
  },
  {
   "cell_type": "code",
   "execution_count": 115,
   "id": "00999690-c907-4fda-a8bd-baf433487540",
   "metadata": {},
   "outputs": [
    {
     "data": {
      "text/plain": [
       "neutral     83\n",
       "negative    20\n",
       "positive    16\n",
       "Name: sentiments, dtype: int64"
      ]
     },
     "execution_count": 115,
     "metadata": {},
     "output_type": "execute_result"
    }
   ],
   "source": [
    "sbucks_barista_senti['sentiments'].value_counts()"
   ]
  },
  {
   "cell_type": "code",
   "execution_count": 116,
   "id": "05d09967-647d-468f-81f1-655ff1d5125c",
   "metadata": {
    "tags": []
   },
   "outputs": [
    {
     "data": {
      "text/html": [
       "<div>\n",
       "<style scoped>\n",
       "    .dataframe tbody tr th:only-of-type {\n",
       "        vertical-align: middle;\n",
       "    }\n",
       "\n",
       "    .dataframe tbody tr th {\n",
       "        vertical-align: top;\n",
       "    }\n",
       "\n",
       "    .dataframe thead th {\n",
       "        text-align: right;\n",
       "    }\n",
       "</style>\n",
       "<table border=\"1\" class=\"dataframe\">\n",
       "  <thead>\n",
       "    <tr style=\"text-align: right;\">\n",
       "      <th></th>\n",
       "      <th>sentiments</th>\n",
       "    </tr>\n",
       "  </thead>\n",
       "  <tbody>\n",
       "    <tr>\n",
       "      <th>neutral</th>\n",
       "      <td>141</td>\n",
       "    </tr>\n",
       "    <tr>\n",
       "      <th>negative</th>\n",
       "      <td>41</td>\n",
       "    </tr>\n",
       "    <tr>\n",
       "      <th>positive</th>\n",
       "      <td>37</td>\n",
       "    </tr>\n",
       "  </tbody>\n",
       "</table>\n",
       "</div>"
      ],
      "text/plain": [
       "          sentiments\n",
       "neutral          141\n",
       "negative          41\n",
       "positive          37"
      ]
     },
     "execution_count": 116,
     "metadata": {},
     "output_type": "execute_result"
    }
   ],
   "source": [
    "sbucks_service_sentiments = pd.DataFrame(sbucks_service_senti['sentiments'].value_counts())\n",
    "sbucks_service_sentiments"
   ]
  },
  {
   "cell_type": "code",
   "execution_count": null,
   "id": "cc7709eb",
   "metadata": {},
   "outputs": [],
   "source": []
  },
  {
   "cell_type": "code",
   "execution_count": null,
   "id": "40be0bae",
   "metadata": {},
   "outputs": [],
   "source": []
  },
  {
   "cell_type": "code",
   "execution_count": null,
   "id": "46a85ac9",
   "metadata": {},
   "outputs": [],
   "source": []
  },
  {
   "cell_type": "code",
   "execution_count": null,
   "id": "b515df6c",
   "metadata": {},
   "outputs": [],
   "source": []
  },
  {
   "cell_type": "code",
   "execution_count": null,
   "id": "86176947",
   "metadata": {},
   "outputs": [],
   "source": []
  },
  {
   "cell_type": "code",
   "execution_count": null,
   "id": "09b1396f",
   "metadata": {},
   "outputs": [],
   "source": []
  },
  {
   "cell_type": "code",
   "execution_count": null,
   "id": "3f957e80",
   "metadata": {},
   "outputs": [],
   "source": []
  },
  {
   "cell_type": "code",
   "execution_count": null,
   "id": "918df860-5336-45fa-a68b-2018efaa48db",
   "metadata": {},
   "outputs": [],
   "source": [
    "# pip install --ignore-installed --upgrade tensorflow-gpu"
   ]
  }
 ],
 "metadata": {
  "kernelspec": {
   "display_name": "Python 3 (ipykernel)",
   "language": "python",
   "name": "python3"
  },
  "language_info": {
   "codemirror_mode": {
    "name": "ipython",
    "version": 3
   },
   "file_extension": ".py",
   "mimetype": "text/x-python",
   "name": "python",
   "nbconvert_exporter": "python",
   "pygments_lexer": "ipython3",
   "version": "3.9.12"
  },
  "vscode": {
   "interpreter": {
    "hash": "c29592dfe26c3b69cf4809b17a35da08b0c469cf0923c77f8f51a7709655b5af"
   }
  }
 },
 "nbformat": 4,
 "nbformat_minor": 5
}
