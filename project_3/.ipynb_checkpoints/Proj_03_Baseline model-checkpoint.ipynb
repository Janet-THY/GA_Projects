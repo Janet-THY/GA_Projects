{
 "cells": [
  {
   "cell_type": "markdown",
   "id": "b487b1b8-e420-4c56-aac4-93ab144753ce",
   "metadata": {
    "tags": []
   },
   "source": [
    "## Baseline Model"
   ]
  },
  {
   "cell_type": "code",
   "execution_count": 1,
   "id": "9a5867bc-bf24-4988-a864-f509dadff6f2",
   "metadata": {},
   "outputs": [
    {
     "data": {
      "text/plain": [
       "<function seaborn.rcmod.set_theme(context='notebook', style='darkgrid', palette='deep', font='sans-serif', font_scale=1, color_codes=True, rc=None)>"
      ]
     },
     "execution_count": 1,
     "metadata": {},
     "output_type": "execute_result"
    }
   ],
   "source": [
    "# import libraries\n",
    "import pandas as pd\n",
    "import numpy as np\n",
    "import matplotlib.pyplot as plt\n",
    "import seaborn as sns\n",
    "import re\n",
    "from nltk.stem.porter import PorterStemmer\n",
    "from nltk.stem import WordNetLemmatizer\n",
    "from nltk.corpus import stopwords\n",
    "from sklearn.feature_extraction.text import CountVectorizer, TfidfVectorizer\n",
    "from nltk.tokenize import word_tokenize, RegexpTokenizer\n",
    "import emoji\n",
    "from cleantext import clean\n",
    "\n",
    "from sklearn.naive_bayes import MultinomialNB\n",
    "from sklearn.metrics import confusion_matrix,ConfusionMatrixDisplay\n",
    "\n",
    "sns.set_theme"
   ]
  },
  {
   "cell_type": "code",
   "execution_count": 2,
   "id": "8f1cd9ed-157b-4184-be0b-2ddcc1de7603",
   "metadata": {},
   "outputs": [
    {
     "data": {
      "text/html": [
       "<div>\n",
       "<style scoped>\n",
       "    .dataframe tbody tr th:only-of-type {\n",
       "        vertical-align: middle;\n",
       "    }\n",
       "\n",
       "    .dataframe tbody tr th {\n",
       "        vertical-align: top;\n",
       "    }\n",
       "\n",
       "    .dataframe thead th {\n",
       "        text-align: right;\n",
       "    }\n",
       "</style>\n",
       "<table border=\"1\" class=\"dataframe\">\n",
       "  <thead>\n",
       "    <tr style=\"text-align: right;\">\n",
       "      <th></th>\n",
       "      <th>Unnamed: 0</th>\n",
       "      <th>subreddit</th>\n",
       "      <th>selftext</th>\n",
       "      <th>title</th>\n",
       "      <th>created_utc</th>\n",
       "    </tr>\n",
       "  </thead>\n",
       "  <tbody>\n",
       "    <tr>\n",
       "      <th>0</th>\n",
       "      <td>0</td>\n",
       "      <td>0</td>\n",
       "      <td>Does anybody know any questions that they’ll a...</td>\n",
       "      <td>I have an interview tomorrow</td>\n",
       "      <td>1661993255</td>\n",
       "    </tr>\n",
       "    <tr>\n",
       "      <th>1</th>\n",
       "      <td>1</td>\n",
       "      <td>0</td>\n",
       "      <td>NaN</td>\n",
       "      <td>What makes the nitro cold brew different from ...</td>\n",
       "      <td>1661988458</td>\n",
       "    </tr>\n",
       "    <tr>\n",
       "      <th>2</th>\n",
       "      <td>2</td>\n",
       "      <td>0</td>\n",
       "      <td>[removed]</td>\n",
       "      <td>QR Dunkin’ drink code in store scan ?</td>\n",
       "      <td>1661986477</td>\n",
       "    </tr>\n",
       "    <tr>\n",
       "      <th>3</th>\n",
       "      <td>3</td>\n",
       "      <td>0</td>\n",
       "      <td>After sweating on the sales floor all day at m...</td>\n",
       "      <td>I feel your pain</td>\n",
       "      <td>1661978897</td>\n",
       "    </tr>\n",
       "    <tr>\n",
       "      <th>4</th>\n",
       "      <td>4</td>\n",
       "      <td>0</td>\n",
       "      <td>Somebody ordered a medium ice decaf with an es...</td>\n",
       "      <td>what is the point????</td>\n",
       "      <td>1661973966</td>\n",
       "    </tr>\n",
       "  </tbody>\n",
       "</table>\n",
       "</div>"
      ],
      "text/plain": [
       "   Unnamed: 0  subreddit                                           selftext  \\\n",
       "0           0          0  Does anybody know any questions that they’ll a...   \n",
       "1           1          0                                                NaN   \n",
       "2           2          0                                          [removed]   \n",
       "3           3          0  After sweating on the sales floor all day at m...   \n",
       "4           4          0  Somebody ordered a medium ice decaf with an es...   \n",
       "\n",
       "                                               title  created_utc  \n",
       "0                       I have an interview tomorrow   1661993255  \n",
       "1  What makes the nitro cold brew different from ...   1661988458  \n",
       "2              QR Dunkin’ drink code in store scan ?   1661986477  \n",
       "3                                   I feel your pain   1661978897  \n",
       "4                              what is the point????   1661973966  "
      ]
     },
     "execution_count": 2,
     "metadata": {},
     "output_type": "execute_result"
    }
   ],
   "source": [
    "train_df = pd.read_csv('./datasets/combined_precleaned.csv')\n",
    "train_df.head()"
   ]
  },
  {
   "cell_type": "code",
   "execution_count": 3,
   "id": "05917f0b-60c5-4613-886d-34e13948fb5c",
   "metadata": {},
   "outputs": [
    {
     "data": {
      "text/html": [
       "<div>\n",
       "<style scoped>\n",
       "    .dataframe tbody tr th:only-of-type {\n",
       "        vertical-align: middle;\n",
       "    }\n",
       "\n",
       "    .dataframe tbody tr th {\n",
       "        vertical-align: top;\n",
       "    }\n",
       "\n",
       "    .dataframe thead th {\n",
       "        text-align: right;\n",
       "    }\n",
       "</style>\n",
       "<table border=\"1\" class=\"dataframe\">\n",
       "  <thead>\n",
       "    <tr style=\"text-align: right;\">\n",
       "      <th></th>\n",
       "      <th>subreddit</th>\n",
       "      <th>selftext</th>\n",
       "      <th>title</th>\n",
       "      <th>created_utc</th>\n",
       "    </tr>\n",
       "  </thead>\n",
       "  <tbody>\n",
       "    <tr>\n",
       "      <th>0</th>\n",
       "      <td>0</td>\n",
       "      <td>Does anybody know any questions that they’ll a...</td>\n",
       "      <td>I have an interview tomorrow</td>\n",
       "      <td>1661993255</td>\n",
       "    </tr>\n",
       "    <tr>\n",
       "      <th>1</th>\n",
       "      <td>0</td>\n",
       "      <td>NaN</td>\n",
       "      <td>What makes the nitro cold brew different from ...</td>\n",
       "      <td>1661988458</td>\n",
       "    </tr>\n",
       "    <tr>\n",
       "      <th>2</th>\n",
       "      <td>0</td>\n",
       "      <td>[removed]</td>\n",
       "      <td>QR Dunkin’ drink code in store scan ?</td>\n",
       "      <td>1661986477</td>\n",
       "    </tr>\n",
       "    <tr>\n",
       "      <th>3</th>\n",
       "      <td>0</td>\n",
       "      <td>After sweating on the sales floor all day at m...</td>\n",
       "      <td>I feel your pain</td>\n",
       "      <td>1661978897</td>\n",
       "    </tr>\n",
       "    <tr>\n",
       "      <th>4</th>\n",
       "      <td>0</td>\n",
       "      <td>Somebody ordered a medium ice decaf with an es...</td>\n",
       "      <td>what is the point????</td>\n",
       "      <td>1661973966</td>\n",
       "    </tr>\n",
       "  </tbody>\n",
       "</table>\n",
       "</div>"
      ],
      "text/plain": [
       "   subreddit                                           selftext  \\\n",
       "0          0  Does anybody know any questions that they’ll a...   \n",
       "1          0                                                NaN   \n",
       "2          0                                          [removed]   \n",
       "3          0  After sweating on the sales floor all day at m...   \n",
       "4          0  Somebody ordered a medium ice decaf with an es...   \n",
       "\n",
       "                                               title  created_utc  \n",
       "0                       I have an interview tomorrow   1661993255  \n",
       "1  What makes the nitro cold brew different from ...   1661988458  \n",
       "2              QR Dunkin’ drink code in store scan ?   1661986477  \n",
       "3                                   I feel your pain   1661978897  \n",
       "4                              what is the point????   1661973966  "
      ]
     },
     "execution_count": 3,
     "metadata": {},
     "output_type": "execute_result"
    }
   ],
   "source": [
    "train_df.drop(columns=['Unnamed: 0'], inplace = True)\n",
    "train_df.head()"
   ]
  },
  {
   "cell_type": "code",
   "execution_count": 4,
   "id": "89f62ae3-c9c5-41d4-807c-813e052747cc",
   "metadata": {},
   "outputs": [
    {
     "data": {
      "text/html": [
       "<div>\n",
       "<style scoped>\n",
       "    .dataframe tbody tr th:only-of-type {\n",
       "        vertical-align: middle;\n",
       "    }\n",
       "\n",
       "    .dataframe tbody tr th {\n",
       "        vertical-align: top;\n",
       "    }\n",
       "\n",
       "    .dataframe thead th {\n",
       "        text-align: right;\n",
       "    }\n",
       "</style>\n",
       "<table border=\"1\" class=\"dataframe\">\n",
       "  <thead>\n",
       "    <tr style=\"text-align: right;\">\n",
       "      <th></th>\n",
       "      <th>subreddit</th>\n",
       "      <th>selftext</th>\n",
       "      <th>title</th>\n",
       "      <th>created_utc</th>\n",
       "    </tr>\n",
       "  </thead>\n",
       "  <tbody>\n",
       "    <tr>\n",
       "      <th>4993</th>\n",
       "      <td>1</td>\n",
       "      <td>thoughts on giving decaf to jerks? rude ass cu...</td>\n",
       "      <td>decaffeinating assholes</td>\n",
       "      <td>1660007527</td>\n",
       "    </tr>\n",
       "    <tr>\n",
       "      <th>4994</th>\n",
       "      <td>1</td>\n",
       "      <td>I am….. also a human being, you know.</td>\n",
       "      <td>Thinking about that time a customer said “bett...</td>\n",
       "      <td>1660005551</td>\n",
       "    </tr>\n",
       "    <tr>\n",
       "      <th>4995</th>\n",
       "      <td>1</td>\n",
       "      <td>Not sure if anyone has read the fall ppk yet, ...</td>\n",
       "      <td>Fall PPK</td>\n",
       "      <td>1660004875</td>\n",
       "    </tr>\n",
       "    <tr>\n",
       "      <th>4996</th>\n",
       "      <td>1</td>\n",
       "      <td>So a few days ago my manager talked to me abou...</td>\n",
       "      <td>Will I get fired?</td>\n",
       "      <td>1660004227</td>\n",
       "    </tr>\n",
       "    <tr>\n",
       "      <th>4997</th>\n",
       "      <td>1</td>\n",
       "      <td>[removed]</td>\n",
       "      <td>How to Put in Two Weeks? / Rant</td>\n",
       "      <td>1660003842</td>\n",
       "    </tr>\n",
       "  </tbody>\n",
       "</table>\n",
       "</div>"
      ],
      "text/plain": [
       "      subreddit                                           selftext  \\\n",
       "4993          1  thoughts on giving decaf to jerks? rude ass cu...   \n",
       "4994          1              I am….. also a human being, you know.   \n",
       "4995          1  Not sure if anyone has read the fall ppk yet, ...   \n",
       "4996          1  So a few days ago my manager talked to me abou...   \n",
       "4997          1                                          [removed]   \n",
       "\n",
       "                                                  title  created_utc  \n",
       "4993                            decaffeinating assholes   1660007527  \n",
       "4994  Thinking about that time a customer said “bett...   1660005551  \n",
       "4995                                           Fall PPK   1660004875  \n",
       "4996                                  Will I get fired?   1660004227  \n",
       "4997                    How to Put in Two Weeks? / Rant   1660003842  "
      ]
     },
     "execution_count": 4,
     "metadata": {},
     "output_type": "execute_result"
    }
   ],
   "source": [
    "train_df.tail()"
   ]
  },
  {
   "cell_type": "code",
   "execution_count": 5,
   "id": "97413a5b-2031-4446-a654-212b96e35184",
   "metadata": {},
   "outputs": [],
   "source": [
    "X = train_df[['title']]\n",
    "y = train_df['subreddit']"
   ]
  },
  {
   "cell_type": "code",
   "execution_count": 6,
   "id": "3d2c88e5-7db5-421c-b9ea-f59c2bb2b9cd",
   "metadata": {},
   "outputs": [
    {
     "data": {
      "text/plain": [
       "1    0.5002\n",
       "0    0.4998\n",
       "Name: subreddit, dtype: float64"
      ]
     },
     "execution_count": 6,
     "metadata": {},
     "output_type": "execute_result"
    }
   ],
   "source": [
    "# Check what we need to check in a classification problem. - distribution of classes in `y` for choosing appropriate metrics\n",
    "y.value_counts(normalize = True)"
   ]
  },
  {
   "cell_type": "code",
   "execution_count": 7,
   "id": "c2d7a86d-da1b-40f4-bf52-ff38afe0da54",
   "metadata": {},
   "outputs": [],
   "source": [
    "from sklearn.model_selection import train_test_split, GridSearchCV # split our data and run hyperparameter search"
   ]
  },
  {
   "cell_type": "code",
   "execution_count": 8,
   "id": "d3b4c2e2-3dcf-4013-91c8-128017f07a7e",
   "metadata": {},
   "outputs": [],
   "source": [
    "# Split the data into the training and testing sets.\n",
    "X_train, X_test, y_train, y_test = train_test_split(X,\n",
    "                                                    y,\n",
    "                                                    test_size=0.25,\n",
    "                                                    stratify=y,\n",
    "                                                    random_state=42)"
   ]
  },
  {
   "cell_type": "code",
   "execution_count": 9,
   "id": "4f0dd65c-c2c1-49b6-9960-3dae16a420d4",
   "metadata": {},
   "outputs": [
    {
     "data": {
      "text/plain": [
       "0    0.5\n",
       "1    0.5\n",
       "Name: subreddit, dtype: float64"
      ]
     },
     "execution_count": 9,
     "metadata": {},
     "output_type": "execute_result"
    }
   ],
   "source": [
    "y_test.value_counts(normalize=True)"
   ]
  },
  {
   "cell_type": "code",
   "execution_count": 10,
   "id": "9787502a-2891-4c91-bc46-4a0eec3db98a",
   "metadata": {},
   "outputs": [],
   "source": [
    "# Instantiate our CountVectorizer. We'll just remove stopwords and stop with top 500 features (ordered by term frequency across the corpus)\n",
    "cvec = CountVectorizer(max_features = 500, stop_words = 'english') # check hyperparameter"
   ]
  },
  {
   "cell_type": "code",
   "execution_count": 11,
   "id": "24049edf-5e30-4e75-9e16-3c97b4d05996",
   "metadata": {},
   "outputs": [],
   "source": [
    "# should use pipeline here, below is for illustration only\n",
    "# Fit-transform our CountVectorizer on the training data and transform testing data.\n",
    "X_train_cvec = cvec.fit_transform(X_train['title'])\n",
    "X_test_cvec = cvec.transform(X_test['title'])"
   ]
  },
  {
   "cell_type": "code",
   "execution_count": 12,
   "id": "dc3c89a8-8f36-45f6-942e-d5e108e89d54",
   "metadata": {},
   "outputs": [
    {
     "data": {
      "text/plain": [
       "<3748x500 sparse matrix of type '<class 'numpy.int64'>'\n",
       "\twith 11417 stored elements in Compressed Sparse Row format>"
      ]
     },
     "execution_count": 12,
     "metadata": {},
     "output_type": "execute_result"
    }
   ],
   "source": [
    "X_train_cvec"
   ]
  },
  {
   "cell_type": "markdown",
   "id": "1426f730-31af-45be-b79e-11377a403f84",
   "metadata": {},
   "source": [
    "### Fit Naive Bayes model"
   ]
  },
  {
   "cell_type": "code",
   "execution_count": 13,
   "id": "4046a6df-c67e-462e-9ca1-cc6454e9b4c3",
   "metadata": {},
   "outputs": [],
   "source": [
    "# Instantiate our model!\n",
    "nb = MultinomialNB()"
   ]
  },
  {
   "cell_type": "code",
   "execution_count": 14,
   "id": "35902ca3-ecaf-49ee-bc2a-074a7b6d74c4",
   "metadata": {},
   "outputs": [],
   "source": [
    "# Fit our model!\n",
    "model = nb.fit(X_train_cvec, y_train)"
   ]
  },
  {
   "cell_type": "code",
   "execution_count": 15,
   "id": "cb9482fd-97ad-4ce1-bef8-d4240841eb92",
   "metadata": {},
   "outputs": [],
   "source": [
    "# Generate our predictions!\n",
    "predictions = model.predict(X_test_cvec)"
   ]
  },
  {
   "cell_type": "code",
   "execution_count": 16,
   "id": "825de8c3-a6e8-4d16-9ef0-c642961d465f",
   "metadata": {},
   "outputs": [
    {
     "data": {
      "text/plain": [
       "0.7966915688367129"
      ]
     },
     "execution_count": 16,
     "metadata": {},
     "output_type": "execute_result"
    }
   ],
   "source": [
    "# Score our model on the training set.\n",
    "model.score(X_train_cvec, y_train)"
   ]
  },
  {
   "cell_type": "code",
   "execution_count": 17,
   "id": "23ed1edb-d462-4e1e-975d-843da4fbb23f",
   "metadata": {},
   "outputs": [
    {
     "data": {
      "text/plain": [
       "0.7528"
      ]
     },
     "execution_count": 17,
     "metadata": {},
     "output_type": "execute_result"
    }
   ],
   "source": [
    "# Score our model on the testing set.\n",
    "model.score(X_test_cvec, y_test)"
   ]
  },
  {
   "cell_type": "code",
   "execution_count": null,
   "id": "01b4bf9e-b7b7-447a-94e7-e4c8b7e3d8c9",
   "metadata": {},
   "outputs": [],
   "source": []
  }
 ],
 "metadata": {
  "kernelspec": {
   "display_name": "Python 3 (ipykernel)",
   "language": "python",
   "name": "python3"
  },
  "language_info": {
   "codemirror_mode": {
    "name": "ipython",
    "version": 3
   },
   "file_extension": ".py",
   "mimetype": "text/x-python",
   "name": "python",
   "nbconvert_exporter": "python",
   "pygments_lexer": "ipython3",
   "version": "3.9.12"
  }
 },
 "nbformat": 4,
 "nbformat_minor": 5
}
