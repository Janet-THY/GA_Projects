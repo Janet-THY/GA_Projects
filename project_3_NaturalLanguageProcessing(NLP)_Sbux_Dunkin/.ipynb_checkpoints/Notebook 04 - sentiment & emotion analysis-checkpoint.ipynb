{
 "cells": [
  {
   "cell_type": "markdown",
   "id": "6c93fe72-d917-4076-adb9-67dc22703c57",
   "metadata": {},
   "source": [
    "# Sentiment and Emotion Analysis"
   ]
  },
  {
   "cell_type": "markdown",
   "id": "46a7eb51-769b-4076-bb69-fd48d4fe9354",
   "metadata": {},
   "source": [
    "Notebook 4 of 4"
   ]
  },
  {
   "cell_type": "markdown",
   "id": "6f1cc045-8c17-4b1d-a5c1-bfd2f87f77b1",
   "metadata": {},
   "source": [
    "We will analyse the posts from each of the subreddits as well as some of the major topics from each to get understanding on the communities sentiment and emotion. In order to do so, we will utilise the Hugging Face pre-trained models for both sentiment analysis and emotion analysis.\n",
    " \n",
    "The topics for each subreddit we will explore are:\n",
    "- Dunkin Donuts\n",
    " 1. dunkin donuts \n",
    " 2. cold brew \n",
    " 3. butter pecan\n",
    " 4. iced coffee\n",
    " 5. local dunkin\n",
    " 6. reward (free drinks, free beverages, point) \n",
    " 7. service (mobile order, drive through, staff) \n",
    " 8. barista\n",
    " \n",
    "- Starbucks\n",
    " 1. dress code \n",
    " 2. pumpkin spice\n",
    " 3. cold brew\n",
    " 4. iced coffee \n",
    " 5. fall launch\n",
    " 6. reward (free drinks, free beverages, point) \n",
    " 7. service (mobile order, drive through, staff) \n",
    " 8. barista\n",
    " \n",
    "Dunkin Donuts and Starbucks offer their signature unique products alongside with common beverages. We conducted analysis on the top 3 most popular products for each subreddit based on the frequency of the words appear in the subreddit. The local and upcoming launch of product are also hot topics in both subreddits. Reward system and service are areas to check for review. Barista is surprisingly being mentioned more in Starbucks than Dunkin. \n"
   ]
  },
  {
   "cell_type": "markdown",
   "id": "e064b9ad-725e-463a-927e-718fae92f29e",
   "metadata": {},
   "source": [
    "## Import Clean Data"
   ]
  },
  {
   "cell_type": "code",
   "execution_count": 1,
   "id": "a604592e-2077-417f-8083-c3ea3e06f0ff",
   "metadata": {},
   "outputs": [],
   "source": [
    "# import libraries\n",
    "import pandas as pd\n",
    "import numpy as np\n",
    "import seaborn as sns\n",
    "import matplotlib.pyplot as plt\n",
    "from nltk.tokenize import word_tokenize, RegexpTokenizer\n",
    "from transformers import pipeline"
   ]
  },
  {
   "cell_type": "code",
   "execution_count": 2,
   "id": "2dea8d91-8dcc-410c-91f1-d33293837c24",
   "metadata": {},
   "outputs": [
    {
     "data": {
      "text/plain": [
       "(4997, 6)"
      ]
     },
     "execution_count": 2,
     "metadata": {},
     "output_type": "execute_result"
    }
   ],
   "source": [
    "combined_df = pd.read_csv('./datasets/combined_cleaned.csv')\n",
    "combined_df.shape"
   ]
  },
  {
   "cell_type": "code",
   "execution_count": 3,
   "id": "94c99b62-e1f1-47c7-9285-bdd771e27cb1",
   "metadata": {},
   "outputs": [
    {
     "name": "stdout",
     "output_type": "stream",
     "text": [
      "<class 'pandas.core.frame.DataFrame'>\n",
      "RangeIndex: 4997 entries, 0 to 4996\n",
      "Data columns (total 6 columns):\n",
      " #   Column          Non-Null Count  Dtype \n",
      "---  ------          --------------  ----- \n",
      " 0   Unnamed: 0      4997 non-null   int64 \n",
      " 1   subreddit       4997 non-null   int64 \n",
      " 2   selftext        3279 non-null   object\n",
      " 3   title           4996 non-null   object\n",
      " 4   created_utc     4997 non-null   int64 \n",
      " 5   title_selftext  4997 non-null   object\n",
      "dtypes: int64(3), object(3)\n",
      "memory usage: 234.4+ KB\n"
     ]
    }
   ],
   "source": [
    "combined_df.info()"
   ]
  },
  {
   "cell_type": "code",
   "execution_count": 4,
   "id": "d6f57d1e-093c-4014-a7d7-642dfd00c229",
   "metadata": {},
   "outputs": [
    {
     "data": {
      "text/html": [
       "<div>\n",
       "<style scoped>\n",
       "    .dataframe tbody tr th:only-of-type {\n",
       "        vertical-align: middle;\n",
       "    }\n",
       "\n",
       "    .dataframe tbody tr th {\n",
       "        vertical-align: top;\n",
       "    }\n",
       "\n",
       "    .dataframe thead th {\n",
       "        text-align: right;\n",
       "    }\n",
       "</style>\n",
       "<table border=\"1\" class=\"dataframe\">\n",
       "  <thead>\n",
       "    <tr style=\"text-align: right;\">\n",
       "      <th></th>\n",
       "      <th>Unnamed: 0</th>\n",
       "      <th>subreddit</th>\n",
       "      <th>selftext</th>\n",
       "      <th>title</th>\n",
       "      <th>created_utc</th>\n",
       "      <th>title_selftext</th>\n",
       "    </tr>\n",
       "  </thead>\n",
       "  <tbody>\n",
       "    <tr>\n",
       "      <th>0</th>\n",
       "      <td>0</td>\n",
       "      <td>1</td>\n",
       "      <td>NaN</td>\n",
       "      <td>my coworker placing the hash browns like army ...</td>\n",
       "      <td>1663204910</td>\n",
       "      <td>my coworker placing the hash browns like army ...</td>\n",
       "    </tr>\n",
       "    <tr>\n",
       "      <th>1</th>\n",
       "      <td>1</td>\n",
       "      <td>1</td>\n",
       "      <td>NaN</td>\n",
       "      <td>whats the deal with these?</td>\n",
       "      <td>1663196066</td>\n",
       "      <td>whats the deal with these? nan</td>\n",
       "    </tr>\n",
       "    <tr>\n",
       "      <th>2</th>\n",
       "      <td>2</td>\n",
       "      <td>1</td>\n",
       "      <td>I know I asked about this before but I'm just ...</td>\n",
       "      <td>working for dunkin</td>\n",
       "      <td>1663193081</td>\n",
       "      <td>working for dunkin i know i asked about this b...</td>\n",
       "    </tr>\n",
       "  </tbody>\n",
       "</table>\n",
       "</div>"
      ],
      "text/plain": [
       "   Unnamed: 0  subreddit                                           selftext  \\\n",
       "0           0          1                                                NaN   \n",
       "1           1          1                                                NaN   \n",
       "2           2          1  I know I asked about this before but I'm just ...   \n",
       "\n",
       "                                               title  created_utc  \\\n",
       "0  my coworker placing the hash browns like army ...   1663204910   \n",
       "1                         whats the deal with these?   1663196066   \n",
       "2                                 working for dunkin   1663193081   \n",
       "\n",
       "                                      title_selftext  \n",
       "0  my coworker placing the hash browns like army ...  \n",
       "1                     whats the deal with these? nan  \n",
       "2  working for dunkin i know i asked about this b...  "
      ]
     },
     "execution_count": 4,
     "metadata": {},
     "output_type": "execute_result"
    }
   ],
   "source": [
    "combined_df.head(3)"
   ]
  },
  {
   "cell_type": "code",
   "execution_count": 5,
   "id": "5155930a",
   "metadata": {},
   "outputs": [],
   "source": [
    "# drop unnecessary columns\n",
    "combined_df = combined_df.drop(columns = ['Unnamed: 0', 'selftext', 'title_selftext'], axis=1)"
   ]
  },
  {
   "cell_type": "code",
   "execution_count": 6,
   "id": "a529927a-8d1a-4c08-aa98-b8d82105559a",
   "metadata": {},
   "outputs": [
    {
     "data": {
      "text/plain": [
       "subreddit      0\n",
       "title          1\n",
       "created_utc    0\n",
       "dtype: int64"
      ]
     },
     "execution_count": 6,
     "metadata": {},
     "output_type": "execute_result"
    }
   ],
   "source": [
    "# check for null values\n",
    "combined_df.isnull().sum()"
   ]
  },
  {
   "cell_type": "code",
   "execution_count": 7,
   "id": "7610a6df",
   "metadata": {},
   "outputs": [],
   "source": [
    "# drop null\n",
    "combined_df = combined_df.dropna()"
   ]
  },
  {
   "cell_type": "code",
   "execution_count": 8,
   "id": "0c38d54f",
   "metadata": {},
   "outputs": [
    {
     "data": {
      "text/plain": [
       "subreddit      0.0\n",
       "title          0.0\n",
       "created_utc    0.0\n",
       "dtype: float64"
      ]
     },
     "execution_count": 8,
     "metadata": {},
     "output_type": "execute_result"
    }
   ],
   "source": [
    "# check for empty values\n",
    "combined_df[combined_df['title'] == ''].sum()"
   ]
  },
  {
   "cell_type": "markdown",
   "id": "7e6eb31b-316d-4c19-b4c4-2eaa51460e66",
   "metadata": {},
   "source": [
    "There is no missing values in dataset now."
   ]
  },
  {
   "cell_type": "markdown",
   "id": "7ab464b8-8805-4178-82a9-0923a25b88ba",
   "metadata": {},
   "source": [
    "### Tokenize words and join back into a sentence to remove unwanted characters"
   ]
  },
  {
   "cell_type": "code",
   "execution_count": 9,
   "id": "eb0da46b-6056-477a-9968-a1d0958581fb",
   "metadata": {},
   "outputs": [],
   "source": [
    "tokenizer = RegexpTokenizer(r'\\w+')"
   ]
  },
  {
   "cell_type": "code",
   "execution_count": 10,
   "id": "ac4b5e41-e867-4cd8-947d-a9f7a6731c80",
   "metadata": {},
   "outputs": [
    {
     "data": {
      "text/html": [
       "<div>\n",
       "<style scoped>\n",
       "    .dataframe tbody tr th:only-of-type {\n",
       "        vertical-align: middle;\n",
       "    }\n",
       "\n",
       "    .dataframe tbody tr th {\n",
       "        vertical-align: top;\n",
       "    }\n",
       "\n",
       "    .dataframe thead th {\n",
       "        text-align: right;\n",
       "    }\n",
       "</style>\n",
       "<table border=\"1\" class=\"dataframe\">\n",
       "  <thead>\n",
       "    <tr style=\"text-align: right;\">\n",
       "      <th></th>\n",
       "      <th>subreddit</th>\n",
       "      <th>title</th>\n",
       "      <th>created_utc</th>\n",
       "      <th>tokenized</th>\n",
       "    </tr>\n",
       "  </thead>\n",
       "  <tbody>\n",
       "    <tr>\n",
       "      <th>0</th>\n",
       "      <td>1</td>\n",
       "      <td>my coworker placing the hash browns like army ...</td>\n",
       "      <td>1663204910</td>\n",
       "      <td>[my, coworker, placing, the, hash, browns, lik...</td>\n",
       "    </tr>\n",
       "    <tr>\n",
       "      <th>1</th>\n",
       "      <td>1</td>\n",
       "      <td>whats the deal with these?</td>\n",
       "      <td>1663196066</td>\n",
       "      <td>[whats, the, deal, with, these]</td>\n",
       "    </tr>\n",
       "    <tr>\n",
       "      <th>2</th>\n",
       "      <td>1</td>\n",
       "      <td>working for dunkin</td>\n",
       "      <td>1663193081</td>\n",
       "      <td>[working, for, dunkin]</td>\n",
       "    </tr>\n",
       "  </tbody>\n",
       "</table>\n",
       "</div>"
      ],
      "text/plain": [
       "   subreddit                                              title  created_utc  \\\n",
       "0          1  my coworker placing the hash browns like army ...   1663204910   \n",
       "1          1                         whats the deal with these?   1663196066   \n",
       "2          1                                 working for dunkin   1663193081   \n",
       "\n",
       "                                           tokenized  \n",
       "0  [my, coworker, placing, the, hash, browns, lik...  \n",
       "1                    [whats, the, deal, with, these]  \n",
       "2                             [working, for, dunkin]  "
      ]
     },
     "execution_count": 10,
     "metadata": {},
     "output_type": "execute_result"
    }
   ],
   "source": [
    "combined_df['tokenized'] = combined_df['title'].apply(lambda x: tokenizer.tokenize(x.lower()))\n",
    "combined_df.head(3)"
   ]
  },
  {
   "cell_type": "code",
   "execution_count": 11,
   "id": "c8e3de39-b837-4611-b360-4c390745ee04",
   "metadata": {},
   "outputs": [
    {
     "data": {
      "text/html": [
       "<div>\n",
       "<style scoped>\n",
       "    .dataframe tbody tr th:only-of-type {\n",
       "        vertical-align: middle;\n",
       "    }\n",
       "\n",
       "    .dataframe tbody tr th {\n",
       "        vertical-align: top;\n",
       "    }\n",
       "\n",
       "    .dataframe thead th {\n",
       "        text-align: right;\n",
       "    }\n",
       "</style>\n",
       "<table border=\"1\" class=\"dataframe\">\n",
       "  <thead>\n",
       "    <tr style=\"text-align: right;\">\n",
       "      <th></th>\n",
       "      <th>subreddit</th>\n",
       "      <th>title</th>\n",
       "      <th>created_utc</th>\n",
       "      <th>tokenized</th>\n",
       "    </tr>\n",
       "  </thead>\n",
       "  <tbody>\n",
       "    <tr>\n",
       "      <th>0</th>\n",
       "      <td>1</td>\n",
       "      <td>my coworker placing the hash browns like army ...</td>\n",
       "      <td>1663204910</td>\n",
       "      <td>[my, coworker, placing, the, hash, browns, lik...</td>\n",
       "    </tr>\n",
       "    <tr>\n",
       "      <th>1</th>\n",
       "      <td>1</td>\n",
       "      <td>whats the deal with these</td>\n",
       "      <td>1663196066</td>\n",
       "      <td>[whats, the, deal, with, these]</td>\n",
       "    </tr>\n",
       "    <tr>\n",
       "      <th>2</th>\n",
       "      <td>1</td>\n",
       "      <td>working for dunkin</td>\n",
       "      <td>1663193081</td>\n",
       "      <td>[working, for, dunkin]</td>\n",
       "    </tr>\n",
       "  </tbody>\n",
       "</table>\n",
       "</div>"
      ],
      "text/plain": [
       "   subreddit                                              title  created_utc  \\\n",
       "0          1  my coworker placing the hash browns like army ...   1663204910   \n",
       "1          1                          whats the deal with these   1663196066   \n",
       "2          1                                 working for dunkin   1663193081   \n",
       "\n",
       "                                           tokenized  \n",
       "0  [my, coworker, placing, the, hash, browns, lik...  \n",
       "1                    [whats, the, deal, with, these]  \n",
       "2                             [working, for, dunkin]  "
      ]
     },
     "execution_count": 11,
     "metadata": {},
     "output_type": "execute_result"
    }
   ],
   "source": [
    "combined_df['title'] = combined_df['tokenized'].apply(lambda x: \" \".join(x))\n",
    "combined_df.head(3)"
   ]
  },
  {
   "cell_type": "markdown",
   "id": "f6cead8e-7279-4e78-95a7-b272a084bb6c",
   "metadata": {},
   "source": [
    "### Separate into Starbucks and Dunkin Donuts datasets for analysis"
   ]
  },
  {
   "cell_type": "code",
   "execution_count": 12,
   "id": "4bea73e9-10f4-4ba9-90df-3fc3ab7cbd05",
   "metadata": {},
   "outputs": [
    {
     "data": {
      "text/plain": [
       "(2498, 4)"
      ]
     },
     "execution_count": 12,
     "metadata": {},
     "output_type": "execute_result"
    }
   ],
   "source": [
    "ddonuts_text_df = combined_df[combined_df['subreddit'] == 1]\n",
    "ddonuts_text_df.shape"
   ]
  },
  {
   "cell_type": "code",
   "execution_count": 13,
   "id": "efa6f4ff-3479-4a63-81d3-6c5a6ee14d40",
   "metadata": {},
   "outputs": [
    {
     "data": {
      "text/html": [
       "<div>\n",
       "<style scoped>\n",
       "    .dataframe tbody tr th:only-of-type {\n",
       "        vertical-align: middle;\n",
       "    }\n",
       "\n",
       "    .dataframe tbody tr th {\n",
       "        vertical-align: top;\n",
       "    }\n",
       "\n",
       "    .dataframe thead th {\n",
       "        text-align: right;\n",
       "    }\n",
       "</style>\n",
       "<table border=\"1\" class=\"dataframe\">\n",
       "  <thead>\n",
       "    <tr style=\"text-align: right;\">\n",
       "      <th></th>\n",
       "      <th>subreddit</th>\n",
       "      <th>title</th>\n",
       "      <th>created_utc</th>\n",
       "      <th>tokenized</th>\n",
       "    </tr>\n",
       "  </thead>\n",
       "  <tbody>\n",
       "    <tr>\n",
       "      <th>0</th>\n",
       "      <td>1</td>\n",
       "      <td>my coworker placing the hash browns like army ...</td>\n",
       "      <td>1663204910</td>\n",
       "      <td>[my, coworker, placing, the, hash, browns, lik...</td>\n",
       "    </tr>\n",
       "    <tr>\n",
       "      <th>1</th>\n",
       "      <td>1</td>\n",
       "      <td>whats the deal with these</td>\n",
       "      <td>1663196066</td>\n",
       "      <td>[whats, the, deal, with, these]</td>\n",
       "    </tr>\n",
       "    <tr>\n",
       "      <th>2</th>\n",
       "      <td>1</td>\n",
       "      <td>working for dunkin</td>\n",
       "      <td>1663193081</td>\n",
       "      <td>[working, for, dunkin]</td>\n",
       "    </tr>\n",
       "  </tbody>\n",
       "</table>\n",
       "</div>"
      ],
      "text/plain": [
       "   subreddit                                              title  created_utc  \\\n",
       "0          1  my coworker placing the hash browns like army ...   1663204910   \n",
       "1          1                          whats the deal with these   1663196066   \n",
       "2          1                                 working for dunkin   1663193081   \n",
       "\n",
       "                                           tokenized  \n",
       "0  [my, coworker, placing, the, hash, browns, lik...  \n",
       "1                    [whats, the, deal, with, these]  \n",
       "2                             [working, for, dunkin]  "
      ]
     },
     "execution_count": 13,
     "metadata": {},
     "output_type": "execute_result"
    }
   ],
   "source": [
    "ddonuts_text_df.head(3)"
   ]
  },
  {
   "cell_type": "code",
   "execution_count": 14,
   "id": "cc09f3f7-96f7-4e59-b267-ed3a9724f9d3",
   "metadata": {},
   "outputs": [
    {
     "data": {
      "text/plain": [
       "(2498, 4)"
      ]
     },
     "execution_count": 14,
     "metadata": {},
     "output_type": "execute_result"
    }
   ],
   "source": [
    "sbucks_text_df = combined_df[combined_df['subreddit'] == 0]\n",
    "sbucks_text_df.shape"
   ]
  },
  {
   "cell_type": "code",
   "execution_count": 15,
   "id": "88229c88-ec64-47cd-affb-129d07895db9",
   "metadata": {},
   "outputs": [
    {
     "data": {
      "text/html": [
       "<div>\n",
       "<style scoped>\n",
       "    .dataframe tbody tr th:only-of-type {\n",
       "        vertical-align: middle;\n",
       "    }\n",
       "\n",
       "    .dataframe tbody tr th {\n",
       "        vertical-align: top;\n",
       "    }\n",
       "\n",
       "    .dataframe thead th {\n",
       "        text-align: right;\n",
       "    }\n",
       "</style>\n",
       "<table border=\"1\" class=\"dataframe\">\n",
       "  <thead>\n",
       "    <tr style=\"text-align: right;\">\n",
       "      <th></th>\n",
       "      <th>subreddit</th>\n",
       "      <th>title</th>\n",
       "      <th>created_utc</th>\n",
       "      <th>tokenized</th>\n",
       "    </tr>\n",
       "  </thead>\n",
       "  <tbody>\n",
       "    <tr>\n",
       "      <th>2498</th>\n",
       "      <td>0</td>\n",
       "      <td>interview tips</td>\n",
       "      <td>1663212467</td>\n",
       "      <td>[interview, tips]</td>\n",
       "    </tr>\n",
       "    <tr>\n",
       "      <th>2499</th>\n",
       "      <td>0</td>\n",
       "      <td>we had horses come through the drive thru rece...</td>\n",
       "      <td>1663212017</td>\n",
       "      <td>[we, had, horses, come, through, the, drive, t...</td>\n",
       "    </tr>\n",
       "    <tr>\n",
       "      <th>2500</th>\n",
       "      <td>0</td>\n",
       "      <td>having horses in the drive thru makes everythi...</td>\n",
       "      <td>1663211903</td>\n",
       "      <td>[having, horses, in, the, drive, thru, makes, ...</td>\n",
       "    </tr>\n",
       "  </tbody>\n",
       "</table>\n",
       "</div>"
      ],
      "text/plain": [
       "      subreddit                                              title  \\\n",
       "2498          0                                     interview tips   \n",
       "2499          0  we had horses come through the drive thru rece...   \n",
       "2500          0  having horses in the drive thru makes everythi...   \n",
       "\n",
       "      created_utc                                          tokenized  \n",
       "2498   1663212467                                  [interview, tips]  \n",
       "2499   1663212017  [we, had, horses, come, through, the, drive, t...  \n",
       "2500   1663211903  [having, horses, in, the, drive, thru, makes, ...  "
      ]
     },
     "execution_count": 15,
     "metadata": {},
     "output_type": "execute_result"
    }
   ],
   "source": [
    "sbucks_text_df.head(3)"
   ]
  },
  {
   "cell_type": "markdown",
   "id": "0e733be0-b04b-4b53-9884-3e3b6223e3b2",
   "metadata": {},
   "source": [
    "### Create separate dataframe for each of the subtopics for analysis"
   ]
  },
  {
   "cell_type": "code",
   "execution_count": 16,
   "id": "fa42c6f4-7e31-4ef2-adfa-070ac0524c42",
   "metadata": {},
   "outputs": [
    {
     "name": "stdout",
     "output_type": "stream",
     "text": [
      "Dataframe of dunkin_donuts has shape (60, 4)\n",
      "Dataframe of dunkin_c_brew has shape (90, 4)\n",
      "Dataframe of dunkin_i_coffee has shape (81, 4)\n",
      "Dataframe of dunkin_b_pecan has shape (36, 4)\n",
      "Dataframe of dunkin_local has shape (23, 4)\n",
      "Dataframe of dunkin_reward has shape (58, 4)\n",
      "Dataframe of dunkin_service has shape (233, 4)\n",
      "Dataframe of dunkin_barista has shape (2, 4)\n"
     ]
    }
   ],
   "source": [
    "searchfor = ['dunkin donut', 'dunkin doughnut']\n",
    "dunkin_donuts = ddonuts_text_df[ddonuts_text_df['title'].str.contains('|'.join(searchfor))]\n",
    "dunkin_donuts = dunkin_donuts.copy()\n",
    "print(f'Dataframe of dunkin_donuts has shape {dunkin_donuts.shape}')\n",
    "dunkin_c_brew = ddonuts_text_df[ddonuts_text_df['title'].str.contains('cold brew')]\n",
    "dunkin_c_brew = dunkin_c_brew.copy()\n",
    "print(f'Dataframe of dunkin_c_brew has shape {dunkin_c_brew.shape}')\n",
    "dunkin_i_coffee = ddonuts_text_df[ddonuts_text_df['title'].str.contains('iced coffee')]\n",
    "dunkin_i_coffee = dunkin_i_coffee.copy()\n",
    "print(f'Dataframe of dunkin_i_coffee has shape {dunkin_i_coffee.shape}')\n",
    "dunkin_b_pecan = ddonuts_text_df[ddonuts_text_df['title'].str.contains('butter pecan')]\n",
    "dunkin_b_pecan = dunkin_b_pecan.copy()\n",
    "print(f'Dataframe of dunkin_b_pecan has shape {dunkin_b_pecan.shape}')\n",
    "dunkin_local = ddonuts_text_df[ddonuts_text_df['title'].str.contains('local')]\n",
    "dunkin_local = dunkin_local.copy()\n",
    "print(f'Dataframe of dunkin_local has shape {dunkin_local.shape}')\n",
    "searchfor_1 = ['free drink', 'free bev', 'free beverag', 'rewards', 'reward']\n",
    "dunkin_reward = ddonuts_text_df[ddonuts_text_df['title'].str.contains('|'.join(searchfor_1))]\n",
    "dunkin_reward = dunkin_reward.copy()\n",
    "print(f'Dataframe of dunkin_reward has shape {dunkin_reward.shape}')\n",
    "searchfor_2 = ['mobile order', 'mobile orders', 'drive thru', 'drive through','app', 'workers', 'staff']\n",
    "dunkin_service = ddonuts_text_df[ddonuts_text_df['title'].str.contains('|'.join(searchfor_2))]\n",
    "dunkin_service = dunkin_service.copy()\n",
    "print(f'Dataframe of dunkin_service has shape {dunkin_service.shape}')\n",
    "searchfor_3 = ['barista', 'baristas']\n",
    "dunkin_barista = ddonuts_text_df[ddonuts_text_df['title'].str.contains('|'.join(searchfor_3))]\n",
    "dunkin_barista = dunkin_barista.copy()\n",
    "print(f'Dataframe of dunkin_barista has shape {dunkin_barista.shape}')"
   ]
  },
  {
   "cell_type": "code",
   "execution_count": 17,
   "id": "79e61c7e-ef34-4b50-bccc-129724a10f94",
   "metadata": {},
   "outputs": [
    {
     "name": "stdout",
     "output_type": "stream",
     "text": [
      "Dataframe of sbucks_dress has shape (36, 4)\n",
      "Dataframe of sbucks_p_spice has shape (43, 4)\n",
      "Dataframe of sbucks_c_brew has shape (46, 4)\n",
      "Dataframe of sbuck_i_coffee has shape (14, 4)\n",
      "Dataframe of sbucks_a_crisp has shape (15, 4)\n",
      "Dataframe of sbucks_f_launch has shape (18, 4)\n",
      "Dataframe of sbucks_reward has shape (13, 4)\n",
      "Dataframe of sbucks_service has shape (219, 4)\n",
      "Dataframe of sbucks_barista has shape (119, 4)\n"
     ]
    }
   ],
   "source": [
    "sbucks_dress = sbucks_text_df[sbucks_text_df['title'].str.contains('dress')]\n",
    "sbucks_dress = sbucks_dress.copy()\n",
    "print(f'Dataframe of sbucks_dress has shape {sbucks_dress.shape}')\n",
    "sbucks_p_spice = sbucks_text_df[sbucks_text_df['title'].str.contains('pumpkin spice')]\n",
    "sbucks_p_spice = sbucks_p_spice.copy()\n",
    "print(f'Dataframe of sbucks_p_spice has shape {sbucks_p_spice.shape}')\n",
    "sbucks_c_brew = sbucks_text_df[sbucks_text_df['title'].str.contains('cold brew')]\n",
    "sbucks_c_brew = sbucks_c_brew.copy()\n",
    "print(f'Dataframe of sbucks_c_brew has shape {sbucks_c_brew.shape}')\n",
    "sbucks_i_coffee = sbucks_text_df[sbucks_text_df['title'].str.contains('iced coffee')]\n",
    "sbucks_i_coffee = sbucks_i_coffee.copy()\n",
    "print(f'Dataframe of sbuck_i_coffee has shape {sbucks_i_coffee.shape}')\n",
    "sbucks_a_crisp = sbucks_text_df[sbucks_text_df['title'].str.contains('apple crisp')]\n",
    "sbucks_a_crisp = sbucks_a_crisp.copy() \n",
    "print(f'Dataframe of sbucks_a_crisp has shape {sbucks_a_crisp.shape}')\n",
    "searchfor_4 = ['fall launch', 'fall drink', 'fall refresher', 'fall drinks']\n",
    "sbucks_f_launch = sbucks_text_df[sbucks_text_df['title'].str.contains('|'.join(searchfor_4))]\n",
    "sbucks_f_launch = sbucks_f_launch.copy()\n",
    "print(f'Dataframe of sbucks_f_launch has shape {sbucks_f_launch.shape}')\n",
    "searchfor_5 = ['free drink', 'free bev', 'free beverag', 'rewards', 'reward']\n",
    "sbucks_reward = sbucks_text_df[sbucks_text_df['title'].str.contains('|'.join(searchfor_1))]\n",
    "sbucks_reward = sbucks_reward.copy()\n",
    "print(f'Dataframe of sbucks_reward has shape {sbucks_reward.shape}')\n",
    "searchfor_6 = ['mobile order', 'mobile orders', 'drive thru', 'drive through', 'app', 'workers', 'staff']\n",
    "sbucks_service = sbucks_text_df[sbucks_text_df['title'].str.contains('|'.join(searchfor_6))]\n",
    "sbucks_service = sbucks_service.copy()\n",
    "print(f'Dataframe of sbucks_service has shape {sbucks_service.shape}')\n",
    "searchfor_7 = ['barista', 'baristas']\n",
    "sbucks_barista = sbucks_text_df[sbucks_text_df['title'].str.contains('|'.join(searchfor_7))]\n",
    "sbucks_barista = sbucks_barista.copy()\n",
    "print(f'Dataframe of sbucks_barista has shape {sbucks_barista.shape}')"
   ]
  },
  {
   "cell_type": "markdown",
   "id": "650be658-6f85-493c-876c-65bec378990d",
   "metadata": {},
   "source": [
    "## Sentiment Analysis"
   ]
  },
  {
   "cell_type": "markdown",
   "id": "c81ab1a3-2cd0-4658-9148-7339fea7c95c",
   "metadata": {},
   "source": [
    "Model used: twitter-XLM-roBERTa-base for Sentiment Analysis. This model wastrained on about 124M tweets from Jan 2018 to Dec 2021, and finetuned for sentiment analysis with TweetEval benchmark. [source](https://huggingface.co/cardiffnlp/twitter-roberta-base-sentiment)"
   ]
  },
  {
   "cell_type": "code",
   "execution_count": 18,
   "id": "46e15d2a-83bb-418f-8eb7-2bfef5f75456",
   "metadata": {},
   "outputs": [],
   "source": [
    "from nltk.sentiment import SentimentIntensityAnalyzer\n",
    "import operator\n",
    "from transformers import AutoModelForSequenceClassification\n",
    "from transformers import TFAutoModelForSequenceClassification\n",
    "from transformers import AutoTokenizer, AutoConfig"
   ]
  },
  {
   "cell_type": "code",
   "execution_count": 19,
   "id": "b8e6188a-4426-4c7a-91ae-08de25cee411",
   "metadata": {},
   "outputs": [],
   "source": [
    "model_name = \"cardiffnlp/twitter-roberta-base-sentiment\"\n",
    "model = AutoModelForSequenceClassification.from_pretrained(model_name)\n",
    "tokenizer = AutoTokenizer.from_pretrained(model_name)"
   ]
  },
  {
   "cell_type": "code",
   "execution_count": 20,
   "id": "1ce68ed6-8b94-452a-8052-59f619434daa",
   "metadata": {},
   "outputs": [],
   "source": [
    "senti_classifier = pipeline(\"sentiment-analysis\", \n",
    "                            model=model,\n",
    "                            tokenizer = tokenizer)"
   ]
  },
  {
   "cell_type": "code",
   "execution_count": 21,
   "id": "8e1accd9-9b34-4628-9b79-a96f2e759b31",
   "metadata": {},
   "outputs": [],
   "source": [
    "# import pickle\n",
    "# import sys"
   ]
  },
  {
   "cell_type": "code",
   "execution_count": 22,
   "id": "806fff06-47ac-4de7-8144-f02a0171bf86",
   "metadata": {},
   "outputs": [],
   "source": [
    "# p = pickle.dumps(senti_classifier)\n",
    "# print(sys.getsizeof(p))"
   ]
  },
  {
   "cell_type": "code",
   "execution_count": 23,
   "id": "45971f27",
   "metadata": {},
   "outputs": [],
   "source": [
    "# define function to extract sentiments\n",
    "def sentiments(dataset):\n",
    "    dataset['sentiment'] = dataset['title'].apply(senti_classifier)\n",
    "    dataset['sentiments'] = dataset['sentiment'].apply(lambda x: x[0]['label'])\n",
    "    dataset['sentiments'] = dataset['sentiments'].map({'LABEL_0': 'negative', 'LABEL_1': 'neutral', 'LABEL_2': 'positive'})\n",
    "    return dataset"
   ]
  },
  {
   "cell_type": "markdown",
   "id": "b5df26ad-d4f5-494d-a571-6bf7dbf9eb5f",
   "metadata": {},
   "source": [
    "## Dunkin Sentiments"
   ]
  },
  {
   "cell_type": "markdown",
   "id": "5622495c-b9f0-4e6d-b7f6-0041da10f618",
   "metadata": {
    "tags": []
   },
   "source": [
    "### Overall"
   ]
  },
  {
   "cell_type": "code",
   "execution_count": 24,
   "id": "ed735e5e",
   "metadata": {},
   "outputs": [],
   "source": [
    "dunkin_sample_senti = sentiments(ddonuts_text_df.sample(2000))"
   ]
  },
  {
   "cell_type": "code",
   "execution_count": 25,
   "id": "429c12f8",
   "metadata": {},
   "outputs": [
    {
     "data": {
      "text/html": [
       "<div>\n",
       "<style scoped>\n",
       "    .dataframe tbody tr th:only-of-type {\n",
       "        vertical-align: middle;\n",
       "    }\n",
       "\n",
       "    .dataframe tbody tr th {\n",
       "        vertical-align: top;\n",
       "    }\n",
       "\n",
       "    .dataframe thead th {\n",
       "        text-align: right;\n",
       "    }\n",
       "</style>\n",
       "<table border=\"1\" class=\"dataframe\">\n",
       "  <thead>\n",
       "    <tr style=\"text-align: right;\">\n",
       "      <th></th>\n",
       "      <th>subreddit</th>\n",
       "      <th>title</th>\n",
       "      <th>created_utc</th>\n",
       "      <th>tokenized</th>\n",
       "      <th>sentiment</th>\n",
       "      <th>sentiments</th>\n",
       "    </tr>\n",
       "  </thead>\n",
       "  <tbody>\n",
       "    <tr>\n",
       "      <th>1828</th>\n",
       "      <td>1</td>\n",
       "      <td>what do you guys think of my everyday order sa...</td>\n",
       "      <td>1650138579</td>\n",
       "      <td>[what, do, you, guys, think, of, my, everyday,...</td>\n",
       "      <td>[{'label': 'LABEL_1', 'score': 0.8822487592697...</td>\n",
       "      <td>neutral</td>\n",
       "    </tr>\n",
       "    <tr>\n",
       "      <th>8</th>\n",
       "      <td>1</td>\n",
       "      <td>if you come in here</td>\n",
       "      <td>1663160938</td>\n",
       "      <td>[if, you, come, in, here]</td>\n",
       "      <td>[{'label': 'LABEL_1', 'score': 0.7715682387351...</td>\n",
       "      <td>neutral</td>\n",
       "    </tr>\n",
       "    <tr>\n",
       "      <th>2018</th>\n",
       "      <td>1</td>\n",
       "      <td>my time there and why i quit</td>\n",
       "      <td>1648032263</td>\n",
       "      <td>[my, time, there, and, why, i, quit]</td>\n",
       "      <td>[{'label': 'LABEL_0', 'score': 0.5430846810340...</td>\n",
       "      <td>negative</td>\n",
       "    </tr>\n",
       "  </tbody>\n",
       "</table>\n",
       "</div>"
      ],
      "text/plain": [
       "      subreddit                                              title  \\\n",
       "1828          1  what do you guys think of my everyday order sa...   \n",
       "8             1                                if you come in here   \n",
       "2018          1                       my time there and why i quit   \n",
       "\n",
       "      created_utc                                          tokenized  \\\n",
       "1828   1650138579  [what, do, you, guys, think, of, my, everyday,...   \n",
       "8      1663160938                          [if, you, come, in, here]   \n",
       "2018   1648032263               [my, time, there, and, why, i, quit]   \n",
       "\n",
       "                                              sentiment sentiments  \n",
       "1828  [{'label': 'LABEL_1', 'score': 0.8822487592697...    neutral  \n",
       "8     [{'label': 'LABEL_1', 'score': 0.7715682387351...    neutral  \n",
       "2018  [{'label': 'LABEL_0', 'score': 0.5430846810340...   negative  "
      ]
     },
     "execution_count": 25,
     "metadata": {},
     "output_type": "execute_result"
    }
   ],
   "source": [
    "dunkin_sample_senti.head(3)"
   ]
  },
  {
   "cell_type": "code",
   "execution_count": 26,
   "id": "8416ddbf-4001-430a-8874-7ad3c12fa48b",
   "metadata": {},
   "outputs": [
    {
     "data": {
      "text/plain": [
       "neutral     1380\n",
       "negative     402\n",
       "positive     218\n",
       "Name: sentiments, dtype: int64"
      ]
     },
     "execution_count": 26,
     "metadata": {},
     "output_type": "execute_result"
    }
   ],
   "source": [
    "dunkin_sample_senti['sentiments'].value_counts()"
   ]
  },
  {
   "cell_type": "code",
   "execution_count": 27,
   "id": "ba20e89d-efc2-402f-a86e-abdbc23a403d",
   "metadata": {},
   "outputs": [
    {
     "data": {
      "text/html": [
       "<div>\n",
       "<style scoped>\n",
       "    .dataframe tbody tr th:only-of-type {\n",
       "        vertical-align: middle;\n",
       "    }\n",
       "\n",
       "    .dataframe tbody tr th {\n",
       "        vertical-align: top;\n",
       "    }\n",
       "\n",
       "    .dataframe thead th {\n",
       "        text-align: right;\n",
       "    }\n",
       "</style>\n",
       "<table border=\"1\" class=\"dataframe\">\n",
       "  <thead>\n",
       "    <tr style=\"text-align: right;\">\n",
       "      <th></th>\n",
       "      <th>sentiments</th>\n",
       "    </tr>\n",
       "  </thead>\n",
       "  <tbody>\n",
       "    <tr>\n",
       "      <th>neutral</th>\n",
       "      <td>1380</td>\n",
       "    </tr>\n",
       "    <tr>\n",
       "      <th>negative</th>\n",
       "      <td>402</td>\n",
       "    </tr>\n",
       "    <tr>\n",
       "      <th>positive</th>\n",
       "      <td>218</td>\n",
       "    </tr>\n",
       "  </tbody>\n",
       "</table>\n",
       "</div>"
      ],
      "text/plain": [
       "          sentiments\n",
       "neutral         1380\n",
       "negative         402\n",
       "positive         218"
      ]
     },
     "execution_count": 27,
     "metadata": {},
     "output_type": "execute_result"
    }
   ],
   "source": [
    "dunkin_sentiments = pd.DataFrame(dunkin_sample_senti['sentiments'].value_counts())\n",
    "dunkin_sentiments"
   ]
  },
  {
   "cell_type": "markdown",
   "id": "b1029499-6d62-4c08-91da-b3c92b835c70",
   "metadata": {
    "tags": []
   },
   "source": [
    "### Dunkin Donuts"
   ]
  },
  {
   "cell_type": "code",
   "execution_count": 28,
   "id": "37da78aa-98b1-4cda-8517-dd2b70d9ea16",
   "metadata": {
    "tags": []
   },
   "outputs": [],
   "source": [
    "ddonuts_senti = sentiments(dunkin_donuts)"
   ]
  },
  {
   "cell_type": "code",
   "execution_count": 29,
   "id": "d7a4cf20-9d5d-495f-9ee0-3d40a4257e62",
   "metadata": {},
   "outputs": [
    {
     "data": {
      "text/html": [
       "<div>\n",
       "<style scoped>\n",
       "    .dataframe tbody tr th:only-of-type {\n",
       "        vertical-align: middle;\n",
       "    }\n",
       "\n",
       "    .dataframe tbody tr th {\n",
       "        vertical-align: top;\n",
       "    }\n",
       "\n",
       "    .dataframe thead th {\n",
       "        text-align: right;\n",
       "    }\n",
       "</style>\n",
       "<table border=\"1\" class=\"dataframe\">\n",
       "  <thead>\n",
       "    <tr style=\"text-align: right;\">\n",
       "      <th></th>\n",
       "      <th>subreddit</th>\n",
       "      <th>title</th>\n",
       "      <th>created_utc</th>\n",
       "      <th>tokenized</th>\n",
       "      <th>sentiment</th>\n",
       "      <th>sentiments</th>\n",
       "    </tr>\n",
       "  </thead>\n",
       "  <tbody>\n",
       "    <tr>\n",
       "      <th>18</th>\n",
       "      <td>1</td>\n",
       "      <td>2 dunkin donuts card first one to save pic and...</td>\n",
       "      <td>1663030303</td>\n",
       "      <td>[2, dunkin, donuts, card, first, one, to, save...</td>\n",
       "      <td>[{'label': 'LABEL_1', 'score': 0.7781171798706...</td>\n",
       "      <td>neutral</td>\n",
       "    </tr>\n",
       "    <tr>\n",
       "      <th>33</th>\n",
       "      <td>1</td>\n",
       "      <td>dunkin donuts interview</td>\n",
       "      <td>1662960022</td>\n",
       "      <td>[dunkin, donuts, interview]</td>\n",
       "      <td>[{'label': 'LABEL_1', 'score': 0.8438280820846...</td>\n",
       "      <td>neutral</td>\n",
       "    </tr>\n",
       "    <tr>\n",
       "      <th>35</th>\n",
       "      <td>1</td>\n",
       "      <td>dunkin donuts t mobile tuesday 2 codes</td>\n",
       "      <td>1662954206</td>\n",
       "      <td>[dunkin, donuts, t, mobile, tuesday, 2, codes]</td>\n",
       "      <td>[{'label': 'LABEL_1', 'score': 0.8879836797714...</td>\n",
       "      <td>neutral</td>\n",
       "    </tr>\n",
       "  </tbody>\n",
       "</table>\n",
       "</div>"
      ],
      "text/plain": [
       "    subreddit                                              title  created_utc  \\\n",
       "18          1  2 dunkin donuts card first one to save pic and...   1663030303   \n",
       "33          1                            dunkin donuts interview   1662960022   \n",
       "35          1             dunkin donuts t mobile tuesday 2 codes   1662954206   \n",
       "\n",
       "                                            tokenized  \\\n",
       "18  [2, dunkin, donuts, card, first, one, to, save...   \n",
       "33                        [dunkin, donuts, interview]   \n",
       "35     [dunkin, donuts, t, mobile, tuesday, 2, codes]   \n",
       "\n",
       "                                            sentiment sentiments  \n",
       "18  [{'label': 'LABEL_1', 'score': 0.7781171798706...    neutral  \n",
       "33  [{'label': 'LABEL_1', 'score': 0.8438280820846...    neutral  \n",
       "35  [{'label': 'LABEL_1', 'score': 0.8879836797714...    neutral  "
      ]
     },
     "execution_count": 29,
     "metadata": {},
     "output_type": "execute_result"
    }
   ],
   "source": [
    "ddonuts_senti.head(3)"
   ]
  },
  {
   "cell_type": "code",
   "execution_count": 30,
   "id": "86c85542-689e-48c5-b596-3529e36f968c",
   "metadata": {},
   "outputs": [
    {
     "data": {
      "text/plain": [
       "neutral     44\n",
       "negative    11\n",
       "positive     5\n",
       "Name: sentiments, dtype: int64"
      ]
     },
     "execution_count": 30,
     "metadata": {},
     "output_type": "execute_result"
    }
   ],
   "source": [
    "ddonuts_senti['sentiments'].value_counts()"
   ]
  },
  {
   "cell_type": "code",
   "execution_count": 31,
   "id": "50a65181-2fe8-4472-ade1-ddfdee2ca1a5",
   "metadata": {
    "tags": []
   },
   "outputs": [
    {
     "data": {
      "text/html": [
       "<div>\n",
       "<style scoped>\n",
       "    .dataframe tbody tr th:only-of-type {\n",
       "        vertical-align: middle;\n",
       "    }\n",
       "\n",
       "    .dataframe tbody tr th {\n",
       "        vertical-align: top;\n",
       "    }\n",
       "\n",
       "    .dataframe thead th {\n",
       "        text-align: right;\n",
       "    }\n",
       "</style>\n",
       "<table border=\"1\" class=\"dataframe\">\n",
       "  <thead>\n",
       "    <tr style=\"text-align: right;\">\n",
       "      <th></th>\n",
       "      <th>sentiments</th>\n",
       "    </tr>\n",
       "  </thead>\n",
       "  <tbody>\n",
       "    <tr>\n",
       "      <th>neutral</th>\n",
       "      <td>44</td>\n",
       "    </tr>\n",
       "    <tr>\n",
       "      <th>negative</th>\n",
       "      <td>11</td>\n",
       "    </tr>\n",
       "    <tr>\n",
       "      <th>positive</th>\n",
       "      <td>5</td>\n",
       "    </tr>\n",
       "  </tbody>\n",
       "</table>\n",
       "</div>"
      ],
      "text/plain": [
       "          sentiments\n",
       "neutral           44\n",
       "negative          11\n",
       "positive           5"
      ]
     },
     "execution_count": 31,
     "metadata": {},
     "output_type": "execute_result"
    }
   ],
   "source": [
    "ddonuts_sentiments = pd.DataFrame(ddonuts_senti['sentiments'].value_counts())\n",
    "ddonuts_sentiments"
   ]
  },
  {
   "cell_type": "markdown",
   "id": "cb0caf85-4678-459b-ac42-3b684bee60a6",
   "metadata": {
    "tags": []
   },
   "source": [
    "### Dunkin Cold Brew"
   ]
  },
  {
   "cell_type": "code",
   "execution_count": 32,
   "id": "9685f1d0-73bf-4ac0-a08f-61ffac1a10a2",
   "metadata": {
    "tags": []
   },
   "outputs": [],
   "source": [
    "dunkin_c_brew_senti = sentiments(dunkin_c_brew)"
   ]
  },
  {
   "cell_type": "code",
   "execution_count": 33,
   "id": "bf769537-974a-4618-8dfa-48963fc5816b",
   "metadata": {},
   "outputs": [
    {
     "data": {
      "text/html": [
       "<div>\n",
       "<style scoped>\n",
       "    .dataframe tbody tr th:only-of-type {\n",
       "        vertical-align: middle;\n",
       "    }\n",
       "\n",
       "    .dataframe tbody tr th {\n",
       "        vertical-align: top;\n",
       "    }\n",
       "\n",
       "    .dataframe thead th {\n",
       "        text-align: right;\n",
       "    }\n",
       "</style>\n",
       "<table border=\"1\" class=\"dataframe\">\n",
       "  <thead>\n",
       "    <tr style=\"text-align: right;\">\n",
       "      <th></th>\n",
       "      <th>subreddit</th>\n",
       "      <th>title</th>\n",
       "      <th>created_utc</th>\n",
       "      <th>tokenized</th>\n",
       "      <th>sentiment</th>\n",
       "      <th>sentiments</th>\n",
       "    </tr>\n",
       "  </thead>\n",
       "  <tbody>\n",
       "    <tr>\n",
       "      <th>41</th>\n",
       "      <td>1</td>\n",
       "      <td>this pumpkin cream cold brew is amazing weary_...</td>\n",
       "      <td>1662915853</td>\n",
       "      <td>[this, pumpkin, cream, cold, brew, is, amazing...</td>\n",
       "      <td>[{'label': 'LABEL_2', 'score': 0.9880346655845...</td>\n",
       "      <td>positive</td>\n",
       "    </tr>\n",
       "    <tr>\n",
       "      <th>52</th>\n",
       "      <td>1</td>\n",
       "      <td>anyone know what s the next coffee promo after...</td>\n",
       "      <td>1662825134</td>\n",
       "      <td>[anyone, know, what, s, the, next, coffee, pro...</td>\n",
       "      <td>[{'label': 'LABEL_1', 'score': 0.9409533739089...</td>\n",
       "      <td>neutral</td>\n",
       "    </tr>\n",
       "    <tr>\n",
       "      <th>59</th>\n",
       "      <td>1</td>\n",
       "      <td>is it weird that my small town dunkin for week...</td>\n",
       "      <td>1662739875</td>\n",
       "      <td>[is, it, weird, that, my, small, town, dunkin,...</td>\n",
       "      <td>[{'label': 'LABEL_0', 'score': 0.5979610681533...</td>\n",
       "      <td>negative</td>\n",
       "    </tr>\n",
       "  </tbody>\n",
       "</table>\n",
       "</div>"
      ],
      "text/plain": [
       "    subreddit                                              title  created_utc  \\\n",
       "41          1  this pumpkin cream cold brew is amazing weary_...   1662915853   \n",
       "52          1  anyone know what s the next coffee promo after...   1662825134   \n",
       "59          1  is it weird that my small town dunkin for week...   1662739875   \n",
       "\n",
       "                                            tokenized  \\\n",
       "41  [this, pumpkin, cream, cold, brew, is, amazing...   \n",
       "52  [anyone, know, what, s, the, next, coffee, pro...   \n",
       "59  [is, it, weird, that, my, small, town, dunkin,...   \n",
       "\n",
       "                                            sentiment sentiments  \n",
       "41  [{'label': 'LABEL_2', 'score': 0.9880346655845...   positive  \n",
       "52  [{'label': 'LABEL_1', 'score': 0.9409533739089...    neutral  \n",
       "59  [{'label': 'LABEL_0', 'score': 0.5979610681533...   negative  "
      ]
     },
     "execution_count": 33,
     "metadata": {},
     "output_type": "execute_result"
    }
   ],
   "source": [
    "dunkin_c_brew_senti.head(3)"
   ]
  },
  {
   "cell_type": "code",
   "execution_count": 34,
   "id": "40a66bf3-f705-4cca-9af6-f90c78dfeeb4",
   "metadata": {},
   "outputs": [
    {
     "data": {
      "text/plain": [
       "neutral     63\n",
       "negative    15\n",
       "positive    12\n",
       "Name: sentiments, dtype: int64"
      ]
     },
     "execution_count": 34,
     "metadata": {},
     "output_type": "execute_result"
    }
   ],
   "source": [
    "dunkin_c_brew_senti['sentiments'].value_counts()"
   ]
  },
  {
   "cell_type": "code",
   "execution_count": 35,
   "id": "d84bb1a2-732b-4cb2-b5d3-2b41f6acceed",
   "metadata": {
    "tags": []
   },
   "outputs": [
    {
     "data": {
      "text/html": [
       "<div>\n",
       "<style scoped>\n",
       "    .dataframe tbody tr th:only-of-type {\n",
       "        vertical-align: middle;\n",
       "    }\n",
       "\n",
       "    .dataframe tbody tr th {\n",
       "        vertical-align: top;\n",
       "    }\n",
       "\n",
       "    .dataframe thead th {\n",
       "        text-align: right;\n",
       "    }\n",
       "</style>\n",
       "<table border=\"1\" class=\"dataframe\">\n",
       "  <thead>\n",
       "    <tr style=\"text-align: right;\">\n",
       "      <th></th>\n",
       "      <th>sentiments</th>\n",
       "    </tr>\n",
       "  </thead>\n",
       "  <tbody>\n",
       "    <tr>\n",
       "      <th>neutral</th>\n",
       "      <td>63</td>\n",
       "    </tr>\n",
       "    <tr>\n",
       "      <th>negative</th>\n",
       "      <td>15</td>\n",
       "    </tr>\n",
       "    <tr>\n",
       "      <th>positive</th>\n",
       "      <td>12</td>\n",
       "    </tr>\n",
       "  </tbody>\n",
       "</table>\n",
       "</div>"
      ],
      "text/plain": [
       "          sentiments\n",
       "neutral           63\n",
       "negative          15\n",
       "positive          12"
      ]
     },
     "execution_count": 35,
     "metadata": {},
     "output_type": "execute_result"
    }
   ],
   "source": [
    "dunkin_c_brew_sentiments = pd.DataFrame(dunkin_c_brew_senti['sentiments'].value_counts())\n",
    "dunkin_c_brew_sentiments"
   ]
  },
  {
   "cell_type": "markdown",
   "id": "5b6355c9-cd86-443e-a630-28c7529f6b07",
   "metadata": {
    "tags": []
   },
   "source": [
    "### Dunkin Iced Coffee"
   ]
  },
  {
   "cell_type": "code",
   "execution_count": 36,
   "id": "7b4e136a-743e-492f-859f-b83251586172",
   "metadata": {
    "tags": []
   },
   "outputs": [],
   "source": [
    "dunkin_i_coffee_senti = sentiments(dunkin_i_coffee)"
   ]
  },
  {
   "cell_type": "code",
   "execution_count": 37,
   "id": "b9c2dc7e-3fda-4069-b6b7-d053268f8ff9",
   "metadata": {},
   "outputs": [
    {
     "data": {
      "text/html": [
       "<div>\n",
       "<style scoped>\n",
       "    .dataframe tbody tr th:only-of-type {\n",
       "        vertical-align: middle;\n",
       "    }\n",
       "\n",
       "    .dataframe tbody tr th {\n",
       "        vertical-align: top;\n",
       "    }\n",
       "\n",
       "    .dataframe thead th {\n",
       "        text-align: right;\n",
       "    }\n",
       "</style>\n",
       "<table border=\"1\" class=\"dataframe\">\n",
       "  <thead>\n",
       "    <tr style=\"text-align: right;\">\n",
       "      <th></th>\n",
       "      <th>subreddit</th>\n",
       "      <th>title</th>\n",
       "      <th>created_utc</th>\n",
       "      <th>tokenized</th>\n",
       "      <th>sentiment</th>\n",
       "      <th>sentiments</th>\n",
       "    </tr>\n",
       "  </thead>\n",
       "  <tbody>\n",
       "    <tr>\n",
       "      <th>68</th>\n",
       "      <td>1</td>\n",
       "      <td>blueberry crumble iced coffee</td>\n",
       "      <td>1662659909</td>\n",
       "      <td>[blueberry, crumble, iced, coffee]</td>\n",
       "      <td>[{'label': 'LABEL_1', 'score': 0.6429013013839...</td>\n",
       "      <td>neutral</td>\n",
       "    </tr>\n",
       "    <tr>\n",
       "      <th>69</th>\n",
       "      <td>1</td>\n",
       "      <td>is the nutty pumpkin iced coffee any good</td>\n",
       "      <td>1662652584</td>\n",
       "      <td>[is, the, nutty, pumpkin, iced, coffee, any, g...</td>\n",
       "      <td>[{'label': 'LABEL_1', 'score': 0.7533432245254...</td>\n",
       "      <td>neutral</td>\n",
       "    </tr>\n",
       "    <tr>\n",
       "      <th>138</th>\n",
       "      <td>1</td>\n",
       "      <td>how is the new nutty pumpkin iced coffee</td>\n",
       "      <td>1662119514</td>\n",
       "      <td>[how, is, the, new, nutty, pumpkin, iced, coffee]</td>\n",
       "      <td>[{'label': 'LABEL_1', 'score': 0.8217983841896...</td>\n",
       "      <td>neutral</td>\n",
       "    </tr>\n",
       "  </tbody>\n",
       "</table>\n",
       "</div>"
      ],
      "text/plain": [
       "     subreddit                                      title  created_utc  \\\n",
       "68           1              blueberry crumble iced coffee   1662659909   \n",
       "69           1  is the nutty pumpkin iced coffee any good   1662652584   \n",
       "138          1   how is the new nutty pumpkin iced coffee   1662119514   \n",
       "\n",
       "                                             tokenized  \\\n",
       "68                  [blueberry, crumble, iced, coffee]   \n",
       "69   [is, the, nutty, pumpkin, iced, coffee, any, g...   \n",
       "138  [how, is, the, new, nutty, pumpkin, iced, coffee]   \n",
       "\n",
       "                                             sentiment sentiments  \n",
       "68   [{'label': 'LABEL_1', 'score': 0.6429013013839...    neutral  \n",
       "69   [{'label': 'LABEL_1', 'score': 0.7533432245254...    neutral  \n",
       "138  [{'label': 'LABEL_1', 'score': 0.8217983841896...    neutral  "
      ]
     },
     "execution_count": 37,
     "metadata": {},
     "output_type": "execute_result"
    }
   ],
   "source": [
    "dunkin_i_coffee_senti.head(3)"
   ]
  },
  {
   "cell_type": "code",
   "execution_count": 38,
   "id": "503ecaad-c522-4526-9939-3cb99ad92e93",
   "metadata": {},
   "outputs": [
    {
     "data": {
      "text/plain": [
       "neutral     54\n",
       "positive    15\n",
       "negative    12\n",
       "Name: sentiments, dtype: int64"
      ]
     },
     "execution_count": 38,
     "metadata": {},
     "output_type": "execute_result"
    }
   ],
   "source": [
    "dunkin_i_coffee_senti['sentiments'].value_counts()"
   ]
  },
  {
   "cell_type": "code",
   "execution_count": 39,
   "id": "b1d169a4-49c7-4619-a273-10ef99007169",
   "metadata": {
    "tags": []
   },
   "outputs": [
    {
     "data": {
      "text/html": [
       "<div>\n",
       "<style scoped>\n",
       "    .dataframe tbody tr th:only-of-type {\n",
       "        vertical-align: middle;\n",
       "    }\n",
       "\n",
       "    .dataframe tbody tr th {\n",
       "        vertical-align: top;\n",
       "    }\n",
       "\n",
       "    .dataframe thead th {\n",
       "        text-align: right;\n",
       "    }\n",
       "</style>\n",
       "<table border=\"1\" class=\"dataframe\">\n",
       "  <thead>\n",
       "    <tr style=\"text-align: right;\">\n",
       "      <th></th>\n",
       "      <th>sentiments</th>\n",
       "    </tr>\n",
       "  </thead>\n",
       "  <tbody>\n",
       "    <tr>\n",
       "      <th>neutral</th>\n",
       "      <td>54</td>\n",
       "    </tr>\n",
       "    <tr>\n",
       "      <th>positive</th>\n",
       "      <td>15</td>\n",
       "    </tr>\n",
       "    <tr>\n",
       "      <th>negative</th>\n",
       "      <td>12</td>\n",
       "    </tr>\n",
       "  </tbody>\n",
       "</table>\n",
       "</div>"
      ],
      "text/plain": [
       "          sentiments\n",
       "neutral           54\n",
       "positive          15\n",
       "negative          12"
      ]
     },
     "execution_count": 39,
     "metadata": {},
     "output_type": "execute_result"
    }
   ],
   "source": [
    "dunkin_i_coffee_sentiments = pd.DataFrame(dunkin_i_coffee_senti['sentiments'].value_counts())\n",
    "dunkin_i_coffee_sentiments"
   ]
  },
  {
   "cell_type": "markdown",
   "id": "b70e6320-3a91-4b61-8209-b9c20455b315",
   "metadata": {
    "tags": []
   },
   "source": [
    "### Dunkin Butter Pecan"
   ]
  },
  {
   "cell_type": "code",
   "execution_count": 40,
   "id": "9eca2ebb-c076-4cf4-aa22-84015a66c7cb",
   "metadata": {
    "tags": []
   },
   "outputs": [],
   "source": [
    "dunkin_b_pecan_senti = sentiments(dunkin_b_pecan)"
   ]
  },
  {
   "cell_type": "code",
   "execution_count": 41,
   "id": "e9501555-ac5a-4f51-945f-95ff5b994ae8",
   "metadata": {},
   "outputs": [
    {
     "data": {
      "text/html": [
       "<div>\n",
       "<style scoped>\n",
       "    .dataframe tbody tr th:only-of-type {\n",
       "        vertical-align: middle;\n",
       "    }\n",
       "\n",
       "    .dataframe tbody tr th {\n",
       "        vertical-align: top;\n",
       "    }\n",
       "\n",
       "    .dataframe thead th {\n",
       "        text-align: right;\n",
       "    }\n",
       "</style>\n",
       "<table border=\"1\" class=\"dataframe\">\n",
       "  <thead>\n",
       "    <tr style=\"text-align: right;\">\n",
       "      <th></th>\n",
       "      <th>subreddit</th>\n",
       "      <th>title</th>\n",
       "      <th>created_utc</th>\n",
       "      <th>tokenized</th>\n",
       "      <th>sentiment</th>\n",
       "      <th>sentiments</th>\n",
       "    </tr>\n",
       "  </thead>\n",
       "  <tbody>\n",
       "    <tr>\n",
       "      <th>322</th>\n",
       "      <td>1</td>\n",
       "      <td>just thought i might make my last dunkin run o...</td>\n",
       "      <td>1660929445</td>\n",
       "      <td>[just, thought, i, might, make, my, last, dunk...</td>\n",
       "      <td>[{'label': 'LABEL_1', 'score': 0.5366223454475...</td>\n",
       "      <td>neutral</td>\n",
       "    </tr>\n",
       "    <tr>\n",
       "      <th>360</th>\n",
       "      <td>1</td>\n",
       "      <td>please sell me your butter pecan</td>\n",
       "      <td>1660766067</td>\n",
       "      <td>[please, sell, me, your, butter, pecan]</td>\n",
       "      <td>[{'label': 'LABEL_1', 'score': 0.7656268477439...</td>\n",
       "      <td>neutral</td>\n",
       "    </tr>\n",
       "    <tr>\n",
       "      <th>442</th>\n",
       "      <td>1</td>\n",
       "      <td>my favorite drink is med cold brew 1 butter pe...</td>\n",
       "      <td>1660384707</td>\n",
       "      <td>[my, favorite, drink, is, med, cold, brew, 1, ...</td>\n",
       "      <td>[{'label': 'LABEL_2', 'score': 0.9485169649124...</td>\n",
       "      <td>positive</td>\n",
       "    </tr>\n",
       "  </tbody>\n",
       "</table>\n",
       "</div>"
      ],
      "text/plain": [
       "     subreddit                                              title  \\\n",
       "322          1  just thought i might make my last dunkin run o...   \n",
       "360          1                   please sell me your butter pecan   \n",
       "442          1  my favorite drink is med cold brew 1 butter pe...   \n",
       "\n",
       "     created_utc                                          tokenized  \\\n",
       "322   1660929445  [just, thought, i, might, make, my, last, dunk...   \n",
       "360   1660766067            [please, sell, me, your, butter, pecan]   \n",
       "442   1660384707  [my, favorite, drink, is, med, cold, brew, 1, ...   \n",
       "\n",
       "                                             sentiment sentiments  \n",
       "322  [{'label': 'LABEL_1', 'score': 0.5366223454475...    neutral  \n",
       "360  [{'label': 'LABEL_1', 'score': 0.7656268477439...    neutral  \n",
       "442  [{'label': 'LABEL_2', 'score': 0.9485169649124...   positive  "
      ]
     },
     "execution_count": 41,
     "metadata": {},
     "output_type": "execute_result"
    }
   ],
   "source": [
    "dunkin_b_pecan_senti.head(3)"
   ]
  },
  {
   "cell_type": "code",
   "execution_count": 42,
   "id": "36c645a4-6708-4a57-bf35-6763831db0e5",
   "metadata": {},
   "outputs": [
    {
     "data": {
      "text/plain": [
       "neutral     26\n",
       "positive     7\n",
       "negative     3\n",
       "Name: sentiments, dtype: int64"
      ]
     },
     "execution_count": 42,
     "metadata": {},
     "output_type": "execute_result"
    }
   ],
   "source": [
    "dunkin_b_pecan_senti['sentiments'].value_counts()"
   ]
  },
  {
   "cell_type": "code",
   "execution_count": 43,
   "id": "86cc5bbd-08a6-422b-a3fb-501935674104",
   "metadata": {
    "tags": []
   },
   "outputs": [
    {
     "data": {
      "text/html": [
       "<div>\n",
       "<style scoped>\n",
       "    .dataframe tbody tr th:only-of-type {\n",
       "        vertical-align: middle;\n",
       "    }\n",
       "\n",
       "    .dataframe tbody tr th {\n",
       "        vertical-align: top;\n",
       "    }\n",
       "\n",
       "    .dataframe thead th {\n",
       "        text-align: right;\n",
       "    }\n",
       "</style>\n",
       "<table border=\"1\" class=\"dataframe\">\n",
       "  <thead>\n",
       "    <tr style=\"text-align: right;\">\n",
       "      <th></th>\n",
       "      <th>sentiments</th>\n",
       "    </tr>\n",
       "  </thead>\n",
       "  <tbody>\n",
       "    <tr>\n",
       "      <th>neutral</th>\n",
       "      <td>26</td>\n",
       "    </tr>\n",
       "    <tr>\n",
       "      <th>positive</th>\n",
       "      <td>7</td>\n",
       "    </tr>\n",
       "    <tr>\n",
       "      <th>negative</th>\n",
       "      <td>3</td>\n",
       "    </tr>\n",
       "  </tbody>\n",
       "</table>\n",
       "</div>"
      ],
      "text/plain": [
       "          sentiments\n",
       "neutral           26\n",
       "positive           7\n",
       "negative           3"
      ]
     },
     "execution_count": 43,
     "metadata": {},
     "output_type": "execute_result"
    }
   ],
   "source": [
    "dunkin_b_pecan_sentiments = pd.DataFrame(dunkin_b_pecan_senti['sentiments'].value_counts())\n",
    "dunkin_b_pecan_sentiments"
   ]
  },
  {
   "cell_type": "markdown",
   "id": "28edd08c-aeaf-40bd-a633-6f70407da3a5",
   "metadata": {
    "tags": []
   },
   "source": [
    "### Dunkin Local"
   ]
  },
  {
   "cell_type": "code",
   "execution_count": 44,
   "id": "552bb3b3-7bd8-4756-adfb-5773f6e0d139",
   "metadata": {
    "tags": []
   },
   "outputs": [],
   "source": [
    "dunkin_local_senti = sentiments(dunkin_local)"
   ]
  },
  {
   "cell_type": "code",
   "execution_count": 45,
   "id": "76bcd3ae-d73a-449c-a534-3b799bbed976",
   "metadata": {},
   "outputs": [
    {
     "data": {
      "text/html": [
       "<div>\n",
       "<style scoped>\n",
       "    .dataframe tbody tr th:only-of-type {\n",
       "        vertical-align: middle;\n",
       "    }\n",
       "\n",
       "    .dataframe tbody tr th {\n",
       "        vertical-align: top;\n",
       "    }\n",
       "\n",
       "    .dataframe thead th {\n",
       "        text-align: right;\n",
       "    }\n",
       "</style>\n",
       "<table border=\"1\" class=\"dataframe\">\n",
       "  <thead>\n",
       "    <tr style=\"text-align: right;\">\n",
       "      <th></th>\n",
       "      <th>subreddit</th>\n",
       "      <th>title</th>\n",
       "      <th>created_utc</th>\n",
       "      <th>tokenized</th>\n",
       "      <th>sentiment</th>\n",
       "      <th>sentiments</th>\n",
       "    </tr>\n",
       "  </thead>\n",
       "  <tbody>\n",
       "    <tr>\n",
       "      <th>34</th>\n",
       "      <td>1</td>\n",
       "      <td>can someone explain to me why my local dunkin ...</td>\n",
       "      <td>1662958423</td>\n",
       "      <td>[can, someone, explain, to, me, why, my, local...</td>\n",
       "      <td>[{'label': 'LABEL_0', 'score': 0.9047766923904...</td>\n",
       "      <td>negative</td>\n",
       "    </tr>\n",
       "    <tr>\n",
       "      <th>268</th>\n",
       "      <td>1</td>\n",
       "      <td>local dunkin scrapes metal pan on ground at dr...</td>\n",
       "      <td>1661276540</td>\n",
       "      <td>[local, dunkin, scrapes, metal, pan, on, groun...</td>\n",
       "      <td>[{'label': 'LABEL_1', 'score': 0.7235899567604...</td>\n",
       "      <td>neutral</td>\n",
       "    </tr>\n",
       "    <tr>\n",
       "      <th>278</th>\n",
       "      <td>1</td>\n",
       "      <td>i ve been going to dunk ever since the establi...</td>\n",
       "      <td>1661183920</td>\n",
       "      <td>[i, ve, been, going, to, dunk, ever, since, th...</td>\n",
       "      <td>[{'label': 'LABEL_1', 'score': 0.5064250230789...</td>\n",
       "      <td>neutral</td>\n",
       "    </tr>\n",
       "  </tbody>\n",
       "</table>\n",
       "</div>"
      ],
      "text/plain": [
       "     subreddit                                              title  \\\n",
       "34           1  can someone explain to me why my local dunkin ...   \n",
       "268          1  local dunkin scrapes metal pan on ground at dr...   \n",
       "278          1  i ve been going to dunk ever since the establi...   \n",
       "\n",
       "     created_utc                                          tokenized  \\\n",
       "34    1662958423  [can, someone, explain, to, me, why, my, local...   \n",
       "268   1661276540  [local, dunkin, scrapes, metal, pan, on, groun...   \n",
       "278   1661183920  [i, ve, been, going, to, dunk, ever, since, th...   \n",
       "\n",
       "                                             sentiment sentiments  \n",
       "34   [{'label': 'LABEL_0', 'score': 0.9047766923904...   negative  \n",
       "268  [{'label': 'LABEL_1', 'score': 0.7235899567604...    neutral  \n",
       "278  [{'label': 'LABEL_1', 'score': 0.5064250230789...    neutral  "
      ]
     },
     "execution_count": 45,
     "metadata": {},
     "output_type": "execute_result"
    }
   ],
   "source": [
    "dunkin_local_senti.head(3)"
   ]
  },
  {
   "cell_type": "code",
   "execution_count": 46,
   "id": "4372eda5-6cbd-4e17-8c99-dcb219d8d822",
   "metadata": {},
   "outputs": [
    {
     "data": {
      "text/plain": [
       "neutral     12\n",
       "negative     8\n",
       "positive     3\n",
       "Name: sentiments, dtype: int64"
      ]
     },
     "execution_count": 46,
     "metadata": {},
     "output_type": "execute_result"
    }
   ],
   "source": [
    "dunkin_local_senti['sentiments'].value_counts()"
   ]
  },
  {
   "cell_type": "code",
   "execution_count": 47,
   "id": "71b915c6-3dc6-4276-9415-004315850f6b",
   "metadata": {
    "tags": []
   },
   "outputs": [
    {
     "data": {
      "text/html": [
       "<div>\n",
       "<style scoped>\n",
       "    .dataframe tbody tr th:only-of-type {\n",
       "        vertical-align: middle;\n",
       "    }\n",
       "\n",
       "    .dataframe tbody tr th {\n",
       "        vertical-align: top;\n",
       "    }\n",
       "\n",
       "    .dataframe thead th {\n",
       "        text-align: right;\n",
       "    }\n",
       "</style>\n",
       "<table border=\"1\" class=\"dataframe\">\n",
       "  <thead>\n",
       "    <tr style=\"text-align: right;\">\n",
       "      <th></th>\n",
       "      <th>sentiments</th>\n",
       "    </tr>\n",
       "  </thead>\n",
       "  <tbody>\n",
       "    <tr>\n",
       "      <th>neutral</th>\n",
       "      <td>12</td>\n",
       "    </tr>\n",
       "    <tr>\n",
       "      <th>negative</th>\n",
       "      <td>8</td>\n",
       "    </tr>\n",
       "    <tr>\n",
       "      <th>positive</th>\n",
       "      <td>3</td>\n",
       "    </tr>\n",
       "  </tbody>\n",
       "</table>\n",
       "</div>"
      ],
      "text/plain": [
       "          sentiments\n",
       "neutral           12\n",
       "negative           8\n",
       "positive           3"
      ]
     },
     "execution_count": 47,
     "metadata": {},
     "output_type": "execute_result"
    }
   ],
   "source": [
    "dunkin_local_sentiments = pd.DataFrame(dunkin_local_senti['sentiments'].value_counts())\n",
    "dunkin_local_sentiments"
   ]
  },
  {
   "cell_type": "markdown",
   "id": "83ada69a-91bf-471a-83ea-19dd3fa20f79",
   "metadata": {
    "tags": []
   },
   "source": [
    "### Dunkin Reward"
   ]
  },
  {
   "cell_type": "code",
   "execution_count": 48,
   "id": "ea131953-926d-415b-86e3-e5c83e853f62",
   "metadata": {
    "tags": []
   },
   "outputs": [],
   "source": [
    "dunkin_reward_senti = sentiments(dunkin_reward)"
   ]
  },
  {
   "cell_type": "code",
   "execution_count": 49,
   "id": "43a627d6-e49f-4d7c-ab11-cbdf27fd6f43",
   "metadata": {},
   "outputs": [
    {
     "data": {
      "text/html": [
       "<div>\n",
       "<style scoped>\n",
       "    .dataframe tbody tr th:only-of-type {\n",
       "        vertical-align: middle;\n",
       "    }\n",
       "\n",
       "    .dataframe tbody tr th {\n",
       "        vertical-align: top;\n",
       "    }\n",
       "\n",
       "    .dataframe thead th {\n",
       "        text-align: right;\n",
       "    }\n",
       "</style>\n",
       "<table border=\"1\" class=\"dataframe\">\n",
       "  <thead>\n",
       "    <tr style=\"text-align: right;\">\n",
       "      <th></th>\n",
       "      <th>subreddit</th>\n",
       "      <th>title</th>\n",
       "      <th>created_utc</th>\n",
       "      <th>tokenized</th>\n",
       "      <th>sentiment</th>\n",
       "      <th>sentiments</th>\n",
       "    </tr>\n",
       "  </thead>\n",
       "  <tbody>\n",
       "    <tr>\n",
       "      <th>11</th>\n",
       "      <td>1</td>\n",
       "      <td>dunkin rewards update</td>\n",
       "      <td>1663153599</td>\n",
       "      <td>[dunkin, rewards, update]</td>\n",
       "      <td>[{'label': 'LABEL_1', 'score': 0.8598471879959...</td>\n",
       "      <td>neutral</td>\n",
       "    </tr>\n",
       "    <tr>\n",
       "      <th>55</th>\n",
       "      <td>1</td>\n",
       "      <td>birthday reward sucks</td>\n",
       "      <td>1662808190</td>\n",
       "      <td>[birthday, reward, sucks]</td>\n",
       "      <td>[{'label': 'LABEL_0', 'score': 0.9674400687217...</td>\n",
       "      <td>negative</td>\n",
       "    </tr>\n",
       "    <tr>\n",
       "      <th>100</th>\n",
       "      <td>1</td>\n",
       "      <td>free drink expires today 9 4</td>\n",
       "      <td>1662334297</td>\n",
       "      <td>[free, drink, expires, today, 9, 4]</td>\n",
       "      <td>[{'label': 'LABEL_1', 'score': 0.7958027720451...</td>\n",
       "      <td>neutral</td>\n",
       "    </tr>\n",
       "  </tbody>\n",
       "</table>\n",
       "</div>"
      ],
      "text/plain": [
       "     subreddit                         title  created_utc  \\\n",
       "11           1         dunkin rewards update   1663153599   \n",
       "55           1         birthday reward sucks   1662808190   \n",
       "100          1  free drink expires today 9 4   1662334297   \n",
       "\n",
       "                               tokenized  \\\n",
       "11             [dunkin, rewards, update]   \n",
       "55             [birthday, reward, sucks]   \n",
       "100  [free, drink, expires, today, 9, 4]   \n",
       "\n",
       "                                             sentiment sentiments  \n",
       "11   [{'label': 'LABEL_1', 'score': 0.8598471879959...    neutral  \n",
       "55   [{'label': 'LABEL_0', 'score': 0.9674400687217...   negative  \n",
       "100  [{'label': 'LABEL_1', 'score': 0.7958027720451...    neutral  "
      ]
     },
     "execution_count": 49,
     "metadata": {},
     "output_type": "execute_result"
    }
   ],
   "source": [
    "dunkin_reward_senti.head(3)"
   ]
  },
  {
   "cell_type": "code",
   "execution_count": 50,
   "id": "e6562b48-cdcd-4507-b2fc-36f85a1b7a8c",
   "metadata": {},
   "outputs": [
    {
     "data": {
      "text/plain": [
       "neutral     35\n",
       "positive    14\n",
       "negative     9\n",
       "Name: sentiments, dtype: int64"
      ]
     },
     "execution_count": 50,
     "metadata": {},
     "output_type": "execute_result"
    }
   ],
   "source": [
    "dunkin_reward_senti['sentiments'].value_counts()"
   ]
  },
  {
   "cell_type": "code",
   "execution_count": 51,
   "id": "403c0c8c-0035-4064-83b6-f4f7d8155e32",
   "metadata": {
    "tags": []
   },
   "outputs": [
    {
     "data": {
      "text/html": [
       "<div>\n",
       "<style scoped>\n",
       "    .dataframe tbody tr th:only-of-type {\n",
       "        vertical-align: middle;\n",
       "    }\n",
       "\n",
       "    .dataframe tbody tr th {\n",
       "        vertical-align: top;\n",
       "    }\n",
       "\n",
       "    .dataframe thead th {\n",
       "        text-align: right;\n",
       "    }\n",
       "</style>\n",
       "<table border=\"1\" class=\"dataframe\">\n",
       "  <thead>\n",
       "    <tr style=\"text-align: right;\">\n",
       "      <th></th>\n",
       "      <th>sentiments</th>\n",
       "    </tr>\n",
       "  </thead>\n",
       "  <tbody>\n",
       "    <tr>\n",
       "      <th>neutral</th>\n",
       "      <td>35</td>\n",
       "    </tr>\n",
       "    <tr>\n",
       "      <th>positive</th>\n",
       "      <td>14</td>\n",
       "    </tr>\n",
       "    <tr>\n",
       "      <th>negative</th>\n",
       "      <td>9</td>\n",
       "    </tr>\n",
       "  </tbody>\n",
       "</table>\n",
       "</div>"
      ],
      "text/plain": [
       "          sentiments\n",
       "neutral           35\n",
       "positive          14\n",
       "negative           9"
      ]
     },
     "execution_count": 51,
     "metadata": {},
     "output_type": "execute_result"
    }
   ],
   "source": [
    "dunkin_reward_sentiments = pd.DataFrame(dunkin_reward_senti['sentiments'].value_counts())\n",
    "dunkin_reward_sentiments"
   ]
  },
  {
   "cell_type": "markdown",
   "id": "1c2b58dc-ad85-4ef6-843c-3387971f4913",
   "metadata": {
    "tags": []
   },
   "source": [
    "### Dunkin Service"
   ]
  },
  {
   "cell_type": "code",
   "execution_count": 52,
   "id": "be070f72-f54d-423e-9c0f-c571d47c22af",
   "metadata": {
    "tags": []
   },
   "outputs": [],
   "source": [
    "dunkin_service_senti = sentiments(dunkin_service)"
   ]
  },
  {
   "cell_type": "code",
   "execution_count": 53,
   "id": "fb81481a-8cbb-4cc7-82cb-fd6381e0e85e",
   "metadata": {},
   "outputs": [
    {
     "data": {
      "text/html": [
       "<div>\n",
       "<style scoped>\n",
       "    .dataframe tbody tr th:only-of-type {\n",
       "        vertical-align: middle;\n",
       "    }\n",
       "\n",
       "    .dataframe tbody tr th {\n",
       "        vertical-align: top;\n",
       "    }\n",
       "\n",
       "    .dataframe thead th {\n",
       "        text-align: right;\n",
       "    }\n",
       "</style>\n",
       "<table border=\"1\" class=\"dataframe\">\n",
       "  <thead>\n",
       "    <tr style=\"text-align: right;\">\n",
       "      <th></th>\n",
       "      <th>subreddit</th>\n",
       "      <th>title</th>\n",
       "      <th>created_utc</th>\n",
       "      <th>tokenized</th>\n",
       "      <th>sentiment</th>\n",
       "      <th>sentiments</th>\n",
       "    </tr>\n",
       "  </thead>\n",
       "  <tbody>\n",
       "    <tr>\n",
       "      <th>7</th>\n",
       "      <td>1</td>\n",
       "      <td>does anyone know if the apple cider is coming ...</td>\n",
       "      <td>1663163942</td>\n",
       "      <td>[does, anyone, know, if, the, apple, cider, is...</td>\n",
       "      <td>[{'label': 'LABEL_1', 'score': 0.9185714125633...</td>\n",
       "      <td>neutral</td>\n",
       "    </tr>\n",
       "    <tr>\n",
       "      <th>39</th>\n",
       "      <td>1</td>\n",
       "      <td>ben affleck and henry cavill have signed exten...</td>\n",
       "      <td>1662929899</td>\n",
       "      <td>[ben, affleck, and, henry, cavill, have, signe...</td>\n",
       "      <td>[{'label': 'LABEL_1', 'score': 0.9103999137878...</td>\n",
       "      <td>neutral</td>\n",
       "    </tr>\n",
       "    <tr>\n",
       "      <th>40</th>\n",
       "      <td>1</td>\n",
       "      <td>does anybody know if you can add the employee ...</td>\n",
       "      <td>1662918465</td>\n",
       "      <td>[does, anybody, know, if, you, can, add, the, ...</td>\n",
       "      <td>[{'label': 'LABEL_1', 'score': 0.9097266197204...</td>\n",
       "      <td>neutral</td>\n",
       "    </tr>\n",
       "  </tbody>\n",
       "</table>\n",
       "</div>"
      ],
      "text/plain": [
       "    subreddit                                              title  created_utc  \\\n",
       "7           1  does anyone know if the apple cider is coming ...   1663163942   \n",
       "39          1  ben affleck and henry cavill have signed exten...   1662929899   \n",
       "40          1  does anybody know if you can add the employee ...   1662918465   \n",
       "\n",
       "                                            tokenized  \\\n",
       "7   [does, anyone, know, if, the, apple, cider, is...   \n",
       "39  [ben, affleck, and, henry, cavill, have, signe...   \n",
       "40  [does, anybody, know, if, you, can, add, the, ...   \n",
       "\n",
       "                                            sentiment sentiments  \n",
       "7   [{'label': 'LABEL_1', 'score': 0.9185714125633...    neutral  \n",
       "39  [{'label': 'LABEL_1', 'score': 0.9103999137878...    neutral  \n",
       "40  [{'label': 'LABEL_1', 'score': 0.9097266197204...    neutral  "
      ]
     },
     "execution_count": 53,
     "metadata": {},
     "output_type": "execute_result"
    }
   ],
   "source": [
    "dunkin_service_senti.head(3)"
   ]
  },
  {
   "cell_type": "code",
   "execution_count": 54,
   "id": "fc1d70ea-c1c1-4517-9378-98d07d455345",
   "metadata": {},
   "outputs": [
    {
     "data": {
      "text/plain": [
       "neutral     151\n",
       "negative     58\n",
       "positive     24\n",
       "Name: sentiments, dtype: int64"
      ]
     },
     "execution_count": 54,
     "metadata": {},
     "output_type": "execute_result"
    }
   ],
   "source": [
    "dunkin_service_senti['sentiments'].value_counts()"
   ]
  },
  {
   "cell_type": "code",
   "execution_count": 55,
   "id": "9ac8056d-5817-40f8-ba96-7e5acca17a65",
   "metadata": {
    "tags": []
   },
   "outputs": [
    {
     "data": {
      "text/html": [
       "<div>\n",
       "<style scoped>\n",
       "    .dataframe tbody tr th:only-of-type {\n",
       "        vertical-align: middle;\n",
       "    }\n",
       "\n",
       "    .dataframe tbody tr th {\n",
       "        vertical-align: top;\n",
       "    }\n",
       "\n",
       "    .dataframe thead th {\n",
       "        text-align: right;\n",
       "    }\n",
       "</style>\n",
       "<table border=\"1\" class=\"dataframe\">\n",
       "  <thead>\n",
       "    <tr style=\"text-align: right;\">\n",
       "      <th></th>\n",
       "      <th>sentiments</th>\n",
       "    </tr>\n",
       "  </thead>\n",
       "  <tbody>\n",
       "    <tr>\n",
       "      <th>neutral</th>\n",
       "      <td>151</td>\n",
       "    </tr>\n",
       "    <tr>\n",
       "      <th>negative</th>\n",
       "      <td>58</td>\n",
       "    </tr>\n",
       "    <tr>\n",
       "      <th>positive</th>\n",
       "      <td>24</td>\n",
       "    </tr>\n",
       "  </tbody>\n",
       "</table>\n",
       "</div>"
      ],
      "text/plain": [
       "          sentiments\n",
       "neutral          151\n",
       "negative          58\n",
       "positive          24"
      ]
     },
     "execution_count": 55,
     "metadata": {},
     "output_type": "execute_result"
    }
   ],
   "source": [
    "dunkin_service_sentiments = pd.DataFrame(dunkin_service_senti['sentiments'].value_counts())\n",
    "dunkin_service_sentiments"
   ]
  },
  {
   "cell_type": "markdown",
   "id": "81a89006-4573-4f52-bdb1-e30d8c2015c1",
   "metadata": {
    "tags": []
   },
   "source": [
    "### Dunkin Barista"
   ]
  },
  {
   "cell_type": "code",
   "execution_count": 56,
   "id": "46a1fe4e-7fb5-4a4e-bf33-2c1d8956d4a2",
   "metadata": {
    "tags": []
   },
   "outputs": [],
   "source": [
    "dunkin_barista_senti = sentiments(dunkin_barista)"
   ]
  },
  {
   "cell_type": "code",
   "execution_count": 57,
   "id": "1de4ba08-3c2b-47c7-8430-a6db42725ca9",
   "metadata": {},
   "outputs": [
    {
     "data": {
      "text/html": [
       "<div>\n",
       "<style scoped>\n",
       "    .dataframe tbody tr th:only-of-type {\n",
       "        vertical-align: middle;\n",
       "    }\n",
       "\n",
       "    .dataframe tbody tr th {\n",
       "        vertical-align: top;\n",
       "    }\n",
       "\n",
       "    .dataframe thead th {\n",
       "        text-align: right;\n",
       "    }\n",
       "</style>\n",
       "<table border=\"1\" class=\"dataframe\">\n",
       "  <thead>\n",
       "    <tr style=\"text-align: right;\">\n",
       "      <th></th>\n",
       "      <th>subreddit</th>\n",
       "      <th>title</th>\n",
       "      <th>created_utc</th>\n",
       "      <th>tokenized</th>\n",
       "      <th>sentiment</th>\n",
       "      <th>sentiments</th>\n",
       "    </tr>\n",
       "  </thead>\n",
       "  <tbody>\n",
       "    <tr>\n",
       "      <th>1056</th>\n",
       "      <td>1</td>\n",
       "      <td>question from a starbys barista</td>\n",
       "      <td>1655913312</td>\n",
       "      <td>[question, from, a, starbys, barista]</td>\n",
       "      <td>[{'label': 'LABEL_1', 'score': 0.8456373810768...</td>\n",
       "      <td>neutral</td>\n",
       "    </tr>\n",
       "    <tr>\n",
       "      <th>2158</th>\n",
       "      <td>1</td>\n",
       "      <td>would the barista making my coffee everyday li...</td>\n",
       "      <td>1646751101</td>\n",
       "      <td>[would, the, barista, making, my, coffee, ever...</td>\n",
       "      <td>[{'label': 'LABEL_1', 'score': 0.6669984459877...</td>\n",
       "      <td>neutral</td>\n",
       "    </tr>\n",
       "  </tbody>\n",
       "</table>\n",
       "</div>"
      ],
      "text/plain": [
       "      subreddit                                              title  \\\n",
       "1056          1                    question from a starbys barista   \n",
       "2158          1  would the barista making my coffee everyday li...   \n",
       "\n",
       "      created_utc                                          tokenized  \\\n",
       "1056   1655913312              [question, from, a, starbys, barista]   \n",
       "2158   1646751101  [would, the, barista, making, my, coffee, ever...   \n",
       "\n",
       "                                              sentiment sentiments  \n",
       "1056  [{'label': 'LABEL_1', 'score': 0.8456373810768...    neutral  \n",
       "2158  [{'label': 'LABEL_1', 'score': 0.6669984459877...    neutral  "
      ]
     },
     "execution_count": 57,
     "metadata": {},
     "output_type": "execute_result"
    }
   ],
   "source": [
    "dunkin_barista_senti.head()"
   ]
  },
  {
   "cell_type": "code",
   "execution_count": 58,
   "id": "ad8516e2-2c26-4d60-9237-fd0c2f4b2c64",
   "metadata": {},
   "outputs": [
    {
     "data": {
      "text/plain": [
       "neutral    2\n",
       "Name: sentiments, dtype: int64"
      ]
     },
     "execution_count": 58,
     "metadata": {},
     "output_type": "execute_result"
    }
   ],
   "source": [
    "dunkin_barista_senti['sentiments'].value_counts()"
   ]
  },
  {
   "cell_type": "code",
   "execution_count": 59,
   "id": "8dc5a6dd-ff85-47ae-b904-a0d9f86c39e6",
   "metadata": {
    "tags": []
   },
   "outputs": [
    {
     "data": {
      "text/html": [
       "<div>\n",
       "<style scoped>\n",
       "    .dataframe tbody tr th:only-of-type {\n",
       "        vertical-align: middle;\n",
       "    }\n",
       "\n",
       "    .dataframe tbody tr th {\n",
       "        vertical-align: top;\n",
       "    }\n",
       "\n",
       "    .dataframe thead th {\n",
       "        text-align: right;\n",
       "    }\n",
       "</style>\n",
       "<table border=\"1\" class=\"dataframe\">\n",
       "  <thead>\n",
       "    <tr style=\"text-align: right;\">\n",
       "      <th></th>\n",
       "      <th>sentiments</th>\n",
       "    </tr>\n",
       "  </thead>\n",
       "  <tbody>\n",
       "    <tr>\n",
       "      <th>neutral</th>\n",
       "      <td>2</td>\n",
       "    </tr>\n",
       "  </tbody>\n",
       "</table>\n",
       "</div>"
      ],
      "text/plain": [
       "         sentiments\n",
       "neutral           2"
      ]
     },
     "execution_count": 59,
     "metadata": {},
     "output_type": "execute_result"
    }
   ],
   "source": [
    "dunkin_barista_sentiments = pd.DataFrame(dunkin_barista_senti['sentiments'].value_counts())\n",
    "dunkin_barista_sentiments"
   ]
  },
  {
   "cell_type": "markdown",
   "id": "da0499da-7431-43b5-aa16-47865005c298",
   "metadata": {},
   "source": [
    "### Summary"
   ]
  },
  {
   "cell_type": "code",
   "execution_count": 60,
   "id": "cabb3d53-6819-4c73-a0c3-8222b44de8c4",
   "metadata": {},
   "outputs": [],
   "source": [
    "dunkin_cols = [\"Overall\", \"Dunkin_Donuts\", \"Cold_Brew\", \"Iced_Coffee\", \"Butter_Pecan\", \"Dunkin_Local\", \"Dunkin_Reward\", \"Dunkin_Service\", \"Dunkin_Barista\"]\n",
    "dunkin_sentiments = pd.concat([dunkin_sentiments, ddonuts_sentiments, dunkin_c_brew_sentiments, dunkin_i_coffee_sentiments, dunkin_b_pecan_sentiments, dunkin_local_sentiments, dunkin_reward_sentiments, dunkin_service_sentiments, dunkin_barista_sentiments], axis=1, ignore_index=True)\n",
    "dunkin_sentiments.columns = dunkin_cols"
   ]
  },
  {
   "cell_type": "code",
   "execution_count": 61,
   "id": "d92ae408-3ec1-4e7c-977d-79f1ccf2b742",
   "metadata": {},
   "outputs": [
    {
     "data": {
      "text/html": [
       "<div>\n",
       "<style scoped>\n",
       "    .dataframe tbody tr th:only-of-type {\n",
       "        vertical-align: middle;\n",
       "    }\n",
       "\n",
       "    .dataframe tbody tr th {\n",
       "        vertical-align: top;\n",
       "    }\n",
       "\n",
       "    .dataframe thead th {\n",
       "        text-align: right;\n",
       "    }\n",
       "</style>\n",
       "<table border=\"1\" class=\"dataframe\">\n",
       "  <thead>\n",
       "    <tr style=\"text-align: right;\">\n",
       "      <th></th>\n",
       "      <th>Overall</th>\n",
       "      <th>Dunkin_Donuts</th>\n",
       "      <th>Cold_Brew</th>\n",
       "      <th>Iced_Coffee</th>\n",
       "      <th>Butter_Pecan</th>\n",
       "      <th>Dunkin_Local</th>\n",
       "      <th>Dunkin_Reward</th>\n",
       "      <th>Dunkin_Service</th>\n",
       "      <th>Dunkin_Barista</th>\n",
       "    </tr>\n",
       "  </thead>\n",
       "  <tbody>\n",
       "    <tr>\n",
       "      <th>neutral</th>\n",
       "      <td>1380</td>\n",
       "      <td>44</td>\n",
       "      <td>63</td>\n",
       "      <td>54</td>\n",
       "      <td>26</td>\n",
       "      <td>12</td>\n",
       "      <td>35</td>\n",
       "      <td>151</td>\n",
       "      <td>2.0</td>\n",
       "    </tr>\n",
       "    <tr>\n",
       "      <th>negative</th>\n",
       "      <td>402</td>\n",
       "      <td>11</td>\n",
       "      <td>15</td>\n",
       "      <td>12</td>\n",
       "      <td>3</td>\n",
       "      <td>8</td>\n",
       "      <td>9</td>\n",
       "      <td>58</td>\n",
       "      <td>NaN</td>\n",
       "    </tr>\n",
       "    <tr>\n",
       "      <th>positive</th>\n",
       "      <td>218</td>\n",
       "      <td>5</td>\n",
       "      <td>12</td>\n",
       "      <td>15</td>\n",
       "      <td>7</td>\n",
       "      <td>3</td>\n",
       "      <td>14</td>\n",
       "      <td>24</td>\n",
       "      <td>NaN</td>\n",
       "    </tr>\n",
       "  </tbody>\n",
       "</table>\n",
       "</div>"
      ],
      "text/plain": [
       "          Overall  Dunkin_Donuts  Cold_Brew  Iced_Coffee  Butter_Pecan  \\\n",
       "neutral      1380             44         63           54            26   \n",
       "negative      402             11         15           12             3   \n",
       "positive      218              5         12           15             7   \n",
       "\n",
       "          Dunkin_Local  Dunkin_Reward  Dunkin_Service  Dunkin_Barista  \n",
       "neutral             12             35             151             2.0  \n",
       "negative             8              9              58             NaN  \n",
       "positive             3             14              24             NaN  "
      ]
     },
     "execution_count": 61,
     "metadata": {},
     "output_type": "execute_result"
    }
   ],
   "source": [
    "dunkin_sentiments"
   ]
  },
  {
   "cell_type": "code",
   "execution_count": 62,
   "id": "5ed13c73-675a-4c01-9149-d28080930693",
   "metadata": {},
   "outputs": [
    {
     "data": {
      "text/html": [
       "<div>\n",
       "<style scoped>\n",
       "    .dataframe tbody tr th:only-of-type {\n",
       "        vertical-align: middle;\n",
       "    }\n",
       "\n",
       "    .dataframe tbody tr th {\n",
       "        vertical-align: top;\n",
       "    }\n",
       "\n",
       "    .dataframe thead th {\n",
       "        text-align: right;\n",
       "    }\n",
       "</style>\n",
       "<table border=\"1\" class=\"dataframe\">\n",
       "  <thead>\n",
       "    <tr style=\"text-align: right;\">\n",
       "      <th></th>\n",
       "      <th>Overall</th>\n",
       "      <th>Dunkin_Donuts</th>\n",
       "      <th>Cold_Brew</th>\n",
       "      <th>Iced_Coffee</th>\n",
       "      <th>Butter_Pecan</th>\n",
       "      <th>Dunkin_Local</th>\n",
       "      <th>Dunkin_Reward</th>\n",
       "      <th>Dunkin_Service</th>\n",
       "      <th>Dunkin_Barista</th>\n",
       "    </tr>\n",
       "  </thead>\n",
       "  <tbody>\n",
       "    <tr>\n",
       "      <th>neutral</th>\n",
       "      <td>0.69</td>\n",
       "      <td>0.73</td>\n",
       "      <td>0.70</td>\n",
       "      <td>0.67</td>\n",
       "      <td>0.72</td>\n",
       "      <td>0.52</td>\n",
       "      <td>0.60</td>\n",
       "      <td>0.65</td>\n",
       "      <td>1.0</td>\n",
       "    </tr>\n",
       "    <tr>\n",
       "      <th>negative</th>\n",
       "      <td>0.20</td>\n",
       "      <td>0.18</td>\n",
       "      <td>0.17</td>\n",
       "      <td>0.15</td>\n",
       "      <td>0.08</td>\n",
       "      <td>0.35</td>\n",
       "      <td>0.16</td>\n",
       "      <td>0.25</td>\n",
       "      <td>NaN</td>\n",
       "    </tr>\n",
       "    <tr>\n",
       "      <th>positive</th>\n",
       "      <td>0.11</td>\n",
       "      <td>0.08</td>\n",
       "      <td>0.13</td>\n",
       "      <td>0.19</td>\n",
       "      <td>0.19</td>\n",
       "      <td>0.13</td>\n",
       "      <td>0.24</td>\n",
       "      <td>0.10</td>\n",
       "      <td>NaN</td>\n",
       "    </tr>\n",
       "  </tbody>\n",
       "</table>\n",
       "</div>"
      ],
      "text/plain": [
       "          Overall  Dunkin_Donuts  Cold_Brew  Iced_Coffee  Butter_Pecan  \\\n",
       "neutral      0.69           0.73       0.70         0.67          0.72   \n",
       "negative     0.20           0.18       0.17         0.15          0.08   \n",
       "positive     0.11           0.08       0.13         0.19          0.19   \n",
       "\n",
       "          Dunkin_Local  Dunkin_Reward  Dunkin_Service  Dunkin_Barista  \n",
       "neutral           0.52           0.60            0.65             1.0  \n",
       "negative          0.35           0.16            0.25             NaN  \n",
       "positive          0.13           0.24            0.10             NaN  "
      ]
     },
     "execution_count": 62,
     "metadata": {},
     "output_type": "execute_result"
    }
   ],
   "source": [
    "dunkin_sentiments_pct = round(dunkin_sentiments/dunkin_sentiments.sum(), 2)\n",
    "dunkin_sentiments_pct"
   ]
  },
  {
   "cell_type": "markdown",
   "id": "b713cefd-2fa5-4e2d-b4eb-62b0c88a66ba",
   "metadata": {},
   "source": [
    "Points to note:\n",
    "- Most posts are neutral, most likely are questions and discussions over the topics\n",
    "- Rewards has highest percentage of positive posts, which including free beverages, free drinksand reward.\n",
    "- \"Dunkin Donuts\", cold brew and local dunkin have more negative posts than positive ones (possibly bad reviews)\n",
    "- Services from Dunkin tend to have more negative posts, which including mobile order, app, and staffs."
   ]
  },
  {
   "cell_type": "markdown",
   "id": "dcb4994b-3118-4cec-8ce6-7d7b181ed9c6",
   "metadata": {},
   "source": [
    "## Starbucks Sentiments"
   ]
  },
  {
   "cell_type": "markdown",
   "id": "0b17c070-b36c-4839-89f6-6f83bb36464e",
   "metadata": {
    "tags": []
   },
   "source": [
    "### Overall"
   ]
  },
  {
   "cell_type": "code",
   "execution_count": 63,
   "id": "d09ae6b7-480a-4846-84f1-6dee69866d57",
   "metadata": {},
   "outputs": [],
   "source": [
    "sbucks_sample_senti = sentiments(sbucks_text_df.sample(2000))"
   ]
  },
  {
   "cell_type": "code",
   "execution_count": 64,
   "id": "e61b1d2e-7a42-432a-ba14-d7005759cce0",
   "metadata": {},
   "outputs": [
    {
     "data": {
      "text/html": [
       "<div>\n",
       "<style scoped>\n",
       "    .dataframe tbody tr th:only-of-type {\n",
       "        vertical-align: middle;\n",
       "    }\n",
       "\n",
       "    .dataframe tbody tr th {\n",
       "        vertical-align: top;\n",
       "    }\n",
       "\n",
       "    .dataframe thead th {\n",
       "        text-align: right;\n",
       "    }\n",
       "</style>\n",
       "<table border=\"1\" class=\"dataframe\">\n",
       "  <thead>\n",
       "    <tr style=\"text-align: right;\">\n",
       "      <th></th>\n",
       "      <th>subreddit</th>\n",
       "      <th>title</th>\n",
       "      <th>created_utc</th>\n",
       "      <th>tokenized</th>\n",
       "      <th>sentiment</th>\n",
       "      <th>sentiments</th>\n",
       "    </tr>\n",
       "  </thead>\n",
       "  <tbody>\n",
       "    <tr>\n",
       "      <th>2810</th>\n",
       "      <td>0</td>\n",
       "      <td>accidentally left cheese fruit protein box unr...</td>\n",
       "      <td>1662943652</td>\n",
       "      <td>[accidentally, left, cheese, fruit, protein, b...</td>\n",
       "      <td>[{'label': 'LABEL_1', 'score': 0.6037218570709...</td>\n",
       "      <td>neutral</td>\n",
       "    </tr>\n",
       "    <tr>\n",
       "      <th>2917</th>\n",
       "      <td>0</td>\n",
       "      <td>time and a half</td>\n",
       "      <td>1662841939</td>\n",
       "      <td>[time, and, a, half]</td>\n",
       "      <td>[{'label': 'LABEL_1', 'score': 0.6340646147727...</td>\n",
       "      <td>neutral</td>\n",
       "    </tr>\n",
       "    <tr>\n",
       "      <th>4388</th>\n",
       "      <td>0</td>\n",
       "      <td>there is life outside of starbucks</td>\n",
       "      <td>1661728690</td>\n",
       "      <td>[there, is, life, outside, of, starbucks]</td>\n",
       "      <td>[{'label': 'LABEL_1', 'score': 0.4883001446723...</td>\n",
       "      <td>neutral</td>\n",
       "    </tr>\n",
       "  </tbody>\n",
       "</table>\n",
       "</div>"
      ],
      "text/plain": [
       "      subreddit                                              title  \\\n",
       "2810          0  accidentally left cheese fruit protein box unr...   \n",
       "2917          0                                    time and a half   \n",
       "4388          0                 there is life outside of starbucks   \n",
       "\n",
       "      created_utc                                          tokenized  \\\n",
       "2810   1662943652  [accidentally, left, cheese, fruit, protein, b...   \n",
       "2917   1662841939                               [time, and, a, half]   \n",
       "4388   1661728690          [there, is, life, outside, of, starbucks]   \n",
       "\n",
       "                                              sentiment sentiments  \n",
       "2810  [{'label': 'LABEL_1', 'score': 0.6037218570709...    neutral  \n",
       "2917  [{'label': 'LABEL_1', 'score': 0.6340646147727...    neutral  \n",
       "4388  [{'label': 'LABEL_1', 'score': 0.4883001446723...    neutral  "
      ]
     },
     "execution_count": 64,
     "metadata": {},
     "output_type": "execute_result"
    }
   ],
   "source": [
    "sbucks_sample_senti.head(3)"
   ]
  },
  {
   "cell_type": "code",
   "execution_count": 65,
   "id": "40f31364-68c9-4fdb-af20-697b193458fe",
   "metadata": {},
   "outputs": [
    {
     "data": {
      "text/plain": [
       "neutral     1435\n",
       "negative     378\n",
       "positive     187\n",
       "Name: sentiments, dtype: int64"
      ]
     },
     "execution_count": 65,
     "metadata": {},
     "output_type": "execute_result"
    }
   ],
   "source": [
    "sbucks_sample_senti['sentiments'].value_counts()"
   ]
  },
  {
   "cell_type": "code",
   "execution_count": 66,
   "id": "ad1be5a3-c88b-40bc-9cd3-81e78f9cc57c",
   "metadata": {},
   "outputs": [
    {
     "data": {
      "text/html": [
       "<div>\n",
       "<style scoped>\n",
       "    .dataframe tbody tr th:only-of-type {\n",
       "        vertical-align: middle;\n",
       "    }\n",
       "\n",
       "    .dataframe tbody tr th {\n",
       "        vertical-align: top;\n",
       "    }\n",
       "\n",
       "    .dataframe thead th {\n",
       "        text-align: right;\n",
       "    }\n",
       "</style>\n",
       "<table border=\"1\" class=\"dataframe\">\n",
       "  <thead>\n",
       "    <tr style=\"text-align: right;\">\n",
       "      <th></th>\n",
       "      <th>sentiments</th>\n",
       "    </tr>\n",
       "  </thead>\n",
       "  <tbody>\n",
       "    <tr>\n",
       "      <th>neutral</th>\n",
       "      <td>1435</td>\n",
       "    </tr>\n",
       "    <tr>\n",
       "      <th>negative</th>\n",
       "      <td>378</td>\n",
       "    </tr>\n",
       "    <tr>\n",
       "      <th>positive</th>\n",
       "      <td>187</td>\n",
       "    </tr>\n",
       "  </tbody>\n",
       "</table>\n",
       "</div>"
      ],
      "text/plain": [
       "          sentiments\n",
       "neutral         1435\n",
       "negative         378\n",
       "positive         187"
      ]
     },
     "execution_count": 66,
     "metadata": {},
     "output_type": "execute_result"
    }
   ],
   "source": [
    "sbucks_sentiments = pd.DataFrame(sbucks_sample_senti['sentiments'].value_counts())\n",
    "sbucks_sentiments"
   ]
  },
  {
   "cell_type": "markdown",
   "id": "ef347bf2-74d0-4b13-9cd2-b2ac02a0c685",
   "metadata": {},
   "source": [
    "### Sbucks Dress Code"
   ]
  },
  {
   "cell_type": "code",
   "execution_count": 67,
   "id": "cb673d31-da59-4ab3-a8e5-00f1f85bd2a8",
   "metadata": {
    "tags": []
   },
   "outputs": [],
   "source": [
    "sbucks_dress_senti = sentiments(sbucks_dress)"
   ]
  },
  {
   "cell_type": "code",
   "execution_count": 68,
   "id": "7bede1d3-1a48-47fb-982d-5fe3f50a8a79",
   "metadata": {},
   "outputs": [
    {
     "data": {
      "text/html": [
       "<div>\n",
       "<style scoped>\n",
       "    .dataframe tbody tr th:only-of-type {\n",
       "        vertical-align: middle;\n",
       "    }\n",
       "\n",
       "    .dataframe tbody tr th {\n",
       "        vertical-align: top;\n",
       "    }\n",
       "\n",
       "    .dataframe thead th {\n",
       "        text-align: right;\n",
       "    }\n",
       "</style>\n",
       "<table border=\"1\" class=\"dataframe\">\n",
       "  <thead>\n",
       "    <tr style=\"text-align: right;\">\n",
       "      <th></th>\n",
       "      <th>subreddit</th>\n",
       "      <th>title</th>\n",
       "      <th>created_utc</th>\n",
       "      <th>tokenized</th>\n",
       "      <th>sentiment</th>\n",
       "      <th>sentiments</th>\n",
       "    </tr>\n",
       "  </thead>\n",
       "  <tbody>\n",
       "    <tr>\n",
       "      <th>2551</th>\n",
       "      <td>0</td>\n",
       "      <td>lax new ceo attends the one young world confer...</td>\n",
       "      <td>1663181231</td>\n",
       "      <td>[lax, new, ceo, attends, the, one, young, worl...</td>\n",
       "      <td>[{'label': 'LABEL_2', 'score': 0.9124915599822...</td>\n",
       "      <td>positive</td>\n",
       "    </tr>\n",
       "    <tr>\n",
       "      <th>2740</th>\n",
       "      <td>0</td>\n",
       "      <td>dress code question</td>\n",
       "      <td>1663017656</td>\n",
       "      <td>[dress, code, question]</td>\n",
       "      <td>[{'label': 'LABEL_1', 'score': 0.7115855813026...</td>\n",
       "      <td>neutral</td>\n",
       "    </tr>\n",
       "    <tr>\n",
       "      <th>2807</th>\n",
       "      <td>0</td>\n",
       "      <td>dresscode hats</td>\n",
       "      <td>1662946355</td>\n",
       "      <td>[dresscode, hats]</td>\n",
       "      <td>[{'label': 'LABEL_1', 'score': 0.7062446475028...</td>\n",
       "      <td>neutral</td>\n",
       "    </tr>\n",
       "  </tbody>\n",
       "</table>\n",
       "</div>"
      ],
      "text/plain": [
       "      subreddit                                              title  \\\n",
       "2551          0  lax new ceo attends the one young world confer...   \n",
       "2740          0                                dress code question   \n",
       "2807          0                                     dresscode hats   \n",
       "\n",
       "      created_utc                                          tokenized  \\\n",
       "2551   1663181231  [lax, new, ceo, attends, the, one, young, worl...   \n",
       "2740   1663017656                            [dress, code, question]   \n",
       "2807   1662946355                                  [dresscode, hats]   \n",
       "\n",
       "                                              sentiment sentiments  \n",
       "2551  [{'label': 'LABEL_2', 'score': 0.9124915599822...   positive  \n",
       "2740  [{'label': 'LABEL_1', 'score': 0.7115855813026...    neutral  \n",
       "2807  [{'label': 'LABEL_1', 'score': 0.7062446475028...    neutral  "
      ]
     },
     "execution_count": 68,
     "metadata": {},
     "output_type": "execute_result"
    }
   ],
   "source": [
    "sbucks_dress_senti.head(3)"
   ]
  },
  {
   "cell_type": "code",
   "execution_count": 69,
   "id": "54f3feeb-6c8d-40d5-954c-fd45fc1b4ca2",
   "metadata": {},
   "outputs": [
    {
     "data": {
      "text/plain": [
       "neutral     31\n",
       "negative     4\n",
       "positive     1\n",
       "Name: sentiments, dtype: int64"
      ]
     },
     "execution_count": 69,
     "metadata": {},
     "output_type": "execute_result"
    }
   ],
   "source": [
    "sbucks_dress_senti['sentiments'].value_counts()"
   ]
  },
  {
   "cell_type": "code",
   "execution_count": 70,
   "id": "ae4c7977-0042-435c-8a43-602ee2e3796f",
   "metadata": {
    "tags": []
   },
   "outputs": [
    {
     "data": {
      "text/html": [
       "<div>\n",
       "<style scoped>\n",
       "    .dataframe tbody tr th:only-of-type {\n",
       "        vertical-align: middle;\n",
       "    }\n",
       "\n",
       "    .dataframe tbody tr th {\n",
       "        vertical-align: top;\n",
       "    }\n",
       "\n",
       "    .dataframe thead th {\n",
       "        text-align: right;\n",
       "    }\n",
       "</style>\n",
       "<table border=\"1\" class=\"dataframe\">\n",
       "  <thead>\n",
       "    <tr style=\"text-align: right;\">\n",
       "      <th></th>\n",
       "      <th>sentiments</th>\n",
       "    </tr>\n",
       "  </thead>\n",
       "  <tbody>\n",
       "    <tr>\n",
       "      <th>neutral</th>\n",
       "      <td>31</td>\n",
       "    </tr>\n",
       "    <tr>\n",
       "      <th>negative</th>\n",
       "      <td>4</td>\n",
       "    </tr>\n",
       "    <tr>\n",
       "      <th>positive</th>\n",
       "      <td>1</td>\n",
       "    </tr>\n",
       "  </tbody>\n",
       "</table>\n",
       "</div>"
      ],
      "text/plain": [
       "          sentiments\n",
       "neutral           31\n",
       "negative           4\n",
       "positive           1"
      ]
     },
     "execution_count": 70,
     "metadata": {},
     "output_type": "execute_result"
    }
   ],
   "source": [
    "sbucks_dress_sentiments = pd.DataFrame(sbucks_dress_senti['sentiments'].value_counts())\n",
    "sbucks_dress_sentiments"
   ]
  },
  {
   "cell_type": "markdown",
   "id": "401314f1-b556-4899-b642-62ff2fdd7491",
   "metadata": {},
   "source": [
    "### Sbucks Pumpkin Spice"
   ]
  },
  {
   "cell_type": "code",
   "execution_count": 71,
   "id": "1ca40d22-57e1-4244-a691-2646ae9f067c",
   "metadata": {
    "tags": []
   },
   "outputs": [],
   "source": [
    "sbucks_p_spice_senti = sentiments(sbucks_p_spice)"
   ]
  },
  {
   "cell_type": "code",
   "execution_count": 72,
   "id": "ec70bb70-faf1-4587-90bc-b8fa664119d4",
   "metadata": {},
   "outputs": [
    {
     "data": {
      "text/html": [
       "<div>\n",
       "<style scoped>\n",
       "    .dataframe tbody tr th:only-of-type {\n",
       "        vertical-align: middle;\n",
       "    }\n",
       "\n",
       "    .dataframe tbody tr th {\n",
       "        vertical-align: top;\n",
       "    }\n",
       "\n",
       "    .dataframe thead th {\n",
       "        text-align: right;\n",
       "    }\n",
       "</style>\n",
       "<table border=\"1\" class=\"dataframe\">\n",
       "  <thead>\n",
       "    <tr style=\"text-align: right;\">\n",
       "      <th></th>\n",
       "      <th>subreddit</th>\n",
       "      <th>title</th>\n",
       "      <th>created_utc</th>\n",
       "      <th>tokenized</th>\n",
       "      <th>sentiment</th>\n",
       "      <th>sentiments</th>\n",
       "    </tr>\n",
       "  </thead>\n",
       "  <tbody>\n",
       "    <tr>\n",
       "      <th>2636</th>\n",
       "      <td>0</td>\n",
       "      <td>happy pumpkin spice season jack o lantern</td>\n",
       "      <td>1663109346</td>\n",
       "      <td>[happy, pumpkin, spice, season, jack, o, lantern]</td>\n",
       "      <td>[{'label': 'LABEL_2', 'score': 0.9534860253334...</td>\n",
       "      <td>positive</td>\n",
       "    </tr>\n",
       "    <tr>\n",
       "      <th>2698</th>\n",
       "      <td>0</td>\n",
       "      <td>is this kj s correct i know syrups have heaps ...</td>\n",
       "      <td>1663047373</td>\n",
       "      <td>[is, this, kj, s, correct, i, know, syrups, ha...</td>\n",
       "      <td>[{'label': 'LABEL_1', 'score': 0.5993539094924...</td>\n",
       "      <td>neutral</td>\n",
       "    </tr>\n",
       "    <tr>\n",
       "      <th>2906</th>\n",
       "      <td>0</td>\n",
       "      <td>your favorite custom off menu drinks using pum...</td>\n",
       "      <td>1662852146</td>\n",
       "      <td>[your, favorite, custom, off, menu, drinks, us...</td>\n",
       "      <td>[{'label': 'LABEL_1', 'score': 0.8353580832481...</td>\n",
       "      <td>neutral</td>\n",
       "    </tr>\n",
       "  </tbody>\n",
       "</table>\n",
       "</div>"
      ],
      "text/plain": [
       "      subreddit                                              title  \\\n",
       "2636          0          happy pumpkin spice season jack o lantern   \n",
       "2698          0  is this kj s correct i know syrups have heaps ...   \n",
       "2906          0  your favorite custom off menu drinks using pum...   \n",
       "\n",
       "      created_utc                                          tokenized  \\\n",
       "2636   1663109346  [happy, pumpkin, spice, season, jack, o, lantern]   \n",
       "2698   1663047373  [is, this, kj, s, correct, i, know, syrups, ha...   \n",
       "2906   1662852146  [your, favorite, custom, off, menu, drinks, us...   \n",
       "\n",
       "                                              sentiment sentiments  \n",
       "2636  [{'label': 'LABEL_2', 'score': 0.9534860253334...   positive  \n",
       "2698  [{'label': 'LABEL_1', 'score': 0.5993539094924...    neutral  \n",
       "2906  [{'label': 'LABEL_1', 'score': 0.8353580832481...    neutral  "
      ]
     },
     "execution_count": 72,
     "metadata": {},
     "output_type": "execute_result"
    }
   ],
   "source": [
    "sbucks_p_spice_senti.head(3)"
   ]
  },
  {
   "cell_type": "code",
   "execution_count": 73,
   "id": "0d0d6d10-970b-412a-9671-62af261130f9",
   "metadata": {},
   "outputs": [
    {
     "data": {
      "text/plain": [
       "neutral     35\n",
       "positive     5\n",
       "negative     3\n",
       "Name: sentiments, dtype: int64"
      ]
     },
     "execution_count": 73,
     "metadata": {},
     "output_type": "execute_result"
    }
   ],
   "source": [
    "sbucks_p_spice_senti['sentiments'].value_counts()"
   ]
  },
  {
   "cell_type": "code",
   "execution_count": 74,
   "id": "0892cdab-71b2-4f08-97c7-89b559a4acbd",
   "metadata": {
    "tags": []
   },
   "outputs": [
    {
     "data": {
      "text/html": [
       "<div>\n",
       "<style scoped>\n",
       "    .dataframe tbody tr th:only-of-type {\n",
       "        vertical-align: middle;\n",
       "    }\n",
       "\n",
       "    .dataframe tbody tr th {\n",
       "        vertical-align: top;\n",
       "    }\n",
       "\n",
       "    .dataframe thead th {\n",
       "        text-align: right;\n",
       "    }\n",
       "</style>\n",
       "<table border=\"1\" class=\"dataframe\">\n",
       "  <thead>\n",
       "    <tr style=\"text-align: right;\">\n",
       "      <th></th>\n",
       "      <th>sentiments</th>\n",
       "    </tr>\n",
       "  </thead>\n",
       "  <tbody>\n",
       "    <tr>\n",
       "      <th>neutral</th>\n",
       "      <td>35</td>\n",
       "    </tr>\n",
       "    <tr>\n",
       "      <th>positive</th>\n",
       "      <td>5</td>\n",
       "    </tr>\n",
       "    <tr>\n",
       "      <th>negative</th>\n",
       "      <td>3</td>\n",
       "    </tr>\n",
       "  </tbody>\n",
       "</table>\n",
       "</div>"
      ],
      "text/plain": [
       "          sentiments\n",
       "neutral           35\n",
       "positive           5\n",
       "negative           3"
      ]
     },
     "execution_count": 74,
     "metadata": {},
     "output_type": "execute_result"
    }
   ],
   "source": [
    "sbucks_p_spice_sentiments = pd.DataFrame(sbucks_p_spice_senti['sentiments'].value_counts())\n",
    "sbucks_p_spice_sentiments"
   ]
  },
  {
   "cell_type": "markdown",
   "id": "ace46c04-2a38-46f3-a209-29bb1b54ada5",
   "metadata": {
    "tags": []
   },
   "source": [
    "### Sbucks Cold Brew"
   ]
  },
  {
   "cell_type": "code",
   "execution_count": 75,
   "id": "61d6df0f-e4ca-4fa0-a696-b113b12a9f44",
   "metadata": {
    "tags": []
   },
   "outputs": [],
   "source": [
    "sbucks_c_brew_senti = sentiments(sbucks_c_brew)"
   ]
  },
  {
   "cell_type": "code",
   "execution_count": 76,
   "id": "fd0e8cdc-1943-42a2-9e22-6224686178c7",
   "metadata": {},
   "outputs": [
    {
     "data": {
      "text/html": [
       "<div>\n",
       "<style scoped>\n",
       "    .dataframe tbody tr th:only-of-type {\n",
       "        vertical-align: middle;\n",
       "    }\n",
       "\n",
       "    .dataframe tbody tr th {\n",
       "        vertical-align: top;\n",
       "    }\n",
       "\n",
       "    .dataframe thead th {\n",
       "        text-align: right;\n",
       "    }\n",
       "</style>\n",
       "<table border=\"1\" class=\"dataframe\">\n",
       "  <thead>\n",
       "    <tr style=\"text-align: right;\">\n",
       "      <th></th>\n",
       "      <th>subreddit</th>\n",
       "      <th>title</th>\n",
       "      <th>created_utc</th>\n",
       "      <th>tokenized</th>\n",
       "      <th>sentiment</th>\n",
       "      <th>sentiments</th>\n",
       "    </tr>\n",
       "  </thead>\n",
       "  <tbody>\n",
       "    <tr>\n",
       "      <th>2508</th>\n",
       "      <td>0</td>\n",
       "      <td>cold brew and brewed coffee pls</td>\n",
       "      <td>1663208386</td>\n",
       "      <td>[cold, brew, and, brewed, coffee, pls]</td>\n",
       "      <td>[{'label': 'LABEL_1', 'score': 0.6978935599327...</td>\n",
       "      <td>neutral</td>\n",
       "    </tr>\n",
       "    <tr>\n",
       "      <th>2652</th>\n",
       "      <td>0</td>\n",
       "      <td>what happened to starbucks cold brew</td>\n",
       "      <td>1663097976</td>\n",
       "      <td>[what, happened, to, starbucks, cold, brew]</td>\n",
       "      <td>[{'label': 'LABEL_1', 'score': 0.7445796132087...</td>\n",
       "      <td>neutral</td>\n",
       "    </tr>\n",
       "    <tr>\n",
       "      <th>2658</th>\n",
       "      <td>0</td>\n",
       "      <td>this was 9 a tall cold brew with no add ins at...</td>\n",
       "      <td>1663095561</td>\n",
       "      <td>[this, was, 9, a, tall, cold, brew, with, no, ...</td>\n",
       "      <td>[{'label': 'LABEL_2', 'score': 0.9462835788726...</td>\n",
       "      <td>positive</td>\n",
       "    </tr>\n",
       "  </tbody>\n",
       "</table>\n",
       "</div>"
      ],
      "text/plain": [
       "      subreddit                                              title  \\\n",
       "2508          0                    cold brew and brewed coffee pls   \n",
       "2652          0               what happened to starbucks cold brew   \n",
       "2658          0  this was 9 a tall cold brew with no add ins at...   \n",
       "\n",
       "      created_utc                                          tokenized  \\\n",
       "2508   1663208386             [cold, brew, and, brewed, coffee, pls]   \n",
       "2652   1663097976        [what, happened, to, starbucks, cold, brew]   \n",
       "2658   1663095561  [this, was, 9, a, tall, cold, brew, with, no, ...   \n",
       "\n",
       "                                              sentiment sentiments  \n",
       "2508  [{'label': 'LABEL_1', 'score': 0.6978935599327...    neutral  \n",
       "2652  [{'label': 'LABEL_1', 'score': 0.7445796132087...    neutral  \n",
       "2658  [{'label': 'LABEL_2', 'score': 0.9462835788726...   positive  "
      ]
     },
     "execution_count": 76,
     "metadata": {},
     "output_type": "execute_result"
    }
   ],
   "source": [
    "sbucks_c_brew_senti.head(3)"
   ]
  },
  {
   "cell_type": "code",
   "execution_count": 77,
   "id": "6b9c452f-71ce-4044-a7ca-afed76731004",
   "metadata": {},
   "outputs": [
    {
     "data": {
      "text/plain": [
       "neutral     39\n",
       "negative     4\n",
       "positive     3\n",
       "Name: sentiments, dtype: int64"
      ]
     },
     "execution_count": 77,
     "metadata": {},
     "output_type": "execute_result"
    }
   ],
   "source": [
    "sbucks_c_brew_senti['sentiments'].value_counts()"
   ]
  },
  {
   "cell_type": "code",
   "execution_count": 78,
   "id": "bf766220-ac42-4804-a7e3-93d0b2460380",
   "metadata": {
    "tags": []
   },
   "outputs": [
    {
     "data": {
      "text/html": [
       "<div>\n",
       "<style scoped>\n",
       "    .dataframe tbody tr th:only-of-type {\n",
       "        vertical-align: middle;\n",
       "    }\n",
       "\n",
       "    .dataframe tbody tr th {\n",
       "        vertical-align: top;\n",
       "    }\n",
       "\n",
       "    .dataframe thead th {\n",
       "        text-align: right;\n",
       "    }\n",
       "</style>\n",
       "<table border=\"1\" class=\"dataframe\">\n",
       "  <thead>\n",
       "    <tr style=\"text-align: right;\">\n",
       "      <th></th>\n",
       "      <th>sentiments</th>\n",
       "    </tr>\n",
       "  </thead>\n",
       "  <tbody>\n",
       "    <tr>\n",
       "      <th>neutral</th>\n",
       "      <td>39</td>\n",
       "    </tr>\n",
       "    <tr>\n",
       "      <th>negative</th>\n",
       "      <td>4</td>\n",
       "    </tr>\n",
       "    <tr>\n",
       "      <th>positive</th>\n",
       "      <td>3</td>\n",
       "    </tr>\n",
       "  </tbody>\n",
       "</table>\n",
       "</div>"
      ],
      "text/plain": [
       "          sentiments\n",
       "neutral           39\n",
       "negative           4\n",
       "positive           3"
      ]
     },
     "execution_count": 78,
     "metadata": {},
     "output_type": "execute_result"
    }
   ],
   "source": [
    "sbucks_c_brew_sentiments = pd.DataFrame(sbucks_c_brew_senti['sentiments'].value_counts())\n",
    "sbucks_c_brew_sentiments"
   ]
  },
  {
   "cell_type": "markdown",
   "id": "71e18f47-f8ba-4a08-a3e6-9328a6c4b3a4",
   "metadata": {
    "tags": []
   },
   "source": [
    "### Sbucks Iced Coffee"
   ]
  },
  {
   "cell_type": "code",
   "execution_count": 79,
   "id": "0b05568b-599c-48f0-baba-74b71dda925b",
   "metadata": {
    "tags": []
   },
   "outputs": [],
   "source": [
    "sbucks_i_coffee_senti = sentiments(sbucks_i_coffee)"
   ]
  },
  {
   "cell_type": "code",
   "execution_count": 80,
   "id": "4f01ca8a-70db-4b29-ae82-dd745031b56c",
   "metadata": {},
   "outputs": [
    {
     "data": {
      "text/html": [
       "<div>\n",
       "<style scoped>\n",
       "    .dataframe tbody tr th:only-of-type {\n",
       "        vertical-align: middle;\n",
       "    }\n",
       "\n",
       "    .dataframe tbody tr th {\n",
       "        vertical-align: top;\n",
       "    }\n",
       "\n",
       "    .dataframe thead th {\n",
       "        text-align: right;\n",
       "    }\n",
       "</style>\n",
       "<table border=\"1\" class=\"dataframe\">\n",
       "  <thead>\n",
       "    <tr style=\"text-align: right;\">\n",
       "      <th></th>\n",
       "      <th>subreddit</th>\n",
       "      <th>title</th>\n",
       "      <th>created_utc</th>\n",
       "      <th>tokenized</th>\n",
       "      <th>sentiment</th>\n",
       "      <th>sentiments</th>\n",
       "    </tr>\n",
       "  </thead>\n",
       "  <tbody>\n",
       "    <tr>\n",
       "      <th>2612</th>\n",
       "      <td>0</td>\n",
       "      <td>starbucks equivalent of mcdonald s vanilla ice...</td>\n",
       "      <td>1663116479</td>\n",
       "      <td>[starbucks, equivalent, of, mcdonald, s, vanil...</td>\n",
       "      <td>[{'label': 'LABEL_1', 'score': 0.7834208011627...</td>\n",
       "      <td>neutral</td>\n",
       "    </tr>\n",
       "    <tr>\n",
       "      <th>2901</th>\n",
       "      <td>0</td>\n",
       "      <td>inconsistency with iced coffee help</td>\n",
       "      <td>1662853661</td>\n",
       "      <td>[inconsistency, with, iced, coffee, help]</td>\n",
       "      <td>[{'label': 'LABEL_1', 'score': 0.5564663410186...</td>\n",
       "      <td>neutral</td>\n",
       "    </tr>\n",
       "    <tr>\n",
       "      <th>2929</th>\n",
       "      <td>0</td>\n",
       "      <td>what beans how to request starbucks iced coffe...</td>\n",
       "      <td>1662832959</td>\n",
       "      <td>[what, beans, how, to, request, starbucks, ice...</td>\n",
       "      <td>[{'label': 'LABEL_1', 'score': 0.9025143384933...</td>\n",
       "      <td>neutral</td>\n",
       "    </tr>\n",
       "  </tbody>\n",
       "</table>\n",
       "</div>"
      ],
      "text/plain": [
       "      subreddit                                              title  \\\n",
       "2612          0  starbucks equivalent of mcdonald s vanilla ice...   \n",
       "2901          0                inconsistency with iced coffee help   \n",
       "2929          0  what beans how to request starbucks iced coffe...   \n",
       "\n",
       "      created_utc                                          tokenized  \\\n",
       "2612   1663116479  [starbucks, equivalent, of, mcdonald, s, vanil...   \n",
       "2901   1662853661          [inconsistency, with, iced, coffee, help]   \n",
       "2929   1662832959  [what, beans, how, to, request, starbucks, ice...   \n",
       "\n",
       "                                              sentiment sentiments  \n",
       "2612  [{'label': 'LABEL_1', 'score': 0.7834208011627...    neutral  \n",
       "2901  [{'label': 'LABEL_1', 'score': 0.5564663410186...    neutral  \n",
       "2929  [{'label': 'LABEL_1', 'score': 0.9025143384933...    neutral  "
      ]
     },
     "execution_count": 80,
     "metadata": {},
     "output_type": "execute_result"
    }
   ],
   "source": [
    "sbucks_i_coffee_senti.head(3)"
   ]
  },
  {
   "cell_type": "code",
   "execution_count": 81,
   "id": "a4255cca-0e89-44ad-9d28-a180f5986bbe",
   "metadata": {},
   "outputs": [
    {
     "data": {
      "text/plain": [
       "neutral     12\n",
       "positive     2\n",
       "Name: sentiments, dtype: int64"
      ]
     },
     "execution_count": 81,
     "metadata": {},
     "output_type": "execute_result"
    }
   ],
   "source": [
    "sbucks_i_coffee_senti['sentiments'].value_counts()"
   ]
  },
  {
   "cell_type": "code",
   "execution_count": 82,
   "id": "c53f6606-98aa-4ba1-8738-c17c6a94b0f4",
   "metadata": {
    "tags": []
   },
   "outputs": [
    {
     "data": {
      "text/html": [
       "<div>\n",
       "<style scoped>\n",
       "    .dataframe tbody tr th:only-of-type {\n",
       "        vertical-align: middle;\n",
       "    }\n",
       "\n",
       "    .dataframe tbody tr th {\n",
       "        vertical-align: top;\n",
       "    }\n",
       "\n",
       "    .dataframe thead th {\n",
       "        text-align: right;\n",
       "    }\n",
       "</style>\n",
       "<table border=\"1\" class=\"dataframe\">\n",
       "  <thead>\n",
       "    <tr style=\"text-align: right;\">\n",
       "      <th></th>\n",
       "      <th>sentiments</th>\n",
       "    </tr>\n",
       "  </thead>\n",
       "  <tbody>\n",
       "    <tr>\n",
       "      <th>neutral</th>\n",
       "      <td>12</td>\n",
       "    </tr>\n",
       "    <tr>\n",
       "      <th>positive</th>\n",
       "      <td>2</td>\n",
       "    </tr>\n",
       "  </tbody>\n",
       "</table>\n",
       "</div>"
      ],
      "text/plain": [
       "          sentiments\n",
       "neutral           12\n",
       "positive           2"
      ]
     },
     "execution_count": 82,
     "metadata": {},
     "output_type": "execute_result"
    }
   ],
   "source": [
    "sbucks_i_coffee_sentiments = pd.DataFrame(sbucks_i_coffee_senti['sentiments'].value_counts())\n",
    "sbucks_i_coffee_sentiments"
   ]
  },
  {
   "cell_type": "markdown",
   "id": "ea9b4716-10cd-448f-9758-f403894104e7",
   "metadata": {},
   "source": [
    "### Sbucks Apple Crisp"
   ]
  },
  {
   "cell_type": "code",
   "execution_count": 83,
   "id": "3a941487-e0d5-47fd-ac32-c84fbc1b54c6",
   "metadata": {
    "tags": []
   },
   "outputs": [],
   "source": [
    "sbucks_a_crisp_senti = sentiments(sbucks_a_crisp)"
   ]
  },
  {
   "cell_type": "code",
   "execution_count": 84,
   "id": "6734b76c-49c0-44bd-91f3-a3e165f2fc4c",
   "metadata": {},
   "outputs": [
    {
     "data": {
      "text/html": [
       "<div>\n",
       "<style scoped>\n",
       "    .dataframe tbody tr th:only-of-type {\n",
       "        vertical-align: middle;\n",
       "    }\n",
       "\n",
       "    .dataframe tbody tr th {\n",
       "        vertical-align: top;\n",
       "    }\n",
       "\n",
       "    .dataframe thead th {\n",
       "        text-align: right;\n",
       "    }\n",
       "</style>\n",
       "<table border=\"1\" class=\"dataframe\">\n",
       "  <thead>\n",
       "    <tr style=\"text-align: right;\">\n",
       "      <th></th>\n",
       "      <th>subreddit</th>\n",
       "      <th>title</th>\n",
       "      <th>created_utc</th>\n",
       "      <th>tokenized</th>\n",
       "      <th>sentiment</th>\n",
       "      <th>sentiments</th>\n",
       "    </tr>\n",
       "  </thead>\n",
       "  <tbody>\n",
       "    <tr>\n",
       "      <th>2720</th>\n",
       "      <td>0</td>\n",
       "      <td>why does the apple crisp taste like straight c...</td>\n",
       "      <td>1663031317</td>\n",
       "      <td>[why, does, the, apple, crisp, taste, like, st...</td>\n",
       "      <td>[{'label': 'LABEL_0', 'score': 0.9693011045455...</td>\n",
       "      <td>negative</td>\n",
       "    </tr>\n",
       "    <tr>\n",
       "      <th>2735</th>\n",
       "      <td>0</td>\n",
       "      <td>apple crisp cold brew</td>\n",
       "      <td>1663023008</td>\n",
       "      <td>[apple, crisp, cold, brew]</td>\n",
       "      <td>[{'label': 'LABEL_1', 'score': 0.7091082930564...</td>\n",
       "      <td>neutral</td>\n",
       "    </tr>\n",
       "    <tr>\n",
       "      <th>2967</th>\n",
       "      <td>0</td>\n",
       "      <td>omg the iced apple crisp mach</td>\n",
       "      <td>1662786469</td>\n",
       "      <td>[omg, the, iced, apple, crisp, mach]</td>\n",
       "      <td>[{'label': 'LABEL_1', 'score': 0.7784996032714...</td>\n",
       "      <td>neutral</td>\n",
       "    </tr>\n",
       "  </tbody>\n",
       "</table>\n",
       "</div>"
      ],
      "text/plain": [
       "      subreddit                                              title  \\\n",
       "2720          0  why does the apple crisp taste like straight c...   \n",
       "2735          0                              apple crisp cold brew   \n",
       "2967          0                      omg the iced apple crisp mach   \n",
       "\n",
       "      created_utc                                          tokenized  \\\n",
       "2720   1663031317  [why, does, the, apple, crisp, taste, like, st...   \n",
       "2735   1663023008                         [apple, crisp, cold, brew]   \n",
       "2967   1662786469               [omg, the, iced, apple, crisp, mach]   \n",
       "\n",
       "                                              sentiment sentiments  \n",
       "2720  [{'label': 'LABEL_0', 'score': 0.9693011045455...   negative  \n",
       "2735  [{'label': 'LABEL_1', 'score': 0.7091082930564...    neutral  \n",
       "2967  [{'label': 'LABEL_1', 'score': 0.7784996032714...    neutral  "
      ]
     },
     "execution_count": 84,
     "metadata": {},
     "output_type": "execute_result"
    }
   ],
   "source": [
    "sbucks_a_crisp_senti.head(3)"
   ]
  },
  {
   "cell_type": "code",
   "execution_count": 85,
   "id": "0314f083-6d66-484e-b64e-ec1391985c43",
   "metadata": {},
   "outputs": [
    {
     "data": {
      "text/plain": [
       "neutral     12\n",
       "negative     2\n",
       "positive     1\n",
       "Name: sentiments, dtype: int64"
      ]
     },
     "execution_count": 85,
     "metadata": {},
     "output_type": "execute_result"
    }
   ],
   "source": [
    "sbucks_a_crisp_senti['sentiments'].value_counts()"
   ]
  },
  {
   "cell_type": "code",
   "execution_count": 86,
   "id": "8c276d5f-c983-4277-8934-6c06c80b3c59",
   "metadata": {
    "tags": []
   },
   "outputs": [
    {
     "data": {
      "text/html": [
       "<div>\n",
       "<style scoped>\n",
       "    .dataframe tbody tr th:only-of-type {\n",
       "        vertical-align: middle;\n",
       "    }\n",
       "\n",
       "    .dataframe tbody tr th {\n",
       "        vertical-align: top;\n",
       "    }\n",
       "\n",
       "    .dataframe thead th {\n",
       "        text-align: right;\n",
       "    }\n",
       "</style>\n",
       "<table border=\"1\" class=\"dataframe\">\n",
       "  <thead>\n",
       "    <tr style=\"text-align: right;\">\n",
       "      <th></th>\n",
       "      <th>sentiments</th>\n",
       "    </tr>\n",
       "  </thead>\n",
       "  <tbody>\n",
       "    <tr>\n",
       "      <th>neutral</th>\n",
       "      <td>12</td>\n",
       "    </tr>\n",
       "    <tr>\n",
       "      <th>negative</th>\n",
       "      <td>2</td>\n",
       "    </tr>\n",
       "    <tr>\n",
       "      <th>positive</th>\n",
       "      <td>1</td>\n",
       "    </tr>\n",
       "  </tbody>\n",
       "</table>\n",
       "</div>"
      ],
      "text/plain": [
       "          sentiments\n",
       "neutral           12\n",
       "negative           2\n",
       "positive           1"
      ]
     },
     "execution_count": 86,
     "metadata": {},
     "output_type": "execute_result"
    }
   ],
   "source": [
    "sbucks_a_crisp_sentiments = pd.DataFrame(sbucks_a_crisp_senti['sentiments'].value_counts())\n",
    "sbucks_a_crisp_sentiments"
   ]
  },
  {
   "cell_type": "markdown",
   "id": "6aaca5c5-3766-4a60-8c80-cd5f56b526fe",
   "metadata": {},
   "source": [
    "### Sbucks Fall Launch"
   ]
  },
  {
   "cell_type": "code",
   "execution_count": 87,
   "id": "1cec7679-426a-4964-bc4a-643470aa55bf",
   "metadata": {
    "tags": []
   },
   "outputs": [],
   "source": [
    "sbucks_f_launch_senti = sentiments(sbucks_f_launch)"
   ]
  },
  {
   "cell_type": "code",
   "execution_count": 88,
   "id": "e7c29164-9917-4440-9a29-fe1457b3a3f4",
   "metadata": {},
   "outputs": [
    {
     "data": {
      "text/html": [
       "<div>\n",
       "<style scoped>\n",
       "    .dataframe tbody tr th:only-of-type {\n",
       "        vertical-align: middle;\n",
       "    }\n",
       "\n",
       "    .dataframe tbody tr th {\n",
       "        vertical-align: top;\n",
       "    }\n",
       "\n",
       "    .dataframe thead th {\n",
       "        text-align: right;\n",
       "    }\n",
       "</style>\n",
       "<table border=\"1\" class=\"dataframe\">\n",
       "  <thead>\n",
       "    <tr style=\"text-align: right;\">\n",
       "      <th></th>\n",
       "      <th>subreddit</th>\n",
       "      <th>title</th>\n",
       "      <th>created_utc</th>\n",
       "      <th>tokenized</th>\n",
       "      <th>sentiment</th>\n",
       "      <th>sentiments</th>\n",
       "    </tr>\n",
       "  </thead>\n",
       "  <tbody>\n",
       "    <tr>\n",
       "      <th>3113</th>\n",
       "      <td>0</td>\n",
       "      <td>fall drink that s not too sweet</td>\n",
       "      <td>1662682169</td>\n",
       "      <td>[fall, drink, that, s, not, too, sweet]</td>\n",
       "      <td>[{'label': 'LABEL_0', 'score': 0.4885034263134...</td>\n",
       "      <td>negative</td>\n",
       "    </tr>\n",
       "    <tr>\n",
       "      <th>3124</th>\n",
       "      <td>0</td>\n",
       "      <td>fall drink recs without coffee</td>\n",
       "      <td>1662676345</td>\n",
       "      <td>[fall, drink, recs, without, coffee]</td>\n",
       "      <td>[{'label': 'LABEL_1', 'score': 0.8270258307456...</td>\n",
       "      <td>neutral</td>\n",
       "    </tr>\n",
       "    <tr>\n",
       "      <th>3355</th>\n",
       "      <td>0</td>\n",
       "      <td>fall drinks central ohio</td>\n",
       "      <td>1662473112</td>\n",
       "      <td>[fall, drinks, central, ohio]</td>\n",
       "      <td>[{'label': 'LABEL_1', 'score': 0.8739259243011...</td>\n",
       "      <td>neutral</td>\n",
       "    </tr>\n",
       "  </tbody>\n",
       "</table>\n",
       "</div>"
      ],
      "text/plain": [
       "      subreddit                            title  created_utc  \\\n",
       "3113          0  fall drink that s not too sweet   1662682169   \n",
       "3124          0   fall drink recs without coffee   1662676345   \n",
       "3355          0         fall drinks central ohio   1662473112   \n",
       "\n",
       "                                    tokenized  \\\n",
       "3113  [fall, drink, that, s, not, too, sweet]   \n",
       "3124     [fall, drink, recs, without, coffee]   \n",
       "3355            [fall, drinks, central, ohio]   \n",
       "\n",
       "                                              sentiment sentiments  \n",
       "3113  [{'label': 'LABEL_0', 'score': 0.4885034263134...   negative  \n",
       "3124  [{'label': 'LABEL_1', 'score': 0.8270258307456...    neutral  \n",
       "3355  [{'label': 'LABEL_1', 'score': 0.8739259243011...    neutral  "
      ]
     },
     "execution_count": 88,
     "metadata": {},
     "output_type": "execute_result"
    }
   ],
   "source": [
    "sbucks_f_launch_senti.head(3)"
   ]
  },
  {
   "cell_type": "code",
   "execution_count": 89,
   "id": "490de3ab-5002-4d26-9307-9a583fdfe134",
   "metadata": {},
   "outputs": [
    {
     "data": {
      "text/plain": [
       "neutral     14\n",
       "positive     3\n",
       "negative     1\n",
       "Name: sentiments, dtype: int64"
      ]
     },
     "execution_count": 89,
     "metadata": {},
     "output_type": "execute_result"
    }
   ],
   "source": [
    "sbucks_f_launch_senti['sentiments'].value_counts()"
   ]
  },
  {
   "cell_type": "code",
   "execution_count": 90,
   "id": "f3fd1abb-983c-40b7-a8bc-9314ae5fa665",
   "metadata": {
    "tags": []
   },
   "outputs": [
    {
     "data": {
      "text/html": [
       "<div>\n",
       "<style scoped>\n",
       "    .dataframe tbody tr th:only-of-type {\n",
       "        vertical-align: middle;\n",
       "    }\n",
       "\n",
       "    .dataframe tbody tr th {\n",
       "        vertical-align: top;\n",
       "    }\n",
       "\n",
       "    .dataframe thead th {\n",
       "        text-align: right;\n",
       "    }\n",
       "</style>\n",
       "<table border=\"1\" class=\"dataframe\">\n",
       "  <thead>\n",
       "    <tr style=\"text-align: right;\">\n",
       "      <th></th>\n",
       "      <th>sentiments</th>\n",
       "    </tr>\n",
       "  </thead>\n",
       "  <tbody>\n",
       "    <tr>\n",
       "      <th>neutral</th>\n",
       "      <td>14</td>\n",
       "    </tr>\n",
       "    <tr>\n",
       "      <th>positive</th>\n",
       "      <td>3</td>\n",
       "    </tr>\n",
       "    <tr>\n",
       "      <th>negative</th>\n",
       "      <td>1</td>\n",
       "    </tr>\n",
       "  </tbody>\n",
       "</table>\n",
       "</div>"
      ],
      "text/plain": [
       "          sentiments\n",
       "neutral           14\n",
       "positive           3\n",
       "negative           1"
      ]
     },
     "execution_count": 90,
     "metadata": {},
     "output_type": "execute_result"
    }
   ],
   "source": [
    "sbucks_f_launch_sentiments = pd.DataFrame(sbucks_f_launch_senti['sentiments'].value_counts())\n",
    "sbucks_f_launch_sentiments"
   ]
  },
  {
   "cell_type": "markdown",
   "id": "725225d1-2580-4d48-b28b-18ad80f98f6e",
   "metadata": {
    "tags": []
   },
   "source": [
    "### Sbucks Reward"
   ]
  },
  {
   "cell_type": "code",
   "execution_count": 91,
   "id": "1d1b6484-81b0-4713-a491-783a6b7ecc0a",
   "metadata": {
    "tags": []
   },
   "outputs": [],
   "source": [
    "sbucks_reward_senti = sentiments(sbucks_reward)"
   ]
  },
  {
   "cell_type": "code",
   "execution_count": 92,
   "id": "cd48d163-39ca-45b2-b0ac-c9bb06c3e14b",
   "metadata": {},
   "outputs": [
    {
     "data": {
      "text/html": [
       "<div>\n",
       "<style scoped>\n",
       "    .dataframe tbody tr th:only-of-type {\n",
       "        vertical-align: middle;\n",
       "    }\n",
       "\n",
       "    .dataframe tbody tr th {\n",
       "        vertical-align: top;\n",
       "    }\n",
       "\n",
       "    .dataframe thead th {\n",
       "        text-align: right;\n",
       "    }\n",
       "</style>\n",
       "<table border=\"1\" class=\"dataframe\">\n",
       "  <thead>\n",
       "    <tr style=\"text-align: right;\">\n",
       "      <th></th>\n",
       "      <th>subreddit</th>\n",
       "      <th>title</th>\n",
       "      <th>created_utc</th>\n",
       "      <th>tokenized</th>\n",
       "      <th>sentiment</th>\n",
       "      <th>sentiments</th>\n",
       "    </tr>\n",
       "  </thead>\n",
       "  <tbody>\n",
       "    <tr>\n",
       "      <th>2649</th>\n",
       "      <td>0</td>\n",
       "      <td>why do some starbucks stores not offer rewards...</td>\n",
       "      <td>1663099313</td>\n",
       "      <td>[why, do, some, starbucks, stores, not, offer,...</td>\n",
       "      <td>[{'label': 'LABEL_0', 'score': 0.5769333243370...</td>\n",
       "      <td>negative</td>\n",
       "    </tr>\n",
       "    <tr>\n",
       "      <th>2813</th>\n",
       "      <td>0</td>\n",
       "      <td>delicious free drink</td>\n",
       "      <td>1662939213</td>\n",
       "      <td>[delicious, free, drink]</td>\n",
       "      <td>[{'label': 'LABEL_2', 'score': 0.9467070102691...</td>\n",
       "      <td>positive</td>\n",
       "    </tr>\n",
       "    <tr>\n",
       "      <th>2870</th>\n",
       "      <td>0</td>\n",
       "      <td>free drink recommendation</td>\n",
       "      <td>1662890001</td>\n",
       "      <td>[free, drink, recommendation]</td>\n",
       "      <td>[{'label': 'LABEL_1', 'score': 0.7021298408508...</td>\n",
       "      <td>neutral</td>\n",
       "    </tr>\n",
       "  </tbody>\n",
       "</table>\n",
       "</div>"
      ],
      "text/plain": [
       "      subreddit                                              title  \\\n",
       "2649          0  why do some starbucks stores not offer rewards...   \n",
       "2813          0                               delicious free drink   \n",
       "2870          0                          free drink recommendation   \n",
       "\n",
       "      created_utc                                          tokenized  \\\n",
       "2649   1663099313  [why, do, some, starbucks, stores, not, offer,...   \n",
       "2813   1662939213                           [delicious, free, drink]   \n",
       "2870   1662890001                      [free, drink, recommendation]   \n",
       "\n",
       "                                              sentiment sentiments  \n",
       "2649  [{'label': 'LABEL_0', 'score': 0.5769333243370...   negative  \n",
       "2813  [{'label': 'LABEL_2', 'score': 0.9467070102691...   positive  \n",
       "2870  [{'label': 'LABEL_1', 'score': 0.7021298408508...    neutral  "
      ]
     },
     "execution_count": 92,
     "metadata": {},
     "output_type": "execute_result"
    }
   ],
   "source": [
    "sbucks_reward_senti.head(3)"
   ]
  },
  {
   "cell_type": "code",
   "execution_count": 93,
   "id": "aee8622f-7339-4ce4-bd96-605398ff7db0",
   "metadata": {},
   "outputs": [
    {
     "data": {
      "text/plain": [
       "neutral     8\n",
       "positive    3\n",
       "negative    2\n",
       "Name: sentiments, dtype: int64"
      ]
     },
     "execution_count": 93,
     "metadata": {},
     "output_type": "execute_result"
    }
   ],
   "source": [
    "sbucks_reward_senti['sentiments'].value_counts()"
   ]
  },
  {
   "cell_type": "code",
   "execution_count": 94,
   "id": "5da46ef8-83ea-4699-9808-51b982be453d",
   "metadata": {
    "tags": []
   },
   "outputs": [
    {
     "data": {
      "text/html": [
       "<div>\n",
       "<style scoped>\n",
       "    .dataframe tbody tr th:only-of-type {\n",
       "        vertical-align: middle;\n",
       "    }\n",
       "\n",
       "    .dataframe tbody tr th {\n",
       "        vertical-align: top;\n",
       "    }\n",
       "\n",
       "    .dataframe thead th {\n",
       "        text-align: right;\n",
       "    }\n",
       "</style>\n",
       "<table border=\"1\" class=\"dataframe\">\n",
       "  <thead>\n",
       "    <tr style=\"text-align: right;\">\n",
       "      <th></th>\n",
       "      <th>sentiments</th>\n",
       "    </tr>\n",
       "  </thead>\n",
       "  <tbody>\n",
       "    <tr>\n",
       "      <th>neutral</th>\n",
       "      <td>8</td>\n",
       "    </tr>\n",
       "    <tr>\n",
       "      <th>positive</th>\n",
       "      <td>3</td>\n",
       "    </tr>\n",
       "    <tr>\n",
       "      <th>negative</th>\n",
       "      <td>2</td>\n",
       "    </tr>\n",
       "  </tbody>\n",
       "</table>\n",
       "</div>"
      ],
      "text/plain": [
       "          sentiments\n",
       "neutral            8\n",
       "positive           3\n",
       "negative           2"
      ]
     },
     "execution_count": 94,
     "metadata": {},
     "output_type": "execute_result"
    }
   ],
   "source": [
    "sbucks_reward_sentiments = pd.DataFrame(sbucks_reward_senti['sentiments'].value_counts())\n",
    "sbucks_reward_sentiments"
   ]
  },
  {
   "cell_type": "markdown",
   "id": "7ef0073e-ae63-4a4e-a12c-1d8cbbf14c4f",
   "metadata": {},
   "source": [
    "### Sbucks Service"
   ]
  },
  {
   "cell_type": "code",
   "execution_count": 95,
   "id": "d4083956-e0df-43cf-850e-23c4e531bc0c",
   "metadata": {
    "tags": []
   },
   "outputs": [],
   "source": [
    "sbucks_service_senti = sentiments(sbucks_service)"
   ]
  },
  {
   "cell_type": "code",
   "execution_count": 96,
   "id": "50c9a3ce-fd59-4263-b9f7-64422190be88",
   "metadata": {},
   "outputs": [
    {
     "data": {
      "text/html": [
       "<div>\n",
       "<style scoped>\n",
       "    .dataframe tbody tr th:only-of-type {\n",
       "        vertical-align: middle;\n",
       "    }\n",
       "\n",
       "    .dataframe tbody tr th {\n",
       "        vertical-align: top;\n",
       "    }\n",
       "\n",
       "    .dataframe thead th {\n",
       "        text-align: right;\n",
       "    }\n",
       "</style>\n",
       "<table border=\"1\" class=\"dataframe\">\n",
       "  <thead>\n",
       "    <tr style=\"text-align: right;\">\n",
       "      <th></th>\n",
       "      <th>subreddit</th>\n",
       "      <th>title</th>\n",
       "      <th>created_utc</th>\n",
       "      <th>tokenized</th>\n",
       "      <th>sentiment</th>\n",
       "      <th>sentiments</th>\n",
       "    </tr>\n",
       "  </thead>\n",
       "  <tbody>\n",
       "    <tr>\n",
       "      <th>2499</th>\n",
       "      <td>0</td>\n",
       "      <td>we had horses come through the drive thru rece...</td>\n",
       "      <td>1663212017</td>\n",
       "      <td>[we, had, horses, come, through, the, drive, t...</td>\n",
       "      <td>[{'label': 'LABEL_1', 'score': 0.8244970440864...</td>\n",
       "      <td>neutral</td>\n",
       "    </tr>\n",
       "    <tr>\n",
       "      <th>2500</th>\n",
       "      <td>0</td>\n",
       "      <td>having horses in the drive thru makes everythi...</td>\n",
       "      <td>1663211903</td>\n",
       "      <td>[having, horses, in, the, drive, thru, makes, ...</td>\n",
       "      <td>[{'label': 'LABEL_2', 'score': 0.9039303064346...</td>\n",
       "      <td>positive</td>\n",
       "    </tr>\n",
       "    <tr>\n",
       "      <th>2524</th>\n",
       "      <td>0</td>\n",
       "      <td>does the apple drizzle or brown sugar go good ...</td>\n",
       "      <td>1663198156</td>\n",
       "      <td>[does, the, apple, drizzle, or, brown, sugar, ...</td>\n",
       "      <td>[{'label': 'LABEL_2', 'score': 0.7906030416488...</td>\n",
       "      <td>positive</td>\n",
       "    </tr>\n",
       "  </tbody>\n",
       "</table>\n",
       "</div>"
      ],
      "text/plain": [
       "      subreddit                                              title  \\\n",
       "2499          0  we had horses come through the drive thru rece...   \n",
       "2500          0  having horses in the drive thru makes everythi...   \n",
       "2524          0  does the apple drizzle or brown sugar go good ...   \n",
       "\n",
       "      created_utc                                          tokenized  \\\n",
       "2499   1663212017  [we, had, horses, come, through, the, drive, t...   \n",
       "2500   1663211903  [having, horses, in, the, drive, thru, makes, ...   \n",
       "2524   1663198156  [does, the, apple, drizzle, or, brown, sugar, ...   \n",
       "\n",
       "                                              sentiment sentiments  \n",
       "2499  [{'label': 'LABEL_1', 'score': 0.8244970440864...    neutral  \n",
       "2500  [{'label': 'LABEL_2', 'score': 0.9039303064346...   positive  \n",
       "2524  [{'label': 'LABEL_2', 'score': 0.7906030416488...   positive  "
      ]
     },
     "execution_count": 96,
     "metadata": {},
     "output_type": "execute_result"
    }
   ],
   "source": [
    "sbucks_service_senti.head(3)"
   ]
  },
  {
   "cell_type": "code",
   "execution_count": 97,
   "id": "6092a3a8-14db-4162-84a6-e261aa8a1275",
   "metadata": {},
   "outputs": [
    {
     "data": {
      "text/plain": [
       "neutral     141\n",
       "negative     41\n",
       "positive     37\n",
       "Name: sentiments, dtype: int64"
      ]
     },
     "execution_count": 97,
     "metadata": {},
     "output_type": "execute_result"
    }
   ],
   "source": [
    "sbucks_service_senti['sentiments'].value_counts()"
   ]
  },
  {
   "cell_type": "code",
   "execution_count": 98,
   "id": "d58c368d-d150-475b-9194-a4b1b90c4c4c",
   "metadata": {
    "tags": []
   },
   "outputs": [
    {
     "data": {
      "text/html": [
       "<div>\n",
       "<style scoped>\n",
       "    .dataframe tbody tr th:only-of-type {\n",
       "        vertical-align: middle;\n",
       "    }\n",
       "\n",
       "    .dataframe tbody tr th {\n",
       "        vertical-align: top;\n",
       "    }\n",
       "\n",
       "    .dataframe thead th {\n",
       "        text-align: right;\n",
       "    }\n",
       "</style>\n",
       "<table border=\"1\" class=\"dataframe\">\n",
       "  <thead>\n",
       "    <tr style=\"text-align: right;\">\n",
       "      <th></th>\n",
       "      <th>sentiments</th>\n",
       "    </tr>\n",
       "  </thead>\n",
       "  <tbody>\n",
       "    <tr>\n",
       "      <th>neutral</th>\n",
       "      <td>141</td>\n",
       "    </tr>\n",
       "    <tr>\n",
       "      <th>negative</th>\n",
       "      <td>41</td>\n",
       "    </tr>\n",
       "    <tr>\n",
       "      <th>positive</th>\n",
       "      <td>37</td>\n",
       "    </tr>\n",
       "  </tbody>\n",
       "</table>\n",
       "</div>"
      ],
      "text/plain": [
       "          sentiments\n",
       "neutral          141\n",
       "negative          41\n",
       "positive          37"
      ]
     },
     "execution_count": 98,
     "metadata": {},
     "output_type": "execute_result"
    }
   ],
   "source": [
    "sbucks_service_sentiments = pd.DataFrame(sbucks_service_senti['sentiments'].value_counts())\n",
    "sbucks_service_sentiments"
   ]
  },
  {
   "cell_type": "markdown",
   "id": "bdbaa39c-4f57-4371-ad2e-de209c01a59e",
   "metadata": {},
   "source": [
    "### Sbucks Barista"
   ]
  },
  {
   "cell_type": "code",
   "execution_count": 99,
   "id": "1f6c0df6-832a-4260-a73f-af0e36dd4856",
   "metadata": {
    "tags": []
   },
   "outputs": [],
   "source": [
    "sbucks_barista_senti = sentiments(sbucks_barista)"
   ]
  },
  {
   "cell_type": "code",
   "execution_count": 100,
   "id": "61638a50-1e19-4f76-854d-296aa55edad4",
   "metadata": {},
   "outputs": [
    {
     "data": {
      "text/html": [
       "<div>\n",
       "<style scoped>\n",
       "    .dataframe tbody tr th:only-of-type {\n",
       "        vertical-align: middle;\n",
       "    }\n",
       "\n",
       "    .dataframe tbody tr th {\n",
       "        vertical-align: top;\n",
       "    }\n",
       "\n",
       "    .dataframe thead th {\n",
       "        text-align: right;\n",
       "    }\n",
       "</style>\n",
       "<table border=\"1\" class=\"dataframe\">\n",
       "  <thead>\n",
       "    <tr style=\"text-align: right;\">\n",
       "      <th></th>\n",
       "      <th>subreddit</th>\n",
       "      <th>title</th>\n",
       "      <th>created_utc</th>\n",
       "      <th>tokenized</th>\n",
       "      <th>sentiment</th>\n",
       "      <th>sentiments</th>\n",
       "    </tr>\n",
       "  </thead>\n",
       "  <tbody>\n",
       "    <tr>\n",
       "      <th>2511</th>\n",
       "      <td>0</td>\n",
       "      <td>baristas what made you smile at work today</td>\n",
       "      <td>1663206743</td>\n",
       "      <td>[baristas, what, made, you, smile, at, work, t...</td>\n",
       "      <td>[{'label': 'LABEL_2', 'score': 0.8832364678382...</td>\n",
       "      <td>positive</td>\n",
       "    </tr>\n",
       "    <tr>\n",
       "      <th>2520</th>\n",
       "      <td>0</td>\n",
       "      <td>question for baristas</td>\n",
       "      <td>1663200077</td>\n",
       "      <td>[question, for, baristas]</td>\n",
       "      <td>[{'label': 'LABEL_1', 'score': 0.7694525718688...</td>\n",
       "      <td>neutral</td>\n",
       "    </tr>\n",
       "    <tr>\n",
       "      <th>2550</th>\n",
       "      <td>0</td>\n",
       "      <td>it s not the baristas fault</td>\n",
       "      <td>1663182394</td>\n",
       "      <td>[it, s, not, the, baristas, fault]</td>\n",
       "      <td>[{'label': 'LABEL_1', 'score': 0.5979842543601...</td>\n",
       "      <td>neutral</td>\n",
       "    </tr>\n",
       "  </tbody>\n",
       "</table>\n",
       "</div>"
      ],
      "text/plain": [
       "      subreddit                                       title  created_utc  \\\n",
       "2511          0  baristas what made you smile at work today   1663206743   \n",
       "2520          0                       question for baristas   1663200077   \n",
       "2550          0                 it s not the baristas fault   1663182394   \n",
       "\n",
       "                                              tokenized  \\\n",
       "2511  [baristas, what, made, you, smile, at, work, t...   \n",
       "2520                          [question, for, baristas]   \n",
       "2550                 [it, s, not, the, baristas, fault]   \n",
       "\n",
       "                                              sentiment sentiments  \n",
       "2511  [{'label': 'LABEL_2', 'score': 0.8832364678382...   positive  \n",
       "2520  [{'label': 'LABEL_1', 'score': 0.7694525718688...    neutral  \n",
       "2550  [{'label': 'LABEL_1', 'score': 0.5979842543601...    neutral  "
      ]
     },
     "execution_count": 100,
     "metadata": {},
     "output_type": "execute_result"
    }
   ],
   "source": [
    "sbucks_barista_senti.head(3)"
   ]
  },
  {
   "cell_type": "code",
   "execution_count": 101,
   "id": "00999690-c907-4fda-a8bd-baf433487540",
   "metadata": {},
   "outputs": [
    {
     "data": {
      "text/plain": [
       "neutral     83\n",
       "negative    20\n",
       "positive    16\n",
       "Name: sentiments, dtype: int64"
      ]
     },
     "execution_count": 101,
     "metadata": {},
     "output_type": "execute_result"
    }
   ],
   "source": [
    "sbucks_barista_senti['sentiments'].value_counts()"
   ]
  },
  {
   "cell_type": "code",
   "execution_count": 102,
   "id": "05d09967-647d-468f-81f1-655ff1d5125c",
   "metadata": {
    "tags": []
   },
   "outputs": [
    {
     "data": {
      "text/html": [
       "<div>\n",
       "<style scoped>\n",
       "    .dataframe tbody tr th:only-of-type {\n",
       "        vertical-align: middle;\n",
       "    }\n",
       "\n",
       "    .dataframe tbody tr th {\n",
       "        vertical-align: top;\n",
       "    }\n",
       "\n",
       "    .dataframe thead th {\n",
       "        text-align: right;\n",
       "    }\n",
       "</style>\n",
       "<table border=\"1\" class=\"dataframe\">\n",
       "  <thead>\n",
       "    <tr style=\"text-align: right;\">\n",
       "      <th></th>\n",
       "      <th>sentiments</th>\n",
       "    </tr>\n",
       "  </thead>\n",
       "  <tbody>\n",
       "    <tr>\n",
       "      <th>neutral</th>\n",
       "      <td>83</td>\n",
       "    </tr>\n",
       "    <tr>\n",
       "      <th>negative</th>\n",
       "      <td>20</td>\n",
       "    </tr>\n",
       "    <tr>\n",
       "      <th>positive</th>\n",
       "      <td>16</td>\n",
       "    </tr>\n",
       "  </tbody>\n",
       "</table>\n",
       "</div>"
      ],
      "text/plain": [
       "          sentiments\n",
       "neutral           83\n",
       "negative          20\n",
       "positive          16"
      ]
     },
     "execution_count": 102,
     "metadata": {},
     "output_type": "execute_result"
    }
   ],
   "source": [
    "sbucks_barista_sentiments = pd.DataFrame(sbucks_barista_senti['sentiments'].value_counts())\n",
    "sbucks_barista_sentiments"
   ]
  },
  {
   "cell_type": "markdown",
   "id": "7001912d-f118-4730-936d-057050992b09",
   "metadata": {},
   "source": [
    "### Summary"
   ]
  },
  {
   "cell_type": "code",
   "execution_count": 103,
   "id": "f23f4692-3164-4ab4-bad9-37b0f552775d",
   "metadata": {},
   "outputs": [],
   "source": [
    "sbucks_cols = [\"Overall\", \"Dress_Code\", \"Pumpkin_Spice\", \"Cold_Brew\", \"Iced_Coffee\", \"Apple_Crisp\", \"Fall_launch\", \"Sbucks_Reward\", \"Sbucks_Service\", \"Sbucks_Barista\"]\n",
    "sbucks_sentiments = pd.concat([sbucks_sentiments, sbucks_dress_sentiments, sbucks_p_spice_sentiments, sbucks_c_brew_sentiments, sbucks_i_coffee_sentiments, sbucks_a_crisp_sentiments, sbucks_f_launch_sentiments, sbucks_reward_sentiments, sbucks_service_sentiments, sbucks_barista_sentiments], axis=1, ignore_index=True)\n",
    "sbucks_sentiments.columns = sbucks_cols"
   ]
  },
  {
   "cell_type": "code",
   "execution_count": 104,
   "id": "c73cd9dc-9073-4016-a9c4-4fba6ce615a5",
   "metadata": {},
   "outputs": [
    {
     "data": {
      "text/html": [
       "<div>\n",
       "<style scoped>\n",
       "    .dataframe tbody tr th:only-of-type {\n",
       "        vertical-align: middle;\n",
       "    }\n",
       "\n",
       "    .dataframe tbody tr th {\n",
       "        vertical-align: top;\n",
       "    }\n",
       "\n",
       "    .dataframe thead th {\n",
       "        text-align: right;\n",
       "    }\n",
       "</style>\n",
       "<table border=\"1\" class=\"dataframe\">\n",
       "  <thead>\n",
       "    <tr style=\"text-align: right;\">\n",
       "      <th></th>\n",
       "      <th>Overall</th>\n",
       "      <th>Dress_Code</th>\n",
       "      <th>Pumpkin_Spice</th>\n",
       "      <th>Cold_Brew</th>\n",
       "      <th>Iced_Coffee</th>\n",
       "      <th>Apple_Crisp</th>\n",
       "      <th>Fall_launch</th>\n",
       "      <th>Sbucks_Reward</th>\n",
       "      <th>Sbucks_Service</th>\n",
       "      <th>Sbucks_Barista</th>\n",
       "    </tr>\n",
       "  </thead>\n",
       "  <tbody>\n",
       "    <tr>\n",
       "      <th>neutral</th>\n",
       "      <td>1435</td>\n",
       "      <td>31</td>\n",
       "      <td>35</td>\n",
       "      <td>39</td>\n",
       "      <td>12.0</td>\n",
       "      <td>12</td>\n",
       "      <td>14</td>\n",
       "      <td>8</td>\n",
       "      <td>141</td>\n",
       "      <td>83</td>\n",
       "    </tr>\n",
       "    <tr>\n",
       "      <th>negative</th>\n",
       "      <td>378</td>\n",
       "      <td>4</td>\n",
       "      <td>3</td>\n",
       "      <td>4</td>\n",
       "      <td>NaN</td>\n",
       "      <td>2</td>\n",
       "      <td>1</td>\n",
       "      <td>2</td>\n",
       "      <td>41</td>\n",
       "      <td>20</td>\n",
       "    </tr>\n",
       "    <tr>\n",
       "      <th>positive</th>\n",
       "      <td>187</td>\n",
       "      <td>1</td>\n",
       "      <td>5</td>\n",
       "      <td>3</td>\n",
       "      <td>2.0</td>\n",
       "      <td>1</td>\n",
       "      <td>3</td>\n",
       "      <td>3</td>\n",
       "      <td>37</td>\n",
       "      <td>16</td>\n",
       "    </tr>\n",
       "  </tbody>\n",
       "</table>\n",
       "</div>"
      ],
      "text/plain": [
       "          Overall  Dress_Code  Pumpkin_Spice  Cold_Brew  Iced_Coffee  \\\n",
       "neutral      1435          31             35         39         12.0   \n",
       "negative      378           4              3          4          NaN   \n",
       "positive      187           1              5          3          2.0   \n",
       "\n",
       "          Apple_Crisp  Fall_launch  Sbucks_Reward  Sbucks_Service  \\\n",
       "neutral            12           14              8             141   \n",
       "negative            2            1              2              41   \n",
       "positive            1            3              3              37   \n",
       "\n",
       "          Sbucks_Barista  \n",
       "neutral               83  \n",
       "negative              20  \n",
       "positive              16  "
      ]
     },
     "execution_count": 104,
     "metadata": {},
     "output_type": "execute_result"
    }
   ],
   "source": [
    "sbucks_sentiments"
   ]
  },
  {
   "cell_type": "code",
   "execution_count": 105,
   "id": "c88a431b-b655-4268-8528-6ba903433d42",
   "metadata": {},
   "outputs": [],
   "source": [
    "sbucks_sentiments = sbucks_sentiments.fillna(0)"
   ]
  },
  {
   "cell_type": "code",
   "execution_count": 106,
   "id": "491f7150-eb45-425d-9168-8267dfd1e02d",
   "metadata": {},
   "outputs": [
    {
     "data": {
      "text/html": [
       "<div>\n",
       "<style scoped>\n",
       "    .dataframe tbody tr th:only-of-type {\n",
       "        vertical-align: middle;\n",
       "    }\n",
       "\n",
       "    .dataframe tbody tr th {\n",
       "        vertical-align: top;\n",
       "    }\n",
       "\n",
       "    .dataframe thead th {\n",
       "        text-align: right;\n",
       "    }\n",
       "</style>\n",
       "<table border=\"1\" class=\"dataframe\">\n",
       "  <thead>\n",
       "    <tr style=\"text-align: right;\">\n",
       "      <th></th>\n",
       "      <th>Overall</th>\n",
       "      <th>Dress_Code</th>\n",
       "      <th>Pumpkin_Spice</th>\n",
       "      <th>Cold_Brew</th>\n",
       "      <th>Iced_Coffee</th>\n",
       "      <th>Apple_Crisp</th>\n",
       "      <th>Fall_launch</th>\n",
       "      <th>Sbucks_Reward</th>\n",
       "      <th>Sbucks_Service</th>\n",
       "      <th>Sbucks_Barista</th>\n",
       "    </tr>\n",
       "  </thead>\n",
       "  <tbody>\n",
       "    <tr>\n",
       "      <th>neutral</th>\n",
       "      <td>0.72</td>\n",
       "      <td>0.86</td>\n",
       "      <td>0.81</td>\n",
       "      <td>0.85</td>\n",
       "      <td>0.86</td>\n",
       "      <td>0.80</td>\n",
       "      <td>0.78</td>\n",
       "      <td>0.62</td>\n",
       "      <td>0.64</td>\n",
       "      <td>0.70</td>\n",
       "    </tr>\n",
       "    <tr>\n",
       "      <th>negative</th>\n",
       "      <td>0.19</td>\n",
       "      <td>0.11</td>\n",
       "      <td>0.07</td>\n",
       "      <td>0.09</td>\n",
       "      <td>0.00</td>\n",
       "      <td>0.13</td>\n",
       "      <td>0.06</td>\n",
       "      <td>0.15</td>\n",
       "      <td>0.19</td>\n",
       "      <td>0.17</td>\n",
       "    </tr>\n",
       "    <tr>\n",
       "      <th>positive</th>\n",
       "      <td>0.09</td>\n",
       "      <td>0.03</td>\n",
       "      <td>0.12</td>\n",
       "      <td>0.07</td>\n",
       "      <td>0.14</td>\n",
       "      <td>0.07</td>\n",
       "      <td>0.17</td>\n",
       "      <td>0.23</td>\n",
       "      <td>0.17</td>\n",
       "      <td>0.13</td>\n",
       "    </tr>\n",
       "  </tbody>\n",
       "</table>\n",
       "</div>"
      ],
      "text/plain": [
       "          Overall  Dress_Code  Pumpkin_Spice  Cold_Brew  Iced_Coffee  \\\n",
       "neutral      0.72        0.86           0.81       0.85         0.86   \n",
       "negative     0.19        0.11           0.07       0.09         0.00   \n",
       "positive     0.09        0.03           0.12       0.07         0.14   \n",
       "\n",
       "          Apple_Crisp  Fall_launch  Sbucks_Reward  Sbucks_Service  \\\n",
       "neutral          0.80         0.78           0.62            0.64   \n",
       "negative         0.13         0.06           0.15            0.19   \n",
       "positive         0.07         0.17           0.23            0.17   \n",
       "\n",
       "          Sbucks_Barista  \n",
       "neutral             0.70  \n",
       "negative            0.17  \n",
       "positive            0.13  "
      ]
     },
     "execution_count": 106,
     "metadata": {},
     "output_type": "execute_result"
    }
   ],
   "source": [
    "sbucks_sentiments_pct = round(sbucks_sentiments/sbucks_sentiments.sum(), 2)\n",
    "sbucks_sentiments_pct"
   ]
  },
  {
   "cell_type": "markdown",
   "id": "f9573e53-7484-4e9d-946e-80e3333949ce",
   "metadata": {},
   "source": [
    "Points to note:\n",
    "- Most posts are neutral, most likely are questions and discussions over the topics, same as Dunkin's.\n",
    "- Rewards also has highest percentage of positive posts, same as Dunkin's.\n",
    "- Dress code and apple crisp have more negative posts than positive ones (possibly bad reviews).\n",
    "- Services from Starbucks has slightly more negative posts, which including mobile order, app, and staffs.\n",
    "- Pumpkin spice, iced coffee and fall launch are the topics with more positive posts, people are looking forward to this programs/ products. Iced coffee has surprisingly no negative post at all.\n",
    "- Surprisingly Barista is mentioned in a lot more posts here than Dunkin', this has more negative posts."
   ]
  },
  {
   "cell_type": "markdown",
   "id": "f8e22195-cb47-4f6e-95e8-b109793a503c",
   "metadata": {},
   "source": [
    "## Emotion Analysis"
   ]
  },
  {
   "cell_type": "markdown",
   "id": "6bbff39b-48a7-4a8d-903a-6d58ba383fb5",
   "metadata": {},
   "source": [
    "Model used: bert-base-uncased-emotion with model accuracy of 94.05. [source](https://huggingface.co/bhadresh-savani/bert-base-uncased-emotion)\n",
    "\n",
    "Bert is a Transformer Bidirectional Encoder based Architecture trained on MLM(Mask Language Modeling) objective. **bert-base-uncased** finetuned on the emotion dataset using Huggingface Trainer "
   ]
  },
  {
   "cell_type": "code",
   "execution_count": 107,
   "id": "c10ae518-6b6e-4b11-a18d-5c3e21bc9a71",
   "metadata": {},
   "outputs": [],
   "source": [
    "emo_model_name = \"bhadresh-savani/bert-base-uncased-emotion\"\n",
    "emo_model = AutoModelForSequenceClassification.from_pretrained(emo_model_name)\n",
    "emo_tokenizer = AutoTokenizer.from_pretrained(emo_model_name)"
   ]
  },
  {
   "cell_type": "code",
   "execution_count": 108,
   "id": "46a85ac9",
   "metadata": {
    "tags": []
   },
   "outputs": [],
   "source": [
    "emotion_classifier = pipeline(\"text-classification\",model=emo_model, tokenizer = emo_tokenizer, top_k=1)"
   ]
  },
  {
   "cell_type": "code",
   "execution_count": 109,
   "id": "b515df6c",
   "metadata": {},
   "outputs": [],
   "source": [
    "def get_highest_label(list_of_dict):\n",
    "    main_label = 0\n",
    "    label_score = 0\n",
    "    for label in list_of_dict:\n",
    "        emotion_score = label['score']\n",
    "        if emotion_score > label_score:\n",
    "            main_label = label['label']\n",
    "            label_score = emotion_score\n",
    "    return (main_label, label_score)"
   ]
  },
  {
   "cell_type": "code",
   "execution_count": 110,
   "id": "86176947",
   "metadata": {},
   "outputs": [],
   "source": [
    "def emotion(dataset):\n",
    "    # next line return a list of dictionary inside a list\n",
    "    dataset['emotion'] = dataset['title'].apply(emotion_classifier)\n",
    "    # get list of dictionary\n",
    "    dataset['emotion'] = dataset['emotion'].apply(lambda x: x[0])\n",
    "    # get emotion label with highest score\n",
    "    dataset['emotion'] = dataset['emotion'].apply(get_highest_label)\n",
    "    dataset['emotion_label'] = dataset['emotion'].apply(lambda x: x[0])\n",
    "    return dataset"
   ]
  },
  {
   "cell_type": "markdown",
   "id": "0a333916-442c-4f9c-8b38-5fe608f8c50a",
   "metadata": {},
   "source": [
    "## Dunkin Emotion"
   ]
  },
  {
   "cell_type": "markdown",
   "id": "83ba64d5-5dd0-4a45-9c23-63a63f795455",
   "metadata": {},
   "source": [
    "### Overall "
   ]
  },
  {
   "cell_type": "code",
   "execution_count": 111,
   "id": "d4cdecf7-3629-45a4-8d5e-0bdc5b431d6e",
   "metadata": {},
   "outputs": [],
   "source": [
    "dunkin_sample_emotion = emotion(ddonuts_text_df.sample(2000))"
   ]
  },
  {
   "cell_type": "code",
   "execution_count": 112,
   "id": "0a9f3438-04cd-4b3b-9aaf-5dde544b2193",
   "metadata": {},
   "outputs": [
    {
     "data": {
      "text/html": [
       "<div>\n",
       "<style scoped>\n",
       "    .dataframe tbody tr th:only-of-type {\n",
       "        vertical-align: middle;\n",
       "    }\n",
       "\n",
       "    .dataframe tbody tr th {\n",
       "        vertical-align: top;\n",
       "    }\n",
       "\n",
       "    .dataframe thead th {\n",
       "        text-align: right;\n",
       "    }\n",
       "</style>\n",
       "<table border=\"1\" class=\"dataframe\">\n",
       "  <thead>\n",
       "    <tr style=\"text-align: right;\">\n",
       "      <th></th>\n",
       "      <th>subreddit</th>\n",
       "      <th>title</th>\n",
       "      <th>created_utc</th>\n",
       "      <th>tokenized</th>\n",
       "      <th>emotion</th>\n",
       "      <th>emotion_label</th>\n",
       "    </tr>\n",
       "  </thead>\n",
       "  <tbody>\n",
       "    <tr>\n",
       "      <th>1681</th>\n",
       "      <td>1</td>\n",
       "      <td>best drink for butter pecan</td>\n",
       "      <td>1651159287</td>\n",
       "      <td>[best, drink, for, butter, pecan]</td>\n",
       "      <td>(joy, 0.9671961069107056)</td>\n",
       "      <td>joy</td>\n",
       "    </tr>\n",
       "    <tr>\n",
       "      <th>1179</th>\n",
       "      <td>1</td>\n",
       "      <td>cake batter latte w skim milk</td>\n",
       "      <td>1654885461</td>\n",
       "      <td>[cake, batter, latte, w, skim, milk]</td>\n",
       "      <td>(anger, 0.7534303069114685)</td>\n",
       "      <td>anger</td>\n",
       "    </tr>\n",
       "    <tr>\n",
       "      <th>1649</th>\n",
       "      <td>1</td>\n",
       "      <td>accidentally got tanner s drink with my delive...</td>\n",
       "      <td>1651328262</td>\n",
       "      <td>[accidentally, got, tanner, s, drink, with, my...</td>\n",
       "      <td>(joy, 0.9831067323684692)</td>\n",
       "      <td>joy</td>\n",
       "    </tr>\n",
       "  </tbody>\n",
       "</table>\n",
       "</div>"
      ],
      "text/plain": [
       "      subreddit                                              title  \\\n",
       "1681          1                        best drink for butter pecan   \n",
       "1179          1                      cake batter latte w skim milk   \n",
       "1649          1  accidentally got tanner s drink with my delive...   \n",
       "\n",
       "      created_utc                                          tokenized  \\\n",
       "1681   1651159287                  [best, drink, for, butter, pecan]   \n",
       "1179   1654885461               [cake, batter, latte, w, skim, milk]   \n",
       "1649   1651328262  [accidentally, got, tanner, s, drink, with, my...   \n",
       "\n",
       "                          emotion emotion_label  \n",
       "1681    (joy, 0.9671961069107056)           joy  \n",
       "1179  (anger, 0.7534303069114685)         anger  \n",
       "1649    (joy, 0.9831067323684692)           joy  "
      ]
     },
     "execution_count": 112,
     "metadata": {},
     "output_type": "execute_result"
    }
   ],
   "source": [
    "dunkin_sample_emotion.head(3)"
   ]
  },
  {
   "cell_type": "code",
   "execution_count": 113,
   "id": "cd0f2f7a-6749-4fd0-9b94-54572259f52c",
   "metadata": {},
   "outputs": [
    {
     "data": {
      "text/plain": [
       "joy         866\n",
       "anger       808\n",
       "fear        127\n",
       "sadness     100\n",
       "love         77\n",
       "surprise     22\n",
       "Name: emotion_label, dtype: int64"
      ]
     },
     "execution_count": 113,
     "metadata": {},
     "output_type": "execute_result"
    }
   ],
   "source": [
    "dunkin_sample_emotion['emotion_label'].value_counts()"
   ]
  },
  {
   "cell_type": "code",
   "execution_count": 114,
   "id": "4a8479be-8e39-4bac-a703-7c8ac0aabf6f",
   "metadata": {},
   "outputs": [
    {
     "data": {
      "text/html": [
       "<div>\n",
       "<style scoped>\n",
       "    .dataframe tbody tr th:only-of-type {\n",
       "        vertical-align: middle;\n",
       "    }\n",
       "\n",
       "    .dataframe tbody tr th {\n",
       "        vertical-align: top;\n",
       "    }\n",
       "\n",
       "    .dataframe thead th {\n",
       "        text-align: right;\n",
       "    }\n",
       "</style>\n",
       "<table border=\"1\" class=\"dataframe\">\n",
       "  <thead>\n",
       "    <tr style=\"text-align: right;\">\n",
       "      <th></th>\n",
       "      <th>emotion_label</th>\n",
       "    </tr>\n",
       "  </thead>\n",
       "  <tbody>\n",
       "    <tr>\n",
       "      <th>joy</th>\n",
       "      <td>866</td>\n",
       "    </tr>\n",
       "    <tr>\n",
       "      <th>anger</th>\n",
       "      <td>808</td>\n",
       "    </tr>\n",
       "    <tr>\n",
       "      <th>fear</th>\n",
       "      <td>127</td>\n",
       "    </tr>\n",
       "    <tr>\n",
       "      <th>sadness</th>\n",
       "      <td>100</td>\n",
       "    </tr>\n",
       "    <tr>\n",
       "      <th>love</th>\n",
       "      <td>77</td>\n",
       "    </tr>\n",
       "    <tr>\n",
       "      <th>surprise</th>\n",
       "      <td>22</td>\n",
       "    </tr>\n",
       "  </tbody>\n",
       "</table>\n",
       "</div>"
      ],
      "text/plain": [
       "          emotion_label\n",
       "joy                 866\n",
       "anger               808\n",
       "fear                127\n",
       "sadness             100\n",
       "love                 77\n",
       "surprise             22"
      ]
     },
     "execution_count": 114,
     "metadata": {},
     "output_type": "execute_result"
    }
   ],
   "source": [
    "dunkin_emotions_df = pd.DataFrame(dunkin_sample_emotion['emotion_label'].value_counts())\n",
    "dunkin_emotions_df"
   ]
  },
  {
   "cell_type": "markdown",
   "id": "9c92364c-0657-45c9-addb-6247526db6d3",
   "metadata": {
    "tags": []
   },
   "source": [
    "### Dunkin Donuts"
   ]
  },
  {
   "cell_type": "code",
   "execution_count": 115,
   "id": "41727840-5d10-42f1-b4ca-5b5207b13676",
   "metadata": {
    "tags": []
   },
   "outputs": [],
   "source": [
    "ddonuts_emotion = emotion(dunkin_donuts)"
   ]
  },
  {
   "cell_type": "code",
   "execution_count": 116,
   "id": "f3848644-c330-4ef7-9073-d6e56bbc6caa",
   "metadata": {},
   "outputs": [
    {
     "data": {
      "text/html": [
       "<div>\n",
       "<style scoped>\n",
       "    .dataframe tbody tr th:only-of-type {\n",
       "        vertical-align: middle;\n",
       "    }\n",
       "\n",
       "    .dataframe tbody tr th {\n",
       "        vertical-align: top;\n",
       "    }\n",
       "\n",
       "    .dataframe thead th {\n",
       "        text-align: right;\n",
       "    }\n",
       "</style>\n",
       "<table border=\"1\" class=\"dataframe\">\n",
       "  <thead>\n",
       "    <tr style=\"text-align: right;\">\n",
       "      <th></th>\n",
       "      <th>subreddit</th>\n",
       "      <th>title</th>\n",
       "      <th>created_utc</th>\n",
       "      <th>tokenized</th>\n",
       "      <th>sentiment</th>\n",
       "      <th>sentiments</th>\n",
       "      <th>emotion</th>\n",
       "      <th>emotion_label</th>\n",
       "    </tr>\n",
       "  </thead>\n",
       "  <tbody>\n",
       "    <tr>\n",
       "      <th>18</th>\n",
       "      <td>1</td>\n",
       "      <td>2 dunkin donuts card first one to save pic and...</td>\n",
       "      <td>1663030303</td>\n",
       "      <td>[2, dunkin, donuts, card, first, one, to, save...</td>\n",
       "      <td>[{'label': 'LABEL_1', 'score': 0.7781171798706...</td>\n",
       "      <td>neutral</td>\n",
       "      <td>(anger, 0.6639710068702698)</td>\n",
       "      <td>anger</td>\n",
       "    </tr>\n",
       "    <tr>\n",
       "      <th>33</th>\n",
       "      <td>1</td>\n",
       "      <td>dunkin donuts interview</td>\n",
       "      <td>1662960022</td>\n",
       "      <td>[dunkin, donuts, interview]</td>\n",
       "      <td>[{'label': 'LABEL_1', 'score': 0.8438280820846...</td>\n",
       "      <td>neutral</td>\n",
       "      <td>(anger, 0.621631383895874)</td>\n",
       "      <td>anger</td>\n",
       "    </tr>\n",
       "    <tr>\n",
       "      <th>35</th>\n",
       "      <td>1</td>\n",
       "      <td>dunkin donuts t mobile tuesday 2 codes</td>\n",
       "      <td>1662954206</td>\n",
       "      <td>[dunkin, donuts, t, mobile, tuesday, 2, codes]</td>\n",
       "      <td>[{'label': 'LABEL_1', 'score': 0.8879836797714...</td>\n",
       "      <td>neutral</td>\n",
       "      <td>(anger, 0.600570797920227)</td>\n",
       "      <td>anger</td>\n",
       "    </tr>\n",
       "  </tbody>\n",
       "</table>\n",
       "</div>"
      ],
      "text/plain": [
       "    subreddit                                              title  created_utc  \\\n",
       "18          1  2 dunkin donuts card first one to save pic and...   1663030303   \n",
       "33          1                            dunkin donuts interview   1662960022   \n",
       "35          1             dunkin donuts t mobile tuesday 2 codes   1662954206   \n",
       "\n",
       "                                            tokenized  \\\n",
       "18  [2, dunkin, donuts, card, first, one, to, save...   \n",
       "33                        [dunkin, donuts, interview]   \n",
       "35     [dunkin, donuts, t, mobile, tuesday, 2, codes]   \n",
       "\n",
       "                                            sentiment sentiments  \\\n",
       "18  [{'label': 'LABEL_1', 'score': 0.7781171798706...    neutral   \n",
       "33  [{'label': 'LABEL_1', 'score': 0.8438280820846...    neutral   \n",
       "35  [{'label': 'LABEL_1', 'score': 0.8879836797714...    neutral   \n",
       "\n",
       "                        emotion emotion_label  \n",
       "18  (anger, 0.6639710068702698)         anger  \n",
       "33   (anger, 0.621631383895874)         anger  \n",
       "35   (anger, 0.600570797920227)         anger  "
      ]
     },
     "execution_count": 116,
     "metadata": {},
     "output_type": "execute_result"
    }
   ],
   "source": [
    "ddonuts_emotion.head(3)"
   ]
  },
  {
   "cell_type": "code",
   "execution_count": 117,
   "id": "d90d976d-e84b-42a6-8279-3a97a21d9762",
   "metadata": {},
   "outputs": [
    {
     "data": {
      "text/plain": [
       "anger      31\n",
       "joy        22\n",
       "sadness     3\n",
       "love        2\n",
       "fear        2\n",
       "Name: emotion_label, dtype: int64"
      ]
     },
     "execution_count": 117,
     "metadata": {},
     "output_type": "execute_result"
    }
   ],
   "source": [
    "ddonuts_emotion['emotion_label'].value_counts()"
   ]
  },
  {
   "cell_type": "code",
   "execution_count": 118,
   "id": "391faa03-7a8f-476c-987a-afdd94e7588a",
   "metadata": {
    "tags": []
   },
   "outputs": [
    {
     "data": {
      "text/html": [
       "<div>\n",
       "<style scoped>\n",
       "    .dataframe tbody tr th:only-of-type {\n",
       "        vertical-align: middle;\n",
       "    }\n",
       "\n",
       "    .dataframe tbody tr th {\n",
       "        vertical-align: top;\n",
       "    }\n",
       "\n",
       "    .dataframe thead th {\n",
       "        text-align: right;\n",
       "    }\n",
       "</style>\n",
       "<table border=\"1\" class=\"dataframe\">\n",
       "  <thead>\n",
       "    <tr style=\"text-align: right;\">\n",
       "      <th></th>\n",
       "      <th>emotion_label</th>\n",
       "    </tr>\n",
       "  </thead>\n",
       "  <tbody>\n",
       "    <tr>\n",
       "      <th>anger</th>\n",
       "      <td>31</td>\n",
       "    </tr>\n",
       "    <tr>\n",
       "      <th>joy</th>\n",
       "      <td>22</td>\n",
       "    </tr>\n",
       "    <tr>\n",
       "      <th>sadness</th>\n",
       "      <td>3</td>\n",
       "    </tr>\n",
       "    <tr>\n",
       "      <th>love</th>\n",
       "      <td>2</td>\n",
       "    </tr>\n",
       "    <tr>\n",
       "      <th>fear</th>\n",
       "      <td>2</td>\n",
       "    </tr>\n",
       "  </tbody>\n",
       "</table>\n",
       "</div>"
      ],
      "text/plain": [
       "         emotion_label\n",
       "anger               31\n",
       "joy                 22\n",
       "sadness              3\n",
       "love                 2\n",
       "fear                 2"
      ]
     },
     "execution_count": 118,
     "metadata": {},
     "output_type": "execute_result"
    }
   ],
   "source": [
    "ddonuts_emotions_df = pd.DataFrame(ddonuts_emotion['emotion_label'].value_counts())\n",
    "ddonuts_emotions_df"
   ]
  },
  {
   "cell_type": "markdown",
   "id": "d0b8f467-5f87-4c5c-9a12-177dc7abcd90",
   "metadata": {
    "tags": []
   },
   "source": [
    "### Dunkin Cold Brew"
   ]
  },
  {
   "cell_type": "code",
   "execution_count": 119,
   "id": "df94c1ea-5dff-458f-a9b2-9713d110f2ca",
   "metadata": {
    "tags": []
   },
   "outputs": [],
   "source": [
    "dunkin_c_brew_emotion = emotion(dunkin_c_brew)"
   ]
  },
  {
   "cell_type": "code",
   "execution_count": 120,
   "id": "4287072f-8fbc-4f11-876f-4694f69dd948",
   "metadata": {},
   "outputs": [
    {
     "data": {
      "text/html": [
       "<div>\n",
       "<style scoped>\n",
       "    .dataframe tbody tr th:only-of-type {\n",
       "        vertical-align: middle;\n",
       "    }\n",
       "\n",
       "    .dataframe tbody tr th {\n",
       "        vertical-align: top;\n",
       "    }\n",
       "\n",
       "    .dataframe thead th {\n",
       "        text-align: right;\n",
       "    }\n",
       "</style>\n",
       "<table border=\"1\" class=\"dataframe\">\n",
       "  <thead>\n",
       "    <tr style=\"text-align: right;\">\n",
       "      <th></th>\n",
       "      <th>subreddit</th>\n",
       "      <th>title</th>\n",
       "      <th>created_utc</th>\n",
       "      <th>tokenized</th>\n",
       "      <th>sentiment</th>\n",
       "      <th>sentiments</th>\n",
       "      <th>emotion</th>\n",
       "      <th>emotion_label</th>\n",
       "    </tr>\n",
       "  </thead>\n",
       "  <tbody>\n",
       "    <tr>\n",
       "      <th>41</th>\n",
       "      <td>1</td>\n",
       "      <td>this pumpkin cream cold brew is amazing weary_...</td>\n",
       "      <td>1662915853</td>\n",
       "      <td>[this, pumpkin, cream, cold, brew, is, amazing...</td>\n",
       "      <td>[{'label': 'LABEL_2', 'score': 0.9880346655845...</td>\n",
       "      <td>positive</td>\n",
       "      <td>(joy, 0.9796549677848816)</td>\n",
       "      <td>joy</td>\n",
       "    </tr>\n",
       "    <tr>\n",
       "      <th>52</th>\n",
       "      <td>1</td>\n",
       "      <td>anyone know what s the next coffee promo after...</td>\n",
       "      <td>1662825134</td>\n",
       "      <td>[anyone, know, what, s, the, next, coffee, pro...</td>\n",
       "      <td>[{'label': 'LABEL_1', 'score': 0.9409533739089...</td>\n",
       "      <td>neutral</td>\n",
       "      <td>(anger, 0.9651405811309814)</td>\n",
       "      <td>anger</td>\n",
       "    </tr>\n",
       "    <tr>\n",
       "      <th>59</th>\n",
       "      <td>1</td>\n",
       "      <td>is it weird that my small town dunkin for week...</td>\n",
       "      <td>1662739875</td>\n",
       "      <td>[is, it, weird, that, my, small, town, dunkin,...</td>\n",
       "      <td>[{'label': 'LABEL_0', 'score': 0.5979610681533...</td>\n",
       "      <td>negative</td>\n",
       "      <td>(fear, 0.695863664150238)</td>\n",
       "      <td>fear</td>\n",
       "    </tr>\n",
       "  </tbody>\n",
       "</table>\n",
       "</div>"
      ],
      "text/plain": [
       "    subreddit                                              title  created_utc  \\\n",
       "41          1  this pumpkin cream cold brew is amazing weary_...   1662915853   \n",
       "52          1  anyone know what s the next coffee promo after...   1662825134   \n",
       "59          1  is it weird that my small town dunkin for week...   1662739875   \n",
       "\n",
       "                                            tokenized  \\\n",
       "41  [this, pumpkin, cream, cold, brew, is, amazing...   \n",
       "52  [anyone, know, what, s, the, next, coffee, pro...   \n",
       "59  [is, it, weird, that, my, small, town, dunkin,...   \n",
       "\n",
       "                                            sentiment sentiments  \\\n",
       "41  [{'label': 'LABEL_2', 'score': 0.9880346655845...   positive   \n",
       "52  [{'label': 'LABEL_1', 'score': 0.9409533739089...    neutral   \n",
       "59  [{'label': 'LABEL_0', 'score': 0.5979610681533...   negative   \n",
       "\n",
       "                        emotion emotion_label  \n",
       "41    (joy, 0.9796549677848816)           joy  \n",
       "52  (anger, 0.9651405811309814)         anger  \n",
       "59    (fear, 0.695863664150238)          fear  "
      ]
     },
     "execution_count": 120,
     "metadata": {},
     "output_type": "execute_result"
    }
   ],
   "source": [
    "dunkin_c_brew_emotion.head(3)"
   ]
  },
  {
   "cell_type": "code",
   "execution_count": 121,
   "id": "4a396f55-e899-402d-b0cc-497685aaf193",
   "metadata": {},
   "outputs": [
    {
     "data": {
      "text/plain": [
       "anger       53\n",
       "joy         27\n",
       "love         7\n",
       "fear         2\n",
       "surprise     1\n",
       "Name: emotion_label, dtype: int64"
      ]
     },
     "execution_count": 121,
     "metadata": {},
     "output_type": "execute_result"
    }
   ],
   "source": [
    "dunkin_c_brew_emotion['emotion_label'].value_counts()"
   ]
  },
  {
   "cell_type": "code",
   "execution_count": 122,
   "id": "a976fde1-76c6-437f-854c-9134dd0cb5ed",
   "metadata": {
    "tags": []
   },
   "outputs": [
    {
     "data": {
      "text/html": [
       "<div>\n",
       "<style scoped>\n",
       "    .dataframe tbody tr th:only-of-type {\n",
       "        vertical-align: middle;\n",
       "    }\n",
       "\n",
       "    .dataframe tbody tr th {\n",
       "        vertical-align: top;\n",
       "    }\n",
       "\n",
       "    .dataframe thead th {\n",
       "        text-align: right;\n",
       "    }\n",
       "</style>\n",
       "<table border=\"1\" class=\"dataframe\">\n",
       "  <thead>\n",
       "    <tr style=\"text-align: right;\">\n",
       "      <th></th>\n",
       "      <th>emotion_label</th>\n",
       "    </tr>\n",
       "  </thead>\n",
       "  <tbody>\n",
       "    <tr>\n",
       "      <th>anger</th>\n",
       "      <td>53</td>\n",
       "    </tr>\n",
       "    <tr>\n",
       "      <th>joy</th>\n",
       "      <td>27</td>\n",
       "    </tr>\n",
       "    <tr>\n",
       "      <th>love</th>\n",
       "      <td>7</td>\n",
       "    </tr>\n",
       "    <tr>\n",
       "      <th>fear</th>\n",
       "      <td>2</td>\n",
       "    </tr>\n",
       "    <tr>\n",
       "      <th>surprise</th>\n",
       "      <td>1</td>\n",
       "    </tr>\n",
       "  </tbody>\n",
       "</table>\n",
       "</div>"
      ],
      "text/plain": [
       "          emotion_label\n",
       "anger                53\n",
       "joy                  27\n",
       "love                  7\n",
       "fear                  2\n",
       "surprise              1"
      ]
     },
     "execution_count": 122,
     "metadata": {},
     "output_type": "execute_result"
    }
   ],
   "source": [
    "dunkin_c_brew_emotions_df = pd.DataFrame(dunkin_c_brew_emotion['emotion_label'].value_counts())\n",
    "dunkin_c_brew_emotions_df"
   ]
  },
  {
   "cell_type": "markdown",
   "id": "d21fcf25-b03f-4730-9bb6-62b0a99c41e6",
   "metadata": {
    "tags": []
   },
   "source": [
    "### Dunkin Iced Coffee"
   ]
  },
  {
   "cell_type": "code",
   "execution_count": 123,
   "id": "39e692cf-9a0c-49d4-a80f-8b882423d548",
   "metadata": {
    "tags": []
   },
   "outputs": [],
   "source": [
    "dunkin_i_coffee_emotion = emotion(dunkin_i_coffee)"
   ]
  },
  {
   "cell_type": "code",
   "execution_count": 124,
   "id": "be7a6df3-6049-4784-93ad-5ac84380254f",
   "metadata": {},
   "outputs": [
    {
     "data": {
      "text/html": [
       "<div>\n",
       "<style scoped>\n",
       "    .dataframe tbody tr th:only-of-type {\n",
       "        vertical-align: middle;\n",
       "    }\n",
       "\n",
       "    .dataframe tbody tr th {\n",
       "        vertical-align: top;\n",
       "    }\n",
       "\n",
       "    .dataframe thead th {\n",
       "        text-align: right;\n",
       "    }\n",
       "</style>\n",
       "<table border=\"1\" class=\"dataframe\">\n",
       "  <thead>\n",
       "    <tr style=\"text-align: right;\">\n",
       "      <th></th>\n",
       "      <th>subreddit</th>\n",
       "      <th>title</th>\n",
       "      <th>created_utc</th>\n",
       "      <th>tokenized</th>\n",
       "      <th>sentiment</th>\n",
       "      <th>sentiments</th>\n",
       "      <th>emotion</th>\n",
       "      <th>emotion_label</th>\n",
       "    </tr>\n",
       "  </thead>\n",
       "  <tbody>\n",
       "    <tr>\n",
       "      <th>68</th>\n",
       "      <td>1</td>\n",
       "      <td>blueberry crumble iced coffee</td>\n",
       "      <td>1662659909</td>\n",
       "      <td>[blueberry, crumble, iced, coffee]</td>\n",
       "      <td>[{'label': 'LABEL_1', 'score': 0.6429013013839...</td>\n",
       "      <td>neutral</td>\n",
       "      <td>(joy, 0.8872411847114563)</td>\n",
       "      <td>joy</td>\n",
       "    </tr>\n",
       "    <tr>\n",
       "      <th>69</th>\n",
       "      <td>1</td>\n",
       "      <td>is the nutty pumpkin iced coffee any good</td>\n",
       "      <td>1662652584</td>\n",
       "      <td>[is, the, nutty, pumpkin, iced, coffee, any, g...</td>\n",
       "      <td>[{'label': 'LABEL_1', 'score': 0.7533432245254...</td>\n",
       "      <td>neutral</td>\n",
       "      <td>(joy, 0.9964699745178223)</td>\n",
       "      <td>joy</td>\n",
       "    </tr>\n",
       "    <tr>\n",
       "      <th>138</th>\n",
       "      <td>1</td>\n",
       "      <td>how is the new nutty pumpkin iced coffee</td>\n",
       "      <td>1662119514</td>\n",
       "      <td>[how, is, the, new, nutty, pumpkin, iced, coffee]</td>\n",
       "      <td>[{'label': 'LABEL_1', 'score': 0.8217983841896...</td>\n",
       "      <td>neutral</td>\n",
       "      <td>(joy, 0.9910649657249451)</td>\n",
       "      <td>joy</td>\n",
       "    </tr>\n",
       "  </tbody>\n",
       "</table>\n",
       "</div>"
      ],
      "text/plain": [
       "     subreddit                                      title  created_utc  \\\n",
       "68           1              blueberry crumble iced coffee   1662659909   \n",
       "69           1  is the nutty pumpkin iced coffee any good   1662652584   \n",
       "138          1   how is the new nutty pumpkin iced coffee   1662119514   \n",
       "\n",
       "                                             tokenized  \\\n",
       "68                  [blueberry, crumble, iced, coffee]   \n",
       "69   [is, the, nutty, pumpkin, iced, coffee, any, g...   \n",
       "138  [how, is, the, new, nutty, pumpkin, iced, coffee]   \n",
       "\n",
       "                                             sentiment sentiments  \\\n",
       "68   [{'label': 'LABEL_1', 'score': 0.6429013013839...    neutral   \n",
       "69   [{'label': 'LABEL_1', 'score': 0.7533432245254...    neutral   \n",
       "138  [{'label': 'LABEL_1', 'score': 0.8217983841896...    neutral   \n",
       "\n",
       "                       emotion emotion_label  \n",
       "68   (joy, 0.8872411847114563)           joy  \n",
       "69   (joy, 0.9964699745178223)           joy  \n",
       "138  (joy, 0.9910649657249451)           joy  "
      ]
     },
     "execution_count": 124,
     "metadata": {},
     "output_type": "execute_result"
    }
   ],
   "source": [
    "dunkin_i_coffee_emotion.head(3)"
   ]
  },
  {
   "cell_type": "code",
   "execution_count": 125,
   "id": "f39e7800-b605-40e2-8225-78047b7bd349",
   "metadata": {},
   "outputs": [
    {
     "data": {
      "text/plain": [
       "joy        59\n",
       "anger      10\n",
       "love        8\n",
       "sadness     2\n",
       "fear        2\n",
       "Name: emotion_label, dtype: int64"
      ]
     },
     "execution_count": 125,
     "metadata": {},
     "output_type": "execute_result"
    }
   ],
   "source": [
    "dunkin_i_coffee_emotion['emotion_label'].value_counts()"
   ]
  },
  {
   "cell_type": "code",
   "execution_count": 126,
   "id": "65f4f218-5d24-4cd0-a0c2-87df44b98988",
   "metadata": {
    "tags": []
   },
   "outputs": [
    {
     "data": {
      "text/html": [
       "<div>\n",
       "<style scoped>\n",
       "    .dataframe tbody tr th:only-of-type {\n",
       "        vertical-align: middle;\n",
       "    }\n",
       "\n",
       "    .dataframe tbody tr th {\n",
       "        vertical-align: top;\n",
       "    }\n",
       "\n",
       "    .dataframe thead th {\n",
       "        text-align: right;\n",
       "    }\n",
       "</style>\n",
       "<table border=\"1\" class=\"dataframe\">\n",
       "  <thead>\n",
       "    <tr style=\"text-align: right;\">\n",
       "      <th></th>\n",
       "      <th>emotion_label</th>\n",
       "    </tr>\n",
       "  </thead>\n",
       "  <tbody>\n",
       "    <tr>\n",
       "      <th>joy</th>\n",
       "      <td>59</td>\n",
       "    </tr>\n",
       "    <tr>\n",
       "      <th>anger</th>\n",
       "      <td>10</td>\n",
       "    </tr>\n",
       "    <tr>\n",
       "      <th>love</th>\n",
       "      <td>8</td>\n",
       "    </tr>\n",
       "    <tr>\n",
       "      <th>sadness</th>\n",
       "      <td>2</td>\n",
       "    </tr>\n",
       "    <tr>\n",
       "      <th>fear</th>\n",
       "      <td>2</td>\n",
       "    </tr>\n",
       "  </tbody>\n",
       "</table>\n",
       "</div>"
      ],
      "text/plain": [
       "         emotion_label\n",
       "joy                 59\n",
       "anger               10\n",
       "love                 8\n",
       "sadness              2\n",
       "fear                 2"
      ]
     },
     "execution_count": 126,
     "metadata": {},
     "output_type": "execute_result"
    }
   ],
   "source": [
    "dunkin_i_coffee_emotions_df = pd.DataFrame(dunkin_i_coffee_emotion['emotion_label'].value_counts())\n",
    "dunkin_i_coffee_emotions_df"
   ]
  },
  {
   "cell_type": "markdown",
   "id": "cbf63544-5332-47d5-b2ca-724b6bf67670",
   "metadata": {
    "tags": []
   },
   "source": [
    "### Dunkin Butter Pecan"
   ]
  },
  {
   "cell_type": "code",
   "execution_count": 127,
   "id": "8c1f60ab-7fc4-451e-adfc-0bab4b70a339",
   "metadata": {
    "tags": []
   },
   "outputs": [],
   "source": [
    "dunkin_b_pecan_emotion = emotion (dunkin_b_pecan)"
   ]
  },
  {
   "cell_type": "code",
   "execution_count": 128,
   "id": "8dd57656-d6ab-489a-afc7-bc79ff261acd",
   "metadata": {},
   "outputs": [
    {
     "data": {
      "text/html": [
       "<div>\n",
       "<style scoped>\n",
       "    .dataframe tbody tr th:only-of-type {\n",
       "        vertical-align: middle;\n",
       "    }\n",
       "\n",
       "    .dataframe tbody tr th {\n",
       "        vertical-align: top;\n",
       "    }\n",
       "\n",
       "    .dataframe thead th {\n",
       "        text-align: right;\n",
       "    }\n",
       "</style>\n",
       "<table border=\"1\" class=\"dataframe\">\n",
       "  <thead>\n",
       "    <tr style=\"text-align: right;\">\n",
       "      <th></th>\n",
       "      <th>subreddit</th>\n",
       "      <th>title</th>\n",
       "      <th>created_utc</th>\n",
       "      <th>tokenized</th>\n",
       "      <th>sentiment</th>\n",
       "      <th>sentiments</th>\n",
       "      <th>emotion</th>\n",
       "      <th>emotion_label</th>\n",
       "    </tr>\n",
       "  </thead>\n",
       "  <tbody>\n",
       "    <tr>\n",
       "      <th>322</th>\n",
       "      <td>1</td>\n",
       "      <td>just thought i might make my last dunkin run o...</td>\n",
       "      <td>1660929445</td>\n",
       "      <td>[just, thought, i, might, make, my, last, dunk...</td>\n",
       "      <td>[{'label': 'LABEL_1', 'score': 0.5366223454475...</td>\n",
       "      <td>neutral</td>\n",
       "      <td>(joy, 0.8494844436645508)</td>\n",
       "      <td>joy</td>\n",
       "    </tr>\n",
       "    <tr>\n",
       "      <th>360</th>\n",
       "      <td>1</td>\n",
       "      <td>please sell me your butter pecan</td>\n",
       "      <td>1660766067</td>\n",
       "      <td>[please, sell, me, your, butter, pecan]</td>\n",
       "      <td>[{'label': 'LABEL_1', 'score': 0.7656268477439...</td>\n",
       "      <td>neutral</td>\n",
       "      <td>(joy, 0.9711063504219055)</td>\n",
       "      <td>joy</td>\n",
       "    </tr>\n",
       "    <tr>\n",
       "      <th>442</th>\n",
       "      <td>1</td>\n",
       "      <td>my favorite drink is med cold brew 1 butter pe...</td>\n",
       "      <td>1660384707</td>\n",
       "      <td>[my, favorite, drink, is, med, cold, brew, 1, ...</td>\n",
       "      <td>[{'label': 'LABEL_2', 'score': 0.9485169649124...</td>\n",
       "      <td>positive</td>\n",
       "      <td>(love, 0.8249167203903198)</td>\n",
       "      <td>love</td>\n",
       "    </tr>\n",
       "  </tbody>\n",
       "</table>\n",
       "</div>"
      ],
      "text/plain": [
       "     subreddit                                              title  \\\n",
       "322          1  just thought i might make my last dunkin run o...   \n",
       "360          1                   please sell me your butter pecan   \n",
       "442          1  my favorite drink is med cold brew 1 butter pe...   \n",
       "\n",
       "     created_utc                                          tokenized  \\\n",
       "322   1660929445  [just, thought, i, might, make, my, last, dunk...   \n",
       "360   1660766067            [please, sell, me, your, butter, pecan]   \n",
       "442   1660384707  [my, favorite, drink, is, med, cold, brew, 1, ...   \n",
       "\n",
       "                                             sentiment sentiments  \\\n",
       "322  [{'label': 'LABEL_1', 'score': 0.5366223454475...    neutral   \n",
       "360  [{'label': 'LABEL_1', 'score': 0.7656268477439...    neutral   \n",
       "442  [{'label': 'LABEL_2', 'score': 0.9485169649124...   positive   \n",
       "\n",
       "                        emotion emotion_label  \n",
       "322   (joy, 0.8494844436645508)           joy  \n",
       "360   (joy, 0.9711063504219055)           joy  \n",
       "442  (love, 0.8249167203903198)          love  "
      ]
     },
     "execution_count": 128,
     "metadata": {},
     "output_type": "execute_result"
    }
   ],
   "source": [
    "dunkin_b_pecan_emotion.head(3)"
   ]
  },
  {
   "cell_type": "code",
   "execution_count": 129,
   "id": "0faed192-8330-4ff6-8a62-fad87403f4fa",
   "metadata": {},
   "outputs": [
    {
     "data": {
      "text/plain": [
       "joy        22\n",
       "fear        5\n",
       "anger       5\n",
       "sadness     3\n",
       "love        1\n",
       "Name: emotion_label, dtype: int64"
      ]
     },
     "execution_count": 129,
     "metadata": {},
     "output_type": "execute_result"
    }
   ],
   "source": [
    "dunkin_b_pecan_emotion['emotion_label'].value_counts()"
   ]
  },
  {
   "cell_type": "code",
   "execution_count": 130,
   "id": "78987fa0-6d24-44bf-a3a5-0c6e88457dc2",
   "metadata": {
    "tags": []
   },
   "outputs": [
    {
     "data": {
      "text/html": [
       "<div>\n",
       "<style scoped>\n",
       "    .dataframe tbody tr th:only-of-type {\n",
       "        vertical-align: middle;\n",
       "    }\n",
       "\n",
       "    .dataframe tbody tr th {\n",
       "        vertical-align: top;\n",
       "    }\n",
       "\n",
       "    .dataframe thead th {\n",
       "        text-align: right;\n",
       "    }\n",
       "</style>\n",
       "<table border=\"1\" class=\"dataframe\">\n",
       "  <thead>\n",
       "    <tr style=\"text-align: right;\">\n",
       "      <th></th>\n",
       "      <th>emotion_label</th>\n",
       "    </tr>\n",
       "  </thead>\n",
       "  <tbody>\n",
       "    <tr>\n",
       "      <th>joy</th>\n",
       "      <td>22</td>\n",
       "    </tr>\n",
       "    <tr>\n",
       "      <th>fear</th>\n",
       "      <td>5</td>\n",
       "    </tr>\n",
       "    <tr>\n",
       "      <th>anger</th>\n",
       "      <td>5</td>\n",
       "    </tr>\n",
       "    <tr>\n",
       "      <th>sadness</th>\n",
       "      <td>3</td>\n",
       "    </tr>\n",
       "    <tr>\n",
       "      <th>love</th>\n",
       "      <td>1</td>\n",
       "    </tr>\n",
       "  </tbody>\n",
       "</table>\n",
       "</div>"
      ],
      "text/plain": [
       "         emotion_label\n",
       "joy                 22\n",
       "fear                 5\n",
       "anger                5\n",
       "sadness              3\n",
       "love                 1"
      ]
     },
     "execution_count": 130,
     "metadata": {},
     "output_type": "execute_result"
    }
   ],
   "source": [
    "dunkin_b_pecan_emotions_df = pd.DataFrame(dunkin_b_pecan_emotion['emotion_label'].value_counts())\n",
    "dunkin_b_pecan_emotions_df"
   ]
  },
  {
   "cell_type": "markdown",
   "id": "508525c5-6b6a-42ef-b0f0-13ebab0a0184",
   "metadata": {
    "tags": []
   },
   "source": [
    "### Dunkin Local"
   ]
  },
  {
   "cell_type": "code",
   "execution_count": 131,
   "id": "e974deb4-950f-46ff-9987-aa4b12acccbb",
   "metadata": {
    "tags": []
   },
   "outputs": [],
   "source": [
    "dunkin_local_emotion = emotion(dunkin_local)"
   ]
  },
  {
   "cell_type": "code",
   "execution_count": 132,
   "id": "3a35e335-8d4e-4495-9d9b-f2ba9d69f582",
   "metadata": {},
   "outputs": [
    {
     "data": {
      "text/html": [
       "<div>\n",
       "<style scoped>\n",
       "    .dataframe tbody tr th:only-of-type {\n",
       "        vertical-align: middle;\n",
       "    }\n",
       "\n",
       "    .dataframe tbody tr th {\n",
       "        vertical-align: top;\n",
       "    }\n",
       "\n",
       "    .dataframe thead th {\n",
       "        text-align: right;\n",
       "    }\n",
       "</style>\n",
       "<table border=\"1\" class=\"dataframe\">\n",
       "  <thead>\n",
       "    <tr style=\"text-align: right;\">\n",
       "      <th></th>\n",
       "      <th>subreddit</th>\n",
       "      <th>title</th>\n",
       "      <th>created_utc</th>\n",
       "      <th>tokenized</th>\n",
       "      <th>sentiment</th>\n",
       "      <th>sentiments</th>\n",
       "      <th>emotion</th>\n",
       "      <th>emotion_label</th>\n",
       "    </tr>\n",
       "  </thead>\n",
       "  <tbody>\n",
       "    <tr>\n",
       "      <th>34</th>\n",
       "      <td>1</td>\n",
       "      <td>can someone explain to me why my local dunkin ...</td>\n",
       "      <td>1662958423</td>\n",
       "      <td>[can, someone, explain, to, me, why, my, local...</td>\n",
       "      <td>[{'label': 'LABEL_0', 'score': 0.9047766923904...</td>\n",
       "      <td>negative</td>\n",
       "      <td>(anger, 0.8481127619743347)</td>\n",
       "      <td>anger</td>\n",
       "    </tr>\n",
       "    <tr>\n",
       "      <th>268</th>\n",
       "      <td>1</td>\n",
       "      <td>local dunkin scrapes metal pan on ground at dr...</td>\n",
       "      <td>1661276540</td>\n",
       "      <td>[local, dunkin, scrapes, metal, pan, on, groun...</td>\n",
       "      <td>[{'label': 'LABEL_1', 'score': 0.7235899567604...</td>\n",
       "      <td>neutral</td>\n",
       "      <td>(anger, 0.9662812352180481)</td>\n",
       "      <td>anger</td>\n",
       "    </tr>\n",
       "    <tr>\n",
       "      <th>278</th>\n",
       "      <td>1</td>\n",
       "      <td>i ve been going to dunk ever since the establi...</td>\n",
       "      <td>1661183920</td>\n",
       "      <td>[i, ve, been, going, to, dunk, ever, since, th...</td>\n",
       "      <td>[{'label': 'LABEL_1', 'score': 0.5064250230789...</td>\n",
       "      <td>neutral</td>\n",
       "      <td>(joy, 0.9978219270706177)</td>\n",
       "      <td>joy</td>\n",
       "    </tr>\n",
       "  </tbody>\n",
       "</table>\n",
       "</div>"
      ],
      "text/plain": [
       "     subreddit                                              title  \\\n",
       "34           1  can someone explain to me why my local dunkin ...   \n",
       "268          1  local dunkin scrapes metal pan on ground at dr...   \n",
       "278          1  i ve been going to dunk ever since the establi...   \n",
       "\n",
       "     created_utc                                          tokenized  \\\n",
       "34    1662958423  [can, someone, explain, to, me, why, my, local...   \n",
       "268   1661276540  [local, dunkin, scrapes, metal, pan, on, groun...   \n",
       "278   1661183920  [i, ve, been, going, to, dunk, ever, since, th...   \n",
       "\n",
       "                                             sentiment sentiments  \\\n",
       "34   [{'label': 'LABEL_0', 'score': 0.9047766923904...   negative   \n",
       "268  [{'label': 'LABEL_1', 'score': 0.7235899567604...    neutral   \n",
       "278  [{'label': 'LABEL_1', 'score': 0.5064250230789...    neutral   \n",
       "\n",
       "                         emotion emotion_label  \n",
       "34   (anger, 0.8481127619743347)         anger  \n",
       "268  (anger, 0.9662812352180481)         anger  \n",
       "278    (joy, 0.9978219270706177)           joy  "
      ]
     },
     "execution_count": 132,
     "metadata": {},
     "output_type": "execute_result"
    }
   ],
   "source": [
    "dunkin_local_emotion.head(3)"
   ]
  },
  {
   "cell_type": "code",
   "execution_count": 133,
   "id": "94b60bb0-57fe-4ca1-b490-90ea47501707",
   "metadata": {},
   "outputs": [
    {
     "data": {
      "text/plain": [
       "anger       15\n",
       "joy          4\n",
       "fear         2\n",
       "surprise     1\n",
       "sadness      1\n",
       "Name: emotion_label, dtype: int64"
      ]
     },
     "execution_count": 133,
     "metadata": {},
     "output_type": "execute_result"
    }
   ],
   "source": [
    "dunkin_local_emotion['emotion_label'].value_counts()"
   ]
  },
  {
   "cell_type": "code",
   "execution_count": 134,
   "id": "545a4806-d23e-448f-a2b8-c2955b011706",
   "metadata": {
    "tags": []
   },
   "outputs": [
    {
     "data": {
      "text/html": [
       "<div>\n",
       "<style scoped>\n",
       "    .dataframe tbody tr th:only-of-type {\n",
       "        vertical-align: middle;\n",
       "    }\n",
       "\n",
       "    .dataframe tbody tr th {\n",
       "        vertical-align: top;\n",
       "    }\n",
       "\n",
       "    .dataframe thead th {\n",
       "        text-align: right;\n",
       "    }\n",
       "</style>\n",
       "<table border=\"1\" class=\"dataframe\">\n",
       "  <thead>\n",
       "    <tr style=\"text-align: right;\">\n",
       "      <th></th>\n",
       "      <th>emotion_label</th>\n",
       "    </tr>\n",
       "  </thead>\n",
       "  <tbody>\n",
       "    <tr>\n",
       "      <th>anger</th>\n",
       "      <td>15</td>\n",
       "    </tr>\n",
       "    <tr>\n",
       "      <th>joy</th>\n",
       "      <td>4</td>\n",
       "    </tr>\n",
       "    <tr>\n",
       "      <th>fear</th>\n",
       "      <td>2</td>\n",
       "    </tr>\n",
       "    <tr>\n",
       "      <th>surprise</th>\n",
       "      <td>1</td>\n",
       "    </tr>\n",
       "    <tr>\n",
       "      <th>sadness</th>\n",
       "      <td>1</td>\n",
       "    </tr>\n",
       "  </tbody>\n",
       "</table>\n",
       "</div>"
      ],
      "text/plain": [
       "          emotion_label\n",
       "anger                15\n",
       "joy                   4\n",
       "fear                  2\n",
       "surprise              1\n",
       "sadness               1"
      ]
     },
     "execution_count": 134,
     "metadata": {},
     "output_type": "execute_result"
    }
   ],
   "source": [
    "dunkin_local_emotions_df = pd.DataFrame(dunkin_local_emotion['emotion_label'].value_counts())\n",
    "dunkin_local_emotions_df"
   ]
  },
  {
   "cell_type": "markdown",
   "id": "87c0ceff-75b9-4ce0-975e-f34c853a4ae3",
   "metadata": {
    "tags": []
   },
   "source": [
    "### Dunkin Reward"
   ]
  },
  {
   "cell_type": "code",
   "execution_count": 135,
   "id": "dcfdddd9-bd00-4be0-b9e5-0adf8f0633a9",
   "metadata": {
    "tags": []
   },
   "outputs": [],
   "source": [
    "dunkin_reward_emotion = emotion(dunkin_reward)"
   ]
  },
  {
   "cell_type": "code",
   "execution_count": 136,
   "id": "6d68605f-9afd-455d-8a52-a9faa615c2dd",
   "metadata": {},
   "outputs": [
    {
     "data": {
      "text/html": [
       "<div>\n",
       "<style scoped>\n",
       "    .dataframe tbody tr th:only-of-type {\n",
       "        vertical-align: middle;\n",
       "    }\n",
       "\n",
       "    .dataframe tbody tr th {\n",
       "        vertical-align: top;\n",
       "    }\n",
       "\n",
       "    .dataframe thead th {\n",
       "        text-align: right;\n",
       "    }\n",
       "</style>\n",
       "<table border=\"1\" class=\"dataframe\">\n",
       "  <thead>\n",
       "    <tr style=\"text-align: right;\">\n",
       "      <th></th>\n",
       "      <th>subreddit</th>\n",
       "      <th>title</th>\n",
       "      <th>created_utc</th>\n",
       "      <th>tokenized</th>\n",
       "      <th>sentiment</th>\n",
       "      <th>sentiments</th>\n",
       "      <th>emotion</th>\n",
       "      <th>emotion_label</th>\n",
       "    </tr>\n",
       "  </thead>\n",
       "  <tbody>\n",
       "    <tr>\n",
       "      <th>11</th>\n",
       "      <td>1</td>\n",
       "      <td>dunkin rewards update</td>\n",
       "      <td>1663153599</td>\n",
       "      <td>[dunkin, rewards, update]</td>\n",
       "      <td>[{'label': 'LABEL_1', 'score': 0.8598471879959...</td>\n",
       "      <td>neutral</td>\n",
       "      <td>(joy, 0.990608811378479)</td>\n",
       "      <td>joy</td>\n",
       "    </tr>\n",
       "    <tr>\n",
       "      <th>55</th>\n",
       "      <td>1</td>\n",
       "      <td>birthday reward sucks</td>\n",
       "      <td>1662808190</td>\n",
       "      <td>[birthday, reward, sucks]</td>\n",
       "      <td>[{'label': 'LABEL_0', 'score': 0.9674400687217...</td>\n",
       "      <td>negative</td>\n",
       "      <td>(joy, 0.9916679859161377)</td>\n",
       "      <td>joy</td>\n",
       "    </tr>\n",
       "    <tr>\n",
       "      <th>100</th>\n",
       "      <td>1</td>\n",
       "      <td>free drink expires today 9 4</td>\n",
       "      <td>1662334297</td>\n",
       "      <td>[free, drink, expires, today, 9, 4]</td>\n",
       "      <td>[{'label': 'LABEL_1', 'score': 0.7958027720451...</td>\n",
       "      <td>neutral</td>\n",
       "      <td>(joy, 0.9877217411994934)</td>\n",
       "      <td>joy</td>\n",
       "    </tr>\n",
       "  </tbody>\n",
       "</table>\n",
       "</div>"
      ],
      "text/plain": [
       "     subreddit                         title  created_utc  \\\n",
       "11           1         dunkin rewards update   1663153599   \n",
       "55           1         birthday reward sucks   1662808190   \n",
       "100          1  free drink expires today 9 4   1662334297   \n",
       "\n",
       "                               tokenized  \\\n",
       "11             [dunkin, rewards, update]   \n",
       "55             [birthday, reward, sucks]   \n",
       "100  [free, drink, expires, today, 9, 4]   \n",
       "\n",
       "                                             sentiment sentiments  \\\n",
       "11   [{'label': 'LABEL_1', 'score': 0.8598471879959...    neutral   \n",
       "55   [{'label': 'LABEL_0', 'score': 0.9674400687217...   negative   \n",
       "100  [{'label': 'LABEL_1', 'score': 0.7958027720451...    neutral   \n",
       "\n",
       "                       emotion emotion_label  \n",
       "11    (joy, 0.990608811378479)           joy  \n",
       "55   (joy, 0.9916679859161377)           joy  \n",
       "100  (joy, 0.9877217411994934)           joy  "
      ]
     },
     "execution_count": 136,
     "metadata": {},
     "output_type": "execute_result"
    }
   ],
   "source": [
    "dunkin_reward_emotion.head(3)"
   ]
  },
  {
   "cell_type": "code",
   "execution_count": 137,
   "id": "16d462c3-232e-4083-85b0-31549e2cb182",
   "metadata": {},
   "outputs": [
    {
     "data": {
      "text/plain": [
       "joy        51\n",
       "anger       5\n",
       "sadness     2\n",
       "Name: emotion_label, dtype: int64"
      ]
     },
     "execution_count": 137,
     "metadata": {},
     "output_type": "execute_result"
    }
   ],
   "source": [
    "dunkin_reward_emotion['emotion_label'].value_counts()"
   ]
  },
  {
   "cell_type": "code",
   "execution_count": 138,
   "id": "69df0717-e673-447a-9f44-337235228c17",
   "metadata": {
    "tags": []
   },
   "outputs": [
    {
     "data": {
      "text/html": [
       "<div>\n",
       "<style scoped>\n",
       "    .dataframe tbody tr th:only-of-type {\n",
       "        vertical-align: middle;\n",
       "    }\n",
       "\n",
       "    .dataframe tbody tr th {\n",
       "        vertical-align: top;\n",
       "    }\n",
       "\n",
       "    .dataframe thead th {\n",
       "        text-align: right;\n",
       "    }\n",
       "</style>\n",
       "<table border=\"1\" class=\"dataframe\">\n",
       "  <thead>\n",
       "    <tr style=\"text-align: right;\">\n",
       "      <th></th>\n",
       "      <th>emotion_label</th>\n",
       "    </tr>\n",
       "  </thead>\n",
       "  <tbody>\n",
       "    <tr>\n",
       "      <th>joy</th>\n",
       "      <td>51</td>\n",
       "    </tr>\n",
       "    <tr>\n",
       "      <th>anger</th>\n",
       "      <td>5</td>\n",
       "    </tr>\n",
       "    <tr>\n",
       "      <th>sadness</th>\n",
       "      <td>2</td>\n",
       "    </tr>\n",
       "  </tbody>\n",
       "</table>\n",
       "</div>"
      ],
      "text/plain": [
       "         emotion_label\n",
       "joy                 51\n",
       "anger                5\n",
       "sadness              2"
      ]
     },
     "execution_count": 138,
     "metadata": {},
     "output_type": "execute_result"
    }
   ],
   "source": [
    "dunkin_reward_emotions_df = pd.DataFrame(dunkin_reward_emotion['emotion_label'].value_counts())\n",
    "dunkin_reward_emotions_df"
   ]
  },
  {
   "cell_type": "markdown",
   "id": "35b6059b-e45d-438b-8092-253c874194cb",
   "metadata": {
    "tags": []
   },
   "source": [
    "### Dunkin Service"
   ]
  },
  {
   "cell_type": "code",
   "execution_count": 139,
   "id": "a0af6ecb-3e5a-43a0-b4af-b8db26358f1a",
   "metadata": {
    "tags": []
   },
   "outputs": [],
   "source": [
    "dunkin_service_emotion = emotion(dunkin_service)"
   ]
  },
  {
   "cell_type": "code",
   "execution_count": 140,
   "id": "86c3c0c6-026c-40e3-993f-853561b6e1aa",
   "metadata": {},
   "outputs": [
    {
     "data": {
      "text/html": [
       "<div>\n",
       "<style scoped>\n",
       "    .dataframe tbody tr th:only-of-type {\n",
       "        vertical-align: middle;\n",
       "    }\n",
       "\n",
       "    .dataframe tbody tr th {\n",
       "        vertical-align: top;\n",
       "    }\n",
       "\n",
       "    .dataframe thead th {\n",
       "        text-align: right;\n",
       "    }\n",
       "</style>\n",
       "<table border=\"1\" class=\"dataframe\">\n",
       "  <thead>\n",
       "    <tr style=\"text-align: right;\">\n",
       "      <th></th>\n",
       "      <th>subreddit</th>\n",
       "      <th>title</th>\n",
       "      <th>created_utc</th>\n",
       "      <th>tokenized</th>\n",
       "      <th>sentiment</th>\n",
       "      <th>sentiments</th>\n",
       "      <th>emotion</th>\n",
       "      <th>emotion_label</th>\n",
       "    </tr>\n",
       "  </thead>\n",
       "  <tbody>\n",
       "    <tr>\n",
       "      <th>7</th>\n",
       "      <td>1</td>\n",
       "      <td>does anyone know if the apple cider is coming ...</td>\n",
       "      <td>1663163942</td>\n",
       "      <td>[does, anyone, know, if, the, apple, cider, is...</td>\n",
       "      <td>[{'label': 'LABEL_1', 'score': 0.9185714125633...</td>\n",
       "      <td>neutral</td>\n",
       "      <td>(fear, 0.44246920943260193)</td>\n",
       "      <td>fear</td>\n",
       "    </tr>\n",
       "    <tr>\n",
       "      <th>39</th>\n",
       "      <td>1</td>\n",
       "      <td>ben affleck and henry cavill have signed exten...</td>\n",
       "      <td>1662929899</td>\n",
       "      <td>[ben, affleck, and, henry, cavill, have, signe...</td>\n",
       "      <td>[{'label': 'LABEL_1', 'score': 0.9103999137878...</td>\n",
       "      <td>neutral</td>\n",
       "      <td>(joy, 0.9578804969787598)</td>\n",
       "      <td>joy</td>\n",
       "    </tr>\n",
       "    <tr>\n",
       "      <th>40</th>\n",
       "      <td>1</td>\n",
       "      <td>does anybody know if you can add the employee ...</td>\n",
       "      <td>1662918465</td>\n",
       "      <td>[does, anybody, know, if, you, can, add, the, ...</td>\n",
       "      <td>[{'label': 'LABEL_1', 'score': 0.9097266197204...</td>\n",
       "      <td>neutral</td>\n",
       "      <td>(joy, 0.9556164741516113)</td>\n",
       "      <td>joy</td>\n",
       "    </tr>\n",
       "  </tbody>\n",
       "</table>\n",
       "</div>"
      ],
      "text/plain": [
       "    subreddit                                              title  created_utc  \\\n",
       "7           1  does anyone know if the apple cider is coming ...   1663163942   \n",
       "39          1  ben affleck and henry cavill have signed exten...   1662929899   \n",
       "40          1  does anybody know if you can add the employee ...   1662918465   \n",
       "\n",
       "                                            tokenized  \\\n",
       "7   [does, anyone, know, if, the, apple, cider, is...   \n",
       "39  [ben, affleck, and, henry, cavill, have, signe...   \n",
       "40  [does, anybody, know, if, you, can, add, the, ...   \n",
       "\n",
       "                                            sentiment sentiments  \\\n",
       "7   [{'label': 'LABEL_1', 'score': 0.9185714125633...    neutral   \n",
       "39  [{'label': 'LABEL_1', 'score': 0.9103999137878...    neutral   \n",
       "40  [{'label': 'LABEL_1', 'score': 0.9097266197204...    neutral   \n",
       "\n",
       "                        emotion emotion_label  \n",
       "7   (fear, 0.44246920943260193)          fear  \n",
       "39    (joy, 0.9578804969787598)           joy  \n",
       "40    (joy, 0.9556164741516113)           joy  "
      ]
     },
     "execution_count": 140,
     "metadata": {},
     "output_type": "execute_result"
    }
   ],
   "source": [
    "dunkin_service_emotion.head(3)"
   ]
  },
  {
   "cell_type": "code",
   "execution_count": 141,
   "id": "ab7c2a3d-87e7-4844-ace8-4902e95e29d7",
   "metadata": {},
   "outputs": [
    {
     "data": {
      "text/plain": [
       "joy         113\n",
       "anger        78\n",
       "fear         17\n",
       "sadness      17\n",
       "love          5\n",
       "surprise      3\n",
       "Name: emotion_label, dtype: int64"
      ]
     },
     "execution_count": 141,
     "metadata": {},
     "output_type": "execute_result"
    }
   ],
   "source": [
    "dunkin_service_emotion['emotion_label'].value_counts()"
   ]
  },
  {
   "cell_type": "code",
   "execution_count": 142,
   "id": "6c29f220-6e11-4f68-9a73-44be8debcd98",
   "metadata": {
    "tags": []
   },
   "outputs": [
    {
     "data": {
      "text/html": [
       "<div>\n",
       "<style scoped>\n",
       "    .dataframe tbody tr th:only-of-type {\n",
       "        vertical-align: middle;\n",
       "    }\n",
       "\n",
       "    .dataframe tbody tr th {\n",
       "        vertical-align: top;\n",
       "    }\n",
       "\n",
       "    .dataframe thead th {\n",
       "        text-align: right;\n",
       "    }\n",
       "</style>\n",
       "<table border=\"1\" class=\"dataframe\">\n",
       "  <thead>\n",
       "    <tr style=\"text-align: right;\">\n",
       "      <th></th>\n",
       "      <th>emotion_label</th>\n",
       "    </tr>\n",
       "  </thead>\n",
       "  <tbody>\n",
       "    <tr>\n",
       "      <th>joy</th>\n",
       "      <td>113</td>\n",
       "    </tr>\n",
       "    <tr>\n",
       "      <th>anger</th>\n",
       "      <td>78</td>\n",
       "    </tr>\n",
       "    <tr>\n",
       "      <th>fear</th>\n",
       "      <td>17</td>\n",
       "    </tr>\n",
       "    <tr>\n",
       "      <th>sadness</th>\n",
       "      <td>17</td>\n",
       "    </tr>\n",
       "    <tr>\n",
       "      <th>love</th>\n",
       "      <td>5</td>\n",
       "    </tr>\n",
       "    <tr>\n",
       "      <th>surprise</th>\n",
       "      <td>3</td>\n",
       "    </tr>\n",
       "  </tbody>\n",
       "</table>\n",
       "</div>"
      ],
      "text/plain": [
       "          emotion_label\n",
       "joy                 113\n",
       "anger                78\n",
       "fear                 17\n",
       "sadness              17\n",
       "love                  5\n",
       "surprise              3"
      ]
     },
     "execution_count": 142,
     "metadata": {},
     "output_type": "execute_result"
    }
   ],
   "source": [
    "dunkin_service_emotions_df = pd.DataFrame(dunkin_service_emotion['emotion_label'].value_counts())\n",
    "dunkin_service_emotions_df"
   ]
  },
  {
   "cell_type": "markdown",
   "id": "36d84258-b202-41da-a941-b4eaee2de3f2",
   "metadata": {
    "tags": []
   },
   "source": [
    "### Dunkin Barista"
   ]
  },
  {
   "cell_type": "code",
   "execution_count": 143,
   "id": "fb25d339-acde-4d6c-ac63-482fc000a3ba",
   "metadata": {
    "tags": []
   },
   "outputs": [],
   "source": [
    "dunkin_barista_emotion = emotion(dunkin_barista)"
   ]
  },
  {
   "cell_type": "code",
   "execution_count": 144,
   "id": "9aa12aa7-22f7-44e6-b4c6-80fc786805eb",
   "metadata": {},
   "outputs": [
    {
     "data": {
      "text/html": [
       "<div>\n",
       "<style scoped>\n",
       "    .dataframe tbody tr th:only-of-type {\n",
       "        vertical-align: middle;\n",
       "    }\n",
       "\n",
       "    .dataframe tbody tr th {\n",
       "        vertical-align: top;\n",
       "    }\n",
       "\n",
       "    .dataframe thead th {\n",
       "        text-align: right;\n",
       "    }\n",
       "</style>\n",
       "<table border=\"1\" class=\"dataframe\">\n",
       "  <thead>\n",
       "    <tr style=\"text-align: right;\">\n",
       "      <th></th>\n",
       "      <th>subreddit</th>\n",
       "      <th>title</th>\n",
       "      <th>created_utc</th>\n",
       "      <th>tokenized</th>\n",
       "      <th>sentiment</th>\n",
       "      <th>sentiments</th>\n",
       "      <th>emotion</th>\n",
       "      <th>emotion_label</th>\n",
       "    </tr>\n",
       "  </thead>\n",
       "  <tbody>\n",
       "    <tr>\n",
       "      <th>1056</th>\n",
       "      <td>1</td>\n",
       "      <td>question from a starbys barista</td>\n",
       "      <td>1655913312</td>\n",
       "      <td>[question, from, a, starbys, barista]</td>\n",
       "      <td>[{'label': 'LABEL_1', 'score': 0.8456373810768...</td>\n",
       "      <td>neutral</td>\n",
       "      <td>(anger, 0.9392330646514893)</td>\n",
       "      <td>anger</td>\n",
       "    </tr>\n",
       "    <tr>\n",
       "      <th>2158</th>\n",
       "      <td>1</td>\n",
       "      <td>would the barista making my coffee everyday li...</td>\n",
       "      <td>1646751101</td>\n",
       "      <td>[would, the, barista, making, my, coffee, ever...</td>\n",
       "      <td>[{'label': 'LABEL_1', 'score': 0.6669984459877...</td>\n",
       "      <td>neutral</td>\n",
       "      <td>(love, 0.4555163085460663)</td>\n",
       "      <td>love</td>\n",
       "    </tr>\n",
       "  </tbody>\n",
       "</table>\n",
       "</div>"
      ],
      "text/plain": [
       "      subreddit                                              title  \\\n",
       "1056          1                    question from a starbys barista   \n",
       "2158          1  would the barista making my coffee everyday li...   \n",
       "\n",
       "      created_utc                                          tokenized  \\\n",
       "1056   1655913312              [question, from, a, starbys, barista]   \n",
       "2158   1646751101  [would, the, barista, making, my, coffee, ever...   \n",
       "\n",
       "                                              sentiment sentiments  \\\n",
       "1056  [{'label': 'LABEL_1', 'score': 0.8456373810768...    neutral   \n",
       "2158  [{'label': 'LABEL_1', 'score': 0.6669984459877...    neutral   \n",
       "\n",
       "                          emotion emotion_label  \n",
       "1056  (anger, 0.9392330646514893)         anger  \n",
       "2158   (love, 0.4555163085460663)          love  "
      ]
     },
     "execution_count": 144,
     "metadata": {},
     "output_type": "execute_result"
    }
   ],
   "source": [
    "dunkin_barista_emotion.head()"
   ]
  },
  {
   "cell_type": "code",
   "execution_count": 145,
   "id": "c1aada21-0d3d-4ea9-acc8-44f6c0cbb792",
   "metadata": {},
   "outputs": [
    {
     "data": {
      "text/plain": [
       "anger    1\n",
       "love     1\n",
       "Name: emotion_label, dtype: int64"
      ]
     },
     "execution_count": 145,
     "metadata": {},
     "output_type": "execute_result"
    }
   ],
   "source": [
    "dunkin_barista_emotion['emotion_label'].value_counts()"
   ]
  },
  {
   "cell_type": "code",
   "execution_count": 146,
   "id": "de3a8084-a7c7-44dd-9e9b-16b554d7fd0b",
   "metadata": {
    "tags": []
   },
   "outputs": [
    {
     "data": {
      "text/html": [
       "<div>\n",
       "<style scoped>\n",
       "    .dataframe tbody tr th:only-of-type {\n",
       "        vertical-align: middle;\n",
       "    }\n",
       "\n",
       "    .dataframe tbody tr th {\n",
       "        vertical-align: top;\n",
       "    }\n",
       "\n",
       "    .dataframe thead th {\n",
       "        text-align: right;\n",
       "    }\n",
       "</style>\n",
       "<table border=\"1\" class=\"dataframe\">\n",
       "  <thead>\n",
       "    <tr style=\"text-align: right;\">\n",
       "      <th></th>\n",
       "      <th>emotion_label</th>\n",
       "    </tr>\n",
       "  </thead>\n",
       "  <tbody>\n",
       "    <tr>\n",
       "      <th>anger</th>\n",
       "      <td>1</td>\n",
       "    </tr>\n",
       "    <tr>\n",
       "      <th>love</th>\n",
       "      <td>1</td>\n",
       "    </tr>\n",
       "  </tbody>\n",
       "</table>\n",
       "</div>"
      ],
      "text/plain": [
       "       emotion_label\n",
       "anger              1\n",
       "love               1"
      ]
     },
     "execution_count": 146,
     "metadata": {},
     "output_type": "execute_result"
    }
   ],
   "source": [
    "dunkin_barista_emotions_df = pd.DataFrame(dunkin_barista_emotion['emotion_label'].value_counts())\n",
    "dunkin_barista_emotions_df"
   ]
  },
  {
   "cell_type": "markdown",
   "id": "8ee2a389-b13d-4519-9a82-af7fc5fe909c",
   "metadata": {},
   "source": [
    "### Summary"
   ]
  },
  {
   "cell_type": "code",
   "execution_count": 147,
   "id": "82de26ce-1334-4c89-90a5-b3fe17275311",
   "metadata": {},
   "outputs": [],
   "source": [
    "dunkin_cols = [\"Overall\", \"Dunkin_Donuts\", \"Cold_Brew\", \"Iced_Coffee\", \"Butter_Pecan\", \"Dunkin_Local\", \"Dunkin_Reward\", \"Dunkin_Service\", \"Dunkin_Barista\"]\n",
    "dunkin_emotions = pd.concat([dunkin_emotions_df, ddonuts_emotions_df, dunkin_c_brew_emotions_df, dunkin_i_coffee_emotions_df, dunkin_b_pecan_emotions_df, \n",
    "                             dunkin_local_emotions_df, dunkin_reward_emotions_df, dunkin_service_emotions_df, dunkin_barista_emotions_df], axis=1, ignore_index=True)\n",
    "dunkin_emotions.columns = dunkin_cols"
   ]
  },
  {
   "cell_type": "code",
   "execution_count": 148,
   "id": "484ce07b-c5cd-4b94-b8ae-9ae91b131d0c",
   "metadata": {},
   "outputs": [],
   "source": [
    "dunkin_emotions = dunkin_emotions.fillna(0) "
   ]
  },
  {
   "cell_type": "code",
   "execution_count": 149,
   "id": "af11bc4e-4286-43c9-93aa-b96cdd98b116",
   "metadata": {},
   "outputs": [
    {
     "data": {
      "text/html": [
       "<div>\n",
       "<style scoped>\n",
       "    .dataframe tbody tr th:only-of-type {\n",
       "        vertical-align: middle;\n",
       "    }\n",
       "\n",
       "    .dataframe tbody tr th {\n",
       "        vertical-align: top;\n",
       "    }\n",
       "\n",
       "    .dataframe thead th {\n",
       "        text-align: right;\n",
       "    }\n",
       "</style>\n",
       "<table border=\"1\" class=\"dataframe\">\n",
       "  <thead>\n",
       "    <tr style=\"text-align: right;\">\n",
       "      <th></th>\n",
       "      <th>Overall</th>\n",
       "      <th>Dunkin_Donuts</th>\n",
       "      <th>Cold_Brew</th>\n",
       "      <th>Iced_Coffee</th>\n",
       "      <th>Butter_Pecan</th>\n",
       "      <th>Dunkin_Local</th>\n",
       "      <th>Dunkin_Reward</th>\n",
       "      <th>Dunkin_Service</th>\n",
       "      <th>Dunkin_Barista</th>\n",
       "    </tr>\n",
       "  </thead>\n",
       "  <tbody>\n",
       "    <tr>\n",
       "      <th>joy</th>\n",
       "      <td>0.43</td>\n",
       "      <td>0.37</td>\n",
       "      <td>0.30</td>\n",
       "      <td>0.73</td>\n",
       "      <td>0.61</td>\n",
       "      <td>0.17</td>\n",
       "      <td>0.88</td>\n",
       "      <td>0.48</td>\n",
       "      <td>0.0</td>\n",
       "    </tr>\n",
       "    <tr>\n",
       "      <th>anger</th>\n",
       "      <td>0.40</td>\n",
       "      <td>0.52</td>\n",
       "      <td>0.59</td>\n",
       "      <td>0.12</td>\n",
       "      <td>0.14</td>\n",
       "      <td>0.65</td>\n",
       "      <td>0.09</td>\n",
       "      <td>0.33</td>\n",
       "      <td>0.5</td>\n",
       "    </tr>\n",
       "    <tr>\n",
       "      <th>fear</th>\n",
       "      <td>0.06</td>\n",
       "      <td>0.03</td>\n",
       "      <td>0.02</td>\n",
       "      <td>0.02</td>\n",
       "      <td>0.14</td>\n",
       "      <td>0.09</td>\n",
       "      <td>0.00</td>\n",
       "      <td>0.07</td>\n",
       "      <td>0.0</td>\n",
       "    </tr>\n",
       "    <tr>\n",
       "      <th>sadness</th>\n",
       "      <td>0.05</td>\n",
       "      <td>0.05</td>\n",
       "      <td>0.00</td>\n",
       "      <td>0.02</td>\n",
       "      <td>0.08</td>\n",
       "      <td>0.04</td>\n",
       "      <td>0.03</td>\n",
       "      <td>0.07</td>\n",
       "      <td>0.0</td>\n",
       "    </tr>\n",
       "    <tr>\n",
       "      <th>love</th>\n",
       "      <td>0.04</td>\n",
       "      <td>0.03</td>\n",
       "      <td>0.08</td>\n",
       "      <td>0.10</td>\n",
       "      <td>0.03</td>\n",
       "      <td>0.00</td>\n",
       "      <td>0.00</td>\n",
       "      <td>0.02</td>\n",
       "      <td>0.5</td>\n",
       "    </tr>\n",
       "    <tr>\n",
       "      <th>surprise</th>\n",
       "      <td>0.01</td>\n",
       "      <td>0.00</td>\n",
       "      <td>0.01</td>\n",
       "      <td>0.00</td>\n",
       "      <td>0.00</td>\n",
       "      <td>0.04</td>\n",
       "      <td>0.00</td>\n",
       "      <td>0.01</td>\n",
       "      <td>0.0</td>\n",
       "    </tr>\n",
       "  </tbody>\n",
       "</table>\n",
       "</div>"
      ],
      "text/plain": [
       "          Overall  Dunkin_Donuts  Cold_Brew  Iced_Coffee  Butter_Pecan  \\\n",
       "joy          0.43           0.37       0.30         0.73          0.61   \n",
       "anger        0.40           0.52       0.59         0.12          0.14   \n",
       "fear         0.06           0.03       0.02         0.02          0.14   \n",
       "sadness      0.05           0.05       0.00         0.02          0.08   \n",
       "love         0.04           0.03       0.08         0.10          0.03   \n",
       "surprise     0.01           0.00       0.01         0.00          0.00   \n",
       "\n",
       "          Dunkin_Local  Dunkin_Reward  Dunkin_Service  Dunkin_Barista  \n",
       "joy               0.17           0.88            0.48             0.0  \n",
       "anger             0.65           0.09            0.33             0.5  \n",
       "fear              0.09           0.00            0.07             0.0  \n",
       "sadness           0.04           0.03            0.07             0.0  \n",
       "love              0.00           0.00            0.02             0.5  \n",
       "surprise          0.04           0.00            0.01             0.0  "
      ]
     },
     "execution_count": 149,
     "metadata": {},
     "output_type": "execute_result"
    }
   ],
   "source": [
    "dunkin_emotions_pct = round(dunkin_emotions/dunkin_emotions.sum(), 2)\n",
    "dunkin_emotions_pct"
   ]
  },
  {
   "cell_type": "markdown",
   "id": "755963ea-d856-44f9-8998-cf385f031908",
   "metadata": {},
   "source": [
    "Points to note:\n",
    "- Most posts are categorized slightly more as joy than anger. \n",
    "- Local Dunkin has highest number of angry posts similar to sentiment.\n",
    "- Services from Dunkin are labelled with more joyous posts, as contradicts to sentiment. "
   ]
  },
  {
   "cell_type": "markdown",
   "id": "171bbaa5-6ded-4887-900e-cf3e7d05997e",
   "metadata": {},
   "source": [
    "## Starbucks Emotion"
   ]
  },
  {
   "cell_type": "markdown",
   "id": "ab41c30a-3cd3-4ce7-87fd-f7bd9d7f8fe1",
   "metadata": {
    "tags": []
   },
   "source": [
    "### Overall"
   ]
  },
  {
   "cell_type": "code",
   "execution_count": 150,
   "id": "37fa8dce-abfc-494b-9a9c-a7f8cc211e53",
   "metadata": {},
   "outputs": [],
   "source": [
    "sbucks_sample_emotion = emotion(sbucks_text_df.sample(2000))"
   ]
  },
  {
   "cell_type": "code",
   "execution_count": 151,
   "id": "2ed4b441-301f-45a5-b828-98420c23eaa0",
   "metadata": {},
   "outputs": [
    {
     "data": {
      "text/html": [
       "<div>\n",
       "<style scoped>\n",
       "    .dataframe tbody tr th:only-of-type {\n",
       "        vertical-align: middle;\n",
       "    }\n",
       "\n",
       "    .dataframe tbody tr th {\n",
       "        vertical-align: top;\n",
       "    }\n",
       "\n",
       "    .dataframe thead th {\n",
       "        text-align: right;\n",
       "    }\n",
       "</style>\n",
       "<table border=\"1\" class=\"dataframe\">\n",
       "  <thead>\n",
       "    <tr style=\"text-align: right;\">\n",
       "      <th></th>\n",
       "      <th>subreddit</th>\n",
       "      <th>title</th>\n",
       "      <th>created_utc</th>\n",
       "      <th>tokenized</th>\n",
       "      <th>emotion</th>\n",
       "      <th>emotion_label</th>\n",
       "    </tr>\n",
       "  </thead>\n",
       "  <tbody>\n",
       "    <tr>\n",
       "      <th>3862</th>\n",
       "      <td>0</td>\n",
       "      <td>barista with a college degree are you still pu...</td>\n",
       "      <td>1662080630</td>\n",
       "      <td>[barista, with, a, college, degree, are, you, ...</td>\n",
       "      <td>(joy, 0.9905335903167725)</td>\n",
       "      <td>joy</td>\n",
       "    </tr>\n",
       "    <tr>\n",
       "      <th>3352</th>\n",
       "      <td>0</td>\n",
       "      <td>calories for a iced chai with oat milk and pum...</td>\n",
       "      <td>1662475298</td>\n",
       "      <td>[calories, for, a, iced, chai, with, oat, milk...</td>\n",
       "      <td>(joy, 0.9862253665924072)</td>\n",
       "      <td>joy</td>\n",
       "    </tr>\n",
       "    <tr>\n",
       "      <th>3473</th>\n",
       "      <td>0</td>\n",
       "      <td>this is why we can t have nice things</td>\n",
       "      <td>1662384943</td>\n",
       "      <td>[this, is, why, we, can, t, have, nice, things]</td>\n",
       "      <td>(joy, 0.9862999320030212)</td>\n",
       "      <td>joy</td>\n",
       "    </tr>\n",
       "  </tbody>\n",
       "</table>\n",
       "</div>"
      ],
      "text/plain": [
       "      subreddit                                              title  \\\n",
       "3862          0  barista with a college degree are you still pu...   \n",
       "3352          0  calories for a iced chai with oat milk and pum...   \n",
       "3473          0              this is why we can t have nice things   \n",
       "\n",
       "      created_utc                                          tokenized  \\\n",
       "3862   1662080630  [barista, with, a, college, degree, are, you, ...   \n",
       "3352   1662475298  [calories, for, a, iced, chai, with, oat, milk...   \n",
       "3473   1662384943    [this, is, why, we, can, t, have, nice, things]   \n",
       "\n",
       "                        emotion emotion_label  \n",
       "3862  (joy, 0.9905335903167725)           joy  \n",
       "3352  (joy, 0.9862253665924072)           joy  \n",
       "3473  (joy, 0.9862999320030212)           joy  "
      ]
     },
     "execution_count": 151,
     "metadata": {},
     "output_type": "execute_result"
    }
   ],
   "source": [
    "sbucks_sample_emotion.head(3)"
   ]
  },
  {
   "cell_type": "code",
   "execution_count": 152,
   "id": "b49381ff-9552-43e4-bf1e-0443dd9f9841",
   "metadata": {},
   "outputs": [
    {
     "data": {
      "text/plain": [
       "anger       894\n",
       "joy         803\n",
       "fear        156\n",
       "sadness      94\n",
       "love         38\n",
       "surprise     15\n",
       "Name: emotion_label, dtype: int64"
      ]
     },
     "execution_count": 152,
     "metadata": {},
     "output_type": "execute_result"
    }
   ],
   "source": [
    "sbucks_sample_emotion['emotion_label'].value_counts()"
   ]
  },
  {
   "cell_type": "code",
   "execution_count": 153,
   "id": "2c81f57a-0f40-410a-91c4-3cd80500248e",
   "metadata": {},
   "outputs": [
    {
     "data": {
      "text/html": [
       "<div>\n",
       "<style scoped>\n",
       "    .dataframe tbody tr th:only-of-type {\n",
       "        vertical-align: middle;\n",
       "    }\n",
       "\n",
       "    .dataframe tbody tr th {\n",
       "        vertical-align: top;\n",
       "    }\n",
       "\n",
       "    .dataframe thead th {\n",
       "        text-align: right;\n",
       "    }\n",
       "</style>\n",
       "<table border=\"1\" class=\"dataframe\">\n",
       "  <thead>\n",
       "    <tr style=\"text-align: right;\">\n",
       "      <th></th>\n",
       "      <th>emotion_label</th>\n",
       "    </tr>\n",
       "  </thead>\n",
       "  <tbody>\n",
       "    <tr>\n",
       "      <th>anger</th>\n",
       "      <td>894</td>\n",
       "    </tr>\n",
       "    <tr>\n",
       "      <th>joy</th>\n",
       "      <td>803</td>\n",
       "    </tr>\n",
       "    <tr>\n",
       "      <th>fear</th>\n",
       "      <td>156</td>\n",
       "    </tr>\n",
       "    <tr>\n",
       "      <th>sadness</th>\n",
       "      <td>94</td>\n",
       "    </tr>\n",
       "    <tr>\n",
       "      <th>love</th>\n",
       "      <td>38</td>\n",
       "    </tr>\n",
       "    <tr>\n",
       "      <th>surprise</th>\n",
       "      <td>15</td>\n",
       "    </tr>\n",
       "  </tbody>\n",
       "</table>\n",
       "</div>"
      ],
      "text/plain": [
       "          emotion_label\n",
       "anger               894\n",
       "joy                 803\n",
       "fear                156\n",
       "sadness              94\n",
       "love                 38\n",
       "surprise             15"
      ]
     },
     "execution_count": 153,
     "metadata": {},
     "output_type": "execute_result"
    }
   ],
   "source": [
    "sbucks_emotions_df = pd.DataFrame(sbucks_sample_emotion['emotion_label'].value_counts())\n",
    "sbucks_emotions_df"
   ]
  },
  {
   "cell_type": "markdown",
   "id": "a5fd0587-68c0-454e-9c76-5c1bff986f21",
   "metadata": {},
   "source": [
    "### Sbucks Dress Code"
   ]
  },
  {
   "cell_type": "code",
   "execution_count": 154,
   "id": "90b1af2e-7180-4654-87d1-3e94b489601e",
   "metadata": {
    "tags": []
   },
   "outputs": [],
   "source": [
    "sbucks_dress_emotion = emotion(sbucks_dress)"
   ]
  },
  {
   "cell_type": "code",
   "execution_count": 155,
   "id": "b83b4b8c-f85a-40e8-b9ee-243fc65bfbd4",
   "metadata": {},
   "outputs": [
    {
     "data": {
      "text/html": [
       "<div>\n",
       "<style scoped>\n",
       "    .dataframe tbody tr th:only-of-type {\n",
       "        vertical-align: middle;\n",
       "    }\n",
       "\n",
       "    .dataframe tbody tr th {\n",
       "        vertical-align: top;\n",
       "    }\n",
       "\n",
       "    .dataframe thead th {\n",
       "        text-align: right;\n",
       "    }\n",
       "</style>\n",
       "<table border=\"1\" class=\"dataframe\">\n",
       "  <thead>\n",
       "    <tr style=\"text-align: right;\">\n",
       "      <th></th>\n",
       "      <th>subreddit</th>\n",
       "      <th>title</th>\n",
       "      <th>created_utc</th>\n",
       "      <th>tokenized</th>\n",
       "      <th>sentiment</th>\n",
       "      <th>sentiments</th>\n",
       "      <th>emotion</th>\n",
       "      <th>emotion_label</th>\n",
       "    </tr>\n",
       "  </thead>\n",
       "  <tbody>\n",
       "    <tr>\n",
       "      <th>2551</th>\n",
       "      <td>0</td>\n",
       "      <td>lax new ceo attends the one young world confer...</td>\n",
       "      <td>1663181231</td>\n",
       "      <td>[lax, new, ceo, attends, the, one, young, worl...</td>\n",
       "      <td>[{'label': 'LABEL_2', 'score': 0.9124915599822...</td>\n",
       "      <td>positive</td>\n",
       "      <td>(anger, 0.7453771233558655)</td>\n",
       "      <td>anger</td>\n",
       "    </tr>\n",
       "    <tr>\n",
       "      <th>2740</th>\n",
       "      <td>0</td>\n",
       "      <td>dress code question</td>\n",
       "      <td>1663017656</td>\n",
       "      <td>[dress, code, question]</td>\n",
       "      <td>[{'label': 'LABEL_1', 'score': 0.7115855813026...</td>\n",
       "      <td>neutral</td>\n",
       "      <td>(anger, 0.9151665568351746)</td>\n",
       "      <td>anger</td>\n",
       "    </tr>\n",
       "    <tr>\n",
       "      <th>2807</th>\n",
       "      <td>0</td>\n",
       "      <td>dresscode hats</td>\n",
       "      <td>1662946355</td>\n",
       "      <td>[dresscode, hats]</td>\n",
       "      <td>[{'label': 'LABEL_1', 'score': 0.7062446475028...</td>\n",
       "      <td>neutral</td>\n",
       "      <td>(joy, 0.5554599165916443)</td>\n",
       "      <td>joy</td>\n",
       "    </tr>\n",
       "  </tbody>\n",
       "</table>\n",
       "</div>"
      ],
      "text/plain": [
       "      subreddit                                              title  \\\n",
       "2551          0  lax new ceo attends the one young world confer...   \n",
       "2740          0                                dress code question   \n",
       "2807          0                                     dresscode hats   \n",
       "\n",
       "      created_utc                                          tokenized  \\\n",
       "2551   1663181231  [lax, new, ceo, attends, the, one, young, worl...   \n",
       "2740   1663017656                            [dress, code, question]   \n",
       "2807   1662946355                                  [dresscode, hats]   \n",
       "\n",
       "                                              sentiment sentiments  \\\n",
       "2551  [{'label': 'LABEL_2', 'score': 0.9124915599822...   positive   \n",
       "2740  [{'label': 'LABEL_1', 'score': 0.7115855813026...    neutral   \n",
       "2807  [{'label': 'LABEL_1', 'score': 0.7062446475028...    neutral   \n",
       "\n",
       "                          emotion emotion_label  \n",
       "2551  (anger, 0.7453771233558655)         anger  \n",
       "2740  (anger, 0.9151665568351746)         anger  \n",
       "2807    (joy, 0.5554599165916443)           joy  "
      ]
     },
     "execution_count": 155,
     "metadata": {},
     "output_type": "execute_result"
    }
   ],
   "source": [
    "sbucks_dress_emotion.head(3)"
   ]
  },
  {
   "cell_type": "code",
   "execution_count": 156,
   "id": "64981250-8dbf-4e02-884a-0d420831578d",
   "metadata": {},
   "outputs": [
    {
     "data": {
      "text/plain": [
       "anger      20\n",
       "joy        15\n",
       "sadness     1\n",
       "Name: emotion_label, dtype: int64"
      ]
     },
     "execution_count": 156,
     "metadata": {},
     "output_type": "execute_result"
    }
   ],
   "source": [
    "sbucks_dress_emotion['emotion_label'].value_counts()"
   ]
  },
  {
   "cell_type": "code",
   "execution_count": 157,
   "id": "66064503-ac6d-44ff-91a6-edcb90f643a1",
   "metadata": {
    "tags": []
   },
   "outputs": [
    {
     "data": {
      "text/html": [
       "<div>\n",
       "<style scoped>\n",
       "    .dataframe tbody tr th:only-of-type {\n",
       "        vertical-align: middle;\n",
       "    }\n",
       "\n",
       "    .dataframe tbody tr th {\n",
       "        vertical-align: top;\n",
       "    }\n",
       "\n",
       "    .dataframe thead th {\n",
       "        text-align: right;\n",
       "    }\n",
       "</style>\n",
       "<table border=\"1\" class=\"dataframe\">\n",
       "  <thead>\n",
       "    <tr style=\"text-align: right;\">\n",
       "      <th></th>\n",
       "      <th>emotion_label</th>\n",
       "    </tr>\n",
       "  </thead>\n",
       "  <tbody>\n",
       "    <tr>\n",
       "      <th>anger</th>\n",
       "      <td>20</td>\n",
       "    </tr>\n",
       "    <tr>\n",
       "      <th>joy</th>\n",
       "      <td>15</td>\n",
       "    </tr>\n",
       "    <tr>\n",
       "      <th>sadness</th>\n",
       "      <td>1</td>\n",
       "    </tr>\n",
       "  </tbody>\n",
       "</table>\n",
       "</div>"
      ],
      "text/plain": [
       "         emotion_label\n",
       "anger               20\n",
       "joy                 15\n",
       "sadness              1"
      ]
     },
     "execution_count": 157,
     "metadata": {},
     "output_type": "execute_result"
    }
   ],
   "source": [
    "sbucks_dress_emotions_df = pd.DataFrame(sbucks_dress_emotion['emotion_label'].value_counts())\n",
    "sbucks_dress_emotions_df"
   ]
  },
  {
   "cell_type": "markdown",
   "id": "8a0f823d-c3c8-408b-b05c-7688b8e4ac39",
   "metadata": {},
   "source": [
    "### Sbucks Pumpkin Spice"
   ]
  },
  {
   "cell_type": "code",
   "execution_count": 158,
   "id": "a05acc81-f355-495a-9748-bb8c5a1dfedf",
   "metadata": {
    "tags": []
   },
   "outputs": [],
   "source": [
    "sbucks_p_spice_emotion = emotion(sbucks_p_spice)"
   ]
  },
  {
   "cell_type": "code",
   "execution_count": 159,
   "id": "b5e4d7a2-1dc8-4175-a417-c6bb9c48d975",
   "metadata": {},
   "outputs": [
    {
     "data": {
      "text/html": [
       "<div>\n",
       "<style scoped>\n",
       "    .dataframe tbody tr th:only-of-type {\n",
       "        vertical-align: middle;\n",
       "    }\n",
       "\n",
       "    .dataframe tbody tr th {\n",
       "        vertical-align: top;\n",
       "    }\n",
       "\n",
       "    .dataframe thead th {\n",
       "        text-align: right;\n",
       "    }\n",
       "</style>\n",
       "<table border=\"1\" class=\"dataframe\">\n",
       "  <thead>\n",
       "    <tr style=\"text-align: right;\">\n",
       "      <th></th>\n",
       "      <th>subreddit</th>\n",
       "      <th>title</th>\n",
       "      <th>created_utc</th>\n",
       "      <th>tokenized</th>\n",
       "      <th>sentiment</th>\n",
       "      <th>sentiments</th>\n",
       "      <th>emotion</th>\n",
       "      <th>emotion_label</th>\n",
       "    </tr>\n",
       "  </thead>\n",
       "  <tbody>\n",
       "    <tr>\n",
       "      <th>2636</th>\n",
       "      <td>0</td>\n",
       "      <td>happy pumpkin spice season jack o lantern</td>\n",
       "      <td>1663109346</td>\n",
       "      <td>[happy, pumpkin, spice, season, jack, o, lantern]</td>\n",
       "      <td>[{'label': 'LABEL_2', 'score': 0.9534860253334...</td>\n",
       "      <td>positive</td>\n",
       "      <td>(joy, 0.9958736300468445)</td>\n",
       "      <td>joy</td>\n",
       "    </tr>\n",
       "    <tr>\n",
       "      <th>2698</th>\n",
       "      <td>0</td>\n",
       "      <td>is this kj s correct i know syrups have heaps ...</td>\n",
       "      <td>1663047373</td>\n",
       "      <td>[is, this, kj, s, correct, i, know, syrups, ha...</td>\n",
       "      <td>[{'label': 'LABEL_1', 'score': 0.5993539094924...</td>\n",
       "      <td>neutral</td>\n",
       "      <td>(joy, 0.9927894473075867)</td>\n",
       "      <td>joy</td>\n",
       "    </tr>\n",
       "    <tr>\n",
       "      <th>2906</th>\n",
       "      <td>0</td>\n",
       "      <td>your favorite custom off menu drinks using pum...</td>\n",
       "      <td>1662852146</td>\n",
       "      <td>[your, favorite, custom, off, menu, drinks, us...</td>\n",
       "      <td>[{'label': 'LABEL_1', 'score': 0.8353580832481...</td>\n",
       "      <td>neutral</td>\n",
       "      <td>(joy, 0.6488707065582275)</td>\n",
       "      <td>joy</td>\n",
       "    </tr>\n",
       "  </tbody>\n",
       "</table>\n",
       "</div>"
      ],
      "text/plain": [
       "      subreddit                                              title  \\\n",
       "2636          0          happy pumpkin spice season jack o lantern   \n",
       "2698          0  is this kj s correct i know syrups have heaps ...   \n",
       "2906          0  your favorite custom off menu drinks using pum...   \n",
       "\n",
       "      created_utc                                          tokenized  \\\n",
       "2636   1663109346  [happy, pumpkin, spice, season, jack, o, lantern]   \n",
       "2698   1663047373  [is, this, kj, s, correct, i, know, syrups, ha...   \n",
       "2906   1662852146  [your, favorite, custom, off, menu, drinks, us...   \n",
       "\n",
       "                                              sentiment sentiments  \\\n",
       "2636  [{'label': 'LABEL_2', 'score': 0.9534860253334...   positive   \n",
       "2698  [{'label': 'LABEL_1', 'score': 0.5993539094924...    neutral   \n",
       "2906  [{'label': 'LABEL_1', 'score': 0.8353580832481...    neutral   \n",
       "\n",
       "                        emotion emotion_label  \n",
       "2636  (joy, 0.9958736300468445)           joy  \n",
       "2698  (joy, 0.9927894473075867)           joy  \n",
       "2906  (joy, 0.6488707065582275)           joy  "
      ]
     },
     "execution_count": 159,
     "metadata": {},
     "output_type": "execute_result"
    }
   ],
   "source": [
    "sbucks_p_spice_emotion.head(3)"
   ]
  },
  {
   "cell_type": "code",
   "execution_count": 160,
   "id": "aef063dc-5686-4bb1-9073-e36165eff0f0",
   "metadata": {},
   "outputs": [
    {
     "data": {
      "text/plain": [
       "joy      29\n",
       "anger    10\n",
       "fear      2\n",
       "love      2\n",
       "Name: emotion_label, dtype: int64"
      ]
     },
     "execution_count": 160,
     "metadata": {},
     "output_type": "execute_result"
    }
   ],
   "source": [
    "sbucks_p_spice_emotion['emotion_label'].value_counts()"
   ]
  },
  {
   "cell_type": "code",
   "execution_count": 161,
   "id": "f717f321-4e19-4021-8b27-535f6f3cb6c1",
   "metadata": {
    "tags": []
   },
   "outputs": [
    {
     "data": {
      "text/html": [
       "<div>\n",
       "<style scoped>\n",
       "    .dataframe tbody tr th:only-of-type {\n",
       "        vertical-align: middle;\n",
       "    }\n",
       "\n",
       "    .dataframe tbody tr th {\n",
       "        vertical-align: top;\n",
       "    }\n",
       "\n",
       "    .dataframe thead th {\n",
       "        text-align: right;\n",
       "    }\n",
       "</style>\n",
       "<table border=\"1\" class=\"dataframe\">\n",
       "  <thead>\n",
       "    <tr style=\"text-align: right;\">\n",
       "      <th></th>\n",
       "      <th>emotion_label</th>\n",
       "    </tr>\n",
       "  </thead>\n",
       "  <tbody>\n",
       "    <tr>\n",
       "      <th>joy</th>\n",
       "      <td>29</td>\n",
       "    </tr>\n",
       "    <tr>\n",
       "      <th>anger</th>\n",
       "      <td>10</td>\n",
       "    </tr>\n",
       "    <tr>\n",
       "      <th>fear</th>\n",
       "      <td>2</td>\n",
       "    </tr>\n",
       "    <tr>\n",
       "      <th>love</th>\n",
       "      <td>2</td>\n",
       "    </tr>\n",
       "  </tbody>\n",
       "</table>\n",
       "</div>"
      ],
      "text/plain": [
       "       emotion_label\n",
       "joy               29\n",
       "anger             10\n",
       "fear               2\n",
       "love               2"
      ]
     },
     "execution_count": 161,
     "metadata": {},
     "output_type": "execute_result"
    }
   ],
   "source": [
    "sbucks_p_spice_emotions_df = pd.DataFrame(sbucks_p_spice_emotion['emotion_label'].value_counts())\n",
    "sbucks_p_spice_emotions_df"
   ]
  },
  {
   "cell_type": "markdown",
   "id": "32298af9-4f4a-4158-a94c-c7ce3954c1e2",
   "metadata": {
    "tags": []
   },
   "source": [
    "### Sbucks Cold Brew"
   ]
  },
  {
   "cell_type": "code",
   "execution_count": 162,
   "id": "f1f67b67-ae35-4087-81e9-0d201243a154",
   "metadata": {
    "tags": []
   },
   "outputs": [],
   "source": [
    "sbucks_c_brew_emotion = emotion(sbucks_c_brew)"
   ]
  },
  {
   "cell_type": "code",
   "execution_count": 163,
   "id": "57fe4ddc-9f63-4221-84a3-afbfed0b39f2",
   "metadata": {},
   "outputs": [
    {
     "data": {
      "text/html": [
       "<div>\n",
       "<style scoped>\n",
       "    .dataframe tbody tr th:only-of-type {\n",
       "        vertical-align: middle;\n",
       "    }\n",
       "\n",
       "    .dataframe tbody tr th {\n",
       "        vertical-align: top;\n",
       "    }\n",
       "\n",
       "    .dataframe thead th {\n",
       "        text-align: right;\n",
       "    }\n",
       "</style>\n",
       "<table border=\"1\" class=\"dataframe\">\n",
       "  <thead>\n",
       "    <tr style=\"text-align: right;\">\n",
       "      <th></th>\n",
       "      <th>subreddit</th>\n",
       "      <th>title</th>\n",
       "      <th>created_utc</th>\n",
       "      <th>tokenized</th>\n",
       "      <th>sentiment</th>\n",
       "      <th>sentiments</th>\n",
       "      <th>emotion</th>\n",
       "      <th>emotion_label</th>\n",
       "    </tr>\n",
       "  </thead>\n",
       "  <tbody>\n",
       "    <tr>\n",
       "      <th>2508</th>\n",
       "      <td>0</td>\n",
       "      <td>cold brew and brewed coffee pls</td>\n",
       "      <td>1663208386</td>\n",
       "      <td>[cold, brew, and, brewed, coffee, pls]</td>\n",
       "      <td>[{'label': 'LABEL_1', 'score': 0.6978935599327...</td>\n",
       "      <td>neutral</td>\n",
       "      <td>(anger, 0.9864635467529297)</td>\n",
       "      <td>anger</td>\n",
       "    </tr>\n",
       "    <tr>\n",
       "      <th>2652</th>\n",
       "      <td>0</td>\n",
       "      <td>what happened to starbucks cold brew</td>\n",
       "      <td>1663097976</td>\n",
       "      <td>[what, happened, to, starbucks, cold, brew]</td>\n",
       "      <td>[{'label': 'LABEL_1', 'score': 0.7445796132087...</td>\n",
       "      <td>neutral</td>\n",
       "      <td>(anger, 0.9936140179634094)</td>\n",
       "      <td>anger</td>\n",
       "    </tr>\n",
       "    <tr>\n",
       "      <th>2658</th>\n",
       "      <td>0</td>\n",
       "      <td>this was 9 a tall cold brew with no add ins at...</td>\n",
       "      <td>1663095561</td>\n",
       "      <td>[this, was, 9, a, tall, cold, brew, with, no, ...</td>\n",
       "      <td>[{'label': 'LABEL_2', 'score': 0.9462835788726...</td>\n",
       "      <td>positive</td>\n",
       "      <td>(joy, 0.9981186985969543)</td>\n",
       "      <td>joy</td>\n",
       "    </tr>\n",
       "  </tbody>\n",
       "</table>\n",
       "</div>"
      ],
      "text/plain": [
       "      subreddit                                              title  \\\n",
       "2508          0                    cold brew and brewed coffee pls   \n",
       "2652          0               what happened to starbucks cold brew   \n",
       "2658          0  this was 9 a tall cold brew with no add ins at...   \n",
       "\n",
       "      created_utc                                          tokenized  \\\n",
       "2508   1663208386             [cold, brew, and, brewed, coffee, pls]   \n",
       "2652   1663097976        [what, happened, to, starbucks, cold, brew]   \n",
       "2658   1663095561  [this, was, 9, a, tall, cold, brew, with, no, ...   \n",
       "\n",
       "                                              sentiment sentiments  \\\n",
       "2508  [{'label': 'LABEL_1', 'score': 0.6978935599327...    neutral   \n",
       "2652  [{'label': 'LABEL_1', 'score': 0.7445796132087...    neutral   \n",
       "2658  [{'label': 'LABEL_2', 'score': 0.9462835788726...   positive   \n",
       "\n",
       "                          emotion emotion_label  \n",
       "2508  (anger, 0.9864635467529297)         anger  \n",
       "2652  (anger, 0.9936140179634094)         anger  \n",
       "2658    (joy, 0.9981186985969543)           joy  "
      ]
     },
     "execution_count": 163,
     "metadata": {},
     "output_type": "execute_result"
    }
   ],
   "source": [
    "sbucks_c_brew_emotion.head(3)"
   ]
  },
  {
   "cell_type": "code",
   "execution_count": 164,
   "id": "f5500aaa-d936-4fdb-beb8-70eebde4e092",
   "metadata": {},
   "outputs": [
    {
     "data": {
      "text/plain": [
       "anger       33\n",
       "joy          8\n",
       "love         2\n",
       "sadness      1\n",
       "fear         1\n",
       "surprise     1\n",
       "Name: emotion_label, dtype: int64"
      ]
     },
     "execution_count": 164,
     "metadata": {},
     "output_type": "execute_result"
    }
   ],
   "source": [
    "sbucks_c_brew_emotion['emotion_label'].value_counts()"
   ]
  },
  {
   "cell_type": "code",
   "execution_count": 165,
   "id": "0c2ed949-2832-4984-90ee-bd78fcc1cf61",
   "metadata": {
    "tags": []
   },
   "outputs": [
    {
     "data": {
      "text/html": [
       "<div>\n",
       "<style scoped>\n",
       "    .dataframe tbody tr th:only-of-type {\n",
       "        vertical-align: middle;\n",
       "    }\n",
       "\n",
       "    .dataframe tbody tr th {\n",
       "        vertical-align: top;\n",
       "    }\n",
       "\n",
       "    .dataframe thead th {\n",
       "        text-align: right;\n",
       "    }\n",
       "</style>\n",
       "<table border=\"1\" class=\"dataframe\">\n",
       "  <thead>\n",
       "    <tr style=\"text-align: right;\">\n",
       "      <th></th>\n",
       "      <th>emotion_label</th>\n",
       "    </tr>\n",
       "  </thead>\n",
       "  <tbody>\n",
       "    <tr>\n",
       "      <th>anger</th>\n",
       "      <td>33</td>\n",
       "    </tr>\n",
       "    <tr>\n",
       "      <th>joy</th>\n",
       "      <td>8</td>\n",
       "    </tr>\n",
       "    <tr>\n",
       "      <th>love</th>\n",
       "      <td>2</td>\n",
       "    </tr>\n",
       "    <tr>\n",
       "      <th>sadness</th>\n",
       "      <td>1</td>\n",
       "    </tr>\n",
       "    <tr>\n",
       "      <th>fear</th>\n",
       "      <td>1</td>\n",
       "    </tr>\n",
       "    <tr>\n",
       "      <th>surprise</th>\n",
       "      <td>1</td>\n",
       "    </tr>\n",
       "  </tbody>\n",
       "</table>\n",
       "</div>"
      ],
      "text/plain": [
       "          emotion_label\n",
       "anger                33\n",
       "joy                   8\n",
       "love                  2\n",
       "sadness               1\n",
       "fear                  1\n",
       "surprise              1"
      ]
     },
     "execution_count": 165,
     "metadata": {},
     "output_type": "execute_result"
    }
   ],
   "source": [
    "sbucks_c_brew_emotions_df = pd.DataFrame(sbucks_c_brew_emotion['emotion_label'].value_counts())\n",
    "sbucks_c_brew_emotions_df"
   ]
  },
  {
   "cell_type": "markdown",
   "id": "e41e8848-5829-478f-b5c5-5f0c047ce596",
   "metadata": {
    "tags": []
   },
   "source": [
    "### Sbucks Iced Coffee"
   ]
  },
  {
   "cell_type": "code",
   "execution_count": 166,
   "id": "7874617a-bb7a-4fda-a5d9-e6bfa013da69",
   "metadata": {
    "tags": []
   },
   "outputs": [],
   "source": [
    "sbucks_i_coffee_emotion = emotion(sbucks_i_coffee)"
   ]
  },
  {
   "cell_type": "code",
   "execution_count": 167,
   "id": "0efe2009-ea0d-4693-a0a4-688cb9f28d28",
   "metadata": {},
   "outputs": [
    {
     "data": {
      "text/html": [
       "<div>\n",
       "<style scoped>\n",
       "    .dataframe tbody tr th:only-of-type {\n",
       "        vertical-align: middle;\n",
       "    }\n",
       "\n",
       "    .dataframe tbody tr th {\n",
       "        vertical-align: top;\n",
       "    }\n",
       "\n",
       "    .dataframe thead th {\n",
       "        text-align: right;\n",
       "    }\n",
       "</style>\n",
       "<table border=\"1\" class=\"dataframe\">\n",
       "  <thead>\n",
       "    <tr style=\"text-align: right;\">\n",
       "      <th></th>\n",
       "      <th>subreddit</th>\n",
       "      <th>title</th>\n",
       "      <th>created_utc</th>\n",
       "      <th>tokenized</th>\n",
       "      <th>sentiment</th>\n",
       "      <th>sentiments</th>\n",
       "      <th>emotion</th>\n",
       "      <th>emotion_label</th>\n",
       "    </tr>\n",
       "  </thead>\n",
       "  <tbody>\n",
       "    <tr>\n",
       "      <th>2612</th>\n",
       "      <td>0</td>\n",
       "      <td>starbucks equivalent of mcdonald s vanilla ice...</td>\n",
       "      <td>1663116479</td>\n",
       "      <td>[starbucks, equivalent, of, mcdonald, s, vanil...</td>\n",
       "      <td>[{'label': 'LABEL_1', 'score': 0.7834208011627...</td>\n",
       "      <td>neutral</td>\n",
       "      <td>(joy, 0.7389614582061768)</td>\n",
       "      <td>joy</td>\n",
       "    </tr>\n",
       "    <tr>\n",
       "      <th>2901</th>\n",
       "      <td>0</td>\n",
       "      <td>inconsistency with iced coffee help</td>\n",
       "      <td>1662853661</td>\n",
       "      <td>[inconsistency, with, iced, coffee, help]</td>\n",
       "      <td>[{'label': 'LABEL_1', 'score': 0.5564663410186...</td>\n",
       "      <td>neutral</td>\n",
       "      <td>(fear, 0.6321239471435547)</td>\n",
       "      <td>fear</td>\n",
       "    </tr>\n",
       "    <tr>\n",
       "      <th>2929</th>\n",
       "      <td>0</td>\n",
       "      <td>what beans how to request starbucks iced coffe...</td>\n",
       "      <td>1662832959</td>\n",
       "      <td>[what, beans, how, to, request, starbucks, ice...</td>\n",
       "      <td>[{'label': 'LABEL_1', 'score': 0.9025143384933...</td>\n",
       "      <td>neutral</td>\n",
       "      <td>(joy, 0.9472289085388184)</td>\n",
       "      <td>joy</td>\n",
       "    </tr>\n",
       "  </tbody>\n",
       "</table>\n",
       "</div>"
      ],
      "text/plain": [
       "      subreddit                                              title  \\\n",
       "2612          0  starbucks equivalent of mcdonald s vanilla ice...   \n",
       "2901          0                inconsistency with iced coffee help   \n",
       "2929          0  what beans how to request starbucks iced coffe...   \n",
       "\n",
       "      created_utc                                          tokenized  \\\n",
       "2612   1663116479  [starbucks, equivalent, of, mcdonald, s, vanil...   \n",
       "2901   1662853661          [inconsistency, with, iced, coffee, help]   \n",
       "2929   1662832959  [what, beans, how, to, request, starbucks, ice...   \n",
       "\n",
       "                                              sentiment sentiments  \\\n",
       "2612  [{'label': 'LABEL_1', 'score': 0.7834208011627...    neutral   \n",
       "2901  [{'label': 'LABEL_1', 'score': 0.5564663410186...    neutral   \n",
       "2929  [{'label': 'LABEL_1', 'score': 0.9025143384933...    neutral   \n",
       "\n",
       "                         emotion emotion_label  \n",
       "2612   (joy, 0.7389614582061768)           joy  \n",
       "2901  (fear, 0.6321239471435547)          fear  \n",
       "2929   (joy, 0.9472289085388184)           joy  "
      ]
     },
     "execution_count": 167,
     "metadata": {},
     "output_type": "execute_result"
    }
   ],
   "source": [
    "sbucks_i_coffee_emotion.head(3)"
   ]
  },
  {
   "cell_type": "code",
   "execution_count": 168,
   "id": "8d4a7988-65a3-4272-beb4-b6623483266b",
   "metadata": {},
   "outputs": [
    {
     "data": {
      "text/plain": [
       "joy      12\n",
       "fear      1\n",
       "anger     1\n",
       "Name: emotion_label, dtype: int64"
      ]
     },
     "execution_count": 168,
     "metadata": {},
     "output_type": "execute_result"
    }
   ],
   "source": [
    "sbucks_i_coffee_emotion['emotion_label'].value_counts()"
   ]
  },
  {
   "cell_type": "code",
   "execution_count": 169,
   "id": "7c17ac06-649a-43d7-a472-0ccffbf0c51d",
   "metadata": {
    "tags": []
   },
   "outputs": [
    {
     "data": {
      "text/html": [
       "<div>\n",
       "<style scoped>\n",
       "    .dataframe tbody tr th:only-of-type {\n",
       "        vertical-align: middle;\n",
       "    }\n",
       "\n",
       "    .dataframe tbody tr th {\n",
       "        vertical-align: top;\n",
       "    }\n",
       "\n",
       "    .dataframe thead th {\n",
       "        text-align: right;\n",
       "    }\n",
       "</style>\n",
       "<table border=\"1\" class=\"dataframe\">\n",
       "  <thead>\n",
       "    <tr style=\"text-align: right;\">\n",
       "      <th></th>\n",
       "      <th>emotion_label</th>\n",
       "    </tr>\n",
       "  </thead>\n",
       "  <tbody>\n",
       "    <tr>\n",
       "      <th>joy</th>\n",
       "      <td>12</td>\n",
       "    </tr>\n",
       "    <tr>\n",
       "      <th>fear</th>\n",
       "      <td>1</td>\n",
       "    </tr>\n",
       "    <tr>\n",
       "      <th>anger</th>\n",
       "      <td>1</td>\n",
       "    </tr>\n",
       "  </tbody>\n",
       "</table>\n",
       "</div>"
      ],
      "text/plain": [
       "       emotion_label\n",
       "joy               12\n",
       "fear               1\n",
       "anger              1"
      ]
     },
     "execution_count": 169,
     "metadata": {},
     "output_type": "execute_result"
    }
   ],
   "source": [
    "sbucks_i_coffee_emotions_df = pd.DataFrame(sbucks_i_coffee_emotion['emotion_label'].value_counts())\n",
    "sbucks_i_coffee_emotions_df"
   ]
  },
  {
   "cell_type": "markdown",
   "id": "cfd50e78-8efc-4e25-9d3c-4923cbedb051",
   "metadata": {},
   "source": [
    "### Sbucks Apple Crisp"
   ]
  },
  {
   "cell_type": "code",
   "execution_count": 170,
   "id": "258445a5-17e6-4c6b-a250-63ab69a69421",
   "metadata": {
    "tags": []
   },
   "outputs": [],
   "source": [
    "sbucks_a_crisp_emotion = emotion(sbucks_a_crisp)"
   ]
  },
  {
   "cell_type": "code",
   "execution_count": 171,
   "id": "bac1bcb9-85b8-4eec-a098-0d95b015f478",
   "metadata": {},
   "outputs": [
    {
     "data": {
      "text/html": [
       "<div>\n",
       "<style scoped>\n",
       "    .dataframe tbody tr th:only-of-type {\n",
       "        vertical-align: middle;\n",
       "    }\n",
       "\n",
       "    .dataframe tbody tr th {\n",
       "        vertical-align: top;\n",
       "    }\n",
       "\n",
       "    .dataframe thead th {\n",
       "        text-align: right;\n",
       "    }\n",
       "</style>\n",
       "<table border=\"1\" class=\"dataframe\">\n",
       "  <thead>\n",
       "    <tr style=\"text-align: right;\">\n",
       "      <th></th>\n",
       "      <th>subreddit</th>\n",
       "      <th>title</th>\n",
       "      <th>created_utc</th>\n",
       "      <th>tokenized</th>\n",
       "      <th>sentiment</th>\n",
       "      <th>sentiments</th>\n",
       "      <th>emotion</th>\n",
       "      <th>emotion_label</th>\n",
       "    </tr>\n",
       "  </thead>\n",
       "  <tbody>\n",
       "    <tr>\n",
       "      <th>2720</th>\n",
       "      <td>0</td>\n",
       "      <td>why does the apple crisp taste like straight c...</td>\n",
       "      <td>1663031317</td>\n",
       "      <td>[why, does, the, apple, crisp, taste, like, st...</td>\n",
       "      <td>[{'label': 'LABEL_0', 'score': 0.9693011045455...</td>\n",
       "      <td>negative</td>\n",
       "      <td>(sadness, 0.8599568605422974)</td>\n",
       "      <td>sadness</td>\n",
       "    </tr>\n",
       "    <tr>\n",
       "      <th>2735</th>\n",
       "      <td>0</td>\n",
       "      <td>apple crisp cold brew</td>\n",
       "      <td>1663023008</td>\n",
       "      <td>[apple, crisp, cold, brew]</td>\n",
       "      <td>[{'label': 'LABEL_1', 'score': 0.7091082930564...</td>\n",
       "      <td>neutral</td>\n",
       "      <td>(joy, 0.675248384475708)</td>\n",
       "      <td>joy</td>\n",
       "    </tr>\n",
       "    <tr>\n",
       "      <th>2967</th>\n",
       "      <td>0</td>\n",
       "      <td>omg the iced apple crisp mach</td>\n",
       "      <td>1662786469</td>\n",
       "      <td>[omg, the, iced, apple, crisp, mach]</td>\n",
       "      <td>[{'label': 'LABEL_1', 'score': 0.7784996032714...</td>\n",
       "      <td>neutral</td>\n",
       "      <td>(joy, 0.9870045781135559)</td>\n",
       "      <td>joy</td>\n",
       "    </tr>\n",
       "  </tbody>\n",
       "</table>\n",
       "</div>"
      ],
      "text/plain": [
       "      subreddit                                              title  \\\n",
       "2720          0  why does the apple crisp taste like straight c...   \n",
       "2735          0                              apple crisp cold brew   \n",
       "2967          0                      omg the iced apple crisp mach   \n",
       "\n",
       "      created_utc                                          tokenized  \\\n",
       "2720   1663031317  [why, does, the, apple, crisp, taste, like, st...   \n",
       "2735   1663023008                         [apple, crisp, cold, brew]   \n",
       "2967   1662786469               [omg, the, iced, apple, crisp, mach]   \n",
       "\n",
       "                                              sentiment sentiments  \\\n",
       "2720  [{'label': 'LABEL_0', 'score': 0.9693011045455...   negative   \n",
       "2735  [{'label': 'LABEL_1', 'score': 0.7091082930564...    neutral   \n",
       "2967  [{'label': 'LABEL_1', 'score': 0.7784996032714...    neutral   \n",
       "\n",
       "                            emotion emotion_label  \n",
       "2720  (sadness, 0.8599568605422974)       sadness  \n",
       "2735       (joy, 0.675248384475708)           joy  \n",
       "2967      (joy, 0.9870045781135559)           joy  "
      ]
     },
     "execution_count": 171,
     "metadata": {},
     "output_type": "execute_result"
    }
   ],
   "source": [
    "sbucks_a_crisp_emotion.head(3)"
   ]
  },
  {
   "cell_type": "code",
   "execution_count": 172,
   "id": "7f733c61-d344-497c-bb45-7bc52e9c4329",
   "metadata": {},
   "outputs": [
    {
     "data": {
      "text/plain": [
       "joy        13\n",
       "sadness     1\n",
       "anger       1\n",
       "Name: emotion_label, dtype: int64"
      ]
     },
     "execution_count": 172,
     "metadata": {},
     "output_type": "execute_result"
    }
   ],
   "source": [
    "sbucks_a_crisp_emotion['emotion_label'].value_counts()"
   ]
  },
  {
   "cell_type": "code",
   "execution_count": 173,
   "id": "68f27da1-086a-403f-9567-5efdd1e4722a",
   "metadata": {
    "tags": []
   },
   "outputs": [
    {
     "data": {
      "text/html": [
       "<div>\n",
       "<style scoped>\n",
       "    .dataframe tbody tr th:only-of-type {\n",
       "        vertical-align: middle;\n",
       "    }\n",
       "\n",
       "    .dataframe tbody tr th {\n",
       "        vertical-align: top;\n",
       "    }\n",
       "\n",
       "    .dataframe thead th {\n",
       "        text-align: right;\n",
       "    }\n",
       "</style>\n",
       "<table border=\"1\" class=\"dataframe\">\n",
       "  <thead>\n",
       "    <tr style=\"text-align: right;\">\n",
       "      <th></th>\n",
       "      <th>emotion_label</th>\n",
       "    </tr>\n",
       "  </thead>\n",
       "  <tbody>\n",
       "    <tr>\n",
       "      <th>joy</th>\n",
       "      <td>13</td>\n",
       "    </tr>\n",
       "    <tr>\n",
       "      <th>sadness</th>\n",
       "      <td>1</td>\n",
       "    </tr>\n",
       "    <tr>\n",
       "      <th>anger</th>\n",
       "      <td>1</td>\n",
       "    </tr>\n",
       "  </tbody>\n",
       "</table>\n",
       "</div>"
      ],
      "text/plain": [
       "         emotion_label\n",
       "joy                 13\n",
       "sadness              1\n",
       "anger                1"
      ]
     },
     "execution_count": 173,
     "metadata": {},
     "output_type": "execute_result"
    }
   ],
   "source": [
    "sbucks_a_crisp_emotions_df = pd.DataFrame(sbucks_a_crisp_emotion['emotion_label'].value_counts())\n",
    "sbucks_a_crisp_emotions_df"
   ]
  },
  {
   "cell_type": "markdown",
   "id": "fc0870b8-0cbc-4ae4-b778-180204709959",
   "metadata": {},
   "source": [
    "### Sbucks Fall Launch"
   ]
  },
  {
   "cell_type": "code",
   "execution_count": 174,
   "id": "85e43f45-64ba-4e37-9942-ae3bcb5085a7",
   "metadata": {
    "tags": []
   },
   "outputs": [],
   "source": [
    "sbucks_f_launch_emotion = emotion(sbucks_f_launch)"
   ]
  },
  {
   "cell_type": "code",
   "execution_count": 175,
   "id": "7fa6d70b-d073-4a0d-9166-879d52312334",
   "metadata": {},
   "outputs": [
    {
     "data": {
      "text/html": [
       "<div>\n",
       "<style scoped>\n",
       "    .dataframe tbody tr th:only-of-type {\n",
       "        vertical-align: middle;\n",
       "    }\n",
       "\n",
       "    .dataframe tbody tr th {\n",
       "        vertical-align: top;\n",
       "    }\n",
       "\n",
       "    .dataframe thead th {\n",
       "        text-align: right;\n",
       "    }\n",
       "</style>\n",
       "<table border=\"1\" class=\"dataframe\">\n",
       "  <thead>\n",
       "    <tr style=\"text-align: right;\">\n",
       "      <th></th>\n",
       "      <th>subreddit</th>\n",
       "      <th>title</th>\n",
       "      <th>created_utc</th>\n",
       "      <th>tokenized</th>\n",
       "      <th>sentiment</th>\n",
       "      <th>sentiments</th>\n",
       "      <th>emotion</th>\n",
       "      <th>emotion_label</th>\n",
       "    </tr>\n",
       "  </thead>\n",
       "  <tbody>\n",
       "    <tr>\n",
       "      <th>3113</th>\n",
       "      <td>0</td>\n",
       "      <td>fall drink that s not too sweet</td>\n",
       "      <td>1662682169</td>\n",
       "      <td>[fall, drink, that, s, not, too, sweet]</td>\n",
       "      <td>[{'label': 'LABEL_0', 'score': 0.4885034263134...</td>\n",
       "      <td>negative</td>\n",
       "      <td>(love, 0.9272189140319824)</td>\n",
       "      <td>love</td>\n",
       "    </tr>\n",
       "    <tr>\n",
       "      <th>3124</th>\n",
       "      <td>0</td>\n",
       "      <td>fall drink recs without coffee</td>\n",
       "      <td>1662676345</td>\n",
       "      <td>[fall, drink, recs, without, coffee]</td>\n",
       "      <td>[{'label': 'LABEL_1', 'score': 0.8270258307456...</td>\n",
       "      <td>neutral</td>\n",
       "      <td>(fear, 0.4539358913898468)</td>\n",
       "      <td>fear</td>\n",
       "    </tr>\n",
       "    <tr>\n",
       "      <th>3355</th>\n",
       "      <td>0</td>\n",
       "      <td>fall drinks central ohio</td>\n",
       "      <td>1662473112</td>\n",
       "      <td>[fall, drinks, central, ohio]</td>\n",
       "      <td>[{'label': 'LABEL_1', 'score': 0.8739259243011...</td>\n",
       "      <td>neutral</td>\n",
       "      <td>(anger, 0.5322497487068176)</td>\n",
       "      <td>anger</td>\n",
       "    </tr>\n",
       "  </tbody>\n",
       "</table>\n",
       "</div>"
      ],
      "text/plain": [
       "      subreddit                            title  created_utc  \\\n",
       "3113          0  fall drink that s not too sweet   1662682169   \n",
       "3124          0   fall drink recs without coffee   1662676345   \n",
       "3355          0         fall drinks central ohio   1662473112   \n",
       "\n",
       "                                    tokenized  \\\n",
       "3113  [fall, drink, that, s, not, too, sweet]   \n",
       "3124     [fall, drink, recs, without, coffee]   \n",
       "3355            [fall, drinks, central, ohio]   \n",
       "\n",
       "                                              sentiment sentiments  \\\n",
       "3113  [{'label': 'LABEL_0', 'score': 0.4885034263134...   negative   \n",
       "3124  [{'label': 'LABEL_1', 'score': 0.8270258307456...    neutral   \n",
       "3355  [{'label': 'LABEL_1', 'score': 0.8739259243011...    neutral   \n",
       "\n",
       "                          emotion emotion_label  \n",
       "3113   (love, 0.9272189140319824)          love  \n",
       "3124   (fear, 0.4539358913898468)          fear  \n",
       "3355  (anger, 0.5322497487068176)         anger  "
      ]
     },
     "execution_count": 175,
     "metadata": {},
     "output_type": "execute_result"
    }
   ],
   "source": [
    "sbucks_f_launch_emotion.head(3)"
   ]
  },
  {
   "cell_type": "code",
   "execution_count": 176,
   "id": "4de75e20-18d4-4f5c-affb-492fe7a1bbd3",
   "metadata": {},
   "outputs": [
    {
     "data": {
      "text/plain": [
       "anger      6\n",
       "joy        6\n",
       "fear       4\n",
       "love       1\n",
       "sadness    1\n",
       "Name: emotion_label, dtype: int64"
      ]
     },
     "execution_count": 176,
     "metadata": {},
     "output_type": "execute_result"
    }
   ],
   "source": [
    "sbucks_f_launch_emotion['emotion_label'].value_counts()"
   ]
  },
  {
   "cell_type": "code",
   "execution_count": 177,
   "id": "6680685e-c8ce-47e9-a4df-35bd197f9064",
   "metadata": {
    "tags": []
   },
   "outputs": [
    {
     "data": {
      "text/html": [
       "<div>\n",
       "<style scoped>\n",
       "    .dataframe tbody tr th:only-of-type {\n",
       "        vertical-align: middle;\n",
       "    }\n",
       "\n",
       "    .dataframe tbody tr th {\n",
       "        vertical-align: top;\n",
       "    }\n",
       "\n",
       "    .dataframe thead th {\n",
       "        text-align: right;\n",
       "    }\n",
       "</style>\n",
       "<table border=\"1\" class=\"dataframe\">\n",
       "  <thead>\n",
       "    <tr style=\"text-align: right;\">\n",
       "      <th></th>\n",
       "      <th>emotion_label</th>\n",
       "    </tr>\n",
       "  </thead>\n",
       "  <tbody>\n",
       "    <tr>\n",
       "      <th>anger</th>\n",
       "      <td>6</td>\n",
       "    </tr>\n",
       "    <tr>\n",
       "      <th>joy</th>\n",
       "      <td>6</td>\n",
       "    </tr>\n",
       "    <tr>\n",
       "      <th>fear</th>\n",
       "      <td>4</td>\n",
       "    </tr>\n",
       "    <tr>\n",
       "      <th>love</th>\n",
       "      <td>1</td>\n",
       "    </tr>\n",
       "    <tr>\n",
       "      <th>sadness</th>\n",
       "      <td>1</td>\n",
       "    </tr>\n",
       "  </tbody>\n",
       "</table>\n",
       "</div>"
      ],
      "text/plain": [
       "         emotion_label\n",
       "anger                6\n",
       "joy                  6\n",
       "fear                 4\n",
       "love                 1\n",
       "sadness              1"
      ]
     },
     "execution_count": 177,
     "metadata": {},
     "output_type": "execute_result"
    }
   ],
   "source": [
    "sbucks_f_launch_emotions_df = pd.DataFrame(sbucks_f_launch_emotion['emotion_label'].value_counts())\n",
    "sbucks_f_launch_emotions_df"
   ]
  },
  {
   "cell_type": "markdown",
   "id": "773dd3a7-b1b8-4401-8bdb-2a267d098142",
   "metadata": {
    "tags": []
   },
   "source": [
    "### Sbucks Reward"
   ]
  },
  {
   "cell_type": "code",
   "execution_count": 178,
   "id": "a5989471-6c91-4cc5-8240-473869613064",
   "metadata": {
    "tags": []
   },
   "outputs": [],
   "source": [
    "sbucks_reward_emotion = emotion(sbucks_reward)"
   ]
  },
  {
   "cell_type": "code",
   "execution_count": 179,
   "id": "52f4e66a-1a0f-40ad-8a23-2cba46685bc7",
   "metadata": {},
   "outputs": [
    {
     "data": {
      "text/html": [
       "<div>\n",
       "<style scoped>\n",
       "    .dataframe tbody tr th:only-of-type {\n",
       "        vertical-align: middle;\n",
       "    }\n",
       "\n",
       "    .dataframe tbody tr th {\n",
       "        vertical-align: top;\n",
       "    }\n",
       "\n",
       "    .dataframe thead th {\n",
       "        text-align: right;\n",
       "    }\n",
       "</style>\n",
       "<table border=\"1\" class=\"dataframe\">\n",
       "  <thead>\n",
       "    <tr style=\"text-align: right;\">\n",
       "      <th></th>\n",
       "      <th>subreddit</th>\n",
       "      <th>title</th>\n",
       "      <th>created_utc</th>\n",
       "      <th>tokenized</th>\n",
       "      <th>sentiment</th>\n",
       "      <th>sentiments</th>\n",
       "      <th>emotion</th>\n",
       "      <th>emotion_label</th>\n",
       "    </tr>\n",
       "  </thead>\n",
       "  <tbody>\n",
       "    <tr>\n",
       "      <th>2649</th>\n",
       "      <td>0</td>\n",
       "      <td>why do some starbucks stores not offer rewards...</td>\n",
       "      <td>1663099313</td>\n",
       "      <td>[why, do, some, starbucks, stores, not, offer,...</td>\n",
       "      <td>[{'label': 'LABEL_0', 'score': 0.5769333243370...</td>\n",
       "      <td>negative</td>\n",
       "      <td>(joy, 0.9923315048217773)</td>\n",
       "      <td>joy</td>\n",
       "    </tr>\n",
       "    <tr>\n",
       "      <th>2813</th>\n",
       "      <td>0</td>\n",
       "      <td>delicious free drink</td>\n",
       "      <td>1662939213</td>\n",
       "      <td>[delicious, free, drink]</td>\n",
       "      <td>[{'label': 'LABEL_2', 'score': 0.9467070102691...</td>\n",
       "      <td>positive</td>\n",
       "      <td>(joy, 0.9982126951217651)</td>\n",
       "      <td>joy</td>\n",
       "    </tr>\n",
       "    <tr>\n",
       "      <th>2870</th>\n",
       "      <td>0</td>\n",
       "      <td>free drink recommendation</td>\n",
       "      <td>1662890001</td>\n",
       "      <td>[free, drink, recommendation]</td>\n",
       "      <td>[{'label': 'LABEL_1', 'score': 0.7021298408508...</td>\n",
       "      <td>neutral</td>\n",
       "      <td>(joy, 0.9451428651809692)</td>\n",
       "      <td>joy</td>\n",
       "    </tr>\n",
       "  </tbody>\n",
       "</table>\n",
       "</div>"
      ],
      "text/plain": [
       "      subreddit                                              title  \\\n",
       "2649          0  why do some starbucks stores not offer rewards...   \n",
       "2813          0                               delicious free drink   \n",
       "2870          0                          free drink recommendation   \n",
       "\n",
       "      created_utc                                          tokenized  \\\n",
       "2649   1663099313  [why, do, some, starbucks, stores, not, offer,...   \n",
       "2813   1662939213                           [delicious, free, drink]   \n",
       "2870   1662890001                      [free, drink, recommendation]   \n",
       "\n",
       "                                              sentiment sentiments  \\\n",
       "2649  [{'label': 'LABEL_0', 'score': 0.5769333243370...   negative   \n",
       "2813  [{'label': 'LABEL_2', 'score': 0.9467070102691...   positive   \n",
       "2870  [{'label': 'LABEL_1', 'score': 0.7021298408508...    neutral   \n",
       "\n",
       "                        emotion emotion_label  \n",
       "2649  (joy, 0.9923315048217773)           joy  \n",
       "2813  (joy, 0.9982126951217651)           joy  \n",
       "2870  (joy, 0.9451428651809692)           joy  "
      ]
     },
     "execution_count": 179,
     "metadata": {},
     "output_type": "execute_result"
    }
   ],
   "source": [
    "sbucks_reward_emotion.head(3)"
   ]
  },
  {
   "cell_type": "code",
   "execution_count": 180,
   "id": "99d2d211-4316-480c-a7d0-79b7e77b9218",
   "metadata": {},
   "outputs": [
    {
     "data": {
      "text/plain": [
       "joy        11\n",
       "sadness     1\n",
       "anger       1\n",
       "Name: emotion_label, dtype: int64"
      ]
     },
     "execution_count": 180,
     "metadata": {},
     "output_type": "execute_result"
    }
   ],
   "source": [
    "sbucks_reward_emotion['emotion_label'].value_counts()"
   ]
  },
  {
   "cell_type": "code",
   "execution_count": 181,
   "id": "2c04dec0-2802-4c16-8fe0-ef5b853c1997",
   "metadata": {
    "tags": []
   },
   "outputs": [
    {
     "data": {
      "text/html": [
       "<div>\n",
       "<style scoped>\n",
       "    .dataframe tbody tr th:only-of-type {\n",
       "        vertical-align: middle;\n",
       "    }\n",
       "\n",
       "    .dataframe tbody tr th {\n",
       "        vertical-align: top;\n",
       "    }\n",
       "\n",
       "    .dataframe thead th {\n",
       "        text-align: right;\n",
       "    }\n",
       "</style>\n",
       "<table border=\"1\" class=\"dataframe\">\n",
       "  <thead>\n",
       "    <tr style=\"text-align: right;\">\n",
       "      <th></th>\n",
       "      <th>emotion_label</th>\n",
       "    </tr>\n",
       "  </thead>\n",
       "  <tbody>\n",
       "    <tr>\n",
       "      <th>joy</th>\n",
       "      <td>11</td>\n",
       "    </tr>\n",
       "    <tr>\n",
       "      <th>sadness</th>\n",
       "      <td>1</td>\n",
       "    </tr>\n",
       "    <tr>\n",
       "      <th>anger</th>\n",
       "      <td>1</td>\n",
       "    </tr>\n",
       "  </tbody>\n",
       "</table>\n",
       "</div>"
      ],
      "text/plain": [
       "         emotion_label\n",
       "joy                 11\n",
       "sadness              1\n",
       "anger                1"
      ]
     },
     "execution_count": 181,
     "metadata": {},
     "output_type": "execute_result"
    }
   ],
   "source": [
    "sbucks_reward_emotions_df = pd.DataFrame(sbucks_reward_emotion['emotion_label'].value_counts())\n",
    "sbucks_reward_emotions_df"
   ]
  },
  {
   "cell_type": "markdown",
   "id": "acc60d5a-e84a-49e7-a033-d6ef017358a1",
   "metadata": {},
   "source": [
    "### Sbucks Service"
   ]
  },
  {
   "cell_type": "code",
   "execution_count": 182,
   "id": "2ea1ed6b-2ed6-4be7-9695-fe45fcd6135c",
   "metadata": {
    "tags": []
   },
   "outputs": [],
   "source": [
    "sbucks_service_emotion = emotion(sbucks_service)"
   ]
  },
  {
   "cell_type": "code",
   "execution_count": 183,
   "id": "8d281aa4-f6ae-40b0-b910-094d1a2602cd",
   "metadata": {},
   "outputs": [
    {
     "data": {
      "text/html": [
       "<div>\n",
       "<style scoped>\n",
       "    .dataframe tbody tr th:only-of-type {\n",
       "        vertical-align: middle;\n",
       "    }\n",
       "\n",
       "    .dataframe tbody tr th {\n",
       "        vertical-align: top;\n",
       "    }\n",
       "\n",
       "    .dataframe thead th {\n",
       "        text-align: right;\n",
       "    }\n",
       "</style>\n",
       "<table border=\"1\" class=\"dataframe\">\n",
       "  <thead>\n",
       "    <tr style=\"text-align: right;\">\n",
       "      <th></th>\n",
       "      <th>subreddit</th>\n",
       "      <th>title</th>\n",
       "      <th>created_utc</th>\n",
       "      <th>tokenized</th>\n",
       "      <th>sentiment</th>\n",
       "      <th>sentiments</th>\n",
       "      <th>emotion</th>\n",
       "      <th>emotion_label</th>\n",
       "    </tr>\n",
       "  </thead>\n",
       "  <tbody>\n",
       "    <tr>\n",
       "      <th>2499</th>\n",
       "      <td>0</td>\n",
       "      <td>we had horses come through the drive thru rece...</td>\n",
       "      <td>1663212017</td>\n",
       "      <td>[we, had, horses, come, through, the, drive, t...</td>\n",
       "      <td>[{'label': 'LABEL_1', 'score': 0.8244970440864...</td>\n",
       "      <td>neutral</td>\n",
       "      <td>(joy, 0.7692987322807312)</td>\n",
       "      <td>joy</td>\n",
       "    </tr>\n",
       "    <tr>\n",
       "      <th>2500</th>\n",
       "      <td>0</td>\n",
       "      <td>having horses in the drive thru makes everythi...</td>\n",
       "      <td>1663211903</td>\n",
       "      <td>[having, horses, in, the, drive, thru, makes, ...</td>\n",
       "      <td>[{'label': 'LABEL_2', 'score': 0.9039303064346...</td>\n",
       "      <td>positive</td>\n",
       "      <td>(joy, 0.9976844787597656)</td>\n",
       "      <td>joy</td>\n",
       "    </tr>\n",
       "    <tr>\n",
       "      <th>2524</th>\n",
       "      <td>0</td>\n",
       "      <td>does the apple drizzle or brown sugar go good ...</td>\n",
       "      <td>1663198156</td>\n",
       "      <td>[does, the, apple, drizzle, or, brown, sugar, ...</td>\n",
       "      <td>[{'label': 'LABEL_2', 'score': 0.7906030416488...</td>\n",
       "      <td>positive</td>\n",
       "      <td>(joy, 0.9943510293960571)</td>\n",
       "      <td>joy</td>\n",
       "    </tr>\n",
       "  </tbody>\n",
       "</table>\n",
       "</div>"
      ],
      "text/plain": [
       "      subreddit                                              title  \\\n",
       "2499          0  we had horses come through the drive thru rece...   \n",
       "2500          0  having horses in the drive thru makes everythi...   \n",
       "2524          0  does the apple drizzle or brown sugar go good ...   \n",
       "\n",
       "      created_utc                                          tokenized  \\\n",
       "2499   1663212017  [we, had, horses, come, through, the, drive, t...   \n",
       "2500   1663211903  [having, horses, in, the, drive, thru, makes, ...   \n",
       "2524   1663198156  [does, the, apple, drizzle, or, brown, sugar, ...   \n",
       "\n",
       "                                              sentiment sentiments  \\\n",
       "2499  [{'label': 'LABEL_1', 'score': 0.8244970440864...    neutral   \n",
       "2500  [{'label': 'LABEL_2', 'score': 0.9039303064346...   positive   \n",
       "2524  [{'label': 'LABEL_2', 'score': 0.7906030416488...   positive   \n",
       "\n",
       "                        emotion emotion_label  \n",
       "2499  (joy, 0.7692987322807312)           joy  \n",
       "2500  (joy, 0.9976844787597656)           joy  \n",
       "2524  (joy, 0.9943510293960571)           joy  "
      ]
     },
     "execution_count": 183,
     "metadata": {},
     "output_type": "execute_result"
    }
   ],
   "source": [
    "sbucks_service_emotion.head(3)"
   ]
  },
  {
   "cell_type": "code",
   "execution_count": 184,
   "id": "a27587c9-a6e7-4704-9f4b-60183b8c5fcd",
   "metadata": {},
   "outputs": [
    {
     "data": {
      "text/plain": [
       "joy         119\n",
       "anger        77\n",
       "fear         11\n",
       "sadness       7\n",
       "surprise      3\n",
       "love          2\n",
       "Name: emotion_label, dtype: int64"
      ]
     },
     "execution_count": 184,
     "metadata": {},
     "output_type": "execute_result"
    }
   ],
   "source": [
    "sbucks_service_emotion['emotion_label'].value_counts()"
   ]
  },
  {
   "cell_type": "code",
   "execution_count": 185,
   "id": "8968ad57-dc6e-40ba-92e7-4042068c5bfb",
   "metadata": {
    "tags": []
   },
   "outputs": [
    {
     "data": {
      "text/html": [
       "<div>\n",
       "<style scoped>\n",
       "    .dataframe tbody tr th:only-of-type {\n",
       "        vertical-align: middle;\n",
       "    }\n",
       "\n",
       "    .dataframe tbody tr th {\n",
       "        vertical-align: top;\n",
       "    }\n",
       "\n",
       "    .dataframe thead th {\n",
       "        text-align: right;\n",
       "    }\n",
       "</style>\n",
       "<table border=\"1\" class=\"dataframe\">\n",
       "  <thead>\n",
       "    <tr style=\"text-align: right;\">\n",
       "      <th></th>\n",
       "      <th>emotion_label</th>\n",
       "    </tr>\n",
       "  </thead>\n",
       "  <tbody>\n",
       "    <tr>\n",
       "      <th>joy</th>\n",
       "      <td>119</td>\n",
       "    </tr>\n",
       "    <tr>\n",
       "      <th>anger</th>\n",
       "      <td>77</td>\n",
       "    </tr>\n",
       "    <tr>\n",
       "      <th>fear</th>\n",
       "      <td>11</td>\n",
       "    </tr>\n",
       "    <tr>\n",
       "      <th>sadness</th>\n",
       "      <td>7</td>\n",
       "    </tr>\n",
       "    <tr>\n",
       "      <th>surprise</th>\n",
       "      <td>3</td>\n",
       "    </tr>\n",
       "    <tr>\n",
       "      <th>love</th>\n",
       "      <td>2</td>\n",
       "    </tr>\n",
       "  </tbody>\n",
       "</table>\n",
       "</div>"
      ],
      "text/plain": [
       "          emotion_label\n",
       "joy                 119\n",
       "anger                77\n",
       "fear                 11\n",
       "sadness               7\n",
       "surprise              3\n",
       "love                  2"
      ]
     },
     "execution_count": 185,
     "metadata": {},
     "output_type": "execute_result"
    }
   ],
   "source": [
    "sbucks_service_emotions_df = pd.DataFrame(sbucks_service_emotion['emotion_label'].value_counts())\n",
    "sbucks_service_emotions_df"
   ]
  },
  {
   "cell_type": "markdown",
   "id": "15802449-1c82-471c-bccc-aecf96d0799f",
   "metadata": {},
   "source": [
    "### Sbucks Barista"
   ]
  },
  {
   "cell_type": "code",
   "execution_count": 186,
   "id": "8a8e0472-f560-4dbe-a167-272c4fbb27ed",
   "metadata": {
    "tags": []
   },
   "outputs": [],
   "source": [
    "sbucks_barista_emotion = emotion(sbucks_barista)"
   ]
  },
  {
   "cell_type": "code",
   "execution_count": 187,
   "id": "0de3f360-398e-4fb9-aa0a-be4e7ecfb3ed",
   "metadata": {},
   "outputs": [
    {
     "data": {
      "text/html": [
       "<div>\n",
       "<style scoped>\n",
       "    .dataframe tbody tr th:only-of-type {\n",
       "        vertical-align: middle;\n",
       "    }\n",
       "\n",
       "    .dataframe tbody tr th {\n",
       "        vertical-align: top;\n",
       "    }\n",
       "\n",
       "    .dataframe thead th {\n",
       "        text-align: right;\n",
       "    }\n",
       "</style>\n",
       "<table border=\"1\" class=\"dataframe\">\n",
       "  <thead>\n",
       "    <tr style=\"text-align: right;\">\n",
       "      <th></th>\n",
       "      <th>subreddit</th>\n",
       "      <th>title</th>\n",
       "      <th>created_utc</th>\n",
       "      <th>tokenized</th>\n",
       "      <th>sentiment</th>\n",
       "      <th>sentiments</th>\n",
       "      <th>emotion</th>\n",
       "      <th>emotion_label</th>\n",
       "    </tr>\n",
       "  </thead>\n",
       "  <tbody>\n",
       "    <tr>\n",
       "      <th>2511</th>\n",
       "      <td>0</td>\n",
       "      <td>baristas what made you smile at work today</td>\n",
       "      <td>1663206743</td>\n",
       "      <td>[baristas, what, made, you, smile, at, work, t...</td>\n",
       "      <td>[{'label': 'LABEL_2', 'score': 0.8832364678382...</td>\n",
       "      <td>positive</td>\n",
       "      <td>(joy, 0.9457607865333557)</td>\n",
       "      <td>joy</td>\n",
       "    </tr>\n",
       "    <tr>\n",
       "      <th>2520</th>\n",
       "      <td>0</td>\n",
       "      <td>question for baristas</td>\n",
       "      <td>1663200077</td>\n",
       "      <td>[question, for, baristas]</td>\n",
       "      <td>[{'label': 'LABEL_1', 'score': 0.7694525718688...</td>\n",
       "      <td>neutral</td>\n",
       "      <td>(anger, 0.9686592817306519)</td>\n",
       "      <td>anger</td>\n",
       "    </tr>\n",
       "    <tr>\n",
       "      <th>2550</th>\n",
       "      <td>0</td>\n",
       "      <td>it s not the baristas fault</td>\n",
       "      <td>1663182394</td>\n",
       "      <td>[it, s, not, the, baristas, fault]</td>\n",
       "      <td>[{'label': 'LABEL_1', 'score': 0.5979842543601...</td>\n",
       "      <td>neutral</td>\n",
       "      <td>(anger, 0.9816750884056091)</td>\n",
       "      <td>anger</td>\n",
       "    </tr>\n",
       "  </tbody>\n",
       "</table>\n",
       "</div>"
      ],
      "text/plain": [
       "      subreddit                                       title  created_utc  \\\n",
       "2511          0  baristas what made you smile at work today   1663206743   \n",
       "2520          0                       question for baristas   1663200077   \n",
       "2550          0                 it s not the baristas fault   1663182394   \n",
       "\n",
       "                                              tokenized  \\\n",
       "2511  [baristas, what, made, you, smile, at, work, t...   \n",
       "2520                          [question, for, baristas]   \n",
       "2550                 [it, s, not, the, baristas, fault]   \n",
       "\n",
       "                                              sentiment sentiments  \\\n",
       "2511  [{'label': 'LABEL_2', 'score': 0.8832364678382...   positive   \n",
       "2520  [{'label': 'LABEL_1', 'score': 0.7694525718688...    neutral   \n",
       "2550  [{'label': 'LABEL_1', 'score': 0.5979842543601...    neutral   \n",
       "\n",
       "                          emotion emotion_label  \n",
       "2511    (joy, 0.9457607865333557)           joy  \n",
       "2520  (anger, 0.9686592817306519)         anger  \n",
       "2550  (anger, 0.9816750884056091)         anger  "
      ]
     },
     "execution_count": 187,
     "metadata": {},
     "output_type": "execute_result"
    }
   ],
   "source": [
    "sbucks_barista_emotion.head(3)"
   ]
  },
  {
   "cell_type": "code",
   "execution_count": 188,
   "id": "cc717764-de6c-4cac-88a2-6d48dfdb3e48",
   "metadata": {},
   "outputs": [
    {
     "data": {
      "text/plain": [
       "joy         63\n",
       "anger       37\n",
       "sadness      9\n",
       "fear         4\n",
       "surprise     3\n",
       "love         3\n",
       "Name: emotion_label, dtype: int64"
      ]
     },
     "execution_count": 188,
     "metadata": {},
     "output_type": "execute_result"
    }
   ],
   "source": [
    "sbucks_barista_emotion['emotion_label'].value_counts()"
   ]
  },
  {
   "cell_type": "code",
   "execution_count": 189,
   "id": "fedb2b8c-7e68-46ee-adba-775c0ca8621a",
   "metadata": {
    "tags": []
   },
   "outputs": [
    {
     "data": {
      "text/html": [
       "<div>\n",
       "<style scoped>\n",
       "    .dataframe tbody tr th:only-of-type {\n",
       "        vertical-align: middle;\n",
       "    }\n",
       "\n",
       "    .dataframe tbody tr th {\n",
       "        vertical-align: top;\n",
       "    }\n",
       "\n",
       "    .dataframe thead th {\n",
       "        text-align: right;\n",
       "    }\n",
       "</style>\n",
       "<table border=\"1\" class=\"dataframe\">\n",
       "  <thead>\n",
       "    <tr style=\"text-align: right;\">\n",
       "      <th></th>\n",
       "      <th>emotion_label</th>\n",
       "    </tr>\n",
       "  </thead>\n",
       "  <tbody>\n",
       "    <tr>\n",
       "      <th>joy</th>\n",
       "      <td>63</td>\n",
       "    </tr>\n",
       "    <tr>\n",
       "      <th>anger</th>\n",
       "      <td>37</td>\n",
       "    </tr>\n",
       "    <tr>\n",
       "      <th>sadness</th>\n",
       "      <td>9</td>\n",
       "    </tr>\n",
       "    <tr>\n",
       "      <th>fear</th>\n",
       "      <td>4</td>\n",
       "    </tr>\n",
       "    <tr>\n",
       "      <th>surprise</th>\n",
       "      <td>3</td>\n",
       "    </tr>\n",
       "    <tr>\n",
       "      <th>love</th>\n",
       "      <td>3</td>\n",
       "    </tr>\n",
       "  </tbody>\n",
       "</table>\n",
       "</div>"
      ],
      "text/plain": [
       "          emotion_label\n",
       "joy                  63\n",
       "anger                37\n",
       "sadness               9\n",
       "fear                  4\n",
       "surprise              3\n",
       "love                  3"
      ]
     },
     "execution_count": 189,
     "metadata": {},
     "output_type": "execute_result"
    }
   ],
   "source": [
    "sbucks_barista_emotions_df = pd.DataFrame(sbucks_barista_emotion['emotion_label'].value_counts())\n",
    "sbucks_barista_emotions_df"
   ]
  },
  {
   "cell_type": "markdown",
   "id": "bffbce00-fefa-4cdb-b78b-35587cf5b651",
   "metadata": {},
   "source": [
    "### Summary"
   ]
  },
  {
   "cell_type": "code",
   "execution_count": 190,
   "id": "9d5fecb0-9f8c-4487-83a7-9772e3add42a",
   "metadata": {},
   "outputs": [],
   "source": [
    "sbucks_cols = [\"Overall\", \"Dress_Code\", \"Pumpkin_Spice\", \"Cold_Brew\", \"Iced_Coffee\", \"Apple_Crisp\", \"Fall_launch\", \"Sbucks_Reward\", \"Sbucks_Service\", \"Sbucks_Barista\"]\n",
    "sbucks_emotions = pd.concat([sbucks_emotions_df, sbucks_dress_emotions_df, sbucks_p_spice_emotions_df, sbucks_c_brew_emotions_df, sbucks_i_coffee_emotions_df, \n",
    "                             sbucks_a_crisp_emotions_df, sbucks_f_launch_emotions_df, sbucks_reward_emotions_df, sbucks_service_emotions_df, sbucks_barista_emotions_df], axis=1, ignore_index=True)\n",
    "sbucks_emotions.columns = sbucks_cols"
   ]
  },
  {
   "cell_type": "code",
   "execution_count": 191,
   "id": "44b0246f-deca-4919-96e0-831bf5719335",
   "metadata": {},
   "outputs": [
    {
     "data": {
      "text/html": [
       "<div>\n",
       "<style scoped>\n",
       "    .dataframe tbody tr th:only-of-type {\n",
       "        vertical-align: middle;\n",
       "    }\n",
       "\n",
       "    .dataframe tbody tr th {\n",
       "        vertical-align: top;\n",
       "    }\n",
       "\n",
       "    .dataframe thead th {\n",
       "        text-align: right;\n",
       "    }\n",
       "</style>\n",
       "<table border=\"1\" class=\"dataframe\">\n",
       "  <thead>\n",
       "    <tr style=\"text-align: right;\">\n",
       "      <th></th>\n",
       "      <th>Overall</th>\n",
       "      <th>Dress_Code</th>\n",
       "      <th>Pumpkin_Spice</th>\n",
       "      <th>Cold_Brew</th>\n",
       "      <th>Iced_Coffee</th>\n",
       "      <th>Apple_Crisp</th>\n",
       "      <th>Fall_launch</th>\n",
       "      <th>Sbucks_Reward</th>\n",
       "      <th>Sbucks_Service</th>\n",
       "      <th>Sbucks_Barista</th>\n",
       "    </tr>\n",
       "  </thead>\n",
       "  <tbody>\n",
       "    <tr>\n",
       "      <th>anger</th>\n",
       "      <td>894</td>\n",
       "      <td>20.0</td>\n",
       "      <td>10.0</td>\n",
       "      <td>33</td>\n",
       "      <td>1.0</td>\n",
       "      <td>1.0</td>\n",
       "      <td>6.0</td>\n",
       "      <td>1.0</td>\n",
       "      <td>77</td>\n",
       "      <td>37</td>\n",
       "    </tr>\n",
       "    <tr>\n",
       "      <th>joy</th>\n",
       "      <td>803</td>\n",
       "      <td>15.0</td>\n",
       "      <td>29.0</td>\n",
       "      <td>8</td>\n",
       "      <td>12.0</td>\n",
       "      <td>13.0</td>\n",
       "      <td>6.0</td>\n",
       "      <td>11.0</td>\n",
       "      <td>119</td>\n",
       "      <td>63</td>\n",
       "    </tr>\n",
       "    <tr>\n",
       "      <th>fear</th>\n",
       "      <td>156</td>\n",
       "      <td>NaN</td>\n",
       "      <td>2.0</td>\n",
       "      <td>1</td>\n",
       "      <td>1.0</td>\n",
       "      <td>NaN</td>\n",
       "      <td>4.0</td>\n",
       "      <td>NaN</td>\n",
       "      <td>11</td>\n",
       "      <td>4</td>\n",
       "    </tr>\n",
       "    <tr>\n",
       "      <th>sadness</th>\n",
       "      <td>94</td>\n",
       "      <td>1.0</td>\n",
       "      <td>NaN</td>\n",
       "      <td>1</td>\n",
       "      <td>NaN</td>\n",
       "      <td>1.0</td>\n",
       "      <td>1.0</td>\n",
       "      <td>1.0</td>\n",
       "      <td>7</td>\n",
       "      <td>9</td>\n",
       "    </tr>\n",
       "    <tr>\n",
       "      <th>love</th>\n",
       "      <td>38</td>\n",
       "      <td>NaN</td>\n",
       "      <td>2.0</td>\n",
       "      <td>2</td>\n",
       "      <td>NaN</td>\n",
       "      <td>NaN</td>\n",
       "      <td>1.0</td>\n",
       "      <td>NaN</td>\n",
       "      <td>2</td>\n",
       "      <td>3</td>\n",
       "    </tr>\n",
       "    <tr>\n",
       "      <th>surprise</th>\n",
       "      <td>15</td>\n",
       "      <td>NaN</td>\n",
       "      <td>NaN</td>\n",
       "      <td>1</td>\n",
       "      <td>NaN</td>\n",
       "      <td>NaN</td>\n",
       "      <td>NaN</td>\n",
       "      <td>NaN</td>\n",
       "      <td>3</td>\n",
       "      <td>3</td>\n",
       "    </tr>\n",
       "  </tbody>\n",
       "</table>\n",
       "</div>"
      ],
      "text/plain": [
       "          Overall  Dress_Code  Pumpkin_Spice  Cold_Brew  Iced_Coffee  \\\n",
       "anger         894        20.0           10.0         33          1.0   \n",
       "joy           803        15.0           29.0          8         12.0   \n",
       "fear          156         NaN            2.0          1          1.0   \n",
       "sadness        94         1.0            NaN          1          NaN   \n",
       "love           38         NaN            2.0          2          NaN   \n",
       "surprise       15         NaN            NaN          1          NaN   \n",
       "\n",
       "          Apple_Crisp  Fall_launch  Sbucks_Reward  Sbucks_Service  \\\n",
       "anger             1.0          6.0            1.0              77   \n",
       "joy              13.0          6.0           11.0             119   \n",
       "fear              NaN          4.0            NaN              11   \n",
       "sadness           1.0          1.0            1.0               7   \n",
       "love              NaN          1.0            NaN               2   \n",
       "surprise          NaN          NaN            NaN               3   \n",
       "\n",
       "          Sbucks_Barista  \n",
       "anger                 37  \n",
       "joy                   63  \n",
       "fear                   4  \n",
       "sadness                9  \n",
       "love                   3  \n",
       "surprise               3  "
      ]
     },
     "execution_count": 191,
     "metadata": {},
     "output_type": "execute_result"
    }
   ],
   "source": [
    "sbucks_emotions"
   ]
  },
  {
   "cell_type": "code",
   "execution_count": 192,
   "id": "8615c7bd-8e54-406e-bc2b-aefd2b0a5f06",
   "metadata": {},
   "outputs": [],
   "source": [
    "sbucks_emotions = sbucks_emotions.fillna(0)"
   ]
  },
  {
   "cell_type": "code",
   "execution_count": 193,
   "id": "baf7e67f-c091-45b4-9c27-39a32cd6fac0",
   "metadata": {},
   "outputs": [
    {
     "data": {
      "text/html": [
       "<div>\n",
       "<style scoped>\n",
       "    .dataframe tbody tr th:only-of-type {\n",
       "        vertical-align: middle;\n",
       "    }\n",
       "\n",
       "    .dataframe tbody tr th {\n",
       "        vertical-align: top;\n",
       "    }\n",
       "\n",
       "    .dataframe thead th {\n",
       "        text-align: right;\n",
       "    }\n",
       "</style>\n",
       "<table border=\"1\" class=\"dataframe\">\n",
       "  <thead>\n",
       "    <tr style=\"text-align: right;\">\n",
       "      <th></th>\n",
       "      <th>Overall</th>\n",
       "      <th>Dress_Code</th>\n",
       "      <th>Pumpkin_Spice</th>\n",
       "      <th>Cold_Brew</th>\n",
       "      <th>Iced_Coffee</th>\n",
       "      <th>Apple_Crisp</th>\n",
       "      <th>Fall_launch</th>\n",
       "      <th>Sbucks_Reward</th>\n",
       "      <th>Sbucks_Service</th>\n",
       "      <th>Sbucks_Barista</th>\n",
       "    </tr>\n",
       "  </thead>\n",
       "  <tbody>\n",
       "    <tr>\n",
       "      <th>anger</th>\n",
       "      <td>0.45</td>\n",
       "      <td>0.56</td>\n",
       "      <td>0.23</td>\n",
       "      <td>0.72</td>\n",
       "      <td>0.07</td>\n",
       "      <td>0.07</td>\n",
       "      <td>0.33</td>\n",
       "      <td>0.08</td>\n",
       "      <td>0.35</td>\n",
       "      <td>0.31</td>\n",
       "    </tr>\n",
       "    <tr>\n",
       "      <th>joy</th>\n",
       "      <td>0.40</td>\n",
       "      <td>0.42</td>\n",
       "      <td>0.67</td>\n",
       "      <td>0.17</td>\n",
       "      <td>0.86</td>\n",
       "      <td>0.87</td>\n",
       "      <td>0.33</td>\n",
       "      <td>0.85</td>\n",
       "      <td>0.54</td>\n",
       "      <td>0.53</td>\n",
       "    </tr>\n",
       "    <tr>\n",
       "      <th>fear</th>\n",
       "      <td>0.08</td>\n",
       "      <td>0.00</td>\n",
       "      <td>0.05</td>\n",
       "      <td>0.02</td>\n",
       "      <td>0.07</td>\n",
       "      <td>0.00</td>\n",
       "      <td>0.22</td>\n",
       "      <td>0.00</td>\n",
       "      <td>0.05</td>\n",
       "      <td>0.03</td>\n",
       "    </tr>\n",
       "    <tr>\n",
       "      <th>sadness</th>\n",
       "      <td>0.05</td>\n",
       "      <td>0.03</td>\n",
       "      <td>0.00</td>\n",
       "      <td>0.02</td>\n",
       "      <td>0.00</td>\n",
       "      <td>0.07</td>\n",
       "      <td>0.06</td>\n",
       "      <td>0.08</td>\n",
       "      <td>0.03</td>\n",
       "      <td>0.08</td>\n",
       "    </tr>\n",
       "    <tr>\n",
       "      <th>love</th>\n",
       "      <td>0.02</td>\n",
       "      <td>0.00</td>\n",
       "      <td>0.05</td>\n",
       "      <td>0.04</td>\n",
       "      <td>0.00</td>\n",
       "      <td>0.00</td>\n",
       "      <td>0.06</td>\n",
       "      <td>0.00</td>\n",
       "      <td>0.01</td>\n",
       "      <td>0.03</td>\n",
       "    </tr>\n",
       "    <tr>\n",
       "      <th>surprise</th>\n",
       "      <td>0.01</td>\n",
       "      <td>0.00</td>\n",
       "      <td>0.00</td>\n",
       "      <td>0.02</td>\n",
       "      <td>0.00</td>\n",
       "      <td>0.00</td>\n",
       "      <td>0.00</td>\n",
       "      <td>0.00</td>\n",
       "      <td>0.01</td>\n",
       "      <td>0.03</td>\n",
       "    </tr>\n",
       "  </tbody>\n",
       "</table>\n",
       "</div>"
      ],
      "text/plain": [
       "          Overall  Dress_Code  Pumpkin_Spice  Cold_Brew  Iced_Coffee  \\\n",
       "anger        0.45        0.56           0.23       0.72         0.07   \n",
       "joy          0.40        0.42           0.67       0.17         0.86   \n",
       "fear         0.08        0.00           0.05       0.02         0.07   \n",
       "sadness      0.05        0.03           0.00       0.02         0.00   \n",
       "love         0.02        0.00           0.05       0.04         0.00   \n",
       "surprise     0.01        0.00           0.00       0.02         0.00   \n",
       "\n",
       "          Apple_Crisp  Fall_launch  Sbucks_Reward  Sbucks_Service  \\\n",
       "anger            0.07         0.33           0.08            0.35   \n",
       "joy              0.87         0.33           0.85            0.54   \n",
       "fear             0.00         0.22           0.00            0.05   \n",
       "sadness          0.07         0.06           0.08            0.03   \n",
       "love             0.00         0.06           0.00            0.01   \n",
       "surprise         0.00         0.00           0.00            0.01   \n",
       "\n",
       "          Sbucks_Barista  \n",
       "anger               0.31  \n",
       "joy                 0.53  \n",
       "fear                0.03  \n",
       "sadness             0.08  \n",
       "love                0.03  \n",
       "surprise            0.03  "
      ]
     },
     "execution_count": 193,
     "metadata": {},
     "output_type": "execute_result"
    }
   ],
   "source": [
    "sbucks_emotions_pct = round(sbucks_emotions/sbucks_emotions.sum(), 2)\n",
    "sbucks_emotions_pct"
   ]
  },
  {
   "cell_type": "markdown",
   "id": "e392e581-ea25-4710-9166-24b72c9f3126",
   "metadata": {},
   "source": [
    "Points to note:\n",
    "- Most posts are characterized as anger post.\n",
    "- Services from Starbucks posts are regarded as joy post, as different from sentiment.\n",
    "- Iced coffee is labelled as joy post, contradict to sentiment."
   ]
  },
  {
   "cell_type": "markdown",
   "id": "bb4a3646-67b1-44af-92e3-b6a1ad5fc095",
   "metadata": {},
   "source": [
    "## Sentiment and Emotion Analysis Plot"
   ]
  },
  {
   "cell_type": "markdown",
   "id": "adbcabc6-cbe3-4d41-b01f-f93d56c8aee6",
   "metadata": {},
   "source": [
    "### Sentiments"
   ]
  },
  {
   "cell_type": "code",
   "execution_count": 194,
   "id": "e92afa17-2646-4e1b-a04c-bfc2bdbcff61",
   "metadata": {},
   "outputs": [
    {
     "data": {
      "text/plain": [
       "<function matplotlib.pyplot.show(close=None, block=None)>"
      ]
     },
     "execution_count": 194,
     "metadata": {},
     "output_type": "execute_result"
    },
    {
     "data": {
      "image/png": "[encoded data removed]",
      "text/plain": [
       "<Figure size 432x288 with 2 Axes>"
      ]
     },
     "metadata": {
      "needs_background": "light"
     },
     "output_type": "display_data"
    }
   ],
   "source": [
    "sns.heatmap(dunkin_sentiments_pct, cmap = 'coolwarm', annot = True)\n",
    "plt.ylabel(\"Sentiments\")\n",
    "plt.xlabel(\"Topics\")\n",
    "plt.title(\"Dunkin Donuts Sentiments\")\n",
    "plt.show"
   ]
  },
  {
   "cell_type": "code",
   "execution_count": 195,
   "id": "e6e72b34-a23f-4f47-8bc2-d1272f462c95",
   "metadata": {},
   "outputs": [
    {
     "data": {
      "text/plain": [
       "<function matplotlib.pyplot.show(close=None, block=None)>"
      ]
     },
     "execution_count": 195,
     "metadata": {},
     "output_type": "execute_result"
    },
    {
     "data": {
      "image/png": "[encoded data removed]",
      "text/plain": [
       "<Figure size 432x288 with 2 Axes>"
      ]
     },
     "metadata": {
      "needs_background": "light"
     },
     "output_type": "display_data"
    }
   ],
   "source": [
    "sns.heatmap(sbucks_sentiments_pct, cmap = 'coolwarm', annot = True)\n",
    "plt.ylabel(\"Sentiments\")\n",
    "plt.xlabel(\"Topics\")\n",
    "plt.title(\"Starbucks Sentiments\")\n",
    "plt.show"
   ]
  },
  {
   "cell_type": "markdown",
   "id": "05f57ca2-aabc-4171-abff-ea5d74a89483",
   "metadata": {},
   "source": [
    "Model: twitter-XLM-roBERTa-base for Sentiment Analysis - trained on tweets and finetuned for sentiment analysis\n",
    "\n",
    "Dunkin Donuts: Majority of the post (65%) are classified as neutral. From overall random 2000 samples, there are more negative posts than positive posts in average. Out of the four products, two have higher positive posts while another two have more negative posts. Reward system seems to receive more positive sentiments. However, Dunkin' service and local Dunkin have higher percentage of negative sentiments.  \n",
    "\n",
    "Starbucks: Majority of the post are classified as neutral and there are more negative posts among the 2000 samples. Their service is getting slightly more negative sentiments than positive ones, but lower percentage as Dunkin'. Similarly, out of the four products, two have higher positive posts while another two have more negative posts. The reward system receives more positive sentiments but lower than Dunkin'. Their new dress code and barista are getting more negative posts. The upcoming fall launch is receiving significant positive sentiments and people seems looking forward to it."
   ]
  },
  {
   "cell_type": "markdown",
   "id": "c768bad1-4448-4f86-a02a-eb9067b49e92",
   "metadata": {},
   "source": [
    "### Emotions"
   ]
  },
  {
   "cell_type": "code",
   "execution_count": 196,
   "id": "be9b2424-2533-4543-a3d7-c8883f37e369",
   "metadata": {},
   "outputs": [
    {
     "data": {
      "text/plain": [
       "<function matplotlib.pyplot.show(close=None, block=None)>"
      ]
     },
     "execution_count": 196,
     "metadata": {},
     "output_type": "execute_result"
    },
    {
     "data": {
      "image/png": "[encoded data removed]",
      "text/plain": [
       "<Figure size 432x288 with 2 Axes>"
      ]
     },
     "metadata": {
      "needs_background": "light"
     },
     "output_type": "display_data"
    }
   ],
   "source": [
    "sns.heatmap(dunkin_emotions_pct, cmap = 'coolwarm', annot = True)\n",
    "plt.ylabel(\"Emotions\")\n",
    "plt.xlabel(\"Topics\")\n",
    "plt.title(\"Dunkin Donuts Emotions\")\n",
    "plt.show"
   ]
  },
  {
   "cell_type": "code",
   "execution_count": 197,
   "id": "b15b94e2-1f63-464d-a23b-f473faef620b",
   "metadata": {},
   "outputs": [
    {
     "data": {
      "text/plain": [
       "<function matplotlib.pyplot.show(close=None, block=None)>"
      ]
     },
     "execution_count": 197,
     "metadata": {},
     "output_type": "execute_result"
    },
    {
     "data": {
      "image/png": "[encoded data removed]",
      "text/plain": [
       "<Figure size 432x288 with 2 Axes>"
      ]
     },
     "metadata": {
      "needs_background": "light"
     },
     "output_type": "display_data"
    }
   ],
   "source": [
    "sns.heatmap(sbucks_emotions_pct, cmap = 'coolwarm', annot = True)\n",
    "plt.ylabel(\"Emotions\")\n",
    "plt.xlabel(\"Topics\")\n",
    "plt.title(\"Starbucks Emotions\")\n",
    "plt.show"
   ]
  },
  {
   "cell_type": "markdown",
   "id": "024e805b-6b46-4c6e-93b2-f0ffce2dd654",
   "metadata": {},
   "source": [
    "Model used: Bert-base-uncased-emotion - bert model for emotion analysis\n",
    "\n",
    "Dunkin: 'Joy' seems to be the dominant emotion classified for 2000 samples in overall. This is controversial when sentiments are more negative. Another odd - Dunkin' Service which is classified as 'Joy' when sentiments are more negative. 'Love' emotion is classified for Barista when sentiments are mainly neutral. In our opinion, Sentiments Analysis might be more meaningful from high level, most posts supposed to be neutral such as questions, facts or news. These posts are less likely to elicit emotions. \n",
    "\n",
    "Starbucks: Surprisingly, 'anger' seems to be the dominant emotions classfied for the 2000 samples in overall. The emotions seem to contradict to some of the sentiments analysis done earlier, such as for apple crisp, fall launch, service and barista. One interesting note is that 'fear' factor is significant for fall launch. "
   ]
  },
  {
   "cell_type": "markdown",
   "id": "dc685e5f-2bdb-4142-9955-3b31b57d5f33",
   "metadata": {},
   "source": [
    "## Summary\n",
    "In Summary, the results from our sentiment and emotion analysis could be useful to answer the problem statement. General speaking, the results from sentiments analysis seem to be a better representative than the emotions analysis due to the neutral nature of most posts. Reward is the topic that generate more positive sentiments for both coffee chains. However, service seems to be a less well-received topic, possibly due to complaints or issues. This might also true for topic local Dunkin. Starbucks fall launch seems to be well received and it gains favor attention within community. These are some insights that could be useful for our client's marketing campaign."
   ]
  },
  {
   "cell_type": "markdown",
   "id": "a8315dc6-f3ee-4657-9523-cc37d5aaa266",
   "metadata": {},
   "source": [
    "# Conclusion and Recommendation"
   ]
  },
  {
   "cell_type": "markdown",
   "id": "5e66e83b-2be4-4a1a-8e8c-19a5627bcfb2",
   "metadata": {},
   "source": [
    "## Conclusion\n",
    "Based on our research, we can conclude that Starbucks is the more popular among the two. Nevertheless, Dunkin' has quite huge and stable community and is able to further expand to more potential markets. The topics of interest for Dunkin seems to be reward system and some of their products. Iced coffee and butter pecan have been given more positive sentiments. Starbucks upcoming fall launch also seems to be well-received. \n",
    "\n",
    "Our sentiments and emotions analysis also indicate that most community posts are neutral in nature. In order to create a solution for the the website moderator, we will use a Logistic Regression Model that is trained on variety relevant sorting topics reddit posts to distinguish the topics."
   ]
  },
  {
   "cell_type": "markdown",
   "id": "7c08bfb8-58ba-4e76-a683-62f7722deb39",
   "metadata": {},
   "source": [
    "## Limitations\n",
    "Both coffee chains tend to have very similar topics as well as same words that appear prominently in many of their posts as they are both very similar in nature. These words that appear commonly in both topics - such as coffee, beverages and reward? could be factors that limit our predictions.\n",
    "\n",
    "Emotions analysis seem to be ineffective in giving accurate outcomes due to the neutral nature of most post on reddit and might not be effective in predicting titles that relate to questions, news and facts."
   ]
  },
  {
   "cell_type": "markdown",
   "id": "7f910c46-6b4b-4e68-918a-68173fe2e195",
   "metadata": {},
   "source": [
    "## Recommendation\n",
    "Marketing Campaign:\n",
    "- Allocate more resources to iced coffee and butter pecan, these are generally well-received and could be main focus for marketing\n",
    "- Try partner with influencer to promote new launch for upcoming fall\n",
    "- Prioritize attractive Reward \n",
    "\n",
    "Social Media categorisation:\n",
    "- A Logistic Regression Model can be implemented to help with the classifying of documents\n",
    "\n",
    "Future Work:\n",
    "- Retrieve more data from Reddit such as Comments, Upvote and Hot\n",
    "- Retrieve data from other sources such as other Tiktok, Twitter and Facebook\n",
    "- Utilising GPU/cloud service to process a bigger data volume"
   ]
  },
  {
   "cell_type": "code",
   "execution_count": null,
   "id": "3f957e80",
   "metadata": {},
   "outputs": [],
   "source": []
  }
 ],
 "metadata": {
  "kernelspec": {
   "display_name": "Python 3 (ipykernel)",
   "language": "python",
   "name": "python3"
  },
  "language_info": {
   "codemirror_mode": {
    "name": "ipython",
    "version": 3
   },
   "file_extension": ".py",
   "mimetype": "text/x-python",
   "name": "python",
   "nbconvert_exporter": "python",
   "pygments_lexer": "ipython3",
   "version": "3.9.12"
  },
  "vscode": {
   "interpreter": {
    "hash": "c29592dfe26c3b69cf4809b17a35da08b0c469cf0923c77f8f51a7709655b5af"
   }
  }
 },
 "nbformat": 4,
 "nbformat_minor": 5
}
